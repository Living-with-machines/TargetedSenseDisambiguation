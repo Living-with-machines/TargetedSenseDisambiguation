{
 "metadata": {
  "language_info": {
   "codemirror_mode": {
    "name": "ipython",
    "version": 3
   },
   "file_extension": ".py",
   "mimetype": "text/x-python",
   "name": "python",
   "nbconvert_exporter": "python",
   "pygments_lexer": "ipython3",
   "version": "3.7.5-final"
  },
  "orig_nbformat": 2,
  "kernelspec": {
   "name": "python3",
   "display_name": "Python 3",
   "language": "python"
  }
 },
 "nbformat": 4,
 "nbformat_minor": 2,
 "cells": [
  {
   "cell_type": "code",
   "execution_count": 2,
   "metadata": {},
   "outputs": [],
   "source": [
    "%load_ext autoreload\n",
    "%autoreload 2"
   ]
  },
  {
   "cell_type": "code",
   "execution_count": 3,
   "metadata": {},
   "outputs": [],
   "source": [
    "%matplotlib inline\n",
    "import pickle\n",
    "import pandas as pd\n",
    "from tasks import wsd\n",
    "from pathlib import Path\n",
    "from tasks import wsd\n",
    "from utils import nlp_tools\n",
    "from tqdm.auto import tqdm\n",
    "import numpy as np\n",
    "import json\n",
    "from sklearn.metrics import classification_report\n",
    "from flair.embeddings import TransformerWordEmbeddings\n",
    "from utils.dataset_download import harvest_data_from_extended_senses\n",
    "from utils.classificaton_utils import binarize, vectorize_target_expressions,cosine_similiarity,eval_lemma"
   ]
  },
  {
   "cell_type": "code",
   "execution_count": 4,
   "metadata": {},
   "outputs": [],
   "source": [
    "tqdm.pandas()"
   ]
  },
  {
   "cell_type": "code",
   "execution_count": 61,
   "metadata": {},
   "outputs": [],
   "source": [
    "lemma = 'machine'\n",
    "pos = 'NN'\n",
    "senses = {'machine_nn01-38475772'} # machine_nn01-38475772 machine_nn01-38475923 machine_nn01-38475835 machine_nn01-38474140\n",
    "relations = ['seed','synonym'] # ,'descendant','sibling'\n",
    "eval_mode = \"lemma_etal\" # lemma or lemma_etal\n",
    "    "
   ]
  },
  {
   "cell_type": "code",
   "execution_count": 62,
   "metadata": {},
   "outputs": [
    {
     "output_type": "stream",
     "name": "stdout",
     "text": [
      "# senses before filtering by date = 517\n",
      "# senses after filtering by date = 386\n",
      "\n",
      "\n",
      "# of seed senses 25 \n",
      "# of synonyms 338 \n",
      "# of branch senses 0\n",
      "\n",
      "\n",
      "# of seeds selected 1 \n",
      "# of synonyms selected 4 \n",
      "# of branches selected 0\n",
      "[LOG] #rows before removing None vector (146, 25)\n",
      "[LOG] #rows after removing None vector (144, 25)\n"
     ]
    }
   ],
   "source": [
    "df_train, df_val, df_test = binarize(lemma,\n",
    "                        pos,\n",
    "                        senses, \n",
    "                        relations,\n",
    "                        strict_filter=True,\n",
    "                        start=1760,\n",
    "                        end=1950,\n",
    "                        eval_mode=eval_mode)"
   ]
  },
  {
   "cell_type": "code",
   "execution_count": 8,
   "metadata": {},
   "outputs": [],
   "source": [
    "def weighted(df,year,vector_col,level='label'):\n",
    "    # 1 over the distance in years\n",
    "    df['temp_dist'] = (1 / (abs(year - df.year) + 1))\n",
    "    # normalize, so weights add up to one\n",
    "    df['temp_dist'] = df['temp_dist'] / sum(df['temp_dist'])\n",
    "    # time weighted vector (tw_vector) is the product of the vector and the weight\n",
    "    df['tw_vector'] = df[vector_col] * df['temp_dist']\n",
    "    # sum vectors by label (sum or mean??)\n",
    "    \n",
    "    if level == 'label':\n",
    "        return df.groupby(level)['tw_vector'].apply(np.sum,axis=0)\n",
    "    \n",
    "    elif level == 'sense_id':\n",
    "        return df.groupby(level)['tw_vector'].apply(np.sum,axis=0)        \n",
    "\n"
   ]
  },
  {
   "cell_type": "code",
   "execution_count": 15,
   "metadata": {},
   "outputs": [
    {
     "output_type": "execute_result",
     "data": {
      "text/plain": [
       "label\n",
       "0    [0.19873405, 0.33055484, -0.18412821, 0.391625...\n",
       "1    [0.00081474637, 0.0023800377, -0.002455221, 0....\n",
       "Name: tw_vector, dtype: object"
      ]
     },
     "metadata": {},
     "execution_count": 15
    }
   ],
   "source": [
    "weighted(df_train,1850,'vector_bert_base_-1,-2,-3,-4_mean','label')"
   ]
  },
  {
   "cell_type": "code",
   "execution_count": 16,
   "metadata": {},
   "outputs": [
    {
     "output_type": "execute_result",
     "data": {
      "text/plain": [
       "sense_id\n",
       "machine_nn01-38473945          [0.0012086951, 0.0006755147, -0.0025742562, 0....\n",
       "machine_nn01-38474140          [0.00028779765, 0.0024441564, -0.0020951321, 0...\n",
       "machine_nn01-38474233          [0.004874398, 0.00847157, -0.009767573, 0.0254...\n",
       "machine_nn01-38474301          [-0.017662784, -0.010246061, 0.0058125993, 0.0...\n",
       "machine_nn01-38474405          [0.0025907808, 0.003990819, 4.2261916e-05, 0.0...\n",
       "machine_nn01-38474548          [-0.001017001, 0.0008860223, -0.00012323465, 0...\n",
       "machine_nn01-38474607          [0.07086671, 0.14310484, -0.04483474, 0.098333...\n",
       "machine_nn01-38474820          [0.004210249, 0.0030376466, -0.021875927, 0.00...\n",
       "machine_nn01-38474877          [0.0071569914, -0.0017221039, -0.0069627096, 0...\n",
       "machine_nn01-38474974          [0.008037301, 0.009152525, -0.022800643, 0.006...\n",
       "machine_nn01-38475013          [0.002835615, 0.0025166515, -0.0027480246, 0.0...\n",
       "machine_nn01-38475046          [0.0019872468, 0.0064697377, -0.0010599229, 0....\n",
       "machine_nn01-38475099          [0.0068977657, 0.003182521, -0.0037514973, 0.0...\n",
       "machine_nn01-38475164          [0.027643122, 0.069827996, -0.054270238, 0.097...\n",
       "machine_nn01-38475286          [0.0034422225, 0.012620323, -0.0005367618, 0.0...\n",
       "machine_nn01-38475494          [0.034965307, 0.026408514, 0.0009148279, 0.009...\n",
       "machine_nn01-38475772          [0.0024442514, 0.00033936676, 0.0022952228, 0....\n",
       "machine_nn01-38475835          [0.0011757913, 0.0010350664, -0.0013301508, 0....\n",
       "machine_nn01-38475994          [-0.0048596086, 0.0075930166, 0.0025636693, 0....\n",
       "machine_nn01-38476096          [0.035414707, 0.03401762, -0.005350614, 0.0438...\n",
       "machine_nn01-38476316          [0.007755303, 0.010511732, -0.015779201, 0.008...\n",
       "machine_nn01-38476397          [-0.00044086901, -0.0042423867, -0.00093600224...\n",
       "machine_nn01-38476566          [9.584102e-05, 0.0015148045, -0.0002903135, 0....\n",
       "turingmachine_nn01-17499756    [-0.00036104492, 0.0013449712, -0.0011250703, ...\n",
       "Name: tw_vector, dtype: object"
      ]
     },
     "metadata": {},
     "execution_count": 16
    }
   ],
   "source": [
    "weighted(df_train,1850,'vector_bert_base_-1,-2,-3,-4_mean','sense_id')"
   ]
  },
  {
   "cell_type": "code",
   "execution_count": 36,
   "metadata": {},
   "outputs": [],
   "source": [
    "def nearest(df,year,vector_col,level='label'):\n",
    "    # this methods obtains the quotation closest in time for each sense of a lemma. \n",
    "    # get idx of quotations nearest in time for each sense\n",
    "    df['temp_dist'] = abs(df.year - year)\n",
    "    quots_nn_time_idx = df.groupby(level)['temp_dist'].idxmin().values\n",
    "    # get the quotations and the sense idx\n",
    "    if level == 'label':\n",
    "        return df.loc[quots_nn_time_idx][['label',vector_col]].set_index('label',inplace=False)[vector_col]\n",
    "\n",
    "    elif level == 'sense_id':\n",
    "        return df.loc[quots_nn_time_idx][['sense_id',vector_col]].set_index('sense_id',inplace=False)[vector_col]\n",
    "\n"
   ]
  },
  {
   "cell_type": "code",
   "execution_count": 51,
   "metadata": {},
   "outputs": [],
   "source": [
    "# wsd functions\n",
    "\n",
    "def bert_ts_binary_centroid_vector(row:pd.Series,\n",
    "                            df_train:pd.DataFrame,\n",
    "                            ts_method:str='weighted',\n",
    "                            return_ranking:bool=False,\n",
    "                            vector_col:str='vector_bert_base_-1,-2,-3,-4_mean') -> str:\n",
    "\n",
    "    vector, year = row[vector_col],row.year     \n",
    "    \n",
    "    ts_methods = ['weighted','nearest']\n",
    "    assert ts_method in ts_methods, f'ts_method should be one of the following options {ts_methods}'\n",
    "\n",
    "    if ts_method=='weighted':\n",
    "        centroid_vectors = weighted(df_train,year,vector_col)\n",
    "    elif ts_method=='nearest':\n",
    "        centroid_vectors = nearest(df_train,year,vector_col)#.set_index('sense_id', inplace=False)[vector_col]\n",
    "\n",
    "    #print(len(vector),centroid_vectors.shape) \n",
    "    sims = centroid_vectors.apply(cosine_similiarity, target = vector)\n",
    "    \n",
    "    if return_ranking:\n",
    "        return sims.to_dict()\n",
    "    return str(np.argmax(sims))"
   ]
  },
  {
   "cell_type": "code",
   "execution_count": 63,
   "metadata": {},
   "outputs": [
    {
     "output_type": "display_data",
     "data": {
      "text/plain": "HBox(children=(FloatProgress(value=0.0, max=29.0), HTML(value='')))",
      "application/vnd.jupyter.widget-view+json": {
       "version_major": 2,
       "version_minor": 0,
       "model_id": "5f6d7f19ebb64e70ac74d6f698795f94"
      }
     },
     "metadata": {}
    },
    {
     "output_type": "stream",
     "name": "stdout",
     "text": [
      "\n"
     ]
    },
    {
     "output_type": "execute_result",
     "data": {
      "text/plain": [
       "52     0\n",
       "15     0\n",
       "75     0\n",
       "112    0\n",
       "53     0\n",
       "140    1\n",
       "61     0\n",
       "87     1\n",
       "2      0\n",
       "116    0\n",
       "38     1\n",
       "93     0\n",
       "88     0\n",
       "114    0\n",
       "122    1\n",
       "72     0\n",
       "83     0\n",
       "121    1\n",
       "30     0\n",
       "104    1\n",
       "103    0\n",
       "100    0\n",
       "120    1\n",
       "143    0\n",
       "21     0\n",
       "22     0\n",
       "3      0\n",
       "102    0\n",
       "24     0\n",
       "dtype: object"
      ]
     },
     "metadata": {},
     "execution_count": 63
    }
   ],
   "source": [
    "df_test.progress_apply(bert_ts_binary_centroid_vector, \n",
    "                                df_train=df_train, \n",
    "                                return_ranking=False, \n",
    "                                ts_method='nearest',\n",
    "                                axis=1)"
   ]
  },
  {
   "cell_type": "code",
   "execution_count": 49,
   "metadata": {},
   "outputs": [],
   "source": [
    "def bert_ts_sense_centroid_vector(row:pd.Series,\n",
    "                                df_train:pd.DataFrame,\n",
    "                                senseid2label:dict,\n",
    "                                ts_method:str='nearest',\n",
    "                                return_ranking:bool=False,\n",
    "                                vector_col:str='vector_bert_base_-1,-2,-3,-4_mean') -> str:\n",
    "\n",
    "    \n",
    "    # what if the lemma only has one sense, include exception here\n",
    "    df_train_lemma = df_train[df_train.lemma==row.lemma]\n",
    "\n",
    "    ts_methods = ['nearest','weighted']\n",
    "    assert ts_method in ts_methods, f'ts_method should be one of the following options {ts_methods}'\n",
    "\n",
    "    if ts_method=='weighted':\n",
    "        centroid_vectors = weighted(df_train_lemma,row.year,vector_col,level='sense_id')\n",
    "    elif ts_method=='nearest':\n",
    "        centroid_vectors = nearest(df_train_lemma,row.year,vector_col,level='sense_id')#.set_index('sense_id', inplace=False)\n",
    "\n",
    "    #centroid_vectors\n",
    "    sims = centroid_vectors.apply(\n",
    "                    cosine_similiarity, target = row[vector_col]\n",
    "                        ).to_dict()\n",
    "    if return_ranking:\n",
    "        return sims\n",
    "    \n",
    "    # there was a KeyError here, avoided it with `.get()` but check later what happened\n",
    "    # return label as '0' or '1'\n",
    "    return senseid2label.get(\n",
    "            sorted(\n",
    "                sims.items(),\n",
    "                        key=lambda x: x[1], reverse=True)[0][0],'0'\n",
    "                        )"
   ]
  },
  {
   "cell_type": "code",
   "execution_count": 64,
   "metadata": {},
   "outputs": [
    {
     "output_type": "display_data",
     "data": {
      "text/plain": "HBox(children=(FloatProgress(value=0.0, max=29.0), HTML(value='')))",
      "application/vnd.jupyter.widget-view+json": {
       "version_major": 2,
       "version_minor": 0,
       "model_id": "9734c425f9de4dae9f33b016bb276404"
      }
     },
     "metadata": {}
    },
    {
     "output_type": "stream",
     "name": "stdout",
     "text": [
      "\n"
     ]
    },
    {
     "output_type": "execute_result",
     "data": {
      "text/plain": [
       "52     0\n",
       "15     0\n",
       "75     0\n",
       "112    0\n",
       "53     0\n",
       "140    0\n",
       "61     0\n",
       "87     0\n",
       "2      0\n",
       "116    0\n",
       "38     0\n",
       "93     0\n",
       "88     0\n",
       "114    0\n",
       "122    1\n",
       "72     0\n",
       "83     0\n",
       "121    1\n",
       "30     0\n",
       "104    0\n",
       "103    0\n",
       "100    0\n",
       "120    1\n",
       "143    1\n",
       "21     0\n",
       "22     0\n",
       "3      0\n",
       "102    0\n",
       "24     0\n",
       "dtype: object"
      ]
     },
     "metadata": {},
     "execution_count": 64
    }
   ],
   "source": [
    "senseid2label = dict(df_test[['sense_id','label']].values)\n",
    "\n",
    "df_test.progress_apply(bert_ts_sense_centroid_vector, \n",
    "                                df_train=df_train, \n",
    "                                senseid2label=senseid2label,\n",
    "                                return_ranking=False, \n",
    "                                ts_method='weighted',\n",
    "                                axis=1)"
   ]
  },
  {
   "cell_type": "code",
   "execution_count": 60,
   "metadata": {},
   "outputs": [
    {
     "output_type": "execute_result",
     "data": {
      "text/plain": [
       "0     0\n",
       "1     0\n",
       "2     0\n",
       "3     0\n",
       "4     0\n",
       "     ..\n",
       "71    1\n",
       "72    0\n",
       "73    0\n",
       "74    0\n",
       "75    0\n",
       "Name: label, Length: 76, dtype: object"
      ]
     },
     "metadata": {},
     "execution_count": 60
    }
   ],
   "source": [
    "df_train.label"
   ]
  },
  {
   "cell_type": "code",
   "execution_count": null,
   "metadata": {},
   "outputs": [],
   "source": []
  }
 ]
}