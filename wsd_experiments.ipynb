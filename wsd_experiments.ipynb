{
 "cells": [
  {
   "cell_type": "code",
   "execution_count": 1,
   "metadata": {},
   "outputs": [],
   "source": [
    "%load_ext autoreload"
   ]
  },
  {
   "cell_type": "code",
   "execution_count": 2,
   "metadata": {},
   "outputs": [],
   "source": [
    "%autoreload 2"
   ]
  },
  {
   "source": [
    "import pickle\n",
    "import pandas as pd\n",
    "from tasks import wsd\n",
    "from utils import nlp_tools\n",
    "from utils.classificaton_utils import binarize\n",
    "from tqdm.auto import tqdm\n",
    "from gensim.models import Word2Vec\n",
    "from sentence_transformers import SentenceTransformer\n",
    "\n",
    "tqdm.pandas()\n",
    "\n",
    "lemma_id = 'machine_nn01'\n",
    "senses = {'machine_nn01-38475835','machine_nn01-38475923'}\n",
    "relations = ['seed','synonym','descendant','sibling']\n",
    "\n",
    "# whether we use only information on the lemma for the predictive model (e.g. only the lemma senses definitions for lesk baselines)\n",
    "eval_mode = \"lemma\" # or lemma_etal\n",
    "\n",
    "df_quotations = binarize(lemma_id, \n",
    "                        senses, \n",
    "                        relations,\n",
    "                        strict_filter=True,\n",
    "                        start=1700,\n",
    "                        end=1910)"
   ],
   "cell_type": "code",
   "metadata": {},
   "execution_count": 3,
   "outputs": [
    {
     "output_type": "stream",
     "name": "stdout",
     "text": [
      "# senses before filtering by date = 8383\n",
      "# senses after filtering by date = 5904\n",
      "\n",
      "\n",
      "# of seed senses 23 \n",
      "# of synonyms 312 \n",
      "# of branch senses 4968\n",
      "\n",
      "\n",
      "# of seeds selected 1 \n",
      "# of synonyms selected 8 \n",
      "# of branches selected 5\n"
     ]
    }
   ]
  },
  {
   "cell_type": "code",
   "execution_count": 4,
   "metadata": {},
   "outputs": [
    {
     "output_type": "execute_result",
     "data": {
      "text/plain": [
       "                  id_x                                               text  \\\n",
       "0  mover_nn01-35820849  {'keyword': 'mover', 'full_text': 'Providence,...   \n",
       "1  mover_nn01-35820717  {'keyword': 'first Mover', 'full_text': 'The M...   \n",
       "2  mover_nn01-35820860  {'keyword': 'mover', 'full_text': 'They will w...   \n",
       "3  mover_nn01-35821031  {'keyword': 'Movers', 'full_text': 'Nor is the...   \n",
       "4  mover_nn01-35821108  {'keyword': 'Mover', 'full_text': 'Therefore w...   \n",
       "\n",
       "   year  lemma                                             source  \\\n",
       "0  1704  mover  {'title': '15th Rep. Royal Comm. Hist. MSS', '...   \n",
       "1  1711  mover  {'title': 'Ship-builders Assistant', 'author':...   \n",
       "2  1711  mover  {'title': 'Jrnl. to Stella', 'author': 'J. Swi...   \n",
       "3  1736  mover  {'title': 'Analogy of Relig.', 'author': 'Bp. ...   \n",
       "4  1737  mover  {'title': 'Gentleman's Mag.', 'author': None, ...   \n",
       "\n",
       "                                             oed_url     word_id  \\\n",
       "0  https://www.oed.com/view/Entry/123034#eid35820849  mover_nn01   \n",
       "1  https://www.oed.com/view/Entry/123034#eid35820717  mover_nn01   \n",
       "2  https://www.oed.com/view/Entry/123034#eid35820860  mover_nn01   \n",
       "3  https://www.oed.com/view/Entry/123034#eid35821031  mover_nn01   \n",
       "4  https://www.oed.com/view/Entry/123034#eid35821108  mover_nn01   \n",
       "\n",
       "              sense_id datestring  first_in_word  ... label  \\\n",
       "0  mover_nn01-35820773       1704          False  ...     0   \n",
       "1  mover_nn01-35820685       1711          False  ...     1   \n",
       "2  mover_nn01-35820773       1711          False  ...     0   \n",
       "3  mover_nn01-35821002       1736          False  ...     0   \n",
       "4  mover_nn01-35821082       1737          False  ...     0   \n",
       "\n",
       "                  id_y                                          daterange  \\\n",
       "0                  NaN                                                NaN   \n",
       "1  mover_nn01-35820685  {'end': None, 'start': 1626, 'obsolete': False...   \n",
       "2                  NaN                                                NaN   \n",
       "3                  NaN                                                NaN   \n",
       "4                  NaN                                                NaN   \n",
       "\n",
       "                                          definition  \\\n",
       "0                                                NaN   \n",
       "1  More fully first mover. An initial source (nat...   \n",
       "2                                                NaN   \n",
       "3                                                NaN   \n",
       "4                                                NaN   \n",
       "\n",
       "                                          provenance provenance_type  \\\n",
       "0                                                NaN             NaN   \n",
       "1  [[mover_nn01-35820685, synonym, machine_nn01-3...         synonym   \n",
       "2                                                NaN             NaN   \n",
       "3                                                NaN             NaN   \n",
       "4                                                NaN             NaN   \n",
       "\n",
       "                             relation_to_core_senses  relation_to_seed_senses  \\\n",
       "0                                                NaN                      NaN   \n",
       "1  {primemover_nn01-28348676, primummobile_nn01-2...  {machine_nn01-38475923}   \n",
       "2                                                NaN                      NaN   \n",
       "3                                                NaN                      NaN   \n",
       "4                                                NaN                      NaN   \n",
       "\n",
       "                                           full_text  \\\n",
       "0  Providence, which I humbly recognize as the fi...   \n",
       "1                  The Main-mast is the first Mover.   \n",
       "2  They will want him prodigiously in the House o...   \n",
       "3  Nor is there any Ground to think..that his Eye...   \n",
       "4  Therefore we must suppose, that without any Re...   \n",
       "\n",
       "                                       nlp_full_text  \n",
       "0  (Providence, ,, which, I, humbly, recognize, a...  \n",
       "1     (The, Main, -, mast, is, the, first, Mover, .)  \n",
       "2  (They, will, want, him, prodigiously, in, the,...  \n",
       "3  (Nor, is, there, any, Ground, to, think, .., t...  \n",
       "4  (Therefore, we, must, suppose, ,, that, withou...  \n",
       "\n",
       "[5 rows x 22 columns]"
      ],
      "text/html": "<div>\n<style scoped>\n    .dataframe tbody tr th:only-of-type {\n        vertical-align: middle;\n    }\n\n    .dataframe tbody tr th {\n        vertical-align: top;\n    }\n\n    .dataframe thead th {\n        text-align: right;\n    }\n</style>\n<table border=\"1\" class=\"dataframe\">\n  <thead>\n    <tr style=\"text-align: right;\">\n      <th></th>\n      <th>id_x</th>\n      <th>text</th>\n      <th>year</th>\n      <th>lemma</th>\n      <th>source</th>\n      <th>oed_url</th>\n      <th>word_id</th>\n      <th>sense_id</th>\n      <th>datestring</th>\n      <th>first_in_word</th>\n      <th>...</th>\n      <th>label</th>\n      <th>id_y</th>\n      <th>daterange</th>\n      <th>definition</th>\n      <th>provenance</th>\n      <th>provenance_type</th>\n      <th>relation_to_core_senses</th>\n      <th>relation_to_seed_senses</th>\n      <th>full_text</th>\n      <th>nlp_full_text</th>\n    </tr>\n  </thead>\n  <tbody>\n    <tr>\n      <td>0</td>\n      <td>mover_nn01-35820849</td>\n      <td>{'keyword': 'mover', 'full_text': 'Providence,...</td>\n      <td>1704</td>\n      <td>mover</td>\n      <td>{'title': '15th Rep. Royal Comm. Hist. MSS', '...</td>\n      <td>https://www.oed.com/view/Entry/123034#eid35820849</td>\n      <td>mover_nn01</td>\n      <td>mover_nn01-35820773</td>\n      <td>1704</td>\n      <td>False</td>\n      <td>...</td>\n      <td>0</td>\n      <td>NaN</td>\n      <td>NaN</td>\n      <td>NaN</td>\n      <td>NaN</td>\n      <td>NaN</td>\n      <td>NaN</td>\n      <td>NaN</td>\n      <td>Providence, which I humbly recognize as the fi...</td>\n      <td>(Providence, ,, which, I, humbly, recognize, a...</td>\n    </tr>\n    <tr>\n      <td>1</td>\n      <td>mover_nn01-35820717</td>\n      <td>{'keyword': 'first Mover', 'full_text': 'The M...</td>\n      <td>1711</td>\n      <td>mover</td>\n      <td>{'title': 'Ship-builders Assistant', 'author':...</td>\n      <td>https://www.oed.com/view/Entry/123034#eid35820717</td>\n      <td>mover_nn01</td>\n      <td>mover_nn01-35820685</td>\n      <td>1711</td>\n      <td>False</td>\n      <td>...</td>\n      <td>1</td>\n      <td>mover_nn01-35820685</td>\n      <td>{'end': None, 'start': 1626, 'obsolete': False...</td>\n      <td>More fully first mover. An initial source (nat...</td>\n      <td>[[mover_nn01-35820685, synonym, machine_nn01-3...</td>\n      <td>synonym</td>\n      <td>{primemover_nn01-28348676, primummobile_nn01-2...</td>\n      <td>{machine_nn01-38475923}</td>\n      <td>The Main-mast is the first Mover.</td>\n      <td>(The, Main, -, mast, is, the, first, Mover, .)</td>\n    </tr>\n    <tr>\n      <td>2</td>\n      <td>mover_nn01-35820860</td>\n      <td>{'keyword': 'mover', 'full_text': 'They will w...</td>\n      <td>1711</td>\n      <td>mover</td>\n      <td>{'title': 'Jrnl. to Stella', 'author': 'J. Swi...</td>\n      <td>https://www.oed.com/view/Entry/123034#eid35820860</td>\n      <td>mover_nn01</td>\n      <td>mover_nn01-35820773</td>\n      <td>1711</td>\n      <td>False</td>\n      <td>...</td>\n      <td>0</td>\n      <td>NaN</td>\n      <td>NaN</td>\n      <td>NaN</td>\n      <td>NaN</td>\n      <td>NaN</td>\n      <td>NaN</td>\n      <td>NaN</td>\n      <td>They will want him prodigiously in the House o...</td>\n      <td>(They, will, want, him, prodigiously, in, the,...</td>\n    </tr>\n    <tr>\n      <td>3</td>\n      <td>mover_nn01-35821031</td>\n      <td>{'keyword': 'Movers', 'full_text': 'Nor is the...</td>\n      <td>1736</td>\n      <td>mover</td>\n      <td>{'title': 'Analogy of Relig.', 'author': 'Bp. ...</td>\n      <td>https://www.oed.com/view/Entry/123034#eid35821031</td>\n      <td>mover_nn01</td>\n      <td>mover_nn01-35821002</td>\n      <td>1736</td>\n      <td>False</td>\n      <td>...</td>\n      <td>0</td>\n      <td>NaN</td>\n      <td>NaN</td>\n      <td>NaN</td>\n      <td>NaN</td>\n      <td>NaN</td>\n      <td>NaN</td>\n      <td>NaN</td>\n      <td>Nor is there any Ground to think..that his Eye...</td>\n      <td>(Nor, is, there, any, Ground, to, think, .., t...</td>\n    </tr>\n    <tr>\n      <td>4</td>\n      <td>mover_nn01-35821108</td>\n      <td>{'keyword': 'Mover', 'full_text': 'Therefore w...</td>\n      <td>1737</td>\n      <td>mover</td>\n      <td>{'title': 'Gentleman's Mag.', 'author': None, ...</td>\n      <td>https://www.oed.com/view/Entry/123034#eid35821108</td>\n      <td>mover_nn01</td>\n      <td>mover_nn01-35821082</td>\n      <td>1737</td>\n      <td>False</td>\n      <td>...</td>\n      <td>0</td>\n      <td>NaN</td>\n      <td>NaN</td>\n      <td>NaN</td>\n      <td>NaN</td>\n      <td>NaN</td>\n      <td>NaN</td>\n      <td>NaN</td>\n      <td>Therefore we must suppose, that without any Re...</td>\n      <td>(Therefore, we, must, suppose, ,, that, withou...</td>\n    </tr>\n  </tbody>\n</table>\n<p>5 rows × 22 columns</p>\n</div>"
     },
     "metadata": {},
     "execution_count": 4
    }
   ],
   "source": [
    "df_quotations[\"full_text\"] = df_quotations.apply (lambda row: row[\"text\"][\"full_text\"], axis=1)\n",
    "df_quotations[\"nlp_full_text\"] = df_quotations.apply (lambda row: nlp_tools.preprocess(row[\"full_text\"]), axis=1)\n",
    "df_quotations.drop_duplicates(subset = [\"year\", \"lemma\", \"word_id\", \"sense_id\", \"definition\", \"full_text\"], inplace = True)\n",
    "df_quotations = df_quotations.reset_index(drop=True)\n",
    "df_quotations.head()"
   ]
  },
  {
   "cell_type": "code",
   "execution_count": 5,
   "metadata": {},
   "outputs": [
    {
     "output_type": "execute_result",
     "data": {
      "text/plain": [
       "                      id    lemma      lemma_id  \\\n",
       "0  machine_nn01-38474548  machine  machine_nn01   \n",
       "1  machine_nn01-38475923  machine  machine_nn01   \n",
       "2  machine_nn01-38474607  machine  machine_nn01   \n",
       "3  machine_nn01-38474405  machine  machine_nn01   \n",
       "4  machine_nn01-38475164  machine  machine_nn01   \n",
       "\n",
       "                                          definition label  \\\n",
       "0    A ship or other vessel. Now colloquial: a boat.     0   \n",
       "1  Mechanics. Anything that transmits force or di...     1   \n",
       "2  A (usually wheeled) vehicle or conveyance, esp...     0   \n",
       "3  In literature, etc.: a contrivance for the sak...     0   \n",
       "4  In general use: an apparatus, device, instrume...     0   \n",
       "\n",
       "                                      nlp_definition  \n",
       "0  (A, ship, or, other, vessel, ., Now, colloquia...  \n",
       "1  (Mechanics, ., Anything, that, transmits, forc...  \n",
       "2  (A, (, usually, wheeled, ), vehicle, or, conve...  \n",
       "3  (In, literature, ,, etc, ., :, a, contrivance,...  \n",
       "4  (In, general, use, :, an, apparatus, ,, device...  "
      ],
      "text/html": "<div>\n<style scoped>\n    .dataframe tbody tr th:only-of-type {\n        vertical-align: middle;\n    }\n\n    .dataframe tbody tr th {\n        vertical-align: top;\n    }\n\n    .dataframe thead th {\n        text-align: right;\n    }\n</style>\n<table border=\"1\" class=\"dataframe\">\n  <thead>\n    <tr style=\"text-align: right;\">\n      <th></th>\n      <th>id</th>\n      <th>lemma</th>\n      <th>lemma_id</th>\n      <th>definition</th>\n      <th>label</th>\n      <th>nlp_definition</th>\n    </tr>\n  </thead>\n  <tbody>\n    <tr>\n      <td>0</td>\n      <td>machine_nn01-38474548</td>\n      <td>machine</td>\n      <td>machine_nn01</td>\n      <td>A ship or other vessel. Now colloquial: a boat.</td>\n      <td>0</td>\n      <td>(A, ship, or, other, vessel, ., Now, colloquia...</td>\n    </tr>\n    <tr>\n      <td>1</td>\n      <td>machine_nn01-38475923</td>\n      <td>machine</td>\n      <td>machine_nn01</td>\n      <td>Mechanics. Anything that transmits force or di...</td>\n      <td>1</td>\n      <td>(Mechanics, ., Anything, that, transmits, forc...</td>\n    </tr>\n    <tr>\n      <td>2</td>\n      <td>machine_nn01-38474607</td>\n      <td>machine</td>\n      <td>machine_nn01</td>\n      <td>A (usually wheeled) vehicle or conveyance, esp...</td>\n      <td>0</td>\n      <td>(A, (, usually, wheeled, ), vehicle, or, conve...</td>\n    </tr>\n    <tr>\n      <td>3</td>\n      <td>machine_nn01-38474405</td>\n      <td>machine</td>\n      <td>machine_nn01</td>\n      <td>In literature, etc.: a contrivance for the sak...</td>\n      <td>0</td>\n      <td>(In, literature, ,, etc, ., :, a, contrivance,...</td>\n    </tr>\n    <tr>\n      <td>4</td>\n      <td>machine_nn01-38475164</td>\n      <td>machine</td>\n      <td>machine_nn01</td>\n      <td>In general use: an apparatus, device, instrume...</td>\n      <td>0</td>\n      <td>(In, general, use, :, an, apparatus, ,, device...</td>\n    </tr>\n  </tbody>\n</table>\n</div>"
     },
     "metadata": {},
     "execution_count": 5
    }
   ],
   "source": [
    "df_selected_senses = df_quotations[['sense_id','lemma','word_id','definition','label']]\n",
    "df_selected_senses = df_selected_senses.rename(columns={'sense_id': 'id','word_id':'lemma_id'})\n",
    "df_selected_senses.drop_duplicates(inplace = True)\n",
    "df_selected_senses = df_selected_senses.reset_index(drop=True)\n",
    "\n",
    "if eval_mode == \"lemma\":\n",
    "    df_selected_senses = df_selected_senses[df_selected_senses['lemma_id'] == lemma_id]\n",
    "    df_selected_senses = df_selected_senses.reset_index(drop=True)\n",
    "\n",
    "if eval_mode == \"lemma_etal\":\n",
    "    print (\"We are not covering this functionality yet.\")\n",
    "    # we need all definitions of all senses in the quotation dataframe\n",
    "\n",
    "df_selected_senses[\"nlp_definition\"] = df_selected_senses.apply (lambda row: nlp_tools.preprocess(row[\"definition\"]), axis=1)\n",
    "\n",
    "df_selected_senses.head()"
   ]
  },
  {
   "cell_type": "code",
   "execution_count": 6,
   "metadata": {
    "tags": []
   },
   "outputs": [
    {
     "output_type": "stream",
     "name": "stderr",
     "text": [
      "100%|██████████| 420/420 [00:00<00:00, 630.34it/s]\n"
     ]
    },
    {
     "output_type": "execute_result",
     "data": {
      "text/plain": [
       "{'1': [0.156, 0.231, 0.186], '0': [0.846, 0.772, 0.807]}"
      ]
     },
     "metadata": {},
     "execution_count": 6
    }
   ],
   "source": [
    "approach = \"random\"\n",
    "\n",
    "df_quotations[approach] = df_quotations.progress_apply (lambda row: wsd.random_predict(df_selected_senses), axis=1)\n",
    "\n",
    "wsd.eval(approach,df_quotations)"
   ]
  },
  {
   "cell_type": "code",
   "execution_count": 7,
   "metadata": {
    "tags": []
   },
   "outputs": [
    {
     "output_type": "stream",
     "name": "stderr",
     "text": [
      "100%|██████████| 420/420 [00:01<00:00, 406.30it/s]\n"
     ]
    },
    {
     "output_type": "execute_result",
     "data": {
      "text/plain": [
       "{'1': [0.5, 0.077, 0.133], '0': [0.854, 0.986, 0.915]}"
      ]
     },
     "metadata": {},
     "execution_count": 7
    }
   ],
   "source": [
    "# be careful: i am using the example sentence (row[\"text\"][\"full_text\"]) as the input sentence and then measure its word overlap with the definition (see function). if you instead want to use the example as training data, we need to split in train/test\n",
    "\n",
    "approach = \"def_tok_overlap_ranking\"\n",
    "\n",
    "df_quotations[approach] = df_quotations.progress_apply (lambda row: wsd.tok_overlap_ranking(row[\"nlp_full_text\"], df_selected_senses), axis=1)\n",
    "\n",
    "wsd.eval(approach,df_quotations)"
   ]
  },
  {
   "cell_type": "code",
   "execution_count": 8,
   "metadata": {},
   "outputs": [
    {
     "output_type": "stream",
     "name": "stderr",
     "text": [
      "100%|██████████| 420/420 [00:00<00:00, 422.59it/s]\n"
     ]
    },
    {
     "output_type": "execute_result",
     "data": {
      "text/plain": [
       "{'1': [0.0, 0.0, 0.0], '0': [0.845, 0.997, 0.915]}"
      ]
     },
     "metadata": {},
     "execution_count": 8
    }
   ],
   "source": [
    "approach = \"sent_embedding\"\n",
    "\n",
    "df_quotations[approach] = df_quotations.progress_apply (lambda row: wsd.sent_embedding(row[\"nlp_full_text\"], df_selected_senses), axis=1)\n",
    "\n",
    "wsd.eval(approach,df_quotations)"
   ]
  },
  {
   "cell_type": "code",
   "execution_count": 9,
   "metadata": {},
   "outputs": [
    {
     "output_type": "stream",
     "name": "stderr",
     "text": [
      "100%|██████████| 420/420 [00:25<00:00, 16.19it/s]\n"
     ]
    },
    {
     "output_type": "execute_result",
     "data": {
      "text/plain": [
       "{'1': [0.0, 0.0, 0.0], '0': [0.844, 0.992, 0.912]}"
      ]
     },
     "metadata": {},
     "execution_count": 9
    }
   ],
   "source": [
    "approach = \"w2v_lesk_ranking\"\n",
    "\n",
    "# Warning: I use a Word2vec model trained on all 19thC BL corpus that is locally stored.\n",
    "wemb_model = Word2Vec.load(\"models/w2v/w2v_v004/w2v_words.model\")\n",
    "df_quotations[approach] = df_quotations.progress_apply (lambda row: wsd.w2v_lesk_ranking(row[\"nlp_full_text\"], df_selected_senses, wemb_model), axis=1)\n",
    "\n",
    "wsd.eval(approach,df_quotations)"
   ]
  },
  {
   "cell_type": "code",
   "execution_count": 10,
   "metadata": {},
   "outputs": [
    {
     "output_type": "stream",
     "name": "stderr",
     "text": [
      "100%|██████████| 420/420 [14:21<00:00,  2.05s/it]\n"
     ]
    },
    {
     "output_type": "execute_result",
     "data": {
      "text/plain": [
       "{'1': [0.387, 0.185, 0.25], '0': [0.864, 0.946, 0.903]}"
      ]
     },
     "metadata": {},
     "execution_count": 10
    }
   ],
   "source": [
    "approach = \"bert_lesk_ranking\"\n",
    "\n",
    "# Download model from (warning: this is a contemporary model):\n",
    "# https://public.ukp.informatik.tu-darmstadt.de/reimers/sentence-transformers/v0.2/bert-base-nli-mean-tokens.zip\n",
    "bert_sentsim_model = SentenceTransformer('models/bert/bert-base-nli-mean-tokens')\n",
    "df_quotations[approach] = df_quotations.progress_apply (lambda row: wsd.bert_lesk_ranking(row[\"text\"][\"full_text\"], df_selected_senses, bert_sentsim_model), axis=1)\n",
    "\n",
    "wsd.eval(approach,df_quotations)"
   ]
  }
 ],
 "metadata": {
  "kernelspec": {
   "display_name": "py37torch",
   "language": "python",
   "name": "py37torch"
  }
 },
 "nbformat": 4,
 "nbformat_minor": 2
}