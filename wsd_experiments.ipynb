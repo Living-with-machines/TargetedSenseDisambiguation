{
 "metadata": {
  "language_info": {
   "codemirror_mode": {
    "name": "ipython",
    "version": 3
   },
   "file_extension": ".py",
   "mimetype": "text/x-python",
   "name": "python",
   "nbconvert_exporter": "python",
   "pygments_lexer": "ipython3",
   "version": "3.6.8-final"
  },
  "orig_nbformat": 2,
  "kernelspec": {
   "name": "Python 3.6.8 64-bit",
   "display_name": "Python 3.6.8 64-bit",
   "metadata": {
    "interpreter": {
     "hash": "f09a9a3cf3bd79d25a4395c787fbd19a608ae0d699219af2963c30c4da13dbef"
    }
   }
  }
 },
 "nbformat": 4,
 "nbformat_minor": 2,
 "cells": [
  {
   "cell_type": "code",
   "execution_count": 1,
   "metadata": {},
   "outputs": [],
   "source": [
    "import pickle\n",
    "import pandas as pd\n",
    "from tasks import wsd\n",
    "from tqdm.auto import tqdm\n",
    "from sklearn.metrics import precision_recall_fscore_support\n",
    "\n",
    "tqdm.pandas()\n",
    "\n",
    "with open(\"data/machine_nn01_all.pickle\", \"rb\") as f:\n",
    "    df = pickle.load(f)\n"
   ]
  },
  {
   "cell_type": "code",
   "execution_count": 2,
   "metadata": {
    "tags": []
   },
   "outputs": [
    {
     "output_type": "stream",
     "name": "stdout",
     "text": [
      "25\n"
     ]
    }
   ],
   "source": [
    "definition_df = df[['lemma','sense_id','definition']]\n",
    "definition_df = definition_df[definition_df.lemma==\"machine\"]\n",
    "definition_df.drop_duplicates(inplace = True)\n",
    "definition_df = definition_df.reset_index(drop=True)\n",
    "print (len(definition_df))"
   ]
  },
  {
   "cell_type": "code",
   "execution_count": 3,
   "metadata": {
    "tags": []
   },
   "outputs": [
    {
     "output_type": "stream",
     "name": "stderr",
     "text": [
      "100%|██████████| 805/805 [00:00<00:00, 21779.67it/s]\n",
      "\n",
      "0.03687705627705627 0.03893587627131846 0.026626987201730578 0.037267080745341616\n",
      "\n"
     ]
    }
   ],
   "source": [
    "\n",
    "machine_df = df[df.lemma==\"machine\"]\n",
    "\n",
    "machine_df[\"random_predict\"] = machine_df.progress_apply (lambda row: wsd.random_predict(definition_df), axis=1)\n",
    "\n",
    "p,r,f1 = precision_recall_fscore_support(machine_df[\"random_predict\"], machine_df[\"sense_id\"], average='macro')[:3]\n",
    "microf1 = precision_recall_fscore_support(machine_df[\"random_predict\"], machine_df[\"sense_id\"], average='micro')[2]\n",
    "print (\"\\n\")\n",
    "print (p,r,f1,microf1)"
   ]
  },
  {
   "cell_type": "code",
   "execution_count": 8,
   "metadata": {},
   "outputs": [
    {
     "output_type": "stream",
     "name": "stderr",
     "text": [
      "100%|██████████| 805/805 [03:56<00:00,  3.41it/s]\n",
      "\n",
      "0.05238961038961039 0.10687920466774681 0.042676041318076674 0.11304347826086956\n",
      "\n"
     ]
    }
   ],
   "source": [
    "# be careful: i am using the example sentence (row[\"text\"][\"full_text\"]) as the input sentence and then measure its word overlap with the definition (see function). if you instead want to use the example as training data, we need to split in train/test\n",
    "\n",
    "machine_df[\"def_tok_overlap_ranking\"] = machine_df.progress_apply (lambda row: wsd.tok_overlap_ranking(row[\"text\"][\"full_text\"], definition_df), axis=1)\n",
    "\n",
    "p,r,f1 = precision_recall_fscore_support(machine_df[\"def_tok_overlap_ranking\"], machine_df[\"sense_id\"], average='macro')[:3]\n",
    "microf1 = precision_recall_fscore_support(machine_df[\"def_tok_overlap_ranking\"], machine_df[\"sense_id\"], average='micro')[2]\n",
    "\n",
    "print (\"\\n\")\n",
    "print (p,r,f1,microf1)"
   ]
  }
 ]
}