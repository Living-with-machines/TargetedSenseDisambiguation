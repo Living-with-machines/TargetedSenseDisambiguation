{
 "metadata": {
  "language_info": {
   "codemirror_mode": {
    "name": "ipython",
    "version": 3
   },
   "file_extension": ".py",
   "mimetype": "text/x-python",
   "name": "python",
   "nbconvert_exporter": "python",
   "pygments_lexer": "ipython3",
   "version": "3.6.8-final"
  },
  "orig_nbformat": 2,
  "kernelspec": {
   "name": "Python 3.6.8 64-bit ('py37torch': conda)",
   "display_name": "Python 3.6.8 64-bit ('py37torch': conda)",
   "metadata": {
    "interpreter": {
     "hash": "f09a9a3cf3bd79d25a4395c787fbd19a608ae0d699219af2963c30c4da13dbef"
    }
   }
  }
 },
 "nbformat": 4,
 "nbformat_minor": 2,
 "cells": [
  {
   "cell_type": "code",
   "execution_count": 8,
   "metadata": {},
   "outputs": [],
   "source": [
    "import pickle\n",
    "import pandas as pd\n",
    "from tasks import wsd\n",
    "from sklearn.metrics import precision_recall_fscore_support\n",
    "\n",
    "with open(\"data/machine_nn01_all.pickle\", \"rb\") as f:\n",
    "    df = pickle.load(f)\n"
   ]
  },
  {
   "cell_type": "code",
   "execution_count": 9,
   "metadata": {
    "tags": []
   },
   "outputs": [
    {
     "output_type": "stream",
     "name": "stdout",
     "text": "25\n"
    }
   ],
   "source": [
    "definition_df = df[['lemma','sense_id','definition']]\n",
    "definition_df = definition_df[definition_df.lemma==\"machine\"]\n",
    "definition_df.drop_duplicates(inplace = True) \n",
    "print (len(definition_df))"
   ]
  },
  {
   "cell_type": "code",
   "execution_count": 10,
   "metadata": {
    "tags": []
   },
   "outputs": [
    {
     "output_type": "stream",
     "name": "stdout",
     "text": "0.027599134199134196 0.02966381731036903 0.01995566068445785 0.031055900621118012\n"
    }
   ],
   "source": [
    "machine_df = df[df.lemma==\"machine\"]\n",
    "\n",
    "machine_df[\"random\"] = machine_df.apply (lambda row: wsd.random_predict(definition_df), axis=1)\n",
    "\n",
    "p,r,f1 = precision_recall_fscore_support(machine_df[\"random\"], machine_df[\"sense_id\"], average='macro')[:3]\n",
    "microf1 = precision_recall_fscore_support(machine_df[\"random\"], machine_df[\"sense_id\"], average='micro')[2]\n",
    "print (p,r,f1,microf1)"
   ]
  },
  {
   "cell_type": "code",
   "execution_count": null,
   "metadata": {},
   "outputs": [],
   "source": []
  }
 ]
}