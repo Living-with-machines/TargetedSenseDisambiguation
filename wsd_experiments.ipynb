{
 "metadata": {
  "language_info": {
   "codemirror_mode": {
    "name": "ipython",
    "version": 3
   },
   "file_extension": ".py",
   "mimetype": "text/x-python",
   "name": "python",
   "nbconvert_exporter": "python",
   "pygments_lexer": "ipython3",
   "version": "3.6.8-final"
  },
  "orig_nbformat": 2,
  "kernelspec": {
   "name": "Python 3.6.8 64-bit ('py37torch': conda)",
   "display_name": "Python 3.6.8 64-bit ('py37torch': conda)",
   "metadata": {
    "interpreter": {
     "hash": "f09a9a3cf3bd79d25a4395c787fbd19a608ae0d699219af2963c30c4da13dbef"
    }
   }
  }
 },
 "nbformat": 4,
 "nbformat_minor": 2,
 "cells": [
  {
   "cell_type": "code",
   "execution_count": 1,
   "metadata": {},
   "outputs": [],
   "source": [
    "import pickle\n",
    "import pandas as pd\n",
    "from tasks import wsd\n",
    "from tqdm.auto import tqdm\n",
    "\n",
    "tqdm.pandas()\n",
    "\n",
    "with open(\"data/machine_nn01_all.pickle\", \"rb\") as f:\n",
    "    df = pickle.load(f)\n",
    "\n",
    "machine_df = df[df.lemma==\"machine\"]"
   ]
  },
  {
   "cell_type": "code",
   "execution_count": 2,
   "metadata": {
    "tags": []
   },
   "outputs": [
    {
     "output_type": "stream",
     "name": "stdout",
     "text": [
      "25\n"
     ]
    }
   ],
   "source": [
    "definition_df = df[['lemma','sense_id','definition']]\n",
    "definition_df = definition_df[definition_df.lemma==\"machine\"]\n",
    "definition_df.drop_duplicates(inplace = True)\n",
    "definition_df = definition_df.reset_index(drop=True)\n",
    "print (len(definition_df))"
   ]
  },
  {
   "cell_type": "code",
   "execution_count": 3,
   "metadata": {},
   "outputs": [
    {
     "output_type": "execute_result",
     "data": {
      "text/plain": [
       "     lemma               sense_id  \\\n",
       "0  machine  machine_nn01-38473945   \n",
       "1  machine  machine_nn01-38474233   \n",
       "2  machine  machine_nn01-38474097   \n",
       "3  machine  machine_nn01-38474140   \n",
       "4  machine  machine_nn01-38474301   \n",
       "\n",
       "                                          definition  \n",
       "0  A material or immaterial structure, esp. the f...  \n",
       "1  A military engine or siege-tower. Cf. war mach...  \n",
       "2                  spec. A scheme or plot. Obsolete.  \n",
       "3  A living body, esp. the human body considered ...  \n",
       "4  Theatre. A (usually movable) contrivance for t...  "
      ],
      "text/html": "<div>\n<style scoped>\n    .dataframe tbody tr th:only-of-type {\n        vertical-align: middle;\n    }\n\n    .dataframe tbody tr th {\n        vertical-align: top;\n    }\n\n    .dataframe thead th {\n        text-align: right;\n    }\n</style>\n<table border=\"1\" class=\"dataframe\">\n  <thead>\n    <tr style=\"text-align: right;\">\n      <th></th>\n      <th>lemma</th>\n      <th>sense_id</th>\n      <th>definition</th>\n    </tr>\n  </thead>\n  <tbody>\n    <tr>\n      <td>0</td>\n      <td>machine</td>\n      <td>machine_nn01-38473945</td>\n      <td>A material or immaterial structure, esp. the f...</td>\n    </tr>\n    <tr>\n      <td>1</td>\n      <td>machine</td>\n      <td>machine_nn01-38474233</td>\n      <td>A military engine or siege-tower. Cf. war mach...</td>\n    </tr>\n    <tr>\n      <td>2</td>\n      <td>machine</td>\n      <td>machine_nn01-38474097</td>\n      <td>spec. A scheme or plot. Obsolete.</td>\n    </tr>\n    <tr>\n      <td>3</td>\n      <td>machine</td>\n      <td>machine_nn01-38474140</td>\n      <td>A living body, esp. the human body considered ...</td>\n    </tr>\n    <tr>\n      <td>4</td>\n      <td>machine</td>\n      <td>machine_nn01-38474301</td>\n      <td>Theatre. A (usually movable) contrivance for t...</td>\n    </tr>\n  </tbody>\n</table>\n</div>"
     },
     "metadata": {},
     "execution_count": 3
    }
   ],
   "source": [
    "definition_df.head()"
   ]
  },
  {
   "cell_type": "code",
   "execution_count": 5,
   "metadata": {
    "tags": []
   },
   "outputs": [
    {
     "output_type": "stream",
     "name": "stderr",
     "text": [
      "100%|██████████| 805/805 [00:00<00:00, 19488.24it/s]\n"
     ]
    },
    {
     "output_type": "execute_result",
     "data": {
      "text/plain": [
       "(0.039, 0.031, 0.028)"
      ]
     },
     "metadata": {},
     "execution_count": 5
    }
   ],
   "source": [
    "approach = \"random_predict\"\n",
    "\n",
    "machine_df[approach] = machine_df.progress_apply (lambda row: wsd.random_predict(definition_df), axis=1)\n",
    "\n",
    "wsd.eval(machine_df[approach],machine_df[\"sense_id\"])"
   ]
  },
  {
   "cell_type": "code",
   "execution_count": 6,
   "metadata": {},
   "outputs": [
    {
     "output_type": "stream",
     "name": "stderr",
     "text": [
      "100%|██████████| 805/805 [04:08<00:00,  3.24it/s]\n"
     ]
    },
    {
     "output_type": "execute_result",
     "data": {
      "text/plain": [
       "(0.107, 0.052, 0.043)"
      ]
     },
     "metadata": {},
     "execution_count": 6
    }
   ],
   "source": [
    "# be careful: i am using the example sentence (row[\"text\"][\"full_text\"]) as the input sentence and then measure its word overlap with the definition (see function). if you instead want to use the example as training data, we need to split in train/test\n",
    "\n",
    "approach = \"def_tok_overlap_ranking\"\n",
    "\n",
    "machine_df[approach] = machine_df.progress_apply (lambda row: wsd.tok_overlap_ranking(row[\"text\"][\"full_text\"], definition_df), axis=1)\n",
    "\n",
    "wsd.eval(machine_df[approach],machine_df[\"sense_id\"])"
   ]
  },
  {
   "cell_type": "code",
   "execution_count": null,
   "metadata": {},
   "outputs": [],
   "source": []
  }
 ]
}