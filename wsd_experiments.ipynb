{
 "cells": [
  {
   "cell_type": "code",
   "execution_count": null,
   "metadata": {},
   "outputs": [],
   "source": [
    "import pickle\n",
    "import pandas as pd\n",
    "from tasks import wsd\n",
    "from utils import nlp_tools\n",
    "from tqdm.auto import tqdm\n",
    "from gensim.models import Word2Vec\n",
    "from sentence_transformers import SentenceTransformer\n",
    "\n",
    "tqdm.pandas()\n",
    "\n",
    "with open(\"data/machine_nn01_all.pickle\", \"rb\") as f:\n",
    "    df = pickle.load(f)"
   ]
  },
  {
   "cell_type": "code",
   "execution_count": null,
   "metadata": {
    "tags": []
   },
   "outputs": [],
   "source": [
    "definition_df = df[['lemma','sense_id','definition']]\n",
    "definition_df = definition_df[definition_df.lemma==\"machine\"]\n",
    "definition_df.drop_duplicates(inplace = True)\n",
    "definition_df = definition_df.reset_index(drop=True)\n",
    "definition_df[\"nlp_definition\"] = definition_df.apply (lambda row: nlp_tools.preprocess(row[\"definition\"]), axis=1)\n",
    "\n",
    "print (len(definition_df))"
   ]
  },
  {
   "cell_type": "code",
   "execution_count": null,
   "metadata": {},
   "outputs": [],
   "source": [
    "definition_df.head()"
   ]
  },
  {
   "cell_type": "code",
   "execution_count": null,
   "metadata": {},
   "outputs": [],
   "source": [
    "machine_df = df[df.lemma==\"machine\"]\n",
    "machine_df = machine_df.reset_index(drop=True)\n",
    "machine_df[\"nlp_full_text\"] = machine_df.apply (lambda row: nlp_tools.preprocess(row[\"text\"][\"full_text\"]), axis=1)\n",
    "machine_df.head()"
   ]
  },
  {
   "cell_type": "code",
   "execution_count": null,
   "metadata": {
    "tags": []
   },
   "outputs": [],
   "source": [
    "approach = \"random_predict\"\n",
    "\n",
    "machine_df[approach] = machine_df.progress_apply (lambda row: wsd.random_predict(definition_df), axis=1)\n",
    "\n",
    "wsd.eval(machine_df[approach],machine_df[\"sense_id\"])"
   ]
  },
  {
   "cell_type": "code",
   "execution_count": null,
   "metadata": {},
   "outputs": [],
   "source": [
    "# be careful: i am using the example sentence (row[\"text\"][\"full_text\"]) as the input sentence and then measure its word overlap with the definition (see function). if you instead want to use the example as training data, we need to split in train/test\n",
    "\n",
    "approach = \"def_tok_overlap_ranking\"\n",
    "\n",
    "machine_df[approach] = machine_df.progress_apply (lambda row: wsd.tok_overlap_ranking(row[\"nlp_full_text\"], definition_df), axis=1)\n",
    "\n",
    "wsd.eval(machine_df[approach],machine_df[\"sense_id\"])"
   ]
  },
  {
   "cell_type": "code",
   "execution_count": null,
   "metadata": {},
   "outputs": [],
   "source": [
    "approach = \"sent_embedding\"\n",
    "\n",
    "machine_df[approach] = machine_df.progress_apply (lambda row: wsd.sent_embedding(row[\"nlp_full_text\"], definition_df), axis=1)\n",
    "\n",
    "wsd.eval(machine_df[approach],machine_df[\"sense_id\"])"
   ]
  },
  {
   "cell_type": "code",
   "execution_count": null,
   "metadata": {},
   "outputs": [],
   "source": [
    "approach = \"w2v_lesk_ranking\"\n",
    "\n",
    "# Warning: I use a Word2vec model trained on all 19thC BL corpus that is locally stored.\n",
    "wemb_model = Word2Vec.load(\"models/w2v/w2v_v004/w2v_words.model\")\n",
    "machine_df[approach] = machine_df.progress_apply (lambda row: wsd.w2v_lesk_ranking(row[\"nlp_full_text\"], definition_df, wemb_model), axis=1)\n",
    "\n",
    "wsd.eval(machine_df[approach],machine_df[\"sense_id\"])"
   ]
  },
  {
   "cell_type": "code",
   "execution_count": null,
   "metadata": {},
   "outputs": [],
   "source": [
    "approach = \"bert_lesk_ranking\"\n",
    "\n",
    "# Download model from (warning: this is a contemporary model):\n",
    "# https://public.ukp.informatik.tu-darmstadt.de/reimers/sentence-transformers/v0.2/bert-base-nli-mean-tokens.zip\n",
    "bert_sentsim_model = SentenceTransformer('models/bert/bert-base-nli-mean-tokens')\n",
    "machine_df[approach] = machine_df.progress_apply (lambda row: wsd.bert_lesk_ranking(row[\"text\"][\"full_text\"], definition_df, bert_sentsim_model), axis=1)\n",
    "\n",
    "wsd.eval(machine_df[approach],machine_df[\"sense_id\"])"
   ]
  },
  {
   "cell_type": "code",
   "execution_count": null,
   "metadata": {},
   "outputs": [],
   "source": []
  }
 ],
 "metadata": {
  "kernelspec": {
   "display_name": "Python (py37animacy)",
   "language": "python",
   "name": "py37animacy"
  },
  "language_info": {
   "codemirror_mode": {
    "name": "ipython",
    "version": 3
   },
   "file_extension": ".py",
   "mimetype": "text/x-python",
   "name": "python",
   "nbconvert_exporter": "python",
   "pygments_lexer": "ipython3",
   "version": "3.7.9"
  }
 },
 "nbformat": 4,
 "nbformat_minor": 2
}
