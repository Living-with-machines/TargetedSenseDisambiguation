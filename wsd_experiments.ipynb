{
 "metadata": {
  "language_info": {
   "codemirror_mode": {
    "name": "ipython",
    "version": 3
   },
   "file_extension": ".py",
   "mimetype": "text/x-python",
   "name": "python",
   "nbconvert_exporter": "python",
   "pygments_lexer": "ipython3",
   "version": "3.6.8-final"
  },
  "orig_nbformat": 2,
  "kernelspec": {
   "name": "Python 3.6.8 64-bit ('py37torch': conda)",
   "display_name": "Python 3.6.8 64-bit ('py37torch': conda)",
   "metadata": {
    "interpreter": {
     "hash": "f09a9a3cf3bd79d25a4395c787fbd19a608ae0d699219af2963c30c4da13dbef"
    }
   }
  }
 },
 "nbformat": 4,
 "nbformat_minor": 2,
 "cells": [
  {
   "cell_type": "code",
   "execution_count": 1,
   "metadata": {},
   "outputs": [],
   "source": [
    "import pickle\n",
    "import pandas as pd\n",
    "from tasks import wsd\n",
    "from tqdm.auto import tqdm\n",
    "\n",
    "tqdm.pandas()\n",
    "\n",
    "with open(\"data/machine_nn01_all.pickle\", \"rb\") as f:\n",
    "    df = pickle.load(f)\n"
   ]
  },
  {
   "cell_type": "code",
   "execution_count": 2,
   "metadata": {
    "tags": []
   },
   "outputs": [
    {
     "output_type": "stream",
     "name": "stdout",
     "text": [
      "25\n"
     ]
    }
   ],
   "source": [
    "definition_df = df[['lemma','sense_id','definition']]\n",
    "definition_df = definition_df[definition_df.lemma==\"machine\"]\n",
    "definition_df.drop_duplicates(inplace = True)\n",
    "definition_df = definition_df.reset_index(drop=True)\n",
    "definition_df[\"nlp_definition\"] = definition_df.apply (lambda row: wsd.preprocess(row[\"definition\"]), axis=1)\n",
    "\n",
    "print (len(definition_df))"
   ]
  },
  {
   "cell_type": "code",
   "execution_count": 3,
   "metadata": {},
   "outputs": [
    {
     "output_type": "execute_result",
     "data": {
      "text/plain": [
       "     lemma               sense_id  \\\n",
       "0  machine  machine_nn01-38473945   \n",
       "1  machine  machine_nn01-38474233   \n",
       "2  machine  machine_nn01-38474097   \n",
       "3  machine  machine_nn01-38474140   \n",
       "4  machine  machine_nn01-38474301   \n",
       "\n",
       "                                          definition  \\\n",
       "0  A material or immaterial structure, esp. the f...   \n",
       "1  A military engine or siege-tower. Cf. war mach...   \n",
       "2                  spec. A scheme or plot. Obsolete.   \n",
       "3  A living body, esp. the human body considered ...   \n",
       "4  Theatre. A (usually movable) contrivance for t...   \n",
       "\n",
       "                                      nlp_definition  \n",
       "0  (A, material, or, immaterial, structure, ,, es...  \n",
       "1  (A, military, engine, or, siege, -, tower, ., ...  \n",
       "2     (spec, ., A, scheme, or, plot, ., Obsolete, .)  \n",
       "3  (A, living, body, ,, esp, ., the, human, body,...  \n",
       "4  (Theatre, ., A, (, usually, movable, ), contri...  "
      ],
      "text/html": "<div>\n<style scoped>\n    .dataframe tbody tr th:only-of-type {\n        vertical-align: middle;\n    }\n\n    .dataframe tbody tr th {\n        vertical-align: top;\n    }\n\n    .dataframe thead th {\n        text-align: right;\n    }\n</style>\n<table border=\"1\" class=\"dataframe\">\n  <thead>\n    <tr style=\"text-align: right;\">\n      <th></th>\n      <th>lemma</th>\n      <th>sense_id</th>\n      <th>definition</th>\n      <th>nlp_definition</th>\n    </tr>\n  </thead>\n  <tbody>\n    <tr>\n      <td>0</td>\n      <td>machine</td>\n      <td>machine_nn01-38473945</td>\n      <td>A material or immaterial structure, esp. the f...</td>\n      <td>(A, material, or, immaterial, structure, ,, es...</td>\n    </tr>\n    <tr>\n      <td>1</td>\n      <td>machine</td>\n      <td>machine_nn01-38474233</td>\n      <td>A military engine or siege-tower. Cf. war mach...</td>\n      <td>(A, military, engine, or, siege, -, tower, ., ...</td>\n    </tr>\n    <tr>\n      <td>2</td>\n      <td>machine</td>\n      <td>machine_nn01-38474097</td>\n      <td>spec. A scheme or plot. Obsolete.</td>\n      <td>(spec, ., A, scheme, or, plot, ., Obsolete, .)</td>\n    </tr>\n    <tr>\n      <td>3</td>\n      <td>machine</td>\n      <td>machine_nn01-38474140</td>\n      <td>A living body, esp. the human body considered ...</td>\n      <td>(A, living, body, ,, esp, ., the, human, body,...</td>\n    </tr>\n    <tr>\n      <td>4</td>\n      <td>machine</td>\n      <td>machine_nn01-38474301</td>\n      <td>Theatre. A (usually movable) contrivance for t...</td>\n      <td>(Theatre, ., A, (, usually, movable, ), contri...</td>\n    </tr>\n  </tbody>\n</table>\n</div>"
     },
     "metadata": {},
     "execution_count": 3
    }
   ],
   "source": [
    "definition_df.head()"
   ]
  },
  {
   "cell_type": "code",
   "execution_count": 4,
   "metadata": {},
   "outputs": [
    {
     "output_type": "execute_result",
     "data": {
      "text/plain": [
       "  notes           id_quotation  root       word_id  \\\n",
       "0    []  machine_nn01-38473945  True  machine_nn01   \n",
       "1    []  machine_nn01-38473945  True  machine_nn01   \n",
       "2    []  machine_nn01-38473945  True  machine_nn01   \n",
       "3    []  machine_nn01-38473945  True  machine_nn01   \n",
       "4    []  machine_nn01-38473945  True  machine_nn01   \n",
       "\n",
       "                                             oed_url part_of_speech  \\\n",
       "0  https://www.oed.com/view/Entry/111850#eid38473945             NN   \n",
       "1  https://www.oed.com/view/Entry/111850#eid38473945             NN   \n",
       "2  https://www.oed.com/view/Entry/111850#eid38473945             NN   \n",
       "3  https://www.oed.com/view/Entry/111850#eid38473945             NN   \n",
       "4  https://www.oed.com/view/Entry/111850#eid38473945             NN   \n",
       "\n",
       "  transitivity                                 semantic_class_ids  \\\n",
       "0         None  [[1, 111290, 118635, 119024, 120162, 120172], ...   \n",
       "1         None  [[1, 111290, 118635, 119024, 120162, 120172], ...   \n",
       "2         None  [[1, 111290, 118635, 119024, 120162, 120172], ...   \n",
       "3         None  [[1, 111290, 118635, 119024, 120162, 120172], ...   \n",
       "4         None  [[1, 111290, 118635, 119024, 120162, 120172], ...   \n",
       "\n",
       "                                              source               sense_id  \\\n",
       "0  {'title': 'Early Mod. Eng. Lexicogr.', 'author...  machine_nn01-38473945   \n",
       "1  {'title': 'Early Mod. Eng. Lexicogr.', 'author...  machine_nn01-38473945   \n",
       "2  {'title': 'Complaynt Scotl.', 'author': None, ...  machine_nn01-38473945   \n",
       "3  {'title': 'Hymnes', 'author': 'A. Hume', 'gend...  machine_nn01-38473945   \n",
       "4  {'title': 'Hist. Quinq-articularis', 'author':...  machine_nn01-38473945   \n",
       "\n",
       "                                          definition            oed_reference  \\\n",
       "0  A material or immaterial structure, esp. the f...  machine, n., sense I.1a   \n",
       "1  A material or immaterial structure, esp. the f...  machine, n., sense I.1a   \n",
       "2  A material or immaterial structure, esp. the f...  machine, n., sense I.1a   \n",
       "3  A material or immaterial structure, esp. the f...  machine, n., sense I.1a   \n",
       "4  A material or immaterial structure, esp. the f...  machine, n., sense I.1a   \n",
       "\n",
       "                                                text main_current_sense  \\\n",
       "0  {'keyword': 'machyne', 'full_text': 'The hole ...              False   \n",
       "1  {'keyword': 'Machine', 'full_text': 'Machine, ...              False   \n",
       "2  {'keyword': 'machine', 'full_text': 'The maist...              False   \n",
       "3  {'keyword': 'machin', 'full_text': 'Be his wis...              False   \n",
       "4  {'keyword': 'Machine', 'full_text': 'They that...              False   \n",
       "\n",
       "     lemma   first_use                                      nlp_full_text  \n",
       "0  machine  J. Schäfer  (The, hole, machyne, of, this, world, is, divi...  \n",
       "1  machine  J. Schäfer  (Machine, ,, hath, many, significacions, ,, bu...  \n",
       "2  machine  J. Schäfer  (The, maist, illustir, potent, prince, of, the...  \n",
       "3  machine  J. Schäfer  (Be, his, wisedome,, .., sa, wondrouslie, of, ...  \n",
       "4  machine  J. Schäfer  (They, that, asserted, Universal, redemption, ...  "
      ],
      "text/html": "<div>\n<style scoped>\n    .dataframe tbody tr th:only-of-type {\n        vertical-align: middle;\n    }\n\n    .dataframe tbody tr th {\n        vertical-align: top;\n    }\n\n    .dataframe thead th {\n        text-align: right;\n    }\n</style>\n<table border=\"1\" class=\"dataframe\">\n  <thead>\n    <tr style=\"text-align: right;\">\n      <th></th>\n      <th>notes</th>\n      <th>id_quotation</th>\n      <th>root</th>\n      <th>word_id</th>\n      <th>oed_url</th>\n      <th>part_of_speech</th>\n      <th>transitivity</th>\n      <th>semantic_class_ids</th>\n      <th>source</th>\n      <th>sense_id</th>\n      <th>definition</th>\n      <th>oed_reference</th>\n      <th>text</th>\n      <th>main_current_sense</th>\n      <th>lemma</th>\n      <th>first_use</th>\n      <th>nlp_full_text</th>\n    </tr>\n  </thead>\n  <tbody>\n    <tr>\n      <td>0</td>\n      <td>[]</td>\n      <td>machine_nn01-38473945</td>\n      <td>True</td>\n      <td>machine_nn01</td>\n      <td>https://www.oed.com/view/Entry/111850#eid38473945</td>\n      <td>NN</td>\n      <td>None</td>\n      <td>[[1, 111290, 118635, 119024, 120162, 120172], ...</td>\n      <td>{'title': 'Early Mod. Eng. Lexicogr.', 'author...</td>\n      <td>machine_nn01-38473945</td>\n      <td>A material or immaterial structure, esp. the f...</td>\n      <td>machine, n., sense I.1a</td>\n      <td>{'keyword': 'machyne', 'full_text': 'The hole ...</td>\n      <td>False</td>\n      <td>machine</td>\n      <td>J. Schäfer</td>\n      <td>(The, hole, machyne, of, this, world, is, divi...</td>\n    </tr>\n    <tr>\n      <td>1</td>\n      <td>[]</td>\n      <td>machine_nn01-38473945</td>\n      <td>True</td>\n      <td>machine_nn01</td>\n      <td>https://www.oed.com/view/Entry/111850#eid38473945</td>\n      <td>NN</td>\n      <td>None</td>\n      <td>[[1, 111290, 118635, 119024, 120162, 120172], ...</td>\n      <td>{'title': 'Early Mod. Eng. Lexicogr.', 'author...</td>\n      <td>machine_nn01-38473945</td>\n      <td>A material or immaterial structure, esp. the f...</td>\n      <td>machine, n., sense I.1a</td>\n      <td>{'keyword': 'Machine', 'full_text': 'Machine, ...</td>\n      <td>False</td>\n      <td>machine</td>\n      <td>J. Schäfer</td>\n      <td>(Machine, ,, hath, many, significacions, ,, bu...</td>\n    </tr>\n    <tr>\n      <td>2</td>\n      <td>[]</td>\n      <td>machine_nn01-38473945</td>\n      <td>True</td>\n      <td>machine_nn01</td>\n      <td>https://www.oed.com/view/Entry/111850#eid38473945</td>\n      <td>NN</td>\n      <td>None</td>\n      <td>[[1, 111290, 118635, 119024, 120162, 120172], ...</td>\n      <td>{'title': 'Complaynt Scotl.', 'author': None, ...</td>\n      <td>machine_nn01-38473945</td>\n      <td>A material or immaterial structure, esp. the f...</td>\n      <td>machine, n., sense I.1a</td>\n      <td>{'keyword': 'machine', 'full_text': 'The maist...</td>\n      <td>False</td>\n      <td>machine</td>\n      <td>J. Schäfer</td>\n      <td>(The, maist, illustir, potent, prince, of, the...</td>\n    </tr>\n    <tr>\n      <td>3</td>\n      <td>[]</td>\n      <td>machine_nn01-38473945</td>\n      <td>True</td>\n      <td>machine_nn01</td>\n      <td>https://www.oed.com/view/Entry/111850#eid38473945</td>\n      <td>NN</td>\n      <td>None</td>\n      <td>[[1, 111290, 118635, 119024, 120162, 120172], ...</td>\n      <td>{'title': 'Hymnes', 'author': 'A. Hume', 'gend...</td>\n      <td>machine_nn01-38473945</td>\n      <td>A material or immaterial structure, esp. the f...</td>\n      <td>machine, n., sense I.1a</td>\n      <td>{'keyword': 'machin', 'full_text': 'Be his wis...</td>\n      <td>False</td>\n      <td>machine</td>\n      <td>J. Schäfer</td>\n      <td>(Be, his, wisedome,, .., sa, wondrouslie, of, ...</td>\n    </tr>\n    <tr>\n      <td>4</td>\n      <td>[]</td>\n      <td>machine_nn01-38473945</td>\n      <td>True</td>\n      <td>machine_nn01</td>\n      <td>https://www.oed.com/view/Entry/111850#eid38473945</td>\n      <td>NN</td>\n      <td>None</td>\n      <td>[[1, 111290, 118635, 119024, 120162, 120172], ...</td>\n      <td>{'title': 'Hist. Quinq-articularis', 'author':...</td>\n      <td>machine_nn01-38473945</td>\n      <td>A material or immaterial structure, esp. the f...</td>\n      <td>machine, n., sense I.1a</td>\n      <td>{'keyword': 'Machine', 'full_text': 'They that...</td>\n      <td>False</td>\n      <td>machine</td>\n      <td>J. Schäfer</td>\n      <td>(They, that, asserted, Universal, redemption, ...</td>\n    </tr>\n  </tbody>\n</table>\n</div>"
     },
     "metadata": {},
     "execution_count": 4
    }
   ],
   "source": [
    "machine_df = df[df.lemma==\"machine\"]\n",
    "machine_df = machine_df.reset_index(drop=True)\n",
    "machine_df[\"nlp_full_text\"] = machine_df.apply (lambda row: wsd.preprocess(row[\"text\"][\"full_text\"]), axis=1)\n",
    "machine_df.head()"
   ]
  },
  {
   "cell_type": "code",
   "execution_count": 5,
   "metadata": {
    "tags": []
   },
   "outputs": [
    {
     "output_type": "stream",
     "name": "stderr",
     "text": [
      "100%|██████████| 805/805 [00:00<00:00, 23106.98it/s]\n"
     ]
    },
    {
     "output_type": "execute_result",
     "data": {
      "text/plain": [
       "(0.058, 0.057, 0.043, 0.056)"
      ]
     },
     "metadata": {},
     "execution_count": 5
    }
   ],
   "source": [
    "approach = \"random_predict\"\n",
    "\n",
    "machine_df[approach] = machine_df.progress_apply (lambda row: wsd.random_predict(definition_df), axis=1)\n",
    "\n",
    "wsd.eval(machine_df[approach],machine_df[\"sense_id\"])"
   ]
  },
  {
   "cell_type": "code",
   "execution_count": 6,
   "metadata": {},
   "outputs": [
    {
     "output_type": "stream",
     "name": "stderr",
     "text": [
      "100%|██████████| 805/805 [00:02<00:00, 361.58it/s]\n"
     ]
    },
    {
     "output_type": "execute_result",
     "data": {
      "text/plain": [
       "(0.107, 0.052, 0.043, 0.113)"
      ]
     },
     "metadata": {},
     "execution_count": 6
    }
   ],
   "source": [
    "# be careful: i am using the example sentence (row[\"text\"][\"full_text\"]) as the input sentence and then measure its word overlap with the definition (see function). if you instead want to use the example as training data, we need to split in train/test\n",
    "\n",
    "approach = \"def_tok_overlap_ranking\"\n",
    "\n",
    "machine_df[approach] = machine_df.progress_apply (lambda row: wsd.tok_overlap_ranking(row[\"nlp_full_text\"], definition_df), axis=1)\n",
    "\n",
    "wsd.eval(machine_df[approach],machine_df[\"sense_id\"])"
   ]
  },
  {
   "cell_type": "code",
   "execution_count": 7,
   "metadata": {},
   "outputs": [
    {
     "output_type": "stream",
     "name": "stderr",
     "text": [
      "100%|██████████| 805/805 [00:01<00:00, 424.11it/s]\n"
     ]
    },
    {
     "output_type": "execute_result",
     "data": {
      "text/plain": [
       "(0.19, 0.123, 0.095, 0.173)"
      ]
     },
     "metadata": {},
     "execution_count": 7
    }
   ],
   "source": [
    "approach = \"sent_embedding\"\n",
    "\n",
    "machine_df[approach] = machine_df.progress_apply (lambda row: wsd.sent_embedding(row[\"nlp_full_text\"], definition_df), axis=1)\n",
    "\n",
    "wsd.eval(machine_df[approach],machine_df[\"sense_id\"])"
   ]
  },
  {
   "cell_type": "code",
   "execution_count": null,
   "metadata": {},
   "outputs": [],
   "source": []
  }
 ]
}