{
 "cells": [
  {
   "source": [
    "import pickle\n",
    "import pandas as pd\n",
    "from tasks import wsd\n",
    "from utils import nlp_tools\n",
    "from utils.classificaton_utils import binarize,retrieve_labelled_definitions\n",
    "from tqdm.auto import tqdm\n",
    "from gensim.models import Word2Vec\n",
    "from sentence_transformers import SentenceTransformer\n",
    "\n",
    "tqdm.pandas()\n",
    "\n",
    "lemma_id = 'machine_nn01'\n",
    "senses = {'machine_nn01-38475835','machine_nn01-38475923'}\n",
    "relations = ['seed','synonym','descendant','sibling']\n",
    "\n",
    "\n",
    "df_quotations = binarize(lemma_id, \n",
    "                        senses, \n",
    "                        relations,\n",
    "                        strict_filter=True,\n",
    "                        start=1700,\n",
    "                        end=1910)"
   ],
   "cell_type": "code",
   "metadata": {},
   "execution_count": 1,
   "outputs": [
    {
     "output_type": "stream",
     "name": "stdout",
     "text": [
      "# senses before filtering by date = 8383\n",
      "# senses after filtering by date = 5904\n",
      "\n",
      "\n",
      "# of seed senses 23 \n",
      "# of synonyms 312 \n",
      "# of branch senses 4968\n",
      "\n",
      "\n",
      "# of seeds selected 1 \n",
      "# of synonyms selected 8 \n",
      "# of branches selected 5\n"
     ]
    }
   ]
  },
  {
   "cell_type": "code",
   "execution_count": 2,
   "metadata": {},
   "outputs": [
    {
     "output_type": "execute_result",
     "data": {
      "text/plain": [
       "                     id  label   lemma  \\\n",
       "0   mover_nn01-35820685      1   mover   \n",
       "1   mover_nn01-35820598      0   mover   \n",
       "2   power_nn01-28687898      1   power   \n",
       "3  power_nn01-224965906      0   power   \n",
       "4  rocker_nn01-25157825      1  rocker   \n",
       "\n",
       "                                          definition  \\\n",
       "0  More fully first mover. An initial source (nat...   \n",
       "1  In full first mover. The outermost of the conc...   \n",
       "2  Mechanics. In full mechanical power, †mathemat...   \n",
       "3  The mechanical advantage of a pulley, tackle, ...   \n",
       "4  A device or apparatus which rocks or is rocked...   \n",
       "\n",
       "                                      nlp_definition  \n",
       "0  (More, fully, first, mover, ., An, initial, so...  \n",
       "1  (In, full, first, mover, ., The, outermost, of...  \n",
       "2  (Mechanics, ., In, full, mechanical, power, ,,...  \n",
       "3  (The, mechanical, advantage, of, a, pulley, ,,...  \n",
       "4  (A, device, or, apparatus, which, rocks, or, i...  "
      ],
      "text/html": "<div>\n<style scoped>\n    .dataframe tbody tr th:only-of-type {\n        vertical-align: middle;\n    }\n\n    .dataframe tbody tr th {\n        vertical-align: top;\n    }\n\n    .dataframe thead th {\n        text-align: right;\n    }\n</style>\n<table border=\"1\" class=\"dataframe\">\n  <thead>\n    <tr style=\"text-align: right;\">\n      <th></th>\n      <th>id</th>\n      <th>label</th>\n      <th>lemma</th>\n      <th>definition</th>\n      <th>nlp_definition</th>\n    </tr>\n  </thead>\n  <tbody>\n    <tr>\n      <td>0</td>\n      <td>mover_nn01-35820685</td>\n      <td>1</td>\n      <td>mover</td>\n      <td>More fully first mover. An initial source (nat...</td>\n      <td>(More, fully, first, mover, ., An, initial, so...</td>\n    </tr>\n    <tr>\n      <td>1</td>\n      <td>mover_nn01-35820598</td>\n      <td>0</td>\n      <td>mover</td>\n      <td>In full first mover. The outermost of the conc...</td>\n      <td>(In, full, first, mover, ., The, outermost, of...</td>\n    </tr>\n    <tr>\n      <td>2</td>\n      <td>power_nn01-28687898</td>\n      <td>1</td>\n      <td>power</td>\n      <td>Mechanics. In full mechanical power, †mathemat...</td>\n      <td>(Mechanics, ., In, full, mechanical, power, ,,...</td>\n    </tr>\n    <tr>\n      <td>3</td>\n      <td>power_nn01-224965906</td>\n      <td>0</td>\n      <td>power</td>\n      <td>The mechanical advantage of a pulley, tackle, ...</td>\n      <td>(The, mechanical, advantage, of, a, pulley, ,,...</td>\n    </tr>\n    <tr>\n      <td>4</td>\n      <td>rocker_nn01-25157825</td>\n      <td>1</td>\n      <td>rocker</td>\n      <td>A device or apparatus which rocks or is rocked...</td>\n      <td>(A, device, or, apparatus, which, rocks, or, i...</td>\n    </tr>\n  </tbody>\n</table>\n</div>"
     },
     "metadata": {},
     "execution_count": 2
    }
   ],
   "source": [
    "df_selected_senses = retrieve_labelled_definitions(lemma_id,df_quotations)\n",
    "\n",
    "df_selected_senses[\"nlp_definition\"] = df_selected_senses.apply (lambda row: nlp_tools.preprocess(row[\"definition\"]), axis=1)\n",
    "\n",
    "df_selected_senses.head()"
   ]
  },
  {
   "cell_type": "code",
   "execution_count": 3,
   "metadata": {},
   "outputs": [
    {
     "output_type": "execute_result",
     "data": {
      "text/plain": [
       "                        id                                               text  \\\n",
       "25430  mover_nn01-35820849  {'keyword': 'mover', 'full_text': 'Providence,...   \n",
       "25431  mover_nn01-35820717  {'keyword': 'first Mover', 'full_text': 'The M...   \n",
       "25432  mover_nn01-35820860  {'keyword': 'mover', 'full_text': 'They will w...   \n",
       "25433  mover_nn01-35821031  {'keyword': 'Movers', 'full_text': 'Nor is the...   \n",
       "25434  mover_nn01-35821108  {'keyword': 'Mover', 'full_text': 'Therefore w...   \n",
       "\n",
       "       year  lemma                                             source  \\\n",
       "25430  1704  mover  {'title': '15th Rep. Royal Comm. Hist. MSS', '...   \n",
       "25431  1711  mover  {'title': 'Ship-builders Assistant', 'author':...   \n",
       "25432  1711  mover  {'title': 'Jrnl. to Stella', 'author': 'J. Swi...   \n",
       "25433  1736  mover  {'title': 'Analogy of Relig.', 'author': 'Bp. ...   \n",
       "25434  1737  mover  {'title': 'Gentleman's Mag.', 'author': None, ...   \n",
       "\n",
       "                                                 oed_url     word_id  \\\n",
       "25430  https://www.oed.com/view/Entry/123034#eid35820849  mover_nn01   \n",
       "25431  https://www.oed.com/view/Entry/123034#eid35820717  mover_nn01   \n",
       "25432  https://www.oed.com/view/Entry/123034#eid35820860  mover_nn01   \n",
       "25433  https://www.oed.com/view/Entry/123034#eid35821031  mover_nn01   \n",
       "25434  https://www.oed.com/view/Entry/123034#eid35821108  mover_nn01   \n",
       "\n",
       "                  sense_id datestring  first_in_word         oed_reference  \\\n",
       "25430  mover_nn01-35820773       1704          False  mover, n.1, sense 2a   \n",
       "25431  mover_nn01-35820685       1711          False  mover, n.1, sense 1c   \n",
       "25432  mover_nn01-35820773       1711          False  mover, n.1, sense 2a   \n",
       "25433  mover_nn01-35821002       1736          False   mover, n.1, sense 3   \n",
       "25434  mover_nn01-35821082       1737          False   mover, n.1, sense 4   \n",
       "\n",
       "       first_in_sense  label  \\\n",
       "25430           False      0   \n",
       "25431           False      1   \n",
       "25432           False      0   \n",
       "25433           False      0   \n",
       "25434           False      0   \n",
       "\n",
       "                                           nlp_full_text  \n",
       "25430  (Providence, ,, which, I, humbly, recognize, a...  \n",
       "25431     (The, Main, -, mast, is, the, first, Mover, .)  \n",
       "25432  (They, will, want, him, prodigiously, in, the,...  \n",
       "25433  (Nor, is, there, any, Ground, to, think, .., t...  \n",
       "25434  (Therefore, we, must, suppose, ,, that, withou...  "
      ],
      "text/html": "<div>\n<style scoped>\n    .dataframe tbody tr th:only-of-type {\n        vertical-align: middle;\n    }\n\n    .dataframe tbody tr th {\n        vertical-align: top;\n    }\n\n    .dataframe thead th {\n        text-align: right;\n    }\n</style>\n<table border=\"1\" class=\"dataframe\">\n  <thead>\n    <tr style=\"text-align: right;\">\n      <th></th>\n      <th>id</th>\n      <th>text</th>\n      <th>year</th>\n      <th>lemma</th>\n      <th>source</th>\n      <th>oed_url</th>\n      <th>word_id</th>\n      <th>sense_id</th>\n      <th>datestring</th>\n      <th>first_in_word</th>\n      <th>oed_reference</th>\n      <th>first_in_sense</th>\n      <th>label</th>\n      <th>nlp_full_text</th>\n    </tr>\n  </thead>\n  <tbody>\n    <tr>\n      <td>25430</td>\n      <td>mover_nn01-35820849</td>\n      <td>{'keyword': 'mover', 'full_text': 'Providence,...</td>\n      <td>1704</td>\n      <td>mover</td>\n      <td>{'title': '15th Rep. Royal Comm. Hist. MSS', '...</td>\n      <td>https://www.oed.com/view/Entry/123034#eid35820849</td>\n      <td>mover_nn01</td>\n      <td>mover_nn01-35820773</td>\n      <td>1704</td>\n      <td>False</td>\n      <td>mover, n.1, sense 2a</td>\n      <td>False</td>\n      <td>0</td>\n      <td>(Providence, ,, which, I, humbly, recognize, a...</td>\n    </tr>\n    <tr>\n      <td>25431</td>\n      <td>mover_nn01-35820717</td>\n      <td>{'keyword': 'first Mover', 'full_text': 'The M...</td>\n      <td>1711</td>\n      <td>mover</td>\n      <td>{'title': 'Ship-builders Assistant', 'author':...</td>\n      <td>https://www.oed.com/view/Entry/123034#eid35820717</td>\n      <td>mover_nn01</td>\n      <td>mover_nn01-35820685</td>\n      <td>1711</td>\n      <td>False</td>\n      <td>mover, n.1, sense 1c</td>\n      <td>False</td>\n      <td>1</td>\n      <td>(The, Main, -, mast, is, the, first, Mover, .)</td>\n    </tr>\n    <tr>\n      <td>25432</td>\n      <td>mover_nn01-35820860</td>\n      <td>{'keyword': 'mover', 'full_text': 'They will w...</td>\n      <td>1711</td>\n      <td>mover</td>\n      <td>{'title': 'Jrnl. to Stella', 'author': 'J. Swi...</td>\n      <td>https://www.oed.com/view/Entry/123034#eid35820860</td>\n      <td>mover_nn01</td>\n      <td>mover_nn01-35820773</td>\n      <td>1711</td>\n      <td>False</td>\n      <td>mover, n.1, sense 2a</td>\n      <td>False</td>\n      <td>0</td>\n      <td>(They, will, want, him, prodigiously, in, the,...</td>\n    </tr>\n    <tr>\n      <td>25433</td>\n      <td>mover_nn01-35821031</td>\n      <td>{'keyword': 'Movers', 'full_text': 'Nor is the...</td>\n      <td>1736</td>\n      <td>mover</td>\n      <td>{'title': 'Analogy of Relig.', 'author': 'Bp. ...</td>\n      <td>https://www.oed.com/view/Entry/123034#eid35821031</td>\n      <td>mover_nn01</td>\n      <td>mover_nn01-35821002</td>\n      <td>1736</td>\n      <td>False</td>\n      <td>mover, n.1, sense 3</td>\n      <td>False</td>\n      <td>0</td>\n      <td>(Nor, is, there, any, Ground, to, think, .., t...</td>\n    </tr>\n    <tr>\n      <td>25434</td>\n      <td>mover_nn01-35821108</td>\n      <td>{'keyword': 'Mover', 'full_text': 'Therefore w...</td>\n      <td>1737</td>\n      <td>mover</td>\n      <td>{'title': 'Gentleman's Mag.', 'author': None, ...</td>\n      <td>https://www.oed.com/view/Entry/123034#eid35821108</td>\n      <td>mover_nn01</td>\n      <td>mover_nn01-35821082</td>\n      <td>1737</td>\n      <td>False</td>\n      <td>mover, n.1, sense 4</td>\n      <td>False</td>\n      <td>0</td>\n      <td>(Therefore, we, must, suppose, ,, that, withou...</td>\n    </tr>\n  </tbody>\n</table>\n</div>"
     },
     "metadata": {},
     "execution_count": 3
    }
   ],
   "source": [
    "df_quotations[\"nlp_full_text\"] = df_quotations.apply (lambda row: nlp_tools.preprocess(row[\"text\"][\"full_text\"]), axis=1)\n",
    "df_quotations.head()"
   ]
  },
  {
   "cell_type": "code",
   "execution_count": 4,
   "metadata": {
    "tags": []
   },
   "outputs": [
    {
     "output_type": "stream",
     "name": "stderr",
     "text": [
      "100%|██████████| 420/420 [00:00<00:00, 627.44it/s]\n"
     ]
    },
    {
     "output_type": "execute_result",
     "data": {
      "text/plain": [
       "(0.158, 0.723, 0.26, 0.362)"
      ]
     },
     "metadata": {},
     "execution_count": 4
    }
   ],
   "source": [
    "approach = \"random\"\n",
    "\n",
    "df_quotations[approach] = df_quotations.progress_apply (lambda row: wsd.random_predict(df_selected_senses), axis=1)\n",
    "\n",
    "wsd.eval(approach,df_quotations)"
   ]
  },
  {
   "cell_type": "code",
   "execution_count": 5,
   "metadata": {
    "tags": []
   },
   "outputs": [
    {
     "output_type": "stream",
     "name": "stderr",
     "text": [
      "100%|██████████| 420/420 [00:01<00:00, 311.46it/s]\n"
     ]
    },
    {
     "output_type": "execute_result",
     "data": {
      "text/plain": [
       "(0.154, 0.877, 0.263, 0.238)"
      ]
     },
     "metadata": {},
     "execution_count": 5
    }
   ],
   "source": [
    "# be careful: i am using the example sentence (row[\"text\"][\"full_text\"]) as the input sentence and then measure its word overlap with the definition (see function). if you instead want to use the example as training data, we need to split in train/test\n",
    "\n",
    "approach = \"def_tok_overlap_ranking\"\n",
    "\n",
    "df_quotations[approach] = df_quotations.progress_apply (lambda row: wsd.tok_overlap_ranking(row[\"nlp_full_text\"], df_selected_senses), axis=1)\n",
    "\n",
    "wsd.eval(approach,df_quotations)"
   ]
  },
  {
   "cell_type": "code",
   "execution_count": 6,
   "metadata": {},
   "outputs": [
    {
     "output_type": "stream",
     "name": "stderr",
     "text": [
      "100%|██████████| 420/420 [00:01<00:00, 365.19it/s]\n"
     ]
    },
    {
     "output_type": "execute_result",
     "data": {
      "text/plain": [
       "(0.256, 0.815, 0.39, 0.605)"
      ]
     },
     "metadata": {},
     "execution_count": 6
    }
   ],
   "source": [
    "approach = \"sent_embedding\"\n",
    "\n",
    "df_quotations[approach] = df_quotations.progress_apply (lambda row: wsd.sent_embedding(row[\"nlp_full_text\"], df_selected_senses), axis=1)\n",
    "\n",
    "wsd.eval(approach,df_quotations)"
   ]
  },
  {
   "cell_type": "code",
   "execution_count": 7,
   "metadata": {},
   "outputs": [
    {
     "output_type": "stream",
     "name": "stderr",
     "text": [
      "100%|██████████| 420/420 [00:48<00:00,  8.59it/s]\n"
     ]
    },
    {
     "output_type": "execute_result",
     "data": {
      "text/plain": [
       "(0.232, 0.785, 0.358, 0.564)"
      ]
     },
     "metadata": {},
     "execution_count": 7
    }
   ],
   "source": [
    "approach = \"w2v_lesk_ranking\"\n",
    "\n",
    "# Warning: I use a Word2vec model trained on all 19thC BL corpus that is locally stored.\n",
    "wemb_model = Word2Vec.load(\"models/w2v/w2v_v004/w2v_words.model\")\n",
    "df_quotations[approach] = df_quotations.progress_apply (lambda row: wsd.w2v_lesk_ranking(row[\"nlp_full_text\"], df_selected_senses, wemb_model), axis=1)\n",
    "\n",
    "wsd.eval(approach,df_quotations)"
   ]
  },
  {
   "cell_type": "code",
   "execution_count": 8,
   "metadata": {},
   "outputs": [
    {
     "output_type": "stream",
     "name": "stderr",
     "text": [
      "100%|██████████| 420/420 [29:51<00:00,  4.27s/it]\n"
     ]
    },
    {
     "output_type": "execute_result",
     "data": {
      "text/plain": [
       "(0.265, 0.738, 0.39, 0.643)"
      ]
     },
     "metadata": {},
     "execution_count": 8
    }
   ],
   "source": [
    "approach = \"bert_lesk_ranking\"\n",
    "\n",
    "# Download model from (warning: this is a contemporary model):\n",
    "# https://public.ukp.informatik.tu-darmstadt.de/reimers/sentence-transformers/v0.2/bert-base-nli-mean-tokens.zip\n",
    "bert_sentsim_model = SentenceTransformer('models/bert/bert-base-nli-mean-tokens')\n",
    "df_quotations[approach] = df_quotations.progress_apply (lambda row: wsd.bert_lesk_ranking(row[\"text\"][\"full_text\"], df_selected_senses, bert_sentsim_model), axis=1)\n",
    "\n",
    "wsd.eval(approach,df_quotations)"
   ]
  },
  {
   "cell_type": "code",
   "execution_count": null,
   "metadata": {},
   "outputs": [],
   "source": []
  }
 ],
 "metadata": {
  "kernelspec": {
   "display_name": "py37torch",
   "language": "python",
   "name": "py37torch"
  }
 },
 "nbformat": 4,
 "nbformat_minor": 2
}