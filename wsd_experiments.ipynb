{
 "cells": [
  {
   "cell_type": "code",
   "execution_count": 1,
   "metadata": {},
   "outputs": [],
   "source": [
    "%load_ext autoreload"
   ]
  },
  {
   "cell_type": "code",
   "execution_count": 2,
   "metadata": {},
   "outputs": [],
   "source": [
    "%autoreload 2"
   ]
  },
  {
   "source": [
    "import pickle\n",
    "import pandas as pd\n",
    "from tasks import wsd\n",
    "from utils import nlp_tools\n",
    "from utils.classificaton_utils import binarize\n",
    "from tqdm.auto import tqdm\n",
    "from gensim.models import Word2Vec\n",
    "from sentence_transformers import SentenceTransformer\n",
    "\n",
    "tqdm.pandas()\n",
    "\n",
    "lemma_id = 'machine_nn01'\n",
    "senses = {'machine_nn01-38475835','machine_nn01-38475923'}\n",
    "relations = ['seed','synonym','descendant','sibling']\n",
    "\n",
    "# whether we use only information on the lemma for the predictive model (e.g. only the lemma senses definitions for lesk baselines)\n",
    "eval_mode = \"lemma\" # or lemma_etal\n",
    "\n",
    "df_quotations = binarize(lemma_id, \n",
    "                        senses, \n",
    "                        relations,\n",
    "                        strict_filter=True,\n",
    "                        start=1700,\n",
    "                        end=1910)"
   ],
   "cell_type": "code",
   "metadata": {},
   "execution_count": 3,
   "outputs": [
    {
     "output_type": "stream",
     "name": "stdout",
     "text": [
      "# senses before filtering by date = 8383\n",
      "# senses after filtering by date = 5904\n",
      "\n",
      "\n",
      "# of seed senses 23 \n",
      "# of synonyms 312 \n",
      "# of branch senses 4968\n",
      "\n",
      "\n",
      "# of seeds selected 1 \n",
      "# of synonyms selected 8 \n",
      "# of branches selected 5\n"
     ]
    }
   ]
  },
  {
   "cell_type": "code",
   "execution_count": 4,
   "metadata": {},
   "outputs": [
    {
     "output_type": "execute_result",
     "data": {
      "text/plain": [
       "                  id_x                                               text  \\\n",
       "0  mover_nn01-35820849  {'keyword': 'mover', 'full_text': 'Providence,...   \n",
       "1  mover_nn01-35820717  {'keyword': 'first Mover', 'full_text': 'The M...   \n",
       "2  mover_nn01-35820717  {'keyword': 'first Mover', 'full_text': 'The M...   \n",
       "3  mover_nn01-35820717  {'keyword': 'first Mover', 'full_text': 'The M...   \n",
       "4  mover_nn01-35820860  {'keyword': 'mover', 'full_text': 'They will w...   \n",
       "\n",
       "   year  lemma                                             source  \\\n",
       "0  1704  mover  {'title': '15th Rep. Royal Comm. Hist. MSS', '...   \n",
       "1  1711  mover  {'title': 'Ship-builders Assistant', 'author':...   \n",
       "2  1711  mover  {'title': 'Ship-builders Assistant', 'author':...   \n",
       "3  1711  mover  {'title': 'Ship-builders Assistant', 'author':...   \n",
       "4  1711  mover  {'title': 'Jrnl. to Stella', 'author': 'J. Swi...   \n",
       "\n",
       "                                             oed_url     word_id  \\\n",
       "0  https://www.oed.com/view/Entry/123034#eid35820849  mover_nn01   \n",
       "1  https://www.oed.com/view/Entry/123034#eid35820717  mover_nn01   \n",
       "2  https://www.oed.com/view/Entry/123034#eid35820717  mover_nn01   \n",
       "3  https://www.oed.com/view/Entry/123034#eid35820717  mover_nn01   \n",
       "4  https://www.oed.com/view/Entry/123034#eid35820860  mover_nn01   \n",
       "\n",
       "              sense_id datestring  first_in_word         oed_reference  \\\n",
       "0  mover_nn01-35820773       1704          False  mover, n.1, sense 2a   \n",
       "1  mover_nn01-35820685       1711          False  mover, n.1, sense 1c   \n",
       "2  mover_nn01-35820685       1711          False  mover, n.1, sense 1c   \n",
       "3  mover_nn01-35820685       1711          False  mover, n.1, sense 1c   \n",
       "4  mover_nn01-35820773       1711          False  mover, n.1, sense 2a   \n",
       "\n",
       "   first_in_sense label                 id_y  \\\n",
       "0           False     0                  NaN   \n",
       "1           False     1  mover_nn01-35820685   \n",
       "2           False     1  mover_nn01-35820685   \n",
       "3           False     1  mover_nn01-35820685   \n",
       "4           False     0                  NaN   \n",
       "\n",
       "                                           daterange  \\\n",
       "0                                                NaN   \n",
       "1  {'end': None, 'start': 1626, 'obsolete': False...   \n",
       "2  {'end': None, 'start': 1626, 'obsolete': False...   \n",
       "3  {'end': None, 'start': 1626, 'obsolete': False...   \n",
       "4                                                NaN   \n",
       "\n",
       "                                          definition  \\\n",
       "0                                                NaN   \n",
       "1  More fully first mover. An initial source (nat...   \n",
       "2  More fully first mover. An initial source (nat...   \n",
       "3  More fully first mover. An initial source (nat...   \n",
       "4                                                NaN   \n",
       "\n",
       "                                          provenance provenance_type  \\\n",
       "0                                                NaN             NaN   \n",
       "1  [[mover_nn01-35820685, synonym, machine_nn01-3...         synonym   \n",
       "2                        [[214198, sibling, 214198]]          branch   \n",
       "3                          [[84483, sibling, 84483]]          branch   \n",
       "4                                                NaN             NaN   \n",
       "\n",
       "                             relation_to_core_senses  relation_to_seed_senses  \n",
       "0                                                NaN                      NaN  \n",
       "1  {vice_nn02-15526247, mover_nn01-35820685, prim...  {machine_nn01-38475923}  \n",
       "2  {vice_nn02-15526247, mover_nn01-35820685, prim...  {machine_nn01-38475923}  \n",
       "3  {vice_nn02-15526247, mover_nn01-35820685, prim...  {machine_nn01-38475923}  \n",
       "4                                                NaN                      NaN  "
      ],
      "text/html": "<div>\n<style scoped>\n    .dataframe tbody tr th:only-of-type {\n        vertical-align: middle;\n    }\n\n    .dataframe tbody tr th {\n        vertical-align: top;\n    }\n\n    .dataframe thead th {\n        text-align: right;\n    }\n</style>\n<table border=\"1\" class=\"dataframe\">\n  <thead>\n    <tr style=\"text-align: right;\">\n      <th></th>\n      <th>id_x</th>\n      <th>text</th>\n      <th>year</th>\n      <th>lemma</th>\n      <th>source</th>\n      <th>oed_url</th>\n      <th>word_id</th>\n      <th>sense_id</th>\n      <th>datestring</th>\n      <th>first_in_word</th>\n      <th>oed_reference</th>\n      <th>first_in_sense</th>\n      <th>label</th>\n      <th>id_y</th>\n      <th>daterange</th>\n      <th>definition</th>\n      <th>provenance</th>\n      <th>provenance_type</th>\n      <th>relation_to_core_senses</th>\n      <th>relation_to_seed_senses</th>\n    </tr>\n  </thead>\n  <tbody>\n    <tr>\n      <td>0</td>\n      <td>mover_nn01-35820849</td>\n      <td>{'keyword': 'mover', 'full_text': 'Providence,...</td>\n      <td>1704</td>\n      <td>mover</td>\n      <td>{'title': '15th Rep. Royal Comm. Hist. MSS', '...</td>\n      <td>https://www.oed.com/view/Entry/123034#eid35820849</td>\n      <td>mover_nn01</td>\n      <td>mover_nn01-35820773</td>\n      <td>1704</td>\n      <td>False</td>\n      <td>mover, n.1, sense 2a</td>\n      <td>False</td>\n      <td>0</td>\n      <td>NaN</td>\n      <td>NaN</td>\n      <td>NaN</td>\n      <td>NaN</td>\n      <td>NaN</td>\n      <td>NaN</td>\n      <td>NaN</td>\n    </tr>\n    <tr>\n      <td>1</td>\n      <td>mover_nn01-35820717</td>\n      <td>{'keyword': 'first Mover', 'full_text': 'The M...</td>\n      <td>1711</td>\n      <td>mover</td>\n      <td>{'title': 'Ship-builders Assistant', 'author':...</td>\n      <td>https://www.oed.com/view/Entry/123034#eid35820717</td>\n      <td>mover_nn01</td>\n      <td>mover_nn01-35820685</td>\n      <td>1711</td>\n      <td>False</td>\n      <td>mover, n.1, sense 1c</td>\n      <td>False</td>\n      <td>1</td>\n      <td>mover_nn01-35820685</td>\n      <td>{'end': None, 'start': 1626, 'obsolete': False...</td>\n      <td>More fully first mover. An initial source (nat...</td>\n      <td>[[mover_nn01-35820685, synonym, machine_nn01-3...</td>\n      <td>synonym</td>\n      <td>{vice_nn02-15526247, mover_nn01-35820685, prim...</td>\n      <td>{machine_nn01-38475923}</td>\n    </tr>\n    <tr>\n      <td>2</td>\n      <td>mover_nn01-35820717</td>\n      <td>{'keyword': 'first Mover', 'full_text': 'The M...</td>\n      <td>1711</td>\n      <td>mover</td>\n      <td>{'title': 'Ship-builders Assistant', 'author':...</td>\n      <td>https://www.oed.com/view/Entry/123034#eid35820717</td>\n      <td>mover_nn01</td>\n      <td>mover_nn01-35820685</td>\n      <td>1711</td>\n      <td>False</td>\n      <td>mover, n.1, sense 1c</td>\n      <td>False</td>\n      <td>1</td>\n      <td>mover_nn01-35820685</td>\n      <td>{'end': None, 'start': 1626, 'obsolete': False...</td>\n      <td>More fully first mover. An initial source (nat...</td>\n      <td>[[214198, sibling, 214198]]</td>\n      <td>branch</td>\n      <td>{vice_nn02-15526247, mover_nn01-35820685, prim...</td>\n      <td>{machine_nn01-38475923}</td>\n    </tr>\n    <tr>\n      <td>3</td>\n      <td>mover_nn01-35820717</td>\n      <td>{'keyword': 'first Mover', 'full_text': 'The M...</td>\n      <td>1711</td>\n      <td>mover</td>\n      <td>{'title': 'Ship-builders Assistant', 'author':...</td>\n      <td>https://www.oed.com/view/Entry/123034#eid35820717</td>\n      <td>mover_nn01</td>\n      <td>mover_nn01-35820685</td>\n      <td>1711</td>\n      <td>False</td>\n      <td>mover, n.1, sense 1c</td>\n      <td>False</td>\n      <td>1</td>\n      <td>mover_nn01-35820685</td>\n      <td>{'end': None, 'start': 1626, 'obsolete': False...</td>\n      <td>More fully first mover. An initial source (nat...</td>\n      <td>[[84483, sibling, 84483]]</td>\n      <td>branch</td>\n      <td>{vice_nn02-15526247, mover_nn01-35820685, prim...</td>\n      <td>{machine_nn01-38475923}</td>\n    </tr>\n    <tr>\n      <td>4</td>\n      <td>mover_nn01-35820860</td>\n      <td>{'keyword': 'mover', 'full_text': 'They will w...</td>\n      <td>1711</td>\n      <td>mover</td>\n      <td>{'title': 'Jrnl. to Stella', 'author': 'J. Swi...</td>\n      <td>https://www.oed.com/view/Entry/123034#eid35820860</td>\n      <td>mover_nn01</td>\n      <td>mover_nn01-35820773</td>\n      <td>1711</td>\n      <td>False</td>\n      <td>mover, n.1, sense 2a</td>\n      <td>False</td>\n      <td>0</td>\n      <td>NaN</td>\n      <td>NaN</td>\n      <td>NaN</td>\n      <td>NaN</td>\n      <td>NaN</td>\n      <td>NaN</td>\n      <td>NaN</td>\n    </tr>\n  </tbody>\n</table>\n</div>"
     },
     "metadata": {},
     "execution_count": 4
    }
   ],
   "source": [
    "df_quotations.head()"
   ]
  },
  {
   "cell_type": "code",
   "execution_count": 5,
   "metadata": {},
   "outputs": [
    {
     "output_type": "execute_result",
     "data": {
      "text/plain": [
       "                      id    lemma      lemma_id  \\\n",
       "0  machine_nn01-38474548  machine  machine_nn01   \n",
       "1  machine_nn01-38475923  machine  machine_nn01   \n",
       "2  machine_nn01-38474607  machine  machine_nn01   \n",
       "3  machine_nn01-38474405  machine  machine_nn01   \n",
       "4  machine_nn01-38475164  machine  machine_nn01   \n",
       "\n",
       "                                          definition label  \\\n",
       "0    A ship or other vessel. Now colloquial: a boat.     0   \n",
       "1  Mechanics. Anything that transmits force or di...     1   \n",
       "2  A (usually wheeled) vehicle or conveyance, esp...     0   \n",
       "3  In literature, etc.: a contrivance for the sak...     0   \n",
       "4  In general use: an apparatus, device, instrume...     0   \n",
       "\n",
       "                                      nlp_definition  \n",
       "0  (A, ship, or, other, vessel, ., Now, colloquia...  \n",
       "1  (Mechanics, ., Anything, that, transmits, forc...  \n",
       "2  (A, (, usually, wheeled, ), vehicle, or, conve...  \n",
       "3  (In, literature, ,, etc, ., :, a, contrivance,...  \n",
       "4  (In, general, use, :, an, apparatus, ,, device...  "
      ],
      "text/html": "<div>\n<style scoped>\n    .dataframe tbody tr th:only-of-type {\n        vertical-align: middle;\n    }\n\n    .dataframe tbody tr th {\n        vertical-align: top;\n    }\n\n    .dataframe thead th {\n        text-align: right;\n    }\n</style>\n<table border=\"1\" class=\"dataframe\">\n  <thead>\n    <tr style=\"text-align: right;\">\n      <th></th>\n      <th>id</th>\n      <th>lemma</th>\n      <th>lemma_id</th>\n      <th>definition</th>\n      <th>label</th>\n      <th>nlp_definition</th>\n    </tr>\n  </thead>\n  <tbody>\n    <tr>\n      <td>0</td>\n      <td>machine_nn01-38474548</td>\n      <td>machine</td>\n      <td>machine_nn01</td>\n      <td>A ship or other vessel. Now colloquial: a boat.</td>\n      <td>0</td>\n      <td>(A, ship, or, other, vessel, ., Now, colloquia...</td>\n    </tr>\n    <tr>\n      <td>1</td>\n      <td>machine_nn01-38475923</td>\n      <td>machine</td>\n      <td>machine_nn01</td>\n      <td>Mechanics. Anything that transmits force or di...</td>\n      <td>1</td>\n      <td>(Mechanics, ., Anything, that, transmits, forc...</td>\n    </tr>\n    <tr>\n      <td>2</td>\n      <td>machine_nn01-38474607</td>\n      <td>machine</td>\n      <td>machine_nn01</td>\n      <td>A (usually wheeled) vehicle or conveyance, esp...</td>\n      <td>0</td>\n      <td>(A, (, usually, wheeled, ), vehicle, or, conve...</td>\n    </tr>\n    <tr>\n      <td>3</td>\n      <td>machine_nn01-38474405</td>\n      <td>machine</td>\n      <td>machine_nn01</td>\n      <td>In literature, etc.: a contrivance for the sak...</td>\n      <td>0</td>\n      <td>(In, literature, ,, etc, ., :, a, contrivance,...</td>\n    </tr>\n    <tr>\n      <td>4</td>\n      <td>machine_nn01-38475164</td>\n      <td>machine</td>\n      <td>machine_nn01</td>\n      <td>In general use: an apparatus, device, instrume...</td>\n      <td>0</td>\n      <td>(In, general, use, :, an, apparatus, ,, device...</td>\n    </tr>\n  </tbody>\n</table>\n</div>"
     },
     "metadata": {},
     "execution_count": 5
    }
   ],
   "source": [
    "df_selected_senses = df_quotations[['sense_id','lemma','word_id','definition','label']]\n",
    "df_selected_senses = df_selected_senses.rename(columns={'sense_id': 'id','word_id':'lemma_id'})\n",
    "df_selected_senses.drop_duplicates(inplace = True)\n",
    "df_selected_senses = df_selected_senses.reset_index(drop=True)\n",
    "\n",
    "if eval_mode == \"lemma\":\n",
    "    df_selected_senses = df_selected_senses[df_selected_senses['lemma_id'] == lemma_id]\n",
    "    df_selected_senses = df_selected_senses.reset_index(drop=True)\n",
    "\n",
    "if eval_mode == \"lemma_etal\":\n",
    "    print (\"We are not covering this functionality yet.\")\n",
    "    # we need all definitions of all senses in the quotation dataframe\n",
    "\n",
    "df_selected_senses[\"nlp_definition\"] = df_selected_senses.apply (lambda row: nlp_tools.preprocess(row[\"definition\"]), axis=1)\n",
    "\n",
    "df_selected_senses.head()"
   ]
  },
  {
   "cell_type": "code",
   "execution_count": 6,
   "metadata": {},
   "outputs": [
    {
     "output_type": "execute_result",
     "data": {
      "text/plain": [
       "                  id_x                                               text  \\\n",
       "0  mover_nn01-35820849  {'keyword': 'mover', 'full_text': 'Providence,...   \n",
       "1  mover_nn01-35820717  {'keyword': 'first Mover', 'full_text': 'The M...   \n",
       "2  mover_nn01-35820717  {'keyword': 'first Mover', 'full_text': 'The M...   \n",
       "3  mover_nn01-35820717  {'keyword': 'first Mover', 'full_text': 'The M...   \n",
       "4  mover_nn01-35820860  {'keyword': 'mover', 'full_text': 'They will w...   \n",
       "\n",
       "   year  lemma                                             source  \\\n",
       "0  1704  mover  {'title': '15th Rep. Royal Comm. Hist. MSS', '...   \n",
       "1  1711  mover  {'title': 'Ship-builders Assistant', 'author':...   \n",
       "2  1711  mover  {'title': 'Ship-builders Assistant', 'author':...   \n",
       "3  1711  mover  {'title': 'Ship-builders Assistant', 'author':...   \n",
       "4  1711  mover  {'title': 'Jrnl. to Stella', 'author': 'J. Swi...   \n",
       "\n",
       "                                             oed_url     word_id  \\\n",
       "0  https://www.oed.com/view/Entry/123034#eid35820849  mover_nn01   \n",
       "1  https://www.oed.com/view/Entry/123034#eid35820717  mover_nn01   \n",
       "2  https://www.oed.com/view/Entry/123034#eid35820717  mover_nn01   \n",
       "3  https://www.oed.com/view/Entry/123034#eid35820717  mover_nn01   \n",
       "4  https://www.oed.com/view/Entry/123034#eid35820860  mover_nn01   \n",
       "\n",
       "              sense_id datestring  first_in_word  ... first_in_sense  label  \\\n",
       "0  mover_nn01-35820773       1704          False  ...          False      0   \n",
       "1  mover_nn01-35820685       1711          False  ...          False      1   \n",
       "2  mover_nn01-35820685       1711          False  ...          False      1   \n",
       "3  mover_nn01-35820685       1711          False  ...          False      1   \n",
       "4  mover_nn01-35820773       1711          False  ...          False      0   \n",
       "\n",
       "                  id_y                                          daterange  \\\n",
       "0                  NaN                                                NaN   \n",
       "1  mover_nn01-35820685  {'end': None, 'start': 1626, 'obsolete': False...   \n",
       "2  mover_nn01-35820685  {'end': None, 'start': 1626, 'obsolete': False...   \n",
       "3  mover_nn01-35820685  {'end': None, 'start': 1626, 'obsolete': False...   \n",
       "4                  NaN                                                NaN   \n",
       "\n",
       "                                          definition  \\\n",
       "0                                                NaN   \n",
       "1  More fully first mover. An initial source (nat...   \n",
       "2  More fully first mover. An initial source (nat...   \n",
       "3  More fully first mover. An initial source (nat...   \n",
       "4                                                NaN   \n",
       "\n",
       "                                          provenance provenance_type  \\\n",
       "0                                                NaN             NaN   \n",
       "1  [[mover_nn01-35820685, synonym, machine_nn01-3...         synonym   \n",
       "2                        [[214198, sibling, 214198]]          branch   \n",
       "3                          [[84483, sibling, 84483]]          branch   \n",
       "4                                                NaN             NaN   \n",
       "\n",
       "                             relation_to_core_senses  relation_to_seed_senses  \\\n",
       "0                                                NaN                      NaN   \n",
       "1  {vice_nn02-15526247, mover_nn01-35820685, prim...  {machine_nn01-38475923}   \n",
       "2  {vice_nn02-15526247, mover_nn01-35820685, prim...  {machine_nn01-38475923}   \n",
       "3  {vice_nn02-15526247, mover_nn01-35820685, prim...  {machine_nn01-38475923}   \n",
       "4                                                NaN                      NaN   \n",
       "\n",
       "                                       nlp_full_text  \n",
       "0  (Providence, ,, which, I, humbly, recognize, a...  \n",
       "1     (The, Main, -, mast, is, the, first, Mover, .)  \n",
       "2     (The, Main, -, mast, is, the, first, Mover, .)  \n",
       "3     (The, Main, -, mast, is, the, first, Mover, .)  \n",
       "4  (They, will, want, him, prodigiously, in, the,...  \n",
       "\n",
       "[5 rows x 21 columns]"
      ],
      "text/html": "<div>\n<style scoped>\n    .dataframe tbody tr th:only-of-type {\n        vertical-align: middle;\n    }\n\n    .dataframe tbody tr th {\n        vertical-align: top;\n    }\n\n    .dataframe thead th {\n        text-align: right;\n    }\n</style>\n<table border=\"1\" class=\"dataframe\">\n  <thead>\n    <tr style=\"text-align: right;\">\n      <th></th>\n      <th>id_x</th>\n      <th>text</th>\n      <th>year</th>\n      <th>lemma</th>\n      <th>source</th>\n      <th>oed_url</th>\n      <th>word_id</th>\n      <th>sense_id</th>\n      <th>datestring</th>\n      <th>first_in_word</th>\n      <th>...</th>\n      <th>first_in_sense</th>\n      <th>label</th>\n      <th>id_y</th>\n      <th>daterange</th>\n      <th>definition</th>\n      <th>provenance</th>\n      <th>provenance_type</th>\n      <th>relation_to_core_senses</th>\n      <th>relation_to_seed_senses</th>\n      <th>nlp_full_text</th>\n    </tr>\n  </thead>\n  <tbody>\n    <tr>\n      <td>0</td>\n      <td>mover_nn01-35820849</td>\n      <td>{'keyword': 'mover', 'full_text': 'Providence,...</td>\n      <td>1704</td>\n      <td>mover</td>\n      <td>{'title': '15th Rep. Royal Comm. Hist. MSS', '...</td>\n      <td>https://www.oed.com/view/Entry/123034#eid35820849</td>\n      <td>mover_nn01</td>\n      <td>mover_nn01-35820773</td>\n      <td>1704</td>\n      <td>False</td>\n      <td>...</td>\n      <td>False</td>\n      <td>0</td>\n      <td>NaN</td>\n      <td>NaN</td>\n      <td>NaN</td>\n      <td>NaN</td>\n      <td>NaN</td>\n      <td>NaN</td>\n      <td>NaN</td>\n      <td>(Providence, ,, which, I, humbly, recognize, a...</td>\n    </tr>\n    <tr>\n      <td>1</td>\n      <td>mover_nn01-35820717</td>\n      <td>{'keyword': 'first Mover', 'full_text': 'The M...</td>\n      <td>1711</td>\n      <td>mover</td>\n      <td>{'title': 'Ship-builders Assistant', 'author':...</td>\n      <td>https://www.oed.com/view/Entry/123034#eid35820717</td>\n      <td>mover_nn01</td>\n      <td>mover_nn01-35820685</td>\n      <td>1711</td>\n      <td>False</td>\n      <td>...</td>\n      <td>False</td>\n      <td>1</td>\n      <td>mover_nn01-35820685</td>\n      <td>{'end': None, 'start': 1626, 'obsolete': False...</td>\n      <td>More fully first mover. An initial source (nat...</td>\n      <td>[[mover_nn01-35820685, synonym, machine_nn01-3...</td>\n      <td>synonym</td>\n      <td>{vice_nn02-15526247, mover_nn01-35820685, prim...</td>\n      <td>{machine_nn01-38475923}</td>\n      <td>(The, Main, -, mast, is, the, first, Mover, .)</td>\n    </tr>\n    <tr>\n      <td>2</td>\n      <td>mover_nn01-35820717</td>\n      <td>{'keyword': 'first Mover', 'full_text': 'The M...</td>\n      <td>1711</td>\n      <td>mover</td>\n      <td>{'title': 'Ship-builders Assistant', 'author':...</td>\n      <td>https://www.oed.com/view/Entry/123034#eid35820717</td>\n      <td>mover_nn01</td>\n      <td>mover_nn01-35820685</td>\n      <td>1711</td>\n      <td>False</td>\n      <td>...</td>\n      <td>False</td>\n      <td>1</td>\n      <td>mover_nn01-35820685</td>\n      <td>{'end': None, 'start': 1626, 'obsolete': False...</td>\n      <td>More fully first mover. An initial source (nat...</td>\n      <td>[[214198, sibling, 214198]]</td>\n      <td>branch</td>\n      <td>{vice_nn02-15526247, mover_nn01-35820685, prim...</td>\n      <td>{machine_nn01-38475923}</td>\n      <td>(The, Main, -, mast, is, the, first, Mover, .)</td>\n    </tr>\n    <tr>\n      <td>3</td>\n      <td>mover_nn01-35820717</td>\n      <td>{'keyword': 'first Mover', 'full_text': 'The M...</td>\n      <td>1711</td>\n      <td>mover</td>\n      <td>{'title': 'Ship-builders Assistant', 'author':...</td>\n      <td>https://www.oed.com/view/Entry/123034#eid35820717</td>\n      <td>mover_nn01</td>\n      <td>mover_nn01-35820685</td>\n      <td>1711</td>\n      <td>False</td>\n      <td>...</td>\n      <td>False</td>\n      <td>1</td>\n      <td>mover_nn01-35820685</td>\n      <td>{'end': None, 'start': 1626, 'obsolete': False...</td>\n      <td>More fully first mover. An initial source (nat...</td>\n      <td>[[84483, sibling, 84483]]</td>\n      <td>branch</td>\n      <td>{vice_nn02-15526247, mover_nn01-35820685, prim...</td>\n      <td>{machine_nn01-38475923}</td>\n      <td>(The, Main, -, mast, is, the, first, Mover, .)</td>\n    </tr>\n    <tr>\n      <td>4</td>\n      <td>mover_nn01-35820860</td>\n      <td>{'keyword': 'mover', 'full_text': 'They will w...</td>\n      <td>1711</td>\n      <td>mover</td>\n      <td>{'title': 'Jrnl. to Stella', 'author': 'J. Swi...</td>\n      <td>https://www.oed.com/view/Entry/123034#eid35820860</td>\n      <td>mover_nn01</td>\n      <td>mover_nn01-35820773</td>\n      <td>1711</td>\n      <td>False</td>\n      <td>...</td>\n      <td>False</td>\n      <td>0</td>\n      <td>NaN</td>\n      <td>NaN</td>\n      <td>NaN</td>\n      <td>NaN</td>\n      <td>NaN</td>\n      <td>NaN</td>\n      <td>NaN</td>\n      <td>(They, will, want, him, prodigiously, in, the,...</td>\n    </tr>\n  </tbody>\n</table>\n<p>5 rows × 21 columns</p>\n</div>"
     },
     "metadata": {},
     "execution_count": 6
    }
   ],
   "source": [
    "df_quotations[\"nlp_full_text\"] = df_quotations.apply (lambda row: nlp_tools.preprocess(row[\"text\"][\"full_text\"]), axis=1)\n",
    "df_quotations.head()"
   ]
  },
  {
   "cell_type": "code",
   "execution_count": 7,
   "metadata": {
    "tags": []
   },
   "outputs": [
    {
     "output_type": "stream",
     "name": "stderr",
     "text": [
      "100%|██████████| 799/799 [00:01<00:00, 645.68it/s]\n"
     ]
    },
    {
     "output_type": "execute_result",
     "data": {
      "text/plain": [
       "(0.234, 0.294, 0.261, 0.66)"
      ]
     },
     "metadata": {},
     "execution_count": 7
    }
   ],
   "source": [
    "approach = \"random\"\n",
    "\n",
    "df_quotations[approach] = df_quotations.progress_apply (lambda row: wsd.random_predict(df_selected_senses), axis=1)\n",
    "\n",
    "wsd.eval(approach,df_quotations)"
   ]
  },
  {
   "cell_type": "code",
   "execution_count": 8,
   "metadata": {
    "tags": []
   },
   "outputs": [
    {
     "output_type": "stream",
     "name": "stderr",
     "text": [
      "100%|██████████| 799/799 [00:02<00:00, 359.76it/s]\n"
     ]
    },
    {
     "output_type": "execute_result",
     "data": {
      "text/plain": [
       "(0.714, 0.123, 0.209, 0.811)"
      ]
     },
     "metadata": {},
     "execution_count": 8
    }
   ],
   "source": [
    "# be careful: i am using the example sentence (row[\"text\"][\"full_text\"]) as the input sentence and then measure its word overlap with the definition (see function). if you instead want to use the example as training data, we need to split in train/test\n",
    "\n",
    "approach = \"def_tok_overlap_ranking\"\n",
    "\n",
    "df_quotations[approach] = df_quotations.progress_apply (lambda row: wsd.tok_overlap_ranking(row[\"nlp_full_text\"], df_selected_senses), axis=1)\n",
    "\n",
    "wsd.eval(approach,df_quotations)"
   ]
  },
  {
   "cell_type": "code",
   "execution_count": 13,
   "metadata": {},
   "outputs": [
    {
     "output_type": "stream",
     "name": "stderr",
     "text": [
      "100%|██████████| 799/799 [00:01<00:00, 462.77it/s]\n"
     ]
    },
    {
     "output_type": "execute_result",
     "data": {
      "text/plain": [
       "(0.0, 0.0, 0.0, 0.795)"
      ]
     },
     "metadata": {},
     "execution_count": 13
    }
   ],
   "source": [
    "approach = \"sent_embedding\"\n",
    "\n",
    "df_quotations[approach] = df_quotations.progress_apply (lambda row: wsd.sent_embedding(row[\"nlp_full_text\"], df_selected_senses), axis=1)\n",
    "\n",
    "wsd.eval(approach,df_quotations)"
   ]
  },
  {
   "cell_type": "code",
   "execution_count": 10,
   "metadata": {},
   "outputs": [
    {
     "output_type": "stream",
     "name": "stderr",
     "text": [
      "100%|██████████| 799/799 [00:50<00:00, 15.71it/s]\n"
     ]
    },
    {
     "output_type": "execute_result",
     "data": {
      "text/plain": [
       "(0.0, 0.0, 0.0, 0.792)"
      ]
     },
     "metadata": {},
     "execution_count": 10
    }
   ],
   "source": [
    "approach = \"w2v_lesk_ranking\"\n",
    "\n",
    "# Warning: I use a Word2vec model trained on all 19thC BL corpus that is locally stored.\n",
    "wemb_model = Word2Vec.load(\"models/w2v/w2v_v004/w2v_words.model\")\n",
    "df_quotations[approach] = df_quotations.progress_apply (lambda row: wsd.w2v_lesk_ranking(row[\"nlp_full_text\"], df_selected_senses, wemb_model), axis=1)\n",
    "\n",
    "wsd.eval(approach,df_quotations)"
   ]
  },
  {
   "cell_type": "code",
   "execution_count": 11,
   "metadata": {},
   "outputs": [
    {
     "output_type": "stream",
     "name": "stderr",
     "text": [
      "100%|██████████| 799/799 [28:26<00:00,  2.14s/it]\n"
     ]
    },
    {
     "output_type": "execute_result",
     "data": {
      "text/plain": [
       "(0.518, 0.178, 0.265, 0.798)"
      ]
     },
     "metadata": {},
     "execution_count": 11
    }
   ],
   "source": [
    "approach = \"bert_lesk_ranking\"\n",
    "\n",
    "# Download model from (warning: this is a contemporary model):\n",
    "# https://public.ukp.informatik.tu-darmstadt.de/reimers/sentence-transformers/v0.2/bert-base-nli-mean-tokens.zip\n",
    "bert_sentsim_model = SentenceTransformer('models/bert/bert-base-nli-mean-tokens')\n",
    "df_quotations[approach] = df_quotations.progress_apply (lambda row: wsd.bert_lesk_ranking(row[\"text\"][\"full_text\"], df_selected_senses, bert_sentsim_model), axis=1)\n",
    "\n",
    "wsd.eval(approach,df_quotations)"
   ]
  }
 ],
 "metadata": {
  "kernelspec": {
   "display_name": "py37torch",
   "language": "python",
   "name": "py37torch"
  }
 },
 "nbformat": 4,
 "nbformat_minor": 2
}