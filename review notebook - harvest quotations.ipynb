{
 "cells": [
  {
   "cell_type": "markdown",
   "metadata": {},
   "source": [
    "# Review Notebook: Obtain quotations \n",
    "\n",
    "Review code for downloading quotations and saving them as a pickle file.\n",
    "\n",
    "Function to review:\n",
    "- `harvest_quotations_by_sense_id`\n",
    "    \n",
    "Part of:\n",
    "- `dataset_download.py`"
   ]
  },
  {
   "cell_type": "code",
   "execution_count": 13,
   "metadata": {},
   "outputs": [],
   "source": [
    "import pandas as pd\n",
    "import json\n",
    "from tqdm.notebook import tqdm\n",
    "from utils.dataset_download import *"
   ]
  },
  {
   "cell_type": "markdown",
   "metadata": {},
   "source": [
    "## Download quotations\n",
    "\n",
    "Function to download quotations given a dataframe with information obtained via the OED senses endpoint.\n",
    "- `harvest_quotations_by_sense_id(auth,lemma_id)`"
   ]
  },
  {
   "cell_type": "code",
   "execution_count": 4,
   "metadata": {},
   "outputs": [],
   "source": [
    "lemma_id = 'machine_nn01'"
   ]
  },
  {
   "cell_type": "code",
   "execution_count": 5,
   "metadata": {},
   "outputs": [],
   "source": [
    "# import API credentials\n",
    "with open('oed_experiments/oed_credentials.json') as f:\n",
    "    auth = json.load(f)"
   ]
  },
  {
   "cell_type": "markdown",
   "metadata": {},
   "source": [
    "# Run code"
   ]
  },
  {
   "cell_type": "markdown",
   "metadata": {},
   "source": [
    "*Warning*: please don't run over the complete dataframe, or it may risk overusing the API monthly limit."
   ]
  },
  {
   "cell_type": "code",
   "execution_count": 26,
   "metadata": {},
   "outputs": [],
   "source": [
    "#harvest_quotations_by_sense(auth,'machine_nn01')"
   ]
  },
  {
   "cell_type": "markdown",
   "metadata": {},
   "source": [
    "# Inspect code\n",
    "\n",
    "*Warning*: please don't run over the complete dataframe, or it may risk overusing the API monthly limit."
   ]
  },
  {
   "cell_type": "code",
   "execution_count": null,
   "metadata": {},
   "outputs": [],
   "source": [
    "df = pd.read_pickle(f'./data/extended_{lemma_id}.pickle')\n",
    "sense_ids = set(df.id)[:10] # for the purposes of review we limit the downoad to the first ten quotations"
   ]
  },
  {
   "cell_type": "code",
   "execution_count": null,
   "metadata": {},
   "outputs": [],
   "source": [
    "responses = [query_oed(auth,'sense',sense_id,level='quotations') for sense_id in tqdm(sense_ids)]\n",
    "quotation_df = pd.DataFrame([q for r in responses for q in r['data']])\n",
    "quotation_df.to_pickle(f'./data/quotations_{lemma_id}.pickle')"
   ]
  },
  {
   "cell_type": "markdown",
   "metadata": {},
   "source": [
    "Function:"
   ]
  },
  {
   "cell_type": "code",
   "execution_count": 25,
   "metadata": {},
   "outputs": [],
   "source": [
    "\n",
    "def harvest_quotations_by_sense_id(auth: dict,lemma_id: str) -> pd.DataFrame:\n",
    "    \"\"\"\n",
    "    Given a dataframe obtained via the OED sense endpoints\n",
    "    retrieve all quotations for these senses and save them\n",
    "    as a dataframe, path ./data/quotations_{lemma_id}.pickle\n",
    "     \n",
    "    Argument:\n",
    "        lemma_id (str): lemma of the seed query\n",
    "    Returns:\n",
    "        saves and returns a pd.DataFrame with quotations\n",
    "    \"\"\"\n",
    "    df = pd.read_pickle(f'./data/extended_{lemma_id}.pickle')\n",
    "    sense_ids = set(df.id)\n",
    "    responses = [query_oed(auth,'sense',sense_id,level='quotations') for sense_id in tqdm(sense_ids)]\n",
    "    quotation_df = pd.DataFrame([q for r in responses for q in r['data']])\n",
    "    quotation_df.to_pickle(f'./data/quotations_{lemma_id}.pickle')\n",
    "    return quotation_df"
   ]
  },
  {
   "cell_type": "code",
   "execution_count": null,
   "metadata": {},
   "outputs": [],
   "source": []
  }
 ],
 "metadata": {
  "kernelspec": {
   "display_name": "Python 3",
   "language": "python",
   "name": "python3"
  },
  "language_info": {
   "codemirror_mode": {
    "name": "ipython",
    "version": 3
   },
   "file_extension": ".py",
   "mimetype": "text/x-python",
   "name": "python",
   "nbconvert_exporter": "python",
   "pygments_lexer": "ipython3",
   "version": "3.7.4"
  }
 },
 "nbformat": 4,
 "nbformat_minor": 2
}
