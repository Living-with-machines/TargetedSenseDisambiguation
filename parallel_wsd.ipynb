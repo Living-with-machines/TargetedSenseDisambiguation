{
 "cells": [
  {
   "cell_type": "markdown",
   "metadata": {},
   "source": [
    "# Run `eval_sense` in parallel"
   ]
  },
  {
   "cell_type": "markdown",
   "metadata": {},
   "source": [
    "**Install `parhugin`** by:\n",
    "\n",
    "```bash\n",
    "pip install git+https://github.com/kasra-hosseini/parhugin.git\n",
    "```\n",
    "\n",
    "or follow the instructions [here](https://github.com/kasra-hosseini/parhugin#installation)."
   ]
  },
  {
   "cell_type": "code",
   "execution_count": 1,
   "metadata": {},
   "outputs": [],
   "source": [
    "%load_ext autoreload\n",
    "%autoreload 2\n",
    "%matplotlib inline"
   ]
  },
  {
   "cell_type": "code",
   "execution_count": 2,
   "metadata": {},
   "outputs": [],
   "source": [
    "import os\n",
    "import pandas as pd\n",
    "import numpy as np\n",
    "import json\n",
    "from tasks import wsd\n",
    "from pathlib import Path\n",
    "from utils import nlp_tools\n",
    "from parhugin import multiFunc\n",
    "from gensim.models import Word2Vec\n",
    "from sentence_transformers import SentenceTransformer\n",
    "from utils.dataset_download import harvest_data_from_extended_senses\n",
    "from utils.classificaton_utils import binarize,generate_definition_df, vectorize_target_expressions\n",
    "from tqdm.notebook import tqdm\n",
    "tqdm.pandas()"
   ]
  },
  {
   "source": [
    "# Prepare data"
   ],
   "cell_type": "markdown",
   "metadata": {}
  },
  {
   "cell_type": "code",
   "execution_count": 3,
   "metadata": {},
   "outputs": [],
   "source": [
    "\n",
    "\n",
    "# import API credentials\n",
    "with open('oed_experiments/oed_credentials.json') as f:\n",
    "    auth = json.load(f)\n",
    "\n",
    "\n",
    "lemma_pos = [[\"anger\",\"NN\"],[\"apple\",\"NN\"],[\"art\",\"NN\"],[\"democracy\",\"NN\"],[\"happiness\",\"NN\"],[\"labour\",\"NN\"],[\"machine\",\"NN\"],[\"man\",\"NN\"],[\"nation\",\"NN\"],[\"power\",\"NN\"],[\"slave\",\"NN\"],[\"technology\",\"NN\"],[\"woman\",\"NN\"]]\n",
    "\n",
    "\n",
    "embedding_methods = {'bert_base': {\"path\":'bert-base-uncased',\n",
    "                                   'layers':'-1,-2,-3,-4',\n",
    "                                   'pooling_operation':'mean'}}"
   ]
  },
  {
   "cell_type": "code",
   "execution_count": 4,
   "metadata": {},
   "outputs": [
    {
     "output_type": "stream",
     "name": "stdout",
     "text": [
      "Dataframe alread contains vectors from bert_base settings\n",
      "{'path': 'bert-base-uncased', 'layers': '-1,-2,-3,-4', 'pooling_operation': 'mean'}\n",
      "Dataframe alread contains vectors from bert_base settings\n",
      "{'path': 'bert-base-uncased', 'layers': '-1,-2,-3,-4', 'pooling_operation': 'mean'}\n"
     ]
    }
   ],
   "source": [
    "\n",
    "\n",
    "for lemma, pos in lemma_pos:\n",
    "    # [WARNING] if you run code for the first time uncomment line below, comment again after running this cell\n",
    "    #quotations = harvest_data_from_extended_senses(auth,f\"{lemma}_{pos}\")\n",
    "    quotations_path = f\"./data/sfrel_quotations_{lemma}_{pos}.pickle\"\n",
    "    vectorize_target_expressions(quotations_path,embedding_methods)"
   ]
  },
  {
   "source": [
    "# Evaluate"
   ],
   "cell_type": "markdown",
   "metadata": {}
  },
  {
   "cell_type": "code",
   "execution_count": 30,
   "metadata": {},
   "outputs": [],
   "source": [
    "def eval_sense(lemma,\n",
    "                pos,\n",
    "                senses,\n",
    "                start=1760,\n",
    "                end=1920,\n",
    "                train_on_dev=False,\n",
    "                vector_col='vector_bert_base_-1,-2,-3,-4_mean'):\n",
    "\n",
    "    df_train, df_val, df_test = binarize(lemma,\n",
    "                pos,\n",
    "                senses, \n",
    "                relations,\n",
    "                strict_filter=True,\n",
    "                start=start,\n",
    "                end=end,\n",
    "                eval_mode=eval_mode)\n",
    "\n",
    "    # no quotations for sense and timeframe\n",
    "    if df_train is None:\n",
    "        return None\n",
    "    \n",
    "    if train_on_dev:\n",
    "        df_train = pd.concat([df_train, df_val], axis=0)\n",
    "        df_train.reset_index(inplace=True,drop=True)\n",
    "\n",
    "    df_train[\"nlp_full_text\"] = df_train.apply (lambda row: nlp_tools.preprocess(row[\"full_text\"]), axis=1)\n",
    "    df_val[\"nlp_full_text\"] = df_val.apply (lambda row: nlp_tools.preprocess(row[\"full_text\"]), axis=1)\n",
    "    df_test[\"nlp_full_text\"] = df_test.apply (lambda row: nlp_tools.preprocess(row[\"full_text\"]), axis=1)\n",
    "\n",
    "    # random\n",
    "    df_test[\"random\"] = df_test.apply (lambda row: wsd.random_predict(), axis=1)\n",
    "\n",
    "    # retrieve and process definitions            \n",
    "    df_selected_senses = generate_definition_df(df_train,lemma,eval_mode=eval_mode)\n",
    "    df_selected_senses[\"nlp_definition\"] = df_selected_senses.apply (lambda row: nlp_tools.preprocess(row[\"definition\"]), axis=1)\n",
    "\n",
    "    # token overlap\n",
    "    df_test[\"def_tok_overlap_ranking\"] = df_test.apply (lambda row: wsd.tok_overlap_ranking(row[\"nlp_full_text\"], df_selected_senses), axis=1)\n",
    "\n",
    "    # spacy sentence embeddings\n",
    "    df_test[\"sent_embedding\"] = df_test.apply (lambda row: wsd.sent_embedding(row[\"nlp_full_text\"], df_selected_senses), axis=1)\n",
    "\n",
    "    #w2v lesk\n",
    "    # Warning: I use a Word2vec model trained on all 19thC BL corpus that is locally stored.\n",
    "    \n",
    "    df_test[\"w2v_lesk_ranking\"] = df_test.apply (lambda row: wsd.w2v_lesk_ranking(row[\"nlp_full_text\"], df_selected_senses, wemb_model), axis=1)\n",
    "\n",
    "    #Bert lesk\n",
    "    \n",
    "    #df_test[\"bert_lesk_ranking\"] = df_test.apply (lambda row: wsd.bert_lesk_ranking(row[\"text\"][\"full_text\"], df_selected_senses, bert_sentsim_model), axis=1)\n",
    "\n",
    "\n",
    "    # supervised baselined (w-emb SVM) - careful this is a 19thC BL model\n",
    "    df_test[\"svm_wemb_baseline\"] = wsd.svm_wemb_baseline(df_train,df_test,wemb_model)\n",
    "\n",
    "    \n",
    "    df_test[f\"bert_binary_centroid_{vector_col}\"] = df_test.apply(wsd.bert_binary_centroid_vector, \n",
    "                                        df_train = df_train, \n",
    "                                        vector_col=vector_col,\n",
    "                                        return_ranking=False, axis=1)\n",
    "\n",
    "    senseid2label = dict(df_test[['sense_id','label']].values)\n",
    "    df_test[f\"bert_centroid_sense_{vector_col}\"] = df_test.apply(wsd.bert_sense_centroid_vector,  \n",
    "                                                    senseid2label= senseid2label,\n",
    "                                                    vector_col=vector_col,\n",
    "                                                    df_train = df_train, axis=1)\n",
    "\n",
    "    centroid_vectors = df_train.groupby('label')[vector_col].apply(np.mean,axis=0)\n",
    "    sem_axis = centroid_vectors[1] - centroid_vectors[0] \n",
    "    df_test[f\"bert_contrast_{vector_col}\"] = df_test[vector_col].apply(wsd.bert_semaxis_vector,\n",
    "                                                    sem_axis=sem_axis,\n",
    "                                                    threshold=.0)\n",
    "\n",
    "    df_test[f\"bert_ts_binary_centroid_{vector_col}\"] = df_test.apply(wsd.bert_ts_binary_centroid_vector, \n",
    "                                                        df_train=df_train, \n",
    "                                                        ts_method='nearest',\n",
    "                                                        vector_col=vector_col,\n",
    "                                                        axis=1)\n",
    "\n",
    "    senseid2label = dict(df_test[['sense_id','label']].values)\n",
    "    df_test[f\"bert_ts_centroid_sense_{vector_col}\"] = df_test.apply(wsd.bert_ts_sense_centroid_vector,  \n",
    "                        senseid2label= senseid2label,\n",
    "                        ts_method='nearest',\n",
    "                        vector_col=vector_col,\n",
    "                        df_train = df_train, axis=1)\n",
    "\n",
    "    return df_test"
   ]
  },
  {
   "cell_type": "code",
   "execution_count": 31,
   "metadata": {},
   "outputs": [],
   "source": [
    "# Here, we first define the serial version of the run\n",
    "# It combines both eval_sense and other parts to output the results\n",
    "\n",
    "def serial_run(lemma, pos, senses, eval_mode, relations, start=1760, end=1920, train_on_dev=True, vector_col='vector_bert_base_-1,-2,-3,-4_mean'):\n",
    "    df_test = eval_sense(lemma,\n",
    "                         pos,\n",
    "                         senses,\n",
    "                         start=1760,\n",
    "                         end=1920,\n",
    "                         train_on_dev=True)\n",
    "\n",
    "    results_path = os.path.join('results', f\"{lemma}_{pos}\", eval_mode)\n",
    "    results_filename = '_'.join(senses) + \"~\" + \"+\".join(sorted(relations)) + \".csv\"\n",
    "    Path(results_path).mkdir(parents=True, exist_ok=True)\n",
    "\n",
    "    # IF df_test is None, create an empty DataFrame\n",
    "    if not isinstance(df_test, type(None)):\n",
    "        out_df = df_test.filter(['id_x','label','random','def_tok_overlap_ranking', \n",
    "                                 'sent_embedding', 'w2v_lesk_ranking',#'bert_lesk_ranking',\n",
    "                                 'svm_wemb_baseline',f\"bert_binary_centroid_{vector_col}\",\n",
    "                                 f\"bert_centroid_sense_{vector_col}\",f\"bert_contrast_{vector_col}\",\n",
    "                                 f\"bert_ts_binary_centroid_{vector_col}\",f\"bert_ts_centroid_sense_{vector_col}\"], axis=1)\n",
    "    else:\n",
    "        out_df = pd.DataFrame()\n",
    "\n",
    "    out_df.to_csv(os.path.join(results_path, results_filename), index=False)  "
   ]
  },
  {
   "cell_type": "code",
   "execution_count": 38,
   "metadata": {},
   "outputs": [],
   "source": [
    "# Collect a list of all runs, see list_jobs\n",
    "\n",
    "words = [['machine','NN'],[\"democracy\",\"NN\"]]\n",
    "#words = [[\"anger\",\"NN\"],[\"apple\",\"NN\"],[\"art\",\"NN\"],[\"democracy\",\"NN\"],[\"happiness\",\"NN\"],[\"labour\",\"NN\"],[\"machine\",\"NN\"],[\"man\",\"NN\"],[\"nation\",\"NN\"],[\"power\",\"NN\"],[\"slave\",\"NN\"],[\"technology\",\"NN\"],[\"woman\",\"NN\"]]\n",
    "\n",
    "relations = ['seed','synonym'] # ,'descendant','sibling'\n",
    "eval_mode = \"lemma_etal\" # lemma or lemma_etal\n",
    "\n",
    "wemb_model = Word2Vec.load(\"models/w2v_004/w2v_words.model\")\n",
    "\n",
    "# Download model from (warning: this is a contemporary model):\n",
    "# https://public.ukp.informatik.tu-darmstadt.de/reimers/sentence-transformers/v0.2/bert-base-nli-mean-tokens.zip\n",
    "\n",
    "bert_sentsim_model = SentenceTransformer('models/bert/bert-base-nli-mean-tokens')\n"
   ]
  },
  {
   "cell_type": "code",
   "execution_count": 39,
   "metadata": {},
   "outputs": [],
   "source": [
    "\n",
    "list_jobs = []\n",
    "for lemma, pos in words:\n",
    "    quotations_path = f\"./data/sfrel_quotations_{lemma}_{pos}.pickle\"\n",
    "    lemma_senses = pd.read_pickle(f'./data/lemma_senses_{lemma}_{pos}.pickle')\n",
    "    \n",
    "    # this is the index of the lemma id <-- we could remove this later\n",
    "    idx = \"01\"\n",
    "    \n",
    "    senses = set(lemma_senses[lemma_senses.word_id==f'{lemma}_{pos.lower()}{idx}'].id)\n",
    "    \n",
    "    for sense in list(senses):\n",
    "        list_jobs.append([serial_run, (lemma, pos, {sense}, eval_mode, relations, 1760, 1920, True)])"
   ]
  },
  {
   "cell_type": "code",
   "execution_count": 40,
   "metadata": {},
   "outputs": [
    {
     "output_type": "execute_result",
     "data": {
      "text/plain": [
       "[[<function __main__.serial_run(lemma, pos, senses, eval_mode, relations, start=1760, end=1920, train_on_dev=True, vector_col='vector_bert_base_-1,-2,-3,-4_mean')>,\n",
       "  ('machine',\n",
       "   'NN',\n",
       "   {'machine_nn01-38476397'},\n",
       "   'lemma_etal',\n",
       "   ['seed', 'synonym'],\n",
       "   1760,\n",
       "   1920,\n",
       "   True)],\n",
       " [<function __main__.serial_run(lemma, pos, senses, eval_mode, relations, start=1760, end=1920, train_on_dev=True, vector_col='vector_bert_base_-1,-2,-3,-4_mean')>,\n",
       "  ('machine',\n",
       "   'NN',\n",
       "   {'machine_nn01-38475099'},\n",
       "   'lemma_etal',\n",
       "   ['seed', 'synonym'],\n",
       "   1760,\n",
       "   1920,\n",
       "   True)]]"
      ]
     },
     "metadata": {},
     "execution_count": 40
    }
   ],
   "source": [
    "list_jobs[:2]"
   ]
  },
  {
   "cell_type": "markdown",
   "metadata": {},
   "source": [
    "---\n",
    "\n",
    "At this point, `list_jobs` contains a list of jobs to be run in parallel, e.g.: \n",
    "\n",
    "```python\n",
    "[   \n",
    "    [serial_run, (lemma1, pos1, ...)],\n",
    "    [serial_run, (lemma2, pos2, ...)],  \n",
    "    [serial_run, (...)],\n",
    "    ...\n",
    "] \n",
    "``` "
   ]
  },
  {
   "cell_type": "code",
   "execution_count": 41,
   "metadata": {},
   "outputs": [
    {
     "output_type": "stream",
     "name": "stdout",
     "text": [
      "[INFO] #requested processes: 8\n"
     ]
    }
   ],
   "source": [
    "# num_req_p: number of processes to be run in parallel\n",
    "myprocs = multiFunc(num_req_p=8)"
   ]
  },
  {
   "cell_type": "code",
   "execution_count": 42,
   "metadata": {},
   "outputs": [
    {
     "output_type": "stream",
     "name": "stdout",
     "text": [
      "#requested processed: 8\n#jobs: 33\n"
     ]
    }
   ],
   "source": [
    "# Add the list of jobs\n",
    "myprocs.add_list_jobs(list_jobs)\n",
    "print(myprocs)"
   ]
  },
  {
   "cell_type": "code",
   "execution_count": 37,
   "metadata": {
    "tags": []
   },
   "outputs": [
    {
     "output_type": "stream",
     "name": "stdout",
     "text": [
      "[INFO] start job-0\n",
      "====================\n",
      "\u001b[92m2021-01-20 12:57:37\u001b[0m \u001b[95mlwm-embeddings\u001b[0m \u001b[1m\u001b[90m[INFO]\u001b[0m \u001b[92m#finished jobs: 0\u001b[0m\n",
      "\u001b[92m2021-01-20 12:57:37\u001b[0m \u001b[95mlwm-embeddings\u001b[0m \u001b[1m\u001b[90m[INFO]\u001b[0m \u001b[92m#running jobs: 1\u001b[0m\n",
      "\u001b[92m2021-01-20 12:57:37\u001b[0m \u001b[95mlwm-embeddings\u001b[0m \u001b[1m\u001b[90m[INFO]\u001b[0m \u001b[92m#remained jobs: 6\u001b[0m\n",
      "====================\n",
      "[INFO] start job-1\n",
      "# senses before filtering by date = 94\n",
      "# senses after filtering by date = 71\n",
      "====================\n",
      "\u001b[92m2021-01-20 12:57:37\u001b[0m \u001b[95mlwm-embeddings\u001b[0m \u001b[1m\u001b[90m[INFO]\u001b[0m \u001b[92m#finished jobs: 0\u001b[0m\n",
      "\u001b[92m2021-01-20 12:57:37\u001b[0m \u001b[95mlwm-embeddings\u001b[0m \u001b[1m\u001b[90m[INFO]\u001b[0m \u001b[92m#running jobs: 2\u001b[0m\n",
      "\u001b[92m2021-01-20 12:57:37\u001b[0m \u001b[95mlwm-embeddings\u001b[0m \u001b[1m\u001b[90m[INFO]\u001b[0m \u001b[92m#remained jobs: 5\u001b[0m\n",
      "====================\n",
      "\n",
      "\n",
      "# of seed senses 7 \n",
      "# of synonyms 59 \n",
      "# of branch senses 0\n",
      "\n",
      "\n",
      "# of seeds selected 1 \n",
      "# of synonyms selected 0 \n",
      "# of branches selected 0\n",
      "[INFO] start job-2\n",
      "[LOG] #rows before removing None vector (24, 20)\n",
      "[LOG] #rows after removing None vector (24, 20)\n",
      "# senses before filtering by date = 94\n",
      "# senses after filtering by date = 71\n",
      "====================\n",
      "\u001b[92m2021-01-20 12:57:38\u001b[0m \u001b[95mlwm-embeddings\u001b[0m \u001b[1m\u001b[90m[INFO]\u001b[0m \u001b[92m#finished jobs: 0\u001b[0m\n",
      "\u001b[92m2021-01-20 12:57:38\u001b[0m \u001b[95mlwm-embeddings\u001b[0m \u001b[1m\u001b[90m[INFO]\u001b[0m \u001b[92m#running jobs: 3\u001b[0m\n",
      "\u001b[92m2021-01-20 12:57:38\u001b[0m \u001b[95mlwm-embeddings\u001b[0m \u001b[1m\u001b[90m[INFO]\u001b[0m \u001b[92m#remained jobs: 4\u001b[0m\n",
      "====================\n",
      "\n",
      "\n",
      "# of seed senses 7 \n",
      "# of synonyms 59 \n",
      "# of branch senses 0\n",
      "\n",
      "\n",
      "# of seeds selected 1 \n",
      "# of synonyms selected 1 \n",
      "# of branches selected 0\n",
      "[INFO] start job-3\n",
      "[LOG] #rows before removing None vector (27, 20)\n",
      "[LOG] #rows after removing None vector (27, 20)\n",
      "Using lemma_etal as evaluation mode.\n",
      "# senses before filtering by date = 94\n",
      "====================\n",
      "\u001b[92m2021-01-20 12:57:38\u001b[0m \u001b[95mlwm-embeddings\u001b[0m \u001b[1m\u001b[90m[INFO]\u001b[0m \u001b[92m#finished jobs: 0\u001b[0m\n",
      "\u001b[92m2021-01-20 12:57:38\u001b[0m \u001b[95mlwm-embeddings\u001b[0m \u001b[1m\u001b[90m[INFO]\u001b[0m \u001b[92m#running jobs: 4\u001b[0m\n",
      "\u001b[92m2021-01-20 12:57:38\u001b[0m \u001b[95mlwm-embeddings\u001b[0m \u001b[1m\u001b[90m[INFO]\u001b[0m \u001b[92m#remained jobs: 3\u001b[0m\n",
      "====================\n",
      "# senses after filtering by date = 71\n",
      "\n",
      "\n",
      "# of seed senses 7 \n",
      "# of synonyms 59 \n",
      "# of branch senses 0\n",
      "\n",
      "\n",
      "# of seeds selected 1 \n",
      "# of synonyms selected 7 \n",
      "# of branches selected 0\n",
      "[INFO] start job-4\n",
      "[LOG] #rows before removing None vector (71, 20)\n",
      "[LOG] #rows after removing None vector (71, 20)\n",
      "# senses before filtering by date = 94\n",
      "====================\n",
      "\u001b[92m2021-01-20 12:57:38\u001b[0m \u001b[95mlwm-embeddings\u001b[0m \u001b[1m\u001b[90m[INFO]\u001b[0m \u001b[92m#finished jobs: 0\u001b[0m\n",
      "\u001b[92m2021-01-20 12:57:38\u001b[0m \u001b[95mlwm-embeddings\u001b[0m \u001b[1m\u001b[90m[INFO]\u001b[0m \u001b[92m#running jobs: 5\u001b[0m\n",
      "\u001b[92m2021-01-20 12:57:38\u001b[0m \u001b[95mlwm-embeddings\u001b[0m \u001b[1m\u001b[90m[INFO]\u001b[0m \u001b[92m#remained jobs: 2\u001b[0m\n",
      "====================\n",
      "Using lemma_etal as evaluation mode.\n",
      "# senses after filtering by date = 71\n",
      "\n",
      "\n",
      "# of seed senses 7 \n",
      "# of synonyms 59 \n",
      "# of branch senses 0\n",
      "\n",
      "\n",
      "# of seeds selected 1 \n",
      "# of synonyms selected 38 \n",
      "# of branches selected 0\n",
      "[INFO] start job-5\n",
      "====================\n",
      "\u001b[92m2021-01-20 12:57:38\u001b[0m \u001b[95mlwm-embeddings\u001b[0m \u001b[1m\u001b[90m[INFO]\u001b[0m \u001b[92m#finished jobs: 0\u001b[0m\n",
      "\u001b[92m2021-01-20 12:57:38\u001b[0m \u001b[95mlwm-embeddings\u001b[0m \u001b[1m\u001b[90m[INFO]\u001b[0m \u001b[92m#running jobs: 6\u001b[0m\n",
      "\u001b[92m2021-01-20 12:57:38\u001b[0m \u001b[95mlwm-embeddings\u001b[0m \u001b[1m\u001b[90m[INFO]\u001b[0m \u001b[92m#remained jobs: 1\u001b[0m\n",
      "====================\n",
      "# senses before filtering by date = 94\n",
      "# senses after filtering by date = 71\n",
      "\n",
      "\n",
      "# of seed senses 7 \n",
      "# of synonyms 59 \n",
      "# of branch senses[LOG] #rows before removing None vector (584, 20)\n",
      " 0\n",
      "[LOG] #rows after removing None vector (575, 20)\n",
      "\n",
      "\n",
      "# of seeds selected 1 \n",
      "# of synonyms selected 5 \n",
      "# of branches selected 0\n",
      "[INFO] start job-6\n",
      "[LOG] #rows before removing None vector (39, 20)\n",
      "[LOG] #rows after removing None vector (39, 20)\n",
      "====================\n",
      "\u001b[92m2021-01-20 12:57:38\u001b[0m \u001b[95mlwm-embeddings\u001b[0m \u001b[1m\u001b[90m[INFO]\u001b[0m \u001b[92m#finished jobs: 0\u001b[0m\n",
      "\u001b[92m2021-01-20 12:57:38\u001b[0m \u001b[95mlwm-embeddings\u001b[0m \u001b[1m\u001b[90m[INFO]\u001b[0m \u001b[92m#running jobs: 7\u001b[0m\n",
      "\u001b[92m2021-01-20 12:57:38\u001b[0m \u001b[95mlwm-embeddings\u001b[0m \u001b[1m\u001b[90m[INFO]\u001b[0m \u001b[92m#remained jobs: 0\u001b[0m\n",
      "====================\n",
      "# senses before filtering by date = 94\n",
      "# senses after filtering by date = 71\n",
      "\n",
      "\n",
      "# of seed senses 7 \n",
      "# of synonyms 59 \n",
      "# of branch senses 0\n",
      "\n",
      "\n",
      "# of seeds selected 1 \n",
      "# of synonyms selected 8 \n",
      "# of branches selected 0\n",
      "Using lemma_etal as evaluation mode.\n",
      "[LOG] #rows before removing None vector (625, 20)\n",
      "[LOG] #rows after removing None vector (622, 20)\n",
      "# senses before filtering by date = 94\n",
      "Using lemma_etal as evaluation mode.\n",
      "# senses after filtering by date = 71\n",
      "\n",
      "\n",
      "# of seed senses 7 \n",
      "# of synonyms 59 \n",
      "# of branch senses 0\n",
      "\n",
      "\n",
      "# of seeds selected 1 \n",
      "# of synonyms selected 0 \n",
      "# of branches selected 0\n",
      "[LOG] #rows before removing None vector (24, 20)\n",
      "[LOG] #rows after removing None vector (24, 20)\n",
      "Using lemma_etal as evaluation mode.\n",
      "Using lemma_etal as evaluation mode.\n",
      "Using lemma_etal as evaluation mode.\n",
      "====================\n",
      "\u001b[92m2021-01-20 12:59:14\u001b[0m \u001b[95mlwm-embeddings\u001b[0m \u001b[1m\u001b[90m[INFO]\u001b[0m \u001b[92m#finished jobs: 7\u001b[0m\n",
      "\u001b[92m2021-01-20 12:59:14\u001b[0m \u001b[95mlwm-embeddings\u001b[0m \u001b[1m\u001b[90m[INFO]\u001b[0m \u001b[92m#running jobs: 0\u001b[0m\n",
      "\u001b[92m2021-01-20 12:59:14\u001b[0m \u001b[95mlwm-embeddings\u001b[0m \u001b[1m\u001b[90m[INFO]\u001b[0m \u001b[92m#remained jobs: 0\u001b[0m\n",
      "====================\n",
      "Total time: 96.57751250267029\n",
      "==========\n",
      "List of exceptions\n",
      "==========\n"
     ]
    }
   ],
   "source": [
    "myprocs.run_jobs(verbosity=2)"
   ]
  },
  {
   "cell_type": "code",
   "execution_count": null,
   "metadata": {},
   "outputs": [],
   "source": []
  }
 ],
 "metadata": {
  "kernelspec": {
   "display_name": "Python 3",
   "language": "python",
   "name": "python3"
  },
  "language_info": {
   "codemirror_mode": {
    "name": "ipython",
    "version": 3
   },
   "file_extension": ".py",
   "mimetype": "text/x-python",
   "name": "python",
   "nbconvert_exporter": "python",
   "pygments_lexer": "ipython3",
   "version": "3.7.5-final"
  }
 },
 "nbformat": 4,
 "nbformat_minor": 2
}