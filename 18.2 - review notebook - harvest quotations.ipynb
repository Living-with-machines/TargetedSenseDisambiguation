{
 "cells": [
  {
   "cell_type": "markdown",
   "metadata": {},
   "source": [
    "# Review Notebook for Obtaining Quotations form the OED API\n",
    "\n",
    "Review code for downloading quotations and saving them as a pickle file.\n",
    "\n",
    "Function to review:\n",
    "- `harvest_quotations` (main)\n",
    "    \n",
    "Part of:\n",
    "- `utils.dataset_download`\n",
    "\n",
    "Creator: Kaspar Beelen\n",
    "\n",
    "Reviewer(s):\n"
   ]
  },
  {
   "cell_type": "code",
   "execution_count": 1,
   "metadata": {},
   "outputs": [],
   "source": [
    "%load_ext autoreload"
   ]
  },
  {
   "cell_type": "code",
   "execution_count": 2,
   "metadata": {},
   "outputs": [],
   "source": [
    "%autoreload 2"
   ]
  },
  {
   "cell_type": "code",
   "execution_count": 3,
   "metadata": {},
   "outputs": [],
   "source": [
    "import pandas as pd\n",
    "import json\n",
    "from tqdm.notebook import tqdm\n",
    "from utils.dataset_download import *"
   ]
  },
  {
   "cell_type": "markdown",
   "metadata": {},
   "source": [
    "## Download quotations\n",
    "\n",
    "Function to download quotations given a dataframe with information obtained via the OED senses endpoint.\n",
    "- `harvest_quotations_by_sense_id(auth,lemma_id)`"
   ]
  },
  {
   "cell_type": "code",
   "execution_count": 4,
   "metadata": {},
   "outputs": [],
   "source": [
    "lemma_id = 'machine_nn01'"
   ]
  },
  {
   "cell_type": "code",
   "execution_count": 5,
   "metadata": {},
   "outputs": [],
   "source": [
    "# import API credentials\n",
    "with open('oed_experiments/oed_credentials.json') as f:\n",
    "    auth = json.load(f)"
   ]
  },
  {
   "cell_type": "markdown",
   "metadata": {},
   "source": [
    "# Run code"
   ]
  },
  {
   "cell_type": "markdown",
   "metadata": {},
   "source": [
    "**Warning**: please don't run code over the complete dataframe, it may risk overusing the API monthly limit."
   ]
  },
  {
   "cell_type": "code",
   "execution_count": 6,
   "metadata": {},
   "outputs": [],
   "source": [
    "# don't run if not necessary, e.g. for testing purposes\n",
    "# use Kernel > Interrupt\n",
    "# harvest_quotations_by_sense(auth,'machine_nn01')"
   ]
  },
  {
   "cell_type": "markdown",
   "metadata": {},
   "source": [
    "# Inspect code\n",
    "\n",
    "*Warning*: please don't run over the complete dataframe, or it may risk overusing the API monthly limit."
   ]
  },
  {
   "cell_type": "code",
   "execution_count": 27,
   "metadata": {},
   "outputs": [],
   "source": [
    "if level == 'sense':\n",
    "    ids = set(df.id)\n",
    "    suffix = 'related'\n",
    "elif level == 'word':\n",
    "    ids = set(df.word_id)\n",
    "    suffix = 'all'\n",
    "else:\n",
    "    raise Exception(\"Choose 'word' or 'level' as value for the 'level' argument\")"
   ]
  },
  {
   "cell_type": "code",
   "execution_count": 28,
   "metadata": {},
   "outputs": [
    {
     "data": {
      "text/plain": [
       "6035"
      ]
     },
     "execution_count": 28,
     "metadata": {},
     "output_type": "execute_result"
    }
   ],
   "source": [
    "len(ids)"
   ]
  },
  {
   "cell_type": "code",
   "execution_count": 29,
   "metadata": {},
   "outputs": [
    {
     "data": {
      "application/vnd.jupyter.widget-view+json": {
       "model_id": "d346bc7b8d92426a8bf88ccf20e5397a",
       "version_major": 2,
       "version_minor": 0
      },
      "text/plain": [
       "HBox(children=(FloatProgress(value=0.0, max=6035.0), HTML(value='')))"
      ]
     },
     "metadata": {},
     "output_type": "display_data"
    },
    {
     "name": "stdout",
     "output_type": "stream",
     "text": [
      "\n"
     ]
    }
   ],
   "source": [
    "responses = [query_oed(auth,level, idx, level='quotations') for idx in tqdm(ids)]\n",
    "quotation_df = pd.DataFrame([q for r in responses for q in r['data']])\n",
    "quotation_df.to_pickle(f'./data/quotations_{suffix}_{lemma_id}.pickle')"
   ]
  },
  {
   "cell_type": "code",
   "execution_count": 26,
   "metadata": {},
   "outputs": [
    {
     "data": {
      "text/html": [
       "<div>\n",
       "<style scoped>\n",
       "    .dataframe tbody tr th:only-of-type {\n",
       "        vertical-align: middle;\n",
       "    }\n",
       "\n",
       "    .dataframe tbody tr th {\n",
       "        vertical-align: top;\n",
       "    }\n",
       "\n",
       "    .dataframe thead th {\n",
       "        text-align: right;\n",
       "    }\n",
       "</style>\n",
       "<table border=\"1\" class=\"dataframe\">\n",
       "  <thead>\n",
       "    <tr style=\"text-align: right;\">\n",
       "      <th></th>\n",
       "      <th>id</th>\n",
       "      <th>text</th>\n",
       "      <th>year</th>\n",
       "      <th>lemma</th>\n",
       "      <th>source</th>\n",
       "      <th>oed_url</th>\n",
       "      <th>word_id</th>\n",
       "      <th>sense_id</th>\n",
       "      <th>datestring</th>\n",
       "      <th>first_in_word</th>\n",
       "      <th>oed_reference</th>\n",
       "      <th>first_in_sense</th>\n",
       "    </tr>\n",
       "  </thead>\n",
       "  <tbody>\n",
       "    <tr>\n",
       "      <td>0</td>\n",
       "      <td>pigmeat_nn01-13163366</td>\n",
       "      <td>{'keyword': 'pig-meat', 'full_text': 'I was at...</td>\n",
       "      <td>1754</td>\n",
       "      <td>pigmeat</td>\n",
       "      <td>{'title': 'Connoisseur', 'author': 'G. Colman'...</td>\n",
       "      <td>https://www.oed.com/view/Entry/237320#eid13163366</td>\n",
       "      <td>pigmeat_nn01</td>\n",
       "      <td>pigmeat_nn01-13163363</td>\n",
       "      <td>1754</td>\n",
       "      <td>True</td>\n",
       "      <td>pigmeat, n., sense 1</td>\n",
       "      <td>True</td>\n",
       "    </tr>\n",
       "    <tr>\n",
       "      <td>1</td>\n",
       "      <td>pigmeat_nn01-13163379</td>\n",
       "      <td>{'keyword': 'pig-meat', 'full_text': 'In short...</td>\n",
       "      <td>1784</td>\n",
       "      <td>pigmeat</td>\n",
       "      <td>{'title': 'Year's Journey through Paix Bâs', '...</td>\n",
       "      <td>https://www.oed.com/view/Entry/237320#eid13163379</td>\n",
       "      <td>pigmeat_nn01</td>\n",
       "      <td>pigmeat_nn01-13163363</td>\n",
       "      <td>1784</td>\n",
       "      <td>False</td>\n",
       "      <td>pigmeat, n., sense 1</td>\n",
       "      <td>False</td>\n",
       "    </tr>\n",
       "    <tr>\n",
       "      <td>2</td>\n",
       "      <td>pigmeat_nn01-13163399</td>\n",
       "      <td>{'keyword': 'pig meat', 'full_text': 'It preve...</td>\n",
       "      <td>1817</td>\n",
       "      <td>pigmeat</td>\n",
       "      <td>{'title': 'Parl. Deb.', 'author': None, 'gende...</td>\n",
       "      <td>https://www.oed.com/view/Entry/237320#eid13163399</td>\n",
       "      <td>pigmeat_nn01</td>\n",
       "      <td>pigmeat_nn01-13163363</td>\n",
       "      <td>1817</td>\n",
       "      <td>False</td>\n",
       "      <td>pigmeat, n., sense 1</td>\n",
       "      <td>False</td>\n",
       "    </tr>\n",
       "    <tr>\n",
       "      <td>3</td>\n",
       "      <td>pigmeat_nn01-13163416</td>\n",
       "      <td>{'keyword': 'pig meat', 'full_text': 'In most ...</td>\n",
       "      <td>1897</td>\n",
       "      <td>pigmeat</td>\n",
       "      <td>{'title': 'Syst. Med.', 'author': 'T. C. Allbu...</td>\n",
       "      <td>https://www.oed.com/view/Entry/237320#eid13163416</td>\n",
       "      <td>pigmeat_nn01</td>\n",
       "      <td>pigmeat_nn01-13163363</td>\n",
       "      <td>1897</td>\n",
       "      <td>False</td>\n",
       "      <td>pigmeat, n., sense 1</td>\n",
       "      <td>False</td>\n",
       "    </tr>\n",
       "    <tr>\n",
       "      <td>4</td>\n",
       "      <td>pigmeat_nn01-13163425</td>\n",
       "      <td>{'keyword': 'pig meat', 'full_text': 'Beef tak...</td>\n",
       "      <td>1918</td>\n",
       "      <td>pigmeat</td>\n",
       "      <td>{'title': 'Times', 'author': None, 'gender': N...</td>\n",
       "      <td>https://www.oed.com/view/Entry/237320#eid13163425</td>\n",
       "      <td>pigmeat_nn01</td>\n",
       "      <td>pigmeat_nn01-13163363</td>\n",
       "      <td>1918</td>\n",
       "      <td>False</td>\n",
       "      <td>pigmeat, n., sense 1</td>\n",
       "      <td>False</td>\n",
       "    </tr>\n",
       "    <tr>\n",
       "      <td>...</td>\n",
       "      <td>...</td>\n",
       "      <td>...</td>\n",
       "      <td>...</td>\n",
       "      <td>...</td>\n",
       "      <td>...</td>\n",
       "      <td>...</td>\n",
       "      <td>...</td>\n",
       "      <td>...</td>\n",
       "      <td>...</td>\n",
       "      <td>...</td>\n",
       "      <td>...</td>\n",
       "      <td>...</td>\n",
       "    </tr>\n",
       "    <tr>\n",
       "      <td>134</td>\n",
       "      <td>shebang_nn01-23236591</td>\n",
       "      <td>{'keyword': 'whole shebang', 'full_text': 'I'v...</td>\n",
       "      <td>1948</td>\n",
       "      <td>shebang</td>\n",
       "      <td>{'title': 'Golconda', 'author': 'V. Palmer', '...</td>\n",
       "      <td>https://www.oed.com/view/Entry/177736#eid23236591</td>\n",
       "      <td>shebang_nn01</td>\n",
       "      <td>shebang_nn01-23236545</td>\n",
       "      <td>1948</td>\n",
       "      <td>False</td>\n",
       "      <td>shebang, n., sense 2</td>\n",
       "      <td>False</td>\n",
       "    </tr>\n",
       "    <tr>\n",
       "      <td>135</td>\n",
       "      <td>shebang_nn01-23236535</td>\n",
       "      <td>{'keyword': 'shebangs', 'full_text': 'Less pic...</td>\n",
       "      <td>1963</td>\n",
       "      <td>shebang</td>\n",
       "      <td>{'title': 'Pioneer Farmer', 'author': 'E. C. G...</td>\n",
       "      <td>https://www.oed.com/view/Entry/177736#eid23236535</td>\n",
       "      <td>shebang_nn01</td>\n",
       "      <td>shebang_nn01-23236507</td>\n",
       "      <td>1963</td>\n",
       "      <td>False</td>\n",
       "      <td>shebang, n., sense 1c</td>\n",
       "      <td>False</td>\n",
       "    </tr>\n",
       "    <tr>\n",
       "      <td>136</td>\n",
       "      <td>shebang_nn01-23236599</td>\n",
       "      <td>{'keyword': 'shebang', 'full_text': 'You can't...</td>\n",
       "      <td>1967</td>\n",
       "      <td>shebang</td>\n",
       "      <td>{'title': 'Boston Sunday Herald', 'author': No...</td>\n",
       "      <td>https://www.oed.com/view/Entry/177736#eid23236599</td>\n",
       "      <td>shebang_nn01</td>\n",
       "      <td>shebang_nn01-23236545</td>\n",
       "      <td>1967</td>\n",
       "      <td>False</td>\n",
       "      <td>shebang, n., sense 2</td>\n",
       "      <td>False</td>\n",
       "    </tr>\n",
       "    <tr>\n",
       "      <td>137</td>\n",
       "      <td>shebang_nn01-23236608</td>\n",
       "      <td>{'keyword': 'whole shebang', 'full_text': 'The...</td>\n",
       "      <td>1977</td>\n",
       "      <td>shebang</td>\n",
       "      <td>{'title': 'Introd. Risk Anal.', 'author': 'R. ...</td>\n",
       "      <td>https://www.oed.com/view/Entry/177736#eid23236608</td>\n",
       "      <td>shebang_nn01</td>\n",
       "      <td>shebang_nn01-23236545</td>\n",
       "      <td>1977</td>\n",
       "      <td>False</td>\n",
       "      <td>shebang, n., sense 2</td>\n",
       "      <td>False</td>\n",
       "    </tr>\n",
       "    <tr>\n",
       "      <td>138</td>\n",
       "      <td>backlock_nn01-30520518</td>\n",
       "      <td>{'keyword': 'Back-Lock', 'full_text': 'Stand w...</td>\n",
       "      <td>1713</td>\n",
       "      <td>back-lock</td>\n",
       "      <td>{'title': 'Inn-play', 'author': 'T. Parkyns', ...</td>\n",
       "      <td>https://www.oed.com/view/Entry/14337#eid30520518</td>\n",
       "      <td>backlock_nn01</td>\n",
       "      <td>backlock_nn01-30519361</td>\n",
       "      <td>1713</td>\n",
       "      <td>True</td>\n",
       "      <td>‘back-lock’ in back-, comb. form</td>\n",
       "      <td>True</td>\n",
       "    </tr>\n",
       "  </tbody>\n",
       "</table>\n",
       "<p>139 rows × 12 columns</p>\n",
       "</div>"
      ],
      "text/plain": [
       "                         id  \\\n",
       "0     pigmeat_nn01-13163366   \n",
       "1     pigmeat_nn01-13163379   \n",
       "2     pigmeat_nn01-13163399   \n",
       "3     pigmeat_nn01-13163416   \n",
       "4     pigmeat_nn01-13163425   \n",
       "..                      ...   \n",
       "134   shebang_nn01-23236591   \n",
       "135   shebang_nn01-23236535   \n",
       "136   shebang_nn01-23236599   \n",
       "137   shebang_nn01-23236608   \n",
       "138  backlock_nn01-30520518   \n",
       "\n",
       "                                                  text  year      lemma  \\\n",
       "0    {'keyword': 'pig-meat', 'full_text': 'I was at...  1754    pigmeat   \n",
       "1    {'keyword': 'pig-meat', 'full_text': 'In short...  1784    pigmeat   \n",
       "2    {'keyword': 'pig meat', 'full_text': 'It preve...  1817    pigmeat   \n",
       "3    {'keyword': 'pig meat', 'full_text': 'In most ...  1897    pigmeat   \n",
       "4    {'keyword': 'pig meat', 'full_text': 'Beef tak...  1918    pigmeat   \n",
       "..                                                 ...   ...        ...   \n",
       "134  {'keyword': 'whole shebang', 'full_text': 'I'v...  1948    shebang   \n",
       "135  {'keyword': 'shebangs', 'full_text': 'Less pic...  1963    shebang   \n",
       "136  {'keyword': 'shebang', 'full_text': 'You can't...  1967    shebang   \n",
       "137  {'keyword': 'whole shebang', 'full_text': 'The...  1977    shebang   \n",
       "138  {'keyword': 'Back-Lock', 'full_text': 'Stand w...  1713  back-lock   \n",
       "\n",
       "                                                source  \\\n",
       "0    {'title': 'Connoisseur', 'author': 'G. Colman'...   \n",
       "1    {'title': 'Year's Journey through Paix Bâs', '...   \n",
       "2    {'title': 'Parl. Deb.', 'author': None, 'gende...   \n",
       "3    {'title': 'Syst. Med.', 'author': 'T. C. Allbu...   \n",
       "4    {'title': 'Times', 'author': None, 'gender': N...   \n",
       "..                                                 ...   \n",
       "134  {'title': 'Golconda', 'author': 'V. Palmer', '...   \n",
       "135  {'title': 'Pioneer Farmer', 'author': 'E. C. G...   \n",
       "136  {'title': 'Boston Sunday Herald', 'author': No...   \n",
       "137  {'title': 'Introd. Risk Anal.', 'author': 'R. ...   \n",
       "138  {'title': 'Inn-play', 'author': 'T. Parkyns', ...   \n",
       "\n",
       "                                               oed_url        word_id  \\\n",
       "0    https://www.oed.com/view/Entry/237320#eid13163366   pigmeat_nn01   \n",
       "1    https://www.oed.com/view/Entry/237320#eid13163379   pigmeat_nn01   \n",
       "2    https://www.oed.com/view/Entry/237320#eid13163399   pigmeat_nn01   \n",
       "3    https://www.oed.com/view/Entry/237320#eid13163416   pigmeat_nn01   \n",
       "4    https://www.oed.com/view/Entry/237320#eid13163425   pigmeat_nn01   \n",
       "..                                                 ...            ...   \n",
       "134  https://www.oed.com/view/Entry/177736#eid23236591   shebang_nn01   \n",
       "135  https://www.oed.com/view/Entry/177736#eid23236535   shebang_nn01   \n",
       "136  https://www.oed.com/view/Entry/177736#eid23236599   shebang_nn01   \n",
       "137  https://www.oed.com/view/Entry/177736#eid23236608   shebang_nn01   \n",
       "138   https://www.oed.com/view/Entry/14337#eid30520518  backlock_nn01   \n",
       "\n",
       "                   sense_id datestring  first_in_word  \\\n",
       "0     pigmeat_nn01-13163363       1754           True   \n",
       "1     pigmeat_nn01-13163363       1784          False   \n",
       "2     pigmeat_nn01-13163363       1817          False   \n",
       "3     pigmeat_nn01-13163363       1897          False   \n",
       "4     pigmeat_nn01-13163363       1918          False   \n",
       "..                      ...        ...            ...   \n",
       "134   shebang_nn01-23236545       1948          False   \n",
       "135   shebang_nn01-23236507       1963          False   \n",
       "136   shebang_nn01-23236545       1967          False   \n",
       "137   shebang_nn01-23236545       1977          False   \n",
       "138  backlock_nn01-30519361       1713           True   \n",
       "\n",
       "                        oed_reference  first_in_sense  \n",
       "0                pigmeat, n., sense 1            True  \n",
       "1                pigmeat, n., sense 1           False  \n",
       "2                pigmeat, n., sense 1           False  \n",
       "3                pigmeat, n., sense 1           False  \n",
       "4                pigmeat, n., sense 1           False  \n",
       "..                                ...             ...  \n",
       "134              shebang, n., sense 2           False  \n",
       "135             shebang, n., sense 1c           False  \n",
       "136              shebang, n., sense 2           False  \n",
       "137              shebang, n., sense 2           False  \n",
       "138  ‘back-lock’ in back-, comb. form            True  \n",
       "\n",
       "[139 rows x 12 columns]"
      ]
     },
     "execution_count": 26,
     "metadata": {},
     "output_type": "execute_result"
    }
   ],
   "source": [
    "quotation_df"
   ]
  },
  {
   "cell_type": "markdown",
   "metadata": {},
   "source": [
    "Function:"
   ]
  },
  {
   "cell_type": "code",
   "execution_count": null,
   "metadata": {},
   "outputs": [],
   "source": [
    "def harvest_quotations(auth: dict,lemma_id: str, level: str) -> pd.DataFrame:\n",
    "    \"\"\"\n",
    "    Given a dataframe obtained via the OED sense endpoints\n",
    "    retrieve all quotations for the included words or senses and save them\n",
    "    as a dataframe, path ./data/quotations_{lemma_id}.pickle\n",
    "     \n",
    "    Argument:\n",
    "        lemma_id (str): lemma of the seed query\n",
    "        level (str): endpoint for harvesting quotatios (sense or word)\n",
    "                    when using the sense endpoint we only get quotations relevant to\n",
    "                    the initial lemma\n",
    "    Returns:\n",
    "        saves and returns a pd.DataFrame with quotations\n",
    "    \"\"\"\n",
    "    df = pd.read_pickle(f'./data/extended_{lemma_id}.pickle')\n",
    "    if level == 'sense':\n",
    "        ids = set(df.id)\n",
    "        suffix = 'related'\n",
    "    elif level == 'word':\n",
    "        ids = set(df.word_id)\n",
    "        suffix = 'all'\n",
    "    else:\n",
    "        raise Exception(\"Choose 'word' or 'sense' as values for the 'level' argument\")\n",
    "\n",
    "    responses = [query_oed(auth,level, idx, level='quotations') for idx in tqdm(ids)]\n",
    "    quotation_df = pd.DataFrame([q for r in responses for q in r['data']])\n",
    "    quotation_df.to_pickle(f'./data/quotations_{suffix}_{lemma_id}.pickle')\n",
    "    return quotation_df"
   ]
  },
  {
   "cell_type": "markdown",
   "metadata": {},
   "source": [
    "## Fin."
   ]
  }
 ],
 "metadata": {
  "kernelspec": {
   "display_name": "Python 3",
   "language": "python",
   "name": "python3"
  },
  "language_info": {
   "codemirror_mode": {
    "name": "ipython",
    "version": 3
   },
   "file_extension": ".py",
   "mimetype": "text/x-python",
   "name": "python",
   "nbconvert_exporter": "python",
   "pygments_lexer": "ipython3",
   "version": "3.7.4"
  }
 },
 "nbformat": 4,
 "nbformat_minor": 2
}
