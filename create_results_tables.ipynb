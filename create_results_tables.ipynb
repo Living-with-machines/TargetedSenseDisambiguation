{
 "cells": [
  {
   "cell_type": "code",
   "execution_count": 1,
   "metadata": {},
   "outputs": [
    {
     "output_type": "stream",
     "name": "stderr",
     "text": [
      "/data/anaconda/envs/py37torch/lib/python3.7/site-packages/tqdm/std.py:668: FutureWarning: The Panel class is removed from pandas. Accessing it from the top-level namespace will also be removed in the next version\n  from pandas import Panel\n"
     ]
    }
   ],
   "source": [
    "import scipy\n",
    "import pandas as pd\n",
    "from pathlib import Path\n",
    "from utils.classificaton_utils import evaluate_results\n",
    "\n",
    "avg = \"none\" # either macro or none (if none, we consider label 1)"
   ]
  },
  {
   "cell_type": "markdown",
   "metadata": {},
   "source": [
    "# Table 2: Main evaluation"
   ]
  },
  {
   "cell_type": "code",
   "execution_count": 3,
   "metadata": {},
   "outputs": [],
   "source": [
    "results_1850 = evaluate_results(Path(f'results_1850'),avg=avg)\n",
    "results_1920 = evaluate_results(Path(f'results_1920'),avg=avg)\n",
    "results_2000 = evaluate_results(Path(f'results_2000'),avg=avg)"
   ]
  },
  {
   "cell_type": "code",
   "execution_count": 4,
   "metadata": {},
   "outputs": [],
   "source": [
    "df_1850 = pd.DataFrame.from_dict(results_1850, orient='index', columns=['precision','recall','fscore','preds'])\n",
    "df_1920 = pd.DataFrame.from_dict(results_1920, orient='index', columns=['precision','recall','fscore','preds'])\n",
    "df_2000 = pd.DataFrame.from_dict(results_2000, orient='index', columns=['precision','recall','fscore','preds'])"
   ]
  },
  {
   "cell_type": "code",
   "execution_count": 5,
   "metadata": {},
   "outputs": [],
   "source": [
    "renamed_columns = {\"def_tok_overlap_ranking\": \"Lesk: token overlap\",\n",
    "                   \"sent_embedding\": \"Lesk: sentence embedding\",\n",
    "                   \"w2v_lesk_ranking\": \"Lesk: w2v\",\n",
    "                   \"svm_wemb_baseline\": \"SVM classifier\",\n",
    "                   \"bert_binary_centroid_vector_bert_base_-1,-2,-3,-4_mean\": \"BERT_base binary centroid\",\n",
    "                   \"bert_centroid_sense_vector_bert_base_-1,-2,-3,-4_mean\": \"BERT_base sense centroid\",\n",
    "                   \"bert_ml_perceptron_vector_bert_base_-1,-2,-3,-4_mean\": \"BERT_base perceptron\",\n",
    "                   \"bert_binary_centroid_vector_blert_base_-1,-2,-3,-4_mean\": \"BERT_1900 binary centroid\",\n",
    "                   \"bert_centroid_sense_vector_blert_base_-1,-2,-3,-4_mean\": \"BERT_1900 sense centroid\",\n",
    "                   \"bert_ml_perceptron_vector_blert_base_-1,-2,-3,-4_mean\": \"BERT_1900 perceptron\",\n",
    "                   \"bert_binary_centroid_vector_bert_1850_-1,-2,-3,-4_mean\": \"BERT_1850 binary centroid\",\n",
    "                   \"bert_centroid_sense_vector_bert_1850_-1,-2,-3,-4_mean\": \"BERT_1850 sense centroid\",\n",
    "                   \"bert_ml_perceptron_vector_bert_1850_-1,-2,-3,-4_mean\": \"BERT_1850 perceptron\",\n",
    "                   \"bert_ts_nearest_centroid_sense_vector_bert_base_-1,-2,-3,-4_mean\": \"BERT_base nearest sense centroid\",\n",
    "                   \"bert_ts_weighted_centroid_sense_vector_bert_base_-1,-2,-3,-4_mean\": \"BERT_base weighted sense centroid\",\n",
    "                   \"bert_ts_nearest_centroid_sense_vector_blert_-1,-2,-3,-4_mean\": \"BERT_1900 nearest sense centroid\",\n",
    "                   \"bert_ts_weighted_centroid_sense_vector_blert_base_-1,-2,-3,-4_mean\": \"BERT_1900 weighted sense centroid\",\n",
    "                   \"bert_ts_nearest_centroid_sense_vector_bert_1850_-1,-2,-3,-4_mean\": \"BERT_1850 nearest sense centroid\",\n",
    "                   \"bert_ts_weighted_centroid_sense_vector_bert_1850_-1,-2,-3,-4_mean\": \"BERT_1850 weighted sense centroid\"}\n",
    "\n",
    "df_1850 = df_1850.rename(index=renamed_columns)\n",
    "df_1920 = df_1920.rename(index=renamed_columns)\n",
    "df_2000 = df_2000.rename(index=renamed_columns)"
   ]
  },
  {
   "cell_type": "code",
   "execution_count": 6,
   "metadata": {},
   "outputs": [],
   "source": [
    "df_fscores = pd.concat([df_1850[['precision', 'recall', 'fscore']], df_1920[['precision', 'recall', 'fscore']], df_2000[['precision', 'recall', 'fscore']]],axis=1) # ,df_2000['fscore']\n",
    "cols_baselines = [c for c in df_fscores.index if not c.startswith(\"bert_\")]\n",
    "cols_bert = [c for c in df_fscores.index if c.startswith(\"bert_\") and not 'ts' in c and not 'contrast' in c]\n",
    "df_fscores = df_fscores.loc[cols_baselines + cols_bert]"
   ]
  },
  {
   "cell_type": "code",
   "execution_count": 7,
   "metadata": {},
   "outputs": [
    {
     "output_type": "stream",
     "name": "stdout",
     "text": [
      "\\begin{tabular}{lrrrrrrrrr}\n\\toprule\n{} &  precision &  recall &  fscore &  precision &  recall &  fscore &  precision &  recall &  fscore \\\\\n\\midrule\nrandom                    &      0.103 &   0.516 &   0.171 &      0.090 &   0.508 &   0.153 &      0.085 &   0.503 &   0.145 \\\\\nLesk: token overlap       &      0.271 &   0.284 &   0.278 &      0.232 &   0.280 &   0.254 &      0.250 &   0.285 &   0.266 \\\\\nLesk: sentence embedding  &      0.235 &   0.165 &   0.194 &      0.256 &   0.196 &   0.222 &      0.251 &   0.195 &   0.219 \\\\\nLesk: w2v                 &      0.318 &   0.306 &   0.312 &      0.270 &   0.278 &   0.274 &      0.275 &   0.261 &   0.268 \\\\\nSVM classifier            &      0.489 &   0.089 &   0.150 &      0.492 &   0.093 &   0.156 &      0.525 &   0.086 &   0.148 \\\\\nBERT\\_base binary centroid &      0.253 &   0.702 &   0.372 &      0.236 &   0.700 &   0.353 &      0.237 &   0.721 &   0.356 \\\\\nBERT\\_base sense centroid  &      0.732 &   0.480 &   0.580 &      0.658 &   0.482 &   0.556 &      0.595 &   0.487 &   0.536 \\\\\nBERT\\_base perceptron      &      0.582 &   0.426 &   0.492 &      0.561 &   0.442 &   0.494 &      0.584 &   0.463 &   0.516 \\\\\nBERT\\_1900 binary centroid &      0.239 &   0.728 &   0.359 &      0.223 &   0.736 &   0.342 &      0.221 &   0.739 &   0.341 \\\\\nBERT\\_1900 sense centroid  &      0.770 &   0.501 &   0.607 &      0.678 &   0.508 &   0.581 &      0.614 &   0.495 &   0.548 \\\\\nBERT\\_1900 perceptron      &      0.590 &   0.458 &   0.516 &      0.556 &   0.447 &   0.495 &      0.590 &   0.463 &   0.519 \\\\\nBERT\\_1850 binary centroid &      0.242 &   0.719 &   0.362 &      0.221 &   0.720 &   0.339 &      0.219 &   0.724 &   0.336 \\\\\nBERT\\_1850 sense centroid  &      0.742 &   0.491 &   0.591 &      0.669 &   0.486 &   0.563 &      0.604 &   0.496 &   0.545 \\\\\nBERT\\_1850 perceptron      &      0.573 &   0.417 &   0.483 &      0.558 &   0.455 &   0.501 &      0.556 &   0.448 &   0.496 \\\\\n\\bottomrule\n\\end{tabular}\n\n"
     ]
    }
   ],
   "source": [
    "print(df_fscores.to_latex())"
   ]
  },
  {
   "cell_type": "code",
   "execution_count": 8,
   "metadata": {},
   "outputs": [],
   "source": [
    "rows_1850 = [r for r in df_fscores.index if '1850' in r]\n",
    "rows_1920 = [r for r in df_fscores.index if '1900' in r]\n",
    "rows_2000 = [r for r in df_fscores.index if 'base' in r]"
   ]
  },
  {
   "cell_type": "code",
   "execution_count": 9,
   "metadata": {},
   "outputs": [],
   "source": [
    "diff_1850_2000 = df_1850.loc[df_1850.index.isin(rows_1850)].fscore.values - df_1850.loc[df_1850.index.isin(rows_2000)].fscore.values\n",
    "diff_1920_2000 = df_1920.loc[df_1920.index.isin(rows_1920)].fscore.values - df_1920.loc[df_1920.index.isin(rows_2000)].fscore.values"
   ]
  },
  {
   "cell_type": "code",
   "execution_count": 10,
   "metadata": {},
   "outputs": [
    {
     "output_type": "stream",
     "name": "stdout",
     "text": [
      "\\begin{tabular}{lrr}\n\\toprule\n{} &      0 &      1 \\\\\n\\midrule\nBERT\\_base binary centroid & -0.010 & -0.011 \\\\\nBERT\\_base sense centroid  &  0.011 &  0.025 \\\\\nBERT\\_base perceptron      & -0.009 &  0.001 \\\\\n\\bottomrule\n\\end{tabular}\n\n"
     ]
    }
   ],
   "source": [
    "df_diff = pd.DataFrame([diff_1850_2000,diff_1920_2000],columns=rows_2000).T\n",
    "#df_diff['sum'] = df_diff.sum(axis=1)\n",
    "print(df_diff.to_latex())"
   ]
  },
  {
   "cell_type": "markdown",
   "metadata": {},
   "source": [
    "# Table 3: Time-sensitive methods"
   ]
  },
  {
   "cell_type": "code",
   "execution_count": 11,
   "metadata": {},
   "outputs": [],
   "source": [
    "results_ts_1850 = evaluate_results(Path(\"results_ts_1850\"),avg=avg)\n",
    "results_ts_1920 = evaluate_results(Path(\"results_ts_1920\"),avg=avg)"
   ]
  },
  {
   "cell_type": "code",
   "execution_count": 12,
   "metadata": {},
   "outputs": [],
   "source": [
    "df_ts_1850 = pd.DataFrame.from_dict(results_ts_1850, orient='index', columns=['precision','recall','fscore','preds'])\n",
    "df_ts_1920 = pd.DataFrame.from_dict(results_ts_1920, orient='index', columns=['precision','recall','fscore','preds'])\n",
    "df_fscores = pd.concat([df_ts_1850['fscore'], df_ts_1920['fscore']],axis=1)\n",
    "df_fscores = df_fscores.rename(index=renamed_columns)"
   ]
  },
  {
   "cell_type": "code",
   "execution_count": 13,
   "metadata": {},
   "outputs": [
    {
     "output_type": "execute_result",
     "data": {
      "text/plain": [
       "Index(['BERT_base sense centroid', 'BERT_base nearest sense centroid',\n",
       "       'BERT_base weighted sense centroid',\n",
       "       'bert_centroid_sense_vector_blert_base_-1,-2,-3,-4_mean',\n",
       "       'bert_ts_nearest_centroid_sense_vector_blert_base_-1,-2,-3,-4_mean',\n",
       "       'bert_ts_weighted_centroid_sense_vector_blert_base_-1,-2,-3,-4_mean',\n",
       "       'BERT_1850 sense centroid', 'BERT_1850 nearest sense centroid',\n",
       "       'BERT_1850 weighted sense centroid'],\n",
       "      dtype='object')"
      ]
     },
     "metadata": {},
     "execution_count": 13
    }
   ],
   "source": [
    "df_fscores.index"
   ]
  },
  {
   "cell_type": "code",
   "execution_count": 14,
   "metadata": {},
   "outputs": [
    {
     "output_type": "stream",
     "name": "stdout",
     "text": [
      "\\begin{tabular}{lrr}\n\\toprule\n{} &  fscore &  fscore \\\\\n\\midrule\nBERT\\_base sense centroid                           &   0.575 &   0.552 \\\\\nBERT\\_base nearest sense centroid                   &   0.458 &   0.433 \\\\\nBERT\\_base weighted sense centroid                  &   0.593 &   0.556 \\\\\nbert\\_centroid\\_sense\\_vector\\_blert\\_base\\_-1,-2,-3,... &   0.604 &   0.592 \\\\\nbert\\_ts\\_nearest\\_centroid\\_sense\\_vector\\_blert\\_bas... &   0.505 &   0.464 \\\\\nbert\\_ts\\_weighted\\_centroid\\_sense\\_vector\\_blert\\_ba... &   0.627 &   0.584 \\\\\nBERT\\_1850 sense centroid                           &   0.602 &   0.579 \\\\\nBERT\\_1850 nearest sense centroid                   &   0.489 &   0.441 \\\\\nBERT\\_1850 weighted sense centroid                  &   0.609 &   0.562 \\\\\n\\bottomrule\n\\end{tabular}\n\n"
     ]
    }
   ],
   "source": [
    "print(df_fscores.to_latex())"
   ]
  },
  {
   "cell_type": "markdown",
   "metadata": {},
   "source": [
    "# Curated examples"
   ]
  },
  {
   "cell_type": "code",
   "execution_count": 25,
   "metadata": {},
   "outputs": [],
   "source": [
    "results_curated_seed = evaluate_results(Path(f'results_curated_1920_seed'),avg=avg)\n",
    "results_curated_synonym = evaluate_results(Path(f'results_curated_1920_syn'),avg=avg)"
   ]
  },
  {
   "cell_type": "code",
   "execution_count": 26,
   "metadata": {},
   "outputs": [],
   "source": [
    "df_curated_seed = pd.DataFrame.from_dict(results_curated_seed, orient='index', columns=['precision','recall','fscore','preds'])\n",
    "df_curated_synonym = pd.DataFrame.from_dict(results_curated_synonym, orient='index', columns=['precision','recall','fscore','preds'])"
   ]
  },
  {
   "cell_type": "code",
   "execution_count": 27,
   "metadata": {},
   "outputs": [
    {
     "output_type": "stream",
     "name": "stdout",
     "text": [
      "\\begin{tabular}{lrr}\n\\toprule\n{} &  vertical &  horizontal \\\\\n\\midrule\nBERT\\_base sense centroid                           &     0.691 &       0.536 \\\\\nBERT\\_base weighted sense centroid                  &     0.582 &       0.521 \\\\\nBERT\\_base perceptron                               &     0.710 &       0.493 \\\\\nbert\\_centroid\\_sense\\_vector\\_blert\\_base\\_-1,-2,-3,... &     0.700 &       0.554 \\\\\nbert\\_ts\\_weighted\\_centroid\\_sense\\_vector\\_blert\\_ba... &     0.613 &       0.566 \\\\\nbert\\_ml\\_perceptron\\_vector\\_blert\\_base\\_-1,-2,-3,-... &     0.612 &       0.526 \\\\\nBERT\\_1850 sense centroid                           &     0.658 &       0.563 \\\\\nBERT\\_1850 weighted sense centroid                  &     0.564 &       0.540 \\\\\nBERT\\_1850 perceptron                               &     0.621 &       0.482 \\\\\n\\bottomrule\n\\end{tabular}\n\n"
     ]
    }
   ],
   "source": [
    "df_fscore = pd.concat([df_curated_seed['fscore'],df_curated_synonym['fscore']], axis=1)\n",
    "df_fscore = df_fscore.rename(index=renamed_columns)\n",
    "df_fscore.columns=['vertical','horizontal']\n",
    "print(df_fscore.to_latex())"
   ]
  },
  {
   "cell_type": "markdown",
   "metadata": {},
   "source": [
    "# Assess Statistical Significance"
   ]
  },
  {
   "cell_type": "code",
   "execution_count": null,
   "metadata": {},
   "outputs": [],
   "source": [
    "res = evaluate_results(Path(\"results_1920/\"),avg=avg)\n",
    "\n",
    "selected = \"bert_centroid_sense_vector_bert_base_-1,-2,-3,-4_mean\"\n",
    "\n",
    "selected_pred = res[selected][3]\n",
    "print (selected, res[selected][:3], \"\\n\\nIs the difference significant?\\n\")\n",
    "\n",
    "for method,values in res.items():\n",
    "    if method != selected:\n",
    "        pred = values[3]\n",
    "        p_value = scipy.stats.ttest_rel(selected_pred[0],pred[0])[1]\n",
    "        if p_value<0.05:\n",
    "            print (method, values[:3], \"YES\")\n",
    "        else:\n",
    "            print (method, values[:3], \"NO p_value:\",round(p_value,5))"
   ]
  },
  {
   "cell_type": "code",
   "execution_count": null,
   "metadata": {},
   "outputs": [],
   "source": []
  }
 ],
 "metadata": {
  "kernelspec": {
   "name": "python375jvsc74a57bd05d002d29fc59799ec58342307c50be960f7297ba8a27d201097020f600ad239f",
   "display_name": "Python 3.7.5 64-bit ('py37torch': conda)"
  },
  "language_info": {
   "codemirror_mode": {
    "name": "ipython",
    "version": 3
   },
   "file_extension": ".py",
   "mimetype": "text/x-python",
   "name": "python",
   "nbconvert_exporter": "python",
   "pygments_lexer": "ipython3",
   "version": "3.7.5"
  },
  "metadata": {
   "interpreter": {
    "hash": "5d002d29fc59799ec58342307c50be960f7297ba8a27d201097020f600ad239f"
   }
  }
 },
 "nbformat": 4,
 "nbformat_minor": 2
}