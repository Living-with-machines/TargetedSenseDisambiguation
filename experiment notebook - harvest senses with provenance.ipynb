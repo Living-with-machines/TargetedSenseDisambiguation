{
 "cells": [
  {
   "cell_type": "code",
   "execution_count": 14,
   "metadata": {},
   "outputs": [],
   "source": [
    "import pandas as pd"
   ]
  },
  {
   "cell_type": "code",
   "execution_count": 15,
   "metadata": {},
   "outputs": [],
   "source": [
    "lemma_id = 'machine_nn01'"
   ]
  },
  {
   "cell_type": "code",
   "execution_count": 16,
   "metadata": {},
   "outputs": [],
   "source": [
    "df = pd.read_pickle(f'./data/extended_{lemma_id}.pickle')"
   ]
  },
  {
   "cell_type": "code",
   "execution_count": 17,
   "metadata": {},
   "outputs": [
    {
     "data": {
      "text/plain": [
       "{'machine_nn01-38473945',\n",
       " 'machine_nn01-38474097',\n",
       " 'machine_nn01-38474140',\n",
       " 'machine_nn01-38474233',\n",
       " 'machine_nn01-38474301',\n",
       " 'machine_nn01-38474405',\n",
       " 'machine_nn01-38474548',\n",
       " 'machine_nn01-38474607',\n",
       " 'machine_nn01-38474820',\n",
       " 'machine_nn01-38474877',\n",
       " 'machine_nn01-38474974',\n",
       " 'machine_nn01-38475013',\n",
       " 'machine_nn01-38475046',\n",
       " 'machine_nn01-38475099',\n",
       " 'machine_nn01-38475164',\n",
       " 'machine_nn01-38475286',\n",
       " 'machine_nn01-38475494',\n",
       " 'machine_nn01-38475772',\n",
       " 'machine_nn01-38475835',\n",
       " 'machine_nn01-38475923',\n",
       " 'machine_nn01-38475994',\n",
       " 'machine_nn01-38476096',\n",
       " 'machine_nn01-38476245',\n",
       " 'machine_nn01-38476316',\n",
       " 'machine_nn01-38476397',\n",
       " 'machine_nn01-38476566'}"
      ]
     },
     "execution_count": 17,
     "metadata": {},
     "output_type": "execute_result"
    }
   ],
   "source": [
    "set(df[df['provenance_type'] == \"seed\"].id)"
   ]
  },
  {
   "cell_type": "code",
   "execution_count": 18,
   "metadata": {},
   "outputs": [
    {
     "data": {
      "text/plain": [
       "branch     7866\n",
       "synonym     491\n",
       "seed         26\n",
       "Name: provenance_type, dtype: int64"
      ]
     },
     "execution_count": 18,
     "metadata": {},
     "output_type": "execute_result"
    }
   ],
   "source": [
    "df.provenance_type.value_counts()"
   ]
  },
  {
   "cell_type": "code",
   "execution_count": 40,
   "metadata": {},
   "outputs": [],
   "source": [
    "def select_senses_by_provenance(sub_df: pd.DataFrame, sense_ids: set, relations: list):\n",
    "    indices, senses = set(),set()\n",
    "    for i, row in sub_df.iterrows():\n",
    "        for oed_id, relation, prov_id in row.provenance:\n",
    "            if (prov_id in sense_ids) and (relation in relations):\n",
    "                senses.add(oed_id); indices.add(i)\n",
    "                \n",
    "    return list(indices), list(senses)"
   ]
  },
  {
   "cell_type": "code",
   "execution_count": 49,
   "metadata": {},
   "outputs": [],
   "source": [
    "def obtain_senses(df, sense_ids:set, relations:list):\n",
    "    seeds = df[df['provenance_type'] == \"seed\"].reset_index(inplace=False)\n",
    "    synonyms = df[df['provenance_type'] == \"synonym\"].reset_index(inplace=False)\n",
    "    branches = df[df['provenance_type'] == \"branch\"].reset_index(inplace=False)\n",
    "    \n",
    "    #print(seeds.shape[0],synonyms.shape[0],branches.shape[0])\n",
    "    if \"seed\" in relations:\n",
    "        seeds_selected = set(seeds[seeds.id.isin(sense_ids)].id)\n",
    "\n",
    "    if \"synonym\" in relations:\n",
    "        syn_sel_indices, synonyms_selected = select_senses_by_provenance(synonyms,sense_ids,relations)\n",
    "    \n",
    "    \n",
    "    select_synonyms_semantic_class_id = synonyms[synonyms.id.isin(synonyms_selected)].semantic_class_last_id\n",
    "    semantic_class_ids = set().union(*map(set,select_synonyms_semantic_class_id))\n",
    "    \n",
    "    branch_sel_indices, branches_selected = select_senses_by_provenance(branches,semantic_class_ids,relations)\n",
    "    \n",
    "    senses = set(branches.iloc[branch_sel_indices].id\n",
    "               ).union(set(synonyms.iloc[syn_sel_indices].id)\n",
    "                        ).union(set(seeds_selected))\n",
    "    return senses\n",
    "    \n",
    "    \n",
    "senses = obtain_senses(df,{'machine_nn01-38475835','machine_nn01-38475923',},['seed','synonym','descendant'])"
   ]
  },
  {
   "cell_type": "code",
   "execution_count": 50,
   "metadata": {},
   "outputs": [
    {
     "data": {
      "text/plain": [
       "{'accumulator_nn01-34592667',\n",
       " 'biocomputer_nn01-11753081',\n",
       " 'commutator_nn01-8782500',\n",
       " 'compressor_nn01-8608218',\n",
       " 'compressor_nn01-8608248',\n",
       " 'dynamo_nn01-5878672',\n",
       " 'energizer_nn01-1246574970',\n",
       " 'generator_nn01-135539783',\n",
       " 'heatexchanger_nn01-1908252',\n",
       " 'inductordisk_nn01-1192999040',\n",
       " 'inductorplate_nn01-1192999070',\n",
       " 'lever_nn01-39377191',\n",
       " 'leverage_nn01-39378231',\n",
       " 'machine_nn01-38475835',\n",
       " 'machine_nn01-38475923',\n",
       " 'machinepower_nn01-38476982',\n",
       " 'mechanicaladvantage_nn01-37502752',\n",
       " 'mover_nn01-35820685',\n",
       " 'pair_nn01-32480956',\n",
       " 'pairing_nn02-32485248',\n",
       " 'peritrochium_nn01-30868432',\n",
       " 'power_nn01-28687898',\n",
       " 'powertoweightratio_nn01-28694452',\n",
       " 'primemover_nn01-28348676',\n",
       " 'primummobile_nn01-28369573',\n",
       " 'prise_nn03-28455147',\n",
       " 'purchase_nn01-27522250',\n",
       " 'rocker_nn01-25157825',\n",
       " 'screw_nn01-24083320',\n",
       " 'screwcompressor_nn01-24085973',\n",
       " 'turingmachine_nn01-17499756',\n",
       " 'vice_nn02-15526247',\n",
       " 'wedge_nn01-14811588',\n",
       " 'wheel_nn01-14697935'}"
      ]
     },
     "execution_count": 50,
     "metadata": {},
     "output_type": "execute_result"
    }
   ],
   "source": [
    "senses"
   ]
  },
  {
   "cell_type": "code",
   "execution_count": null,
   "metadata": {},
   "outputs": [],
   "source": []
  }
 ],
 "metadata": {
  "kernelspec": {
   "display_name": "Python 3",
   "language": "python",
   "name": "python3"
  },
  "language_info": {
   "codemirror_mode": {
    "name": "ipython",
    "version": 3
   },
   "file_extension": ".py",
   "mimetype": "text/x-python",
   "name": "python",
   "nbconvert_exporter": "python",
   "pygments_lexer": "ipython3",
   "version": "3.7.4"
  }
 },
 "nbformat": 4,
 "nbformat_minor": 2
}
