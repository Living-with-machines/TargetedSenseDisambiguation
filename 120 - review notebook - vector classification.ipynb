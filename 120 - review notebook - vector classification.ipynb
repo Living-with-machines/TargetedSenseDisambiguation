{
 "metadata": {
  "language_info": {
   "codemirror_mode": {
    "name": "ipython",
    "version": 3
   },
   "file_extension": ".py",
   "mimetype": "text/x-python",
   "name": "python",
   "nbconvert_exporter": "python",
   "pygments_lexer": "ipython3",
   "version": "3.7.5-final"
  },
  "orig_nbformat": 2,
  "kernelspec": {
   "name": "python3",
   "display_name": "Python 3",
   "language": "python"
  }
 },
 "nbformat": 4,
 "nbformat_minor": 2,
 "cells": [
  {
   "cell_type": "code",
   "execution_count": 1,
   "metadata": {},
   "outputs": [],
   "source": [
    "%load_ext autoreload\n",
    "%autoreload 2"
   ]
  },
  {
   "cell_type": "code",
   "execution_count": 21,
   "metadata": {},
   "outputs": [],
   "source": [
    "%matplotlib inline\n",
    "from tasks import wsd\n",
    "import pandas as pd\n",
    "from tqdm.auto import tqdm\n",
    "from sklearn.metrics import classification_report\n",
    "from utils.dataset_download import harvest_data_from_extended_senses\n",
    "from utils.classificaton_utils import binarize, vectorize_target_expressions,cosine_similiarity\n",
    "from sklearn.svm import LinearSVC\n",
    "from sklearn.linear_model import Perceptron\n",
    "from sklearn.neural_network import MLPClassifier\n"
   ]
  },
  {
   "cell_type": "code",
   "execution_count": 6,
   "metadata": {},
   "outputs": [],
   "source": [
    "tqdm.pandas()\n",
    "lemma,pos = 'machine', \"NN\"\n",
    "senses = {'machine_nn01-38474140'} # machine_nn01-38475772 machine_nn01-38475923 machine_nn01-38475835 machine_nn01-38474140\n",
    "relations = ['seed','synonym'] # ,'descendant','sibling'\n",
    "eval_mode = \"lemma_etal\" # lemma or lemma_etal\n",
    "    "
   ]
  },
  {
   "cell_type": "code",
   "execution_count": 11,
   "metadata": {},
   "outputs": [
    {
     "output_type": "stream",
     "name": "stdout",
     "text": [
      "# senses before filtering by date = 517\n",
      "# senses after filtering by date = 433\n",
      "\n",
      "\n",
      "# of seed senses 26 \n",
      "# of synonyms 383 \n",
      "# of branch senses 0\n",
      "\n",
      "\n",
      "# of seeds selected 1 \n",
      "# of synonyms selected 44 \n",
      "# of branches selected 0\n",
      "[LOG] 3560 quotations selected\n",
      "[LOG] train = 2136 val = 534 test = 890 quotations\n"
     ]
    }
   ],
   "source": [
    "df_train, df_val, df_test = binarize(lemma,\n",
    "                        pos,\n",
    "                        senses, \n",
    "                        relations,\n",
    "                        strict_filter=True,\n",
    "                        start=1700,\n",
    "                        end=2000,\n",
    "                        filter_val_by_year=False,\n",
    "                        filter_test_by_year=False,\n",
    "                        eval_mode=eval_mode)"
   ]
  },
  {
   "cell_type": "code",
   "execution_count": 15,
   "metadata": {},
   "outputs": [],
   "source": [
    "\n",
    "vector_col = \"vector_bert_base_-1,-2,-3,-4_mean\""
   ]
  },
  {
   "cell_type": "code",
   "execution_count": 16,
   "metadata": {},
   "outputs": [],
   "source": [
    "\n",
    "df = pd.concat([df_train,df_val], axis=0)\n",
    "X,y = list(df[vector_col].values), list(df.label.values)"
   ]
  },
  {
   "cell_type": "code",
   "execution_count": 17,
   "metadata": {},
   "outputs": [
    {
     "output_type": "stream",
     "name": "stdout",
     "text": [
      "              precision    recall  f1-score   support\n\n           0       0.94      0.95      0.94       808\n           1       0.44      0.38      0.41        82\n\n    accuracy                           0.90       890\n   macro avg       0.69      0.66      0.67       890\nweighted avg       0.89      0.90      0.89       890\n\n"
     ]
    }
   ],
   "source": [
    "svm_model = LinearSVC(random_state=0, C=.1, tol=1e-5,class_weight='balanced')\n",
    "svm_model.fit(X,y)\n",
    "y_pred = wsd.clf_svm(vector_col,df_test, svm_model)\n",
    "print(classification_report(y_pred,list(df_test.label.values)))"
   ]
  },
  {
   "cell_type": "code",
   "execution_count": 20,
   "metadata": {},
   "outputs": [
    {
     "output_type": "stream",
     "name": "stdout",
     "text": [
      "              precision    recall  f1-score   support\n\n           0       0.90      0.97      0.94       759\n           1       0.70      0.38      0.50       131\n\n    accuracy                           0.89       890\n   macro avg       0.80      0.68      0.72       890\nweighted avg       0.87      0.89      0.87       890\n\n"
     ]
    }
   ],
   "source": [
    "\n",
    "perc_model = Perceptron(validation_fraction=.2, early_stopping=True,class_weight='balanced')\n",
    "perc_model.fit(X,y)\n",
    "y_pred = wsd.clf_perceptron(vector_col,df_test, perc_model)\n",
    "print(classification_report(y_pred,list(df_test.label.values)))"
   ]
  },
  {
   "cell_type": "code",
   "execution_count": 22,
   "metadata": {},
   "outputs": [
    {
     "output_type": "stream",
     "name": "stdout",
     "text": [
      "              precision    recall  f1-score   support\n\n           0       0.95      0.95      0.95       819\n           1       0.44      0.44      0.44        71\n\n    accuracy                           0.91       890\n   macro avg       0.69      0.69      0.69       890\nweighted avg       0.91      0.91      0.91       890\n\n"
     ]
    }
   ],
   "source": [
    "mlperc_model = MLPClassifier(validation_fraction=.2, early_stopping=True, solver='lbfgs',activation='relu')\n",
    "mlperc_model.fit(X,y)\n",
    "y_pred = wsd.clf_perceptron(vector_col,df_test, mlperc_model)\n",
    "print(classification_report(y_pred,list(df_test.label.values)))"
   ]
  },
  {
   "cell_type": "code",
   "execution_count": null,
   "metadata": {},
   "outputs": [],
   "source": []
  }
 ]
}