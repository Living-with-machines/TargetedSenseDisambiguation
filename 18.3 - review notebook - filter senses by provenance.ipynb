{
 "cells": [
  {
   "cell_type": "markdown",
   "metadata": {},
   "source": [
    "# Review Notebook for Sense Filtering by Time and Provenance\n",
    "\n",
    "This notebook builds on 4.1 (harvest senses with provenance) and 4.2 (harvest quotations for senses). The code in this notebook allows you to filter senses by (a) selecting seed senses (b) defining relations words should have to the seed senses.\n",
    "\n",
    "Functions reviewed in this notebook:\n",
    "- `filter_by_year_range` (helper)\n",
    "- `select_senses_by_provenance`(helper)\n",
    "- `filter_senses` (main)\n",
    "\n",
    "Part of:\n",
    "- `utils.dataset_download`\n",
    "\n",
    "Creator: Kaspar Beelen\n",
    "\n",
    "Reviewer(s):\n"
   ]
  },
  {
   "cell_type": "code",
   "execution_count": 1,
   "metadata": {},
   "outputs": [
    {
     "output_type": "stream",
     "name": "stdout",
     "text": [
      "  19-machine-tagger\u001b[m\n* \u001b[32m4-semantic-provenance\u001b[m\n  44-kNN-BERT-baseline\u001b[m\n  dev\u001b[m\n  master\u001b[m\n"
     ]
    }
   ],
   "source": [
    "!git branch"
   ]
  },
  {
   "cell_type": "markdown",
   "metadata": {},
   "source": [
    "## Load libraries, data and set parameters"
   ]
  },
  {
   "cell_type": "code",
   "execution_count": 2,
   "metadata": {},
   "outputs": [],
   "source": [
    "%load_ext autoreload"
   ]
  },
  {
   "cell_type": "code",
   "execution_count": 3,
   "metadata": {},
   "outputs": [],
   "source": [
    "%autoreload 2"
   ]
  },
  {
   "cell_type": "code",
   "execution_count": 48,
   "metadata": {},
   "outputs": [],
   "source": [
    "import pandas as pd\n",
    "import json\n",
    "from utils.dataset_download import *"
   ]
  },
  {
   "cell_type": "code",
   "execution_count": 5,
   "metadata": {},
   "outputs": [],
   "source": [
    "lemma_id = 'machine_nn01'"
   ]
  },
  {
   "cell_type": "code",
   "execution_count": 6,
   "metadata": {},
   "outputs": [],
   "source": [
    "# import API credentials\n",
    "with open('./oed_experiments/oed_credentials.json') as f:\n",
    "    auth = json.load(f)"
   ]
  },
  {
   "cell_type": "code",
   "execution_count": 24,
   "metadata": {},
   "outputs": [],
   "source": [
    "df = pd.read_pickle(f'./data/extended_{lemma_id}.pickle')"
   ]
  },
  {
   "cell_type": "code",
   "execution_count": 8,
   "metadata": {},
   "outputs": [
    {
     "output_type": "execute_result",
     "data": {
      "text/plain": [
       "                                          categories  \\\n",
       "0   {'topic': [], 'usage': [['rare']], 'region': []}   \n",
       "1  {'topic': [['Military', 'Weaponry']], 'usage':...   \n",
       "2           {'topic': [], 'usage': [], 'region': []}   \n",
       "\n",
       "                                           daterange  \\\n",
       "0  {'end': None, 'start': 1545, 'obsolete': False...   \n",
       "1  {'end': None, 'start': 1583, 'obsolete': False...   \n",
       "2  {'end': 1707, 'start': 1595, 'obsolete': True,...   \n",
       "\n",
       "                                          definition        first_use  \\\n",
       "0  A material or immaterial structure, esp. the f...       J. Schäfer   \n",
       "1  A military engine or siege-tower. Cf. war mach...  Brian Melbancke   \n",
       "2                  spec. A scheme or plot. Obsolete.      Elizabeth I   \n",
       "\n",
       "                      id    lemma  main_current_sense  \\\n",
       "0  machine_nn01-38473945  machine               False   \n",
       "1  machine_nn01-38474233  machine               False   \n",
       "2  machine_nn01-38474097  machine               False   \n",
       "\n",
       "                                                meta notes  \\\n",
       "0  {'created': 1904, 'revised': True, 'updated': ...    []   \n",
       "1  {'created': 1904, 'revised': True, 'updated': ...    []   \n",
       "2  {'created': 1904, 'revised': True, 'updated': ...    []   \n",
       "\n",
       "             oed_reference                                            oed_url  \\\n",
       "0  machine, n., sense I.1a  https://www.oed.com/view/Entry/111850#eid38473945   \n",
       "1  machine, n., sense II.3  https://www.oed.com/view/Entry/111850#eid38474233   \n",
       "2  machine, n., sense I.1b  https://www.oed.com/view/Entry/111850#eid38474097   \n",
       "\n",
       "  part_of_speech                                     provenance  \\\n",
       "0             NN  [[machine_nn01-38473945, seed, machine_nn01]]   \n",
       "1             NN  [[machine_nn01-38474233, seed, machine_nn01]]   \n",
       "2             NN  [[machine_nn01-38474097, seed, machine_nn01]]   \n",
       "\n",
       "  provenance_type                                      quotation_ids  \\\n",
       "0            seed  [machine_nn01-38473950, machine_nn01-38473961,...   \n",
       "1            seed  [machine_nn01-38474243, machine_nn01-38474252,...   \n",
       "2            seed  [machine_nn01-38474102, machine_nn01-38474122,...   \n",
       "\n",
       "                                  semantic_class_ids semantic_class_last_id  \\\n",
       "0  [[1, 111290, 118635, 119024, 120162, 120172], ...       [120172, 120173]   \n",
       "1  [[153072, 160439, 163207, 163208, 163377, 1633...               [163378]   \n",
       "2  [[1, 84689, 87987, 87988, 87989, 88083, 88109,...                [88126]   \n",
       "\n",
       "  transitivity       word_id  \n",
       "0         None  machine_nn01  \n",
       "1         None  machine_nn01  \n",
       "2         None  machine_nn01  "
      ],
      "text/html": "<div>\n<style scoped>\n    .dataframe tbody tr th:only-of-type {\n        vertical-align: middle;\n    }\n\n    .dataframe tbody tr th {\n        vertical-align: top;\n    }\n\n    .dataframe thead th {\n        text-align: right;\n    }\n</style>\n<table border=\"1\" class=\"dataframe\">\n  <thead>\n    <tr style=\"text-align: right;\">\n      <th></th>\n      <th>categories</th>\n      <th>daterange</th>\n      <th>definition</th>\n      <th>first_use</th>\n      <th>id</th>\n      <th>lemma</th>\n      <th>main_current_sense</th>\n      <th>meta</th>\n      <th>notes</th>\n      <th>oed_reference</th>\n      <th>oed_url</th>\n      <th>part_of_speech</th>\n      <th>provenance</th>\n      <th>provenance_type</th>\n      <th>quotation_ids</th>\n      <th>semantic_class_ids</th>\n      <th>semantic_class_last_id</th>\n      <th>transitivity</th>\n      <th>word_id</th>\n    </tr>\n  </thead>\n  <tbody>\n    <tr>\n      <th>0</th>\n      <td>{'topic': [], 'usage': [['rare']], 'region': []}</td>\n      <td>{'end': None, 'start': 1545, 'obsolete': False...</td>\n      <td>A material or immaterial structure, esp. the f...</td>\n      <td>J. Schäfer</td>\n      <td>machine_nn01-38473945</td>\n      <td>machine</td>\n      <td>False</td>\n      <td>{'created': 1904, 'revised': True, 'updated': ...</td>\n      <td>[]</td>\n      <td>machine, n., sense I.1a</td>\n      <td>https://www.oed.com/view/Entry/111850#eid38473945</td>\n      <td>NN</td>\n      <td>[[machine_nn01-38473945, seed, machine_nn01]]</td>\n      <td>seed</td>\n      <td>[machine_nn01-38473950, machine_nn01-38473961,...</td>\n      <td>[[1, 111290, 118635, 119024, 120162, 120172], ...</td>\n      <td>[120172, 120173]</td>\n      <td>None</td>\n      <td>machine_nn01</td>\n    </tr>\n    <tr>\n      <th>1</th>\n      <td>{'topic': [['Military', 'Weaponry']], 'usage':...</td>\n      <td>{'end': None, 'start': 1583, 'obsolete': False...</td>\n      <td>A military engine or siege-tower. Cf. war mach...</td>\n      <td>Brian Melbancke</td>\n      <td>machine_nn01-38474233</td>\n      <td>machine</td>\n      <td>False</td>\n      <td>{'created': 1904, 'revised': True, 'updated': ...</td>\n      <td>[]</td>\n      <td>machine, n., sense II.3</td>\n      <td>https://www.oed.com/view/Entry/111850#eid38474233</td>\n      <td>NN</td>\n      <td>[[machine_nn01-38474233, seed, machine_nn01]]</td>\n      <td>seed</td>\n      <td>[machine_nn01-38474243, machine_nn01-38474252,...</td>\n      <td>[[153072, 160439, 163207, 163208, 163377, 1633...</td>\n      <td>[163378]</td>\n      <td>None</td>\n      <td>machine_nn01</td>\n    </tr>\n    <tr>\n      <th>2</th>\n      <td>{'topic': [], 'usage': [], 'region': []}</td>\n      <td>{'end': 1707, 'start': 1595, 'obsolete': True,...</td>\n      <td>spec. A scheme or plot. Obsolete.</td>\n      <td>Elizabeth I</td>\n      <td>machine_nn01-38474097</td>\n      <td>machine</td>\n      <td>False</td>\n      <td>{'created': 1904, 'revised': True, 'updated': ...</td>\n      <td>[]</td>\n      <td>machine, n., sense I.1b</td>\n      <td>https://www.oed.com/view/Entry/111850#eid38474097</td>\n      <td>NN</td>\n      <td>[[machine_nn01-38474097, seed, machine_nn01]]</td>\n      <td>seed</td>\n      <td>[machine_nn01-38474102, machine_nn01-38474122,...</td>\n      <td>[[1, 84689, 87987, 87988, 87989, 88083, 88109,...</td>\n      <td>[88126]</td>\n      <td>None</td>\n      <td>machine_nn01</td>\n    </tr>\n  </tbody>\n</table>\n</div>"
     },
     "metadata": {},
     "execution_count": 8
    }
   ],
   "source": [
    "df.head(3)"
   ]
  },
  {
   "cell_type": "code",
   "execution_count": 41,
   "metadata": {},
   "outputs": [],
   "source": []
  },
  {
   "cell_type": "code",
   "execution_count": 60,
   "metadata": {},
   "outputs": [
    {
     "output_type": "execute_result",
     "data": {
      "text/plain": [
       "(203560, 12)"
      ]
     },
     "metadata": {},
     "execution_count": 60
    }
   ],
   "source": [
    "df_quotations = pd.read_pickle(f'./data/quotations_all_{lemma_id}.pickle')\n",
    "df_quotations.shape"
   ]
  },
  {
   "cell_type": "code",
   "execution_count": 10,
   "metadata": {},
   "outputs": [
    {
     "output_type": "execute_result",
     "data": {
      "text/plain": [
       "                      id                                               text  \\\n",
       "0  pigmeat_nn01-13163366  {'keyword': 'pig-meat', 'full_text': 'I was at...   \n",
       "1  pigmeat_nn01-13163379  {'keyword': 'pig-meat', 'full_text': 'In short...   \n",
       "2  pigmeat_nn01-13163399  {'keyword': 'pig meat', 'full_text': 'It preve...   \n",
       "3  pigmeat_nn01-13163416  {'keyword': 'pig meat', 'full_text': 'In most ...   \n",
       "4  pigmeat_nn01-13163425  {'keyword': 'pig meat', 'full_text': 'Beef tak...   \n",
       "\n",
       "   year    lemma                                             source  \\\n",
       "0  1754  pigmeat  {'title': 'Connoisseur', 'author': 'G. Colman'...   \n",
       "1  1784  pigmeat  {'title': 'Year's Journey through Paix Bâs', '...   \n",
       "2  1817  pigmeat  {'title': 'Parl. Deb.', 'author': None, 'gende...   \n",
       "3  1897  pigmeat  {'title': 'Syst. Med.', 'author': 'T. C. Allbu...   \n",
       "4  1918  pigmeat  {'title': 'Times', 'author': None, 'gender': N...   \n",
       "\n",
       "                                             oed_url       word_id  \\\n",
       "0  https://www.oed.com/view/Entry/237320#eid13163366  pigmeat_nn01   \n",
       "1  https://www.oed.com/view/Entry/237320#eid13163379  pigmeat_nn01   \n",
       "2  https://www.oed.com/view/Entry/237320#eid13163399  pigmeat_nn01   \n",
       "3  https://www.oed.com/view/Entry/237320#eid13163416  pigmeat_nn01   \n",
       "4  https://www.oed.com/view/Entry/237320#eid13163425  pigmeat_nn01   \n",
       "\n",
       "                sense_id datestring  first_in_word         oed_reference  \\\n",
       "0  pigmeat_nn01-13163363       1754           True  pigmeat, n., sense 1   \n",
       "1  pigmeat_nn01-13163363       1784          False  pigmeat, n., sense 1   \n",
       "2  pigmeat_nn01-13163363       1817          False  pigmeat, n., sense 1   \n",
       "3  pigmeat_nn01-13163363       1897          False  pigmeat, n., sense 1   \n",
       "4  pigmeat_nn01-13163363       1918          False  pigmeat, n., sense 1   \n",
       "\n",
       "   first_in_sense  \n",
       "0            True  \n",
       "1           False  \n",
       "2           False  \n",
       "3           False  \n",
       "4           False  "
      ],
      "text/html": "<div>\n<style scoped>\n    .dataframe tbody tr th:only-of-type {\n        vertical-align: middle;\n    }\n\n    .dataframe tbody tr th {\n        vertical-align: top;\n    }\n\n    .dataframe thead th {\n        text-align: right;\n    }\n</style>\n<table border=\"1\" class=\"dataframe\">\n  <thead>\n    <tr style=\"text-align: right;\">\n      <th></th>\n      <th>id</th>\n      <th>text</th>\n      <th>year</th>\n      <th>lemma</th>\n      <th>source</th>\n      <th>oed_url</th>\n      <th>word_id</th>\n      <th>sense_id</th>\n      <th>datestring</th>\n      <th>first_in_word</th>\n      <th>oed_reference</th>\n      <th>first_in_sense</th>\n    </tr>\n  </thead>\n  <tbody>\n    <tr>\n      <th>0</th>\n      <td>pigmeat_nn01-13163366</td>\n      <td>{'keyword': 'pig-meat', 'full_text': 'I was at...</td>\n      <td>1754</td>\n      <td>pigmeat</td>\n      <td>{'title': 'Connoisseur', 'author': 'G. Colman'...</td>\n      <td>https://www.oed.com/view/Entry/237320#eid13163366</td>\n      <td>pigmeat_nn01</td>\n      <td>pigmeat_nn01-13163363</td>\n      <td>1754</td>\n      <td>True</td>\n      <td>pigmeat, n., sense 1</td>\n      <td>True</td>\n    </tr>\n    <tr>\n      <th>1</th>\n      <td>pigmeat_nn01-13163379</td>\n      <td>{'keyword': 'pig-meat', 'full_text': 'In short...</td>\n      <td>1784</td>\n      <td>pigmeat</td>\n      <td>{'title': 'Year's Journey through Paix Bâs', '...</td>\n      <td>https://www.oed.com/view/Entry/237320#eid13163379</td>\n      <td>pigmeat_nn01</td>\n      <td>pigmeat_nn01-13163363</td>\n      <td>1784</td>\n      <td>False</td>\n      <td>pigmeat, n., sense 1</td>\n      <td>False</td>\n    </tr>\n    <tr>\n      <th>2</th>\n      <td>pigmeat_nn01-13163399</td>\n      <td>{'keyword': 'pig meat', 'full_text': 'It preve...</td>\n      <td>1817</td>\n      <td>pigmeat</td>\n      <td>{'title': 'Parl. Deb.', 'author': None, 'gende...</td>\n      <td>https://www.oed.com/view/Entry/237320#eid13163399</td>\n      <td>pigmeat_nn01</td>\n      <td>pigmeat_nn01-13163363</td>\n      <td>1817</td>\n      <td>False</td>\n      <td>pigmeat, n., sense 1</td>\n      <td>False</td>\n    </tr>\n    <tr>\n      <th>3</th>\n      <td>pigmeat_nn01-13163416</td>\n      <td>{'keyword': 'pig meat', 'full_text': 'In most ...</td>\n      <td>1897</td>\n      <td>pigmeat</td>\n      <td>{'title': 'Syst. Med.', 'author': 'T. C. Allbu...</td>\n      <td>https://www.oed.com/view/Entry/237320#eid13163416</td>\n      <td>pigmeat_nn01</td>\n      <td>pigmeat_nn01-13163363</td>\n      <td>1897</td>\n      <td>False</td>\n      <td>pigmeat, n., sense 1</td>\n      <td>False</td>\n    </tr>\n    <tr>\n      <th>4</th>\n      <td>pigmeat_nn01-13163425</td>\n      <td>{'keyword': 'pig meat', 'full_text': 'Beef tak...</td>\n      <td>1918</td>\n      <td>pigmeat</td>\n      <td>{'title': 'Times', 'author': None, 'gender': N...</td>\n      <td>https://www.oed.com/view/Entry/237320#eid13163425</td>\n      <td>pigmeat_nn01</td>\n      <td>pigmeat_nn01-13163363</td>\n      <td>1918</td>\n      <td>False</td>\n      <td>pigmeat, n., sense 1</td>\n      <td>False</td>\n    </tr>\n  </tbody>\n</table>\n</div>"
     },
     "metadata": {},
     "execution_count": 10
    }
   ],
   "source": [
    "df_quotations.head()"
   ]
  },
  {
   "source": [
    "# Run code"
   ],
   "cell_type": "markdown",
   "metadata": {}
  },
  {
   "cell_type": "code",
   "execution_count": 51,
   "metadata": {},
   "outputs": [
    {
     "output_type": "execute_result",
     "data": {
      "text/plain": [
       "{'A conceptual, abstract, or theoretical mechanism or device; spec. a model or a mathematical abstraction of an existing or hypothetical computer. Cf. Turing machine n.',\n",
       " 'Mechanics. Anything that transmits force or directs its application.'}"
      ]
     },
     "metadata": {},
     "execution_count": 51
    }
   ],
   "source": [
    "set(df[df.id.isin(['machine_nn01-38475835','machine_nn01-38475923'])].definition)"
   ]
  },
  {
   "cell_type": "code",
   "execution_count": 102,
   "metadata": {},
   "outputs": [
    {
     "output_type": "stream",
     "name": "stdout",
     "text": [
      "# senses before filtering by date = 8383\n# senses after filtering by date = 5918\n"
     ]
    }
   ],
   "source": [
    "senses = filter_senses(df,\n",
    "                       {'machine_nn01-38475835','machine_nn01-38475923'},\n",
    "                       relations = ['seed','synonym','descendant','sibling'], # 'all',\n",
    "                       skip_synonyms=False,\n",
    "                       start=1760, \n",
    "                       end=1920\n",
    "                      )"
   ]
  },
  {
   "cell_type": "code",
   "execution_count": 54,
   "metadata": {},
   "outputs": [
    {
     "output_type": "execute_result",
     "data": {
      "text/plain": [
       "29"
      ]
     },
     "metadata": {},
     "execution_count": 54
    }
   ],
   "source": [
    "len(senses)"
   ]
  },
  {
   "cell_type": "code",
   "execution_count": 57,
   "metadata": {},
   "outputs": [],
   "source": [
    "df_source = pd.read_pickle(\"./data/extended_machine_nn01.pickle\")"
   ]
  },
  {
   "cell_type": "code",
   "execution_count": 94,
   "metadata": {
    "tags": []
   },
   "outputs": [
    {
     "output_type": "execute_result",
     "data": {
      "text/plain": [
       "(178, 13)"
      ]
     },
     "metadata": {},
     "execution_count": 94
    }
   ],
   "source": [
    "quotations = obtain_quotations_for_senses(df_quotations,\n",
    "                                df_source,                  \n",
    "                                senses,\n",
    "                                start=1760,end=1920)\n",
    "quotations.shape"
   ]
  },
  {
   "cell_type": "code",
   "execution_count": 95,
   "metadata": {},
   "outputs": [
    {
     "output_type": "execute_result",
     "data": {
      "text/plain": [
       "  keyword                                          full_text  keyword_offset  \\\n",
       "0   wedge  The sharper the wedge, or the more acute its a...            16.0   \n",
       "1   wedge  Forth goes the woodman..To wield the axe And d...            55.0   \n",
       "2  wedges  The distended ropes..are then confined at the ...            57.0   \n",
       "3  wedges  The wedges employed to secure the rails in the...             4.0   \n",
       "4   Wedge    Wedge,..a small fastening for a door or window.             0.0   \n",
       "\n",
       "                                 title          author gender  year  \\\n",
       "0                         Princ. Mech.      W. Emerson   male  1773   \n",
       "1                                 Task       W. Cowper   male  1785   \n",
       "2                              Archit.       W. Newton   None  1789   \n",
       "3  Minutes Proc. Inst. Civil Engineers            None   None  1842   \n",
       "4                 Dict. Trade Products  P. L. Simmonds   male  1858   \n",
       "\n",
       "              sense_id                                          daterange  \\\n",
       "0  wedge_nn01-14811588  {'end': None, 'start': 725, 'obsolete': False,...   \n",
       "1  wedge_nn01-14811588  {'end': None, 'start': 725, 'obsolete': False,...   \n",
       "2  wedge_nn01-14811588  {'end': None, 'start': 725, 'obsolete': False,...   \n",
       "3  wedge_nn01-14811588  {'end': None, 'start': 725, 'obsolete': False,...   \n",
       "4  wedge_nn01-14811588  {'end': None, 'start': 725, 'obsolete': False,...   \n",
       "\n",
       "                       provenance provenance_type  \\\n",
       "0  [[214221, descendant, 214220]]          branch   \n",
       "1  [[214221, descendant, 214220]]          branch   \n",
       "2  [[214221, descendant, 214220]]          branch   \n",
       "3  [[214221, descendant, 214220]]          branch   \n",
       "4  [[214221, descendant, 214220]]          branch   \n",
       "\n",
       "                        relation_to_core_senses  relation_to_seed_senses  \n",
       "0  {machine_nn01-38475923, power_nn01-28687898}  {machine_nn01-38475923}  \n",
       "1  {machine_nn01-38475923, power_nn01-28687898}  {machine_nn01-38475923}  \n",
       "2  {machine_nn01-38475923, power_nn01-28687898}  {machine_nn01-38475923}  \n",
       "3  {machine_nn01-38475923, power_nn01-28687898}  {machine_nn01-38475923}  \n",
       "4  {machine_nn01-38475923, power_nn01-28687898}  {machine_nn01-38475923}  "
      ],
      "text/html": "<div>\n<style scoped>\n    .dataframe tbody tr th:only-of-type {\n        vertical-align: middle;\n    }\n\n    .dataframe tbody tr th {\n        vertical-align: top;\n    }\n\n    .dataframe thead th {\n        text-align: right;\n    }\n</style>\n<table border=\"1\" class=\"dataframe\">\n  <thead>\n    <tr style=\"text-align: right;\">\n      <th></th>\n      <th>keyword</th>\n      <th>full_text</th>\n      <th>keyword_offset</th>\n      <th>title</th>\n      <th>author</th>\n      <th>gender</th>\n      <th>year</th>\n      <th>sense_id</th>\n      <th>daterange</th>\n      <th>provenance</th>\n      <th>provenance_type</th>\n      <th>relation_to_core_senses</th>\n      <th>relation_to_seed_senses</th>\n    </tr>\n  </thead>\n  <tbody>\n    <tr>\n      <th>0</th>\n      <td>wedge</td>\n      <td>The sharper the wedge, or the more acute its a...</td>\n      <td>16.0</td>\n      <td>Princ. Mech.</td>\n      <td>W. Emerson</td>\n      <td>male</td>\n      <td>1773</td>\n      <td>wedge_nn01-14811588</td>\n      <td>{'end': None, 'start': 725, 'obsolete': False,...</td>\n      <td>[[214221, descendant, 214220]]</td>\n      <td>branch</td>\n      <td>{machine_nn01-38475923, power_nn01-28687898}</td>\n      <td>{machine_nn01-38475923}</td>\n    </tr>\n    <tr>\n      <th>1</th>\n      <td>wedge</td>\n      <td>Forth goes the woodman..To wield the axe And d...</td>\n      <td>55.0</td>\n      <td>Task</td>\n      <td>W. Cowper</td>\n      <td>male</td>\n      <td>1785</td>\n      <td>wedge_nn01-14811588</td>\n      <td>{'end': None, 'start': 725, 'obsolete': False,...</td>\n      <td>[[214221, descendant, 214220]]</td>\n      <td>branch</td>\n      <td>{machine_nn01-38475923, power_nn01-28687898}</td>\n      <td>{machine_nn01-38475923}</td>\n    </tr>\n    <tr>\n      <th>2</th>\n      <td>wedges</td>\n      <td>The distended ropes..are then confined at the ...</td>\n      <td>57.0</td>\n      <td>Archit.</td>\n      <td>W. Newton</td>\n      <td>None</td>\n      <td>1789</td>\n      <td>wedge_nn01-14811588</td>\n      <td>{'end': None, 'start': 725, 'obsolete': False,...</td>\n      <td>[[214221, descendant, 214220]]</td>\n      <td>branch</td>\n      <td>{machine_nn01-38475923, power_nn01-28687898}</td>\n      <td>{machine_nn01-38475923}</td>\n    </tr>\n    <tr>\n      <th>3</th>\n      <td>wedges</td>\n      <td>The wedges employed to secure the rails in the...</td>\n      <td>4.0</td>\n      <td>Minutes Proc. Inst. Civil Engineers</td>\n      <td>None</td>\n      <td>None</td>\n      <td>1842</td>\n      <td>wedge_nn01-14811588</td>\n      <td>{'end': None, 'start': 725, 'obsolete': False,...</td>\n      <td>[[214221, descendant, 214220]]</td>\n      <td>branch</td>\n      <td>{machine_nn01-38475923, power_nn01-28687898}</td>\n      <td>{machine_nn01-38475923}</td>\n    </tr>\n    <tr>\n      <th>4</th>\n      <td>Wedge</td>\n      <td>Wedge,..a small fastening for a door or window.</td>\n      <td>0.0</td>\n      <td>Dict. Trade Products</td>\n      <td>P. L. Simmonds</td>\n      <td>male</td>\n      <td>1858</td>\n      <td>wedge_nn01-14811588</td>\n      <td>{'end': None, 'start': 725, 'obsolete': False,...</td>\n      <td>[[214221, descendant, 214220]]</td>\n      <td>branch</td>\n      <td>{machine_nn01-38475923, power_nn01-28687898}</td>\n      <td>{machine_nn01-38475923}</td>\n    </tr>\n  </tbody>\n</table>\n</div>"
     },
     "metadata": {},
     "execution_count": 95
    }
   ],
   "source": [
    "quotations.head()"
   ]
  },
  {
   "cell_type": "code",
   "execution_count": 96,
   "metadata": {},
   "outputs": [
    {
     "output_type": "execute_result",
     "data": {
      "text/plain": [
       "{'energizer_nn01-1246574970',\n",
       " 'generator_nn01-135539783',\n",
       " 'machine_nn01-38475923',\n",
       " 'machinepower_nn01-38476982',\n",
       " 'mechanicaladvantage_nn01-37502752',\n",
       " 'mover_nn01-35820685',\n",
       " 'power_nn01-28687898',\n",
       " 'primemover_nn01-28348676',\n",
       " 'primummobile_nn01-28369573',\n",
       " 'vice_nn02-15526247'}"
      ]
     },
     "metadata": {},
     "execution_count": 96
    }
   ],
   "source": [
    "set().union(*quotations.relation_to_core_senses)"
   ]
  },
  {
   "cell_type": "code",
   "execution_count": 97,
   "metadata": {},
   "outputs": [
    {
     "output_type": "execute_result",
     "data": {
      "text/plain": [
       "{'machine_nn01-38475923'}"
      ]
     },
     "metadata": {},
     "execution_count": 97
    }
   ],
   "source": [
    "set().union(*quotations.relation_to_seed_senses)"
   ]
  },
  {
   "source": [
    "# Fin."
   ],
   "cell_type": "markdown",
   "metadata": {}
  }
 ],
 "metadata": {
  "kernelspec": {
   "display_name": "Python 3",
   "language": "python",
   "name": "python3"
  },
  "language_info": {
   "codemirror_mode": {
    "name": "ipython",
    "version": 3
   },
   "file_extension": ".py",
   "mimetype": "text/x-python",
   "name": "python",
   "nbconvert_exporter": "python",
   "pygments_lexer": "ipython3",
   "version": "3.7.5-final"
  }
 },
 "nbformat": 4,
 "nbformat_minor": 2
}