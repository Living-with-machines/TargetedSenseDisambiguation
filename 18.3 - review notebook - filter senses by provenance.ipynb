{
 "cells": [
  {
   "cell_type": "markdown",
   "metadata": {},
   "source": [
    "# Review Notebook for Sense Filtering by Time and Provenance\n",
    "\n",
    "This notebook builds on 4.1 (harvest senses with provenance) and 4.2 (harvest quotations for senses). The code in this notebook allows you to filter senses by (a) selecting seed senses (b) defining relations words should have to the seed senses.\n",
    "\n",
    "Functions reviewed in this notebook:\n",
    "- `filter_by_year_range` (helper)\n",
    "- `select_senses_by_provenance`(helper)\n",
    "- `filter_senses` (main)\n",
    "\n",
    "Part of:\n",
    "- `utils.dataset_download`\n",
    "\n",
    "Creator: Kaspar Beelen\n",
    "\n",
    "Reviewer(s):\n"
   ]
  },
  {
   "cell_type": "code",
   "execution_count": 1,
   "metadata": {},
   "outputs": [
    {
     "output_type": "stream",
     "name": "stdout",
     "text": [
      "  19-machine-tagger\u001b[m\n* \u001b[32m4-semantic-provenance\u001b[m\n  44-kNN-BERT-baseline\u001b[m\n  dev\u001b[m\n  master\u001b[m\n"
     ]
    }
   ],
   "source": [
    "!git branch"
   ]
  },
  {
   "cell_type": "markdown",
   "metadata": {},
   "source": [
    "## Load libraries, data and set parameters"
   ]
  },
  {
   "cell_type": "code",
   "execution_count": 17,
   "metadata": {},
   "outputs": [
    {
     "output_type": "stream",
     "name": "stdout",
     "text": [
      "The autoreload extension is already loaded. To reload it, use:\n  %reload_ext autoreload\n"
     ]
    }
   ],
   "source": [
    "%load_ext autoreload"
   ]
  },
  {
   "cell_type": "code",
   "execution_count": 18,
   "metadata": {},
   "outputs": [],
   "source": [
    "%autoreload 2"
   ]
  },
  {
   "cell_type": "code",
   "execution_count": 19,
   "metadata": {},
   "outputs": [],
   "source": [
    "import pandas as pd\n",
    "import json\n",
    "from utils.dataset_download import *"
   ]
  },
  {
   "cell_type": "code",
   "execution_count": 20,
   "metadata": {},
   "outputs": [],
   "source": [
    "lemma_id = 'machine_nn01'"
   ]
  },
  {
   "cell_type": "code",
   "execution_count": 21,
   "metadata": {},
   "outputs": [],
   "source": [
    "# import API credentials\n",
    "with open('./oed_experiments/oed_credentials.json') as f:\n",
    "    auth = json.load(f)"
   ]
  },
  {
   "cell_type": "code",
   "execution_count": 32,
   "metadata": {},
   "outputs": [
    {
     "output_type": "execute_result",
     "data": {
      "text/plain": [
       "(8383, 19)"
      ]
     },
     "metadata": {},
     "execution_count": 32
    }
   ],
   "source": [
    "df = pd.read_pickle(f'./data/extended_{lemma_id}.pickle')\n",
    "df.shape"
   ]
  },
  {
   "cell_type": "code",
   "execution_count": 24,
   "metadata": {},
   "outputs": [
    {
     "output_type": "execute_result",
     "data": {
      "text/plain": [
       "                                          categories  \\\n",
       "0   {'topic': [], 'usage': [['rare']], 'region': []}   \n",
       "1  {'topic': [['Military', 'Weaponry']], 'usage':...   \n",
       "2           {'topic': [], 'usage': [], 'region': []}   \n",
       "\n",
       "                                           daterange  \\\n",
       "0  {'end': None, 'start': 1545, 'obsolete': False...   \n",
       "1  {'end': None, 'start': 1583, 'obsolete': False...   \n",
       "2  {'end': 1707, 'start': 1595, 'obsolete': True,...   \n",
       "\n",
       "                                          definition        first_use  \\\n",
       "0  A material or immaterial structure, esp. the f...       J. Schäfer   \n",
       "1  A military engine or siege-tower. Cf. war mach...  Brian Melbancke   \n",
       "2                  spec. A scheme or plot. Obsolete.      Elizabeth I   \n",
       "\n",
       "                      id    lemma  main_current_sense  \\\n",
       "0  machine_nn01-38473945  machine               False   \n",
       "1  machine_nn01-38474233  machine               False   \n",
       "2  machine_nn01-38474097  machine               False   \n",
       "\n",
       "                                                meta notes  \\\n",
       "0  {'created': 1904, 'revised': True, 'updated': ...    []   \n",
       "1  {'created': 1904, 'revised': True, 'updated': ...    []   \n",
       "2  {'created': 1904, 'revised': True, 'updated': ...    []   \n",
       "\n",
       "             oed_reference                                            oed_url  \\\n",
       "0  machine, n., sense I.1a  https://www.oed.com/view/Entry/111850#eid38473945   \n",
       "1  machine, n., sense II.3  https://www.oed.com/view/Entry/111850#eid38474233   \n",
       "2  machine, n., sense I.1b  https://www.oed.com/view/Entry/111850#eid38474097   \n",
       "\n",
       "  part_of_speech                                     provenance  \\\n",
       "0             NN  [[machine_nn01-38473945, seed, machine_nn01]]   \n",
       "1             NN  [[machine_nn01-38474233, seed, machine_nn01]]   \n",
       "2             NN  [[machine_nn01-38474097, seed, machine_nn01]]   \n",
       "\n",
       "  provenance_type                                      quotation_ids  \\\n",
       "0            seed  [machine_nn01-38473950, machine_nn01-38473961,...   \n",
       "1            seed  [machine_nn01-38474243, machine_nn01-38474252,...   \n",
       "2            seed  [machine_nn01-38474102, machine_nn01-38474122,...   \n",
       "\n",
       "                                  semantic_class_ids semantic_class_last_id  \\\n",
       "0  [[1, 111290, 118635, 119024, 120162, 120172], ...       [120172, 120173]   \n",
       "1  [[153072, 160439, 163207, 163208, 163377, 1633...               [163378]   \n",
       "2  [[1, 84689, 87987, 87988, 87989, 88083, 88109,...                [88126]   \n",
       "\n",
       "  transitivity       word_id  \n",
       "0         None  machine_nn01  \n",
       "1         None  machine_nn01  \n",
       "2         None  machine_nn01  "
      ],
      "text/html": "<div>\n<style scoped>\n    .dataframe tbody tr th:only-of-type {\n        vertical-align: middle;\n    }\n\n    .dataframe tbody tr th {\n        vertical-align: top;\n    }\n\n    .dataframe thead th {\n        text-align: right;\n    }\n</style>\n<table border=\"1\" class=\"dataframe\">\n  <thead>\n    <tr style=\"text-align: right;\">\n      <th></th>\n      <th>categories</th>\n      <th>daterange</th>\n      <th>definition</th>\n      <th>first_use</th>\n      <th>id</th>\n      <th>lemma</th>\n      <th>main_current_sense</th>\n      <th>meta</th>\n      <th>notes</th>\n      <th>oed_reference</th>\n      <th>oed_url</th>\n      <th>part_of_speech</th>\n      <th>provenance</th>\n      <th>provenance_type</th>\n      <th>quotation_ids</th>\n      <th>semantic_class_ids</th>\n      <th>semantic_class_last_id</th>\n      <th>transitivity</th>\n      <th>word_id</th>\n    </tr>\n  </thead>\n  <tbody>\n    <tr>\n      <th>0</th>\n      <td>{'topic': [], 'usage': [['rare']], 'region': []}</td>\n      <td>{'end': None, 'start': 1545, 'obsolete': False...</td>\n      <td>A material or immaterial structure, esp. the f...</td>\n      <td>J. Schäfer</td>\n      <td>machine_nn01-38473945</td>\n      <td>machine</td>\n      <td>False</td>\n      <td>{'created': 1904, 'revised': True, 'updated': ...</td>\n      <td>[]</td>\n      <td>machine, n., sense I.1a</td>\n      <td>https://www.oed.com/view/Entry/111850#eid38473945</td>\n      <td>NN</td>\n      <td>[[machine_nn01-38473945, seed, machine_nn01]]</td>\n      <td>seed</td>\n      <td>[machine_nn01-38473950, machine_nn01-38473961,...</td>\n      <td>[[1, 111290, 118635, 119024, 120162, 120172], ...</td>\n      <td>[120172, 120173]</td>\n      <td>None</td>\n      <td>machine_nn01</td>\n    </tr>\n    <tr>\n      <th>1</th>\n      <td>{'topic': [['Military', 'Weaponry']], 'usage':...</td>\n      <td>{'end': None, 'start': 1583, 'obsolete': False...</td>\n      <td>A military engine or siege-tower. Cf. war mach...</td>\n      <td>Brian Melbancke</td>\n      <td>machine_nn01-38474233</td>\n      <td>machine</td>\n      <td>False</td>\n      <td>{'created': 1904, 'revised': True, 'updated': ...</td>\n      <td>[]</td>\n      <td>machine, n., sense II.3</td>\n      <td>https://www.oed.com/view/Entry/111850#eid38474233</td>\n      <td>NN</td>\n      <td>[[machine_nn01-38474233, seed, machine_nn01]]</td>\n      <td>seed</td>\n      <td>[machine_nn01-38474243, machine_nn01-38474252,...</td>\n      <td>[[153072, 160439, 163207, 163208, 163377, 1633...</td>\n      <td>[163378]</td>\n      <td>None</td>\n      <td>machine_nn01</td>\n    </tr>\n    <tr>\n      <th>2</th>\n      <td>{'topic': [], 'usage': [], 'region': []}</td>\n      <td>{'end': 1707, 'start': 1595, 'obsolete': True,...</td>\n      <td>spec. A scheme or plot. Obsolete.</td>\n      <td>Elizabeth I</td>\n      <td>machine_nn01-38474097</td>\n      <td>machine</td>\n      <td>False</td>\n      <td>{'created': 1904, 'revised': True, 'updated': ...</td>\n      <td>[]</td>\n      <td>machine, n., sense I.1b</td>\n      <td>https://www.oed.com/view/Entry/111850#eid38474097</td>\n      <td>NN</td>\n      <td>[[machine_nn01-38474097, seed, machine_nn01]]</td>\n      <td>seed</td>\n      <td>[machine_nn01-38474102, machine_nn01-38474122,...</td>\n      <td>[[1, 84689, 87987, 87988, 87989, 88083, 88109,...</td>\n      <td>[88126]</td>\n      <td>None</td>\n      <td>machine_nn01</td>\n    </tr>\n  </tbody>\n</table>\n</div>"
     },
     "metadata": {},
     "execution_count": 24
    }
   ],
   "source": [
    "df.head(3)"
   ]
  },
  {
   "cell_type": "code",
   "execution_count": 41,
   "metadata": {},
   "outputs": [],
   "source": []
  },
  {
   "cell_type": "code",
   "execution_count": 25,
   "metadata": {},
   "outputs": [
    {
     "output_type": "execute_result",
     "data": {
      "text/plain": [
       "(203560, 12)"
      ]
     },
     "metadata": {},
     "execution_count": 25
    }
   ],
   "source": [
    "df_quotations = pd.read_pickle(f'./data/quotations_all_{lemma_id}.pickle')\n",
    "df_quotations.shape"
   ]
  },
  {
   "cell_type": "code",
   "execution_count": 26,
   "metadata": {},
   "outputs": [
    {
     "output_type": "execute_result",
     "data": {
      "text/plain": [
       "                      id                                               text  \\\n",
       "0  pigmeat_nn01-13163366  {'keyword': 'pig-meat', 'full_text': 'I was at...   \n",
       "1  pigmeat_nn01-13163379  {'keyword': 'pig-meat', 'full_text': 'In short...   \n",
       "2  pigmeat_nn01-13163399  {'keyword': 'pig meat', 'full_text': 'It preve...   \n",
       "3  pigmeat_nn01-13163416  {'keyword': 'pig meat', 'full_text': 'In most ...   \n",
       "4  pigmeat_nn01-13163425  {'keyword': 'pig meat', 'full_text': 'Beef tak...   \n",
       "\n",
       "   year    lemma                                             source  \\\n",
       "0  1754  pigmeat  {'title': 'Connoisseur', 'author': 'G. Colman'...   \n",
       "1  1784  pigmeat  {'title': 'Year's Journey through Paix Bâs', '...   \n",
       "2  1817  pigmeat  {'title': 'Parl. Deb.', 'author': None, 'gende...   \n",
       "3  1897  pigmeat  {'title': 'Syst. Med.', 'author': 'T. C. Allbu...   \n",
       "4  1918  pigmeat  {'title': 'Times', 'author': None, 'gender': N...   \n",
       "\n",
       "                                             oed_url       word_id  \\\n",
       "0  https://www.oed.com/view/Entry/237320#eid13163366  pigmeat_nn01   \n",
       "1  https://www.oed.com/view/Entry/237320#eid13163379  pigmeat_nn01   \n",
       "2  https://www.oed.com/view/Entry/237320#eid13163399  pigmeat_nn01   \n",
       "3  https://www.oed.com/view/Entry/237320#eid13163416  pigmeat_nn01   \n",
       "4  https://www.oed.com/view/Entry/237320#eid13163425  pigmeat_nn01   \n",
       "\n",
       "                sense_id datestring  first_in_word         oed_reference  \\\n",
       "0  pigmeat_nn01-13163363       1754           True  pigmeat, n., sense 1   \n",
       "1  pigmeat_nn01-13163363       1784          False  pigmeat, n., sense 1   \n",
       "2  pigmeat_nn01-13163363       1817          False  pigmeat, n., sense 1   \n",
       "3  pigmeat_nn01-13163363       1897          False  pigmeat, n., sense 1   \n",
       "4  pigmeat_nn01-13163363       1918          False  pigmeat, n., sense 1   \n",
       "\n",
       "   first_in_sense  \n",
       "0            True  \n",
       "1           False  \n",
       "2           False  \n",
       "3           False  \n",
       "4           False  "
      ],
      "text/html": "<div>\n<style scoped>\n    .dataframe tbody tr th:only-of-type {\n        vertical-align: middle;\n    }\n\n    .dataframe tbody tr th {\n        vertical-align: top;\n    }\n\n    .dataframe thead th {\n        text-align: right;\n    }\n</style>\n<table border=\"1\" class=\"dataframe\">\n  <thead>\n    <tr style=\"text-align: right;\">\n      <th></th>\n      <th>id</th>\n      <th>text</th>\n      <th>year</th>\n      <th>lemma</th>\n      <th>source</th>\n      <th>oed_url</th>\n      <th>word_id</th>\n      <th>sense_id</th>\n      <th>datestring</th>\n      <th>first_in_word</th>\n      <th>oed_reference</th>\n      <th>first_in_sense</th>\n    </tr>\n  </thead>\n  <tbody>\n    <tr>\n      <th>0</th>\n      <td>pigmeat_nn01-13163366</td>\n      <td>{'keyword': 'pig-meat', 'full_text': 'I was at...</td>\n      <td>1754</td>\n      <td>pigmeat</td>\n      <td>{'title': 'Connoisseur', 'author': 'G. Colman'...</td>\n      <td>https://www.oed.com/view/Entry/237320#eid13163366</td>\n      <td>pigmeat_nn01</td>\n      <td>pigmeat_nn01-13163363</td>\n      <td>1754</td>\n      <td>True</td>\n      <td>pigmeat, n., sense 1</td>\n      <td>True</td>\n    </tr>\n    <tr>\n      <th>1</th>\n      <td>pigmeat_nn01-13163379</td>\n      <td>{'keyword': 'pig-meat', 'full_text': 'In short...</td>\n      <td>1784</td>\n      <td>pigmeat</td>\n      <td>{'title': 'Year's Journey through Paix Bâs', '...</td>\n      <td>https://www.oed.com/view/Entry/237320#eid13163379</td>\n      <td>pigmeat_nn01</td>\n      <td>pigmeat_nn01-13163363</td>\n      <td>1784</td>\n      <td>False</td>\n      <td>pigmeat, n., sense 1</td>\n      <td>False</td>\n    </tr>\n    <tr>\n      <th>2</th>\n      <td>pigmeat_nn01-13163399</td>\n      <td>{'keyword': 'pig meat', 'full_text': 'It preve...</td>\n      <td>1817</td>\n      <td>pigmeat</td>\n      <td>{'title': 'Parl. Deb.', 'author': None, 'gende...</td>\n      <td>https://www.oed.com/view/Entry/237320#eid13163399</td>\n      <td>pigmeat_nn01</td>\n      <td>pigmeat_nn01-13163363</td>\n      <td>1817</td>\n      <td>False</td>\n      <td>pigmeat, n., sense 1</td>\n      <td>False</td>\n    </tr>\n    <tr>\n      <th>3</th>\n      <td>pigmeat_nn01-13163416</td>\n      <td>{'keyword': 'pig meat', 'full_text': 'In most ...</td>\n      <td>1897</td>\n      <td>pigmeat</td>\n      <td>{'title': 'Syst. Med.', 'author': 'T. C. Allbu...</td>\n      <td>https://www.oed.com/view/Entry/237320#eid13163416</td>\n      <td>pigmeat_nn01</td>\n      <td>pigmeat_nn01-13163363</td>\n      <td>1897</td>\n      <td>False</td>\n      <td>pigmeat, n., sense 1</td>\n      <td>False</td>\n    </tr>\n    <tr>\n      <th>4</th>\n      <td>pigmeat_nn01-13163425</td>\n      <td>{'keyword': 'pig meat', 'full_text': 'Beef tak...</td>\n      <td>1918</td>\n      <td>pigmeat</td>\n      <td>{'title': 'Times', 'author': None, 'gender': N...</td>\n      <td>https://www.oed.com/view/Entry/237320#eid13163425</td>\n      <td>pigmeat_nn01</td>\n      <td>pigmeat_nn01-13163363</td>\n      <td>1918</td>\n      <td>False</td>\n      <td>pigmeat, n., sense 1</td>\n      <td>False</td>\n    </tr>\n  </tbody>\n</table>\n</div>"
     },
     "metadata": {},
     "execution_count": 26
    }
   ],
   "source": [
    "df_quotations.head()"
   ]
  },
  {
   "source": [
    "# Run code"
   ],
   "cell_type": "markdown",
   "metadata": {}
  },
  {
   "cell_type": "code",
   "execution_count": 27,
   "metadata": {},
   "outputs": [
    {
     "output_type": "execute_result",
     "data": {
      "text/plain": [
       "{'A conceptual, abstract, or theoretical mechanism or device; spec. a model or a mathematical abstraction of an existing or hypothetical computer. Cf. Turing machine n.',\n",
       " 'Mechanics. Anything that transmits force or directs its application.'}"
      ]
     },
     "metadata": {},
     "execution_count": 27
    }
   ],
   "source": [
    "set(df[df.id.isin(['machine_nn01-38475835','machine_nn01-38475923'])].definition)"
   ]
  },
  {
   "cell_type": "code",
   "execution_count": 28,
   "metadata": {},
   "outputs": [
    {
     "output_type": "stream",
     "name": "stdout",
     "text": [
      "# senses before filtering by date = 8383\n",
      "# senses after filtering by date = 5918\n",
      "\n",
      "\n",
      "# of seed senses 22 \n",
      "# of synonyms 310 \n",
      "# of branch senses 4990\n",
      "\n",
      "\n",
      "# of seeds selected 1 \n",
      "# of synonyms selected 8 \n",
      "# of branches selected 6\n"
     ]
    }
   ],
   "source": [
    "senses = filter_senses(df,\n",
    "                       {'machine_nn01-38475835','machine_nn01-38475923'},\n",
    "                       relations = ['seed','synonym','descendant','sibling'], # 'all',\n",
    "                       expand_seeds=True,\n",
    "                       expand_synonyms=False,\n",
    "                       start=1760, \n",
    "                       end=1920\n",
    "                      )"
   ]
  },
  {
   "cell_type": "code",
   "execution_count": 29,
   "metadata": {},
   "outputs": [
    {
     "output_type": "execute_result",
     "data": {
      "text/plain": [
       "19"
      ]
     },
     "metadata": {},
     "execution_count": 29
    }
   ],
   "source": [
    "len(senses)"
   ]
  },
  {
   "cell_type": "code",
   "execution_count": 33,
   "metadata": {},
   "outputs": [],
   "source": [
    "df_source = pd.read_pickle(\"./data/extended_machine_nn01.pickle\")"
   ]
  },
  {
   "cell_type": "code",
   "execution_count": 34,
   "metadata": {
    "tags": []
   },
   "outputs": [
    {
     "output_type": "execute_result",
     "data": {
      "text/plain": [
       "(138, 13)"
      ]
     },
     "metadata": {},
     "execution_count": 34
    }
   ],
   "source": [
    "quotations = obtain_quotations_for_senses(df_quotations,\n",
    "                                df_source,                  \n",
    "                                senses,\n",
    "                                start=1760,end=1920)\n",
    "quotations.shape"
   ]
  },
  {
   "cell_type": "code",
   "execution_count": 35,
   "metadata": {},
   "outputs": [
    {
     "output_type": "execute_result",
     "data": {
      "text/plain": [
       "       keyword                                          full_text  \\\n",
       "0        mover  The treasury became literally moneyless and al...   \n",
       "1        mover  The treasury became literally moneyless and al...   \n",
       "2        mover  The treasury became literally moneyless and al...   \n",
       "3  first mover  When a fly is used merely as a regulator, it s...   \n",
       "4  first mover  When a fly is used merely as a regulator, it s...   \n",
       "\n",
       "   keyword_offset                title        author gender  year  \\\n",
       "0            75.0             Writings  T. Jefferson   male  1788   \n",
       "1            75.0             Writings  T. Jefferson   male  1788   \n",
       "2            75.0             Writings  T. Jefferson   male  1788   \n",
       "3            64.0  Panorama Sci. & Art      J. Smith   male  1815   \n",
       "4            64.0  Panorama Sci. & Art      J. Smith   male  1815   \n",
       "\n",
       "              sense_id                                          daterange  \\\n",
       "0  mover_nn01-35820685  {'end': None, 'start': 1626, 'obsolete': False...   \n",
       "1  mover_nn01-35820685  {'end': None, 'start': 1626, 'obsolete': False...   \n",
       "2  mover_nn01-35820685  {'end': None, 'start': 1626, 'obsolete': False...   \n",
       "3  mover_nn01-35820685  {'end': None, 'start': 1626, 'obsolete': False...   \n",
       "4  mover_nn01-35820685  {'end': None, 'start': 1626, 'obsolete': False...   \n",
       "\n",
       "                                          provenance provenance_type  \\\n",
       "0  [[mover_nn01-35820685, synonym, machine_nn01-3...         synonym   \n",
       "1                          [[84483, sibling, 84483]]          branch   \n",
       "2                        [[214198, sibling, 214198]]          branch   \n",
       "3  [[mover_nn01-35820685, synonym, machine_nn01-3...         synonym   \n",
       "4                          [[84483, sibling, 84483]]          branch   \n",
       "\n",
       "                             relation_to_core_senses  relation_to_seed_senses  \n",
       "0  {primummobile_nn01-28369573, machine_nn01-3847...  {machine_nn01-38475923}  \n",
       "1  {primummobile_nn01-28369573, machine_nn01-3847...  {machine_nn01-38475923}  \n",
       "2  {primummobile_nn01-28369573, machine_nn01-3847...  {machine_nn01-38475923}  \n",
       "3  {primummobile_nn01-28369573, machine_nn01-3847...  {machine_nn01-38475923}  \n",
       "4  {primummobile_nn01-28369573, machine_nn01-3847...  {machine_nn01-38475923}  "
      ],
      "text/html": "<div>\n<style scoped>\n    .dataframe tbody tr th:only-of-type {\n        vertical-align: middle;\n    }\n\n    .dataframe tbody tr th {\n        vertical-align: top;\n    }\n\n    .dataframe thead th {\n        text-align: right;\n    }\n</style>\n<table border=\"1\" class=\"dataframe\">\n  <thead>\n    <tr style=\"text-align: right;\">\n      <th></th>\n      <th>keyword</th>\n      <th>full_text</th>\n      <th>keyword_offset</th>\n      <th>title</th>\n      <th>author</th>\n      <th>gender</th>\n      <th>year</th>\n      <th>sense_id</th>\n      <th>daterange</th>\n      <th>provenance</th>\n      <th>provenance_type</th>\n      <th>relation_to_core_senses</th>\n      <th>relation_to_seed_senses</th>\n    </tr>\n  </thead>\n  <tbody>\n    <tr>\n      <th>0</th>\n      <td>mover</td>\n      <td>The treasury became literally moneyless and al...</td>\n      <td>75.0</td>\n      <td>Writings</td>\n      <td>T. Jefferson</td>\n      <td>male</td>\n      <td>1788</td>\n      <td>mover_nn01-35820685</td>\n      <td>{'end': None, 'start': 1626, 'obsolete': False...</td>\n      <td>[[mover_nn01-35820685, synonym, machine_nn01-3...</td>\n      <td>synonym</td>\n      <td>{primummobile_nn01-28369573, machine_nn01-3847...</td>\n      <td>{machine_nn01-38475923}</td>\n    </tr>\n    <tr>\n      <th>1</th>\n      <td>mover</td>\n      <td>The treasury became literally moneyless and al...</td>\n      <td>75.0</td>\n      <td>Writings</td>\n      <td>T. Jefferson</td>\n      <td>male</td>\n      <td>1788</td>\n      <td>mover_nn01-35820685</td>\n      <td>{'end': None, 'start': 1626, 'obsolete': False...</td>\n      <td>[[84483, sibling, 84483]]</td>\n      <td>branch</td>\n      <td>{primummobile_nn01-28369573, machine_nn01-3847...</td>\n      <td>{machine_nn01-38475923}</td>\n    </tr>\n    <tr>\n      <th>2</th>\n      <td>mover</td>\n      <td>The treasury became literally moneyless and al...</td>\n      <td>75.0</td>\n      <td>Writings</td>\n      <td>T. Jefferson</td>\n      <td>male</td>\n      <td>1788</td>\n      <td>mover_nn01-35820685</td>\n      <td>{'end': None, 'start': 1626, 'obsolete': False...</td>\n      <td>[[214198, sibling, 214198]]</td>\n      <td>branch</td>\n      <td>{primummobile_nn01-28369573, machine_nn01-3847...</td>\n      <td>{machine_nn01-38475923}</td>\n    </tr>\n    <tr>\n      <th>3</th>\n      <td>first mover</td>\n      <td>When a fly is used merely as a regulator, it s...</td>\n      <td>64.0</td>\n      <td>Panorama Sci. &amp; Art</td>\n      <td>J. Smith</td>\n      <td>male</td>\n      <td>1815</td>\n      <td>mover_nn01-35820685</td>\n      <td>{'end': None, 'start': 1626, 'obsolete': False...</td>\n      <td>[[mover_nn01-35820685, synonym, machine_nn01-3...</td>\n      <td>synonym</td>\n      <td>{primummobile_nn01-28369573, machine_nn01-3847...</td>\n      <td>{machine_nn01-38475923}</td>\n    </tr>\n    <tr>\n      <th>4</th>\n      <td>first mover</td>\n      <td>When a fly is used merely as a regulator, it s...</td>\n      <td>64.0</td>\n      <td>Panorama Sci. &amp; Art</td>\n      <td>J. Smith</td>\n      <td>male</td>\n      <td>1815</td>\n      <td>mover_nn01-35820685</td>\n      <td>{'end': None, 'start': 1626, 'obsolete': False...</td>\n      <td>[[84483, sibling, 84483]]</td>\n      <td>branch</td>\n      <td>{primummobile_nn01-28369573, machine_nn01-3847...</td>\n      <td>{machine_nn01-38475923}</td>\n    </tr>\n  </tbody>\n</table>\n</div>"
     },
     "metadata": {},
     "execution_count": 35
    }
   ],
   "source": [
    "quotations.head()"
   ]
  },
  {
   "cell_type": "code",
   "execution_count": 36,
   "metadata": {},
   "outputs": [
    {
     "output_type": "execute_result",
     "data": {
      "text/plain": [
       "{'energizer_nn01-1246574970',\n",
       " 'generator_nn01-135539783',\n",
       " 'machine_nn01-38475923',\n",
       " 'machinepower_nn01-38476982',\n",
       " 'mechanicaladvantage_nn01-37502752',\n",
       " 'mover_nn01-35820685',\n",
       " 'power_nn01-28687898',\n",
       " 'primemover_nn01-28348676',\n",
       " 'primummobile_nn01-28369573',\n",
       " 'vice_nn02-15526247'}"
      ]
     },
     "metadata": {},
     "execution_count": 36
    }
   ],
   "source": [
    "set().union(*quotations.relation_to_core_senses)"
   ]
  },
  {
   "cell_type": "code",
   "execution_count": 37,
   "metadata": {},
   "outputs": [
    {
     "output_type": "execute_result",
     "data": {
      "text/plain": [
       "{'machine_nn01-38475923'}"
      ]
     },
     "metadata": {},
     "execution_count": 37
    }
   ],
   "source": [
    "set().union(*quotations.relation_to_seed_senses)"
   ]
  },
  {
   "source": [
    "# Test Demo Dataframe"
   ],
   "cell_type": "markdown",
   "metadata": {}
  },
  {
   "cell_type": "code",
   "execution_count": 38,
   "metadata": {},
   "outputs": [
    {
     "output_type": "execute_result",
     "data": {
      "text/plain": [
       "(235, 12)"
      ]
     },
     "metadata": {},
     "execution_count": 38
    }
   ],
   "source": [
    "df_quotations_demo = pd.read_pickle(f'./data/quotations_all_demo_{lemma_id}.pickle')\n",
    "df_quotations_demo.shape"
   ]
  },
  {
   "cell_type": "code",
   "execution_count": 40,
   "metadata": {},
   "outputs": [
    {
     "output_type": "execute_result",
     "data": {
      "text/plain": [
       "                      id                                               text  \\\n",
       "0    brike_nn01-13524886  {'keyword': 'bryke', 'full_text': 'bryke.', 'k...   \n",
       "1    brike_nn01-13524897  {'keyword': 'brike', 'full_text': 'Genylon Oly...   \n",
       "2  brike_nn01-1024597551  {'keyword': 'brike', 'full_text': 'I that am i...   \n",
       "3  lorelei_nn01-38866541  {'keyword': 'Loreley', 'full_text': 'The Lorel...   \n",
       "4  lorelei_nn01-38866549  {'keyword': 'loreleis', 'full_text': 'Instead ...   \n",
       "\n",
       "   year    lemma                                             source  \\\n",
       "0  1400    brike  {'title': 'On the Seven Deadly Sins', 'author'...   \n",
       "1  1405    brike  {'title': 'Monk's Tale', 'author': 'G. Chaucer...   \n",
       "2  1499    brike  {'title': 'Poems from Pilgrimage of Soul', 'au...   \n",
       "3  1878  Lorelei  {'title': 'Chambers's Encycl.', 'author': None...   \n",
       "4  1908  Lorelei  {'title': 'Strictly Business', 'author': '‘O. ...   \n",
       "\n",
       "                                             oed_url       word_id  \\\n",
       "0   https://www.oed.com/view/Entry/23326#eid13524886    brike_nn01   \n",
       "1   https://www.oed.com/view/Entry/23326#eid13524897    brike_nn01   \n",
       "2  https://www.oed.com/view/Entry/23326#eid102459...    brike_nn01   \n",
       "3  https://www.oed.com/view/Entry/110339#eid38866541  lorelei_nn01   \n",
       "4  https://www.oed.com/view/Entry/110339#eid38866549  lorelei_nn01   \n",
       "\n",
       "                sense_id datestring  first_in_word oed_reference  \\\n",
       "0    brike_nn01-13524883      c1400           True     brike, n.   \n",
       "1    brike_nn01-13524883      c1405          False     brike, n.   \n",
       "2    brike_nn01-13524883      a1500          False     brike, n.   \n",
       "3  lorelei_nn01-38866532       1878           True   Lorelei, n.   \n",
       "4  lorelei_nn01-38866532       1908          False   Lorelei, n.   \n",
       "\n",
       "   first_in_sense  \n",
       "0            True  \n",
       "1           False  \n",
       "2           False  \n",
       "3            True  \n",
       "4           False  "
      ],
      "text/html": "<div>\n<style scoped>\n    .dataframe tbody tr th:only-of-type {\n        vertical-align: middle;\n    }\n\n    .dataframe tbody tr th {\n        vertical-align: top;\n    }\n\n    .dataframe thead th {\n        text-align: right;\n    }\n</style>\n<table border=\"1\" class=\"dataframe\">\n  <thead>\n    <tr style=\"text-align: right;\">\n      <th></th>\n      <th>id</th>\n      <th>text</th>\n      <th>year</th>\n      <th>lemma</th>\n      <th>source</th>\n      <th>oed_url</th>\n      <th>word_id</th>\n      <th>sense_id</th>\n      <th>datestring</th>\n      <th>first_in_word</th>\n      <th>oed_reference</th>\n      <th>first_in_sense</th>\n    </tr>\n  </thead>\n  <tbody>\n    <tr>\n      <th>0</th>\n      <td>brike_nn01-13524886</td>\n      <td>{'keyword': 'bryke', 'full_text': 'bryke.', 'k...</td>\n      <td>1400</td>\n      <td>brike</td>\n      <td>{'title': 'On the Seven Deadly Sins', 'author'...</td>\n      <td>https://www.oed.com/view/Entry/23326#eid13524886</td>\n      <td>brike_nn01</td>\n      <td>brike_nn01-13524883</td>\n      <td>c1400</td>\n      <td>True</td>\n      <td>brike, n.</td>\n      <td>True</td>\n    </tr>\n    <tr>\n      <th>1</th>\n      <td>brike_nn01-13524897</td>\n      <td>{'keyword': 'brike', 'full_text': 'Genylon Oly...</td>\n      <td>1405</td>\n      <td>brike</td>\n      <td>{'title': 'Monk's Tale', 'author': 'G. Chaucer...</td>\n      <td>https://www.oed.com/view/Entry/23326#eid13524897</td>\n      <td>brike_nn01</td>\n      <td>brike_nn01-13524883</td>\n      <td>c1405</td>\n      <td>False</td>\n      <td>brike, n.</td>\n      <td>False</td>\n    </tr>\n    <tr>\n      <th>2</th>\n      <td>brike_nn01-1024597551</td>\n      <td>{'keyword': 'brike', 'full_text': 'I that am i...</td>\n      <td>1499</td>\n      <td>brike</td>\n      <td>{'title': 'Poems from Pilgrimage of Soul', 'au...</td>\n      <td>https://www.oed.com/view/Entry/23326#eid102459...</td>\n      <td>brike_nn01</td>\n      <td>brike_nn01-13524883</td>\n      <td>a1500</td>\n      <td>False</td>\n      <td>brike, n.</td>\n      <td>False</td>\n    </tr>\n    <tr>\n      <th>3</th>\n      <td>lorelei_nn01-38866541</td>\n      <td>{'keyword': 'Loreley', 'full_text': 'The Lorel...</td>\n      <td>1878</td>\n      <td>Lorelei</td>\n      <td>{'title': 'Chambers's Encycl.', 'author': None...</td>\n      <td>https://www.oed.com/view/Entry/110339#eid38866541</td>\n      <td>lorelei_nn01</td>\n      <td>lorelei_nn01-38866532</td>\n      <td>1878</td>\n      <td>True</td>\n      <td>Lorelei, n.</td>\n      <td>True</td>\n    </tr>\n    <tr>\n      <th>4</th>\n      <td>lorelei_nn01-38866549</td>\n      <td>{'keyword': 'loreleis', 'full_text': 'Instead ...</td>\n      <td>1908</td>\n      <td>Lorelei</td>\n      <td>{'title': 'Strictly Business', 'author': '‘O. ...</td>\n      <td>https://www.oed.com/view/Entry/110339#eid38866549</td>\n      <td>lorelei_nn01</td>\n      <td>lorelei_nn01-38866532</td>\n      <td>1908</td>\n      <td>False</td>\n      <td>Lorelei, n.</td>\n      <td>False</td>\n    </tr>\n  </tbody>\n</table>\n</div>"
     },
     "metadata": {},
     "execution_count": 40
    }
   ],
   "source": [
    "df_quotations_demo.head()"
   ]
  },
  {
   "cell_type": "code",
   "execution_count": 39,
   "metadata": {},
   "outputs": [
    {
     "output_type": "execute_result",
     "data": {
      "text/plain": [
       "True"
      ]
     },
     "metadata": {},
     "execution_count": 39
    }
   ],
   "source": [
    "# checking if information between demo and full version is the same\n",
    "list(df_quotations_demo.columns) == list(df_quotations.columns)"
   ]
  },
  {
   "source": [
    "# Fin."
   ],
   "cell_type": "markdown",
   "metadata": {}
  }
 ],
 "metadata": {
  "kernelspec": {
   "display_name": "Python 3",
   "language": "python",
   "name": "python3"
  },
  "language_info": {
   "codemirror_mode": {
    "name": "ipython",
    "version": 3
   },
   "file_extension": ".py",
   "mimetype": "text/x-python",
   "name": "python",
   "nbconvert_exporter": "python",
   "pygments_lexer": "ipython3",
   "version": "3.7.5-final"
  }
 },
 "nbformat": 4,
 "nbformat_minor": 2
}