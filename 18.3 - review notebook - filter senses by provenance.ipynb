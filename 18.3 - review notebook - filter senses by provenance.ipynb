{
 "cells": [
  {
   "cell_type": "markdown",
   "metadata": {},
   "source": [
    "# Review Notebook for Sense Filtering by Time and Provenance\n",
    "\n",
    "This notebook builds on 4.1 (harvest senses with provenance) and 4.2 (harvest quotations for senses). The code in this notebook allows you to filter senses by (a) selecting seed senses (b) defining relations words should have to the seed senses.\n",
    "\n",
    "Functions reviewed in this notebook:\n",
    "- `filter_by_year_range` (helper)\n",
    "- `select_senses_by_provenance`(helper)\n",
    "- `filter_senses` (main)\n",
    "\n",
    "Part of:\n",
    "- `utils.dataset_download`\n",
    "\n",
    "Creator: Kaspar Beelen\n",
    "\n",
    "Reviewer(s):\n"
   ]
  },
  {
   "cell_type": "code",
   "execution_count": 1,
   "metadata": {},
   "outputs": [
    {
     "output_type": "stream",
     "name": "stdout",
     "text": [
      "  19-machine-tagger\u001b[m\n* \u001b[32m4-semantic-provenance\u001b[m\n  44-kNN-BERT-baseline\u001b[m\n  dev\u001b[m\n  master\u001b[m\n"
     ]
    }
   ],
   "source": [
    "!git branch"
   ]
  },
  {
   "cell_type": "markdown",
   "metadata": {},
   "source": [
    "## Load libraries, data and set parameters"
   ]
  },
  {
   "cell_type": "code",
   "execution_count": 2,
   "metadata": {},
   "outputs": [],
   "source": [
    "%load_ext autoreload"
   ]
  },
  {
   "cell_type": "code",
   "execution_count": 3,
   "metadata": {},
   "outputs": [],
   "source": [
    "%autoreload 2"
   ]
  },
  {
   "cell_type": "code",
   "execution_count": 48,
   "metadata": {},
   "outputs": [],
   "source": [
    "import pandas as pd\n",
    "import json\n",
    "from utils.dataset_download import *"
   ]
  },
  {
   "cell_type": "code",
   "execution_count": 5,
   "metadata": {},
   "outputs": [],
   "source": [
    "lemma_id = 'machine_nn01'"
   ]
  },
  {
   "cell_type": "code",
   "execution_count": 6,
   "metadata": {},
   "outputs": [],
   "source": [
    "# import API credentials\n",
    "with open('../oed_experiments/oed_credentials.json') as f:\n",
    "    auth = json.load(f)"
   ]
  },
  {
   "cell_type": "code",
   "execution_count": 24,
   "metadata": {},
   "outputs": [],
   "source": [
    "df = pd.read_pickle(f'./data/extended_{lemma_id}.pickle')"
   ]
  },
  {
   "cell_type": "code",
   "execution_count": 8,
   "metadata": {},
   "outputs": [
    {
     "output_type": "execute_result",
     "data": {
      "text/plain": [
       "                                          categories  \\\n",
       "0   {'topic': [], 'usage': [['rare']], 'region': []}   \n",
       "1  {'topic': [['Military', 'Weaponry']], 'usage':...   \n",
       "2           {'topic': [], 'usage': [], 'region': []}   \n",
       "\n",
       "                                           daterange  \\\n",
       "0  {'end': None, 'start': 1545, 'obsolete': False...   \n",
       "1  {'end': None, 'start': 1583, 'obsolete': False...   \n",
       "2  {'end': 1707, 'start': 1595, 'obsolete': True,...   \n",
       "\n",
       "                                          definition        first_use  \\\n",
       "0  A material or immaterial structure, esp. the f...       J. Schäfer   \n",
       "1  A military engine or siege-tower. Cf. war mach...  Brian Melbancke   \n",
       "2                  spec. A scheme or plot. Obsolete.      Elizabeth I   \n",
       "\n",
       "                      id    lemma  main_current_sense  \\\n",
       "0  machine_nn01-38473945  machine               False   \n",
       "1  machine_nn01-38474233  machine               False   \n",
       "2  machine_nn01-38474097  machine               False   \n",
       "\n",
       "                                                meta notes  \\\n",
       "0  {'created': 1904, 'revised': True, 'updated': ...    []   \n",
       "1  {'created': 1904, 'revised': True, 'updated': ...    []   \n",
       "2  {'created': 1904, 'revised': True, 'updated': ...    []   \n",
       "\n",
       "             oed_reference                                            oed_url  \\\n",
       "0  machine, n., sense I.1a  https://www.oed.com/view/Entry/111850#eid38473945   \n",
       "1  machine, n., sense II.3  https://www.oed.com/view/Entry/111850#eid38474233   \n",
       "2  machine, n., sense I.1b  https://www.oed.com/view/Entry/111850#eid38474097   \n",
       "\n",
       "  part_of_speech                                     provenance  \\\n",
       "0             NN  [[machine_nn01-38473945, seed, machine_nn01]]   \n",
       "1             NN  [[machine_nn01-38474233, seed, machine_nn01]]   \n",
       "2             NN  [[machine_nn01-38474097, seed, machine_nn01]]   \n",
       "\n",
       "  provenance_type                                      quotation_ids  \\\n",
       "0            seed  [machine_nn01-38473950, machine_nn01-38473961,...   \n",
       "1            seed  [machine_nn01-38474243, machine_nn01-38474252,...   \n",
       "2            seed  [machine_nn01-38474102, machine_nn01-38474122,...   \n",
       "\n",
       "                                  semantic_class_ids semantic_class_last_id  \\\n",
       "0  [[1, 111290, 118635, 119024, 120162, 120172], ...       [120172, 120173]   \n",
       "1  [[153072, 160439, 163207, 163208, 163377, 1633...               [163378]   \n",
       "2  [[1, 84689, 87987, 87988, 87989, 88083, 88109,...                [88126]   \n",
       "\n",
       "  transitivity       word_id  \n",
       "0         None  machine_nn01  \n",
       "1         None  machine_nn01  \n",
       "2         None  machine_nn01  "
      ],
      "text/html": "<div>\n<style scoped>\n    .dataframe tbody tr th:only-of-type {\n        vertical-align: middle;\n    }\n\n    .dataframe tbody tr th {\n        vertical-align: top;\n    }\n\n    .dataframe thead th {\n        text-align: right;\n    }\n</style>\n<table border=\"1\" class=\"dataframe\">\n  <thead>\n    <tr style=\"text-align: right;\">\n      <th></th>\n      <th>categories</th>\n      <th>daterange</th>\n      <th>definition</th>\n      <th>first_use</th>\n      <th>id</th>\n      <th>lemma</th>\n      <th>main_current_sense</th>\n      <th>meta</th>\n      <th>notes</th>\n      <th>oed_reference</th>\n      <th>oed_url</th>\n      <th>part_of_speech</th>\n      <th>provenance</th>\n      <th>provenance_type</th>\n      <th>quotation_ids</th>\n      <th>semantic_class_ids</th>\n      <th>semantic_class_last_id</th>\n      <th>transitivity</th>\n      <th>word_id</th>\n    </tr>\n  </thead>\n  <tbody>\n    <tr>\n      <th>0</th>\n      <td>{'topic': [], 'usage': [['rare']], 'region': []}</td>\n      <td>{'end': None, 'start': 1545, 'obsolete': False...</td>\n      <td>A material or immaterial structure, esp. the f...</td>\n      <td>J. Schäfer</td>\n      <td>machine_nn01-38473945</td>\n      <td>machine</td>\n      <td>False</td>\n      <td>{'created': 1904, 'revised': True, 'updated': ...</td>\n      <td>[]</td>\n      <td>machine, n., sense I.1a</td>\n      <td>https://www.oed.com/view/Entry/111850#eid38473945</td>\n      <td>NN</td>\n      <td>[[machine_nn01-38473945, seed, machine_nn01]]</td>\n      <td>seed</td>\n      <td>[machine_nn01-38473950, machine_nn01-38473961,...</td>\n      <td>[[1, 111290, 118635, 119024, 120162, 120172], ...</td>\n      <td>[120172, 120173]</td>\n      <td>None</td>\n      <td>machine_nn01</td>\n    </tr>\n    <tr>\n      <th>1</th>\n      <td>{'topic': [['Military', 'Weaponry']], 'usage':...</td>\n      <td>{'end': None, 'start': 1583, 'obsolete': False...</td>\n      <td>A military engine or siege-tower. Cf. war mach...</td>\n      <td>Brian Melbancke</td>\n      <td>machine_nn01-38474233</td>\n      <td>machine</td>\n      <td>False</td>\n      <td>{'created': 1904, 'revised': True, 'updated': ...</td>\n      <td>[]</td>\n      <td>machine, n., sense II.3</td>\n      <td>https://www.oed.com/view/Entry/111850#eid38474233</td>\n      <td>NN</td>\n      <td>[[machine_nn01-38474233, seed, machine_nn01]]</td>\n      <td>seed</td>\n      <td>[machine_nn01-38474243, machine_nn01-38474252,...</td>\n      <td>[[153072, 160439, 163207, 163208, 163377, 1633...</td>\n      <td>[163378]</td>\n      <td>None</td>\n      <td>machine_nn01</td>\n    </tr>\n    <tr>\n      <th>2</th>\n      <td>{'topic': [], 'usage': [], 'region': []}</td>\n      <td>{'end': 1707, 'start': 1595, 'obsolete': True,...</td>\n      <td>spec. A scheme or plot. Obsolete.</td>\n      <td>Elizabeth I</td>\n      <td>machine_nn01-38474097</td>\n      <td>machine</td>\n      <td>False</td>\n      <td>{'created': 1904, 'revised': True, 'updated': ...</td>\n      <td>[]</td>\n      <td>machine, n., sense I.1b</td>\n      <td>https://www.oed.com/view/Entry/111850#eid38474097</td>\n      <td>NN</td>\n      <td>[[machine_nn01-38474097, seed, machine_nn01]]</td>\n      <td>seed</td>\n      <td>[machine_nn01-38474102, machine_nn01-38474122,...</td>\n      <td>[[1, 84689, 87987, 87988, 87989, 88083, 88109,...</td>\n      <td>[88126]</td>\n      <td>None</td>\n      <td>machine_nn01</td>\n    </tr>\n  </tbody>\n</table>\n</div>"
     },
     "metadata": {},
     "execution_count": 8
    }
   ],
   "source": [
    "df.head(3)"
   ]
  },
  {
   "cell_type": "code",
   "execution_count": 41,
   "metadata": {},
   "outputs": [],
   "source": []
  },
  {
   "cell_type": "code",
   "execution_count": 60,
   "metadata": {},
   "outputs": [
    {
     "output_type": "execute_result",
     "data": {
      "text/plain": [
       "(203560, 12)"
      ]
     },
     "metadata": {},
     "execution_count": 60
    }
   ],
   "source": [
    "df_quotations = pd.read_pickle(f'./data/quotations_all_{lemma_id}.pickle')\n",
    "df_quotations.shape"
   ]
  },
  {
   "cell_type": "code",
   "execution_count": 10,
   "metadata": {},
   "outputs": [
    {
     "output_type": "execute_result",
     "data": {
      "text/plain": [
       "                      id                                               text  \\\n",
       "0  pigmeat_nn01-13163366  {'keyword': 'pig-meat', 'full_text': 'I was at...   \n",
       "1  pigmeat_nn01-13163379  {'keyword': 'pig-meat', 'full_text': 'In short...   \n",
       "2  pigmeat_nn01-13163399  {'keyword': 'pig meat', 'full_text': 'It preve...   \n",
       "3  pigmeat_nn01-13163416  {'keyword': 'pig meat', 'full_text': 'In most ...   \n",
       "4  pigmeat_nn01-13163425  {'keyword': 'pig meat', 'full_text': 'Beef tak...   \n",
       "\n",
       "   year    lemma                                             source  \\\n",
       "0  1754  pigmeat  {'title': 'Connoisseur', 'author': 'G. Colman'...   \n",
       "1  1784  pigmeat  {'title': 'Year's Journey through Paix Bâs', '...   \n",
       "2  1817  pigmeat  {'title': 'Parl. Deb.', 'author': None, 'gende...   \n",
       "3  1897  pigmeat  {'title': 'Syst. Med.', 'author': 'T. C. Allbu...   \n",
       "4  1918  pigmeat  {'title': 'Times', 'author': None, 'gender': N...   \n",
       "\n",
       "                                             oed_url       word_id  \\\n",
       "0  https://www.oed.com/view/Entry/237320#eid13163366  pigmeat_nn01   \n",
       "1  https://www.oed.com/view/Entry/237320#eid13163379  pigmeat_nn01   \n",
       "2  https://www.oed.com/view/Entry/237320#eid13163399  pigmeat_nn01   \n",
       "3  https://www.oed.com/view/Entry/237320#eid13163416  pigmeat_nn01   \n",
       "4  https://www.oed.com/view/Entry/237320#eid13163425  pigmeat_nn01   \n",
       "\n",
       "                sense_id datestring  first_in_word         oed_reference  \\\n",
       "0  pigmeat_nn01-13163363       1754           True  pigmeat, n., sense 1   \n",
       "1  pigmeat_nn01-13163363       1784          False  pigmeat, n., sense 1   \n",
       "2  pigmeat_nn01-13163363       1817          False  pigmeat, n., sense 1   \n",
       "3  pigmeat_nn01-13163363       1897          False  pigmeat, n., sense 1   \n",
       "4  pigmeat_nn01-13163363       1918          False  pigmeat, n., sense 1   \n",
       "\n",
       "   first_in_sense  \n",
       "0            True  \n",
       "1           False  \n",
       "2           False  \n",
       "3           False  \n",
       "4           False  "
      ],
      "text/html": "<div>\n<style scoped>\n    .dataframe tbody tr th:only-of-type {\n        vertical-align: middle;\n    }\n\n    .dataframe tbody tr th {\n        vertical-align: top;\n    }\n\n    .dataframe thead th {\n        text-align: right;\n    }\n</style>\n<table border=\"1\" class=\"dataframe\">\n  <thead>\n    <tr style=\"text-align: right;\">\n      <th></th>\n      <th>id</th>\n      <th>text</th>\n      <th>year</th>\n      <th>lemma</th>\n      <th>source</th>\n      <th>oed_url</th>\n      <th>word_id</th>\n      <th>sense_id</th>\n      <th>datestring</th>\n      <th>first_in_word</th>\n      <th>oed_reference</th>\n      <th>first_in_sense</th>\n    </tr>\n  </thead>\n  <tbody>\n    <tr>\n      <th>0</th>\n      <td>pigmeat_nn01-13163366</td>\n      <td>{'keyword': 'pig-meat', 'full_text': 'I was at...</td>\n      <td>1754</td>\n      <td>pigmeat</td>\n      <td>{'title': 'Connoisseur', 'author': 'G. Colman'...</td>\n      <td>https://www.oed.com/view/Entry/237320#eid13163366</td>\n      <td>pigmeat_nn01</td>\n      <td>pigmeat_nn01-13163363</td>\n      <td>1754</td>\n      <td>True</td>\n      <td>pigmeat, n., sense 1</td>\n      <td>True</td>\n    </tr>\n    <tr>\n      <th>1</th>\n      <td>pigmeat_nn01-13163379</td>\n      <td>{'keyword': 'pig-meat', 'full_text': 'In short...</td>\n      <td>1784</td>\n      <td>pigmeat</td>\n      <td>{'title': 'Year's Journey through Paix Bâs', '...</td>\n      <td>https://www.oed.com/view/Entry/237320#eid13163379</td>\n      <td>pigmeat_nn01</td>\n      <td>pigmeat_nn01-13163363</td>\n      <td>1784</td>\n      <td>False</td>\n      <td>pigmeat, n., sense 1</td>\n      <td>False</td>\n    </tr>\n    <tr>\n      <th>2</th>\n      <td>pigmeat_nn01-13163399</td>\n      <td>{'keyword': 'pig meat', 'full_text': 'It preve...</td>\n      <td>1817</td>\n      <td>pigmeat</td>\n      <td>{'title': 'Parl. Deb.', 'author': None, 'gende...</td>\n      <td>https://www.oed.com/view/Entry/237320#eid13163399</td>\n      <td>pigmeat_nn01</td>\n      <td>pigmeat_nn01-13163363</td>\n      <td>1817</td>\n      <td>False</td>\n      <td>pigmeat, n., sense 1</td>\n      <td>False</td>\n    </tr>\n    <tr>\n      <th>3</th>\n      <td>pigmeat_nn01-13163416</td>\n      <td>{'keyword': 'pig meat', 'full_text': 'In most ...</td>\n      <td>1897</td>\n      <td>pigmeat</td>\n      <td>{'title': 'Syst. Med.', 'author': 'T. C. Allbu...</td>\n      <td>https://www.oed.com/view/Entry/237320#eid13163416</td>\n      <td>pigmeat_nn01</td>\n      <td>pigmeat_nn01-13163363</td>\n      <td>1897</td>\n      <td>False</td>\n      <td>pigmeat, n., sense 1</td>\n      <td>False</td>\n    </tr>\n    <tr>\n      <th>4</th>\n      <td>pigmeat_nn01-13163425</td>\n      <td>{'keyword': 'pig meat', 'full_text': 'Beef tak...</td>\n      <td>1918</td>\n      <td>pigmeat</td>\n      <td>{'title': 'Times', 'author': None, 'gender': N...</td>\n      <td>https://www.oed.com/view/Entry/237320#eid13163425</td>\n      <td>pigmeat_nn01</td>\n      <td>pigmeat_nn01-13163363</td>\n      <td>1918</td>\n      <td>False</td>\n      <td>pigmeat, n., sense 1</td>\n      <td>False</td>\n    </tr>\n  </tbody>\n</table>\n</div>"
     },
     "metadata": {},
     "execution_count": 10
    }
   ],
   "source": [
    "df_quotations.head()"
   ]
  },
  {
   "source": [
    "# Run code"
   ],
   "cell_type": "markdown",
   "metadata": {}
  },
  {
   "cell_type": "code",
   "execution_count": 51,
   "metadata": {},
   "outputs": [
    {
     "output_type": "execute_result",
     "data": {
      "text/plain": [
       "{'A conceptual, abstract, or theoretical mechanism or device; spec. a model or a mathematical abstraction of an existing or hypothetical computer. Cf. Turing machine n.',\n",
       " 'Mechanics. Anything that transmits force or directs its application.'}"
      ]
     },
     "metadata": {},
     "execution_count": 51
    }
   ],
   "source": [
    "set(df[df.id.isin(['machine_nn01-38475835','machine_nn01-38475923'])].definition)"
   ]
  },
  {
   "cell_type": "code",
   "execution_count": 99,
   "metadata": {},
   "outputs": [
    {
     "output_type": "stream",
     "name": "stdout",
     "text": [
      "# senses before filtering by date = 8383\n",
      "# senses after filtering by date = 5918\n",
      "\n",
      "\n",
      "# of seed senses 22 \n",
      "# of synonyms 310 \n",
      "# of branch senses 4990\n",
      "\n",
      "\n",
      "# of seeds selected 1 \n",
      "# of synonyms selected 8 \n",
      "# of branches selected 10\n"
     ]
    }
   ],
   "source": [
    "senses = filter_senses(df,\n",
    "                       {'machine_nn01-38475835','machine_nn01-38475923'},\n",
    "                       relations = ['seed','synonym','descendant','sibling'],\n",
    "                       skip_synonyms=False,\n",
    "                       start=1760, \n",
    "                       end=1920\n",
    "                      )"
   ]
  },
  {
   "cell_type": "code",
   "execution_count": 54,
   "metadata": {},
   "outputs": [
    {
     "output_type": "execute_result",
     "data": {
      "text/plain": [
       "29"
      ]
     },
     "metadata": {},
     "execution_count": 54
    }
   ],
   "source": [
    "len(senses)"
   ]
  },
  {
   "cell_type": "code",
   "execution_count": 57,
   "metadata": {},
   "outputs": [],
   "source": [
    "df_source = pd.read_pickle(\"../data/extended_machine_nn01.pickle\")"
   ]
  },
  {
   "cell_type": "code",
   "execution_count": 94,
   "metadata": {
    "tags": []
   },
   "outputs": [
    {
     "output_type": "execute_result",
     "data": {
      "text/plain": [
       "(178, 13)"
      ]
     },
     "metadata": {},
     "execution_count": 94
    }
   ],
   "source": [
    "quotations = obtain_quotations_for_senses(df_quotations,\n",
    "                                df_source,                  \n",
    "                                senses,\n",
    "                                start=1760,end=1920)\n",
    "quotations.shape"
   ]
  },
  {
   "cell_type": "code",
   "execution_count": 95,
   "metadata": {},
   "outputs": [
    {
     "output_type": "execute_result",
     "data": {
      "text/plain": [
       "  keyword                                          full_text  keyword_offset  \\\n",
       "0   wedge  The sharper the wedge, or the more acute its a...            16.0   \n",
       "1   wedge  Forth goes the woodman..To wield the axe And d...            55.0   \n",
       "2  wedges  The distended ropes..are then confined at the ...            57.0   \n",
       "3  wedges  The wedges employed to secure the rails in the...             4.0   \n",
       "4   Wedge    Wedge,..a small fastening for a door or window.             0.0   \n",
       "\n",
       "                                 title          author gender  year  \\\n",
       "0                         Princ. Mech.      W. Emerson   male  1773   \n",
       "1                                 Task       W. Cowper   male  1785   \n",
       "2                              Archit.       W. Newton   None  1789   \n",
       "3  Minutes Proc. Inst. Civil Engineers            None   None  1842   \n",
       "4                 Dict. Trade Products  P. L. Simmonds   male  1858   \n",
       "\n",
       "              sense_id                                          daterange  \\\n",
       "0  wedge_nn01-14811588  {'end': None, 'start': 725, 'obsolete': False,...   \n",
       "1  wedge_nn01-14811588  {'end': None, 'start': 725, 'obsolete': False,...   \n",
       "2  wedge_nn01-14811588  {'end': None, 'start': 725, 'obsolete': False,...   \n",
       "3  wedge_nn01-14811588  {'end': None, 'start': 725, 'obsolete': False,...   \n",
       "4  wedge_nn01-14811588  {'end': None, 'start': 725, 'obsolete': False,...   \n",
       "\n",
       "                       provenance provenance_type  \\\n",
       "0  [[214221, descendant, 214220]]          branch   \n",
       "1  [[214221, descendant, 214220]]          branch   \n",
       "2  [[214221, descendant, 214220]]          branch   \n",
       "3  [[214221, descendant, 214220]]          branch   \n",
       "4  [[214221, descendant, 214220]]          branch   \n",
       "\n",
       "                        relation_to_core_senses  relation_to_seed_senses  \n",
       "0  {machine_nn01-38475923, power_nn01-28687898}  {machine_nn01-38475923}  \n",
       "1  {machine_nn01-38475923, power_nn01-28687898}  {machine_nn01-38475923}  \n",
       "2  {machine_nn01-38475923, power_nn01-28687898}  {machine_nn01-38475923}  \n",
       "3  {machine_nn01-38475923, power_nn01-28687898}  {machine_nn01-38475923}  \n",
       "4  {machine_nn01-38475923, power_nn01-28687898}  {machine_nn01-38475923}  "
      ],
      "text/html": "<div>\n<style scoped>\n    .dataframe tbody tr th:only-of-type {\n        vertical-align: middle;\n    }\n\n    .dataframe tbody tr th {\n        vertical-align: top;\n    }\n\n    .dataframe thead th {\n        text-align: right;\n    }\n</style>\n<table border=\"1\" class=\"dataframe\">\n  <thead>\n    <tr style=\"text-align: right;\">\n      <th></th>\n      <th>keyword</th>\n      <th>full_text</th>\n      <th>keyword_offset</th>\n      <th>title</th>\n      <th>author</th>\n      <th>gender</th>\n      <th>year</th>\n      <th>sense_id</th>\n      <th>daterange</th>\n      <th>provenance</th>\n      <th>provenance_type</th>\n      <th>relation_to_core_senses</th>\n      <th>relation_to_seed_senses</th>\n    </tr>\n  </thead>\n  <tbody>\n    <tr>\n      <th>0</th>\n      <td>wedge</td>\n      <td>The sharper the wedge, or the more acute its a...</td>\n      <td>16.0</td>\n      <td>Princ. Mech.</td>\n      <td>W. Emerson</td>\n      <td>male</td>\n      <td>1773</td>\n      <td>wedge_nn01-14811588</td>\n      <td>{'end': None, 'start': 725, 'obsolete': False,...</td>\n      <td>[[214221, descendant, 214220]]</td>\n      <td>branch</td>\n      <td>{machine_nn01-38475923, power_nn01-28687898}</td>\n      <td>{machine_nn01-38475923}</td>\n    </tr>\n    <tr>\n      <th>1</th>\n      <td>wedge</td>\n      <td>Forth goes the woodman..To wield the axe And d...</td>\n      <td>55.0</td>\n      <td>Task</td>\n      <td>W. Cowper</td>\n      <td>male</td>\n      <td>1785</td>\n      <td>wedge_nn01-14811588</td>\n      <td>{'end': None, 'start': 725, 'obsolete': False,...</td>\n      <td>[[214221, descendant, 214220]]</td>\n      <td>branch</td>\n      <td>{machine_nn01-38475923, power_nn01-28687898}</td>\n      <td>{machine_nn01-38475923}</td>\n    </tr>\n    <tr>\n      <th>2</th>\n      <td>wedges</td>\n      <td>The distended ropes..are then confined at the ...</td>\n      <td>57.0</td>\n      <td>Archit.</td>\n      <td>W. Newton</td>\n      <td>None</td>\n      <td>1789</td>\n      <td>wedge_nn01-14811588</td>\n      <td>{'end': None, 'start': 725, 'obsolete': False,...</td>\n      <td>[[214221, descendant, 214220]]</td>\n      <td>branch</td>\n      <td>{machine_nn01-38475923, power_nn01-28687898}</td>\n      <td>{machine_nn01-38475923}</td>\n    </tr>\n    <tr>\n      <th>3</th>\n      <td>wedges</td>\n      <td>The wedges employed to secure the rails in the...</td>\n      <td>4.0</td>\n      <td>Minutes Proc. Inst. Civil Engineers</td>\n      <td>None</td>\n      <td>None</td>\n      <td>1842</td>\n      <td>wedge_nn01-14811588</td>\n      <td>{'end': None, 'start': 725, 'obsolete': False,...</td>\n      <td>[[214221, descendant, 214220]]</td>\n      <td>branch</td>\n      <td>{machine_nn01-38475923, power_nn01-28687898}</td>\n      <td>{machine_nn01-38475923}</td>\n    </tr>\n    <tr>\n      <th>4</th>\n      <td>Wedge</td>\n      <td>Wedge,..a small fastening for a door or window.</td>\n      <td>0.0</td>\n      <td>Dict. Trade Products</td>\n      <td>P. L. Simmonds</td>\n      <td>male</td>\n      <td>1858</td>\n      <td>wedge_nn01-14811588</td>\n      <td>{'end': None, 'start': 725, 'obsolete': False,...</td>\n      <td>[[214221, descendant, 214220]]</td>\n      <td>branch</td>\n      <td>{machine_nn01-38475923, power_nn01-28687898}</td>\n      <td>{machine_nn01-38475923}</td>\n    </tr>\n  </tbody>\n</table>\n</div>"
     },
     "metadata": {},
     "execution_count": 95
    }
   ],
   "source": [
    "quotations.head()"
   ]
  },
  {
   "cell_type": "code",
   "execution_count": 96,
   "metadata": {},
   "outputs": [
    {
     "output_type": "execute_result",
     "data": {
      "text/plain": [
       "{'energizer_nn01-1246574970',\n",
       " 'generator_nn01-135539783',\n",
       " 'machine_nn01-38475923',\n",
       " 'machinepower_nn01-38476982',\n",
       " 'mechanicaladvantage_nn01-37502752',\n",
       " 'mover_nn01-35820685',\n",
       " 'power_nn01-28687898',\n",
       " 'primemover_nn01-28348676',\n",
       " 'primummobile_nn01-28369573',\n",
       " 'vice_nn02-15526247'}"
      ]
     },
     "metadata": {},
     "execution_count": 96
    }
   ],
   "source": [
    "set().union(*quotations.relation_to_core_senses)"
   ]
  },
  {
   "cell_type": "code",
   "execution_count": 97,
   "metadata": {},
   "outputs": [
    {
     "output_type": "execute_result",
     "data": {
      "text/plain": [
       "{'machine_nn01-38475923'}"
      ]
     },
     "metadata": {},
     "execution_count": 97
    }
   ],
   "source": [
    "set().union(*quotations.relation_to_seed_senses)"
   ]
  },
  {
   "cell_type": "markdown",
   "metadata": {},
   "source": [
    "# Inspect code\n",
    "\n",
    "### Inspect `filter_by_year_range`"
   ]
  },
  {
   "cell_type": "code",
   "execution_count": null,
   "metadata": {},
   "outputs": [],
   "source": [
    "def filter_by_year_range(dr: dict, target_start: int, target_end: int) -> bool:\n",
    "    \"\"\"\n",
    "    Helper function that expects a datarange dictionary from the OED\n",
    "    Is used for filter senses that are outside the historical scope \n",
    "    of the research. The date range is defined by the target_start and target_end\n",
    "    arguments. If the date range of the sense has NO overlap with the\n",
    "    target period, then return False, otherwise return True\n",
    "    \n",
    "    Arguments:\n",
    "        dr (dict): daterange dict of OED\n",
    "        target_start (int): start year of target period\n",
    "        target_end (int): end year of target period\n",
    "    \n",
    "    Returns:\n",
    "        return a boolean, True if there is overlap between\n",
    "        the target period and the date range of the sense\n",
    "    \"\"\"\n",
    "    # if there is not start date, set to 0\n",
    "    if dr.get('start',None) is None:\n",
    "        sense_start = 0\n",
    "    else:\n",
    "        sense_start = dr['start']\n",
    "    \n",
    "    \n",
    "    # if there is no end date, set to 2021\n",
    "    if dr.get('end',None) is None:\n",
    "        sense_end = 2021\n",
    "    else:\n",
    "        sense_end = dr['end']\n",
    "    \n",
    "    # if there is an intersection between the target period and sense period empty\n",
    "    # return True\n",
    "    if set(range(sense_start,sense_end+1)).intersection(set(range(target_start,target_end+1))):\n",
    "        return True\n",
    "    \n",
    "    # otherwise return False\n",
    "    return False"
   ]
  },
  {
   "cell_type": "code",
   "execution_count": null,
   "metadata": {},
   "outputs": [],
   "source": [
    "# number of senses selected\n",
    "df['in_period'] = df.daterange.apply(filter_by_year_range, target_start=1760, target_end=1920)\n",
    "print(sum(df.in_period))"
   ]
  },
  {
   "cell_type": "code",
   "execution_count": null,
   "metadata": {},
   "outputs": [],
   "source": [
    "#print(df['in_period'][110:120])"
   ]
  },
  {
   "cell_type": "code",
   "execution_count": null,
   "metadata": {},
   "outputs": [],
   "source": [
    "print(df.iloc[0][['daterange','in_period']])\n",
    "print(df.iloc[2][['daterange','in_period']])\n",
    "print(df.iloc[70][['daterange','in_period']])\n",
    "print(df.iloc[88][['daterange','in_period']])\n",
    "print(df.iloc[89][['daterange','in_period']])"
   ]
  },
  {
   "cell_type": "markdown",
   "metadata": {},
   "source": [
    "### Inspect `select_senses_by_provenance`"
   ]
  },
  {
   "cell_type": "code",
   "execution_count": null,
   "metadata": {},
   "outputs": [],
   "source": [
    "def select_senses_by_provenance(sub_df: pd.DataFrame, \n",
    "                                item_ids: set, \n",
    "                                relations: list) -> tuple:\n",
    "    \"\"\"Helper function that given a subsection of a dataframe filters senses based\n",
    "    on a set of target sense ids and relations. This function requires a dataframe created\n",
    "    by the extend_from_lemma function.\n",
    "    \n",
    "    Arguments:\n",
    "        sub_df (pd.DataFrame): slice of a pd.DataFrame\n",
    "        item_ids (set): include senses related to these items \n",
    "                        these can be sense ids or semantic class ids\n",
    "        relations (list): filter based on these relations \n",
    "                          options are: seed, synonyms, sibling, descedant\n",
    "        \n",
    "    Returns:\n",
    "        a tuple that contains a list with position indices and a list with items\n",
    "    \"\"\"\n",
    "    \n",
    "    indices, items = set(),set()\n",
    "    \n",
    "    for i, row in sub_df.iterrows():\n",
    "        for oed_id, relation, prov_id in row.provenance:\n",
    "            # if the provenance and relation match to the arguments\n",
    "            # add the items and position to the respective lists\n",
    "            if (prov_id in item_ids) and (relation in relations):\n",
    "                indices.add(i) ; items.add(oed_id)\n",
    "                \n",
    "    return list(indices), list(items)"
   ]
  },
  {
   "cell_type": "code",
   "execution_count": null,
   "metadata": {},
   "outputs": [],
   "source": [
    "sel_indices, selected = select_senses_by_provenance(df, {'machine_nn01-38475835','machine_nn01-38475923'},\n",
    "                                                        ['synonym'])"
   ]
  },
  {
   "cell_type": "code",
   "execution_count": null,
   "metadata": {},
   "outputs": [],
   "source": [
    "selected"
   ]
  },
  {
   "cell_type": "markdown",
   "metadata": {},
   "source": [
    "### Inspect `filter_senses`"
   ]
  },
  {
   "cell_type": "code",
   "execution_count": null,
   "metadata": {},
   "outputs": [],
   "source": [
    "def filter_senses(df, sense_ids:set, \n",
    "                      relations:list, \n",
    "                      start:int, \n",
    "                      end:int,\n",
    "                      verbose=True) -> set:\n",
    "    \"\"\"\n",
    "    Main function that filter sense by a give date range \n",
    "    and set of seed senses with provenace relations. \n",
    "    The seeds sense are selected from the lemma dataframe\n",
    "    used as starting point for harvesting. Builds on dataframe created \n",
    "    by the extend_from_lemma function.\n",
    "    \n",
    "    Returns selected senses as a set. \n",
    "    \n",
    "    Arguments:\n",
    "        df (pd.DataFrame): main dataframe created by the extend_from_lemma\n",
    "        senses_ids (set): seeds senses from the lemma used for filtering\n",
    "        relations (list): filter based on these relations\n",
    "        start (int): beginning of target period\n",
    "        end (int): end of target period\n",
    "        verbose (bool): print outcomes of intermediate steps\n",
    "    \n",
    "    Returns:\n",
    "        set with senses\n",
    "    \"\"\"\n",
    "    print(\"# senses before filtering by date =\", df.shape[0])\n",
    "    df = df[df.daterange.apply(filter_by_year_range, target_start=start, target_end=end)]\n",
    "    print(\"# senses after filtering by date =\", df.shape[0])\n",
    "    \n",
    "    \n",
    "    seeds = df[df['provenance_type'] == \"seed\"].reset_index(inplace=False)\n",
    "    # select words retrieved as synonyms\n",
    "    # exclude those that already appear in the seed dataframe\n",
    "    # reset index after selection\n",
    "    synonyms = df[(df['provenance_type'] == \"synonym\") & (~df.id.isin(seeds.id))\n",
    "                     ].reset_index(inplace=False)\n",
    "    \n",
    "    # select words retrieved as a branch of the synonym or a seed sense\n",
    "    # exclude those that already appear as seed or synonym\n",
    "    branches = df[(df['provenance_type'] == \"branch\") & (~df.id.isin(set(seeds.id).union(set(synonyms.id))))\n",
    "                      ].reset_index(inplace=False)\n",
    "    \n",
    "    print(\"\\n\\n# of seed senses\", seeds.shape[0],\n",
    "          \"\\n# of synonyms\", synonyms.shape[0],\n",
    "          \"\\n# of branch senses\", branches.shape[0])\n",
    "\n",
    "    if \"seed\" in relations:\n",
    "        seeds_selected = set(seeds[seeds.id.isin(sense_ids)].id)\n",
    "\n",
    "    if \"synonym\" in relations:\n",
    "        syn_sel_indices, synonyms_selected = select_senses_by_provenance(synonyms,sense_ids,relations)\n",
    "    \n",
    "    # as branches are retrieved by semantic class id, we get the semantic class ids \n",
    "    # of the seed AND synonyms senses\n",
    "    select_seed_semantic_class_id = seeds[seeds.id.isin(seeds_selected)].semantic_class_last_id\n",
    "    select_seed_semantic_class_id = set().union(*map(set,select_seed_semantic_class_id))\n",
    "    \n",
    "    select_synonyms_semantic_class_id = synonyms[synonyms.id.isin(synonyms_selected)].semantic_class_last_id\n",
    "    select_synonyms_semantic_class_id = set().union(*map(set,select_synonyms_semantic_class_id))\n",
    "    \n",
    "    selected_semantic_class_id = set(select_seed_semantic_class_id).union(set(select_synonyms_semantic_class_id))\n",
    "    \n",
    "    branch_sel_indices, branches_selected = select_senses_by_provenance(branches,selected_semantic_class_id,relations)\n",
    "    \n",
    "    \n",
    "    senses = set(branches.iloc[branch_sel_indices].id # for the branches we return the sense ids not the semantic class ids\n",
    "               ).union(set(synonyms.iloc[syn_sel_indices].id)\n",
    "                        ).union(set(seeds_selected))\n",
    "    if verbose:\n",
    "        print('\\n\\n# of seeds selected', len(seeds_selected),\n",
    "              '\\n# of synonyms selected', len(syn_sel_indices),\n",
    "              '\\n# of branches selected', len(branches_selected))\n",
    "    return senses"
   ]
  },
  {
   "cell_type": "code",
   "execution_count": null,
   "metadata": {},
   "outputs": [],
   "source": [
    "senses = filter_senses(df,\n",
    "                       {'machine_nn01-38475835','machine_nn01-38475923'},\n",
    "                       ['seed','synonym','descendant'],\n",
    "                       start=1760, \n",
    "                       end=1920\n",
    "                      )"
   ]
  },
  {
   "cell_type": "code",
   "execution_count": null,
   "metadata": {},
   "outputs": [],
   "source": [
    "senses"
   ]
  },
  {
   "cell_type": "markdown",
   "metadata": {},
   "source": [
    "### Inspect `obtain_quotations_for_senses`"
   ]
  },
  {
   "cell_type": "code",
   "execution_count": 20,
   "metadata": {},
   "outputs": [],
   "source": [
    "def obtain_quotations_for_senses(\n",
    "                      df_quotations:  pd.DataFrame,\n",
    "                      senses: set,\n",
    "                      start:int,\n",
    "                      end: int\n",
    "                    ) -> pd.DataFrame:\n",
    "    \"\"\"Create a dataframe with quotations and their metadata for \n",
    "    a selected set of senses. This function builds on\n",
    "    harvest_quotations_by_sense_id.\n",
    "    \n",
    "    Arguments:\n",
    "        df_quotations: dataframe with quotations, created using harvest_quotations_by_sense_id\n",
    "        senses (set): set of senses for which we want to obtain quotations\n",
    "        \n",
    "    Returns:\n",
    "        pd.DataFrame with quotations\n",
    "        \n",
    "    \"\"\"\n",
    "    df = pd.concat([\n",
    "        pd.DataFrame.from_records(df_quotations.text.values),\n",
    "        pd.DataFrame.from_records(df_quotations.source.values)\n",
    "            ], axis=1)\n",
    "    df['year'] = df_quotations['year']\n",
    "    df['sense_id'] = df_quotations['sense_id']\n",
    "    df = df[df.sense_id.isin(senses)]\n",
    "    df = df[(start <= df.year) & (df.year <= end)]\n",
    "    \n",
    "    df.drop_duplicates(inplace=True)\n",
    "    \n",
    "    return df\n",
    "\n"
   ]
  },
  {
   "cell_type": "code",
   "execution_count": 21,
   "metadata": {},
   "outputs": [
    {
     "data": {
      "text/plain": [
       "{'accumulator_nn01-34592667',\n",
       " 'commutator_nn01-8782500',\n",
       " 'compressor_nn01-8608218',\n",
       " 'compressor_nn01-8608248',\n",
       " 'dynamo_nn01-5878672',\n",
       " 'energizer_nn01-1246574970',\n",
       " 'generator_nn01-135539783',\n",
       " 'heatexchanger_nn01-1908252',\n",
       " 'inductordisk_nn01-1192999040',\n",
       " 'inductorplate_nn01-1192999070',\n",
       " 'lever_nn01-39377191',\n",
       " 'leverage_nn01-39378231',\n",
       " 'machine_nn01-38475923',\n",
       " 'machinepower_nn01-38476982',\n",
       " 'mechanicaladvantage_nn01-37502752',\n",
       " 'mover_nn01-35820685',\n",
       " 'pair_nn01-32480956',\n",
       " 'pairing_nn02-32485248',\n",
       " 'peritrochium_nn01-30868432',\n",
       " 'power_nn01-28687898',\n",
       " 'primemover_nn01-28348676',\n",
       " 'primummobile_nn01-28369573',\n",
       " 'prise_nn03-28455147',\n",
       " 'purchase_nn01-27522250',\n",
       " 'rocker_nn01-25157825',\n",
       " 'screw_nn01-24083320',\n",
       " 'screwcompressor_nn01-24085973',\n",
       " 'wedge_nn01-14811588',\n",
       " 'wheel_nn01-14697935'}"
      ]
     },
     "execution_count": 21,
     "metadata": {},
     "output_type": "execute_result"
    }
   ],
   "source": [
    "senses"
   ]
  },
  {
   "cell_type": "code",
   "execution_count": 22,
   "metadata": {},
   "outputs": [
    {
     "data": {
      "text/html": [
       "<div>\n",
       "<style scoped>\n",
       "    .dataframe tbody tr th:only-of-type {\n",
       "        vertical-align: middle;\n",
       "    }\n",
       "\n",
       "    .dataframe tbody tr th {\n",
       "        vertical-align: top;\n",
       "    }\n",
       "\n",
       "    .dataframe thead th {\n",
       "        text-align: right;\n",
       "    }\n",
       "</style>\n",
       "<table border=\"1\" class=\"dataframe\">\n",
       "  <thead>\n",
       "    <tr style=\"text-align: right;\">\n",
       "      <th></th>\n",
       "      <th>keyword</th>\n",
       "      <th>full_text</th>\n",
       "      <th>keyword_offset</th>\n",
       "      <th>title</th>\n",
       "      <th>author</th>\n",
       "      <th>gender</th>\n",
       "      <th>year</th>\n",
       "      <th>sense_id</th>\n",
       "    </tr>\n",
       "  </thead>\n",
       "  <tbody>\n",
       "    <tr>\n",
       "      <td>9438</td>\n",
       "      <td>wedge</td>\n",
       "      <td>The sharper the wedge, or the more acute its a...</td>\n",
       "      <td>16.0</td>\n",
       "      <td>Princ. Mech.</td>\n",
       "      <td>W. Emerson</td>\n",
       "      <td>male</td>\n",
       "      <td>1773</td>\n",
       "      <td>wedge_nn01-14811588</td>\n",
       "    </tr>\n",
       "    <tr>\n",
       "      <td>9440</td>\n",
       "      <td>wedge</td>\n",
       "      <td>Forth goes the woodman..To wield the axe And d...</td>\n",
       "      <td>55.0</td>\n",
       "      <td>Task</td>\n",
       "      <td>W. Cowper</td>\n",
       "      <td>male</td>\n",
       "      <td>1785</td>\n",
       "      <td>wedge_nn01-14811588</td>\n",
       "    </tr>\n",
       "    <tr>\n",
       "      <td>9441</td>\n",
       "      <td>wedges</td>\n",
       "      <td>The distended ropes..are then confined at the ...</td>\n",
       "      <td>57.0</td>\n",
       "      <td>Archit.</td>\n",
       "      <td>W. Newton</td>\n",
       "      <td>None</td>\n",
       "      <td>1789</td>\n",
       "      <td>wedge_nn01-14811588</td>\n",
       "    </tr>\n",
       "    <tr>\n",
       "      <td>9457</td>\n",
       "      <td>wedges</td>\n",
       "      <td>The wedges employed to secure the rails in the...</td>\n",
       "      <td>4.0</td>\n",
       "      <td>Minutes Proc. Inst. Civil Engineers</td>\n",
       "      <td>None</td>\n",
       "      <td>None</td>\n",
       "      <td>1842</td>\n",
       "      <td>wedge_nn01-14811588</td>\n",
       "    </tr>\n",
       "    <tr>\n",
       "      <td>9463</td>\n",
       "      <td>Wedge</td>\n",
       "      <td>Wedge,..a small fastening for a door or window.</td>\n",
       "      <td>0.0</td>\n",
       "      <td>Dict. Trade Products</td>\n",
       "      <td>P. L. Simmonds</td>\n",
       "      <td>male</td>\n",
       "      <td>1858</td>\n",
       "      <td>wedge_nn01-14811588</td>\n",
       "    </tr>\n",
       "  </tbody>\n",
       "</table>\n",
       "</div>"
      ],
      "text/plain": [
       "     keyword                                          full_text  \\\n",
       "9438   wedge  The sharper the wedge, or the more acute its a...   \n",
       "9440   wedge  Forth goes the woodman..To wield the axe And d...   \n",
       "9441  wedges  The distended ropes..are then confined at the ...   \n",
       "9457  wedges  The wedges employed to secure the rails in the...   \n",
       "9463   Wedge    Wedge,..a small fastening for a door or window.   \n",
       "\n",
       "      keyword_offset                                title          author  \\\n",
       "9438            16.0                         Princ. Mech.      W. Emerson   \n",
       "9440            55.0                                 Task       W. Cowper   \n",
       "9441            57.0                              Archit.       W. Newton   \n",
       "9457             4.0  Minutes Proc. Inst. Civil Engineers            None   \n",
       "9463             0.0                 Dict. Trade Products  P. L. Simmonds   \n",
       "\n",
       "     gender  year             sense_id  \n",
       "9438   male  1773  wedge_nn01-14811588  \n",
       "9440   male  1785  wedge_nn01-14811588  \n",
       "9441   None  1789  wedge_nn01-14811588  \n",
       "9457   None  1842  wedge_nn01-14811588  \n",
       "9463   male  1858  wedge_nn01-14811588  "
      ]
     },
     "execution_count": 22,
     "metadata": {},
     "output_type": "execute_result"
    }
   ],
   "source": [
    "quotations = obtain_quotations_for_senses(df_quotations,senses,1760,1920)\n",
    "quotations.head()"
   ]
  },
  {
   "cell_type": "markdown",
   "metadata": {},
   "source": [
    "## Fin."
   ]
  }
 ],
 "metadata": {
  "kernelspec": {
   "display_name": "Python 3",
   "language": "python",
   "name": "python3"
  },
  "language_info": {
   "codemirror_mode": {
    "name": "ipython",
    "version": 3
   },
   "file_extension": ".py",
   "mimetype": "text/x-python",
   "name": "python",
   "nbconvert_exporter": "python",
   "pygments_lexer": "ipython3",
   "version": "3.7.5-final"
  }
 },
 "nbformat": 4,
 "nbformat_minor": 2
}