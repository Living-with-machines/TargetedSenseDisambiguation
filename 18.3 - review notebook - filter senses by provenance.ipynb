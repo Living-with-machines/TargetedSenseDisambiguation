{
 "cells": [
  {
   "cell_type": "markdown",
   "metadata": {},
   "source": [
    "# Review Notebook for Sense Filtering by Time and Provenance\n",
    "\n",
    "This notebook builds on 4.1 (harvest senses with provenance) and 4.2 (harvest quotations for senses). The code in this notebook allows you to filter senses by (a) selecting seed senses (b) defining relations words should have to the seed senses.\n",
    "\n",
    "Functions reviewed in this notebook:\n",
    "- `filter_by_year_range` (helper)\n",
    "- `select_senses_by_provenance`(helper)\n",
    "- `filter_senses` (main)\n",
    "\n",
    "Part of:\n",
    "- `utils.dataset_download`"
   ]
  },
  {
   "cell_type": "code",
   "execution_count": null,
   "metadata": {},
   "outputs": [],
   "source": [
    "!git branch"
   ]
  },
  {
   "cell_type": "markdown",
   "metadata": {},
   "source": [
    "## Load libraries, data and set parameters"
   ]
  },
  {
   "cell_type": "code",
   "execution_count": null,
   "metadata": {},
   "outputs": [],
   "source": [
    "%load_ext autoreload"
   ]
  },
  {
   "cell_type": "code",
   "execution_count": null,
   "metadata": {},
   "outputs": [],
   "source": [
    "%autoreload 2"
   ]
  },
  {
   "cell_type": "code",
   "execution_count": null,
   "metadata": {},
   "outputs": [],
   "source": [
    "import pandas as pd\n",
    "import json\n",
    "from utils.dataset_download import *"
   ]
  },
  {
   "cell_type": "code",
   "execution_count": null,
   "metadata": {},
   "outputs": [],
   "source": [
    "lemma_id = 'machine_nn01'"
   ]
  },
  {
   "cell_type": "code",
   "execution_count": null,
   "metadata": {},
   "outputs": [],
   "source": [
    "# import API credentials\n",
    "with open('oed_experiments/oed_credentials.json') as f:\n",
    "    auth = json.load(f)"
   ]
  },
  {
   "cell_type": "code",
   "execution_count": null,
   "metadata": {},
   "outputs": [],
   "source": [
    "df = pd.read_pickle(f'./data/extended_{lemma_id}.pickle')"
   ]
  },
  {
   "cell_type": "code",
   "execution_count": null,
   "metadata": {},
   "outputs": [],
   "source": [
    "df.head(3)"
   ]
  },
  {
   "cell_type": "code",
   "execution_count": null,
   "metadata": {},
   "outputs": [],
   "source": [
    "df_quotations = pd.read_pickle(f'./data/quotations_{lemma_id}.pickle')"
   ]
  },
  {
   "cell_type": "code",
   "execution_count": null,
   "metadata": {},
   "outputs": [],
   "source": [
    "df_quotations.head()"
   ]
  },
  {
   "cell_type": "markdown",
   "metadata": {},
   "source": [
    "# Run code"
   ]
  },
  {
   "cell_type": "code",
   "execution_count": null,
   "metadata": {},
   "outputs": [],
   "source": [
    "set(df[df.id.isin(['machine_nn01-38475835','machine_nn01-38475923'])].definition)"
   ]
  },
  {
   "cell_type": "code",
   "execution_count": null,
   "metadata": {},
   "outputs": [],
   "source": [
    "senses = filter_senses(df,\n",
    "                       {'machine_nn01-38475835','machine_nn01-38475923'},\n",
    "                       ['seed','synonym','descendant'],\n",
    "                       start=1760, \n",
    "                       end=1920\n",
    "                      )"
   ]
  },
  {
   "cell_type": "code",
   "execution_count": null,
   "metadata": {},
   "outputs": [],
   "source": [
    "senses"
   ]
  },
  {
   "cell_type": "code",
   "execution_count": null,
   "metadata": {},
   "outputs": [],
   "source": [
    "quotations = obtain_quotations_for_senses(df_quotations,senses)\n",
    "quotations.shape"
   ]
  },
  {
   "cell_type": "code",
   "execution_count": null,
   "metadata": {},
   "outputs": [],
   "source": [
    "quotations.head()"
   ]
  },
  {
   "cell_type": "markdown",
   "metadata": {},
   "source": [
    "# Inspect code\n",
    "\n",
    "### Inspect `filter_by_year_range`"
   ]
  },
  {
   "cell_type": "code",
   "execution_count": null,
   "metadata": {},
   "outputs": [],
   "source": [
    "def filter_by_year_range(dr: dict, target_start: int, target_end: int) -> bool:\n",
    "    \"\"\"\n",
    "    Helper function that expects a datarange dictionary from the OED\n",
    "    Is used for filter senses that are outside the historical scope \n",
    "    of the research. The date range is defined by the target_start and target_end\n",
    "    arguments. If the date range of the sense has NO overlap with the\n",
    "    target period, then return False, otherwise return True\n",
    "    \n",
    "    Arguments:\n",
    "        dr (dict): daterange dict of OED\n",
    "        target_start (int): start year of target period\n",
    "        target_end (int): end year of target period\n",
    "    \n",
    "    Returns:\n",
    "        return a boolean, True if there is overlap between\n",
    "        the target period and the date range of the sense\n",
    "    \"\"\"\n",
    "    # if there is not start date, set to 0\n",
    "    if dr.get('start',None) is None:\n",
    "        sense_start = 0\n",
    "    else:\n",
    "        sense_start = dr['start']\n",
    "    \n",
    "    \n",
    "    # if there is no end date, set to 2021\n",
    "    if dr.get('end',None) is None:\n",
    "        sense_end = 2021\n",
    "    else:\n",
    "        sense_end = dr['end']\n",
    "    \n",
    "    # if there is an intersection between the target period and sense period empty\n",
    "    # return True\n",
    "    if set(range(sense_start,sense_end+1)).intersection(set(range(target_start,target_end+1))):\n",
    "        return True\n",
    "    \n",
    "    # otherwise return False\n",
    "    return False"
   ]
  },
  {
   "cell_type": "code",
   "execution_count": null,
   "metadata": {},
   "outputs": [],
   "source": [
    "# number of senses selected\n",
    "df['in_period'] = df.daterange.apply(filter_by_year_range, target_start=1760, target_end=1920)\n",
    "print(sum(df.in_period))"
   ]
  },
  {
   "cell_type": "code",
   "execution_count": null,
   "metadata": {},
   "outputs": [],
   "source": [
    "#print(df['in_period'][110:120])"
   ]
  },
  {
   "cell_type": "code",
   "execution_count": null,
   "metadata": {},
   "outputs": [],
   "source": [
    "print(df.iloc[0][['daterange','in_period']])\n",
    "print(df.iloc[2][['daterange','in_period']])\n",
    "print(df.iloc[70][['daterange','in_period']])\n",
    "print(df.iloc[88][['daterange','in_period']])\n",
    "print(df.iloc[89][['daterange','in_period']])"
   ]
  },
  {
   "cell_type": "markdown",
   "metadata": {},
   "source": [
    "### Inspect `select_senses_by_provenance`"
   ]
  },
  {
   "cell_type": "code",
   "execution_count": null,
   "metadata": {},
   "outputs": [],
   "source": [
    "def select_senses_by_provenance(sub_df: pd.DataFrame, \n",
    "                                item_ids: set, \n",
    "                                relations: list) -> tuple:\n",
    "    \"\"\"Helper function that given a subsection of a dataframe filters senses based\n",
    "    on a set of target sense ids and relations. This function requires a dataframe created\n",
    "    by the extend_from_lemma function.\n",
    "    \n",
    "    Arguments:\n",
    "        sub_df (pd.DataFrame): slice of a pd.DataFrame\n",
    "        item_ids (set): include senses related to these items \n",
    "                        these can be sense ids or semantic class ids\n",
    "        relations (list): filter based on these relations \n",
    "                          options are: seed, synonyms, sibling, descedant\n",
    "        \n",
    "    Returns:\n",
    "        a tuple that contains a list with position indices and a list with items\n",
    "    \"\"\"\n",
    "    \n",
    "    indices, items = set(),set()\n",
    "    \n",
    "    for i, row in sub_df.iterrows():\n",
    "        for oed_id, relation, prov_id in row.provenance:\n",
    "            # if the provenance and relation match to the arguments\n",
    "            # add the items and position to the respective lists\n",
    "            if (prov_id in item_ids) and (relation in relations):\n",
    "                indices.add(i) ; items.add(oed_id)\n",
    "                \n",
    "    return list(indices), list(items)"
   ]
  },
  {
   "cell_type": "code",
   "execution_count": null,
   "metadata": {},
   "outputs": [],
   "source": [
    "sel_indices, selected = select_senses_by_provenance(df, {'machine_nn01-38475835','machine_nn01-38475923'},\n",
    "                                                        ['synonym'])"
   ]
  },
  {
   "cell_type": "code",
   "execution_count": null,
   "metadata": {},
   "outputs": [],
   "source": [
    "selected"
   ]
  },
  {
   "cell_type": "markdown",
   "metadata": {},
   "source": [
    "### Inspect `filter_senses`"
   ]
  },
  {
   "cell_type": "code",
   "execution_count": null,
   "metadata": {},
   "outputs": [],
   "source": [
    "def filter_senses(df, sense_ids:set, \n",
    "                      relations:list, \n",
    "                      start:int, \n",
    "                      end:int,\n",
    "                      verbose=True) -> set:\n",
    "    \"\"\"\n",
    "    Main function that filter sense by a give date range \n",
    "    and set of seed senses with provenace relations. \n",
    "    The seeds sense are selected from the lemma dataframe\n",
    "    used as starting point for harvesting. Builds on dataframe created \n",
    "    by the extend_from_lemma function.\n",
    "    \n",
    "    Returns selected senses as a set. \n",
    "    \n",
    "    Arguments:\n",
    "        df (pd.DataFrame): main dataframe created by the extend_from_lemma\n",
    "        senses_ids (set): seeds senses from the lemma used for filtering\n",
    "        relations (list): filter based on these relations\n",
    "        start (int): beginning of target period\n",
    "        end (int): end of target period\n",
    "        verbose (bool): print outcomes of intermediate steps\n",
    "    \n",
    "    Returns:\n",
    "        set with senses\n",
    "    \"\"\"\n",
    "    print(\"# senses before filtering by date =\", df.shape[0])\n",
    "    df = df[df.daterange.apply(filter_by_year_range, target_start=start, target_end=end)]\n",
    "    print(\"# senses after filtering by date =\", df.shape[0])\n",
    "    \n",
    "    \n",
    "    seeds = df[df['provenance_type'] == \"seed\"].reset_index(inplace=False)\n",
    "    # select words retrieved as synonyms\n",
    "    # exclude those that already appear in the seed dataframe\n",
    "    # reset index after selection\n",
    "    synonyms = df[(df['provenance_type'] == \"synonym\") & (~df.id.isin(seeds.id))\n",
    "                     ].reset_index(inplace=False)\n",
    "    \n",
    "    # select words retrieved as a branch of the synonym or a seed sense\n",
    "    # exclude those that already appear as seed or synonym\n",
    "    branches = df[(df['provenance_type'] == \"branch\") & (~df.id.isin(set(seeds.id).union(set(synonyms.id))))\n",
    "                      ].reset_index(inplace=False)\n",
    "    \n",
    "    print(\"\\n\\n# of seed senses\", seeds.shape[0],\n",
    "          \"\\n# of synonyms\", synonyms.shape[0],\n",
    "          \"\\n# of branch senses\", branches.shape[0])\n",
    "\n",
    "    if \"seed\" in relations:\n",
    "        seeds_selected = set(seeds[seeds.id.isin(sense_ids)].id)\n",
    "\n",
    "    if \"synonym\" in relations:\n",
    "        syn_sel_indices, synonyms_selected = select_senses_by_provenance(synonyms,sense_ids,relations)\n",
    "    \n",
    "    # as branches are retrieved by semantic class id, we get the semantic class ids \n",
    "    # of the seed AND synonyms senses\n",
    "    select_seed_semantic_class_id = seeds[seeds.id.isin(seeds_selected)].semantic_class_last_id\n",
    "    select_seed_semantic_class_id = set().union(*map(set,select_seed_semantic_class_id))\n",
    "    \n",
    "    select_synonyms_semantic_class_id = synonyms[synonyms.id.isin(synonyms_selected)].semantic_class_last_id\n",
    "    select_synonyms_semantic_class_id = set().union(*map(set,select_synonyms_semantic_class_id))\n",
    "    \n",
    "    selected_semantic_class_id = set(select_seed_semantic_class_id).union(set(select_synonyms_semantic_class_id))\n",
    "    \n",
    "    branch_sel_indices, branches_selected = select_senses_by_provenance(branches,selected_semantic_class_id,relations)\n",
    "    \n",
    "    \n",
    "    senses = set(branches.iloc[branch_sel_indices].id # for the branches we return the sense ids not the semantic class ids\n",
    "               ).union(set(synonyms.iloc[syn_sel_indices].id)\n",
    "                        ).union(set(seeds_selected))\n",
    "    if verbose:\n",
    "        print('\\n\\n# of seeds selected', len(seeds_selected),\n",
    "              '\\n# of synonyms selected', len(syn_sel_indices),\n",
    "              '\\n# of branches selected', len(branches_selected))\n",
    "    return senses"
   ]
  },
  {
   "cell_type": "code",
   "execution_count": null,
   "metadata": {},
   "outputs": [],
   "source": [
    "senses = filter_senses(df,\n",
    "                       {'machine_nn01-38475835','machine_nn01-38475923'},\n",
    "                       ['seed','synonym','descendant'],\n",
    "                       start=1760, \n",
    "                       end=1920\n",
    "                      )"
   ]
  },
  {
   "cell_type": "code",
   "execution_count": null,
   "metadata": {},
   "outputs": [],
   "source": [
    "senses"
   ]
  },
  {
   "cell_type": "markdown",
   "metadata": {},
   "source": [
    "### Inspect `obtain_quotations_for_senses`"
   ]
  },
  {
   "cell_type": "code",
   "execution_count": null,
   "metadata": {},
   "outputs": [],
   "source": [
    "def obtain_quotations_for_senses(\n",
    "                      df_quotations:  pd.DataFrame,\n",
    "                      senses: set) -> pd.DataFrame:\n",
    "    \"\"\"Create a dataframe with quotations and their metadata for \n",
    "    a selected set of senses. This function builds on\n",
    "    harvest_quotations_by_sense_id.\n",
    "    \n",
    "    Arguments:\n",
    "        df_quotations: dataframe with quotations, created using harvest_quotations_by_sense_id\n",
    "        senses (set): set of senses for which we want to obtain quotations\n",
    "        \n",
    "    Returns:\n",
    "        pd.DataFrame with quotations\n",
    "        \n",
    "    \"\"\"\n",
    "    df = pd.concat([\n",
    "        pd.DataFrame.from_records(df_quotations.text.values),\n",
    "        pd.DataFrame.from_records(df_quotations.source.values)\n",
    "            ], axis=1)\n",
    "    df['year'] = df_quotations['year']\n",
    "    df['sense_id'] = df_quotations['sense_id']\n",
    "    df_selected = df[df.sense_id.isin(senses)]\n",
    "    \n",
    "    df_selected.drop_duplicates(inplace=True)\n",
    "    \n",
    "    return df_selected\n",
    "\n"
   ]
  },
  {
   "cell_type": "code",
   "execution_count": null,
   "metadata": {},
   "outputs": [],
   "source": [
    "quotations = obtain_quotations_for_senses(df_quotations,senses)\n",
    "quotations.head()"
   ]
  },
  {
   "cell_type": "markdown",
   "metadata": {},
   "source": [
    "## Fin."
   ]
  }
 ],
 "metadata": {
  "kernelspec": {
   "display_name": "Python 3",
   "language": "python",
   "name": "python3"
  },
  "language_info": {
   "codemirror_mode": {
    "name": "ipython",
    "version": 3
   },
   "file_extension": ".py",
   "mimetype": "text/x-python",
   "name": "python",
   "nbconvert_exporter": "python",
   "pygments_lexer": "ipython3",
   "version": "3.7.4"
  }
 },
 "nbformat": 4,
 "nbformat_minor": 2
}
