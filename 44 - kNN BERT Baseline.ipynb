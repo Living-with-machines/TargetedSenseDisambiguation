{
 "cells": [
  {
   "cell_type": "code",
   "execution_count": 1,
   "metadata": {},
   "outputs": [
    {
     "name": "stdout",
     "output_type": "stream",
     "text": [
      "  1-dataframe\u001b[m\r\n",
      "  19-machine-tagger\u001b[m\r\n",
      "  3-group-senses\u001b[m\r\n",
      "  4-semantic-provenance\u001b[m\r\n",
      "* \u001b[32m44-kNN-BERT-baseline\u001b[m\r\n",
      "  dev\u001b[m\r\n",
      "  master\u001b[m\r\n",
      "  oed-experiments\u001b[m\r\n"
     ]
    }
   ],
   "source": [
    "!git branch"
   ]
  },
  {
   "cell_type": "code",
   "execution_count": 7,
   "metadata": {},
   "outputs": [],
   "source": [
    "import pandas as pd\n",
    "import numpy as np\n",
    "import flair\n",
    "from flair.data import Sentence\n",
    "from utils.classificaton_utils import *\n",
    "from flair.embeddings import TransformerWordEmbeddings"
   ]
  },
  {
   "cell_type": "code",
   "execution_count": 49,
   "metadata": {},
   "outputs": [],
   "source": [
    "embedding_type = TransformerWordEmbeddings('bert-base-uncased',\n",
    "                                           layers='-1,-2,-3,-4',\n",
    "                                           pooling_operation='mean')"
   ]
  },
  {
   "cell_type": "code",
   "execution_count": 50,
   "metadata": {},
   "outputs": [
    {
     "data": {
      "text/html": [
       "<div>\n",
       "<style scoped>\n",
       "    .dataframe tbody tr th:only-of-type {\n",
       "        vertical-align: middle;\n",
       "    }\n",
       "\n",
       "    .dataframe tbody tr th {\n",
       "        vertical-align: top;\n",
       "    }\n",
       "\n",
       "    .dataframe thead th {\n",
       "        text-align: right;\n",
       "    }\n",
       "</style>\n",
       "<table border=\"1\" class=\"dataframe\">\n",
       "  <thead>\n",
       "    <tr style=\"text-align: right;\">\n",
       "      <th></th>\n",
       "      <th>id</th>\n",
       "      <th>text</th>\n",
       "      <th>year</th>\n",
       "      <th>lemma</th>\n",
       "      <th>source</th>\n",
       "      <th>oed_url</th>\n",
       "      <th>word_id</th>\n",
       "      <th>sense_id</th>\n",
       "      <th>datestring</th>\n",
       "      <th>first_in_word</th>\n",
       "      <th>oed_reference</th>\n",
       "      <th>first_in_sense</th>\n",
       "    </tr>\n",
       "  </thead>\n",
       "  <tbody>\n",
       "    <tr>\n",
       "      <td>0</td>\n",
       "      <td>pigmeat_nn01-13163366</td>\n",
       "      <td>{'keyword': 'pig-meat', 'full_text': 'I was at...</td>\n",
       "      <td>1754</td>\n",
       "      <td>pigmeat</td>\n",
       "      <td>{'title': 'Connoisseur', 'author': 'G. Colman'...</td>\n",
       "      <td>https://www.oed.com/view/Entry/237320#eid13163366</td>\n",
       "      <td>pigmeat_nn01</td>\n",
       "      <td>pigmeat_nn01-13163363</td>\n",
       "      <td>1754</td>\n",
       "      <td>True</td>\n",
       "      <td>pigmeat, n., sense 1</td>\n",
       "      <td>True</td>\n",
       "    </tr>\n",
       "    <tr>\n",
       "      <td>1</td>\n",
       "      <td>pigmeat_nn01-13163379</td>\n",
       "      <td>{'keyword': 'pig-meat', 'full_text': 'In short...</td>\n",
       "      <td>1784</td>\n",
       "      <td>pigmeat</td>\n",
       "      <td>{'title': 'Year's Journey through Paix Bâs', '...</td>\n",
       "      <td>https://www.oed.com/view/Entry/237320#eid13163379</td>\n",
       "      <td>pigmeat_nn01</td>\n",
       "      <td>pigmeat_nn01-13163363</td>\n",
       "      <td>1784</td>\n",
       "      <td>False</td>\n",
       "      <td>pigmeat, n., sense 1</td>\n",
       "      <td>False</td>\n",
       "    </tr>\n",
       "    <tr>\n",
       "      <td>2</td>\n",
       "      <td>pigmeat_nn01-13163399</td>\n",
       "      <td>{'keyword': 'pig meat', 'full_text': 'It preve...</td>\n",
       "      <td>1817</td>\n",
       "      <td>pigmeat</td>\n",
       "      <td>{'title': 'Parl. Deb.', 'author': None, 'gende...</td>\n",
       "      <td>https://www.oed.com/view/Entry/237320#eid13163399</td>\n",
       "      <td>pigmeat_nn01</td>\n",
       "      <td>pigmeat_nn01-13163363</td>\n",
       "      <td>1817</td>\n",
       "      <td>False</td>\n",
       "      <td>pigmeat, n., sense 1</td>\n",
       "      <td>False</td>\n",
       "    </tr>\n",
       "    <tr>\n",
       "      <td>3</td>\n",
       "      <td>pigmeat_nn01-13163416</td>\n",
       "      <td>{'keyword': 'pig meat', 'full_text': 'In most ...</td>\n",
       "      <td>1897</td>\n",
       "      <td>pigmeat</td>\n",
       "      <td>{'title': 'Syst. Med.', 'author': 'T. C. Allbu...</td>\n",
       "      <td>https://www.oed.com/view/Entry/237320#eid13163416</td>\n",
       "      <td>pigmeat_nn01</td>\n",
       "      <td>pigmeat_nn01-13163363</td>\n",
       "      <td>1897</td>\n",
       "      <td>False</td>\n",
       "      <td>pigmeat, n., sense 1</td>\n",
       "      <td>False</td>\n",
       "    </tr>\n",
       "    <tr>\n",
       "      <td>4</td>\n",
       "      <td>pigmeat_nn01-13163425</td>\n",
       "      <td>{'keyword': 'pig meat', 'full_text': 'Beef tak...</td>\n",
       "      <td>1918</td>\n",
       "      <td>pigmeat</td>\n",
       "      <td>{'title': 'Times', 'author': None, 'gender': N...</td>\n",
       "      <td>https://www.oed.com/view/Entry/237320#eid13163425</td>\n",
       "      <td>pigmeat_nn01</td>\n",
       "      <td>pigmeat_nn01-13163363</td>\n",
       "      <td>1918</td>\n",
       "      <td>False</td>\n",
       "      <td>pigmeat, n., sense 1</td>\n",
       "      <td>False</td>\n",
       "    </tr>\n",
       "  </tbody>\n",
       "</table>\n",
       "</div>"
      ],
      "text/plain": [
       "                      id                                               text  \\\n",
       "0  pigmeat_nn01-13163366  {'keyword': 'pig-meat', 'full_text': 'I was at...   \n",
       "1  pigmeat_nn01-13163379  {'keyword': 'pig-meat', 'full_text': 'In short...   \n",
       "2  pigmeat_nn01-13163399  {'keyword': 'pig meat', 'full_text': 'It preve...   \n",
       "3  pigmeat_nn01-13163416  {'keyword': 'pig meat', 'full_text': 'In most ...   \n",
       "4  pigmeat_nn01-13163425  {'keyword': 'pig meat', 'full_text': 'Beef tak...   \n",
       "\n",
       "   year    lemma                                             source  \\\n",
       "0  1754  pigmeat  {'title': 'Connoisseur', 'author': 'G. Colman'...   \n",
       "1  1784  pigmeat  {'title': 'Year's Journey through Paix Bâs', '...   \n",
       "2  1817  pigmeat  {'title': 'Parl. Deb.', 'author': None, 'gende...   \n",
       "3  1897  pigmeat  {'title': 'Syst. Med.', 'author': 'T. C. Allbu...   \n",
       "4  1918  pigmeat  {'title': 'Times', 'author': None, 'gender': N...   \n",
       "\n",
       "                                             oed_url       word_id  \\\n",
       "0  https://www.oed.com/view/Entry/237320#eid13163366  pigmeat_nn01   \n",
       "1  https://www.oed.com/view/Entry/237320#eid13163379  pigmeat_nn01   \n",
       "2  https://www.oed.com/view/Entry/237320#eid13163399  pigmeat_nn01   \n",
       "3  https://www.oed.com/view/Entry/237320#eid13163416  pigmeat_nn01   \n",
       "4  https://www.oed.com/view/Entry/237320#eid13163425  pigmeat_nn01   \n",
       "\n",
       "                sense_id datestring  first_in_word         oed_reference  \\\n",
       "0  pigmeat_nn01-13163363       1754           True  pigmeat, n., sense 1   \n",
       "1  pigmeat_nn01-13163363       1784          False  pigmeat, n., sense 1   \n",
       "2  pigmeat_nn01-13163363       1817          False  pigmeat, n., sense 1   \n",
       "3  pigmeat_nn01-13163363       1897          False  pigmeat, n., sense 1   \n",
       "4  pigmeat_nn01-13163363       1918          False  pigmeat, n., sense 1   \n",
       "\n",
       "   first_in_sense  \n",
       "0            True  \n",
       "1           False  \n",
       "2           False  \n",
       "3           False  \n",
       "4           False  "
      ]
     },
     "execution_count": 50,
     "metadata": {},
     "output_type": "execute_result"
    }
   ],
   "source": [
    "quotations_df = pd.read_pickle('./data/quotations_all_machine_nn01.pickle')\n",
    "quotations_df.head()"
   ]
  },
  {
   "cell_type": "markdown",
   "metadata": {},
   "source": [
    "## Run Code"
   ]
  },
  {
   "cell_type": "code",
   "execution_count": 51,
   "metadata": {},
   "outputs": [
    {
     "data": {
      "text/plain": [
       "(69843, 9)"
      ]
     },
     "execution_count": 51,
     "metadata": {},
     "output_type": "execute_result"
    }
   ],
   "source": [
    "selected_quotations = filter_quotations_by_year(quotations_df,1760,1920)\n",
    "selected_quotations.shape"
   ]
  },
  {
   "cell_type": "code",
   "execution_count": 52,
   "metadata": {},
   "outputs": [
    {
     "data": {
      "text/html": [
       "<div>\n",
       "<style scoped>\n",
       "    .dataframe tbody tr th:only-of-type {\n",
       "        vertical-align: middle;\n",
       "    }\n",
       "\n",
       "    .dataframe tbody tr th {\n",
       "        vertical-align: top;\n",
       "    }\n",
       "\n",
       "    .dataframe thead th {\n",
       "        text-align: right;\n",
       "    }\n",
       "</style>\n",
       "<table border=\"1\" class=\"dataframe\">\n",
       "  <thead>\n",
       "    <tr style=\"text-align: right;\">\n",
       "      <th></th>\n",
       "      <th>keyword</th>\n",
       "      <th>full_text</th>\n",
       "      <th>keyword_offset</th>\n",
       "      <th>title</th>\n",
       "      <th>author</th>\n",
       "      <th>gender</th>\n",
       "      <th>year</th>\n",
       "      <th>sense_id</th>\n",
       "      <th>word_id</th>\n",
       "    </tr>\n",
       "  </thead>\n",
       "  <tbody>\n",
       "    <tr>\n",
       "      <td>1</td>\n",
       "      <td>pig-meat</td>\n",
       "      <td>In short, (pig-meat excepted) he is a dealer i...</td>\n",
       "      <td>11.0</td>\n",
       "      <td>Year's Journey through Paix Bâs</td>\n",
       "      <td>P. Thicknesse</td>\n",
       "      <td>male</td>\n",
       "      <td>1784</td>\n",
       "      <td>pigmeat_nn01-13163363</td>\n",
       "      <td>pigmeat_nn01</td>\n",
       "    </tr>\n",
       "    <tr>\n",
       "      <td>2</td>\n",
       "      <td>pig meat</td>\n",
       "      <td>It prevented the preservation of meat, and esp...</td>\n",
       "      <td>57.0</td>\n",
       "      <td>Parl. Deb.</td>\n",
       "      <td>None</td>\n",
       "      <td>None</td>\n",
       "      <td>1817</td>\n",
       "      <td>pigmeat_nn01-13163363</td>\n",
       "      <td>pigmeat_nn01</td>\n",
       "    </tr>\n",
       "    <tr>\n",
       "      <td>3</td>\n",
       "      <td>pig meat</td>\n",
       "      <td>In most cases the infected food has been pig m...</td>\n",
       "      <td>41.0</td>\n",
       "      <td>Syst. Med.</td>\n",
       "      <td>T. C. Allbutt</td>\n",
       "      <td>male</td>\n",
       "      <td>1897</td>\n",
       "      <td>pigmeat_nn01-13163363</td>\n",
       "      <td>pigmeat_nn01</td>\n",
       "    </tr>\n",
       "    <tr>\n",
       "      <td>4</td>\n",
       "      <td>pig meat</td>\n",
       "      <td>Beef takes a long time to grow, while pig meat...</td>\n",
       "      <td>38.0</td>\n",
       "      <td>Times</td>\n",
       "      <td>None</td>\n",
       "      <td>None</td>\n",
       "      <td>1918</td>\n",
       "      <td>pigmeat_nn01-13163363</td>\n",
       "      <td>pigmeat_nn01</td>\n",
       "    </tr>\n",
       "    <tr>\n",
       "      <td>47</td>\n",
       "      <td>Charley</td>\n",
       "      <td>Charley, a watchman, Charley-ken, a watch-box.</td>\n",
       "      <td>0.0</td>\n",
       "      <td>New Vocab. Flash Lang.</td>\n",
       "      <td>J. H. Vaux</td>\n",
       "      <td>male</td>\n",
       "      <td>1819</td>\n",
       "      <td>charley_nn01-9609483</td>\n",
       "      <td>charley_nn01</td>\n",
       "    </tr>\n",
       "  </tbody>\n",
       "</table>\n",
       "</div>"
      ],
      "text/plain": [
       "     keyword                                          full_text  \\\n",
       "1   pig-meat  In short, (pig-meat excepted) he is a dealer i...   \n",
       "2   pig meat  It prevented the preservation of meat, and esp...   \n",
       "3   pig meat  In most cases the infected food has been pig m...   \n",
       "4   pig meat  Beef takes a long time to grow, while pig meat...   \n",
       "47   Charley     Charley, a watchman, Charley-ken, a watch-box.   \n",
       "\n",
       "    keyword_offset                            title         author gender  \\\n",
       "1             11.0  Year's Journey through Paix Bâs  P. Thicknesse   male   \n",
       "2             57.0                       Parl. Deb.           None   None   \n",
       "3             41.0                       Syst. Med.  T. C. Allbutt   male   \n",
       "4             38.0                            Times           None   None   \n",
       "47             0.0           New Vocab. Flash Lang.     J. H. Vaux   male   \n",
       "\n",
       "    year               sense_id       word_id  \n",
       "1   1784  pigmeat_nn01-13163363  pigmeat_nn01  \n",
       "2   1817  pigmeat_nn01-13163363  pigmeat_nn01  \n",
       "3   1897  pigmeat_nn01-13163363  pigmeat_nn01  \n",
       "4   1918  pigmeat_nn01-13163363  pigmeat_nn01  \n",
       "47  1819   charley_nn01-9609483  charley_nn01  "
      ]
     },
     "execution_count": 52,
     "metadata": {},
     "output_type": "execute_result"
    }
   ],
   "source": [
    "selected_quotations.head()"
   ]
  },
  {
   "cell_type": "code",
   "execution_count": 53,
   "metadata": {},
   "outputs": [
    {
     "data": {
      "text/plain": [
       "(99, 9)"
      ]
     },
     "execution_count": 53,
     "metadata": {},
     "output_type": "execute_result"
    }
   ],
   "source": [
    "machine_quotations = selected_quotations[selected_quotations.word_id=='machine_nn01']\n",
    "machine_quotations.shape"
   ]
  },
  {
   "cell_type": "code",
   "execution_count": 54,
   "metadata": {},
   "outputs": [
    {
     "name": "stderr",
     "output_type": "stream",
     "text": [
      "/usr/local/lib/python3.7/site-packages/ipykernel_launcher.py:3: SettingWithCopyWarning: \n",
      "A value is trying to be set on a copy of a slice from a DataFrame.\n",
      "Try using .loc[row_indexer,col_indexer] = value instead\n",
      "\n",
      "See the caveats in the documentation: http://pandas.pydata.org/pandas-docs/stable/user_guide/indexing.html#returning-a-view-versus-a-copy\n",
      "  This is separate from the ipykernel package so we can avoid doing imports until\n"
     ]
    }
   ],
   "source": [
    "machine_quotations['vector'] = machine_quotations.apply(get_target_token_vector,\n",
    "                                    embedding_type=embedding_type,\n",
    "                                    axis=1)"
   ]
  },
  {
   "cell_type": "code",
   "execution_count": 55,
   "metadata": {},
   "outputs": [],
   "source": [
    "machine_quotations = machine_quotations.sample(frac=1.0).reset_index(drop=True)"
   ]
  },
  {
   "cell_type": "code",
   "execution_count": 56,
   "metadata": {},
   "outputs": [],
   "source": [
    "train,test = machine_quotations.iloc[:70],machine_quotations.iloc[30:]"
   ]
  },
  {
   "cell_type": "code",
   "execution_count": 57,
   "metadata": {},
   "outputs": [],
   "source": [
    "from scipy.spatial.distance import cosine\n",
    "cosine_similiarity = lambda x, target : 1 - cosine(x,target)"
   ]
  },
  {
   "cell_type": "code",
   "execution_count": 58,
   "metadata": {},
   "outputs": [],
   "source": [
    "from sklearn.metrics import classification_report\n",
    "def get_classification_report(train,test):\n",
    "    y_true,y_pred = [],[]\n",
    "    for i, row in test.iterrows():\n",
    "        target_vector,target_label = row.vector,  row.sense_id\n",
    "        similarities = train.vector.apply(cosine_similiarity,target = target_vector)\n",
    "        y_pred.append(train.iloc[np.argmax(similarities)].sense_id),y_true.append(target_label)\n",
    "        \n",
    "    return classification_report(y_true,y_pred)"
   ]
  },
  {
   "cell_type": "code",
   "execution_count": 59,
   "metadata": {},
   "outputs": [
    {
     "name": "stderr",
     "output_type": "stream",
     "text": [
      "/usr/local/lib/python3.7/site-packages/numpy/core/fromnumeric.py:61: FutureWarning: \n",
      "The current behaviour of 'Series.argmax' is deprecated, use 'idxmax'\n",
      "instead.\n",
      "The behavior of 'argmax' will be corrected to return the positional\n",
      "maximum in the future. For now, use 'series.values.argmax' or\n",
      "'np.argmax(np.array(values))' to get the position of the maximum\n",
      "row.\n",
      "  return bound(*args, **kwds)\n"
     ]
    },
    {
     "name": "stdout",
     "output_type": "stream",
     "text": [
      "                       precision    recall  f1-score   support\n",
      "\n",
      "machine_nn01-38473945       0.67      0.67      0.67         3\n",
      "machine_nn01-38474140       0.18      1.00      0.31         2\n",
      "machine_nn01-38474233       1.00      0.50      0.67         2\n",
      "machine_nn01-38474301       0.00      0.00      0.00         1\n",
      "machine_nn01-38474405       0.67      1.00      0.80         2\n",
      "machine_nn01-38474548       0.00      0.00      0.00         0\n",
      "machine_nn01-38474607       0.56      0.83      0.67         6\n",
      "machine_nn01-38474820       0.80      1.00      0.89         4\n",
      "machine_nn01-38474877       0.67      0.50      0.57         4\n",
      "machine_nn01-38474974       1.00      0.67      0.80         3\n",
      "machine_nn01-38475013       1.00      1.00      1.00         1\n",
      "machine_nn01-38475046       0.50      0.50      0.50         2\n",
      "machine_nn01-38475099       0.00      0.00      0.00         2\n",
      "machine_nn01-38475164       0.75      0.75      0.75         4\n",
      "machine_nn01-38475286       1.00      0.50      0.67         6\n",
      "machine_nn01-38475494       0.67      0.50      0.57         8\n",
      "machine_nn01-38475772       1.00      0.67      0.80         3\n",
      "machine_nn01-38475923       1.00      0.50      0.67         2\n",
      "machine_nn01-38475994       1.00      0.60      0.75         5\n",
      "machine_nn01-38476096       0.83      1.00      0.91         5\n",
      "machine_nn01-38476316       1.00      0.67      0.80         3\n",
      "machine_nn01-38476397       1.00      1.00      1.00         1\n",
      "\n",
      "             accuracy                           0.67        69\n",
      "            macro avg       0.69      0.63      0.63        69\n",
      "         weighted avg       0.76      0.67      0.68        69\n",
      "\n"
     ]
    },
    {
     "name": "stderr",
     "output_type": "stream",
     "text": [
      "/usr/local/lib/python3.7/site-packages/sklearn/metrics/_classification.py:1272: UndefinedMetricWarning: Precision and F-score are ill-defined and being set to 0.0 in labels with no predicted samples. Use `zero_division` parameter to control this behavior.\n",
      "  _warn_prf(average, modifier, msg_start, len(result))\n",
      "/usr/local/lib/python3.7/site-packages/sklearn/metrics/_classification.py:1272: UndefinedMetricWarning: Recall and F-score are ill-defined and being set to 0.0 in labels with no true samples. Use `zero_division` parameter to control this behavior.\n",
      "  _warn_prf(average, modifier, msg_start, len(result))\n"
     ]
    }
   ],
   "source": [
    "print(get_classification_report(train,test))"
   ]
  },
  {
   "cell_type": "markdown",
   "metadata": {},
   "source": [
    "## Inspect code"
   ]
  },
  {
   "cell_type": "code",
   "execution_count": 5,
   "metadata": {},
   "outputs": [],
   "source": [
    "def filter_quotations_by_year(\n",
    "                      df_quotations:  pd.DataFrame,\n",
    "                      start:int,\n",
    "                      end: int\n",
    "                    ) -> pd.DataFrame:\n",
    "    \"\"\"Create a dataframe with quotations and their metadata for \n",
    "    for a specific year range\n",
    "    \n",
    "    Arguments:\n",
    "        df_quotations: dataframe with quotations, created using harvest_quotations_by_sense_id\n",
    "        start (int): start year\n",
    "        end (int):end year\n",
    "        \n",
    "    Returns:\n",
    "        pd.DataFrame with quotations\n",
    "        \n",
    "    \"\"\"\n",
    "    df = pd.concat([\n",
    "        pd.DataFrame.from_records(df_quotations.text.values),\n",
    "        pd.DataFrame.from_records(df_quotations.source.values)\n",
    "            ], axis=1)\n",
    "    df['year'] = df_quotations['year']\n",
    "    df['sense_id'] = df_quotations['sense_id']\n",
    "    df['word_id'] = df_quotations['word_id']\n",
    "    #df = df[df.sense_id.isin(senses)]\n",
    "    df = df[(start <= df.year) & (df.year <= end)]\n",
    "    \n",
    "    df.drop_duplicates(inplace=True)\n",
    "    \n",
    "    return df"
   ]
  },
  {
   "cell_type": "code",
   "execution_count": null,
   "metadata": {},
   "outputs": [],
   "source": [
    "selected_quotations = filter_quotations_by_year(quotations_df,1760,1920)\n",
    "selected_quotations.shape"
   ]
  },
  {
   "cell_type": "code",
   "execution_count": null,
   "metadata": {},
   "outputs": [],
   "source": [
    "\n",
    "def get_target_token_vector(row: pd.Series, \n",
    "                            embedding_type: TransformerWordEmbeddings,\n",
    "                            punctuation: str = '!\"#—$%&\\()*+,./:;\\'\\—-<=>?@[\\\\]^_`{|}~‘’'):\n",
    "    \"\"\"\n",
    "    Get a vector representation for a target expression in context.\n",
    "    If the target expression consists of multiple words we average the \n",
    "    multiple vector representations.\n",
    "    \n",
    "    Arguments:\n",
    "        row (pd.Series): a row from a quotations dataframe created by \n",
    "                        the function filter_quotations_by_year\n",
    "    Returns:\n",
    "        a np.array that captures the last layer(s) of the transformer\n",
    "    \"\"\"\n",
    "    # replace all punctuation with white spaces\n",
    "    text = ''.join([' ' if c in punctuation else c  for c in row.full_text.lower()])\n",
    "    \n",
    "    # if there is no quotation return None\n",
    "    if text is '':\n",
    "        return None\n",
    "    \n",
    "    text = Sentence(text,use_tokenizer=False)\n",
    "    target = row.keyword # the offset as recorded by the OED\n",
    "    vectors = []; quotation_target_tokens = [] # we collect the target tokens collected in the quotation\n",
    "                                               # and match those with the target expression as a check (see below)\n",
    "    \n",
    "    # if there is no target word return none\n",
    "    # remove punctuation from target expression\n",
    "    if target is not None:\n",
    "        target = ''.join([' ' if c in punctuation else c  for c in target.lower()])\n",
    "    else:\n",
    "        return None\n",
    "    \n",
    "    # get offsets of the target expression in the quotations\n",
    "    start_position = row.keyword_offset\n",
    "    end_position = start_position + len(target)\n",
    "    \n",
    "    # embedd text\n",
    "    embedding_type.embed(text)\n",
    "    \n",
    "    for token in text:\n",
    "        # here we rely on the FLAIR offset annotation in combination with tokenisation\n",
    "        # double check if this works properly\n",
    "        if (token.start_pos >= start_position) and (token.start_pos < end_position):\n",
    "            vectors.append(token.embedding.numpy())\n",
    "            quotation_target_tokens.append(token.text)\n",
    "    if vectors:\n",
    "        if ' '.join(quotation_target_tokens) != ' '.join(target.split()):\n",
    "            print('Warning: could not properly match',' '.join(target.split()), ' with ',' '.join(quotation_target_tokens))\n",
    "        \n",
    "        return np.mean(vectors, axis=0)\n",
    "    \n",
    "    return None\n"
   ]
  },
  {
   "cell_type": "code",
   "execution_count": null,
   "metadata": {},
   "outputs": [],
   "source": [
    "selected_quotations.apply(get_target_token_vector,\n",
    "                                    embedding_type=embedding_type,\n",
    "                                    axis=1)"
   ]
  },
  {
   "cell_type": "markdown",
   "metadata": {},
   "source": [
    "## Fin."
   ]
  },
  {
   "cell_type": "code",
   "execution_count": null,
   "metadata": {},
   "outputs": [],
   "source": [
    "# X = [v.reshape(-1) for v in quot_sel.vector if v is not None]\n",
    "# senses = [color_codes[s] for s,v in zip(quot_sel.sense_id,quot_sel.vector) if v is not None]\n",
    "# #\n",
    "\n",
    "# import numpy as np\n",
    "# import matplotlib.pyplot as plt\n",
    "# from sklearn.manifold import TSNE\n",
    "# fig = plt.figure(figsize = (10,10))\n",
    "\n",
    "# tsne = TSNE(n_components=2, random_state=0,metric='cosine')\n",
    "# X_2d = tsne.fit_transform(X)\n",
    "\n",
    "# for i,x in enumerate(X):\n",
    "\n",
    "#     plt.scatter(X_2d[i, 0], X_2d[i, 1],c=senses[i]) \n",
    "    \n",
    "# plt.show()"
   ]
  }
 ],
 "metadata": {
  "kernelspec": {
   "display_name": "Python 3",
   "language": "python",
   "name": "python3"
  },
  "language_info": {
   "codemirror_mode": {
    "name": "ipython",
    "version": 3
   },
   "file_extension": ".py",
   "mimetype": "text/x-python",
   "name": "python",
   "nbconvert_exporter": "python",
   "pygments_lexer": "ipython3",
   "version": "3.7.4"
  }
 },
 "nbformat": 4,
 "nbformat_minor": 2
}
