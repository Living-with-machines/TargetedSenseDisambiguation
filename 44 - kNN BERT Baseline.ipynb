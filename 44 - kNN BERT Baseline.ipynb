{
 "cells": [
  {
   "cell_type": "code",
   "execution_count": 1,
   "metadata": {},
   "outputs": [
    {
     "name": "stdout",
     "output_type": "stream",
     "text": [
      "  1-dataframe\u001b[m\r\n",
      "  19-machine-tagger\u001b[m\r\n",
      "  3-group-senses\u001b[m\r\n",
      "  4-semantic-provenance\u001b[m\r\n",
      "* \u001b[32m44-kNN-BERT-baseline\u001b[m\r\n",
      "  dev\u001b[m\r\n",
      "  master\u001b[m\r\n",
      "  oed-experiments\u001b[m\r\n"
     ]
    }
   ],
   "source": [
    "!git branch"
   ]
  },
  {
   "cell_type": "code",
   "execution_count": 2,
   "metadata": {},
   "outputs": [
    {
     "name": "stderr",
     "output_type": "stream",
     "text": [
      "/usr/local/lib/python3.7/site-packages/tensorflow/python/framework/dtypes.py:526: FutureWarning: Passing (type, 1) or '1type' as a synonym of type is deprecated; in a future version of numpy, it will be understood as (type, (1,)) / '(1,)type'.\n",
      "  _np_qint8 = np.dtype([(\"qint8\", np.int8, 1)])\n",
      "/usr/local/lib/python3.7/site-packages/tensorflow/python/framework/dtypes.py:527: FutureWarning: Passing (type, 1) or '1type' as a synonym of type is deprecated; in a future version of numpy, it will be understood as (type, (1,)) / '(1,)type'.\n",
      "  _np_quint8 = np.dtype([(\"quint8\", np.uint8, 1)])\n",
      "/usr/local/lib/python3.7/site-packages/tensorflow/python/framework/dtypes.py:528: FutureWarning: Passing (type, 1) or '1type' as a synonym of type is deprecated; in a future version of numpy, it will be understood as (type, (1,)) / '(1,)type'.\n",
      "  _np_qint16 = np.dtype([(\"qint16\", np.int16, 1)])\n",
      "/usr/local/lib/python3.7/site-packages/tensorflow/python/framework/dtypes.py:529: FutureWarning: Passing (type, 1) or '1type' as a synonym of type is deprecated; in a future version of numpy, it will be understood as (type, (1,)) / '(1,)type'.\n",
      "  _np_quint16 = np.dtype([(\"quint16\", np.uint16, 1)])\n",
      "/usr/local/lib/python3.7/site-packages/tensorflow/python/framework/dtypes.py:530: FutureWarning: Passing (type, 1) or '1type' as a synonym of type is deprecated; in a future version of numpy, it will be understood as (type, (1,)) / '(1,)type'.\n",
      "  _np_qint32 = np.dtype([(\"qint32\", np.int32, 1)])\n",
      "/usr/local/lib/python3.7/site-packages/tensorflow/python/framework/dtypes.py:535: FutureWarning: Passing (type, 1) or '1type' as a synonym of type is deprecated; in a future version of numpy, it will be understood as (type, (1,)) / '(1,)type'.\n",
      "  np_resource = np.dtype([(\"resource\", np.ubyte, 1)])\n"
     ]
    }
   ],
   "source": [
    "%matplotlib inline\n",
    "import pandas as pd\n",
    "import numpy as np\n",
    "import flair\n",
    "from flair.data import Sentence\n",
    "from utils.classificaton_utils import *\n",
    "from flair.embeddings import TransformerWordEmbeddings\n",
    "from scipy.spatial.distance import cosine\n",
    "from sklearn.metrics import classification_report,accuracy_score\n",
    "from tqdm.notebook import tqdm"
   ]
  },
  {
   "cell_type": "code",
   "execution_count": 3,
   "metadata": {},
   "outputs": [],
   "source": [
    "embedding_type = TransformerWordEmbeddings('bert-base-uncased',\n",
    "                                           layers='-1', # '-1,-2,-3,-4'\n",
    "                                           pooling_operation='mean')"
   ]
  },
  {
   "cell_type": "code",
   "execution_count": 4,
   "metadata": {},
   "outputs": [
    {
     "data": {
      "text/html": [
       "<div>\n",
       "<style scoped>\n",
       "    .dataframe tbody tr th:only-of-type {\n",
       "        vertical-align: middle;\n",
       "    }\n",
       "\n",
       "    .dataframe tbody tr th {\n",
       "        vertical-align: top;\n",
       "    }\n",
       "\n",
       "    .dataframe thead th {\n",
       "        text-align: right;\n",
       "    }\n",
       "</style>\n",
       "<table border=\"1\" class=\"dataframe\">\n",
       "  <thead>\n",
       "    <tr style=\"text-align: right;\">\n",
       "      <th></th>\n",
       "      <th>id</th>\n",
       "      <th>text</th>\n",
       "      <th>year</th>\n",
       "      <th>lemma</th>\n",
       "      <th>source</th>\n",
       "      <th>oed_url</th>\n",
       "      <th>word_id</th>\n",
       "      <th>sense_id</th>\n",
       "      <th>datestring</th>\n",
       "      <th>first_in_word</th>\n",
       "      <th>oed_reference</th>\n",
       "      <th>first_in_sense</th>\n",
       "    </tr>\n",
       "  </thead>\n",
       "  <tbody>\n",
       "    <tr>\n",
       "      <td>0</td>\n",
       "      <td>pigmeat_nn01-13163366</td>\n",
       "      <td>{'keyword': 'pig-meat', 'full_text': 'I was at...</td>\n",
       "      <td>1754</td>\n",
       "      <td>pigmeat</td>\n",
       "      <td>{'title': 'Connoisseur', 'author': 'G. Colman'...</td>\n",
       "      <td>https://www.oed.com/view/Entry/237320#eid13163366</td>\n",
       "      <td>pigmeat_nn01</td>\n",
       "      <td>pigmeat_nn01-13163363</td>\n",
       "      <td>1754</td>\n",
       "      <td>True</td>\n",
       "      <td>pigmeat, n., sense 1</td>\n",
       "      <td>True</td>\n",
       "    </tr>\n",
       "    <tr>\n",
       "      <td>1</td>\n",
       "      <td>pigmeat_nn01-13163379</td>\n",
       "      <td>{'keyword': 'pig-meat', 'full_text': 'In short...</td>\n",
       "      <td>1784</td>\n",
       "      <td>pigmeat</td>\n",
       "      <td>{'title': 'Year's Journey through Paix Bâs', '...</td>\n",
       "      <td>https://www.oed.com/view/Entry/237320#eid13163379</td>\n",
       "      <td>pigmeat_nn01</td>\n",
       "      <td>pigmeat_nn01-13163363</td>\n",
       "      <td>1784</td>\n",
       "      <td>False</td>\n",
       "      <td>pigmeat, n., sense 1</td>\n",
       "      <td>False</td>\n",
       "    </tr>\n",
       "    <tr>\n",
       "      <td>2</td>\n",
       "      <td>pigmeat_nn01-13163399</td>\n",
       "      <td>{'keyword': 'pig meat', 'full_text': 'It preve...</td>\n",
       "      <td>1817</td>\n",
       "      <td>pigmeat</td>\n",
       "      <td>{'title': 'Parl. Deb.', 'author': None, 'gende...</td>\n",
       "      <td>https://www.oed.com/view/Entry/237320#eid13163399</td>\n",
       "      <td>pigmeat_nn01</td>\n",
       "      <td>pigmeat_nn01-13163363</td>\n",
       "      <td>1817</td>\n",
       "      <td>False</td>\n",
       "      <td>pigmeat, n., sense 1</td>\n",
       "      <td>False</td>\n",
       "    </tr>\n",
       "    <tr>\n",
       "      <td>3</td>\n",
       "      <td>pigmeat_nn01-13163416</td>\n",
       "      <td>{'keyword': 'pig meat', 'full_text': 'In most ...</td>\n",
       "      <td>1897</td>\n",
       "      <td>pigmeat</td>\n",
       "      <td>{'title': 'Syst. Med.', 'author': 'T. C. Allbu...</td>\n",
       "      <td>https://www.oed.com/view/Entry/237320#eid13163416</td>\n",
       "      <td>pigmeat_nn01</td>\n",
       "      <td>pigmeat_nn01-13163363</td>\n",
       "      <td>1897</td>\n",
       "      <td>False</td>\n",
       "      <td>pigmeat, n., sense 1</td>\n",
       "      <td>False</td>\n",
       "    </tr>\n",
       "    <tr>\n",
       "      <td>4</td>\n",
       "      <td>pigmeat_nn01-13163425</td>\n",
       "      <td>{'keyword': 'pig meat', 'full_text': 'Beef tak...</td>\n",
       "      <td>1918</td>\n",
       "      <td>pigmeat</td>\n",
       "      <td>{'title': 'Times', 'author': None, 'gender': N...</td>\n",
       "      <td>https://www.oed.com/view/Entry/237320#eid13163425</td>\n",
       "      <td>pigmeat_nn01</td>\n",
       "      <td>pigmeat_nn01-13163363</td>\n",
       "      <td>1918</td>\n",
       "      <td>False</td>\n",
       "      <td>pigmeat, n., sense 1</td>\n",
       "      <td>False</td>\n",
       "    </tr>\n",
       "  </tbody>\n",
       "</table>\n",
       "</div>"
      ],
      "text/plain": [
       "                      id                                               text  \\\n",
       "0  pigmeat_nn01-13163366  {'keyword': 'pig-meat', 'full_text': 'I was at...   \n",
       "1  pigmeat_nn01-13163379  {'keyword': 'pig-meat', 'full_text': 'In short...   \n",
       "2  pigmeat_nn01-13163399  {'keyword': 'pig meat', 'full_text': 'It preve...   \n",
       "3  pigmeat_nn01-13163416  {'keyword': 'pig meat', 'full_text': 'In most ...   \n",
       "4  pigmeat_nn01-13163425  {'keyword': 'pig meat', 'full_text': 'Beef tak...   \n",
       "\n",
       "   year    lemma                                             source  \\\n",
       "0  1754  pigmeat  {'title': 'Connoisseur', 'author': 'G. Colman'...   \n",
       "1  1784  pigmeat  {'title': 'Year's Journey through Paix Bâs', '...   \n",
       "2  1817  pigmeat  {'title': 'Parl. Deb.', 'author': None, 'gende...   \n",
       "3  1897  pigmeat  {'title': 'Syst. Med.', 'author': 'T. C. Allbu...   \n",
       "4  1918  pigmeat  {'title': 'Times', 'author': None, 'gender': N...   \n",
       "\n",
       "                                             oed_url       word_id  \\\n",
       "0  https://www.oed.com/view/Entry/237320#eid13163366  pigmeat_nn01   \n",
       "1  https://www.oed.com/view/Entry/237320#eid13163379  pigmeat_nn01   \n",
       "2  https://www.oed.com/view/Entry/237320#eid13163399  pigmeat_nn01   \n",
       "3  https://www.oed.com/view/Entry/237320#eid13163416  pigmeat_nn01   \n",
       "4  https://www.oed.com/view/Entry/237320#eid13163425  pigmeat_nn01   \n",
       "\n",
       "                sense_id datestring  first_in_word         oed_reference  \\\n",
       "0  pigmeat_nn01-13163363       1754           True  pigmeat, n., sense 1   \n",
       "1  pigmeat_nn01-13163363       1784          False  pigmeat, n., sense 1   \n",
       "2  pigmeat_nn01-13163363       1817          False  pigmeat, n., sense 1   \n",
       "3  pigmeat_nn01-13163363       1897          False  pigmeat, n., sense 1   \n",
       "4  pigmeat_nn01-13163363       1918          False  pigmeat, n., sense 1   \n",
       "\n",
       "   first_in_sense  \n",
       "0            True  \n",
       "1           False  \n",
       "2           False  \n",
       "3           False  \n",
       "4           False  "
      ]
     },
     "execution_count": 4,
     "metadata": {},
     "output_type": "execute_result"
    }
   ],
   "source": [
    "quotations_df = pd.read_pickle('./data/quotations_all_machine_nn01.pickle')\n",
    "quotations_df.head()"
   ]
  },
  {
   "cell_type": "code",
   "execution_count": 15,
   "metadata": {},
   "outputs": [
    {
     "data": {
      "text/plain": [
       "(203560, 12)"
      ]
     },
     "execution_count": 15,
     "metadata": {},
     "output_type": "execute_result"
    }
   ],
   "source": [
    "quotations_df.shape"
   ]
  },
  {
   "cell_type": "markdown",
   "metadata": {},
   "source": [
    "## Run Code"
   ]
  },
  {
   "cell_type": "code",
   "execution_count": 5,
   "metadata": {},
   "outputs": [
    {
     "data": {
      "text/plain": [
       "(69843, 9)"
      ]
     },
     "execution_count": 5,
     "metadata": {},
     "output_type": "execute_result"
    }
   ],
   "source": [
    "selected_quotations = filter_quotations_by_year(quotations_df,1760,1920)\n",
    "selected_quotations.shape"
   ]
  },
  {
   "cell_type": "code",
   "execution_count": 6,
   "metadata": {},
   "outputs": [
    {
     "data": {
      "text/html": [
       "<div>\n",
       "<style scoped>\n",
       "    .dataframe tbody tr th:only-of-type {\n",
       "        vertical-align: middle;\n",
       "    }\n",
       "\n",
       "    .dataframe tbody tr th {\n",
       "        vertical-align: top;\n",
       "    }\n",
       "\n",
       "    .dataframe thead th {\n",
       "        text-align: right;\n",
       "    }\n",
       "</style>\n",
       "<table border=\"1\" class=\"dataframe\">\n",
       "  <thead>\n",
       "    <tr style=\"text-align: right;\">\n",
       "      <th></th>\n",
       "      <th>keyword</th>\n",
       "      <th>full_text</th>\n",
       "      <th>keyword_offset</th>\n",
       "      <th>title</th>\n",
       "      <th>author</th>\n",
       "      <th>gender</th>\n",
       "      <th>year</th>\n",
       "      <th>sense_id</th>\n",
       "      <th>word_id</th>\n",
       "    </tr>\n",
       "  </thead>\n",
       "  <tbody>\n",
       "    <tr>\n",
       "      <td>1</td>\n",
       "      <td>pig-meat</td>\n",
       "      <td>In short, (pig-meat excepted) he is a dealer i...</td>\n",
       "      <td>11.0</td>\n",
       "      <td>Year's Journey through Paix Bâs</td>\n",
       "      <td>P. Thicknesse</td>\n",
       "      <td>male</td>\n",
       "      <td>1784</td>\n",
       "      <td>pigmeat_nn01-13163363</td>\n",
       "      <td>pigmeat_nn01</td>\n",
       "    </tr>\n",
       "    <tr>\n",
       "      <td>2</td>\n",
       "      <td>pig meat</td>\n",
       "      <td>It prevented the preservation of meat, and esp...</td>\n",
       "      <td>57.0</td>\n",
       "      <td>Parl. Deb.</td>\n",
       "      <td>None</td>\n",
       "      <td>None</td>\n",
       "      <td>1817</td>\n",
       "      <td>pigmeat_nn01-13163363</td>\n",
       "      <td>pigmeat_nn01</td>\n",
       "    </tr>\n",
       "    <tr>\n",
       "      <td>3</td>\n",
       "      <td>pig meat</td>\n",
       "      <td>In most cases the infected food has been pig m...</td>\n",
       "      <td>41.0</td>\n",
       "      <td>Syst. Med.</td>\n",
       "      <td>T. C. Allbutt</td>\n",
       "      <td>male</td>\n",
       "      <td>1897</td>\n",
       "      <td>pigmeat_nn01-13163363</td>\n",
       "      <td>pigmeat_nn01</td>\n",
       "    </tr>\n",
       "    <tr>\n",
       "      <td>4</td>\n",
       "      <td>pig meat</td>\n",
       "      <td>Beef takes a long time to grow, while pig meat...</td>\n",
       "      <td>38.0</td>\n",
       "      <td>Times</td>\n",
       "      <td>None</td>\n",
       "      <td>None</td>\n",
       "      <td>1918</td>\n",
       "      <td>pigmeat_nn01-13163363</td>\n",
       "      <td>pigmeat_nn01</td>\n",
       "    </tr>\n",
       "    <tr>\n",
       "      <td>47</td>\n",
       "      <td>Charley</td>\n",
       "      <td>Charley, a watchman, Charley-ken, a watch-box.</td>\n",
       "      <td>0.0</td>\n",
       "      <td>New Vocab. Flash Lang.</td>\n",
       "      <td>J. H. Vaux</td>\n",
       "      <td>male</td>\n",
       "      <td>1819</td>\n",
       "      <td>charley_nn01-9609483</td>\n",
       "      <td>charley_nn01</td>\n",
       "    </tr>\n",
       "  </tbody>\n",
       "</table>\n",
       "</div>"
      ],
      "text/plain": [
       "     keyword                                          full_text  \\\n",
       "1   pig-meat  In short, (pig-meat excepted) he is a dealer i...   \n",
       "2   pig meat  It prevented the preservation of meat, and esp...   \n",
       "3   pig meat  In most cases the infected food has been pig m...   \n",
       "4   pig meat  Beef takes a long time to grow, while pig meat...   \n",
       "47   Charley     Charley, a watchman, Charley-ken, a watch-box.   \n",
       "\n",
       "    keyword_offset                            title         author gender  \\\n",
       "1             11.0  Year's Journey through Paix Bâs  P. Thicknesse   male   \n",
       "2             57.0                       Parl. Deb.           None   None   \n",
       "3             41.0                       Syst. Med.  T. C. Allbutt   male   \n",
       "4             38.0                            Times           None   None   \n",
       "47             0.0           New Vocab. Flash Lang.     J. H. Vaux   male   \n",
       "\n",
       "    year               sense_id       word_id  \n",
       "1   1784  pigmeat_nn01-13163363  pigmeat_nn01  \n",
       "2   1817  pigmeat_nn01-13163363  pigmeat_nn01  \n",
       "3   1897  pigmeat_nn01-13163363  pigmeat_nn01  \n",
       "4   1918  pigmeat_nn01-13163363  pigmeat_nn01  \n",
       "47  1819   charley_nn01-9609483  charley_nn01  "
      ]
     },
     "execution_count": 6,
     "metadata": {},
     "output_type": "execute_result"
    }
   ],
   "source": [
    "selected_quotations.head()"
   ]
  },
  {
   "cell_type": "code",
   "execution_count": 7,
   "metadata": {},
   "outputs": [
    {
     "data": {
      "text/plain": [
       "head_nn01      359\n",
       "run_nn02       325\n",
       "line_nn02      278\n",
       "way_nn01       268\n",
       "runner_nn01    245\n",
       "stock_nn01     243\n",
       "point_nn01     236\n",
       "fall_nn02      210\n",
       "lay_vb01       206\n",
       "ring_nn01      197\n",
       "Name: word_id, dtype: int64"
      ]
     },
     "execution_count": 7,
     "metadata": {},
     "output_type": "execute_result"
    }
   ],
   "source": [
    "selected_quotations.word_id.value_counts()[:10]"
   ]
  },
  {
   "cell_type": "code",
   "execution_count": 8,
   "metadata": {},
   "outputs": [
    {
     "data": {
      "text/plain": [
       "(359, 9)"
      ]
     },
     "execution_count": 8,
     "metadata": {},
     "output_type": "execute_result"
    }
   ],
   "source": [
    "lemma_id = 'head_nn01'\n",
    "quotations_by_lemma = selected_quotations[selected_quotations.word_id==lemma_id]\n",
    "quotations_by_lemma.shape"
   ]
  },
  {
   "cell_type": "code",
   "execution_count": 9,
   "metadata": {},
   "outputs": [
    {
     "name": "stderr",
     "output_type": "stream",
     "text": [
      "/usr/local/lib/python3.7/site-packages/ipykernel_launcher.py:3: SettingWithCopyWarning: \n",
      "A value is trying to be set on a copy of a slice from a DataFrame.\n",
      "Try using .loc[row_indexer,col_indexer] = value instead\n",
      "\n",
      "See the caveats in the documentation: http://pandas.pydata.org/pandas-docs/stable/user_guide/indexing.html#returning-a-view-versus-a-copy\n",
      "  This is separate from the ipykernel package so we can avoid doing imports until\n"
     ]
    }
   ],
   "source": [
    "quotations_by_lemma['vector'] = quotations_by_lemma.apply(get_target_token_vector,\n",
    "                                    embedding_type=embedding_type,\n",
    "                                    axis=1)"
   ]
  },
  {
   "cell_type": "code",
   "execution_count": 10,
   "metadata": {},
   "outputs": [
    {
     "data": {
      "text/plain": [
       "{'head_nn01-1839048': 6,\n",
       " 'head_nn01-1838095': 6,\n",
       " 'head_nn01-1835150': 6,\n",
       " 'head_nn01-1837511': 5,\n",
       " 'head_nn01-1835428': 5,\n",
       " 'head_nn01-1838871': 5,\n",
       " 'head_nn01-1836525': 5,\n",
       " 'head_nn01-1835757': 5,\n",
       " 'head_nn01-1836359': 5,\n",
       " 'head_nn01-1839099': 5,\n",
       " 'head_nn01-1836535': 5,\n",
       " 'head_nn01-290715664': 5,\n",
       " 'head_nn01-1839654': 5,\n",
       " 'head_nn01-278255054': 4,\n",
       " 'head_nn01-300253856': 4,\n",
       " 'head_nn01-1839338': 4,\n",
       " 'head_nn01-1839492': 4,\n",
       " 'head_nn01-1836566': 4,\n",
       " 'head_nn01-1838752': 4,\n",
       " 'head_nn01-1838591': 4,\n",
       " 'head_nn01-1835624': 4,\n",
       " 'head_nn01-1837548': 4,\n",
       " 'head_nn01-1836300': 4,\n",
       " 'head_nn01-1839898': 4,\n",
       " 'head_nn01-1836521': 4,\n",
       " 'head_nn01-1835840': 4,\n",
       " 'head_nn01-1837802': 4,\n",
       " 'head_nn01-285147119': 4,\n",
       " 'head_nn01-265894453': 4,\n",
       " 'head_nn01-1836537': 4,\n",
       " 'head_nn01-1838505': 4,\n",
       " 'head_nn01-1836516': 4,\n",
       " 'head_nn01-1835891': 4,\n",
       " 'head_nn01-291351168': 4,\n",
       " 'head_nn01-1835261': 4,\n",
       " 'head_nn01-1838461': 4,\n",
       " 'head_nn01-1839425': 4,\n",
       " 'head_nn01-1836497': 4,\n",
       " 'head_nn01-285147122': 4,\n",
       " 'head_nn01-1839182': 4,\n",
       " 'head_nn01-1838316': 4,\n",
       " 'head_nn01-1837465': 4,\n",
       " 'head_nn01-278546137': 4,\n",
       " 'head_nn01-285982370': 3,\n",
       " 'head_nn01-1836244': 3,\n",
       " 'head_nn01-1836495': 3,\n",
       " 'head_nn01-290715768': 3,\n",
       " 'head_nn01-1836523': 3,\n",
       " 'head_nn01-1835693': 3,\n",
       " 'head_nn01-1835367': 3,\n",
       " 'head_nn01-1839761': 3,\n",
       " 'head_nn01-1837545': 3,\n",
       " 'head_nn01-1838195': 3,\n",
       " 'head_nn01-279422669': 3,\n",
       " 'head_nn01-1838992': 3,\n",
       " 'head_nn01-1838554': 3,\n",
       " 'head_nn01-278255044': 3,\n",
       " 'head_nn01-1836546': 3,\n",
       " 'head_nn01-1837417': 3,\n",
       " 'head_nn01-291351167': 3,\n",
       " 'head_nn01-1835950': 3,\n",
       " 'head_nn01-1834852': 3,\n",
       " 'head_nn01-1837981': 3,\n",
       " 'head_nn01-1836513': 3,\n",
       " 'head_nn01-285147023': 3,\n",
       " 'head_nn01-1836561': 3,\n",
       " 'head_nn01-1836530': 3,\n",
       " 'head_nn01-1838421': 3,\n",
       " 'head_nn01-1838628': 3,\n",
       " 'head_nn01-278941370': 3,\n",
       " 'head_nn01-277825688': 3,\n",
       " 'head_nn01-276973339': 3,\n",
       " 'head_nn01-1836533': 3,\n",
       " 'head_nn01-1837910': 3,\n",
       " 'head_nn01-279476751': 3,\n",
       " 'head_nn01-290715561': 3,\n",
       " 'head_nn01-285958413': 3,\n",
       " 'head_nn01-1838736': 3,\n",
       " 'head_nn01-1838625': 3,\n",
       " 'head_nn01-1835564': 3,\n",
       " 'head_nn01-1836528': 3,\n",
       " 'head_nn01-1839073': 3,\n",
       " 'head_nn01-285147090': 3,\n",
       " 'head_nn01-277825736': 3,\n",
       " 'head_nn01-1836559': 3,\n",
       " 'head_nn01-1835062': 3,\n",
       " 'head_nn01-290715493': 2,\n",
       " 'head_nn01-1836403': 2,\n",
       " 'head_nn01-1836034': 2,\n",
       " 'head_nn01-1837554': 2,\n",
       " 'head_nn01-278284495': 2,\n",
       " 'head_nn01-1839446': 2,\n",
       " 'head_nn01-1837552': 2,\n",
       " 'head_nn01-285146964': 2,\n",
       " 'head_nn01-1836499': 2,\n",
       " 'head_nn01-278523082': 2,\n",
       " 'head_nn01-278495042': 2,\n",
       " 'head_nn01-1838013': 2,\n",
       " 'head_nn01-276996515': 2,\n",
       " 'head_nn01-1836025': 2,\n",
       " 'head_nn01-1838272': 1,\n",
       " 'head_nn01-265900680': 1,\n",
       " 'head_nn01-290715345': 1,\n",
       " 'head_nn01-1838049': 1,\n",
       " 'head_nn01-301225004': 1,\n",
       " 'head_nn01-278523102': 1,\n",
       " 'head_nn01-277895725': 1,\n",
       " 'head_nn01-1836501': 1,\n",
       " 'head_nn01-290715773': 1,\n",
       " 'head_nn01-1837550': 1,\n",
       " 'head_nn01-297793606': 1,\n",
       " 'head_nn01-1839852': 1,\n",
       " 'head_nn01-285597784': 1,\n",
       " 'head_nn01-285583528': 1}"
      ]
     },
     "execution_count": 10,
     "metadata": {},
     "output_type": "execute_result"
    }
   ],
   "source": [
    "quotations_by_lemma.sense_id.value_counts().to_dict()"
   ]
  },
  {
   "cell_type": "code",
   "execution_count": 12,
   "metadata": {},
   "outputs": [
    {
     "data": {
      "text/plain": [
       "114"
      ]
     },
     "execution_count": 12,
     "metadata": {},
     "output_type": "execute_result"
    }
   ],
   "source": [
    "len(quotations_by_lemma.sense_id.value_counts().to_dict())"
   ]
  },
  {
   "cell_type": "code",
   "execution_count": 14,
   "metadata": {},
   "outputs": [
    {
     "data": {
      "application/vnd.jupyter.widget-view+json": {
       "model_id": "5dfd813f1cb847dbb6aaac6a44bad31f",
       "version_major": 2,
       "version_minor": 0
      },
      "text/plain": [
       "HBox(children=(FloatProgress(value=0.0, max=1000.0), HTML(value='')))"
      ]
     },
     "metadata": {},
     "output_type": "display_data"
    },
    {
     "name": "stdout",
     "output_type": "stream",
     "text": [
      "\n"
     ]
    }
   ],
   "source": [
    "cosine_similiarity = lambda x, target : 1 - cosine(x,target)\n",
    "\n",
    "def get_accuracy(train,test):\n",
    "    y_true, y_pred, y_maj = [], [], []\n",
    "    \n",
    "    for i, row in test.iterrows():\n",
    "        similarities = train.apply(cosine_similiarity,target = row.vector)\n",
    "        \n",
    "        y_pred.append(np.argmax(similarities))\n",
    "        y_true.append(row.sense_id)\n",
    "        y_maj.append('head_nn01-1839048')\n",
    "    \n",
    "    return accuracy_score(y_true,y_pred),accuracy_score(y_true,y_maj)\n",
    "\n",
    "def evaluate(df):\n",
    "    df = df.sample(frac=1.0).reset_index(drop=True)\n",
    "    train,test = df.iloc[:-10],df.iloc[-10:]\n",
    "    train = train.groupby('sense_id')['vector'].apply(np.mean,axis=0)\n",
    "    return get_accuracy(train,test)\n",
    "\n",
    "accs = [evaluate(quotations_by_lemma) for _ in tqdm(range(1000))]\n"
   ]
  },
  {
   "cell_type": "code",
   "execution_count": 17,
   "metadata": {},
   "outputs": [
    {
     "data": {
      "text/plain": [
       "<matplotlib.axes._subplots.AxesSubplot at 0x17f077210>"
      ]
     },
     "execution_count": 17,
     "metadata": {},
     "output_type": "execute_result"
    },
    {
     "data": {
      "image/png": "[encoded data removed]",
      "text/plain": [
       "<Figure size 432x288 with 1 Axes>"
      ]
     },
     "metadata": {
      "needs_background": "light"
     },
     "output_type": "display_data"
    }
   ],
   "source": [
    "pd.Series([i for i,j in accs]).plot(kind='density')"
   ]
  },
  {
   "cell_type": "code",
   "execution_count": 16,
   "metadata": {},
   "outputs": [
    {
     "data": {
      "text/plain": [
       "<matplotlib.axes._subplots.AxesSubplot at 0x17efa6e50>"
      ]
     },
     "execution_count": 16,
     "metadata": {},
     "output_type": "execute_result"
    },
    {
     "data": {
      "image/png": "[encoded data removed]",
      "text/plain": [
       "<Figure size 432x288 with 1 Axes>"
      ]
     },
     "metadata": {
      "needs_background": "light"
     },
     "output_type": "display_data"
    }
   ],
   "source": [
    "pd.Series([i for i,j in accs]).plot(kind='density')\n",
    "pd.Series([j for i,j in accs]).plot(kind='density')"
   ]
  },
  {
   "cell_type": "markdown",
   "metadata": {},
   "source": [
    "# Distinguish between machine sense of word"
   ]
  },
  {
   "cell_type": "markdown",
   "metadata": {},
   "source": [
    "## Inspect code"
   ]
  },
  {
   "cell_type": "code",
   "execution_count": 5,
   "metadata": {},
   "outputs": [],
   "source": [
    "def filter_quotations_by_year(\n",
    "                      df_quotations:  pd.DataFrame,\n",
    "                      start:int,\n",
    "                      end: int\n",
    "                    ) -> pd.DataFrame:\n",
    "    \"\"\"Create a dataframe with quotations and their metadata for \n",
    "    for a specific year range\n",
    "    \n",
    "    Arguments:\n",
    "        df_quotations: dataframe with quotations, created using harvest_quotations_by_sense_id\n",
    "        start (int): start year\n",
    "        end (int):end year\n",
    "        \n",
    "    Returns:\n",
    "        pd.DataFrame with quotations\n",
    "        \n",
    "    \"\"\"\n",
    "    df = pd.concat([\n",
    "        pd.DataFrame.from_records(df_quotations.text.values),\n",
    "        pd.DataFrame.from_records(df_quotations.source.values)\n",
    "            ], axis=1)\n",
    "    df['year'] = df_quotations['year']\n",
    "    df['sense_id'] = df_quotations['sense_id']\n",
    "    df['word_id'] = df_quotations['word_id']\n",
    "    #df = df[df.sense_id.isin(senses)]\n",
    "    df = df[(start <= df.year) & (df.year <= end)]\n",
    "    \n",
    "    df.drop_duplicates(inplace=True)\n",
    "    \n",
    "    return df"
   ]
  },
  {
   "cell_type": "code",
   "execution_count": null,
   "metadata": {},
   "outputs": [],
   "source": [
    "selected_quotations = filter_quotations_by_year(quotations_df,1760,1920)\n",
    "selected_quotations.shape"
   ]
  },
  {
   "cell_type": "code",
   "execution_count": null,
   "metadata": {},
   "outputs": [],
   "source": [
    "\n",
    "def get_target_token_vector(row: pd.Series, \n",
    "                            embedding_type: TransformerWordEmbeddings,\n",
    "                            punctuation: str = '!\"#—$%&\\()*+,./:;\\'\\—-<=>?@[\\\\]^_`{|}~‘’'):\n",
    "    \"\"\"\n",
    "    Get a vector representation for a target expression in context.\n",
    "    If the target expression consists of multiple words we average the \n",
    "    multiple vector representations.\n",
    "    \n",
    "    Arguments:\n",
    "        row (pd.Series): a row from a quotations dataframe created by \n",
    "                        the function filter_quotations_by_year\n",
    "    Returns:\n",
    "        a np.array that captures the last layer(s) of the transformer\n",
    "    \"\"\"\n",
    "    # replace all punctuation with white spaces\n",
    "    text = ''.join([' ' if c in punctuation else c  for c in row.full_text.lower()])\n",
    "    \n",
    "    # if there is no quotation return None\n",
    "    if text is '':\n",
    "        return None\n",
    "    \n",
    "    text = Sentence(text,use_tokenizer=False)\n",
    "    target = row.keyword # the offset as recorded by the OED\n",
    "    vectors = []; quotation_target_tokens = [] # we collect the target tokens collected in the quotation\n",
    "                                               # and match those with the target expression as a check (see below)\n",
    "    \n",
    "    # if there is no target word return none\n",
    "    # remove punctuation from target expression\n",
    "    if target is not None:\n",
    "        target = ''.join([' ' if c in punctuation else c  for c in target.lower()])\n",
    "    else:\n",
    "        return None\n",
    "    \n",
    "    # get offsets of the target expression in the quotations\n",
    "    start_position = row.keyword_offset\n",
    "    end_position = start_position + len(target)\n",
    "    \n",
    "    # embedd text\n",
    "    embedding_type.embed(text)\n",
    "    \n",
    "    for token in text:\n",
    "        # here we rely on the FLAIR offset annotation in combination with tokenisation\n",
    "        # double check if this works properly\n",
    "        if (token.start_pos >= start_position) and (token.start_pos < end_position):\n",
    "            vectors.append(token.embedding.numpy())\n",
    "            quotation_target_tokens.append(token.text)\n",
    "    if vectors:\n",
    "        if ' '.join(quotation_target_tokens) != ' '.join(target.split()):\n",
    "            print('Warning: could not properly match',' '.join(target.split()), ' with ',' '.join(quotation_target_tokens))\n",
    "        \n",
    "        return np.mean(vectors, axis=0)\n",
    "    \n",
    "    return None\n"
   ]
  },
  {
   "cell_type": "code",
   "execution_count": null,
   "metadata": {},
   "outputs": [],
   "source": [
    "selected_quotations.apply(get_target_token_vector,\n",
    "                                    embedding_type=embedding_type,\n",
    "                                    axis=1)"
   ]
  },
  {
   "cell_type": "markdown",
   "metadata": {},
   "source": [
    "## Fin."
   ]
  },
  {
   "cell_type": "code",
   "execution_count": 196,
   "metadata": {},
   "outputs": [
    {
     "name": "stdout",
     "output_type": "stream",
     "text": [
      "99\n"
     ]
    },
    {
     "data": {
      "image/png": "[encoded data removed]",
      "text/plain": [
       "<Figure size 720x720 with 1 Axes>"
      ]
     },
     "metadata": {
      "needs_background": "light"
     },
     "output_type": "display_data"
    }
   ],
   "source": [
    "X = [v.reshape(-1) for v in quotations_by_lemma.vector if v is not None]\n",
    "print(len(X))\n",
    "#senses = [color_codes[s] for s,v in zip(quot_sel.sense_id,quot_sel.vector) if v is not None]\n",
    "#\n",
    "\n",
    "import numpy as np\n",
    "import matplotlib.pyplot as plt\n",
    "from sklearn.manifold import TSNE\n",
    "fig = plt.figure(figsize = (10,10))\n",
    "\n",
    "tsne = TSNE(n_components=2, random_state=0,metric='cosine')\n",
    "X_2d = tsne.fit_transform(X)\n",
    "\n",
    "for i,x in enumerate(X):\n",
    "\n",
    "    plt.scatter(X_2d[i, 0], X_2d[i, 1], c='#000000') \n",
    "    \n",
    "plt.show()"
   ]
  },
  {
   "cell_type": "code",
   "execution_count": null,
   "metadata": {},
   "outputs": [],
   "source": []
  }
 ],
 "metadata": {
  "kernelspec": {
   "display_name": "Python 3",
   "language": "python",
   "name": "python3"
  },
  "language_info": {
   "codemirror_mode": {
    "name": "ipython",
    "version": 3
   },
   "file_extension": ".py",
   "mimetype": "text/x-python",
   "name": "python",
   "nbconvert_exporter": "python",
   "pygments_lexer": "ipython3",
   "version": "3.7.4"
  }
 },
 "nbformat": 4,
 "nbformat_minor": 2
}
