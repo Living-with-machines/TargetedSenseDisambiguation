{
 "cells": [
  {
   "cell_type": "code",
   "execution_count": 51,
   "metadata": {},
   "outputs": [
    {
     "name": "stdout",
     "output_type": "stream",
     "text": [
      "  1-dataframe\u001b[m\r\n",
      "  19-machine-tagger\u001b[m\r\n",
      "  3-group-senses\u001b[m\r\n",
      "* \u001b[32m4-semantic-provenance\u001b[m\r\n",
      "  dev\u001b[m\r\n",
      "  master\u001b[m\r\n",
      "  oed-experiments\u001b[m\r\n"
     ]
    }
   ],
   "source": [
    "!git branch"
   ]
  },
  {
   "cell_type": "code",
   "execution_count": 14,
   "metadata": {},
   "outputs": [],
   "source": [
    "import pandas as pd"
   ]
  },
  {
   "cell_type": "code",
   "execution_count": 15,
   "metadata": {},
   "outputs": [],
   "source": [
    "lemma_id = 'machine_nn01'"
   ]
  },
  {
   "cell_type": "code",
   "execution_count": 55,
   "metadata": {},
   "outputs": [],
   "source": [
    "df = pd.read_pickle(f'./data/extended_{lemma_id}.pickle')"
   ]
  },
  {
   "cell_type": "code",
   "execution_count": 59,
   "metadata": {},
   "outputs": [
    {
     "data": {
      "text/html": [
       "<div>\n",
       "<style scoped>\n",
       "    .dataframe tbody tr th:only-of-type {\n",
       "        vertical-align: middle;\n",
       "    }\n",
       "\n",
       "    .dataframe tbody tr th {\n",
       "        vertical-align: top;\n",
       "    }\n",
       "\n",
       "    .dataframe thead th {\n",
       "        text-align: right;\n",
       "    }\n",
       "</style>\n",
       "<table border=\"1\" class=\"dataframe\">\n",
       "  <thead>\n",
       "    <tr style=\"text-align: right;\">\n",
       "      <th></th>\n",
       "      <th>categories</th>\n",
       "      <th>daterange</th>\n",
       "      <th>definition</th>\n",
       "      <th>first_use</th>\n",
       "      <th>id</th>\n",
       "      <th>lemma</th>\n",
       "      <th>main_current_sense</th>\n",
       "      <th>meta</th>\n",
       "      <th>notes</th>\n",
       "      <th>oed_reference</th>\n",
       "      <th>oed_url</th>\n",
       "      <th>part_of_speech</th>\n",
       "      <th>provenance</th>\n",
       "      <th>provenance_type</th>\n",
       "      <th>quotation_ids</th>\n",
       "      <th>semantic_class_ids</th>\n",
       "      <th>semantic_class_last_id</th>\n",
       "      <th>transitivity</th>\n",
       "      <th>word_id</th>\n",
       "    </tr>\n",
       "  </thead>\n",
       "  <tbody>\n",
       "    <tr>\n",
       "      <td>0</td>\n",
       "      <td>{'topic': [], 'usage': [['rare']], 'region': []}</td>\n",
       "      <td>{'end': None, 'start': 1545, 'obsolete': False...</td>\n",
       "      <td>A material or immaterial structure, esp. the f...</td>\n",
       "      <td>J. Schäfer</td>\n",
       "      <td>machine_nn01-38473945</td>\n",
       "      <td>machine</td>\n",
       "      <td>False</td>\n",
       "      <td>{'created': 1904, 'revised': True, 'updated': ...</td>\n",
       "      <td>[]</td>\n",
       "      <td>machine, n., sense I.1a</td>\n",
       "      <td>https://www.oed.com/view/Entry/111850#eid38473945</td>\n",
       "      <td>NN</td>\n",
       "      <td>[[machine_nn01-38473945, seed, machine_nn01]]</td>\n",
       "      <td>seed</td>\n",
       "      <td>[machine_nn01-38473950, machine_nn01-38473961,...</td>\n",
       "      <td>[[1, 111290, 118635, 119024, 120162, 120172], ...</td>\n",
       "      <td>[120172, 120173]</td>\n",
       "      <td>None</td>\n",
       "      <td>machine_nn01</td>\n",
       "    </tr>\n",
       "    <tr>\n",
       "      <td>1</td>\n",
       "      <td>{'topic': [['Military', 'Weaponry']], 'usage':...</td>\n",
       "      <td>{'end': None, 'start': 1583, 'obsolete': False...</td>\n",
       "      <td>A military engine or siege-tower. Cf. war mach...</td>\n",
       "      <td>Brian Melbancke</td>\n",
       "      <td>machine_nn01-38474233</td>\n",
       "      <td>machine</td>\n",
       "      <td>False</td>\n",
       "      <td>{'created': 1904, 'revised': True, 'updated': ...</td>\n",
       "      <td>[]</td>\n",
       "      <td>machine, n., sense II.3</td>\n",
       "      <td>https://www.oed.com/view/Entry/111850#eid38474233</td>\n",
       "      <td>NN</td>\n",
       "      <td>[[machine_nn01-38474233, seed, machine_nn01]]</td>\n",
       "      <td>seed</td>\n",
       "      <td>[machine_nn01-38474243, machine_nn01-38474252,...</td>\n",
       "      <td>[[153072, 160439, 163207, 163208, 163377, 1633...</td>\n",
       "      <td>[163378]</td>\n",
       "      <td>None</td>\n",
       "      <td>machine_nn01</td>\n",
       "    </tr>\n",
       "    <tr>\n",
       "      <td>2</td>\n",
       "      <td>{'topic': [], 'usage': [], 'region': []}</td>\n",
       "      <td>{'end': 1707, 'start': 1595, 'obsolete': True,...</td>\n",
       "      <td>spec. A scheme or plot. Obsolete.</td>\n",
       "      <td>Elizabeth I</td>\n",
       "      <td>machine_nn01-38474097</td>\n",
       "      <td>machine</td>\n",
       "      <td>False</td>\n",
       "      <td>{'created': 1904, 'revised': True, 'updated': ...</td>\n",
       "      <td>[]</td>\n",
       "      <td>machine, n., sense I.1b</td>\n",
       "      <td>https://www.oed.com/view/Entry/111850#eid38474097</td>\n",
       "      <td>NN</td>\n",
       "      <td>[[machine_nn01-38474097, seed, machine_nn01]]</td>\n",
       "      <td>seed</td>\n",
       "      <td>[machine_nn01-38474102, machine_nn01-38474122,...</td>\n",
       "      <td>[[1, 84689, 87987, 87988, 87989, 88083, 88109,...</td>\n",
       "      <td>[88126]</td>\n",
       "      <td>None</td>\n",
       "      <td>machine_nn01</td>\n",
       "    </tr>\n",
       "    <tr>\n",
       "      <td>3</td>\n",
       "      <td>{'topic': [['Sciences', 'Medicine', 'Anatomy']...</td>\n",
       "      <td>{'end': None, 'start': 1604, 'obsolete': False...</td>\n",
       "      <td>A living body, esp. the human body considered ...</td>\n",
       "      <td>William Shakespeare</td>\n",
       "      <td>machine_nn01-38474140</td>\n",
       "      <td>machine</td>\n",
       "      <td>False</td>\n",
       "      <td>{'created': 1904, 'revised': True, 'updated': ...</td>\n",
       "      <td>[]</td>\n",
       "      <td>machine, n., sense I.2</td>\n",
       "      <td>https://www.oed.com/view/Entry/111850#eid38474140</td>\n",
       "      <td>NN</td>\n",
       "      <td>[[machine_nn01-38474140, seed, machine_nn01]]</td>\n",
       "      <td>seed</td>\n",
       "      <td>[machine_nn01-38474151, machine_nn01-38474160,...</td>\n",
       "      <td>[[1, 8835, 25507, 29189]]</td>\n",
       "      <td>[29189]</td>\n",
       "      <td>None</td>\n",
       "      <td>machine_nn01</td>\n",
       "    </tr>\n",
       "    <tr>\n",
       "      <td>4</td>\n",
       "      <td>{'topic': [['Arts', 'Performing Arts', 'Theatr...</td>\n",
       "      <td>{'end': None, 'start': 1609, 'obsolete': False...</td>\n",
       "      <td>Theatre. A (usually movable) contrivance for t...</td>\n",
       "      <td>Ben Jonson</td>\n",
       "      <td>machine_nn01-38474301</td>\n",
       "      <td>machine</td>\n",
       "      <td>False</td>\n",
       "      <td>{'created': 1904, 'revised': True, 'updated': ...</td>\n",
       "      <td>[In early use predominantly a ‘flying’ car alo...</td>\n",
       "      <td>machine, n., sense II.4a</td>\n",
       "      <td>https://www.oed.com/view/Entry/111850#eid38474301</td>\n",
       "      <td>NN</td>\n",
       "      <td>[[machine_nn01-38474301, seed, machine_nn01]]</td>\n",
       "      <td>seed</td>\n",
       "      <td>[machine_nn01-38474320, machine_nn01-38474329,...</td>\n",
       "      <td>[[153072, 222360, 224508, 232933, 232967, 2330...</td>\n",
       "      <td>[233139]</td>\n",
       "      <td>None</td>\n",
       "      <td>machine_nn01</td>\n",
       "    </tr>\n",
       "  </tbody>\n",
       "</table>\n",
       "</div>"
      ],
      "text/plain": [
       "                                          categories  \\\n",
       "0   {'topic': [], 'usage': [['rare']], 'region': []}   \n",
       "1  {'topic': [['Military', 'Weaponry']], 'usage':...   \n",
       "2           {'topic': [], 'usage': [], 'region': []}   \n",
       "3  {'topic': [['Sciences', 'Medicine', 'Anatomy']...   \n",
       "4  {'topic': [['Arts', 'Performing Arts', 'Theatr...   \n",
       "\n",
       "                                           daterange  \\\n",
       "0  {'end': None, 'start': 1545, 'obsolete': False...   \n",
       "1  {'end': None, 'start': 1583, 'obsolete': False...   \n",
       "2  {'end': 1707, 'start': 1595, 'obsolete': True,...   \n",
       "3  {'end': None, 'start': 1604, 'obsolete': False...   \n",
       "4  {'end': None, 'start': 1609, 'obsolete': False...   \n",
       "\n",
       "                                          definition            first_use  \\\n",
       "0  A material or immaterial structure, esp. the f...           J. Schäfer   \n",
       "1  A military engine or siege-tower. Cf. war mach...      Brian Melbancke   \n",
       "2                  spec. A scheme or plot. Obsolete.          Elizabeth I   \n",
       "3  A living body, esp. the human body considered ...  William Shakespeare   \n",
       "4  Theatre. A (usually movable) contrivance for t...           Ben Jonson   \n",
       "\n",
       "                      id    lemma  main_current_sense  \\\n",
       "0  machine_nn01-38473945  machine               False   \n",
       "1  machine_nn01-38474233  machine               False   \n",
       "2  machine_nn01-38474097  machine               False   \n",
       "3  machine_nn01-38474140  machine               False   \n",
       "4  machine_nn01-38474301  machine               False   \n",
       "\n",
       "                                                meta  \\\n",
       "0  {'created': 1904, 'revised': True, 'updated': ...   \n",
       "1  {'created': 1904, 'revised': True, 'updated': ...   \n",
       "2  {'created': 1904, 'revised': True, 'updated': ...   \n",
       "3  {'created': 1904, 'revised': True, 'updated': ...   \n",
       "4  {'created': 1904, 'revised': True, 'updated': ...   \n",
       "\n",
       "                                               notes  \\\n",
       "0                                                 []   \n",
       "1                                                 []   \n",
       "2                                                 []   \n",
       "3                                                 []   \n",
       "4  [In early use predominantly a ‘flying’ car alo...   \n",
       "\n",
       "              oed_reference  \\\n",
       "0   machine, n., sense I.1a   \n",
       "1   machine, n., sense II.3   \n",
       "2   machine, n., sense I.1b   \n",
       "3    machine, n., sense I.2   \n",
       "4  machine, n., sense II.4a   \n",
       "\n",
       "                                             oed_url part_of_speech  \\\n",
       "0  https://www.oed.com/view/Entry/111850#eid38473945             NN   \n",
       "1  https://www.oed.com/view/Entry/111850#eid38474233             NN   \n",
       "2  https://www.oed.com/view/Entry/111850#eid38474097             NN   \n",
       "3  https://www.oed.com/view/Entry/111850#eid38474140             NN   \n",
       "4  https://www.oed.com/view/Entry/111850#eid38474301             NN   \n",
       "\n",
       "                                      provenance provenance_type  \\\n",
       "0  [[machine_nn01-38473945, seed, machine_nn01]]            seed   \n",
       "1  [[machine_nn01-38474233, seed, machine_nn01]]            seed   \n",
       "2  [[machine_nn01-38474097, seed, machine_nn01]]            seed   \n",
       "3  [[machine_nn01-38474140, seed, machine_nn01]]            seed   \n",
       "4  [[machine_nn01-38474301, seed, machine_nn01]]            seed   \n",
       "\n",
       "                                       quotation_ids  \\\n",
       "0  [machine_nn01-38473950, machine_nn01-38473961,...   \n",
       "1  [machine_nn01-38474243, machine_nn01-38474252,...   \n",
       "2  [machine_nn01-38474102, machine_nn01-38474122,...   \n",
       "3  [machine_nn01-38474151, machine_nn01-38474160,...   \n",
       "4  [machine_nn01-38474320, machine_nn01-38474329,...   \n",
       "\n",
       "                                  semantic_class_ids semantic_class_last_id  \\\n",
       "0  [[1, 111290, 118635, 119024, 120162, 120172], ...       [120172, 120173]   \n",
       "1  [[153072, 160439, 163207, 163208, 163377, 1633...               [163378]   \n",
       "2  [[1, 84689, 87987, 87988, 87989, 88083, 88109,...                [88126]   \n",
       "3                          [[1, 8835, 25507, 29189]]                [29189]   \n",
       "4  [[153072, 222360, 224508, 232933, 232967, 2330...               [233139]   \n",
       "\n",
       "  transitivity       word_id  \n",
       "0         None  machine_nn01  \n",
       "1         None  machine_nn01  \n",
       "2         None  machine_nn01  \n",
       "3         None  machine_nn01  \n",
       "4         None  machine_nn01  "
      ]
     },
     "execution_count": 59,
     "metadata": {},
     "output_type": "execute_result"
    }
   ],
   "source": [
    "df.head()"
   ]
  },
  {
   "cell_type": "code",
   "execution_count": 67,
   "metadata": {},
   "outputs": [],
   "source": [
    "def filter_by_year_range(dr, start,end): \n",
    "    if dr.get('start',None) is None:\n",
    "        dr_start = 0\n",
    "    else:\n",
    "        dr_start = dr['start']\n",
    "    \n",
    "    if dr.get('end',None) is None:\n",
    "        dr_end = 2000\n",
    "    else:\n",
    "        dr_end = dr['end']\n",
    "        \n",
    "    if (dr_start <= start) and (dr_end >= end):\n",
    "        return True\n",
    "    return False"
   ]
  },
  {
   "cell_type": "code",
   "execution_count": 73,
   "metadata": {},
   "outputs": [
    {
     "name": "stdout",
     "output_type": "stream",
     "text": [
      "0     True\n",
      "1     True\n",
      "2    False\n",
      "3     True\n",
      "4     True\n",
      "Name: daterange, dtype: bool\n",
      "{'end': None, 'start': 1545, 'obsolete': False, 'rangestring': '1545—'}\n",
      "{'end': 1707, 'start': 1595, 'obsolete': True, 'rangestring': '1595—1707'}\n"
     ]
    }
   ],
   "source": [
    "print(df.daterange.apply(filter_by_year_range, start=1760, end=1920)[:5])\n",
    "print(df.iloc[0].daterange)\n",
    "print(df.iloc[2].daterange)"
   ]
  },
  {
   "cell_type": "code",
   "execution_count": 57,
   "metadata": {},
   "outputs": [
    {
     "data": {
      "text/plain": [
       "{'A conceptual, abstract, or theoretical mechanism or device; spec. a model or a mathematical abstraction of an existing or hypothetical computer. Cf. Turing machine n.',\n",
       " 'Mechanics. Anything that transmits force or directs its application.'}"
      ]
     },
     "execution_count": 57,
     "metadata": {},
     "output_type": "execute_result"
    }
   ],
   "source": [
    "set(df[df.id.isin(['machine_nn01-38475835','machine_nn01-38475923'])].definition)"
   ]
  },
  {
   "cell_type": "code",
   "execution_count": 40,
   "metadata": {},
   "outputs": [],
   "source": [
    "def select_senses_by_provenance(sub_df: pd.DataFrame, sense_ids: set, relations: list):\n",
    "    indices, senses = set(),set()\n",
    "    for i, row in sub_df.iterrows():\n",
    "        for oed_id, relation, prov_id in row.provenance:\n",
    "            if (prov_id in sense_ids) and (relation in relations):\n",
    "                senses.add(oed_id); indices.add(i)\n",
    "                \n",
    "    return list(indices), list(senses)"
   ]
  },
  {
   "cell_type": "code",
   "execution_count": 71,
   "metadata": {},
   "outputs": [
    {
     "name": "stdout",
     "output_type": "stream",
     "text": [
      "(8383, 19)\n",
      "(2702, 19)\n"
     ]
    }
   ],
   "source": [
    "def obtain_senses(df, sense_ids:set, relations:list, start:int, end:int):\n",
    "    print(df.shape)\n",
    "    df = df[df.daterange.apply(filter_by_year_range, start=start, end=end)]\n",
    "    print(df.shape)\n",
    "    seeds = df[df['provenance_type'] == \"seed\"].reset_index(inplace=False)\n",
    "    synonyms = df[df['provenance_type'] == \"synonym\"].reset_index(inplace=False)\n",
    "    branches = df[df['provenance_type'] == \"branch\"].reset_index(inplace=False)\n",
    "    \n",
    "    #print(seeds.shape[0],synonyms.shape[0],branches.shape[0])\n",
    "    if \"seed\" in relations:\n",
    "        seeds_selected = set(seeds[seeds.id.isin(sense_ids)].id)\n",
    "\n",
    "    if \"synonym\" in relations:\n",
    "        syn_sel_indices, synonyms_selected = select_senses_by_provenance(synonyms,sense_ids,relations)\n",
    "    \n",
    "    \n",
    "    select_synonyms_semantic_class_id = synonyms[synonyms.id.isin(synonyms_selected)].semantic_class_last_id\n",
    "    semantic_class_ids = set().union(*map(set,select_synonyms_semantic_class_id))\n",
    "    \n",
    "    branch_sel_indices, branches_selected = select_senses_by_provenance(branches,semantic_class_ids,relations)\n",
    "    \n",
    "    senses = set(branches.iloc[branch_sel_indices].id\n",
    "               ).union(set(synonyms.iloc[syn_sel_indices].id)\n",
    "                        ).union(set(seeds_selected))\n",
    "    return senses\n",
    "    \n",
    "    \n",
    "senses = obtain_senses(df,\n",
    "                       {'machine_nn01-38475835','machine_nn01-38475923',},\n",
    "                       ['seed','synonym','descendant'],\n",
    "                       start=1760, \n",
    "                       end=1920\n",
    "                      )"
   ]
  },
  {
   "cell_type": "code",
   "execution_count": 72,
   "metadata": {},
   "outputs": [
    {
     "data": {
      "text/plain": [
       "{'accumulator_nn01-34592667',\n",
       " 'lever_nn01-39377191',\n",
       " 'machine_nn01-38475923',\n",
       " 'mover_nn01-35820685',\n",
       " 'pairing_nn02-32485248',\n",
       " 'power_nn01-28687898',\n",
       " 'primummobile_nn01-28369573',\n",
       " 'screw_nn01-24083320',\n",
       " 'wedge_nn01-14811588'}"
      ]
     },
     "execution_count": 72,
     "metadata": {},
     "output_type": "execute_result"
    }
   ],
   "source": [
    "senses"
   ]
  },
  {
   "cell_type": "code",
   "execution_count": null,
   "metadata": {},
   "outputs": [],
   "source": []
  }
 ],
 "metadata": {
  "kernelspec": {
   "display_name": "Python 3",
   "language": "python",
   "name": "python3"
  },
  "language_info": {
   "codemirror_mode": {
    "name": "ipython",
    "version": 3
   },
   "file_extension": ".py",
   "mimetype": "text/x-python",
   "name": "python",
   "nbconvert_exporter": "python",
   "pygments_lexer": "ipython3",
   "version": "3.7.4"
  }
 },
 "nbformat": 4,
 "nbformat_minor": 2
}
