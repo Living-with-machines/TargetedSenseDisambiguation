{
 "metadata": {
  "language_info": {
   "codemirror_mode": {
    "name": "ipython",
    "version": 3
   },
   "file_extension": ".py",
   "mimetype": "text/x-python",
   "name": "python",
   "nbconvert_exporter": "python",
   "pygments_lexer": "ipython3",
   "version": "3.7.5-final"
  },
  "orig_nbformat": 2,
  "kernelspec": {
   "name": "python3",
   "display_name": "Python 3",
   "language": "python"
  }
 },
 "nbformat": 4,
 "nbformat_minor": 2,
 "cells": [
  {
   "cell_type": "code",
   "execution_count": 1,
   "metadata": {},
   "outputs": [],
   "source": [
    "%load_ext autoreload\n",
    "%autoreload 2"
   ]
  },
  {
   "cell_type": "code",
   "execution_count": 3,
   "metadata": {},
   "outputs": [],
   "source": [
    "import pickle\n",
    "import pandas as pd\n",
    "from tasks import wsd\n",
    "from pathlib import Path\n",
    "from tasks import wsd\n",
    "from utils import nlp_tools\n",
    "from tqdm.auto import tqdm\n",
    "import numpy as np\n",
    "import json\n",
    "from flair.embeddings import TransformerWordEmbeddings\n",
    "from utils.dataset_download import harvest_data_from_extended_senses\n",
    "from utils.classificaton_utils import binarize, vectorize_target_expressions,cosine_similiarity"
   ]
  },
  {
   "source": [
    "# Preparation"
   ],
   "cell_type": "markdown",
   "metadata": {}
  },
  {
   "cell_type": "code",
   "execution_count": 4,
   "metadata": {},
   "outputs": [],
   "source": [
    "# import API credentials\n",
    "with open('oed_experiments/oed_credentials.json') as f:\n",
    "    auth = json.load(f)"
   ]
  },
  {
   "cell_type": "code",
   "execution_count": 10,
   "metadata": {},
   "outputs": [],
   "source": [
    "# only run this once after downloading\n",
    "# otherwise you remove the vectorized keywords\n",
    "tqdm.pandas()\n",
    "lemma,pos = 'machine', \"NN\"\n",
    "#quotations = harvest_data_from_extended_senses(auth,f\"{lemma}_{pos}\")"
   ]
  },
  {
   "source": [
    "# Vectorize data"
   ],
   "cell_type": "markdown",
   "metadata": {}
  },
  {
   "cell_type": "code",
   "execution_count": 5,
   "metadata": {},
   "outputs": [
    {
     "output_type": "stream",
     "name": "stdout",
     "text": [
      "Dataframe alread contains vectors from bert_base settings\n{'path': 'bert-base-uncased', 'layers': '-1,-2,-3,-4', 'pooling_operation': 'mean'}\n"
     ]
    }
   ],
   "source": [
    "\n",
    "quotations_path = \"./data/sfrel_quotations_machine_NN.pickle\"\n",
    "embedding_methods = {'bert_base': {\"path\":'bert-base-uncased','layers':'-1,-2,-3,-4','pooling_operation':'mean'},\n",
    "                    'blert': {\"path\":'bert-base-uncased','layers':'-1,-2,-3,-4','pooling_operation':'mean'}}\n",
    "quotations = vectorize_target_expressions(quotations_path,embedding_methods)"
   ]
  },
  {
   "cell_type": "code",
   "execution_count": 6,
   "metadata": {},
   "outputs": [
    {
     "output_type": "execute_result",
     "data": {
      "text/plain": [
       "                  sense_id                                   lemma_definition  \\\n",
       "0        carr_nn03-9982032                                        (See quot.)   \n",
       "1        carr_nn03-9982032                                        (See quot.)   \n",
       "2  vehiculum_nn01-15938293  A substance, esp. a liquid, which acts as a me...   \n",
       "\n",
       "                                          definition         word_id  \\\n",
       "0                                        (See quot.)       carr_nn03   \n",
       "1                                        (See quot.)       carr_nn03   \n",
       "2  A substance, esp. a liquid, which acts as a me...  vehiculum_nn01   \n",
       "\n",
       "       lemma               quotation_id  \\\n",
       "0       carr          carr_nn03-9982036   \n",
       "1       carr          carr_nn03-9982044   \n",
       "2  vehiculum  vehiculum_nn01-1004413341   \n",
       "\n",
       "                                              source  \\\n",
       "0  {'title': 'Nat. Hist. Staffs.', 'author': 'R. ...   \n",
       "1  {'title': 'O.C. & F. Words', 'author': 'R. Hol...   \n",
       "2  {'title': 'Diuers Chimicall Concl. Distillatio...   \n",
       "\n",
       "                                                text    year  \\\n",
       "0  {'keyword': 'Car', 'full_text': 'Whether they ...  1686.0   \n",
       "1  {'keyword': 'carr', 'full_text': 'The brown se...  1880.0   \n",
       "2  {'keyword': 'vehiculum', 'full_text': 'Vse the...  1594.0   \n",
       "\n",
       "                                           full_text    keyword  \\\n",
       "0  Whether they can find any coal water i.e. an a...        Car   \n",
       "1  The brown sediment (humate of iron) deposited ...       carr   \n",
       "2  Vse the first water againe for the vehiculum i...  vehiculum   \n",
       "\n",
       "   keyword_offset                  vector_bert_base_-1,-2,-3,-4_mean  \n",
       "0            65.0  [0.057217587, 0.1470324, 0.43648225, -0.493824...  \n",
       "1            83.0  [-0.08569695, 0.2822367, 0.53436506, -0.543560...  \n",
       "2            35.0  [-0.6408355, -0.33204675, 0.23320119, -0.22713...  "
      ],
      "text/html": "<div>\n<style scoped>\n    .dataframe tbody tr th:only-of-type {\n        vertical-align: middle;\n    }\n\n    .dataframe tbody tr th {\n        vertical-align: top;\n    }\n\n    .dataframe thead th {\n        text-align: right;\n    }\n</style>\n<table border=\"1\" class=\"dataframe\">\n  <thead>\n    <tr style=\"text-align: right;\">\n      <th></th>\n      <th>sense_id</th>\n      <th>lemma_definition</th>\n      <th>definition</th>\n      <th>word_id</th>\n      <th>lemma</th>\n      <th>quotation_id</th>\n      <th>source</th>\n      <th>text</th>\n      <th>year</th>\n      <th>full_text</th>\n      <th>keyword</th>\n      <th>keyword_offset</th>\n      <th>vector_bert_base_-1,-2,-3,-4_mean</th>\n    </tr>\n  </thead>\n  <tbody>\n    <tr>\n      <th>0</th>\n      <td>carr_nn03-9982032</td>\n      <td>(See quot.)</td>\n      <td>(See quot.)</td>\n      <td>carr_nn03</td>\n      <td>carr</td>\n      <td>carr_nn03-9982036</td>\n      <td>{'title': 'Nat. Hist. Staffs.', 'author': 'R. ...</td>\n      <td>{'keyword': 'Car', 'full_text': 'Whether they ...</td>\n      <td>1686.0</td>\n      <td>Whether they can find any coal water i.e. an a...</td>\n      <td>Car</td>\n      <td>65.0</td>\n      <td>[0.057217587, 0.1470324, 0.43648225, -0.493824...</td>\n    </tr>\n    <tr>\n      <th>1</th>\n      <td>carr_nn03-9982032</td>\n      <td>(See quot.)</td>\n      <td>(See quot.)</td>\n      <td>carr_nn03</td>\n      <td>carr</td>\n      <td>carr_nn03-9982044</td>\n      <td>{'title': 'O.C. &amp; F. Words', 'author': 'R. Hol...</td>\n      <td>{'keyword': 'carr', 'full_text': 'The brown se...</td>\n      <td>1880.0</td>\n      <td>The brown sediment (humate of iron) deposited ...</td>\n      <td>carr</td>\n      <td>83.0</td>\n      <td>[-0.08569695, 0.2822367, 0.53436506, -0.543560...</td>\n    </tr>\n    <tr>\n      <th>2</th>\n      <td>vehiculum_nn01-15938293</td>\n      <td>A substance, esp. a liquid, which acts as a me...</td>\n      <td>A substance, esp. a liquid, which acts as a me...</td>\n      <td>vehiculum_nn01</td>\n      <td>vehiculum</td>\n      <td>vehiculum_nn01-1004413341</td>\n      <td>{'title': 'Diuers Chimicall Concl. Distillatio...</td>\n      <td>{'keyword': 'vehiculum', 'full_text': 'Vse the...</td>\n      <td>1594.0</td>\n      <td>Vse the first water againe for the vehiculum i...</td>\n      <td>vehiculum</td>\n      <td>35.0</td>\n      <td>[-0.6408355, -0.33204675, 0.23320119, -0.22713...</td>\n    </tr>\n  </tbody>\n</table>\n</div>"
     },
     "metadata": {},
     "execution_count": 6
    }
   ],
   "source": [
    "# inspect vectorized notebook\n",
    "df = pd.read_pickle(\"./data/sfrel_quotations_machine_NN.pickle\")\n",
    "df.head(3)"
   ]
  },
  {
   "source": [
    "# Disambiguation"
   ],
   "cell_type": "markdown",
   "metadata": {}
  },
  {
   "cell_type": "code",
   "execution_count": 7,
   "metadata": {},
   "outputs": [],
   "source": [
    "senses = {'machine_nn01-38475923'}\n",
    "relations = ['seed','synonym'] # ,'descendant','sibling'\n",
    "eval_mode = \"lemma_etal\" # lemma or lemma_etal\n",
    "    "
   ]
  },
  {
   "cell_type": "code",
   "execution_count": 11,
   "metadata": {},
   "outputs": [
    {
     "output_type": "stream",
     "name": "stdout",
     "text": [
      "Index(['sense_id', 'lemma_definition', 'definition', 'word_id', 'lemma',\n       'quotation_id', 'source', 'text', 'year', 'full_text', 'keyword',\n       'keyword_offset', 'vector_bert_base_-1,-2,-3,-4_mean'],\n      dtype='object')\n# senses before filtering by date = 517\n# senses after filtering by date = 368\n\n\n# of seed senses 23 \n# of synonyms 324 \n# of branch senses 0\n\n\n# of seeds selected 1 \n# of synonyms selected 8 \n# of branches selected 0\n"
     ]
    }
   ],
   "source": [
    "df_train, df_val, df_test = binarize(lemma,\n",
    "                        pos,\n",
    "                        senses, \n",
    "                        relations,\n",
    "                        strict_filter=True,\n",
    "                        start=1700,\n",
    "                        end=1920,\n",
    "                        eval_mode=eval_mode)"
   ]
  },
  {
   "cell_type": "code",
   "execution_count": 12,
   "metadata": {},
   "outputs": [
    {
     "output_type": "execute_result",
     "data": {
      "text/plain": [
       "                  sense_id                                   lemma_definition  \\\n",
       "108  machine_nn01-38475494  A complex device, consisting of a number of in...   \n",
       "316    mover_nn01-35821153  A person who sets or keeps something in motion...   \n",
       "247    power_nn01-28687898  Ability to act or affect something strongly; p...   \n",
       "97   machine_nn01-38474820  A complex device, consisting of a number of in...   \n",
       "57   machine_nn01-38475994  A complex device, consisting of a number of in...   \n",
       "\n",
       "                                            definition       word_id    lemma  \\\n",
       "108  Used contextually for the particular kind of m...  machine_nn01  machine   \n",
       "316  U.S. A migrant, a settler; spec. (a) a settler...    mover_nn01    mover   \n",
       "247  Mechanics. In full mechanical power, †mathemat...    power_nn01    power   \n",
       "97   = bathing-machine n. at  bathing n. compounds ...  machine_nn01  machine   \n",
       "57                          figurative in general use.  machine_nn01  machine   \n",
       "\n",
       "              quotation_id                                             source  \\\n",
       "108  machine_nn01-38475576  {'title': None, 'author': 'W. D. Howells', 'ge...   \n",
       "316    mover_nn01-35821179  {'title': '2nd Visit U.S.', 'author': 'C. Lyel...   \n",
       "247    power_nn01-28687943  {'title': 'Elements Physics', 'author': 'N. Ar...   \n",
       "97   machine_nn01-38474829  {'title': 'Ipswich Jrnl.', 'author': None, 'ge...   \n",
       "57   machine_nn01-38476026  {'title': 'Dispatches', 'author': 'Duke of Wel...   \n",
       "\n",
       "                                                  text    year  \\\n",
       "108  {'keyword': 'machine', 'full_text': 'The machi...  1891.0   \n",
       "316  {'keyword': 'movers', 'full_text': 'On board w...  1849.0   \n",
       "247  {'keyword': 'mechanical power', 'full_text': '...  1827.0   \n",
       "97   {'keyword': 'Machine', 'full_text': 'At Aldebu...  1763.0   \n",
       "57   {'keyword': 'machine', 'full_text': 'More expe...  1801.0   \n",
       "\n",
       "                                             full_text           keyword  \\\n",
       "108  The machine with which this letter is written ...           machine   \n",
       "316  On board were many ‘movers’ going to Texas wit...            movers   \n",
       "247    No mechanical power or machine generates force.  mechanical power   \n",
       "97   At Aldeburgh in Suffolk..for the Conveniency o...           Machine   \n",
       "57   More experience than we have yet had of the op...           machine   \n",
       "\n",
       "     keyword_offset                  vector_bert_base_-1,-2,-3,-4_mean label  \\\n",
       "108             4.0  [-0.23773926, 0.76330495, -0.18839866, -0.1579...     0   \n",
       "316            20.0  [0.108669445, -0.036040783, 0.042272598, 0.319...     0   \n",
       "247             3.0  [0.68850386, 0.3318206, 0.30432534, 0.16182785...     1   \n",
       "97            111.0  [0.16162382, 0.118292086, 0.044132993, 0.17878...     0   \n",
       "57             95.0  [0.83684593, 0.5584122, -0.16416408, 0.2444155...     0   \n",
       "\n",
       "                        id                                          daterange  \\\n",
       "108  machine_nn01-38475494  {'end': None, 'start': 1782, 'obsolete': False...   \n",
       "316                    NaN                                                NaN   \n",
       "247    power_nn01-28687898  {'end': None, 'start': 1671, 'obsolete': False...   \n",
       "97   machine_nn01-38474820  {'end': 1870, 'start': 1763, 'obsolete': True,...   \n",
       "57   machine_nn01-38475994  {'end': None, 'start': 1676, 'obsolete': False...   \n",
       "\n",
       "                                            provenance provenance_type  \\\n",
       "108      [[machine_nn01-38475494, seed, machine_nn01]]            seed   \n",
       "316                                                NaN             NaN   \n",
       "247  [[power_nn01-28687898, synonym, machine_nn01-3...         synonym   \n",
       "97       [[machine_nn01-38474820, seed, machine_nn01]]            seed   \n",
       "57       [[machine_nn01-38475994, seed, machine_nn01]]            seed   \n",
       "\n",
       "     relation_to_core_senses  relation_to_seed_senses  \n",
       "108  {machine_nn01-38475494}  {machine_nn01-38475494}  \n",
       "316                      NaN                      NaN  \n",
       "247  {machine_nn01-38475923}  {machine_nn01-38475923}  \n",
       "97   {machine_nn01-38474820}  {machine_nn01-38474820}  \n",
       "57   {machine_nn01-38475994}  {machine_nn01-38475994}  "
      ],
      "text/html": "<div>\n<style scoped>\n    .dataframe tbody tr th:only-of-type {\n        vertical-align: middle;\n    }\n\n    .dataframe tbody tr th {\n        vertical-align: top;\n    }\n\n    .dataframe thead th {\n        text-align: right;\n    }\n</style>\n<table border=\"1\" class=\"dataframe\">\n  <thead>\n    <tr style=\"text-align: right;\">\n      <th></th>\n      <th>sense_id</th>\n      <th>lemma_definition</th>\n      <th>definition</th>\n      <th>word_id</th>\n      <th>lemma</th>\n      <th>quotation_id</th>\n      <th>source</th>\n      <th>text</th>\n      <th>year</th>\n      <th>full_text</th>\n      <th>keyword</th>\n      <th>keyword_offset</th>\n      <th>vector_bert_base_-1,-2,-3,-4_mean</th>\n      <th>label</th>\n      <th>id</th>\n      <th>daterange</th>\n      <th>provenance</th>\n      <th>provenance_type</th>\n      <th>relation_to_core_senses</th>\n      <th>relation_to_seed_senses</th>\n    </tr>\n  </thead>\n  <tbody>\n    <tr>\n      <th>108</th>\n      <td>machine_nn01-38475494</td>\n      <td>A complex device, consisting of a number of in...</td>\n      <td>Used contextually for the particular kind of m...</td>\n      <td>machine_nn01</td>\n      <td>machine</td>\n      <td>machine_nn01-38475576</td>\n      <td>{'title': None, 'author': 'W. D. Howells', 'ge...</td>\n      <td>{'keyword': 'machine', 'full_text': 'The machi...</td>\n      <td>1891.0</td>\n      <td>The machine with which this letter is written ...</td>\n      <td>machine</td>\n      <td>4.0</td>\n      <td>[-0.23773926, 0.76330495, -0.18839866, -0.1579...</td>\n      <td>0</td>\n      <td>machine_nn01-38475494</td>\n      <td>{'end': None, 'start': 1782, 'obsolete': False...</td>\n      <td>[[machine_nn01-38475494, seed, machine_nn01]]</td>\n      <td>seed</td>\n      <td>{machine_nn01-38475494}</td>\n      <td>{machine_nn01-38475494}</td>\n    </tr>\n    <tr>\n      <th>316</th>\n      <td>mover_nn01-35821153</td>\n      <td>A person who sets or keeps something in motion...</td>\n      <td>U.S. A migrant, a settler; spec. (a) a settler...</td>\n      <td>mover_nn01</td>\n      <td>mover</td>\n      <td>mover_nn01-35821179</td>\n      <td>{'title': '2nd Visit U.S.', 'author': 'C. Lyel...</td>\n      <td>{'keyword': 'movers', 'full_text': 'On board w...</td>\n      <td>1849.0</td>\n      <td>On board were many ‘movers’ going to Texas wit...</td>\n      <td>movers</td>\n      <td>20.0</td>\n      <td>[0.108669445, -0.036040783, 0.042272598, 0.319...</td>\n      <td>0</td>\n      <td>NaN</td>\n      <td>NaN</td>\n      <td>NaN</td>\n      <td>NaN</td>\n      <td>NaN</td>\n      <td>NaN</td>\n    </tr>\n    <tr>\n      <th>247</th>\n      <td>power_nn01-28687898</td>\n      <td>Ability to act or affect something strongly; p...</td>\n      <td>Mechanics. In full mechanical power, †mathemat...</td>\n      <td>power_nn01</td>\n      <td>power</td>\n      <td>power_nn01-28687943</td>\n      <td>{'title': 'Elements Physics', 'author': 'N. Ar...</td>\n      <td>{'keyword': 'mechanical power', 'full_text': '...</td>\n      <td>1827.0</td>\n      <td>No mechanical power or machine generates force.</td>\n      <td>mechanical power</td>\n      <td>3.0</td>\n      <td>[0.68850386, 0.3318206, 0.30432534, 0.16182785...</td>\n      <td>1</td>\n      <td>power_nn01-28687898</td>\n      <td>{'end': None, 'start': 1671, 'obsolete': False...</td>\n      <td>[[power_nn01-28687898, synonym, machine_nn01-3...</td>\n      <td>synonym</td>\n      <td>{machine_nn01-38475923}</td>\n      <td>{machine_nn01-38475923}</td>\n    </tr>\n    <tr>\n      <th>97</th>\n      <td>machine_nn01-38474820</td>\n      <td>A complex device, consisting of a number of in...</td>\n      <td>= bathing-machine n. at  bathing n. compounds ...</td>\n      <td>machine_nn01</td>\n      <td>machine</td>\n      <td>machine_nn01-38474829</td>\n      <td>{'title': 'Ipswich Jrnl.', 'author': None, 'ge...</td>\n      <td>{'keyword': 'Machine', 'full_text': 'At Aldebu...</td>\n      <td>1763.0</td>\n      <td>At Aldeburgh in Suffolk..for the Conveniency o...</td>\n      <td>Machine</td>\n      <td>111.0</td>\n      <td>[0.16162382, 0.118292086, 0.044132993, 0.17878...</td>\n      <td>0</td>\n      <td>machine_nn01-38474820</td>\n      <td>{'end': 1870, 'start': 1763, 'obsolete': True,...</td>\n      <td>[[machine_nn01-38474820, seed, machine_nn01]]</td>\n      <td>seed</td>\n      <td>{machine_nn01-38474820}</td>\n      <td>{machine_nn01-38474820}</td>\n    </tr>\n    <tr>\n      <th>57</th>\n      <td>machine_nn01-38475994</td>\n      <td>A complex device, consisting of a number of in...</td>\n      <td>figurative in general use.</td>\n      <td>machine_nn01</td>\n      <td>machine</td>\n      <td>machine_nn01-38476026</td>\n      <td>{'title': 'Dispatches', 'author': 'Duke of Wel...</td>\n      <td>{'keyword': 'machine', 'full_text': 'More expe...</td>\n      <td>1801.0</td>\n      <td>More experience than we have yet had of the op...</td>\n      <td>machine</td>\n      <td>95.0</td>\n      <td>[0.83684593, 0.5584122, -0.16416408, 0.2444155...</td>\n      <td>0</td>\n      <td>machine_nn01-38475994</td>\n      <td>{'end': None, 'start': 1676, 'obsolete': False...</td>\n      <td>[[machine_nn01-38475994, seed, machine_nn01]]</td>\n      <td>seed</td>\n      <td>{machine_nn01-38475994}</td>\n      <td>{machine_nn01-38475994}</td>\n    </tr>\n  </tbody>\n</table>\n</div>"
     },
     "metadata": {},
     "execution_count": 12
    }
   ],
   "source": [
    "df_test.head()"
   ]
  },
  {
   "cell_type": "code",
   "execution_count": 13,
   "metadata": {},
   "outputs": [
    {
     "output_type": "execute_result",
     "data": {
      "text/plain": [
       "['vector_bert_base_-1,-2,-3,-4_mean']"
      ]
     },
     "metadata": {},
     "execution_count": 13
    }
   ],
   "source": [
    "vector_cols = [c for c in df_train.columns if c.startswith('vector_')]\n",
    "vector_cols     "
   ]
  },
  {
   "cell_type": "code",
   "execution_count": 14,
   "metadata": {},
   "outputs": [
    {
     "output_type": "display_data",
     "data": {
      "text/plain": "HBox(children=(FloatProgress(value=0.0, max=66.0), HTML(value='')))",
      "application/vnd.jupyter.widget-view+json": {
       "version_major": 2,
       "version_minor": 0,
       "model_id": "b7f5e52f92f1437bb35f3bc5167278ff"
      }
     },
     "metadata": {}
    },
    {
     "output_type": "stream",
     "name": "stdout",
     "text": [
      "\n"
     ]
    },
    {
     "output_type": "execute_result",
     "data": {
      "text/plain": [
       "{'1': [0.353, 0.857, 0.5], '0': [0.98, 0.814, 0.889]}"
      ]
     },
     "metadata": {},
     "execution_count": 14
    }
   ],
   "source": [
    "\n",
    "vector_type = vector_cols[0]\n",
    "polar_vectors = df_train.groupby('label')[vector_type].apply(np.mean,axis=0)\n",
    "df_test[f\"bert_nn_polar_{vector_type}\"] = df_test[vector_type].progress_apply(wsd.bert_nn_polar_vector, polar_vectors = polar_vectors)\n",
    "wsd.eval(f\"bert_nn_polar_{vector_type}\",df_test)\n",
    "\n"
   ]
  }
 ]
}