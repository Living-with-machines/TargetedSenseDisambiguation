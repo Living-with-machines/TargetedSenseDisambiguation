{
 "metadata": {
  "language_info": {
   "codemirror_mode": {
    "name": "ipython",
    "version": 3
   },
   "file_extension": ".py",
   "mimetype": "text/x-python",
   "name": "python",
   "nbconvert_exporter": "python",
   "pygments_lexer": "ipython3",
   "version": "3.7.5-final"
  },
  "orig_nbformat": 2,
  "kernelspec": {
   "name": "python3",
   "display_name": "Python 3",
   "language": "python"
  }
 },
 "nbformat": 4,
 "nbformat_minor": 2,
 "cells": [
  {
   "cell_type": "code",
   "execution_count": 1,
   "metadata": {},
   "outputs": [],
   "source": [
    "%load_ext autoreload\n",
    "%autoreload 2"
   ]
  },
  {
   "cell_type": "code",
   "execution_count": 13,
   "metadata": {},
   "outputs": [],
   "source": [
    "%matplotlib inline\n",
    "import pickle\n",
    "import pandas as pd\n",
    "from tasks import wsd\n",
    "from pathlib import Path\n",
    "from tasks import wsd\n",
    "from utils import nlp_tools\n",
    "from tqdm.auto import tqdm\n",
    "import numpy as np\n",
    "import json\n",
    "from sklearn.metrics import classification_report\n",
    "from flair.embeddings import TransformerWordEmbeddings\n",
    "from utils.dataset_download import harvest_data_from_extended_senses\n",
    "from utils.classificaton_utils import binarize, vectorize_target_expressions,cosine_similiarity,eval_lemma"
   ]
  },
  {
   "source": [
    "# Preparation"
   ],
   "cell_type": "markdown",
   "metadata": {}
  },
  {
   "cell_type": "code",
   "execution_count": 14,
   "metadata": {},
   "outputs": [],
   "source": [
    "# import API credentials\n",
    "with open('oed_experiments/oed_credentials.json') as f:\n",
    "    auth = json.load(f)"
   ]
  },
  {
   "cell_type": "code",
   "execution_count": 15,
   "metadata": {},
   "outputs": [],
   "source": [
    "# only run this once after downloading\n",
    "# otherwise you remove the vectorized keywords\n",
    "tqdm.pandas()\n",
    "lemma,pos = 'machine', \"NN\"\n",
    "#quotations = harvest_data_from_extended_senses(auth,f\"{lemma}_{pos}\")"
   ]
  },
  {
   "source": [
    "# Vectorize data"
   ],
   "cell_type": "markdown",
   "metadata": {}
  },
  {
   "cell_type": "code",
   "execution_count": 16,
   "metadata": {},
   "outputs": [
    {
     "output_type": "stream",
     "name": "stdout",
     "text": [
      "Dataframe alread contains vectors from bert_base settings\n{'path': 'bert-base-uncased', 'layers': '-1,-2,-3,-4', 'pooling_operation': 'mean'}\nDataframe alread contains vectors from blert settings\n{'path': '/deezy_datadrive/kaspar-playground/bert_model/FT_bert_base_uncased_all_books_v002', 'layers': '-1,-2,-3,-4', 'pooling_operation': 'mean'}\nDataframe alread contains vectors from bert_1850 settings\n{'path': '/datadrive/khosseini/LM_with_bert_MOVED_to_another_VM_REMOVE_FROM_NOVEMBER/models/bert/FT_bert_base_uncased_before_1850_v001', 'layers': '-1,-2,-3,-4', 'pooling_operation': 'mean'}\nDataframe alread contains vectors from bert_1900 settings\n{'path': '/datadrive/khosseini/LM_with_bert_MOVED_to_another_VM_REMOVE_FROM_NOVEMBER/models/bert/FT_bert_base_uncased_after_1890_before_1900_v002', 'layers': '-1,-2,-3,-4', 'pooling_operation': 'mean'}\nDataframe alread contains vectors from bert_1875 settings\n{'path': '/datadrive/khosseini/LM_with_bert_MOVED_to_another_VM_REMOVE_FROM_NOVEMBER/models/bert/FT_bert_base_uncased_after_1850_before_1875_v002', 'layers': '-1,-2,-3,-4', 'pooling_operation': 'mean'}\nDataframe alread contains vectors from bert_1890 settings\n{'path': '/datadrive/khosseini/LM_with_bert_MOVED_to_another_VM_REMOVE_FROM_NOVEMBER/models/bert/FT_bert_base_uncased_after_1875_before_1890_v002', 'layers': '-1,-2,-3,-4', 'pooling_operation': 'mean'}\n"
     ]
    }
   ],
   "source": [
    "\n",
    "quotations_path = \"./data/sfrel_quotations_machine_NN.pickle\"\n",
    "embedding_methods = {'bert_base': {\"path\":'bert-base-uncased',\n",
    "                                   'layers':'-1,-2,-3,-4',\n",
    "                                   'pooling_operation':'mean'},\n",
    "                     'blert': {\"path\":'/deezy_datadrive/kaspar-playground/bert_model/FT_bert_base_uncased_all_books_v002',\n",
    "                                    'layers':'-1,-2,-3,-4',\n",
    "                                    'pooling_operation':'mean'},\n",
    "                     'bert_1850':{\"path\":\"/datadrive/khosseini/LM_with_bert_MOVED_to_another_VM_REMOVE_FROM_NOVEMBER/models/bert/FT_bert_base_uncased_before_1850_v001\", \n",
    "                                    'layers':'-1,-2,-3,-4',\n",
    "                                    'pooling_operation':'mean'},\n",
    "                      'bert_1900': {\"path\":\"/datadrive/khosseini/LM_with_bert_MOVED_to_another_VM_REMOVE_FROM_NOVEMBER/models/bert/FT_bert_base_uncased_after_1890_before_1900_v002\",\n",
    "                                    'layers':'-1,-2,-3,-4',\n",
    "                                    'pooling_operation':'mean'},\n",
    "                      'bert_1875': {\"path\":\"/datadrive/khosseini/LM_with_bert_MOVED_to_another_VM_REMOVE_FROM_NOVEMBER/models/bert/FT_bert_base_uncased_after_1850_before_1875_v002\",\n",
    "                                    'layers':'-1,-2,-3,-4',\n",
    "                                    'pooling_operation':'mean'},\n",
    "                      'bert_1890': {\"path\":\"/datadrive/khosseini/LM_with_bert_MOVED_to_another_VM_REMOVE_FROM_NOVEMBER/models/bert/FT_bert_base_uncased_after_1875_before_1890_v002\",\n",
    "                                    'layers':'-1,-2,-3,-4',\n",
    "                                    'pooling_operation':'mean'}\n",
    "                                    }\n",
    "quotations = vectorize_target_expressions(quotations_path,embedding_methods)"
   ]
  },
  {
   "cell_type": "code",
   "execution_count": 17,
   "metadata": {},
   "outputs": [],
   "source": [
    "# inspect vectorized notebook\n",
    "#df = pd.read_pickle(\"./data/sfrel_quotations_machine_NN.pickle\")\n",
    "#df.head(3)"
   ]
  },
  {
   "source": [
    "# Disambiguation"
   ],
   "cell_type": "markdown",
   "metadata": {}
  },
  {
   "cell_type": "code",
   "execution_count": 18,
   "metadata": {},
   "outputs": [],
   "source": [
    "senses = {'machine_nn01-38475835'} # machine_nn01-38475772 machine_nn01-38475923 machine_nn01-38475835\n",
    "relations = ['seed','synonym'] # ,'descendant','sibling'\n",
    "eval_mode = \"lemma_etal\" # lemma or lemma_etal\n",
    "    "
   ]
  },
  {
   "cell_type": "code",
   "execution_count": 19,
   "metadata": {},
   "outputs": [
    {
     "output_type": "stream",
     "name": "stdout",
     "text": [
      "# senses before filtering by date = 517\n",
      "# senses after filtering by date = 433\n",
      "\n",
      "\n",
      "# of seed senses 26 \n",
      "# of synonyms 383 \n",
      "# of branch senses 0\n",
      "\n",
      "\n",
      "# of seeds selected 1 \n",
      "# of synonyms selected 2 \n",
      "# of branches selected 0\n",
      "[LOG] #rows before removing None vector (200, 25)\n",
      "[LOG] #rows after removing None vector (200, 25)\n"
     ]
    }
   ],
   "source": [
    "df_train, df_val, df_test = binarize(lemma,\n",
    "                        pos,\n",
    "                        senses, \n",
    "                        relations,\n",
    "                        strict_filter=True,\n",
    "                        start=1700,\n",
    "                        end=2000,\n",
    "                        eval_mode=eval_mode)"
   ]
  },
  {
   "cell_type": "code",
   "execution_count": 20,
   "metadata": {},
   "outputs": [
    {
     "output_type": "execute_result",
     "data": {
      "text/plain": [
       "['vector_bert_base_-1,-2,-3,-4_mean',\n",
       " 'vector_blert_-1,-2,-3,-4_mean',\n",
       " 'vector_bert_1850_-1,-2,-3,-4_mean',\n",
       " 'vector_bert_1900_-1,-2,-3,-4_mean',\n",
       " 'vector_bert_1875_-1,-2,-3,-4_mean',\n",
       " 'vector_bert_1890_-1,-2,-3,-4_mean']"
      ]
     },
     "metadata": {},
     "execution_count": 20
    }
   ],
   "source": [
    "vector_cols = [c for c in df_train.columns if c.startswith('vector_')]\n",
    "vector_cols"
   ]
  },
  {
   "source": [
    "# NN Centroids\n",
    "## At the binary level"
   ],
   "cell_type": "markdown",
   "metadata": {}
  },
  {
   "cell_type": "code",
   "execution_count": 32,
   "metadata": {},
   "outputs": [
    {
     "output_type": "display_data",
     "data": {
      "text/plain": "HBox(children=(FloatProgress(value=0.0, max=40.0), HTML(value='')))",
      "application/vnd.jupyter.widget-view+json": {
       "version_major": 2,
       "version_minor": 0,
       "model_id": "bae4940ac891420bac5b721576b91974"
      }
     },
     "metadata": {}
    },
    {
     "output_type": "stream",
     "name": "stdout",
     "text": [
      "\n"
     ]
    },
    {
     "output_type": "execute_result",
     "data": {
      "text/plain": [
       "48     {'0': 0.7059285640716553, '1': 0.6714874505996...\n",
       "130    {'0': 0.8326523900032043, '1': 0.6655467748641...\n",
       "63     {'0': 0.7449042201042175, '1': 0.6406972408294...\n",
       "174    {'0': 0.8456300497055054, '1': 0.6773621439933...\n",
       "102    {'0': 0.783066987991333, '1': 0.5726575255393982}\n",
       "106    {'0': 0.7439876794815063, '1': 0.613545298576355}\n",
       "20     {'0': 0.7295210361480713, '1': 0.5190920829772...\n",
       "194    {'0': 0.5449538230895996, '1': 0.7564820647239...\n",
       "87     {'0': 0.8488082885742188, '1': 0.6256710886955...\n",
       "74     {'0': 0.767792820930481, '1': 0.6032119989395142}\n",
       "107    {'0': 0.7537617683410645, '1': 0.5942295789718...\n",
       "151    {'0': 0.8087915182113647, '1': 0.6156530976295...\n",
       "21     {'0': 0.47864437103271484, '1': 0.445715874433...\n",
       "71     {'0': 0.7876814603805542, '1': 0.6219614744186...\n",
       "149    {'0': 0.8424443006515503, '1': 0.6857035160064...\n",
       "50     {'0': 0.7522538900375366, '1': 0.551125168800354}\n",
       "88     {'0': 0.8726157546043396, '1': 0.7047543525695...\n",
       "157    {'0': 0.6459929347038269, '1': 0.4769995510578...\n",
       "196    {'0': 0.5762050151824951, '1': 0.8349113464355...\n",
       "169    {'0': 0.6873201727867126, '1': 0.780030369758606}\n",
       "129    {'0': 0.8114160299301147, '1': 0.6912371516227...\n",
       "1      {'0': 0.8208754658699036, '1': 0.6260955333709...\n",
       "57     {'0': 0.8142103552818298, '1': 0.6928548216819...\n",
       "195    {'0': 0.6051021814346313, '1': 0.7701727747917...\n",
       "37     {'0': 0.8145075440406799, '1': 0.7036769986152...\n",
       "178    {'0': 0.7152135372161865, '1': 0.5202593803405...\n",
       "58     {'0': 0.7993380427360535, '1': 0.6438336372375...\n",
       "153    {'0': 0.6661866903305054, '1': 0.4592901766300...\n",
       "52     {'0': 0.7276632189750671, '1': 0.5107226371765...\n",
       "14     {'0': 0.8176701664924622, '1': 0.7127077579498...\n",
       "54     {'0': 0.6804677248001099, '1': 0.7254049777984...\n",
       "179    {'0': 0.8408091068267822, '1': 0.6722020506858...\n",
       "181    {'0': 0.7947125434875488, '1': 0.6156722903251...\n",
       "160    {'0': 0.6627612709999084, '1': 0.5805109739303...\n",
       "103    {'0': 0.8499979972839355, '1': 0.699774444103241}\n",
       "99     {'0': 0.7276324033737183, '1': 0.6407626867294...\n",
       "92     {'0': 0.8284319043159485, '1': 0.6736817359924...\n",
       "116     {'0': 0.812501847743988, '1': 0.647746205329895}\n",
       "121    {'0': 0.8265323042869568, '1': 0.6702826619148...\n",
       "189    {'0': 0.6382056474685669, '1': 0.7275217175483...\n",
       "Name: vector_bert_base_-1,-2,-3,-4_mean, dtype: object"
      ]
     },
     "metadata": {},
     "execution_count": 32
    }
   ],
   "source": [
    "\n",
    "vector_type = vector_cols[0]\n",
    "centroid_vectors = df_train.groupby('label')[vector_type].apply(np.mean,axis=0)\n",
    "ranking = df_test[vector_type].progress_apply(wsd.bert_binary_centroid_vector, \n",
    "                                            centroid_vectors = centroid_vectors, \n",
    "                                            return_ranking=True)\n",
    "ranking"
   ]
  },
  {
   "cell_type": "code",
   "execution_count": 35,
   "metadata": {},
   "outputs": [
    {
     "output_type": "display_data",
     "data": {
      "text/plain": "HBox(children=(FloatProgress(value=0.0, max=40.0), HTML(value='')))",
      "application/vnd.jupyter.widget-view+json": {
       "version_major": 2,
       "version_minor": 0,
       "model_id": "e15641e27f9d4d20ab31a2301cd49d4d"
      }
     },
     "metadata": {}
    },
    {
     "output_type": "stream",
     "name": "stdout",
     "text": [
      "\n"
     ]
    },
    {
     "output_type": "execute_result",
     "data": {
      "text/plain": [
       "{'1': [0.5, 1.0, 0.667], '0': [1.0, 0.919, 0.958]}"
      ]
     },
     "metadata": {},
     "execution_count": 35
    }
   ],
   "source": [
    "df_test[f\"bert_nn_polar_{vector_type}\"] = df_test[vector_type].progress_apply(wsd.bert_binary_centroid_vector, centroid_vectors = centroid_vectors)\n",
    "wsd.eval(f\"bert_nn_polar_{vector_type}\",df_test)\n",
    "\n",
    "\n"
   ]
  },
  {
   "source": [
    "## At the sense level"
   ],
   "cell_type": "markdown",
   "metadata": {}
  },
  {
   "cell_type": "code",
   "execution_count": 34,
   "metadata": {},
   "outputs": [
    {
     "output_type": "display_data",
     "data": {
      "text/plain": "HBox(children=(FloatProgress(value=0.0, max=40.0), HTML(value='')))",
      "application/vnd.jupyter.widget-view+json": {
       "version_major": 2,
       "version_minor": 0,
       "model_id": "7f9dd8e5c6f6488b965f7f7ad50dc022"
      }
     },
     "metadata": {}
    },
    {
     "output_type": "stream",
     "name": "stdout",
     "text": [
      "\n"
     ]
    },
    {
     "output_type": "execute_result",
     "data": {
      "text/plain": [
       "48     {'machine_nn01-38473945': 0.6214466691017151, ...\n",
       "130    {'machine_nn01-38473945': 0.7684826850891113, ...\n",
       "63     {'machine_nn01-38473945': 0.775837242603302, '...\n",
       "174    {'machine_nn01-38473945': 0.7939438223838806, ...\n",
       "102    {'machine_nn01-38473945': 0.7643280625343323, ...\n",
       "106    {'machine_nn01-38473945': 0.6512662172317505, ...\n",
       "20     {'machine_nn01-38473945': 0.7022119164466858, ...\n",
       "194    {'biocomputer_nn01-11753021': 0.84155237674713...\n",
       "87     {'machine_nn01-38473945': 0.8075630068778992, ...\n",
       "74     {'machine_nn01-38473945': 0.7278040647506714, ...\n",
       "107    {'machine_nn01-38473945': 0.7061998248100281, ...\n",
       "151    {'machine_nn01-38473945': 0.7496607899665833, ...\n",
       "21     {'machine_nn01-38473945': 0.4506627023220062, ...\n",
       "71     {'machine_nn01-38473945': 0.7351786494255066, ...\n",
       "149    {'machine_nn01-38473945': 0.8068415522575378, ...\n",
       "50     {'machine_nn01-38473945': 0.6794515252113342, ...\n",
       "88     {'machine_nn01-38473945': 0.8464775085449219, ...\n",
       "157    {'machine_nn01-38473945': 0.6005232334136963, ...\n",
       "196    {'turingmachine_nn01-17499756': 0.899671554565...\n",
       "169    {'machine_nn01-38473945': 0.6425294280052185, ...\n",
       "129    {'machine_nn01-38473945': 0.7488153576850891, ...\n",
       "1      {'machine_nn01-38473945': 0.8162479400634766, ...\n",
       "57     {'machine_nn01-38473945': 0.7746890783309937, ...\n",
       "195    {'turingmachine_nn01-17499756': 0.826254606246...\n",
       "37     {'machine_nn01-38473945': 0.7797146439552307, ...\n",
       "178    {'machine_nn01-38473945': 0.6761807799339294, ...\n",
       "58     {'machine_nn01-38473945': 0.7582187652587891, ...\n",
       "153    {'machine_nn01-38473945': 0.6214030385017395, ...\n",
       "52     {'machine_nn01-38473945': 0.6500954627990723, ...\n",
       "14     {'machine_nn01-38473945': 0.7764407396316528, ...\n",
       "54     {'machine_nn01-38473945': 0.6139840483665466, ...\n",
       "179    {'machine_nn01-38473945': 0.8135845065116882, ...\n",
       "181    {'machine_nn01-38473945': 0.7839881777763367, ...\n",
       "160    {'machine_nn01-38473945': 0.6043456792831421, ...\n",
       "103    {'machine_nn01-38473945': 0.8187330365180969, ...\n",
       "99     {'machine_nn01-38473945': 0.688840389251709, '...\n",
       "92     {'machine_nn01-38473945': 0.7611262202262878, ...\n",
       "116    {'machine_nn01-38473945': 0.7664815187454224, ...\n",
       "121    {'machine_nn01-38473945': 0.7742129564285278, ...\n",
       "189    {'biocomputer_nn01-11753021': 0.70242989063262...\n",
       "dtype: object"
      ]
     },
     "metadata": {},
     "execution_count": 34
    }
   ],
   "source": [
    "senseid2label = dict(df_test[['sense_id','label']].values)\n",
    "ranking = df_test.progress_apply(wsd.bert_sense_centroid_vector,  \n",
    "                        senseid2label= senseid2label, return_ranking=True,\n",
    "                        df_train = df_train, axis=1)\n",
    "ranking"
   ]
  },
  {
   "cell_type": "code",
   "execution_count": 33,
   "metadata": {
    "tags": []
   },
   "outputs": [
    {
     "output_type": "display_data",
     "data": {
      "text/plain": "HBox(children=(FloatProgress(value=0.0, max=40.0), HTML(value='')))",
      "application/vnd.jupyter.widget-view+json": {
       "version_major": 2,
       "version_minor": 0,
       "model_id": "8cc8b273244b444fa812e01749decdf0"
      }
     },
     "metadata": {}
    },
    {
     "output_type": "stream",
     "name": "stdout",
     "text": [
      "\n"
     ]
    },
    {
     "output_type": "execute_result",
     "data": {
      "text/plain": [
       "{'1': [0.75, 1.0, 0.857], '0': [1.0, 0.973, 0.986]}"
      ]
     },
     "metadata": {},
     "execution_count": 33
    }
   ],
   "source": [
    "senseid2label = dict(df_test[['sense_id','label']].values)\n",
    "df_test[f\"bert_centroid_sense_{vector_type}\"] = df_test.progress_apply(wsd.bert_sense_centroid_vector,  \n",
    "                        senseid2label= senseid2label,\n",
    "                        df_train = df_train, axis=1)\n",
    "wsd.eval(f\"bert_centroid_sense_{vector_type}\",df_test)"
   ]
  },
  {
   "source": [
    "# SemAxis"
   ],
   "cell_type": "markdown",
   "metadata": {}
  },
  {
   "cell_type": "code",
   "execution_count": 36,
   "metadata": {},
   "outputs": [
    {
     "output_type": "display_data",
     "data": {
      "text/plain": "HBox(children=(FloatProgress(value=0.0, max=32.0), HTML(value='')))",
      "application/vnd.jupyter.widget-view+json": {
       "version_major": 2,
       "version_minor": 0,
       "model_id": "45c972a04ac843d8a00b02c9ea561a25"
      }
     },
     "metadata": {}
    },
    {
     "output_type": "stream",
     "name": "stdout",
     "text": [
      "\n"
     ]
    }
   ],
   "source": [
    "vector_type = vector_cols[0]\n",
    "centroid_vectors = df_train.groupby('label')[vector_type].apply(np.mean,axis=0)\n",
    "sem_axis = centroid_vectors[1] - centroid_vectors[0] \n",
    "sims = df_val[vector_type].progress_apply(wsd.bert_semaxis_vector, sem_axis=sem_axis, return_ranking=True)"
   ]
  },
  {
   "cell_type": "code",
   "execution_count": 41,
   "metadata": {},
   "outputs": [
    {
     "output_type": "execute_result",
     "data": {
      "text/plain": [
       "<matplotlib.axes._subplots.AxesSubplot at 0x7fc853bfa5d0>"
      ]
     },
     "metadata": {},
     "execution_count": 41
    },
    {
     "output_type": "display_data",
     "data": {
      "text/plain": "<Figure size 432x288 with 1 Axes>",
      "image/svg+xml": "<?xml version=\"1.0\" encoding=\"utf-8\" standalone=\"no\"?>\n<!DOCTYPE svg PUBLIC \"-//W3C//DTD SVG 1.1//EN\"\n  \"http://www.w3.org/Graphics/SVG/1.1/DTD/svg11.dtd\">\n<!-- Created with matplotlib (https://matplotlib.org/) -->\n<svg height=\"248.518125pt\" version=\"1.1\" viewBox=\"0 0 376.240625 248.518125\" width=\"376.240625pt\" xmlns=\"http://www.w3.org/2000/svg\" xmlns:xlink=\"http://www.w3.org/1999/xlink\">\n <defs>\n  <style type=\"text/css\">\n*{stroke-linecap:butt;stroke-linejoin:round;}\n  </style>\n </defs>\n <g id=\"figure_1\">\n  <g id=\"patch_1\">\n   <path d=\"M 0 248.518125 \nL 376.240625 248.518125 \nL 376.240625 0 \nL 0 0 \nz\n\" style=\"fill:none;\"/>\n  </g>\n  <g id=\"axes_1\">\n   <g id=\"patch_2\">\n    <path d=\"M 34.240625 224.64 \nL 369.040625 224.64 \nL 369.040625 7.2 \nL 34.240625 7.2 \nz\n\" style=\"fill:#ffffff;\"/>\n   </g>\n   <g id=\"matplotlib.axis_1\">\n    <g id=\"xtick_1\">\n     <g id=\"line2d_1\">\n      <defs>\n       <path d=\"M 0 0 \nL 0 3.5 \n\" id=\"mc18f2da6de\" style=\"stroke:#000000;stroke-width:0.8;\"/>\n      </defs>\n      <g>\n       <use style=\"stroke:#000000;stroke-width:0.8;\" x=\"57.894297\" xlink:href=\"#mc18f2da6de\" y=\"224.64\"/>\n      </g>\n     </g>\n     <g id=\"text_1\">\n      <!-- −0.5 -->\n      <defs>\n       <path d=\"M 10.59375 35.5 \nL 73.1875 35.5 \nL 73.1875 27.203125 \nL 10.59375 27.203125 \nz\n\" id=\"DejaVuSans-8722\"/>\n       <path d=\"M 31.78125 66.40625 \nQ 24.171875 66.40625 20.328125 58.90625 \nQ 16.5 51.421875 16.5 36.375 \nQ 16.5 21.390625 20.328125 13.890625 \nQ 24.171875 6.390625 31.78125 6.390625 \nQ 39.453125 6.390625 43.28125 13.890625 \nQ 47.125 21.390625 47.125 36.375 \nQ 47.125 51.421875 43.28125 58.90625 \nQ 39.453125 66.40625 31.78125 66.40625 \nz\nM 31.78125 74.21875 \nQ 44.046875 74.21875 50.515625 64.515625 \nQ 56.984375 54.828125 56.984375 36.375 \nQ 56.984375 17.96875 50.515625 8.265625 \nQ 44.046875 -1.421875 31.78125 -1.421875 \nQ 19.53125 -1.421875 13.0625 8.265625 \nQ 6.59375 17.96875 6.59375 36.375 \nQ 6.59375 54.828125 13.0625 64.515625 \nQ 19.53125 74.21875 31.78125 74.21875 \nz\n\" id=\"DejaVuSans-48\"/>\n       <path d=\"M 10.6875 12.40625 \nL 21 12.40625 \nL 21 0 \nL 10.6875 0 \nz\n\" id=\"DejaVuSans-46\"/>\n       <path d=\"M 10.796875 72.90625 \nL 49.515625 72.90625 \nL 49.515625 64.59375 \nL 19.828125 64.59375 \nL 19.828125 46.734375 \nQ 21.96875 47.46875 24.109375 47.828125 \nQ 26.265625 48.1875 28.421875 48.1875 \nQ 40.625 48.1875 47.75 41.5 \nQ 54.890625 34.8125 54.890625 23.390625 \nQ 54.890625 11.625 47.5625 5.09375 \nQ 40.234375 -1.421875 26.90625 -1.421875 \nQ 22.3125 -1.421875 17.546875 -0.640625 \nQ 12.796875 0.140625 7.71875 1.703125 \nL 7.71875 11.625 \nQ 12.109375 9.234375 16.796875 8.0625 \nQ 21.484375 6.890625 26.703125 6.890625 \nQ 35.15625 6.890625 40.078125 11.328125 \nQ 45.015625 15.765625 45.015625 23.390625 \nQ 45.015625 31 40.078125 35.4375 \nQ 35.15625 39.890625 26.703125 39.890625 \nQ 22.75 39.890625 18.8125 39.015625 \nQ 14.890625 38.140625 10.796875 36.28125 \nz\n\" id=\"DejaVuSans-53\"/>\n      </defs>\n      <g transform=\"translate(45.752891 239.238438)scale(0.1 -0.1)\">\n       <use xlink:href=\"#DejaVuSans-8722\"/>\n       <use x=\"83.789062\" xlink:href=\"#DejaVuSans-48\"/>\n       <use x=\"147.412109\" xlink:href=\"#DejaVuSans-46\"/>\n       <use x=\"179.199219\" xlink:href=\"#DejaVuSans-53\"/>\n      </g>\n     </g>\n    </g>\n    <g id=\"xtick_2\">\n     <g id=\"line2d_2\">\n      <g>\n       <use style=\"stroke:#000000;stroke-width:0.8;\" x=\"114.304814\" xlink:href=\"#mc18f2da6de\" y=\"224.64\"/>\n      </g>\n     </g>\n     <g id=\"text_2\">\n      <!-- −0.4 -->\n      <defs>\n       <path d=\"M 37.796875 64.3125 \nL 12.890625 25.390625 \nL 37.796875 25.390625 \nz\nM 35.203125 72.90625 \nL 47.609375 72.90625 \nL 47.609375 25.390625 \nL 58.015625 25.390625 \nL 58.015625 17.1875 \nL 47.609375 17.1875 \nL 47.609375 0 \nL 37.796875 0 \nL 37.796875 17.1875 \nL 4.890625 17.1875 \nL 4.890625 26.703125 \nz\n\" id=\"DejaVuSans-52\"/>\n      </defs>\n      <g transform=\"translate(102.163408 239.238438)scale(0.1 -0.1)\">\n       <use xlink:href=\"#DejaVuSans-8722\"/>\n       <use x=\"83.789062\" xlink:href=\"#DejaVuSans-48\"/>\n       <use x=\"147.412109\" xlink:href=\"#DejaVuSans-46\"/>\n       <use x=\"179.199219\" xlink:href=\"#DejaVuSans-52\"/>\n      </g>\n     </g>\n    </g>\n    <g id=\"xtick_3\">\n     <g id=\"line2d_3\">\n      <g>\n       <use style=\"stroke:#000000;stroke-width:0.8;\" x=\"170.715331\" xlink:href=\"#mc18f2da6de\" y=\"224.64\"/>\n      </g>\n     </g>\n     <g id=\"text_3\">\n      <!-- −0.3 -->\n      <defs>\n       <path d=\"M 40.578125 39.3125 \nQ 47.65625 37.796875 51.625 33 \nQ 55.609375 28.21875 55.609375 21.1875 \nQ 55.609375 10.40625 48.1875 4.484375 \nQ 40.765625 -1.421875 27.09375 -1.421875 \nQ 22.515625 -1.421875 17.65625 -0.515625 \nQ 12.796875 0.390625 7.625 2.203125 \nL 7.625 11.71875 \nQ 11.71875 9.328125 16.59375 8.109375 \nQ 21.484375 6.890625 26.8125 6.890625 \nQ 36.078125 6.890625 40.9375 10.546875 \nQ 45.796875 14.203125 45.796875 21.1875 \nQ 45.796875 27.640625 41.28125 31.265625 \nQ 36.765625 34.90625 28.71875 34.90625 \nL 20.21875 34.90625 \nL 20.21875 43.015625 \nL 29.109375 43.015625 \nQ 36.375 43.015625 40.234375 45.921875 \nQ 44.09375 48.828125 44.09375 54.296875 \nQ 44.09375 59.90625 40.109375 62.90625 \nQ 36.140625 65.921875 28.71875 65.921875 \nQ 24.65625 65.921875 20.015625 65.03125 \nQ 15.375 64.15625 9.8125 62.3125 \nL 9.8125 71.09375 \nQ 15.4375 72.65625 20.34375 73.4375 \nQ 25.25 74.21875 29.59375 74.21875 \nQ 40.828125 74.21875 47.359375 69.109375 \nQ 53.90625 64.015625 53.90625 55.328125 \nQ 53.90625 49.265625 50.4375 45.09375 \nQ 46.96875 40.921875 40.578125 39.3125 \nz\n\" id=\"DejaVuSans-51\"/>\n      </defs>\n      <g transform=\"translate(158.573925 239.238438)scale(0.1 -0.1)\">\n       <use xlink:href=\"#DejaVuSans-8722\"/>\n       <use x=\"83.789062\" xlink:href=\"#DejaVuSans-48\"/>\n       <use x=\"147.412109\" xlink:href=\"#DejaVuSans-46\"/>\n       <use x=\"179.199219\" xlink:href=\"#DejaVuSans-51\"/>\n      </g>\n     </g>\n    </g>\n    <g id=\"xtick_4\">\n     <g id=\"line2d_4\">\n      <g>\n       <use style=\"stroke:#000000;stroke-width:0.8;\" x=\"227.125848\" xlink:href=\"#mc18f2da6de\" y=\"224.64\"/>\n      </g>\n     </g>\n     <g id=\"text_4\">\n      <!-- −0.2 -->\n      <defs>\n       <path d=\"M 19.1875 8.296875 \nL 53.609375 8.296875 \nL 53.609375 0 \nL 7.328125 0 \nL 7.328125 8.296875 \nQ 12.9375 14.109375 22.625 23.890625 \nQ 32.328125 33.6875 34.8125 36.53125 \nQ 39.546875 41.84375 41.421875 45.53125 \nQ 43.3125 49.21875 43.3125 52.78125 \nQ 43.3125 58.59375 39.234375 62.25 \nQ 35.15625 65.921875 28.609375 65.921875 \nQ 23.96875 65.921875 18.8125 64.3125 \nQ 13.671875 62.703125 7.8125 59.421875 \nL 7.8125 69.390625 \nQ 13.765625 71.78125 18.9375 73 \nQ 24.125 74.21875 28.421875 74.21875 \nQ 39.75 74.21875 46.484375 68.546875 \nQ 53.21875 62.890625 53.21875 53.421875 \nQ 53.21875 48.921875 51.53125 44.890625 \nQ 49.859375 40.875 45.40625 35.40625 \nQ 44.1875 33.984375 37.640625 27.21875 \nQ 31.109375 20.453125 19.1875 8.296875 \nz\n\" id=\"DejaVuSans-50\"/>\n      </defs>\n      <g transform=\"translate(214.984441 239.238438)scale(0.1 -0.1)\">\n       <use xlink:href=\"#DejaVuSans-8722\"/>\n       <use x=\"83.789062\" xlink:href=\"#DejaVuSans-48\"/>\n       <use x=\"147.412109\" xlink:href=\"#DejaVuSans-46\"/>\n       <use x=\"179.199219\" xlink:href=\"#DejaVuSans-50\"/>\n      </g>\n     </g>\n    </g>\n    <g id=\"xtick_5\">\n     <g id=\"line2d_5\">\n      <g>\n       <use style=\"stroke:#000000;stroke-width:0.8;\" x=\"283.536364\" xlink:href=\"#mc18f2da6de\" y=\"224.64\"/>\n      </g>\n     </g>\n     <g id=\"text_5\">\n      <!-- −0.1 -->\n      <defs>\n       <path d=\"M 12.40625 8.296875 \nL 28.515625 8.296875 \nL 28.515625 63.921875 \nL 10.984375 60.40625 \nL 10.984375 69.390625 \nL 28.421875 72.90625 \nL 38.28125 72.90625 \nL 38.28125 8.296875 \nL 54.390625 8.296875 \nL 54.390625 0 \nL 12.40625 0 \nz\n\" id=\"DejaVuSans-49\"/>\n      </defs>\n      <g transform=\"translate(271.394958 239.238438)scale(0.1 -0.1)\">\n       <use xlink:href=\"#DejaVuSans-8722\"/>\n       <use x=\"83.789062\" xlink:href=\"#DejaVuSans-48\"/>\n       <use x=\"147.412109\" xlink:href=\"#DejaVuSans-46\"/>\n       <use x=\"179.199219\" xlink:href=\"#DejaVuSans-49\"/>\n      </g>\n     </g>\n    </g>\n    <g id=\"xtick_6\">\n     <g id=\"line2d_6\">\n      <g>\n       <use style=\"stroke:#000000;stroke-width:0.8;\" x=\"339.946881\" xlink:href=\"#mc18f2da6de\" y=\"224.64\"/>\n      </g>\n     </g>\n     <g id=\"text_6\">\n      <!-- 0.0 -->\n      <g transform=\"translate(331.995319 239.238438)scale(0.1 -0.1)\">\n       <use xlink:href=\"#DejaVuSans-48\"/>\n       <use x=\"63.623047\" xlink:href=\"#DejaVuSans-46\"/>\n       <use x=\"95.410156\" xlink:href=\"#DejaVuSans-48\"/>\n      </g>\n     </g>\n    </g>\n   </g>\n   <g id=\"matplotlib.axis_2\">\n    <g id=\"ytick_1\">\n     <g id=\"line2d_7\">\n      <defs>\n       <path d=\"M 0 0 \nL -3.5 0 \n\" id=\"md10c948762\" style=\"stroke:#000000;stroke-width:0.8;\"/>\n      </defs>\n      <g>\n       <use style=\"stroke:#000000;stroke-width:0.8;\" x=\"34.240625\" xlink:href=\"#md10c948762\" y=\"214.760689\"/>\n      </g>\n     </g>\n     <g id=\"text_7\">\n      <!-- 0 -->\n      <g transform=\"translate(20.878125 218.559907)scale(0.1 -0.1)\">\n       <use xlink:href=\"#DejaVuSans-48\"/>\n      </g>\n     </g>\n    </g>\n    <g id=\"ytick_2\">\n     <g id=\"line2d_8\">\n      <g>\n       <use style=\"stroke:#000000;stroke-width:0.8;\" x=\"34.240625\" xlink:href=\"#md10c948762\" y=\"183.231832\"/>\n      </g>\n     </g>\n     <g id=\"text_8\">\n      <!-- 1 -->\n      <g transform=\"translate(20.878125 187.031051)scale(0.1 -0.1)\">\n       <use xlink:href=\"#DejaVuSans-49\"/>\n      </g>\n     </g>\n    </g>\n    <g id=\"ytick_3\">\n     <g id=\"line2d_9\">\n      <g>\n       <use style=\"stroke:#000000;stroke-width:0.8;\" x=\"34.240625\" xlink:href=\"#md10c948762\" y=\"151.702976\"/>\n      </g>\n     </g>\n     <g id=\"text_9\">\n      <!-- 2 -->\n      <g transform=\"translate(20.878125 155.502194)scale(0.1 -0.1)\">\n       <use xlink:href=\"#DejaVuSans-50\"/>\n      </g>\n     </g>\n    </g>\n    <g id=\"ytick_4\">\n     <g id=\"line2d_10\">\n      <g>\n       <use style=\"stroke:#000000;stroke-width:0.8;\" x=\"34.240625\" xlink:href=\"#md10c948762\" y=\"120.174119\"/>\n      </g>\n     </g>\n     <g id=\"text_10\">\n      <!-- 3 -->\n      <g transform=\"translate(20.878125 123.973338)scale(0.1 -0.1)\">\n       <use xlink:href=\"#DejaVuSans-51\"/>\n      </g>\n     </g>\n    </g>\n    <g id=\"ytick_5\">\n     <g id=\"line2d_11\">\n      <g>\n       <use style=\"stroke:#000000;stroke-width:0.8;\" x=\"34.240625\" xlink:href=\"#md10c948762\" y=\"88.645262\"/>\n      </g>\n     </g>\n     <g id=\"text_11\">\n      <!-- 4 -->\n      <g transform=\"translate(20.878125 92.444481)scale(0.1 -0.1)\">\n       <use xlink:href=\"#DejaVuSans-52\"/>\n      </g>\n     </g>\n    </g>\n    <g id=\"ytick_6\">\n     <g id=\"line2d_12\">\n      <g>\n       <use style=\"stroke:#000000;stroke-width:0.8;\" x=\"34.240625\" xlink:href=\"#md10c948762\" y=\"57.116406\"/>\n      </g>\n     </g>\n     <g id=\"text_12\">\n      <!-- 5 -->\n      <g transform=\"translate(20.878125 60.915625)scale(0.1 -0.1)\">\n       <use xlink:href=\"#DejaVuSans-53\"/>\n      </g>\n     </g>\n    </g>\n    <g id=\"ytick_7\">\n     <g id=\"line2d_13\">\n      <g>\n       <use style=\"stroke:#000000;stroke-width:0.8;\" x=\"34.240625\" xlink:href=\"#md10c948762\" y=\"25.587549\"/>\n      </g>\n     </g>\n     <g id=\"text_13\">\n      <!-- 6 -->\n      <defs>\n       <path d=\"M 33.015625 40.375 \nQ 26.375 40.375 22.484375 35.828125 \nQ 18.609375 31.296875 18.609375 23.390625 \nQ 18.609375 15.53125 22.484375 10.953125 \nQ 26.375 6.390625 33.015625 6.390625 \nQ 39.65625 6.390625 43.53125 10.953125 \nQ 47.40625 15.53125 47.40625 23.390625 \nQ 47.40625 31.296875 43.53125 35.828125 \nQ 39.65625 40.375 33.015625 40.375 \nz\nM 52.59375 71.296875 \nL 52.59375 62.3125 \nQ 48.875 64.0625 45.09375 64.984375 \nQ 41.3125 65.921875 37.59375 65.921875 \nQ 27.828125 65.921875 22.671875 59.328125 \nQ 17.53125 52.734375 16.796875 39.40625 \nQ 19.671875 43.65625 24.015625 45.921875 \nQ 28.375 48.1875 33.59375 48.1875 \nQ 44.578125 48.1875 50.953125 41.515625 \nQ 57.328125 34.859375 57.328125 23.390625 \nQ 57.328125 12.15625 50.6875 5.359375 \nQ 44.046875 -1.421875 33.015625 -1.421875 \nQ 20.359375 -1.421875 13.671875 8.265625 \nQ 6.984375 17.96875 6.984375 36.375 \nQ 6.984375 53.65625 15.1875 63.9375 \nQ 23.390625 74.21875 37.203125 74.21875 \nQ 40.921875 74.21875 44.703125 73.484375 \nQ 48.484375 72.75 52.59375 71.296875 \nz\n\" id=\"DejaVuSans-54\"/>\n      </defs>\n      <g transform=\"translate(20.878125 29.386768)scale(0.1 -0.1)\">\n       <use xlink:href=\"#DejaVuSans-54\"/>\n      </g>\n     </g>\n    </g>\n    <g id=\"text_14\">\n     <!-- Density -->\n     <defs>\n      <path d=\"M 19.671875 64.796875 \nL 19.671875 8.109375 \nL 31.59375 8.109375 \nQ 46.6875 8.109375 53.6875 14.9375 \nQ 60.6875 21.78125 60.6875 36.53125 \nQ 60.6875 51.171875 53.6875 57.984375 \nQ 46.6875 64.796875 31.59375 64.796875 \nz\nM 9.8125 72.90625 \nL 30.078125 72.90625 \nQ 51.265625 72.90625 61.171875 64.09375 \nQ 71.09375 55.28125 71.09375 36.53125 \nQ 71.09375 17.671875 61.125 8.828125 \nQ 51.171875 0 30.078125 0 \nL 9.8125 0 \nz\n\" id=\"DejaVuSans-68\"/>\n      <path d=\"M 56.203125 29.59375 \nL 56.203125 25.203125 \nL 14.890625 25.203125 \nQ 15.484375 15.921875 20.484375 11.0625 \nQ 25.484375 6.203125 34.421875 6.203125 \nQ 39.59375 6.203125 44.453125 7.46875 \nQ 49.3125 8.734375 54.109375 11.28125 \nL 54.109375 2.78125 \nQ 49.265625 0.734375 44.1875 -0.34375 \nQ 39.109375 -1.421875 33.890625 -1.421875 \nQ 20.796875 -1.421875 13.15625 6.1875 \nQ 5.515625 13.8125 5.515625 26.8125 \nQ 5.515625 40.234375 12.765625 48.109375 \nQ 20.015625 56 32.328125 56 \nQ 43.359375 56 49.78125 48.890625 \nQ 56.203125 41.796875 56.203125 29.59375 \nz\nM 47.21875 32.234375 \nQ 47.125 39.59375 43.09375 43.984375 \nQ 39.0625 48.390625 32.421875 48.390625 \nQ 24.90625 48.390625 20.390625 44.140625 \nQ 15.875 39.890625 15.1875 32.171875 \nz\n\" id=\"DejaVuSans-101\"/>\n      <path d=\"M 54.890625 33.015625 \nL 54.890625 0 \nL 45.90625 0 \nL 45.90625 32.71875 \nQ 45.90625 40.484375 42.875 44.328125 \nQ 39.84375 48.1875 33.796875 48.1875 \nQ 26.515625 48.1875 22.3125 43.546875 \nQ 18.109375 38.921875 18.109375 30.90625 \nL 18.109375 0 \nL 9.078125 0 \nL 9.078125 54.6875 \nL 18.109375 54.6875 \nL 18.109375 46.1875 \nQ 21.34375 51.125 25.703125 53.5625 \nQ 30.078125 56 35.796875 56 \nQ 45.21875 56 50.046875 50.171875 \nQ 54.890625 44.34375 54.890625 33.015625 \nz\n\" id=\"DejaVuSans-110\"/>\n      <path d=\"M 44.28125 53.078125 \nL 44.28125 44.578125 \nQ 40.484375 46.53125 36.375 47.5 \nQ 32.28125 48.484375 27.875 48.484375 \nQ 21.1875 48.484375 17.84375 46.4375 \nQ 14.5 44.390625 14.5 40.28125 \nQ 14.5 37.15625 16.890625 35.375 \nQ 19.28125 33.59375 26.515625 31.984375 \nL 29.59375 31.296875 \nQ 39.15625 29.25 43.1875 25.515625 \nQ 47.21875 21.78125 47.21875 15.09375 \nQ 47.21875 7.46875 41.1875 3.015625 \nQ 35.15625 -1.421875 24.609375 -1.421875 \nQ 20.21875 -1.421875 15.453125 -0.5625 \nQ 10.6875 0.296875 5.421875 2 \nL 5.421875 11.28125 \nQ 10.40625 8.6875 15.234375 7.390625 \nQ 20.0625 6.109375 24.8125 6.109375 \nQ 31.15625 6.109375 34.5625 8.28125 \nQ 37.984375 10.453125 37.984375 14.40625 \nQ 37.984375 18.0625 35.515625 20.015625 \nQ 33.0625 21.96875 24.703125 23.78125 \nL 21.578125 24.515625 \nQ 13.234375 26.265625 9.515625 29.90625 \nQ 5.8125 33.546875 5.8125 39.890625 \nQ 5.8125 47.609375 11.28125 51.796875 \nQ 16.75 56 26.8125 56 \nQ 31.78125 56 36.171875 55.265625 \nQ 40.578125 54.546875 44.28125 53.078125 \nz\n\" id=\"DejaVuSans-115\"/>\n      <path d=\"M 9.421875 54.6875 \nL 18.40625 54.6875 \nL 18.40625 0 \nL 9.421875 0 \nz\nM 9.421875 75.984375 \nL 18.40625 75.984375 \nL 18.40625 64.59375 \nL 9.421875 64.59375 \nz\n\" id=\"DejaVuSans-105\"/>\n      <path d=\"M 18.3125 70.21875 \nL 18.3125 54.6875 \nL 36.8125 54.6875 \nL 36.8125 47.703125 \nL 18.3125 47.703125 \nL 18.3125 18.015625 \nQ 18.3125 11.328125 20.140625 9.421875 \nQ 21.96875 7.515625 27.59375 7.515625 \nL 36.8125 7.515625 \nL 36.8125 0 \nL 27.59375 0 \nQ 17.1875 0 13.234375 3.875 \nQ 9.28125 7.765625 9.28125 18.015625 \nL 9.28125 47.703125 \nL 2.6875 47.703125 \nL 2.6875 54.6875 \nL 9.28125 54.6875 \nL 9.28125 70.21875 \nz\n\" id=\"DejaVuSans-116\"/>\n      <path d=\"M 32.171875 -5.078125 \nQ 28.375 -14.84375 24.75 -17.8125 \nQ 21.140625 -20.796875 15.09375 -20.796875 \nL 7.90625 -20.796875 \nL 7.90625 -13.28125 \nL 13.1875 -13.28125 \nQ 16.890625 -13.28125 18.9375 -11.515625 \nQ 21 -9.765625 23.484375 -3.21875 \nL 25.09375 0.875 \nL 2.984375 54.6875 \nL 12.5 54.6875 \nL 29.59375 11.921875 \nL 46.6875 54.6875 \nL 56.203125 54.6875 \nz\n\" id=\"DejaVuSans-121\"/>\n     </defs>\n     <g transform=\"translate(14.798437 134.928594)rotate(-90)scale(0.1 -0.1)\">\n      <use xlink:href=\"#DejaVuSans-68\"/>\n      <use x=\"77.001953\" xlink:href=\"#DejaVuSans-101\"/>\n      <use x=\"138.525391\" xlink:href=\"#DejaVuSans-110\"/>\n      <use x=\"201.904297\" xlink:href=\"#DejaVuSans-115\"/>\n      <use x=\"254.003906\" xlink:href=\"#DejaVuSans-105\"/>\n      <use x=\"281.787109\" xlink:href=\"#DejaVuSans-116\"/>\n      <use x=\"320.996094\" xlink:href=\"#DejaVuSans-121\"/>\n     </g>\n    </g>\n   </g>\n   <g id=\"line2d_14\">\n    <path clip-path=\"url(#pca1858936a)\" d=\"M 49.458807 214.751638 \nL 63.778217 214.613 \nL 69.871583 214.350909 \nL 74.441608 213.935407 \nL 78.097627 213.372531 \nL 81.144311 212.676777 \nL 83.886325 211.819075 \nL 86.323672 210.830007 \nL 88.761018 209.589106 \nL 90.893696 208.268345 \nL 93.026374 206.705085 \nL 95.159053 204.880791 \nL 97.291731 202.781994 \nL 99.729077 200.038761 \nL 102.166424 196.930783 \nL 104.60377 193.476029 \nL 107.345785 189.21832 \nL 110.697136 183.586315 \nL 115.876497 174.358831 \nL 121.665195 164.128372 \nL 125.321215 158.128101 \nL 128.367898 153.532977 \nL 131.414581 149.326032 \nL 134.765932 145.089869 \nL 139.640625 139.353904 \nL 144.21065 133.87884 \nL 146.952664 130.261312 \nL 149.390011 126.691534 \nL 151.827357 122.692775 \nL 153.960035 118.781397 \nL 156.092713 114.44372 \nL 158.53006 108.932513 \nL 160.967406 102.81892 \nL 163.404753 96.119412 \nL 166.146768 87.943592 \nL 169.498119 77.207216 \nL 175.896153 55.684622 \nL 179.552173 43.853768 \nL 181.989519 36.636817 \nL 184.122197 30.983823 \nL 185.950207 26.75569 \nL 187.473549 23.739062 \nL 188.99689 21.235967 \nL 190.215564 19.632861 \nL 191.434237 18.40596 \nL 192.348242 17.74263 \nL 193.262247 17.305861 \nL 194.176252 17.100208 \nL 195.090256 17.129058 \nL 196.004261 17.394583 \nL 196.918266 17.897715 \nL 197.832271 18.63812 \nL 198.746276 19.614198 \nL 199.964949 21.2771 \nL 201.183623 23.34349 \nL 202.706964 26.472103 \nL 204.230306 30.173516 \nL 206.058315 35.309538 \nL 207.886325 41.118835 \nL 210.019003 48.612747 \nL 212.761018 59.111631 \nL 217.026374 76.514737 \nL 222.510404 98.79778 \nL 225.557087 110.285125 \nL 228.299102 119.746399 \nL 230.736448 127.339385 \nL 232.869126 133.309239 \nL 235.001804 138.641358 \nL 237.134482 143.350119 \nL 239.267161 147.468638 \nL 241.399839 151.045314 \nL 243.532517 154.140135 \nL 245.665195 156.820943 \nL 247.797873 159.159814 \nL 250.23522 161.50759 \nL 253.281903 164.107494 \nL 258.461264 168.151772 \nL 263.640625 172.288119 \nL 267.601313 175.7477 \nL 271.562001 179.512139 \nL 276.436694 184.483467 \nL 288.318758 196.769101 \nL 291.974777 200.156378 \nL 295.326129 202.960683 \nL 298.372812 205.223944 \nL 301.419495 207.197699 \nL 304.16151 208.724261 \nL 306.903524 210.020911 \nL 309.950207 211.208525 \nL 312.99689 212.154758 \nL 316.348242 212.953489 \nL 320.004261 213.585314 \nL 324.269618 214.078192 \nL 329.448979 214.429069 \nL 336.151682 214.643087 \nL 347.424409 214.744939 \nL 353.822443 214.756364 \nL 353.822443 214.756364 \n\" style=\"fill:none;stroke:#1f77b4;stroke-linecap:square;stroke-width:1.5;\"/>\n   </g>\n   <g id=\"patch_3\">\n    <path d=\"M 34.240625 224.64 \nL 34.240625 7.2 \n\" style=\"fill:none;stroke:#000000;stroke-linecap:square;stroke-linejoin:miter;stroke-width:0.8;\"/>\n   </g>\n   <g id=\"patch_4\">\n    <path d=\"M 369.040625 224.64 \nL 369.040625 7.2 \n\" style=\"fill:none;stroke:#000000;stroke-linecap:square;stroke-linejoin:miter;stroke-width:0.8;\"/>\n   </g>\n   <g id=\"patch_5\">\n    <path d=\"M 34.240625 224.64 \nL 369.040625 224.64 \n\" style=\"fill:none;stroke:#000000;stroke-linecap:square;stroke-linejoin:miter;stroke-width:0.8;\"/>\n   </g>\n   <g id=\"patch_6\">\n    <path d=\"M 34.240625 7.2 \nL 369.040625 7.2 \n\" style=\"fill:none;stroke:#000000;stroke-linecap:square;stroke-linejoin:miter;stroke-width:0.8;\"/>\n   </g>\n   <g id=\"legend_1\">\n    <g id=\"patch_7\">\n     <path d=\"M 156.173438 124.898125 \nL 362.040625 124.898125 \nQ 364.040625 124.898125 364.040625 122.898125 \nL 364.040625 108.941875 \nQ 364.040625 106.941875 362.040625 106.941875 \nL 156.173438 106.941875 \nQ 154.173438 106.941875 154.173438 108.941875 \nL 154.173438 122.898125 \nQ 154.173438 124.898125 156.173438 124.898125 \nz\n\" style=\"fill:#ffffff;opacity:0.8;stroke:#cccccc;stroke-linejoin:miter;\"/>\n    </g>\n    <g id=\"line2d_15\">\n     <path d=\"M 158.173438 115.040312 \nL 178.173438 115.040312 \n\" style=\"fill:none;stroke:#1f77b4;stroke-linecap:square;stroke-width:1.5;\"/>\n    </g>\n    <g id=\"line2d_16\"/>\n    <g id=\"text_15\">\n     <!-- vector_bert_base_-1,-2,-3,-4_mean -->\n     <defs>\n      <path d=\"M 2.984375 54.6875 \nL 12.5 54.6875 \nL 29.59375 8.796875 \nL 46.6875 54.6875 \nL 56.203125 54.6875 \nL 35.6875 0 \nL 23.484375 0 \nz\n\" id=\"DejaVuSans-118\"/>\n      <path d=\"M 48.78125 52.59375 \nL 48.78125 44.1875 \nQ 44.96875 46.296875 41.140625 47.34375 \nQ 37.3125 48.390625 33.40625 48.390625 \nQ 24.65625 48.390625 19.8125 42.84375 \nQ 14.984375 37.3125 14.984375 27.296875 \nQ 14.984375 17.28125 19.8125 11.734375 \nQ 24.65625 6.203125 33.40625 6.203125 \nQ 37.3125 6.203125 41.140625 7.25 \nQ 44.96875 8.296875 48.78125 10.40625 \nL 48.78125 2.09375 \nQ 45.015625 0.34375 40.984375 -0.53125 \nQ 36.96875 -1.421875 32.421875 -1.421875 \nQ 20.0625 -1.421875 12.78125 6.34375 \nQ 5.515625 14.109375 5.515625 27.296875 \nQ 5.515625 40.671875 12.859375 48.328125 \nQ 20.21875 56 33.015625 56 \nQ 37.15625 56 41.109375 55.140625 \nQ 45.0625 54.296875 48.78125 52.59375 \nz\n\" id=\"DejaVuSans-99\"/>\n      <path d=\"M 30.609375 48.390625 \nQ 23.390625 48.390625 19.1875 42.75 \nQ 14.984375 37.109375 14.984375 27.296875 \nQ 14.984375 17.484375 19.15625 11.84375 \nQ 23.34375 6.203125 30.609375 6.203125 \nQ 37.796875 6.203125 41.984375 11.859375 \nQ 46.1875 17.53125 46.1875 27.296875 \nQ 46.1875 37.015625 41.984375 42.703125 \nQ 37.796875 48.390625 30.609375 48.390625 \nz\nM 30.609375 56 \nQ 42.328125 56 49.015625 48.375 \nQ 55.71875 40.765625 55.71875 27.296875 \nQ 55.71875 13.875 49.015625 6.21875 \nQ 42.328125 -1.421875 30.609375 -1.421875 \nQ 18.84375 -1.421875 12.171875 6.21875 \nQ 5.515625 13.875 5.515625 27.296875 \nQ 5.515625 40.765625 12.171875 48.375 \nQ 18.84375 56 30.609375 56 \nz\n\" id=\"DejaVuSans-111\"/>\n      <path d=\"M 41.109375 46.296875 \nQ 39.59375 47.171875 37.8125 47.578125 \nQ 36.03125 48 33.890625 48 \nQ 26.265625 48 22.1875 43.046875 \nQ 18.109375 38.09375 18.109375 28.8125 \nL 18.109375 0 \nL 9.078125 0 \nL 9.078125 54.6875 \nL 18.109375 54.6875 \nL 18.109375 46.1875 \nQ 20.953125 51.171875 25.484375 53.578125 \nQ 30.03125 56 36.53125 56 \nQ 37.453125 56 38.578125 55.875 \nQ 39.703125 55.765625 41.0625 55.515625 \nz\n\" id=\"DejaVuSans-114\"/>\n      <path d=\"M 50.984375 -16.609375 \nL 50.984375 -23.578125 \nL -0.984375 -23.578125 \nL -0.984375 -16.609375 \nz\n\" id=\"DejaVuSans-95\"/>\n      <path d=\"M 48.6875 27.296875 \nQ 48.6875 37.203125 44.609375 42.84375 \nQ 40.53125 48.484375 33.40625 48.484375 \nQ 26.265625 48.484375 22.1875 42.84375 \nQ 18.109375 37.203125 18.109375 27.296875 \nQ 18.109375 17.390625 22.1875 11.75 \nQ 26.265625 6.109375 33.40625 6.109375 \nQ 40.53125 6.109375 44.609375 11.75 \nQ 48.6875 17.390625 48.6875 27.296875 \nz\nM 18.109375 46.390625 \nQ 20.953125 51.265625 25.265625 53.625 \nQ 29.59375 56 35.59375 56 \nQ 45.5625 56 51.78125 48.09375 \nQ 58.015625 40.1875 58.015625 27.296875 \nQ 58.015625 14.40625 51.78125 6.484375 \nQ 45.5625 -1.421875 35.59375 -1.421875 \nQ 29.59375 -1.421875 25.265625 0.953125 \nQ 20.953125 3.328125 18.109375 8.203125 \nL 18.109375 0 \nL 9.078125 0 \nL 9.078125 75.984375 \nL 18.109375 75.984375 \nz\n\" id=\"DejaVuSans-98\"/>\n      <path d=\"M 34.28125 27.484375 \nQ 23.390625 27.484375 19.1875 25 \nQ 14.984375 22.515625 14.984375 16.5 \nQ 14.984375 11.71875 18.140625 8.90625 \nQ 21.296875 6.109375 26.703125 6.109375 \nQ 34.1875 6.109375 38.703125 11.40625 \nQ 43.21875 16.703125 43.21875 25.484375 \nL 43.21875 27.484375 \nz\nM 52.203125 31.203125 \nL 52.203125 0 \nL 43.21875 0 \nL 43.21875 8.296875 \nQ 40.140625 3.328125 35.546875 0.953125 \nQ 30.953125 -1.421875 24.3125 -1.421875 \nQ 15.921875 -1.421875 10.953125 3.296875 \nQ 6 8.015625 6 15.921875 \nQ 6 25.140625 12.171875 29.828125 \nQ 18.359375 34.515625 30.609375 34.515625 \nL 43.21875 34.515625 \nL 43.21875 35.40625 \nQ 43.21875 41.609375 39.140625 45 \nQ 35.0625 48.390625 27.6875 48.390625 \nQ 23 48.390625 18.546875 47.265625 \nQ 14.109375 46.140625 10.015625 43.890625 \nL 10.015625 52.203125 \nQ 14.9375 54.109375 19.578125 55.046875 \nQ 24.21875 56 28.609375 56 \nQ 40.484375 56 46.34375 49.84375 \nQ 52.203125 43.703125 52.203125 31.203125 \nz\n\" id=\"DejaVuSans-97\"/>\n      <path d=\"M 4.890625 31.390625 \nL 31.203125 31.390625 \nL 31.203125 23.390625 \nL 4.890625 23.390625 \nz\n\" id=\"DejaVuSans-45\"/>\n      <path d=\"M 11.71875 12.40625 \nL 22.015625 12.40625 \nL 22.015625 4 \nL 14.015625 -11.625 \nL 7.71875 -11.625 \nL 11.71875 4 \nz\n\" id=\"DejaVuSans-44\"/>\n      <path d=\"M 52 44.1875 \nQ 55.375 50.25 60.0625 53.125 \nQ 64.75 56 71.09375 56 \nQ 79.640625 56 84.28125 50.015625 \nQ 88.921875 44.046875 88.921875 33.015625 \nL 88.921875 0 \nL 79.890625 0 \nL 79.890625 32.71875 \nQ 79.890625 40.578125 77.09375 44.375 \nQ 74.3125 48.1875 68.609375 48.1875 \nQ 61.625 48.1875 57.5625 43.546875 \nQ 53.515625 38.921875 53.515625 30.90625 \nL 53.515625 0 \nL 44.484375 0 \nL 44.484375 32.71875 \nQ 44.484375 40.625 41.703125 44.40625 \nQ 38.921875 48.1875 33.109375 48.1875 \nQ 26.21875 48.1875 22.15625 43.53125 \nQ 18.109375 38.875 18.109375 30.90625 \nL 18.109375 0 \nL 9.078125 0 \nL 9.078125 54.6875 \nL 18.109375 54.6875 \nL 18.109375 46.1875 \nQ 21.1875 51.21875 25.484375 53.609375 \nQ 29.78125 56 35.6875 56 \nQ 41.65625 56 45.828125 52.96875 \nQ 50 49.953125 52 44.1875 \nz\n\" id=\"DejaVuSans-109\"/>\n     </defs>\n     <g transform=\"translate(186.173438 118.540312)scale(0.1 -0.1)\">\n      <use xlink:href=\"#DejaVuSans-118\"/>\n      <use x=\"59.179688\" xlink:href=\"#DejaVuSans-101\"/>\n      <use x=\"120.703125\" xlink:href=\"#DejaVuSans-99\"/>\n      <use x=\"175.683594\" xlink:href=\"#DejaVuSans-116\"/>\n      <use x=\"214.892578\" xlink:href=\"#DejaVuSans-111\"/>\n      <use x=\"276.074219\" xlink:href=\"#DejaVuSans-114\"/>\n      <use x=\"317.1875\" xlink:href=\"#DejaVuSans-95\"/>\n      <use x=\"367.1875\" xlink:href=\"#DejaVuSans-98\"/>\n      <use x=\"430.664062\" xlink:href=\"#DejaVuSans-101\"/>\n      <use x=\"492.1875\" xlink:href=\"#DejaVuSans-114\"/>\n      <use x=\"533.300781\" xlink:href=\"#DejaVuSans-116\"/>\n      <use x=\"572.509766\" xlink:href=\"#DejaVuSans-95\"/>\n      <use x=\"622.509766\" xlink:href=\"#DejaVuSans-98\"/>\n      <use x=\"685.986328\" xlink:href=\"#DejaVuSans-97\"/>\n      <use x=\"747.265625\" xlink:href=\"#DejaVuSans-115\"/>\n      <use x=\"799.365234\" xlink:href=\"#DejaVuSans-101\"/>\n      <use x=\"860.888672\" xlink:href=\"#DejaVuSans-95\"/>\n      <use x=\"910.888672\" xlink:href=\"#DejaVuSans-45\"/>\n      <use x=\"946.972656\" xlink:href=\"#DejaVuSans-49\"/>\n      <use x=\"1010.595703\" xlink:href=\"#DejaVuSans-44\"/>\n      <use x=\"1042.382812\" xlink:href=\"#DejaVuSans-45\"/>\n      <use x=\"1078.466797\" xlink:href=\"#DejaVuSans-50\"/>\n      <use x=\"1142.089844\" xlink:href=\"#DejaVuSans-44\"/>\n      <use x=\"1173.876953\" xlink:href=\"#DejaVuSans-45\"/>\n      <use x=\"1209.960938\" xlink:href=\"#DejaVuSans-51\"/>\n      <use x=\"1273.583984\" xlink:href=\"#DejaVuSans-44\"/>\n      <use x=\"1305.371094\" xlink:href=\"#DejaVuSans-45\"/>\n      <use x=\"1341.455078\" xlink:href=\"#DejaVuSans-52\"/>\n      <use x=\"1405.078125\" xlink:href=\"#DejaVuSans-95\"/>\n      <use x=\"1455.078125\" xlink:href=\"#DejaVuSans-109\"/>\n      <use x=\"1552.490234\" xlink:href=\"#DejaVuSans-101\"/>\n      <use x=\"1614.013672\" xlink:href=\"#DejaVuSans-97\"/>\n      <use x=\"1675.292969\" xlink:href=\"#DejaVuSans-110\"/>\n     </g>\n    </g>\n   </g>\n  </g>\n </g>\n <defs>\n  <clipPath id=\"pca1858936a\">\n   <rect height=\"217.44\" width=\"334.8\" x=\"34.240625\" y=\"7.2\"/>\n  </clipPath>\n </defs>\n</svg>\n",
      "image/png": "[encoded data removed]"
     },
     "metadata": {
      "needs_background": "light"
     }
    },
    {
     "output_type": "display_data",
     "data": {
      "text/plain": "<Figure size 432x288 with 1 Axes>",
      "image/svg+xml": "<?xml version=\"1.0\" encoding=\"utf-8\" standalone=\"no\"?>\n<!DOCTYPE svg PUBLIC \"-//W3C//DTD SVG 1.1//EN\"\n  \"http://www.w3.org/Graphics/SVG/1.1/DTD/svg11.dtd\">\n<!-- Created with matplotlib (https://matplotlib.org/) -->\n<svg height=\"248.518125pt\" version=\"1.1\" viewBox=\"0 0 382.603125 248.518125\" width=\"382.603125pt\" xmlns=\"http://www.w3.org/2000/svg\" xmlns:xlink=\"http://www.w3.org/1999/xlink\">\n <defs>\n  <style type=\"text/css\">\n*{stroke-linecap:butt;stroke-linejoin:round;}\n  </style>\n </defs>\n <g id=\"figure_1\">\n  <g id=\"patch_1\">\n   <path d=\"M 0 248.518125 \nL 382.603125 248.518125 \nL 382.603125 0 \nL 0 0 \nz\n\" style=\"fill:none;\"/>\n  </g>\n  <g id=\"axes_1\">\n   <g id=\"patch_2\">\n    <path d=\"M 40.603125 224.64 \nL 375.403125 224.64 \nL 375.403125 7.2 \nL 40.603125 7.2 \nz\n\" style=\"fill:#ffffff;\"/>\n   </g>\n   <g id=\"matplotlib.axis_1\">\n    <g id=\"xtick_1\">\n     <g id=\"line2d_1\">\n      <defs>\n       <path d=\"M 0 0 \nL 0 3.5 \n\" id=\"m3baf76c8e7\" style=\"stroke:#000000;stroke-width:0.8;\"/>\n      </defs>\n      <g>\n       <use style=\"stroke:#000000;stroke-width:0.8;\" x=\"49.424751\" xlink:href=\"#m3baf76c8e7\" y=\"224.64\"/>\n      </g>\n     </g>\n     <g id=\"text_1\">\n      <!-- 0.20 -->\n      <defs>\n       <path d=\"M 31.78125 66.40625 \nQ 24.171875 66.40625 20.328125 58.90625 \nQ 16.5 51.421875 16.5 36.375 \nQ 16.5 21.390625 20.328125 13.890625 \nQ 24.171875 6.390625 31.78125 6.390625 \nQ 39.453125 6.390625 43.28125 13.890625 \nQ 47.125 21.390625 47.125 36.375 \nQ 47.125 51.421875 43.28125 58.90625 \nQ 39.453125 66.40625 31.78125 66.40625 \nz\nM 31.78125 74.21875 \nQ 44.046875 74.21875 50.515625 64.515625 \nQ 56.984375 54.828125 56.984375 36.375 \nQ 56.984375 17.96875 50.515625 8.265625 \nQ 44.046875 -1.421875 31.78125 -1.421875 \nQ 19.53125 -1.421875 13.0625 8.265625 \nQ 6.59375 17.96875 6.59375 36.375 \nQ 6.59375 54.828125 13.0625 64.515625 \nQ 19.53125 74.21875 31.78125 74.21875 \nz\n\" id=\"DejaVuSans-48\"/>\n       <path d=\"M 10.6875 12.40625 \nL 21 12.40625 \nL 21 0 \nL 10.6875 0 \nz\n\" id=\"DejaVuSans-46\"/>\n       <path d=\"M 19.1875 8.296875 \nL 53.609375 8.296875 \nL 53.609375 0 \nL 7.328125 0 \nL 7.328125 8.296875 \nQ 12.9375 14.109375 22.625 23.890625 \nQ 32.328125 33.6875 34.8125 36.53125 \nQ 39.546875 41.84375 41.421875 45.53125 \nQ 43.3125 49.21875 43.3125 52.78125 \nQ 43.3125 58.59375 39.234375 62.25 \nQ 35.15625 65.921875 28.609375 65.921875 \nQ 23.96875 65.921875 18.8125 64.3125 \nQ 13.671875 62.703125 7.8125 59.421875 \nL 7.8125 69.390625 \nQ 13.765625 71.78125 18.9375 73 \nQ 24.125 74.21875 28.421875 74.21875 \nQ 39.75 74.21875 46.484375 68.546875 \nQ 53.21875 62.890625 53.21875 53.421875 \nQ 53.21875 48.921875 51.53125 44.890625 \nQ 49.859375 40.875 45.40625 35.40625 \nQ 44.1875 33.984375 37.640625 27.21875 \nQ 31.109375 20.453125 19.1875 8.296875 \nz\n\" id=\"DejaVuSans-50\"/>\n      </defs>\n      <g transform=\"translate(38.291938 239.238438)scale(0.1 -0.1)\">\n       <use xlink:href=\"#DejaVuSans-48\"/>\n       <use x=\"63.623047\" xlink:href=\"#DejaVuSans-46\"/>\n       <use x=\"95.410156\" xlink:href=\"#DejaVuSans-50\"/>\n       <use x=\"159.033203\" xlink:href=\"#DejaVuSans-48\"/>\n      </g>\n     </g>\n    </g>\n    <g id=\"xtick_2\">\n     <g id=\"line2d_2\">\n      <g>\n       <use style=\"stroke:#000000;stroke-width:0.8;\" x=\"92.649476\" xlink:href=\"#m3baf76c8e7\" y=\"224.64\"/>\n      </g>\n     </g>\n     <g id=\"text_2\">\n      <!-- 0.21 -->\n      <defs>\n       <path d=\"M 12.40625 8.296875 \nL 28.515625 8.296875 \nL 28.515625 63.921875 \nL 10.984375 60.40625 \nL 10.984375 69.390625 \nL 28.421875 72.90625 \nL 38.28125 72.90625 \nL 38.28125 8.296875 \nL 54.390625 8.296875 \nL 54.390625 0 \nL 12.40625 0 \nz\n\" id=\"DejaVuSans-49\"/>\n      </defs>\n      <g transform=\"translate(81.516663 239.238438)scale(0.1 -0.1)\">\n       <use xlink:href=\"#DejaVuSans-48\"/>\n       <use x=\"63.623047\" xlink:href=\"#DejaVuSans-46\"/>\n       <use x=\"95.410156\" xlink:href=\"#DejaVuSans-50\"/>\n       <use x=\"159.033203\" xlink:href=\"#DejaVuSans-49\"/>\n      </g>\n     </g>\n    </g>\n    <g id=\"xtick_3\">\n     <g id=\"line2d_3\">\n      <g>\n       <use style=\"stroke:#000000;stroke-width:0.8;\" x=\"135.8742\" xlink:href=\"#m3baf76c8e7\" y=\"224.64\"/>\n      </g>\n     </g>\n     <g id=\"text_3\">\n      <!-- 0.22 -->\n      <g transform=\"translate(124.741388 239.238438)scale(0.1 -0.1)\">\n       <use xlink:href=\"#DejaVuSans-48\"/>\n       <use x=\"63.623047\" xlink:href=\"#DejaVuSans-46\"/>\n       <use x=\"95.410156\" xlink:href=\"#DejaVuSans-50\"/>\n       <use x=\"159.033203\" xlink:href=\"#DejaVuSans-50\"/>\n      </g>\n     </g>\n    </g>\n    <g id=\"xtick_4\">\n     <g id=\"line2d_4\">\n      <g>\n       <use style=\"stroke:#000000;stroke-width:0.8;\" x=\"179.098925\" xlink:href=\"#m3baf76c8e7\" y=\"224.64\"/>\n      </g>\n     </g>\n     <g id=\"text_4\">\n      <!-- 0.23 -->\n      <defs>\n       <path d=\"M 40.578125 39.3125 \nQ 47.65625 37.796875 51.625 33 \nQ 55.609375 28.21875 55.609375 21.1875 \nQ 55.609375 10.40625 48.1875 4.484375 \nQ 40.765625 -1.421875 27.09375 -1.421875 \nQ 22.515625 -1.421875 17.65625 -0.515625 \nQ 12.796875 0.390625 7.625 2.203125 \nL 7.625 11.71875 \nQ 11.71875 9.328125 16.59375 8.109375 \nQ 21.484375 6.890625 26.8125 6.890625 \nQ 36.078125 6.890625 40.9375 10.546875 \nQ 45.796875 14.203125 45.796875 21.1875 \nQ 45.796875 27.640625 41.28125 31.265625 \nQ 36.765625 34.90625 28.71875 34.90625 \nL 20.21875 34.90625 \nL 20.21875 43.015625 \nL 29.109375 43.015625 \nQ 36.375 43.015625 40.234375 45.921875 \nQ 44.09375 48.828125 44.09375 54.296875 \nQ 44.09375 59.90625 40.109375 62.90625 \nQ 36.140625 65.921875 28.71875 65.921875 \nQ 24.65625 65.921875 20.015625 65.03125 \nQ 15.375 64.15625 9.8125 62.3125 \nL 9.8125 71.09375 \nQ 15.4375 72.65625 20.34375 73.4375 \nQ 25.25 74.21875 29.59375 74.21875 \nQ 40.828125 74.21875 47.359375 69.109375 \nQ 53.90625 64.015625 53.90625 55.328125 \nQ 53.90625 49.265625 50.4375 45.09375 \nQ 46.96875 40.921875 40.578125 39.3125 \nz\n\" id=\"DejaVuSans-51\"/>\n      </defs>\n      <g transform=\"translate(167.966113 239.238438)scale(0.1 -0.1)\">\n       <use xlink:href=\"#DejaVuSans-48\"/>\n       <use x=\"63.623047\" xlink:href=\"#DejaVuSans-46\"/>\n       <use x=\"95.410156\" xlink:href=\"#DejaVuSans-50\"/>\n       <use x=\"159.033203\" xlink:href=\"#DejaVuSans-51\"/>\n      </g>\n     </g>\n    </g>\n    <g id=\"xtick_5\">\n     <g id=\"line2d_5\">\n      <g>\n       <use style=\"stroke:#000000;stroke-width:0.8;\" x=\"222.32365\" xlink:href=\"#m3baf76c8e7\" y=\"224.64\"/>\n      </g>\n     </g>\n     <g id=\"text_5\">\n      <!-- 0.24 -->\n      <defs>\n       <path d=\"M 37.796875 64.3125 \nL 12.890625 25.390625 \nL 37.796875 25.390625 \nz\nM 35.203125 72.90625 \nL 47.609375 72.90625 \nL 47.609375 25.390625 \nL 58.015625 25.390625 \nL 58.015625 17.1875 \nL 47.609375 17.1875 \nL 47.609375 0 \nL 37.796875 0 \nL 37.796875 17.1875 \nL 4.890625 17.1875 \nL 4.890625 26.703125 \nz\n\" id=\"DejaVuSans-52\"/>\n      </defs>\n      <g transform=\"translate(211.190837 239.238438)scale(0.1 -0.1)\">\n       <use xlink:href=\"#DejaVuSans-48\"/>\n       <use x=\"63.623047\" xlink:href=\"#DejaVuSans-46\"/>\n       <use x=\"95.410156\" xlink:href=\"#DejaVuSans-50\"/>\n       <use x=\"159.033203\" xlink:href=\"#DejaVuSans-52\"/>\n      </g>\n     </g>\n    </g>\n    <g id=\"xtick_6\">\n     <g id=\"line2d_6\">\n      <g>\n       <use style=\"stroke:#000000;stroke-width:0.8;\" x=\"265.548375\" xlink:href=\"#m3baf76c8e7\" y=\"224.64\"/>\n      </g>\n     </g>\n     <g id=\"text_6\">\n      <!-- 0.25 -->\n      <defs>\n       <path d=\"M 10.796875 72.90625 \nL 49.515625 72.90625 \nL 49.515625 64.59375 \nL 19.828125 64.59375 \nL 19.828125 46.734375 \nQ 21.96875 47.46875 24.109375 47.828125 \nQ 26.265625 48.1875 28.421875 48.1875 \nQ 40.625 48.1875 47.75 41.5 \nQ 54.890625 34.8125 54.890625 23.390625 \nQ 54.890625 11.625 47.5625 5.09375 \nQ 40.234375 -1.421875 26.90625 -1.421875 \nQ 22.3125 -1.421875 17.546875 -0.640625 \nQ 12.796875 0.140625 7.71875 1.703125 \nL 7.71875 11.625 \nQ 12.109375 9.234375 16.796875 8.0625 \nQ 21.484375 6.890625 26.703125 6.890625 \nQ 35.15625 6.890625 40.078125 11.328125 \nQ 45.015625 15.765625 45.015625 23.390625 \nQ 45.015625 31 40.078125 35.4375 \nQ 35.15625 39.890625 26.703125 39.890625 \nQ 22.75 39.890625 18.8125 39.015625 \nQ 14.890625 38.140625 10.796875 36.28125 \nz\n\" id=\"DejaVuSans-53\"/>\n      </defs>\n      <g transform=\"translate(254.415562 239.238438)scale(0.1 -0.1)\">\n       <use xlink:href=\"#DejaVuSans-48\"/>\n       <use x=\"63.623047\" xlink:href=\"#DejaVuSans-46\"/>\n       <use x=\"95.410156\" xlink:href=\"#DejaVuSans-50\"/>\n       <use x=\"159.033203\" xlink:href=\"#DejaVuSans-53\"/>\n      </g>\n     </g>\n    </g>\n    <g id=\"xtick_7\">\n     <g id=\"line2d_7\">\n      <g>\n       <use style=\"stroke:#000000;stroke-width:0.8;\" x=\"308.773099\" xlink:href=\"#m3baf76c8e7\" y=\"224.64\"/>\n      </g>\n     </g>\n     <g id=\"text_7\">\n      <!-- 0.26 -->\n      <defs>\n       <path d=\"M 33.015625 40.375 \nQ 26.375 40.375 22.484375 35.828125 \nQ 18.609375 31.296875 18.609375 23.390625 \nQ 18.609375 15.53125 22.484375 10.953125 \nQ 26.375 6.390625 33.015625 6.390625 \nQ 39.65625 6.390625 43.53125 10.953125 \nQ 47.40625 15.53125 47.40625 23.390625 \nQ 47.40625 31.296875 43.53125 35.828125 \nQ 39.65625 40.375 33.015625 40.375 \nz\nM 52.59375 71.296875 \nL 52.59375 62.3125 \nQ 48.875 64.0625 45.09375 64.984375 \nQ 41.3125 65.921875 37.59375 65.921875 \nQ 27.828125 65.921875 22.671875 59.328125 \nQ 17.53125 52.734375 16.796875 39.40625 \nQ 19.671875 43.65625 24.015625 45.921875 \nQ 28.375 48.1875 33.59375 48.1875 \nQ 44.578125 48.1875 50.953125 41.515625 \nQ 57.328125 34.859375 57.328125 23.390625 \nQ 57.328125 12.15625 50.6875 5.359375 \nQ 44.046875 -1.421875 33.015625 -1.421875 \nQ 20.359375 -1.421875 13.671875 8.265625 \nQ 6.984375 17.96875 6.984375 36.375 \nQ 6.984375 53.65625 15.1875 63.9375 \nQ 23.390625 74.21875 37.203125 74.21875 \nQ 40.921875 74.21875 44.703125 73.484375 \nQ 48.484375 72.75 52.59375 71.296875 \nz\n\" id=\"DejaVuSans-54\"/>\n      </defs>\n      <g transform=\"translate(297.640287 239.238438)scale(0.1 -0.1)\">\n       <use xlink:href=\"#DejaVuSans-48\"/>\n       <use x=\"63.623047\" xlink:href=\"#DejaVuSans-46\"/>\n       <use x=\"95.410156\" xlink:href=\"#DejaVuSans-50\"/>\n       <use x=\"159.033203\" xlink:href=\"#DejaVuSans-54\"/>\n      </g>\n     </g>\n    </g>\n    <g id=\"xtick_8\">\n     <g id=\"line2d_8\">\n      <g>\n       <use style=\"stroke:#000000;stroke-width:0.8;\" x=\"351.997824\" xlink:href=\"#m3baf76c8e7\" y=\"224.64\"/>\n      </g>\n     </g>\n     <g id=\"text_8\">\n      <!-- 0.27 -->\n      <defs>\n       <path d=\"M 8.203125 72.90625 \nL 55.078125 72.90625 \nL 55.078125 68.703125 \nL 28.609375 0 \nL 18.3125 0 \nL 43.21875 64.59375 \nL 8.203125 64.59375 \nz\n\" id=\"DejaVuSans-55\"/>\n      </defs>\n      <g transform=\"translate(340.865012 239.238438)scale(0.1 -0.1)\">\n       <use xlink:href=\"#DejaVuSans-48\"/>\n       <use x=\"63.623047\" xlink:href=\"#DejaVuSans-46\"/>\n       <use x=\"95.410156\" xlink:href=\"#DejaVuSans-50\"/>\n       <use x=\"159.033203\" xlink:href=\"#DejaVuSans-55\"/>\n      </g>\n     </g>\n    </g>\n   </g>\n   <g id=\"matplotlib.axis_2\">\n    <g id=\"ytick_1\">\n     <g id=\"line2d_9\">\n      <defs>\n       <path d=\"M 0 0 \nL -3.5 0 \n\" id=\"meb8a2d393a\" style=\"stroke:#000000;stroke-width:0.8;\"/>\n      </defs>\n      <g>\n       <use style=\"stroke:#000000;stroke-width:0.8;\" x=\"40.603125\" xlink:href=\"#meb8a2d393a\" y=\"217.664615\"/>\n      </g>\n     </g>\n     <g id=\"text_9\">\n      <!-- 7 -->\n      <g transform=\"translate(27.240625 221.463834)scale(0.1 -0.1)\">\n       <use xlink:href=\"#DejaVuSans-55\"/>\n      </g>\n     </g>\n    </g>\n    <g id=\"ytick_2\">\n     <g id=\"line2d_10\">\n      <g>\n       <use style=\"stroke:#000000;stroke-width:0.8;\" x=\"40.603125\" xlink:href=\"#meb8a2d393a\" y=\"185.496437\"/>\n      </g>\n     </g>\n     <g id=\"text_10\">\n      <!-- 8 -->\n      <defs>\n       <path d=\"M 31.78125 34.625 \nQ 24.75 34.625 20.71875 30.859375 \nQ 16.703125 27.09375 16.703125 20.515625 \nQ 16.703125 13.921875 20.71875 10.15625 \nQ 24.75 6.390625 31.78125 6.390625 \nQ 38.8125 6.390625 42.859375 10.171875 \nQ 46.921875 13.96875 46.921875 20.515625 \nQ 46.921875 27.09375 42.890625 30.859375 \nQ 38.875 34.625 31.78125 34.625 \nz\nM 21.921875 38.8125 \nQ 15.578125 40.375 12.03125 44.71875 \nQ 8.5 49.078125 8.5 55.328125 \nQ 8.5 64.0625 14.71875 69.140625 \nQ 20.953125 74.21875 31.78125 74.21875 \nQ 42.671875 74.21875 48.875 69.140625 \nQ 55.078125 64.0625 55.078125 55.328125 \nQ 55.078125 49.078125 51.53125 44.71875 \nQ 48 40.375 41.703125 38.8125 \nQ 48.828125 37.15625 52.796875 32.3125 \nQ 56.78125 27.484375 56.78125 20.515625 \nQ 56.78125 9.90625 50.3125 4.234375 \nQ 43.84375 -1.421875 31.78125 -1.421875 \nQ 19.734375 -1.421875 13.25 4.234375 \nQ 6.78125 9.90625 6.78125 20.515625 \nQ 6.78125 27.484375 10.78125 32.3125 \nQ 14.796875 37.15625 21.921875 38.8125 \nz\nM 18.3125 54.390625 \nQ 18.3125 48.734375 21.84375 45.5625 \nQ 25.390625 42.390625 31.78125 42.390625 \nQ 38.140625 42.390625 41.71875 45.5625 \nQ 45.3125 48.734375 45.3125 54.390625 \nQ 45.3125 60.0625 41.71875 63.234375 \nQ 38.140625 66.40625 31.78125 66.40625 \nQ 25.390625 66.40625 21.84375 63.234375 \nQ 18.3125 60.0625 18.3125 54.390625 \nz\n\" id=\"DejaVuSans-56\"/>\n      </defs>\n      <g transform=\"translate(27.240625 189.295656)scale(0.1 -0.1)\">\n       <use xlink:href=\"#DejaVuSans-56\"/>\n      </g>\n     </g>\n    </g>\n    <g id=\"ytick_3\">\n     <g id=\"line2d_11\">\n      <g>\n       <use style=\"stroke:#000000;stroke-width:0.8;\" x=\"40.603125\" xlink:href=\"#meb8a2d393a\" y=\"153.328259\"/>\n      </g>\n     </g>\n     <g id=\"text_11\">\n      <!-- 9 -->\n      <defs>\n       <path d=\"M 10.984375 1.515625 \nL 10.984375 10.5 \nQ 14.703125 8.734375 18.5 7.8125 \nQ 22.3125 6.890625 25.984375 6.890625 \nQ 35.75 6.890625 40.890625 13.453125 \nQ 46.046875 20.015625 46.78125 33.40625 \nQ 43.953125 29.203125 39.59375 26.953125 \nQ 35.25 24.703125 29.984375 24.703125 \nQ 19.046875 24.703125 12.671875 31.3125 \nQ 6.296875 37.9375 6.296875 49.421875 \nQ 6.296875 60.640625 12.9375 67.421875 \nQ 19.578125 74.21875 30.609375 74.21875 \nQ 43.265625 74.21875 49.921875 64.515625 \nQ 56.59375 54.828125 56.59375 36.375 \nQ 56.59375 19.140625 48.40625 8.859375 \nQ 40.234375 -1.421875 26.421875 -1.421875 \nQ 22.703125 -1.421875 18.890625 -0.6875 \nQ 15.09375 0.046875 10.984375 1.515625 \nz\nM 30.609375 32.421875 \nQ 37.25 32.421875 41.125 36.953125 \nQ 45.015625 41.5 45.015625 49.421875 \nQ 45.015625 57.28125 41.125 61.84375 \nQ 37.25 66.40625 30.609375 66.40625 \nQ 23.96875 66.40625 20.09375 61.84375 \nQ 16.21875 57.28125 16.21875 49.421875 \nQ 16.21875 41.5 20.09375 36.953125 \nQ 23.96875 32.421875 30.609375 32.421875 \nz\n\" id=\"DejaVuSans-57\"/>\n      </defs>\n      <g transform=\"translate(27.240625 157.127478)scale(0.1 -0.1)\">\n       <use xlink:href=\"#DejaVuSans-57\"/>\n      </g>\n     </g>\n    </g>\n    <g id=\"ytick_4\">\n     <g id=\"line2d_12\">\n      <g>\n       <use style=\"stroke:#000000;stroke-width:0.8;\" x=\"40.603125\" xlink:href=\"#meb8a2d393a\" y=\"121.160082\"/>\n      </g>\n     </g>\n     <g id=\"text_12\">\n      <!-- 10 -->\n      <g transform=\"translate(20.878125 124.9593)scale(0.1 -0.1)\">\n       <use xlink:href=\"#DejaVuSans-49\"/>\n       <use x=\"63.623047\" xlink:href=\"#DejaVuSans-48\"/>\n      </g>\n     </g>\n    </g>\n    <g id=\"ytick_5\">\n     <g id=\"line2d_13\">\n      <g>\n       <use style=\"stroke:#000000;stroke-width:0.8;\" x=\"40.603125\" xlink:href=\"#meb8a2d393a\" y=\"88.991904\"/>\n      </g>\n     </g>\n     <g id=\"text_13\">\n      <!-- 11 -->\n      <g transform=\"translate(20.878125 92.791123)scale(0.1 -0.1)\">\n       <use xlink:href=\"#DejaVuSans-49\"/>\n       <use x=\"63.623047\" xlink:href=\"#DejaVuSans-49\"/>\n      </g>\n     </g>\n    </g>\n    <g id=\"ytick_6\">\n     <g id=\"line2d_14\">\n      <g>\n       <use style=\"stroke:#000000;stroke-width:0.8;\" x=\"40.603125\" xlink:href=\"#meb8a2d393a\" y=\"56.823726\"/>\n      </g>\n     </g>\n     <g id=\"text_14\">\n      <!-- 12 -->\n      <g transform=\"translate(20.878125 60.622945)scale(0.1 -0.1)\">\n       <use xlink:href=\"#DejaVuSans-49\"/>\n       <use x=\"63.623047\" xlink:href=\"#DejaVuSans-50\"/>\n      </g>\n     </g>\n    </g>\n    <g id=\"ytick_7\">\n     <g id=\"line2d_15\">\n      <g>\n       <use style=\"stroke:#000000;stroke-width:0.8;\" x=\"40.603125\" xlink:href=\"#meb8a2d393a\" y=\"24.655548\"/>\n      </g>\n     </g>\n     <g id=\"text_15\">\n      <!-- 13 -->\n      <g transform=\"translate(20.878125 28.454767)scale(0.1 -0.1)\">\n       <use xlink:href=\"#DejaVuSans-49\"/>\n       <use x=\"63.623047\" xlink:href=\"#DejaVuSans-51\"/>\n      </g>\n     </g>\n    </g>\n    <g id=\"text_16\">\n     <!-- Density -->\n     <defs>\n      <path d=\"M 19.671875 64.796875 \nL 19.671875 8.109375 \nL 31.59375 8.109375 \nQ 46.6875 8.109375 53.6875 14.9375 \nQ 60.6875 21.78125 60.6875 36.53125 \nQ 60.6875 51.171875 53.6875 57.984375 \nQ 46.6875 64.796875 31.59375 64.796875 \nz\nM 9.8125 72.90625 \nL 30.078125 72.90625 \nQ 51.265625 72.90625 61.171875 64.09375 \nQ 71.09375 55.28125 71.09375 36.53125 \nQ 71.09375 17.671875 61.125 8.828125 \nQ 51.171875 0 30.078125 0 \nL 9.8125 0 \nz\n\" id=\"DejaVuSans-68\"/>\n      <path d=\"M 56.203125 29.59375 \nL 56.203125 25.203125 \nL 14.890625 25.203125 \nQ 15.484375 15.921875 20.484375 11.0625 \nQ 25.484375 6.203125 34.421875 6.203125 \nQ 39.59375 6.203125 44.453125 7.46875 \nQ 49.3125 8.734375 54.109375 11.28125 \nL 54.109375 2.78125 \nQ 49.265625 0.734375 44.1875 -0.34375 \nQ 39.109375 -1.421875 33.890625 -1.421875 \nQ 20.796875 -1.421875 13.15625 6.1875 \nQ 5.515625 13.8125 5.515625 26.8125 \nQ 5.515625 40.234375 12.765625 48.109375 \nQ 20.015625 56 32.328125 56 \nQ 43.359375 56 49.78125 48.890625 \nQ 56.203125 41.796875 56.203125 29.59375 \nz\nM 47.21875 32.234375 \nQ 47.125 39.59375 43.09375 43.984375 \nQ 39.0625 48.390625 32.421875 48.390625 \nQ 24.90625 48.390625 20.390625 44.140625 \nQ 15.875 39.890625 15.1875 32.171875 \nz\n\" id=\"DejaVuSans-101\"/>\n      <path d=\"M 54.890625 33.015625 \nL 54.890625 0 \nL 45.90625 0 \nL 45.90625 32.71875 \nQ 45.90625 40.484375 42.875 44.328125 \nQ 39.84375 48.1875 33.796875 48.1875 \nQ 26.515625 48.1875 22.3125 43.546875 \nQ 18.109375 38.921875 18.109375 30.90625 \nL 18.109375 0 \nL 9.078125 0 \nL 9.078125 54.6875 \nL 18.109375 54.6875 \nL 18.109375 46.1875 \nQ 21.34375 51.125 25.703125 53.5625 \nQ 30.078125 56 35.796875 56 \nQ 45.21875 56 50.046875 50.171875 \nQ 54.890625 44.34375 54.890625 33.015625 \nz\n\" id=\"DejaVuSans-110\"/>\n      <path d=\"M 44.28125 53.078125 \nL 44.28125 44.578125 \nQ 40.484375 46.53125 36.375 47.5 \nQ 32.28125 48.484375 27.875 48.484375 \nQ 21.1875 48.484375 17.84375 46.4375 \nQ 14.5 44.390625 14.5 40.28125 \nQ 14.5 37.15625 16.890625 35.375 \nQ 19.28125 33.59375 26.515625 31.984375 \nL 29.59375 31.296875 \nQ 39.15625 29.25 43.1875 25.515625 \nQ 47.21875 21.78125 47.21875 15.09375 \nQ 47.21875 7.46875 41.1875 3.015625 \nQ 35.15625 -1.421875 24.609375 -1.421875 \nQ 20.21875 -1.421875 15.453125 -0.5625 \nQ 10.6875 0.296875 5.421875 2 \nL 5.421875 11.28125 \nQ 10.40625 8.6875 15.234375 7.390625 \nQ 20.0625 6.109375 24.8125 6.109375 \nQ 31.15625 6.109375 34.5625 8.28125 \nQ 37.984375 10.453125 37.984375 14.40625 \nQ 37.984375 18.0625 35.515625 20.015625 \nQ 33.0625 21.96875 24.703125 23.78125 \nL 21.578125 24.515625 \nQ 13.234375 26.265625 9.515625 29.90625 \nQ 5.8125 33.546875 5.8125 39.890625 \nQ 5.8125 47.609375 11.28125 51.796875 \nQ 16.75 56 26.8125 56 \nQ 31.78125 56 36.171875 55.265625 \nQ 40.578125 54.546875 44.28125 53.078125 \nz\n\" id=\"DejaVuSans-115\"/>\n      <path d=\"M 9.421875 54.6875 \nL 18.40625 54.6875 \nL 18.40625 0 \nL 9.421875 0 \nz\nM 9.421875 75.984375 \nL 18.40625 75.984375 \nL 18.40625 64.59375 \nL 9.421875 64.59375 \nz\n\" id=\"DejaVuSans-105\"/>\n      <path d=\"M 18.3125 70.21875 \nL 18.3125 54.6875 \nL 36.8125 54.6875 \nL 36.8125 47.703125 \nL 18.3125 47.703125 \nL 18.3125 18.015625 \nQ 18.3125 11.328125 20.140625 9.421875 \nQ 21.96875 7.515625 27.59375 7.515625 \nL 36.8125 7.515625 \nL 36.8125 0 \nL 27.59375 0 \nQ 17.1875 0 13.234375 3.875 \nQ 9.28125 7.765625 9.28125 18.015625 \nL 9.28125 47.703125 \nL 2.6875 47.703125 \nL 2.6875 54.6875 \nL 9.28125 54.6875 \nL 9.28125 70.21875 \nz\n\" id=\"DejaVuSans-116\"/>\n      <path d=\"M 32.171875 -5.078125 \nQ 28.375 -14.84375 24.75 -17.8125 \nQ 21.140625 -20.796875 15.09375 -20.796875 \nL 7.90625 -20.796875 \nL 7.90625 -13.28125 \nL 13.1875 -13.28125 \nQ 16.890625 -13.28125 18.9375 -11.515625 \nQ 21 -9.765625 23.484375 -3.21875 \nL 25.09375 0.875 \nL 2.984375 54.6875 \nL 12.5 54.6875 \nL 29.59375 11.921875 \nL 46.6875 54.6875 \nL 56.203125 54.6875 \nz\n\" id=\"DejaVuSans-121\"/>\n     </defs>\n     <g transform=\"translate(14.798438 134.928594)rotate(-90)scale(0.1 -0.1)\">\n      <use xlink:href=\"#DejaVuSans-68\"/>\n      <use x=\"77.001953\" xlink:href=\"#DejaVuSans-101\"/>\n      <use x=\"138.525391\" xlink:href=\"#DejaVuSans-110\"/>\n      <use x=\"201.904297\" xlink:href=\"#DejaVuSans-115\"/>\n      <use x=\"254.003906\" xlink:href=\"#DejaVuSans-105\"/>\n      <use x=\"281.787109\" xlink:href=\"#DejaVuSans-116\"/>\n      <use x=\"320.996094\" xlink:href=\"#DejaVuSans-121\"/>\n     </g>\n    </g>\n   </g>\n   <g id=\"line2d_16\">\n    <path clip-path=\"url(#p3148522792)\" d=\"M 55.821307 214.756364 \nL 73.1874 176.102928 \nL 82.022781 157.00593 \nL 89.33482 141.718433 \nL 95.732855 128.829663 \nL 101.826221 117.0494 \nL 107.31025 106.907958 \nL 112.489611 97.764814 \nL 117.668973 89.070813 \nL 122.543666 81.318033 \nL 127.11369 74.441644 \nL 131.683715 67.953989 \nL 136.253739 61.861815 \nL 140.519096 56.536466 \nL 144.784452 51.561208 \nL 149.049808 46.93628 \nL 153.010496 42.954419 \nL 156.971184 39.271834 \nL 160.931872 35.885955 \nL 164.89256 32.793619 \nL 168.853248 29.991215 \nL 172.813936 27.474833 \nL 176.469955 25.402379 \nL 180.125975 23.566982 \nL 183.781995 21.96553 \nL 187.438014 20.595088 \nL 191.094034 19.45297 \nL 194.750054 18.536816 \nL 198.406073 17.844645 \nL 202.062093 17.374912 \nL 205.718113 17.126542 \nL 209.374132 17.098959 \nL 213.030152 17.292098 \nL 216.686172 17.706409 \nL 220.342191 18.342843 \nL 223.998211 19.202832 \nL 227.654231 20.288251 \nL 231.31025 21.601372 \nL 234.96627 23.144805 \nL 238.62229 24.921429 \nL 242.278309 26.934322 \nL 245.934329 29.186666 \nL 249.895017 31.900638 \nL 253.855705 34.903363 \nL 257.816393 38.19856 \nL 261.777081 41.789546 \nL 265.737769 45.679091 \nL 269.698457 49.869263 \nL 273.963813 54.719355 \nL 278.229169 59.919793 \nL 282.494525 65.469367 \nL 287.06455 71.799501 \nL 291.634575 78.521365 \nL 296.204599 85.626707 \nL 301.079292 93.616141 \nL 306.258653 102.55091 \nL 311.742683 112.485742 \nL 317.531381 123.465107 \nL 323.624747 135.518932 \nL 330.327449 149.294636 \nL 337.639489 164.836674 \nL 346.474869 184.154318 \nL 359.880275 214.073488 \nL 360.184943 214.756364 \nL 360.184943 214.756364 \n\" style=\"fill:none;stroke:#1f77b4;stroke-linecap:square;stroke-width:1.5;\"/>\n   </g>\n   <g id=\"patch_3\">\n    <path d=\"M 40.603125 224.64 \nL 40.603125 7.2 \n\" style=\"fill:none;stroke:#000000;stroke-linecap:square;stroke-linejoin:miter;stroke-width:0.8;\"/>\n   </g>\n   <g id=\"patch_4\">\n    <path d=\"M 375.403125 224.64 \nL 375.403125 7.2 \n\" style=\"fill:none;stroke:#000000;stroke-linecap:square;stroke-linejoin:miter;stroke-width:0.8;\"/>\n   </g>\n   <g id=\"patch_5\">\n    <path d=\"M 40.603125 224.64 \nL 375.403125 224.64 \n\" style=\"fill:none;stroke:#000000;stroke-linecap:square;stroke-linejoin:miter;stroke-width:0.8;\"/>\n   </g>\n   <g id=\"patch_6\">\n    <path d=\"M 40.603125 7.2 \nL 375.403125 7.2 \n\" style=\"fill:none;stroke:#000000;stroke-linecap:square;stroke-linejoin:miter;stroke-width:0.8;\"/>\n   </g>\n   <g id=\"legend_1\">\n    <g id=\"patch_7\">\n     <path d=\"M 105.069531 219.64 \nL 310.936719 219.64 \nQ 312.936719 219.64 312.936719 217.64 \nL 312.936719 203.68375 \nQ 312.936719 201.68375 310.936719 201.68375 \nL 105.069531 201.68375 \nQ 103.069531 201.68375 103.069531 203.68375 \nL 103.069531 217.64 \nQ 103.069531 219.64 105.069531 219.64 \nz\n\" style=\"fill:#ffffff;opacity:0.8;stroke:#cccccc;stroke-linejoin:miter;\"/>\n    </g>\n    <g id=\"line2d_17\">\n     <path d=\"M 107.069531 209.782187 \nL 127.069531 209.782187 \n\" style=\"fill:none;stroke:#1f77b4;stroke-linecap:square;stroke-width:1.5;\"/>\n    </g>\n    <g id=\"line2d_18\"/>\n    <g id=\"text_17\">\n     <!-- vector_bert_base_-1,-2,-3,-4_mean -->\n     <defs>\n      <path d=\"M 2.984375 54.6875 \nL 12.5 54.6875 \nL 29.59375 8.796875 \nL 46.6875 54.6875 \nL 56.203125 54.6875 \nL 35.6875 0 \nL 23.484375 0 \nz\n\" id=\"DejaVuSans-118\"/>\n      <path d=\"M 48.78125 52.59375 \nL 48.78125 44.1875 \nQ 44.96875 46.296875 41.140625 47.34375 \nQ 37.3125 48.390625 33.40625 48.390625 \nQ 24.65625 48.390625 19.8125 42.84375 \nQ 14.984375 37.3125 14.984375 27.296875 \nQ 14.984375 17.28125 19.8125 11.734375 \nQ 24.65625 6.203125 33.40625 6.203125 \nQ 37.3125 6.203125 41.140625 7.25 \nQ 44.96875 8.296875 48.78125 10.40625 \nL 48.78125 2.09375 \nQ 45.015625 0.34375 40.984375 -0.53125 \nQ 36.96875 -1.421875 32.421875 -1.421875 \nQ 20.0625 -1.421875 12.78125 6.34375 \nQ 5.515625 14.109375 5.515625 27.296875 \nQ 5.515625 40.671875 12.859375 48.328125 \nQ 20.21875 56 33.015625 56 \nQ 37.15625 56 41.109375 55.140625 \nQ 45.0625 54.296875 48.78125 52.59375 \nz\n\" id=\"DejaVuSans-99\"/>\n      <path d=\"M 30.609375 48.390625 \nQ 23.390625 48.390625 19.1875 42.75 \nQ 14.984375 37.109375 14.984375 27.296875 \nQ 14.984375 17.484375 19.15625 11.84375 \nQ 23.34375 6.203125 30.609375 6.203125 \nQ 37.796875 6.203125 41.984375 11.859375 \nQ 46.1875 17.53125 46.1875 27.296875 \nQ 46.1875 37.015625 41.984375 42.703125 \nQ 37.796875 48.390625 30.609375 48.390625 \nz\nM 30.609375 56 \nQ 42.328125 56 49.015625 48.375 \nQ 55.71875 40.765625 55.71875 27.296875 \nQ 55.71875 13.875 49.015625 6.21875 \nQ 42.328125 -1.421875 30.609375 -1.421875 \nQ 18.84375 -1.421875 12.171875 6.21875 \nQ 5.515625 13.875 5.515625 27.296875 \nQ 5.515625 40.765625 12.171875 48.375 \nQ 18.84375 56 30.609375 56 \nz\n\" id=\"DejaVuSans-111\"/>\n      <path d=\"M 41.109375 46.296875 \nQ 39.59375 47.171875 37.8125 47.578125 \nQ 36.03125 48 33.890625 48 \nQ 26.265625 48 22.1875 43.046875 \nQ 18.109375 38.09375 18.109375 28.8125 \nL 18.109375 0 \nL 9.078125 0 \nL 9.078125 54.6875 \nL 18.109375 54.6875 \nL 18.109375 46.1875 \nQ 20.953125 51.171875 25.484375 53.578125 \nQ 30.03125 56 36.53125 56 \nQ 37.453125 56 38.578125 55.875 \nQ 39.703125 55.765625 41.0625 55.515625 \nz\n\" id=\"DejaVuSans-114\"/>\n      <path d=\"M 50.984375 -16.609375 \nL 50.984375 -23.578125 \nL -0.984375 -23.578125 \nL -0.984375 -16.609375 \nz\n\" id=\"DejaVuSans-95\"/>\n      <path d=\"M 48.6875 27.296875 \nQ 48.6875 37.203125 44.609375 42.84375 \nQ 40.53125 48.484375 33.40625 48.484375 \nQ 26.265625 48.484375 22.1875 42.84375 \nQ 18.109375 37.203125 18.109375 27.296875 \nQ 18.109375 17.390625 22.1875 11.75 \nQ 26.265625 6.109375 33.40625 6.109375 \nQ 40.53125 6.109375 44.609375 11.75 \nQ 48.6875 17.390625 48.6875 27.296875 \nz\nM 18.109375 46.390625 \nQ 20.953125 51.265625 25.265625 53.625 \nQ 29.59375 56 35.59375 56 \nQ 45.5625 56 51.78125 48.09375 \nQ 58.015625 40.1875 58.015625 27.296875 \nQ 58.015625 14.40625 51.78125 6.484375 \nQ 45.5625 -1.421875 35.59375 -1.421875 \nQ 29.59375 -1.421875 25.265625 0.953125 \nQ 20.953125 3.328125 18.109375 8.203125 \nL 18.109375 0 \nL 9.078125 0 \nL 9.078125 75.984375 \nL 18.109375 75.984375 \nz\n\" id=\"DejaVuSans-98\"/>\n      <path d=\"M 34.28125 27.484375 \nQ 23.390625 27.484375 19.1875 25 \nQ 14.984375 22.515625 14.984375 16.5 \nQ 14.984375 11.71875 18.140625 8.90625 \nQ 21.296875 6.109375 26.703125 6.109375 \nQ 34.1875 6.109375 38.703125 11.40625 \nQ 43.21875 16.703125 43.21875 25.484375 \nL 43.21875 27.484375 \nz\nM 52.203125 31.203125 \nL 52.203125 0 \nL 43.21875 0 \nL 43.21875 8.296875 \nQ 40.140625 3.328125 35.546875 0.953125 \nQ 30.953125 -1.421875 24.3125 -1.421875 \nQ 15.921875 -1.421875 10.953125 3.296875 \nQ 6 8.015625 6 15.921875 \nQ 6 25.140625 12.171875 29.828125 \nQ 18.359375 34.515625 30.609375 34.515625 \nL 43.21875 34.515625 \nL 43.21875 35.40625 \nQ 43.21875 41.609375 39.140625 45 \nQ 35.0625 48.390625 27.6875 48.390625 \nQ 23 48.390625 18.546875 47.265625 \nQ 14.109375 46.140625 10.015625 43.890625 \nL 10.015625 52.203125 \nQ 14.9375 54.109375 19.578125 55.046875 \nQ 24.21875 56 28.609375 56 \nQ 40.484375 56 46.34375 49.84375 \nQ 52.203125 43.703125 52.203125 31.203125 \nz\n\" id=\"DejaVuSans-97\"/>\n      <path d=\"M 4.890625 31.390625 \nL 31.203125 31.390625 \nL 31.203125 23.390625 \nL 4.890625 23.390625 \nz\n\" id=\"DejaVuSans-45\"/>\n      <path d=\"M 11.71875 12.40625 \nL 22.015625 12.40625 \nL 22.015625 4 \nL 14.015625 -11.625 \nL 7.71875 -11.625 \nL 11.71875 4 \nz\n\" id=\"DejaVuSans-44\"/>\n      <path d=\"M 52 44.1875 \nQ 55.375 50.25 60.0625 53.125 \nQ 64.75 56 71.09375 56 \nQ 79.640625 56 84.28125 50.015625 \nQ 88.921875 44.046875 88.921875 33.015625 \nL 88.921875 0 \nL 79.890625 0 \nL 79.890625 32.71875 \nQ 79.890625 40.578125 77.09375 44.375 \nQ 74.3125 48.1875 68.609375 48.1875 \nQ 61.625 48.1875 57.5625 43.546875 \nQ 53.515625 38.921875 53.515625 30.90625 \nL 53.515625 0 \nL 44.484375 0 \nL 44.484375 32.71875 \nQ 44.484375 40.625 41.703125 44.40625 \nQ 38.921875 48.1875 33.109375 48.1875 \nQ 26.21875 48.1875 22.15625 43.53125 \nQ 18.109375 38.875 18.109375 30.90625 \nL 18.109375 0 \nL 9.078125 0 \nL 9.078125 54.6875 \nL 18.109375 54.6875 \nL 18.109375 46.1875 \nQ 21.1875 51.21875 25.484375 53.609375 \nQ 29.78125 56 35.6875 56 \nQ 41.65625 56 45.828125 52.96875 \nQ 50 49.953125 52 44.1875 \nz\n\" id=\"DejaVuSans-109\"/>\n     </defs>\n     <g transform=\"translate(135.069531 213.282187)scale(0.1 -0.1)\">\n      <use xlink:href=\"#DejaVuSans-118\"/>\n      <use x=\"59.179688\" xlink:href=\"#DejaVuSans-101\"/>\n      <use x=\"120.703125\" xlink:href=\"#DejaVuSans-99\"/>\n      <use x=\"175.683594\" xlink:href=\"#DejaVuSans-116\"/>\n      <use x=\"214.892578\" xlink:href=\"#DejaVuSans-111\"/>\n      <use x=\"276.074219\" xlink:href=\"#DejaVuSans-114\"/>\n      <use x=\"317.1875\" xlink:href=\"#DejaVuSans-95\"/>\n      <use x=\"367.1875\" xlink:href=\"#DejaVuSans-98\"/>\n      <use x=\"430.664062\" xlink:href=\"#DejaVuSans-101\"/>\n      <use x=\"492.1875\" xlink:href=\"#DejaVuSans-114\"/>\n      <use x=\"533.300781\" xlink:href=\"#DejaVuSans-116\"/>\n      <use x=\"572.509766\" xlink:href=\"#DejaVuSans-95\"/>\n      <use x=\"622.509766\" xlink:href=\"#DejaVuSans-98\"/>\n      <use x=\"685.986328\" xlink:href=\"#DejaVuSans-97\"/>\n      <use x=\"747.265625\" xlink:href=\"#DejaVuSans-115\"/>\n      <use x=\"799.365234\" xlink:href=\"#DejaVuSans-101\"/>\n      <use x=\"860.888672\" xlink:href=\"#DejaVuSans-95\"/>\n      <use x=\"910.888672\" xlink:href=\"#DejaVuSans-45\"/>\n      <use x=\"946.972656\" xlink:href=\"#DejaVuSans-49\"/>\n      <use x=\"1010.595703\" xlink:href=\"#DejaVuSans-44\"/>\n      <use x=\"1042.382812\" xlink:href=\"#DejaVuSans-45\"/>\n      <use x=\"1078.466797\" xlink:href=\"#DejaVuSans-50\"/>\n      <use x=\"1142.089844\" xlink:href=\"#DejaVuSans-44\"/>\n      <use x=\"1173.876953\" xlink:href=\"#DejaVuSans-45\"/>\n      <use x=\"1209.960938\" xlink:href=\"#DejaVuSans-51\"/>\n      <use x=\"1273.583984\" xlink:href=\"#DejaVuSans-44\"/>\n      <use x=\"1305.371094\" xlink:href=\"#DejaVuSans-45\"/>\n      <use x=\"1341.455078\" xlink:href=\"#DejaVuSans-52\"/>\n      <use x=\"1405.078125\" xlink:href=\"#DejaVuSans-95\"/>\n      <use x=\"1455.078125\" xlink:href=\"#DejaVuSans-109\"/>\n      <use x=\"1552.490234\" xlink:href=\"#DejaVuSans-101\"/>\n      <use x=\"1614.013672\" xlink:href=\"#DejaVuSans-97\"/>\n      <use x=\"1675.292969\" xlink:href=\"#DejaVuSans-110\"/>\n     </g>\n    </g>\n   </g>\n  </g>\n </g>\n <defs>\n  <clipPath id=\"p3148522792\">\n   <rect height=\"217.44\" width=\"334.8\" x=\"40.603125\" y=\"7.2\"/>\n  </clipPath>\n </defs>\n</svg>\n",
      "image/png": "[encoded data removed]"
     },
     "metadata": {
      "needs_background": "light"
     }
    }
   ],
   "source": [
    "dfL = pd.DataFrame([sims,df_val.label]).T\n",
    "dfL[dfL.label==\"0\"].plot(kind='density')\n",
    "dfL[dfL.label==\"1\"].plot(kind='density')"
   ]
  },
  {
   "cell_type": "code",
   "execution_count": 42,
   "metadata": {},
   "outputs": [
    {
     "output_type": "display_data",
     "data": {
      "text/plain": "HBox(children=(FloatProgress(value=0.0, max=40.0), HTML(value='')))",
      "application/vnd.jupyter.widget-view+json": {
       "version_major": 2,
       "version_minor": 0,
       "model_id": "c278c4b6799e4452a9ede831cbf41be5"
      }
     },
     "metadata": {}
    },
    {
     "output_type": "stream",
     "name": "stdout",
     "text": [
      "\n"
     ]
    },
    {
     "output_type": "execute_result",
     "data": {
      "text/plain": [
       "{'1': [0.5, 1.0, 0.667], '0': [1.0, 0.919, 0.958]}"
      ]
     },
     "metadata": {},
     "execution_count": 42
    }
   ],
   "source": [
    "df_test[f\"bert_contrast_{vector_type}\"] = df_test[vector_type].progress_apply(wsd.bert_semaxis_vector,\n",
    "                                                    sem_axis=sem_axis,\n",
    "                                                    threshold=.0)\n",
    "wsd.eval(f\"bert_contrast_{vector_type}\",df_test)"
   ]
  },
  {
   "source": [
    "# Time sensitive"
   ],
   "cell_type": "markdown",
   "metadata": {}
  },
  {
   "cell_type": "code",
   "execution_count": 60,
   "metadata": {},
   "outputs": [
    {
     "output_type": "display_data",
     "data": {
      "text/plain": "HBox(children=(FloatProgress(value=0.0, max=40.0), HTML(value='')))",
      "application/vnd.jupyter.widget-view+json": {
       "version_major": 2,
       "version_minor": 0,
       "model_id": "5237e577a47648ff914e7f3fed928718"
      }
     },
     "metadata": {}
    },
    {
     "output_type": "stream",
     "name": "stdout",
     "text": [
      "\n"
     ]
    },
    {
     "output_type": "execute_result",
     "data": {
      "text/plain": [
       "48     {'0': 0.7285661101341248, '1': 0.6312580108642...\n",
       "130    {'0': 0.830029308795929, '1': 0.6994504928588867}\n",
       "63     {'0': 0.791853666305542, '1': 0.6461601853370667}\n",
       "174    {'0': 0.8632854223251343, '1': 0.7023310661315...\n",
       "102    {'0': 0.8019722104072571, '1': 0.5857865214347...\n",
       "106    {'0': 0.7227280735969543, '1': 0.616225004196167}\n",
       "20     {'0': 0.6942027807235718, '1': 0.6270302534103...\n",
       "194     {'0': 0.52796870470047, '1': 0.7265188097953796}\n",
       "87     {'0': 0.8429628610610962, '1': 0.6334317326545...\n",
       "74     {'0': 0.7789071202278137, '1': 0.6116113662719...\n",
       "107    {'0': 0.7457500696182251, '1': 0.6065853238105...\n",
       "151    {'0': 0.8123207688331604, '1': 0.633213996887207}\n",
       "21     {'0': 0.5040832161903381, '1': 0.4442103207111...\n",
       "71     {'0': 0.7709633111953735, '1': 0.6255887746810...\n",
       "149    {'0': 0.8313402533531189, '1': 0.6970073580741...\n",
       "50     {'0': 0.712952733039856, '1': 0.4917427599430084}\n",
       "88     {'0': 0.8596712946891785, '1': 0.711310088634491}\n",
       "157    {'0': 0.621320366859436, '1': 0.5061470866203308}\n",
       "196    {'0': 0.612468957901001, '1': 0.8137995600700378}\n",
       "169    {'0': 0.6750429272651672, '1': 0.7833318114280...\n",
       "129    {'0': 0.8004880547523499, '1': 0.7506970763206...\n",
       "1      {'0': 0.8092541098594666, '1': 0.6334425806999...\n",
       "57     {'0': 0.7644339799880981, '1': 0.6953176259994...\n",
       "195    {'0': 0.6112989187240601, '1': 0.6827598810195...\n",
       "37      {'0': 0.822271466255188, '1': 0.709269106388092}\n",
       "178    {'0': 0.645007848739624, '1': 0.5256374478340149}\n",
       "58     {'0': 0.7898457050323486, '1': 0.6470369100570...\n",
       "153    {'0': 0.6782395839691162, '1': 0.467406690120697}\n",
       "52     {'0': 0.752507209777832, '1': 0.4864790141582489}\n",
       "14     {'0': 0.7368599772453308, '1': 0.7233086228370...\n",
       "54     {'0': 0.6630102396011353, '1': 0.6923062801361...\n",
       "179    {'0': 0.8211952447891235, '1': 0.703704297542572}\n",
       "181    {'0': 0.7434138059616089, '1': 0.5974228382110...\n",
       "160    {'0': 0.6466230750083923, '1': 0.5594227910041...\n",
       "103    {'0': 0.8371235132217407, '1': 0.7302444577217...\n",
       "99     {'0': 0.7083984613418579, '1': 0.6460250020027...\n",
       "92     {'0': 0.8201348185539246, '1': 0.6767348647117...\n",
       "116    {'0': 0.7960166335105896, '1': 0.6608918309211...\n",
       "121    {'0': 0.8252570033073425, '1': 0.6799253225326...\n",
       "189    {'0': 0.655905544757843, '1': 0.7232449650764465}\n",
       "dtype: object"
      ]
     },
     "metadata": {},
     "execution_count": 60
    }
   ],
   "source": [
    "ranking = df_test.progress_apply(wsd.bert_ts_binary_centroid_vector, \n",
    "                                df_train=df_train, \n",
    "                                return_ranking=True, \n",
    "                                ts_method='weighted',\n",
    "                                axis=1)\n",
    "ranking\n"
   ]
  },
  {
   "cell_type": "code",
   "execution_count": 57,
   "metadata": {},
   "outputs": [
    {
     "output_type": "display_data",
     "data": {
      "text/plain": "HBox(children=(FloatProgress(value=0.0, max=40.0), HTML(value='')))",
      "application/vnd.jupyter.widget-view+json": {
       "version_major": 2,
       "version_minor": 0,
       "model_id": "0497be0d10fd4610937849ebabcb19c6"
      }
     },
     "metadata": {}
    },
    {
     "output_type": "stream",
     "name": "stdout",
     "text": [
      "\n"
     ]
    },
    {
     "output_type": "execute_result",
     "data": {
      "text/plain": [
       "{'1': [0.5, 1.0, 0.667], '0': [1.0, 0.919, 0.958]}"
      ]
     },
     "metadata": {},
     "execution_count": 57
    }
   ],
   "source": [
    "df_test[f\"bert_ts_nn_polar_{vector_type}\"] = df_test.progress_apply(wsd.bert_ts_binary_centroid_vector, \n",
    "                                                        df_train=df_train, \n",
    "                                                        ts_method='weighted',\n",
    "                                                        axis=1)\n",
    "wsd.eval(f\"bert_ts_nn_polar_{vector_type}\",df_test)"
   ]
  },
  {
   "cell_type": "code",
   "execution_count": 39,
   "metadata": {},
   "outputs": [
    {
     "output_type": "display_data",
     "data": {
      "text/plain": "HBox(children=(FloatProgress(value=0.0, max=104.0), HTML(value='')))",
      "application/vnd.jupyter.widget-view+json": {
       "version_major": 2,
       "version_minor": 0,
       "model_id": "1aecfd9ec2794fa7817d0afa6983a8f3"
      }
     },
     "metadata": {}
    },
    {
     "output_type": "stream",
     "name": "stdout",
     "text": [
      "\n"
     ]
    },
    {
     "output_type": "execute_result",
     "data": {
      "text/plain": [
       "{'1': [0.0, 0.0, 0.0], '0': [0.904, 1.0, 0.949]}"
      ]
     },
     "metadata": {},
     "execution_count": 39
    }
   ],
   "source": [
    "#df_test[f\"bert_ts_nn_polar_{vector_type}\"] = df_test.progress_apply(wsd.bert_ts_semaxis_vector, df_train=df_train, axis=1)\n",
    "#wsd.eval(f\"bert_ts_nn_polar_{vector_type}\",df_test)"
   ]
  },
  {
   "source": [
    "## At the sense level"
   ],
   "cell_type": "markdown",
   "metadata": {}
  },
  {
   "cell_type": "code",
   "execution_count": 62,
   "metadata": {},
   "outputs": [
    {
     "output_type": "display_data",
     "data": {
      "text/plain": "HBox(children=(FloatProgress(value=0.0, max=40.0), HTML(value='')))",
      "application/vnd.jupyter.widget-view+json": {
       "version_major": 2,
       "version_minor": 0,
       "model_id": "5976e91ec4114f49883b60aedf4db6e7"
      }
     },
     "metadata": {}
    },
    {
     "output_type": "stream",
     "name": "stdout",
     "text": [
      "\n"
     ]
    },
    {
     "output_type": "execute_result",
     "data": {
      "text/plain": [
       "48     {'machine_nn01-38473945': 0.6052708625793457, ...\n",
       "130    {'machine_nn01-38473945': 0.7032647132873535, ...\n",
       "63     {'machine_nn01-38473945': 0.5851057767868042, ...\n",
       "174    {'machine_nn01-38473945': 0.6916408538818359, ...\n",
       "102    {'machine_nn01-38473945': 0.575348436832428, '...\n",
       "106    {'machine_nn01-38473945': 0.5598823428153992, ...\n",
       "20     {'machine_nn01-38473945': 0.5434926748275757, ...\n",
       "194    {'biocomputer_nn01-11753021': 0.80939692258834...\n",
       "87     {'machine_nn01-38473945': 0.7461997866630554, ...\n",
       "74     {'machine_nn01-38473945': 0.6296086311340332, ...\n",
       "107    {'machine_nn01-38473945': 0.6221022605895996, ...\n",
       "151    {'machine_nn01-38473945': 0.7107853889465332, ...\n",
       "21     {'machine_nn01-38473945': 0.3386283218860626, ...\n",
       "71     {'machine_nn01-38473945': 0.6119284629821777, ...\n",
       "149    {'machine_nn01-38473945': 0.6607771515846252, ...\n",
       "50     {'machine_nn01-38473945': 0.5646792054176331, ...\n",
       "88     {'machine_nn01-38473945': 0.7568649053573608, ...\n",
       "157    {'machine_nn01-38473945': 0.399326890707016, '...\n",
       "196    {'turingmachine_nn01-17499756': 0.887635648250...\n",
       "169    {'machine_nn01-38473945': 0.5087777376174927, ...\n",
       "129    {'machine_nn01-38473945': 0.7143184542655945, ...\n",
       "1      {'machine_nn01-38473945': 0.7428480982780457, ...\n",
       "57     {'machine_nn01-38473945': 0.6463755369186401, ...\n",
       "195    {'turingmachine_nn01-17499756': 0.807375252246...\n",
       "37     {'machine_nn01-38473945': 0.6672079563140869, ...\n",
       "178    {'machine_nn01-38473945': 0.45906561613082886,...\n",
       "58     {'machine_nn01-38473945': 0.6548314094543457, ...\n",
       "153    {'machine_nn01-38473945': 0.4392967224121094, ...\n",
       "52     {'machine_nn01-38473945': 0.47812166810035706,...\n",
       "14     {'machine_nn01-38473945': 0.6615387797355652, ...\n",
       "54     {'machine_nn01-38473945': 0.5389608144760132, ...\n",
       "179    {'machine_nn01-38473945': 0.7089537382125854, ...\n",
       "181    {'machine_nn01-38473945': 0.6939408183097839, ...\n",
       "160    {'machine_nn01-38473945': 0.5410984754562378, ...\n",
       "103    {'machine_nn01-38473945': 0.7420462965965271, ...\n",
       "99     {'machine_nn01-38473945': 0.6742762923240662, ...\n",
       "92     {'machine_nn01-38473945': 0.6826861500740051, ...\n",
       "116    {'machine_nn01-38473945': 0.6813451647758484, ...\n",
       "121    {'machine_nn01-38473945': 0.7464401721954346, ...\n",
       "189    {'biocomputer_nn01-11753021': 0.66281586885452...\n",
       "dtype: object"
      ]
     },
     "metadata": {},
     "execution_count": 62
    }
   ],
   "source": [
    "senseid2label = dict(df_test[['sense_id','label']].values)\n",
    "ranking = df_test.progress_apply(wsd.bert_ts_sense_centroid_vector,  \n",
    "                        senseid2label= senseid2label,\n",
    "                        ts_method='nearest_in_time',\n",
    "                        return_ranking=True,\n",
    "                        df_train = df_train, axis=1)\n",
    "ranking "
   ]
  },
  {
   "cell_type": "code",
   "execution_count": 63,
   "metadata": {},
   "outputs": [
    {
     "output_type": "display_data",
     "data": {
      "text/plain": "HBox(children=(FloatProgress(value=0.0, max=40.0), HTML(value='')))",
      "application/vnd.jupyter.widget-view+json": {
       "version_major": 2,
       "version_minor": 0,
       "model_id": "fbf3ed2daf334d00b3b5d5dfc1ecd17c"
      }
     },
     "metadata": {}
    },
    {
     "output_type": "stream",
     "name": "stdout",
     "text": [
      "\n"
     ]
    },
    {
     "output_type": "execute_result",
     "data": {
      "text/plain": [
       "{'1': [1.0, 1.0, 1.0], '0': [1.0, 1.0, 1.0]}"
      ]
     },
     "metadata": {},
     "execution_count": 63
    }
   ],
   "source": [
    "senseid2label = dict(df_test[['sense_id','label']].values)\n",
    "df_test[f\"bert_centroid_sense_{vector_type}\"] = df_test.progress_apply(wsd.bert_ts_sense_centroid_vector,  \n",
    "                        senseid2label= senseid2label,\n",
    "                        ts_method='nearest_in_time',\n",
    "                        df_train = df_train, axis=1)\n",
    "\n",
    "wsd.eval(f\"bert_centroid_sense_{vector_type}\",df_test)\n"
   ]
  },
  {
   "source": [
    "# Eval at the lemma level"
   ],
   "cell_type": "markdown",
   "metadata": {}
  },
  {
   "cell_type": "code",
   "execution_count": 5,
   "metadata": {},
   "outputs": [],
   "source": [
    "\n",
    "embedding_methods = {'bert_base': {\"path\":'bert-base-uncased',\n",
    "                                   'layers':'-1,-2,-3,-4',\n",
    "                                   'pooling_operation':'mean'},\n",
    "                     'blert': {\"path\":'/deezy_datadrive/kaspar-playground/bert_model/FT_bert_base_uncased_all_books_v002',\n",
    "                                    'layers':'-1,-2,-3,-4',\n",
    "                                    'pooling_operation':'mean'},\n",
    "                     'bert_1850':{\"path\":\"/datadrive/khosseini/LM_with_bert_MOVED_to_another_VM_REMOVE_FROM_NOVEMBER/models/bert/FT_bert_base_uncased_before_1850_v001\", \n",
    "                                    'layers':'-1,-2,-3,-4',\n",
    "                                    'pooling_operation':'mean'},\n",
    "                      'bert_1900': {\"path\":\"/datadrive/khosseini/LM_with_bert_MOVED_to_another_VM_REMOVE_FROM_NOVEMBER/models/bert/FT_bert_base_uncased_after_1890_before_1900_v002\",\n",
    "                                    'layers':'-1,-2,-3,-4',\n",
    "                                    'pooling_operation':'mean'},\n",
    "                      'bert_1875': {\"path\":\"/datadrive/khosseini/LM_with_bert_MOVED_to_another_VM_REMOVE_FROM_NOVEMBER/models/bert/FT_bert_base_uncased_after_1850_before_1875_v002\",\n",
    "                                    'layers':'-1,-2,-3,-4',\n",
    "                                    'pooling_operation':'mean'},\n",
    "                      'bert_1890': {\"path\":\"/datadrive/khosseini/LM_with_bert_MOVED_to_another_VM_REMOVE_FROM_NOVEMBER/models/bert/FT_bert_base_uncased_after_1875_before_1890_v002\",\n",
    "                                    'layers':'-1,-2,-3,-4',\n",
    "                                    'pooling_operation':'mean'}\n",
    "                                    }\n"
   ]
  },
  {
   "cell_type": "code",
   "execution_count": 8,
   "metadata": {},
   "outputs": [
    {
     "output_type": "stream",
     "name": "stdout",
     "text": [
      "machine_nn01-38475923\n",
      "# senses before filtering by date = 517\n",
      "# senses after filtering by date = 352\n",
      "\n",
      "\n",
      "# of seed senses 22 \n",
      "# of synonyms 310 \n",
      "# of branch senses 0\n",
      "\n",
      "\n",
      "# of seeds selected 1 \n",
      "# of synonyms selected 8 \n",
      "# of branches selected 0\n",
      "[LOG] #rows before removing None vector (263, 25)\n",
      "[LOG] #rows after removing None vector (263, 25)\n",
      "100%|██████████| 53/53 [00:00<00:00, 26226.77it/s]\n",
      "Using lemma_etal as evaluation mode.\n",
      "100%|██████████| 53/53 [00:00<00:00, 138.30it/s]\n",
      "100%|██████████| 53/53 [00:14<00:00,  3.59it/s]\n",
      "100%|██████████| 53/53 [00:00<00:00, 1624.81it/s]\n",
      "100%|██████████| 53/53 [00:00<00:00, 180.62it/s]\n",
      "100%|██████████| 53/53 [00:00<00:00, 96.54it/s]\n",
      "100%|██████████| 53/53 [00:00<00:00, 7994.61it/s]\n",
      "machine_nn01-38474301\n",
      "# senses before filtering by date = 517\n",
      "# senses after filtering by date = 352\n",
      "\n",
      "\n",
      "# of seed senses 22 \n",
      "# of synonyms 310 \n",
      "# of branch senses 0\n",
      "\n",
      "\n",
      "# of seeds selected 1 \n",
      "# of synonyms selected 3 \n",
      "# of branches selected 0\n",
      "[LOG] #rows before removing None vector (152, 25)\n",
      "[LOG] #rows after removing None vector (152, 25)\n",
      "100%|██████████| 31/31 [00:00<00:00, 14048.99it/s]\n",
      "  0%|          | 0/31 [00:00<?, ?it/s]Using lemma_etal as evaluation mode.\n",
      "100%|██████████| 31/31 [00:00<00:00, 211.97it/s]\n",
      "100%|██████████| 31/31 [00:04<00:00,  7.34it/s]\n",
      "100%|██████████| 31/31 [00:00<00:00, 1612.97it/s]\n",
      "100%|██████████| 31/31 [00:00<00:00, 199.03it/s]\n",
      "100%|██████████| 31/31 [00:00<00:00, 109.25it/s]\n",
      "100%|██████████| 31/31 [00:00<00:00, 6533.51it/s]\n",
      "machine_nn01-38474140\n",
      "# senses before filtering by date = 517\n",
      "# senses after filtering by date = 352\n",
      "\n",
      "\n",
      "# of seed senses 22 \n",
      "# of synonyms 310 \n",
      "# of branch senses 0\n",
      "\n",
      "\n",
      "# of seeds selected 1 \n",
      "# of synonyms selected 38 \n",
      "# of branches selected 0\n",
      "[LOG] #rows before removing None vector (966, 25)\n",
      "[LOG] #rows after removing None vector (945, 25)\n",
      "100%|██████████| 189/189 [00:00<00:00, 51757.86it/s]\n",
      "Using lemma_etal as evaluation mode.\n",
      "100%|██████████| 189/189 [00:04<00:00, 44.91it/s]\n",
      "100%|██████████| 189/189 [03:09<00:00,  1.00s/it]\n",
      "100%|██████████| 189/189 [00:00<00:00, 1737.46it/s]\n",
      "100%|██████████| 189/189 [00:01<00:00, 98.86it/s]\n",
      "100%|██████████| 189/189 [00:02<00:00, 86.23it/s]\n",
      "100%|██████████| 189/189 [00:00<00:00, 11399.04it/s]\n",
      "machine_nn01-38474877\n",
      "# senses before filtering by date = 517\n",
      "# senses after filtering by date = 352\n",
      "\n",
      "\n",
      "# of seed senses 22 \n",
      "# of synonyms 310 \n",
      "# of branch senses 0\n",
      "\n",
      "\n",
      "# of seeds selected 1 \n",
      "# of synonyms selected 4 \n",
      "# of branches selected 0\n",
      "[LOG] #rows before removing None vector (273, 25)\n",
      "[LOG] #rows after removing None vector (267, 25)\n",
      "100%|██████████| 54/54 [00:00<00:00, 25292.29it/s]\n",
      "Using lemma_etal as evaluation mode.\n",
      "100%|██████████| 54/54 [00:00<00:00, 143.02it/s]\n",
      "100%|██████████| 54/54 [00:17<00:00,  3.16it/s]\n",
      "100%|██████████| 54/54 [00:00<00:00, 1770.38it/s]\n",
      "100%|██████████| 54/54 [00:00<00:00, 190.59it/s]\n",
      "100%|██████████| 54/54 [00:00<00:00, 93.31it/s]\n",
      "100%|██████████| 54/54 [00:00<00:00, 11369.53it/s]\n",
      "machine_nn01-38474974\n",
      "# senses before filtering by date = 517\n",
      "# senses after filtering by date = 352\n",
      "\n",
      "\n",
      "# of seed senses 22 \n",
      "# of synonyms 310 \n",
      "# of branch senses 0\n",
      "\n",
      "\n",
      "# of seeds selected 1 \n",
      "# of synonyms selected 6 \n",
      "# of branches selected 0\n",
      "[LOG] #rows before removing None vector (212, 25)\n",
      "[LOG] #rows after removing None vector (211, 25)\n",
      "100%|██████████| 43/43 [00:00<00:00, 17938.64it/s]\n",
      "  0%|          | 0/43 [00:00<?, ?it/s]Using lemma_etal as evaluation mode.\n",
      "100%|██████████| 43/43 [00:00<00:00, 190.23it/s]\n",
      "100%|██████████| 43/43 [00:08<00:00,  4.92it/s]\n",
      "100%|██████████| 43/43 [00:00<00:00, 1638.61it/s]\n",
      "100%|██████████| 43/43 [00:00<00:00, 193.71it/s]\n",
      "100%|██████████| 43/43 [00:00<00:00, 122.76it/s]\n",
      "100%|██████████| 43/43 [00:00<00:00, 7143.62it/s]\n",
      "machine_nn01-38476096\n",
      "# senses before filtering by date = 517\n",
      "# senses after filtering by date = 352\n",
      "\n",
      "\n",
      "# of seed senses 22 \n",
      "# of synonyms 310 \n",
      "# of branch senses 0\n",
      "\n",
      "\n",
      "# of seeds selected 1 \n",
      "# of synonyms selected 2 \n",
      "# of branches selected 0\n",
      "[LOG] #rows before removing None vector (104, 25)\n",
      "[LOG] #rows after removing None vector (104, 25)\n",
      "100%|██████████| 21/21 [00:00<00:00, 11033.49it/s]\n",
      "100%|██████████| 21/21 [00:00<00:00, 275.60it/s]\n",
      "  0%|          | 0/21 [00:00<?, ?it/s]Using lemma_etal as evaluation mode.\n",
      "100%|██████████| 21/21 [00:01<00:00, 11.42it/s]\n",
      "100%|██████████| 21/21 [00:00<00:00, 1761.33it/s]\n",
      "100%|██████████| 21/21 [00:00<00:00, 220.86it/s]\n",
      "100%|██████████| 21/21 [00:00<00:00, 93.87it/s] \n",
      "100%|██████████| 21/21 [00:00<00:00, 6889.35it/s]\n",
      "machine_nn01-38475013\n",
      "# senses before filtering by date = 517\n",
      "# senses after filtering by date = 352\n",
      "\n",
      "\n",
      "# of seed senses 22 \n",
      "# of synonyms 310 \n",
      "# of branch senses 0\n",
      "\n",
      "\n",
      "# of seeds selected 1 \n",
      "# of synonyms selected 4 \n",
      "# of branches selected 0\n",
      "[LOG] #rows before removing None vector (182, 25)\n",
      "[LOG] #rows after removing None vector (179, 25)\n",
      "100%|██████████| 36/36 [00:00<00:00, 16614.76it/s]\n",
      "  0%|          | 0/36 [00:00<?, ?it/s]Using lemma_etal as evaluation mode.\n",
      "100%|██████████| 36/36 [00:00<00:00, 191.50it/s]\n",
      "100%|██████████| 36/36 [00:06<00:00,  5.15it/s]\n",
      "100%|██████████| 36/36 [00:00<00:00, 1727.20it/s]\n",
      "100%|██████████| 36/36 [00:00<00:00, 205.46it/s]\n",
      "100%|██████████| 36/36 [00:00<00:00, 108.81it/s]\n",
      "100%|██████████| 36/36 [00:00<00:00, 9742.24it/s]\n",
      "machine_nn01-38475772\n",
      "# senses before filtering by date = 517\n",
      "# senses after filtering by date = 352\n",
      "\n",
      "\n",
      "# of seed senses 22 \n",
      "# of synonyms 310 \n",
      "# of branch senses 0\n",
      "\n",
      "\n",
      "# of seeds selected 1 \n",
      "# of synonyms selected 4 \n",
      "# of branches selected 0\n",
      "[LOG] #rows before removing None vector (122, 25)\n",
      "[LOG] #rows after removing None vector (120, 25)\n",
      "100%|██████████| 24/24 [00:00<00:00, 11684.65it/s]\n",
      "100%|██████████| 24/24 [00:00<00:00, 290.06it/s]\n",
      "  0%|          | 0/24 [00:00<?, ?it/s]Using lemma_etal as evaluation mode.\n",
      "100%|██████████| 24/24 [00:02<00:00, 10.72it/s]\n",
      "100%|██████████| 24/24 [00:00<00:00, 1469.45it/s]\n",
      "100%|██████████| 24/24 [00:00<00:00, 214.30it/s]\n",
      "100%|██████████| 24/24 [00:00<00:00, 100.48it/s]\n",
      "100%|██████████| 24/24 [00:00<00:00, 6706.86it/s]\n",
      "machine_nn01-38475494\n",
      "# senses before filtering by date = 517\n",
      "# senses after filtering by date = 352\n",
      "\n",
      "\n",
      "# of seed senses 22 \n",
      "# of synonyms 310 \n",
      "# of branch senses 0\n",
      "\n",
      "\n",
      "# of seeds selected 1 \n",
      "# of synonyms selected 0 \n",
      "# of branches selected 0\n",
      "[LOG] #rows before removing None vector (99, 25)\n",
      "[LOG] #rows after removing None vector (99, 25)\n",
      "100%|██████████| 20/20 [00:00<00:00, 11244.78it/s]\n",
      "100%|██████████| 20/20 [00:00<00:00, 307.32it/s]\n",
      " 15%|█▌        | 3/20 [00:00<00:00, 20.00it/s]Using lemma_etal as evaluation mode.\n",
      "100%|██████████| 20/20 [00:01<00:00, 13.28it/s]\n",
      "100%|██████████| 20/20 [00:00<00:00, 1485.08it/s]\n",
      "100%|██████████| 20/20 [00:00<00:00, 220.04it/s]\n",
      "100%|██████████| 20/20 [00:00<00:00, 93.32it/s] \n",
      "100%|██████████| 20/20 [00:00<00:00, 6712.50it/s]\n",
      "machine_nn01-38474097\n",
      "# senses before filtering by date = 517\n",
      "# senses after filtering by date = 352\n",
      "\n",
      "\n",
      "# of seed senses 22 \n",
      "# of synonyms 310 \n",
      "# of branch senses 0\n",
      "\n",
      "\n",
      "# of seeds selected 0 \n",
      "# of synonyms selected 29 \n",
      "# of branches selected 0\n",
      "[LOG] #rows before removing None vector (766, 25)\n",
      "[LOG] #rows after removing None vector (759, 25)\n",
      "100%|██████████| 152/152 [00:00<00:00, 46339.16it/s]\n",
      "Using lemma_etal as evaluation mode.\n",
      "100%|██████████| 152/152 [00:02<00:00, 63.77it/s]\n",
      "100%|██████████| 152/152 [02:11<00:00,  1.16it/s]\n",
      "100%|██████████| 152/152 [00:00<00:00, 1795.64it/s]\n",
      "100%|██████████| 152/152 [00:01<00:00, 121.16it/s]\n",
      "100%|██████████| 152/152 [00:01<00:00, 111.30it/s]\n",
      "100%|██████████| 152/152 [00:00<00:00, 9539.64it/s]\n",
      "machine_nn01-38475046\n",
      "# senses before filtering by date = 517\n",
      "# senses after filtering by date = 352\n",
      "\n",
      "\n",
      "# of seed senses 22 \n",
      "# of synonyms 310 \n",
      "# of branch senses 0\n",
      "\n",
      "\n",
      "# of seeds selected 1 \n",
      "# of synonyms selected 9 \n",
      "# of branches selected 0\n",
      "[LOG] #rows before removing None vector (205, 25)\n",
      "[LOG] #rows after removing None vector (204, 25)\n",
      "100%|██████████| 41/41 [00:00<00:00, 18111.27it/s]\n",
      "Using lemma_etal as evaluation mode.\n",
      "100%|██████████| 41/41 [00:00<00:00, 185.96it/s]\n",
      "100%|██████████| 41/41 [00:08<00:00,  4.86it/s]\n",
      "100%|██████████| 41/41 [00:00<00:00, 1634.76it/s]\n",
      "100%|██████████| 41/41 [00:00<00:00, 195.87it/s]\n",
      "100%|██████████| 41/41 [00:00<00:00, 117.88it/s]\n",
      "100%|██████████| 41/41 [00:00<00:00, 7394.82it/s]\n",
      "machine_nn01-38476316\n",
      "# senses before filtering by date = 517\n",
      "# senses after filtering by date = 352\n",
      "\n",
      "\n",
      "# of seed senses 22 \n",
      "# of synonyms 310 \n",
      "# of branch senses 0\n",
      "\n",
      "\n",
      "# of seeds selected 1 \n",
      "# of synonyms selected 65 \n",
      "# of branches selected 0\n",
      "[LOG] #rows before removing None vector (1554, 25)\n",
      "[LOG] #rows after removing None vector (1544, 25)\n",
      "100%|██████████| 309/309 [00:00<00:00, 53644.04it/s]\n",
      "Using lemma_etal as evaluation mode.\n",
      "100%|██████████| 309/309 [00:09<00:00, 33.04it/s]\n",
      "100%|██████████| 309/309 [09:01<00:00,  1.75s/it]\n",
      "100%|██████████| 309/309 [00:00<00:00, 1691.85it/s]\n",
      "100%|██████████| 309/309 [00:04<00:00, 68.65it/s]\n",
      "100%|██████████| 309/309 [00:02<00:00, 113.98it/s]\n",
      "100%|██████████| 309/309 [00:00<00:00, 7846.04it/s]\n",
      "machine_nn01-38475835\n",
      "# senses before filtering by date = 517\n",
      "# senses after filtering by date = 352\n",
      "\n",
      "\n",
      "# of seed senses 22 \n",
      "# of synonyms 310 \n",
      "# of branch senses 0\n",
      "\n",
      "\n",
      "# of seeds selected 0 \n",
      "# of synonyms selected 0 \n",
      "# of branches selected 0\n",
      "\n",
      "There are no quotations available, given this sense-id and time-frame.\n",
      "machine_nn01-38473945\n",
      "# senses before filtering by date = 517\n",
      "# senses after filtering by date = 352\n",
      "\n",
      "\n",
      "# of seed senses 22 \n",
      "# of synonyms 310 \n",
      "# of branch senses 0\n",
      "\n",
      "\n",
      "# of seeds selected 1 \n",
      "# of synonyms selected 10 \n",
      "# of branches selected 0\n",
      "[LOG] #rows before removing None vector (363, 25)\n",
      "[LOG] #rows after removing None vector (361, 25)\n",
      "100%|██████████| 73/73 [00:00<00:00, 24913.28it/s]\n",
      "Using lemma_etal as evaluation mode.\n",
      "100%|██████████| 73/73 [00:00<00:00, 135.01it/s]\n",
      "100%|██████████| 73/73 [00:25<00:00,  2.84it/s]\n",
      "100%|██████████| 73/73 [00:00<00:00, 1766.30it/s]\n",
      "100%|██████████| 73/73 [00:00<00:00, 161.74it/s]\n",
      "100%|██████████| 73/73 [00:00<00:00, 121.25it/s]\n",
      "100%|██████████| 73/73 [00:00<00:00, 7358.25it/s]\n",
      "machine_nn01-38476245\n",
      "# senses before filtering by date = 517\n",
      "# senses after filtering by date = 352\n",
      "\n",
      "\n",
      "# of seed senses 22 \n",
      "# of synonyms 310 \n",
      "# of branch senses 0\n",
      "\n",
      "\n",
      "# of seeds selected 0 \n",
      "# of synonyms selected 14 \n",
      "# of branches selected 0\n",
      "[LOG] #rows before removing None vector (430, 25)\n",
      "[LOG] #rows after removing None vector (425, 25)\n",
      "100%|██████████| 85/85 [00:00<00:00, 31888.72it/s]\n",
      "Using lemma_etal as evaluation mode.\n",
      "100%|██████████| 85/85 [00:00<00:00, 108.60it/s]\n",
      "100%|██████████| 85/85 [00:38<00:00,  2.20it/s]\n",
      "100%|██████████| 85/85 [00:00<00:00, 1824.95it/s]\n",
      "100%|██████████| 85/85 [00:00<00:00, 170.58it/s]\n",
      "100%|██████████| 85/85 [00:00<00:00, 106.79it/s]\n",
      "100%|██████████| 85/85 [00:00<00:00, 8053.03it/s]\n",
      "machine_nn01-38475164\n",
      "# senses before filtering by date = 517\n",
      "# senses after filtering by date = 352\n",
      "\n",
      "\n",
      "# of seed senses 22 \n",
      "# of synonyms 310 \n",
      "# of branch senses 0\n",
      "\n",
      "\n",
      "# of seeds selected 1 \n",
      "# of synonyms selected 24 \n",
      "# of branches selected 0\n",
      "[LOG] #rows before removing None vector (790, 25)\n",
      "[LOG] #rows after removing None vector (747, 25)\n",
      "100%|██████████| 150/150 [00:00<00:00, 46294.75it/s]\n",
      "Using lemma_etal as evaluation mode.\n",
      "100%|██████████| 150/150 [00:02<00:00, 66.41it/s]\n",
      "100%|██████████| 150/150 [02:06<00:00,  1.19it/s]\n",
      "100%|██████████| 150/150 [00:00<00:00, 1845.99it/s]\n",
      "100%|██████████| 150/150 [00:01<00:00, 126.47it/s]\n",
      "100%|██████████| 150/150 [00:01<00:00, 104.75it/s]\n",
      "100%|██████████| 150/150 [00:00<00:00, 10877.53it/s]\n",
      "machine_nn01-38474548\n",
      "# senses before filtering by date = 517\n",
      "# senses after filtering by date = 352\n",
      "\n",
      "\n",
      "# of seed senses 22 \n",
      "# of synonyms 310 \n",
      "# of branch senses 0\n",
      "\n",
      "\n",
      "# of seeds selected 1 \n",
      "# of synonyms selected 25 \n",
      "# of branches selected 0\n",
      "[LOG] #rows before removing None vector (671, 25)\n",
      "[LOG] #rows after removing None vector (668, 25)\n",
      "100%|██████████| 134/134 [00:00<00:00, 41286.77it/s]\n",
      "Using lemma_etal as evaluation mode.\n",
      "100%|██████████| 134/134 [00:01<00:00, 70.38it/s]\n",
      "100%|██████████| 134/134 [01:43<00:00,  1.30it/s]\n",
      "100%|██████████| 134/134 [00:00<00:00, 1638.68it/s]\n",
      "100%|██████████| 134/134 [00:00<00:00, 135.65it/s]\n",
      "100%|██████████| 134/134 [00:01<00:00, 95.82it/s]\n",
      "100%|██████████| 134/134 [00:00<00:00, 9686.28it/s]\n",
      "machine_nn01-38475994\n",
      "# senses before filtering by date = 517\n",
      "# senses after filtering by date = 352\n",
      "\n",
      "\n",
      "# of seed senses 22 \n",
      "# of synonyms 310 \n",
      "# of branch senses 0\n",
      "\n",
      "\n",
      "# of seeds selected 1 \n",
      "# of synonyms selected 0 \n",
      "# of branches selected 0\n",
      "[LOG] #rows before removing None vector (99, 25)\n",
      "[LOG] #rows after removing None vector (99, 25)\n",
      "100%|██████████| 20/20 [00:00<00:00, 10622.53it/s]\n",
      "100%|██████████| 20/20 [00:00<00:00, 297.12it/s]\n",
      "  0%|          | 0/20 [00:00<?, ?it/s]Using lemma_etal as evaluation mode.\n",
      "100%|██████████| 20/20 [00:01<00:00, 12.74it/s]\n",
      "100%|██████████| 20/20 [00:00<00:00, 1609.14it/s]\n",
      "100%|██████████| 20/20 [00:00<00:00, 226.62it/s]\n",
      "100%|██████████| 20/20 [00:00<00:00, 94.56it/s] \n",
      "100%|██████████| 20/20 [00:00<00:00, 6546.44it/s]\n",
      "machine_nn01-38474405\n",
      "# senses before filtering by date = 517\n",
      "# senses after filtering by date = 352\n",
      "\n",
      "\n",
      "# of seed senses 22 \n",
      "# of synonyms 310 \n",
      "# of branch senses 0\n",
      "\n",
      "\n",
      "# of seeds selected 1 \n",
      "# of synonyms selected 0 \n",
      "# of branches selected 0\n",
      "[LOG] #rows before removing None vector (99, 25)\n",
      "[LOG] #rows after removing None vector (99, 25)\n",
      "100%|██████████| 20/20 [00:00<00:00, 11287.15it/s]\n",
      "100%|██████████| 20/20 [00:00<00:00, 303.64it/s]\n",
      "  0%|          | 0/20 [00:00<?, ?it/s]Using lemma_etal as evaluation mode.\n",
      "100%|██████████| 20/20 [00:01<00:00, 13.68it/s]\n",
      "100%|██████████| 20/20 [00:00<00:00, 1455.02it/s]\n",
      "100%|██████████| 20/20 [00:00<00:00, 219.16it/s]\n",
      "100%|██████████| 20/20 [00:00<00:00, 96.77it/s] \n",
      "100%|██████████| 20/20 [00:00<00:00, 6620.84it/s]\n",
      "machine_nn01-38476566\n",
      "# senses before filtering by date = 517\n",
      "# senses after filtering by date = 352\n",
      "\n",
      "\n",
      "# of seed senses 22 \n",
      "# of synonyms 310 \n",
      "# of branch senses 0\n",
      "\n",
      "\n",
      "# of seeds selected 0 \n",
      "# of synonyms selected 8 \n",
      "# of branches selected 0\n",
      "100%|██████████| 4/4 [00:00<00:00, 2538.92it/s]\n",
      "100%|██████████| 4/4 [00:00<00:00, 279.42it/s]\n",
      "  0%|          | 0/4 [00:00<?, ?it/s][LOG] #rows before removing None vector (18, 25)\n",
      "[LOG] #rows after removing None vector (17, 25)\n",
      "Using lemma_etal as evaluation mode.\n",
      "100%|██████████| 4/4 [00:00<00:00, 35.48it/s]\n",
      "100%|██████████| 4/4 [00:00<00:00, 1261.73it/s]\n",
      "100%|██████████| 4/4 [00:00<00:00, 196.15it/s]\n",
      "100%|██████████| 4/4 [00:00<00:00, 301.07it/s]\n",
      "100%|██████████| 4/4 [00:00<00:00, 2415.73it/s]\n",
      "machine_nn01-38475286\n",
      "# senses before filtering by date = 517\n",
      "# senses after filtering by date = 352\n",
      "\n",
      "\n",
      "# of seed senses 22 \n",
      "# of synonyms 310 \n",
      "# of branch senses 0\n",
      "\n",
      "\n",
      "# of seeds selected 1 \n",
      "# of synonyms selected 6 \n",
      "# of branches selected 0\n",
      "[LOG] #rows before removing None vector (265, 25)\n",
      "[LOG] #rows after removing None vector (264, 25)\n",
      "100%|██████████| 53/53 [00:00<00:00, 24785.16it/s]\n",
      "Using lemma_etal as evaluation mode.\n",
      "100%|██████████| 53/53 [00:00<00:00, 156.67it/s]\n",
      "100%|██████████| 53/53 [00:15<00:00,  3.40it/s]\n",
      "100%|██████████| 53/53 [00:00<00:00, 1705.92it/s]\n",
      "100%|██████████| 53/53 [00:00<00:00, 193.99it/s]\n",
      "100%|██████████| 53/53 [00:00<00:00, 116.27it/s]\n",
      "100%|██████████| 53/53 [00:00<00:00, 7863.11it/s]\n",
      "machine_nn01-38474607\n",
      "# senses before filtering by date = 517\n",
      "# senses after filtering by date = 352\n",
      "\n",
      "\n",
      "# of seed senses 22 \n",
      "# of synonyms 310 \n",
      "# of branch senses 0\n",
      "\n",
      "\n",
      "# of seeds selected 1 \n",
      "# of synonyms selected 33 \n",
      "# of branches selected 0\n",
      "[LOG] #rows before removing None vector (699, 25)\n",
      "[LOG] #rows after removing None vector (690, 25)\n",
      "100%|██████████| 138/138 [00:00<00:00, 44682.26it/s]\n",
      "Using lemma_etal as evaluation mode.\n",
      "100%|██████████| 138/138 [00:01<00:00, 70.49it/s]\n",
      "100%|██████████| 138/138 [01:46<00:00,  1.29it/s]\n",
      "100%|██████████| 138/138 [00:00<00:00, 1725.50it/s]\n",
      "100%|██████████| 138/138 [00:01<00:00, 133.24it/s]\n",
      "100%|██████████| 138/138 [00:01<00:00, 109.43it/s]\n",
      "100%|██████████| 138/138 [00:00<00:00, 11664.70it/s]\n",
      "machine_nn01-38476397\n",
      "# senses before filtering by date = 517\n",
      "# senses after filtering by date = 352\n",
      "\n",
      "\n",
      "# of seed senses 22 \n",
      "# of synonyms 310 \n",
      "# of branch senses 0\n",
      "\n",
      "\n",
      "# of seeds selected 1 \n",
      "# of synonyms selected 0 \n",
      "# of branches selected 0\n",
      "[LOG] #rows before removing None vector (99, 25)\n",
      "[LOG] #rows after removing None vector (99, 25)\n",
      "100%|██████████| 20/20 [00:00<00:00, 10305.42it/s]\n",
      "100%|██████████| 20/20 [00:00<00:00, 288.53it/s]\n",
      "  0%|          | 0/20 [00:00<?, ?it/s]Using lemma_etal as evaluation mode.\n",
      "100%|██████████| 20/20 [00:01<00:00, 12.78it/s]\n",
      "100%|██████████| 20/20 [00:00<00:00, 1460.01it/s]\n",
      "100%|██████████| 20/20 [00:00<00:00, 218.15it/s]\n",
      "100%|██████████| 20/20 [00:00<00:00, 94.39it/s] \n",
      "100%|██████████| 20/20 [00:00<00:00, 6240.13it/s]\n",
      "machine_nn01-38475099\n",
      "# senses before filtering by date = 517\n",
      "# senses after filtering by date = 352\n",
      "\n",
      "\n",
      "# of seed senses 22 \n",
      "# of synonyms 310 \n",
      "# of branch senses 0\n",
      "\n",
      "\n",
      "# of seeds selected 1 \n",
      "# of synonyms selected 15 \n",
      "# of branches selected 0\n",
      "[LOG] #rows before removing None vector (311, 25)\n",
      "[LOG] #rows after removing None vector (308, 25)\n",
      "100%|██████████| 62/62 [00:00<00:00, 24911.09it/s]\n",
      "Using lemma_etal as evaluation mode.\n",
      "100%|██████████| 62/62 [00:00<00:00, 136.88it/s]\n",
      "100%|██████████| 62/62 [00:21<00:00,  2.93it/s]\n",
      "100%|██████████| 62/62 [00:00<00:00, 1627.42it/s]\n",
      "100%|██████████| 62/62 [00:00<00:00, 182.45it/s]\n",
      "100%|██████████| 62/62 [00:00<00:00, 142.87it/s]\n",
      "100%|██████████| 62/62 [00:00<00:00, 7822.37it/s]\n",
      "machine_nn01-38474820\n",
      "# senses before filtering by date = 517\n",
      "# senses after filtering by date = 352\n",
      "\n",
      "\n",
      "# of seed senses 22 \n",
      "# of synonyms 310 \n",
      "# of branch senses 0\n",
      "\n",
      "\n",
      "# of seeds selected 1 \n",
      "# of synonyms selected 2 \n",
      "# of branches selected 0\n",
      "[LOG] #rows before removing None vector (116, 25)\n",
      "[LOG] #rows after removing None vector (116, 25)\n",
      "100%|██████████| 24/24 [00:00<00:00, 12798.89it/s]\n",
      "100%|██████████| 24/24 [00:00<00:00, 286.08it/s]\n",
      "  0%|          | 0/24 [00:00<?, ?it/s]Using lemma_etal as evaluation mode.\n",
      "100%|██████████| 24/24 [00:02<00:00, 10.69it/s]\n",
      "100%|██████████| 24/24 [00:00<00:00, 1729.43it/s]\n",
      "100%|██████████| 24/24 [00:00<00:00, 223.87it/s]\n",
      "100%|██████████| 24/24 [00:00<00:00, 103.46it/s]\n",
      "100%|██████████| 24/24 [00:00<00:00, 6709.10it/s]\n",
      "machine_nn01-38474233\n",
      "# senses before filtering by date = 517\n",
      "# senses after filtering by date = 352\n",
      "\n",
      "\n",
      "# of seed senses 22 \n",
      "# of synonyms 310 \n",
      "# of branch senses 0\n",
      "\n",
      "\n",
      "# of seeds selected 1 \n",
      "# of synonyms selected 1 \n",
      "# of branches selected 0\n",
      "[LOG] #rows before removing None vector (146, 25)\n",
      "[LOG] #rows after removing None vector (146, 25)\n",
      "100%|██████████| 30/30 [00:00<00:00, 15149.18it/s]\n",
      "  0%|          | 0/30 [00:00<?, ?it/s]Using lemma_etal as evaluation mode.\n",
      "100%|██████████| 30/30 [00:00<00:00, 246.53it/s]\n",
      "100%|██████████| 30/30 [00:03<00:00,  7.96it/s]\n",
      "100%|██████████| 30/30 [00:00<00:00, 1018.22it/s]\n",
      "100%|██████████| 30/30 [00:00<00:00, 204.62it/s]\n",
      "100%|██████████| 30/30 [00:00<00:00, 104.77it/s]\n",
      "100%|██████████| 30/30 [00:00<00:00, 6514.58it/s]\n"
     ]
    }
   ],
   "source": [
    "y_true, y_pred_bin_centr,y_pred_ts_bin_centr,y_pred_sense_centr,y_pred_semaxis,rand, token_overlap, w2v_lesk = eval_lemma('machine','NN','01',embedding_methods,vector_type='vector_bert_base_-1,-2,-3,-4_mean')\n"
   ]
  },
  {
   "cell_type": "code",
   "execution_count": 9,
   "metadata": {},
   "outputs": [
    {
     "output_type": "stream",
     "name": "stdout",
     "text": [
      "              precision    recall  f1-score   support\n\n           0       0.91      0.48      0.63      1616\n           1       0.10      0.56      0.17       170\n\n    accuracy                           0.49      1786\n   macro avg       0.51      0.52      0.40      1786\nweighted avg       0.83      0.49      0.59      1786\n\n"
     ]
    }
   ],
   "source": [
    "print(classification_report(y_true, rand))"
   ]
  },
  {
   "cell_type": "code",
   "execution_count": 10,
   "metadata": {},
   "outputs": [
    {
     "output_type": "stream",
     "name": "stdout",
     "text": [
      "              precision    recall  f1-score   support\n\n           0       0.93      0.86      0.89      1616\n           1       0.20      0.35      0.26       170\n\n    accuracy                           0.81      1786\n   macro avg       0.57      0.60      0.57      1786\nweighted avg       0.86      0.81      0.83      1786\n\n"
     ]
    }
   ],
   "source": [
    "print(classification_report(y_true, token_overlap))"
   ]
  },
  {
   "cell_type": "code",
   "execution_count": 11,
   "metadata": {},
   "outputs": [
    {
     "output_type": "stream",
     "name": "stdout",
     "text": [
      "              precision    recall  f1-score   support\n\n           0       0.94      0.88      0.91      1616\n           1       0.28      0.47      0.35       170\n\n    accuracy                           0.84      1786\n   macro avg       0.61      0.67      0.63      1786\nweighted avg       0.88      0.84      0.85      1786\n\n"
     ]
    }
   ],
   "source": [
    "print(classification_report(y_true, w2v_lesk))"
   ]
  },
  {
   "cell_type": "code",
   "execution_count": 21,
   "metadata": {},
   "outputs": [
    {
     "output_type": "stream",
     "name": "stdout",
     "text": [
      "              precision    recall  f1-score   support\n\n           0       0.96      0.80      0.87      1616\n           1       0.25      0.66      0.37       170\n\n    accuracy                           0.78      1786\n   macro avg       0.61      0.73      0.62      1786\nweighted avg       0.89      0.78      0.82      1786\n\n"
     ]
    }
   ],
   "source": [
    "    print(classification_report(y_true, y_pred_bin_centr))"
   ]
  },
  {
   "cell_type": "code",
   "execution_count": 22,
   "metadata": {},
   "outputs": [
    {
     "output_type": "stream",
     "name": "stdout",
     "text": [
      "              precision    recall  f1-score   support\n\n           0       0.94      0.84      0.88      1616\n           1       0.23      0.46      0.31       170\n\n    accuracy                           0.80      1786\n   macro avg       0.58      0.65      0.60      1786\nweighted avg       0.87      0.80      0.83      1786\n\n"
     ]
    }
   ],
   "source": [
    "print(classification_report(y_true, y_pred_ts_bin_centr))"
   ]
  },
  {
   "cell_type": "code",
   "execution_count": 23,
   "metadata": {},
   "outputs": [
    {
     "output_type": "stream",
     "name": "stdout",
     "text": [
      "              precision    recall  f1-score   support\n\n           0       0.94      0.97      0.96      1616\n           1       0.59      0.45      0.51       170\n\n    accuracy                           0.92      1786\n   macro avg       0.77      0.71      0.73      1786\nweighted avg       0.91      0.92      0.91      1786\n\n"
     ]
    }
   ],
   "source": [
    "print(classification_report(y_true, y_pred_sense_centr ))"
   ]
  },
  {
   "cell_type": "code",
   "execution_count": 34,
   "metadata": {},
   "outputs": [
    {
     "output_type": "stream",
     "name": "stdout",
     "text": [
      "              precision    recall  f1-score   support\n\n           0       0.96      0.69      0.80      1616\n           1       0.20      0.73      0.31       170\n\n    accuracy                           0.70      1786\n   macro avg       0.58      0.71      0.56      1786\nweighted avg       0.89      0.70      0.76      1786\n\n"
     ]
    }
   ],
   "source": [
    "print(classification_report(y_true,y_pred_semaxis ))"
   ]
  },
  {
   "cell_type": "code",
   "execution_count": null,
   "metadata": {},
   "outputs": [],
   "source": []
  },
  {
   "cell_type": "code",
   "execution_count": null,
   "metadata": {},
   "outputs": [],
   "source": []
  }
 ]
}