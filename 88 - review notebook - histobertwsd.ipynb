{
 "metadata": {
  "language_info": {
   "codemirror_mode": {
    "name": "ipython",
    "version": 3
   },
   "file_extension": ".py",
   "mimetype": "text/x-python",
   "name": "python",
   "nbconvert_exporter": "python",
   "pygments_lexer": "ipython3",
   "version": "3.7.5-final"
  },
  "orig_nbformat": 2,
  "kernelspec": {
   "name": "python3",
   "display_name": "Python 3",
   "language": "python"
  }
 },
 "nbformat": 4,
 "nbformat_minor": 2,
 "cells": [
  {
   "cell_type": "code",
   "execution_count": 1,
   "metadata": {},
   "outputs": [],
   "source": [
    "%load_ext autoreload\n",
    "%autoreload 2"
   ]
  },
  {
   "cell_type": "code",
   "execution_count": 30,
   "metadata": {},
   "outputs": [],
   "source": [
    "import pickle\n",
    "import pandas as pd\n",
    "from tasks import wsd\n",
    "from pathlib import Path\n",
    "from utils import nlp_tools\n",
    "from tqdm.auto import tqdm\n",
    "import numpy as np\n",
    "from flair.embeddings import TransformerWordEmbeddings\n",
    "from utils.classificaton_utils import binarize, vectorize_target_expression,cosine_similiarity"
   ]
  },
  {
   "cell_type": "code",
   "execution_count": 19,
   "metadata": {},
   "outputs": [
    {
     "output_type": "stream",
     "name": "stdout",
     "text": [
      "Index(['sense_id', 'lemma_definition', 'definition', 'word_id', 'lemma',\n       'quotation_id', 'source', 'text', 'year'],\n      dtype='object')\n# senses before filtering by date = 517\n# senses after filtering by date = 368\n\n\n# of seed senses 23 \n# of synonyms 324 \n# of branch senses 0\n\n\n# of seeds selected 1 \n# of synonyms selected 8 \n# of branches selected 0\n"
     ]
    }
   ],
   "source": [
    "\n",
    "tqdm.pandas()\n",
    "\n",
    "lemma,pos = 'machine', \"NN\"\n",
    "senses = {'machine_nn01-38475923'}\n",
    "relations = ['seed','synonym'] # ,'descendant','sibling'\n",
    "\n",
    "# whether we use only information on the lemma for the predictive model (e.g. only the lemma senses definitions for lesk baselines)\n",
    "eval_mode = \"lemma_etal\" # lemma or lemma_etal\n",
    "\n",
    "df_train, df_val, df_test = binarize(lemma,\n",
    "                        pos,\n",
    "                        senses, \n",
    "                        relations,\n",
    "                        strict_filter=True,\n",
    "                        start=1700,\n",
    "                        end=1920,\n",
    "                        eval_mode=eval_mode)"
   ]
  },
  {
   "cell_type": "code",
   "execution_count": 20,
   "metadata": {},
   "outputs": [
    {
     "output_type": "execute_result",
     "data": {
      "text/plain": [
       "                sense_id                                   lemma_definition  \\\n",
       "0    power_nn01-28687561  Ability to act or affect something strongly; p...   \n",
       "1  machine_nn01-38474140  A complex device, consisting of a number of in...   \n",
       "2    power_nn01-28686646  Ability to act or affect something strongly; p...   \n",
       "3  machine_nn01-38476316  A complex device, consisting of a number of in...   \n",
       "4    power_nn01-28688218  Ability to act or affect something strongly; p...   \n",
       "\n",
       "                                          definition       word_id    lemma  \\\n",
       "0  Mathematics. A quantity obtained by multiplyin...    power_nn01    power   \n",
       "1  A living body, esp. the human body considered ...  machine_nn01  machine   \n",
       "2  A powerful celestial or spiritual being; a god...    power_nn01    power   \n",
       "3  slang. The penis; the female genitals (rare). ...  machine_nn01  machine   \n",
       "4  Capacity for exerting mechanical force or doin...    power_nn01    power   \n",
       "\n",
       "            quotation_id                                             source  \\\n",
       "0    power_nn01-28687678  {'title': 'London, Edinb., & Dublin Philos. Ma...   \n",
       "1  machine_nn01-38474186  {'title': 'Lexicon Physico-medicum', 'author':...   \n",
       "2    power_nn01-28686756  {'title': 'Odyssey', 'author': 'A. Pope', 'gen...   \n",
       "3  machine_nn01-38476322  {'title': 'Mem. Woman of Pleasure', 'author': ...   \n",
       "4    power_nn01-28688241  {'title': 'Let.', 'author': 'M. Edgeworth', 'g...   \n",
       "\n",
       "                                                text    year label  \\\n",
       "0  {'keyword': 'power', 'full_text': 'The scatter...  1913.0     0   \n",
       "1  {'keyword': 'Machine', 'full_text': 'Until som...  1722.0     0   \n",
       "2  {'keyword': 'pow'rs', 'full_text': 'There land...  1725.0     0   \n",
       "3  {'keyword': 'machine', 'full_text': 'Coming ou...  1749.0     0   \n",
       "4  {'keyword': 'power', 'full_text': 'Sydney Smit...  1822.0     0   \n",
       "\n",
       "                      id                                          daterange  \\\n",
       "0                    NaN                                                NaN   \n",
       "1  machine_nn01-38474140  {'end': None, 'start': 1604, 'obsolete': False...   \n",
       "2                    NaN                                                NaN   \n",
       "3  machine_nn01-38476316  {'end': None, 'start': 1749, 'obsolete': False...   \n",
       "4                    NaN                                                NaN   \n",
       "\n",
       "                                      provenance provenance_type  \\\n",
       "0                                            NaN             NaN   \n",
       "1  [[machine_nn01-38474140, seed, machine_nn01]]            seed   \n",
       "2                                            NaN             NaN   \n",
       "3  [[machine_nn01-38476316, seed, machine_nn01]]            seed   \n",
       "4                                            NaN             NaN   \n",
       "\n",
       "   relation_to_core_senses  relation_to_seed_senses  \\\n",
       "0                      NaN                      NaN   \n",
       "1  {machine_nn01-38474140}  {machine_nn01-38474140}   \n",
       "2                      NaN                      NaN   \n",
       "3  {machine_nn01-38476316}  {machine_nn01-38476316}   \n",
       "4                      NaN                      NaN   \n",
       "\n",
       "                                           full_text  keyword  keyword_offset  \n",
       "0  The scattering coefficient varied inversely as...    power              58  \n",
       "1  Until some Authors..have demonstrated the Laws...  Machine              75  \n",
       "2     There land, and pay due victims to the pow'rs.   pow'rs              39  \n",
       "3  Coming out with that formidable machine of his...  machine              32  \n",
       "4  Sydney Smith to frighten a little boy who was ...    power             181  "
      ],
      "text/html": "<div>\n<style scoped>\n    .dataframe tbody tr th:only-of-type {\n        vertical-align: middle;\n    }\n\n    .dataframe tbody tr th {\n        vertical-align: top;\n    }\n\n    .dataframe thead th {\n        text-align: right;\n    }\n</style>\n<table border=\"1\" class=\"dataframe\">\n  <thead>\n    <tr style=\"text-align: right;\">\n      <th></th>\n      <th>sense_id</th>\n      <th>lemma_definition</th>\n      <th>definition</th>\n      <th>word_id</th>\n      <th>lemma</th>\n      <th>quotation_id</th>\n      <th>source</th>\n      <th>text</th>\n      <th>year</th>\n      <th>label</th>\n      <th>id</th>\n      <th>daterange</th>\n      <th>provenance</th>\n      <th>provenance_type</th>\n      <th>relation_to_core_senses</th>\n      <th>relation_to_seed_senses</th>\n      <th>full_text</th>\n      <th>keyword</th>\n      <th>keyword_offset</th>\n    </tr>\n  </thead>\n  <tbody>\n    <tr>\n      <th>0</th>\n      <td>power_nn01-28687561</td>\n      <td>Ability to act or affect something strongly; p...</td>\n      <td>Mathematics. A quantity obtained by multiplyin...</td>\n      <td>power_nn01</td>\n      <td>power</td>\n      <td>power_nn01-28687678</td>\n      <td>{'title': 'London, Edinb., &amp; Dublin Philos. Ma...</td>\n      <td>{'keyword': 'power', 'full_text': 'The scatter...</td>\n      <td>1913.0</td>\n      <td>0</td>\n      <td>NaN</td>\n      <td>NaN</td>\n      <td>NaN</td>\n      <td>NaN</td>\n      <td>NaN</td>\n      <td>NaN</td>\n      <td>The scattering coefficient varied inversely as...</td>\n      <td>power</td>\n      <td>58</td>\n    </tr>\n    <tr>\n      <th>1</th>\n      <td>machine_nn01-38474140</td>\n      <td>A complex device, consisting of a number of in...</td>\n      <td>A living body, esp. the human body considered ...</td>\n      <td>machine_nn01</td>\n      <td>machine</td>\n      <td>machine_nn01-38474186</td>\n      <td>{'title': 'Lexicon Physico-medicum', 'author':...</td>\n      <td>{'keyword': 'Machine', 'full_text': 'Until som...</td>\n      <td>1722.0</td>\n      <td>0</td>\n      <td>machine_nn01-38474140</td>\n      <td>{'end': None, 'start': 1604, 'obsolete': False...</td>\n      <td>[[machine_nn01-38474140, seed, machine_nn01]]</td>\n      <td>seed</td>\n      <td>{machine_nn01-38474140}</td>\n      <td>{machine_nn01-38474140}</td>\n      <td>Until some Authors..have demonstrated the Laws...</td>\n      <td>Machine</td>\n      <td>75</td>\n    </tr>\n    <tr>\n      <th>2</th>\n      <td>power_nn01-28686646</td>\n      <td>Ability to act or affect something strongly; p...</td>\n      <td>A powerful celestial or spiritual being; a god...</td>\n      <td>power_nn01</td>\n      <td>power</td>\n      <td>power_nn01-28686756</td>\n      <td>{'title': 'Odyssey', 'author': 'A. Pope', 'gen...</td>\n      <td>{'keyword': 'pow'rs', 'full_text': 'There land...</td>\n      <td>1725.0</td>\n      <td>0</td>\n      <td>NaN</td>\n      <td>NaN</td>\n      <td>NaN</td>\n      <td>NaN</td>\n      <td>NaN</td>\n      <td>NaN</td>\n      <td>There land, and pay due victims to the pow'rs.</td>\n      <td>pow'rs</td>\n      <td>39</td>\n    </tr>\n    <tr>\n      <th>3</th>\n      <td>machine_nn01-38476316</td>\n      <td>A complex device, consisting of a number of in...</td>\n      <td>slang. The penis; the female genitals (rare). ...</td>\n      <td>machine_nn01</td>\n      <td>machine</td>\n      <td>machine_nn01-38476322</td>\n      <td>{'title': 'Mem. Woman of Pleasure', 'author': ...</td>\n      <td>{'keyword': 'machine', 'full_text': 'Coming ou...</td>\n      <td>1749.0</td>\n      <td>0</td>\n      <td>machine_nn01-38476316</td>\n      <td>{'end': None, 'start': 1749, 'obsolete': False...</td>\n      <td>[[machine_nn01-38476316, seed, machine_nn01]]</td>\n      <td>seed</td>\n      <td>{machine_nn01-38476316}</td>\n      <td>{machine_nn01-38476316}</td>\n      <td>Coming out with that formidable machine of his...</td>\n      <td>machine</td>\n      <td>32</td>\n    </tr>\n    <tr>\n      <th>4</th>\n      <td>power_nn01-28688218</td>\n      <td>Ability to act or affect something strongly; p...</td>\n      <td>Capacity for exerting mechanical force or doin...</td>\n      <td>power_nn01</td>\n      <td>power</td>\n      <td>power_nn01-28688241</td>\n      <td>{'title': 'Let.', 'author': 'M. Edgeworth', 'g...</td>\n      <td>{'keyword': 'power', 'full_text': 'Sydney Smit...</td>\n      <td>1822.0</td>\n      <td>0</td>\n      <td>NaN</td>\n      <td>NaN</td>\n      <td>NaN</td>\n      <td>NaN</td>\n      <td>NaN</td>\n      <td>NaN</td>\n      <td>Sydney Smith to frighten a little boy who was ...</td>\n      <td>power</td>\n      <td>181</td>\n    </tr>\n  </tbody>\n</table>\n</div>"
     },
     "metadata": {},
     "execution_count": 20
    }
   ],
   "source": [
    "df_train.head()"
   ]
  },
  {
   "cell_type": "code",
   "execution_count": 17,
   "metadata": {},
   "outputs": [],
   "source": [
    "model_name = 'bert-base-uncased'\n",
    "layers=\"-1\"\n",
    "pooling_operation='mean'\n",
    "\n",
    "\n",
    "\n",
    "embedding_type = TransformerWordEmbeddings(model_name,\n",
    "                                            layers=layers,\n",
    "                                            pooling_operation=pooling_operation)"
   ]
  },
  {
   "cell_type": "code",
   "execution_count": 24,
   "metadata": {},
   "outputs": [
    {
     "output_type": "stream",
     "name": "stdout",
     "text": [
      "[INFO] swifter is installed. Parallelize pandas apply method.\n",
      "[WARNING] could not find swifter...run pandas apply on one process.\n",
      "[INFO] swifter is installed. Parallelize pandas apply method.\n",
      "[WARNING] could not find swifter...run pandas apply on one process.\n",
      "[INFO] swifter is installed. Parallelize pandas apply method.\n",
      "[WARNING] could not find swifter...run pandas apply on one process.\n"
     ]
    }
   ],
   "source": [
    "df_train = vectorize_target_expression(df_train,embedding_type)\n",
    "df_val = vectorize_target_expression(df_val,embedding_type)\n",
    "df_test = vectorize_target_expression(df_test,embedding_type)"
   ]
  },
  {
   "cell_type": "code",
   "execution_count": 31,
   "metadata": {},
   "outputs": [
    {
     "output_type": "stream",
     "name": "stdout",
     "text": [
      "0 {'0': 0.5770166516304016, '1': 0.6915074586868286}\n"
     ]
    }
   ],
   "source": [
    "def bert_polar_vector(vector,polar_vectors):\n",
    "    return quotation_df_avg_by_label.apply(cosine_similiarity, target = vector).to_dict() \n",
    "polar_vectors = df_train.groupby('label')['vector'].apply(np.mean,axis=0)\n",
    "\n"
   ]
  },
  {
   "cell_type": "code",
   "execution_count": null,
   "metadata": {},
   "outputs": [],
   "source": []
  },
  {
   "cell_type": "code",
   "execution_count": null,
   "metadata": {},
   "outputs": [],
   "source": []
  }
 ]
}