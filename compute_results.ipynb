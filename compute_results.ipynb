{
 "cells": [
  {
   "cell_type": "code",
   "execution_count": 9,
   "metadata": {},
   "outputs": [
    {
     "output_type": "execute_result",
     "data": {
      "text/plain": [
       "dict_keys(['bert_centroid_sense_vector_bert_base_-1,-2,-3,-4_mean', 'bert_ts_nearest_centroid_sense_vector_bert_base_-1,-2,-3,-4_mean', 'bert_ts_weighted_centroid_sense_vector_bert_base_-1,-2,-3,-4_mean', 'bert_centroid_sense_vector_blert_base_-1,-2,-3,-4_mean', 'bert_ts_nearest_centroid_sense_vector_blert_base_-1,-2,-3,-4_mean', 'bert_ts_weighted_centroid_sense_vector_blert_base_-1,-2,-3,-4_mean', 'bert_centroid_sense_vector_bert_1850_-1,-2,-3,-4_mean', 'bert_ts_nearest_centroid_sense_vector_bert_1850_-1,-2,-3,-4_mean', 'bert_ts_weighted_centroid_sense_vector_bert_1850_-1,-2,-3,-4_mean'])"
      ]
     },
     "metadata": {},
     "execution_count": 9
    }
   ],
   "source": [
    "from utils import classificaton_utils\n",
    "from pathlib import Path\n",
    "\n",
    "res = classificaton_utils.evaluate_results(Path(\"/deezy_datadrive/kaspar-playground/dictionary_expansion/HistoricalDictionaryExpansion/results_ts_1850/\"))\n",
    "res.keys()\n"
   ]
  },
  {
   "cell_type": "code",
   "execution_count": 10,
   "metadata": {
    "tags": []
   },
   "outputs": [
    {
     "output_type": "stream",
     "name": "stdout",
     "text": [
      "bert_centroid_sense_vector_blert_base_-1,-2,-3,-4_mean [0.857, 0.741, 0.784] \n\nIs the difference significant?\n\nbert_centroid_sense_vector_bert_base_-1,-2,-3,-4_mean [0.85, 0.724, 0.769] NO p_value: 0.0813\nbert_ts_nearest_centroid_sense_vector_bert_base_-1,-2,-3,-4_mean [0.799, 0.665, 0.707] YES\nbert_ts_weighted_centroid_sense_vector_bert_base_-1,-2,-3,-4_mean [0.86, 0.733, 0.779] NO p_value: 0.22449\nbert_ts_nearest_centroid_sense_vector_blert_base_-1,-2,-3,-4_mean [0.845, 0.683, 0.733] YES\nbert_ts_weighted_centroid_sense_vector_blert_base_-1,-2,-3,-4_mean [0.879, 0.749, 0.797] NO p_value: 0.33859\nbert_centroid_sense_vector_bert_1850_-1,-2,-3,-4_mean [0.868, 0.736, 0.784] YES\nbert_ts_nearest_centroid_sense_vector_bert_1850_-1,-2,-3,-4_mean [0.827, 0.678, 0.724] YES\nbert_ts_weighted_centroid_sense_vector_bert_1850_-1,-2,-3,-4_mean [0.875, 0.739, 0.788] NO p_value: 0.06585\n"
     ]
    }
   ],
   "source": [
    "import scipy\n",
    "\n",
    "selected = \"bert_centroid_sense_vector_blert_base_-1,-2,-3,-4_mean\"\n",
    "\n",
    "selected_pred = res[selected][\"pred\"]\n",
    "print (selected, res[selected][\"metrics\"], \"\\n\\nIs the difference significant?\\n\")\n",
    "\n",
    "for method,values in res.items():\n",
    "    if method != selected:\n",
    "        pred = values[\"pred\"]\n",
    "        p_value = scipy.stats.ttest_rel(selected_pred,pred)[1]\n",
    "        if p_value<0.05:\n",
    "            print (method, values[\"metrics\"], \"YES\")\n",
    "        else:\n",
    "            print (method, values[\"metrics\"], \"NO p_value:\",round(p_value,5))\n",
    "\n"
   ]
  }
 ],
 "metadata": {
  "kernelspec": {
   "display_name": "Python 3",
   "language": "python",
   "name": "python3"
  },
  "language_info": {
   "codemirror_mode": {
    "name": "ipython",
    "version": 3
   },
   "file_extension": ".py",
   "mimetype": "text/x-python",
   "name": "python",
   "nbconvert_exporter": "python",
   "pygments_lexer": "ipython3",
   "version": "3.7.5-final"
  }
 },
 "nbformat": 4,
 "nbformat_minor": 2
}