{
 "cells": [
  {
   "cell_type": "code",
   "execution_count": 5,
   "metadata": {},
   "outputs": [
    {
     "output_type": "execute_result",
     "data": {
      "text/plain": [
       "dict_keys(['random', 'def_tok_overlap_ranking', 'sent_embedding', 'w2v_lesk_ranking', 'svm_wemb_baseline', 'bert_binary_centroid_vector_bert_base_-1,-2,-3,-4_mean', 'bert_centroid_sense_vector_bert_base_-1,-2,-3,-4_mean', 'bert_contrast_vector_bert_base_-1,-2,-3,-4_mean', 'bert_ml_perceptron_vector_bert_base_-1,-2,-3,-4_mean', 'bert_binary_centroid_vector_blert_base_-1,-2,-3,-4_mean', 'bert_centroid_sense_vector_blert_base_-1,-2,-3,-4_mean', 'bert_contrast_vector_blert_base_-1,-2,-3,-4_mean', 'bert_ml_perceptron_vector_blert_base_-1,-2,-3,-4_mean', 'bert_binary_centroid_vector_bert_1850_-1,-2,-3,-4_mean', 'bert_centroid_sense_vector_bert_1850_-1,-2,-3,-4_mean', 'bert_contrast_vector_bert_1850_-1,-2,-3,-4_mean', 'bert_ml_perceptron_vector_bert_1850_-1,-2,-3,-4_mean'])"
      ]
     },
     "metadata": {},
     "execution_count": 5
    }
   ],
   "source": [
    "from utils import classificaton_utils\n",
    "from pathlib import Path\n",
    "\n",
    "res = classificaton_utils.evaluate_results(Path(\"results_1850/\"))\n",
    "res.keys()\n"
   ]
  },
  {
   "cell_type": "code",
   "execution_count": 37,
   "metadata": {
    "tags": []
   },
   "outputs": [
    {
     "output_type": "stream",
     "name": "stdout",
     "text": [
      "bert_ml_perceptron_vector_bert_1850_-1,-2,-3,-4_mean [0.56, 0.362, 0.439] \n\nIs the difference significant?\n\nrandom [0.109, 0.506, 0.179] YES\ndef_tok_overlap_ranking [0.244, 0.266, 0.254] YES\nsent_embedding [0.257, 0.196, 0.222] NO p_value: 0.07973331628280392\nw2v_lesk_ranking [0.34, 0.314, 0.326] YES\nsvm_wemb_baseline [0.513, 0.074, 0.129] YES\nbert_binary_centroid_vector_bert_base_-1,-2,-3,-4_mean [0.242, 0.653, 0.353] YES\nbert_centroid_sense_vector_bert_base_-1,-2,-3,-4_mean [0.774, 0.417, 0.542] YES\nbert_contrast_vector_bert_base_-1,-2,-3,-4_mean [0.194, 0.775, 0.31] YES\nbert_ml_perceptron_vector_bert_base_-1,-2,-3,-4_mean [0.568, 0.384, 0.458] NO p_value: 0.5322737159365044\nbert_binary_centroid_vector_blert_base_-1,-2,-3,-4_mean [0.231, 0.657, 0.342] YES\nbert_contrast_vector_blert_base_-1,-2,-3,-4_mean [0.199, 0.756, 0.316] YES\nbert_ml_perceptron_vector_blert_base_-1,-2,-3,-4_mean [0.601, 0.373, 0.46] NO p_value: 0.5499073067930929\nbert_binary_centroid_vector_bert_1850_-1,-2,-3,-4_mean [0.226, 0.646, 0.334] YES\nbert_centroid_sense_vector_bert_1850_-1,-2,-3,-4_mean [0.768, 0.439, 0.559] NO p_value: 0.10018794535339735\nbert_contrast_vector_bert_1850_-1,-2,-3,-4_mean [0.202, 0.708, 0.314] YES\nbert_ml_perceptron_vector_bert_1850_-1,-2,-3,-4_mean [0.56, 0.362, 0.439] NO p_value: nan\n"
     ]
    }
   ],
   "source": [
    "import scipy\n",
    "\n",
    "selected = \"bert_centroid_sense_vector_blert_base_-1,-2,-3,-4_mean\"\n",
    "\n",
    "selected_pred = res[method][\"pred\"]\n",
    "print (method, res[method][\"metrics\"], \"\\n\\nIs the difference significant?\\n\")\n",
    "\n",
    "for method,values in res.items():\n",
    "    if method != selected:\n",
    "        pred = values[\"pred\"]\n",
    "        p_value = scipy.stats.ttest_rel(selected_pred,pred)[1]\n",
    "        if p_value<0.05:\n",
    "            print (method, values[\"metrics\"], \"YES\")\n",
    "        else:\n",
    "            print (method, values[\"metrics\"], \"NO p_value:\",round(p_value,5))\n",
    "\n"
   ]
  }
 ],
 "metadata": {
  "kernelspec": {
   "display_name": "Python 3",
   "language": "python",
   "name": "python3"
  },
  "language_info": {
   "codemirror_mode": {
    "name": "ipython",
    "version": 3
   },
   "file_extension": ".py",
   "mimetype": "text/x-python",
   "name": "python",
   "nbconvert_exporter": "python",
   "pygments_lexer": "ipython3",
   "version": "3.7.5-final"
  }
 },
 "nbformat": 4,
 "nbformat_minor": 2
}