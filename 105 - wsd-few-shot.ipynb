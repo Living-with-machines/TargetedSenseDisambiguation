{
 "cells": [
  {
   "cell_type": "code",
   "execution_count": 1,
   "metadata": {},
   "outputs": [],
   "source": [
    "from utils.classificaton_utils import binarize\n",
    "from sklearn.model_selection import train_test_split\n",
    "from flair.models.text_classification_model import TARSClassifier\n",
    "from flair.datasets import SentenceDataset\n",
    "from flair.data import Sentence, Corpus"
   ]
  },
  {
   "cell_type": "code",
   "execution_count": 2,
   "metadata": {},
   "outputs": [
    {
     "output_type": "execute_result",
     "data": {
      "text/plain": [
       "'0.7'"
      ]
     },
     "metadata": {},
     "execution_count": 2
    }
   ],
   "source": [
    "import flair\n",
    "flair.__version__"
   ]
  },
  {
   "cell_type": "code",
   "execution_count": 3,
   "metadata": {},
   "outputs": [
    {
     "output_type": "stream",
     "name": "stdout",
     "text": [
      "3.7.5 (default, Oct 25 2019, 15:51:11) \n[GCC 7.3.0]\n"
     ]
    }
   ],
   "source": [
    "import sys\n",
    "print(sys.version)"
   ]
  },
  {
   "cell_type": "code",
   "execution_count": 4,
   "metadata": {},
   "outputs": [
    {
     "output_type": "stream",
     "name": "stdout",
     "text": [
      "Index(['sense_id', 'lemma_definition', 'definition', 'word_id', 'lemma',\n       'quotation_id', 'source', 'text', 'year'],\n      dtype='object')\n# senses before filtering by date = 517\n# senses after filtering by date = 433\n\n\n# of seed senses 26 \n# of synonyms 383 \n# of branch senses 0\n\n\n# of seeds selected 2 \n# of synonyms selected 10 \n# of branches selected 0\n"
     ]
    }
   ],
   "source": [
    "lemma, pos = 'machine','NN'\n",
    "senses = {'machine_nn01-38475835','machine_nn01-38475923'}\n",
    "relations = ['seed','synonym'] # 'descendant','sibling'\n",
    "\n",
    "train, val, test  = binarize(lemma,\n",
    "                            pos, \n",
    "                            senses, \n",
    "                            relations,\n",
    "                            strict_filter=True,\n",
    "                            start=1700,\n",
    "                            end=2000)"
   ]
  },
  {
   "cell_type": "code",
   "execution_count": 5,
   "metadata": {},
   "outputs": [
    {
     "output_type": "stream",
     "name": "stdout",
     "text": [
      "(127, 17) (107, 17)\n"
     ]
    }
   ],
   "source": [
    "print(train.shape,test.shape)"
   ]
  },
  {
   "cell_type": "code",
   "execution_count": 6,
   "metadata": {},
   "outputs": [
    {
     "output_type": "execute_result",
     "data": {
      "text/plain": [
       "                sense_id                                   lemma_definition  \\\n",
       "0  machine_nn01-38476397  A complex device, consisting of a number of in...   \n",
       "1  machine_nn01-38475046  A complex device, consisting of a number of in...   \n",
       "2  machine_nn01-38474301  A complex device, consisting of a number of in...   \n",
       "3  machine_nn01-38476316  A complex device, consisting of a number of in...   \n",
       "4  machine_nn01-38474607  A complex device, consisting of a number of in...   \n",
       "\n",
       "                                          definition       word_id    lemma  \\\n",
       "0  Originally U.S. The controlling organization o...  machine_nn01  machine   \n",
       "1              An aircraft or airship. Cf. sense 6b.  machine_nn01  machine   \n",
       "2  Theatre. A (usually movable) contrivance for t...  machine_nn01  machine   \n",
       "3  slang. The penis; the female genitals (rare). ...  machine_nn01  machine   \n",
       "4  A (usually wheeled) vehicle or conveyance, esp...  machine_nn01  machine   \n",
       "\n",
       "            quotation_id                                             source  \\\n",
       "0  machine_nn01-38476417  {'title': 'Let.', 'author': 'A. Burlingame', '...   \n",
       "1  machine_nn01-38475083  {'title': 'Pastoral', 'author': '‘N. Shute’', ...   \n",
       "2  machine_nn01-38474380  {'title': 'Vauxhall', 'author': 'T. Hood', 'ge...   \n",
       "3  machine_nn01-38476379  {'title': 'Pop from Beginning', 'author': 'N. ...   \n",
       "4  machine_nn01-38474785  {'title': 'Lord Jim', 'author': 'J. Conrad', '...   \n",
       "\n",
       "                                                text    year label  \\\n",
       "0  {'keyword': 'machine', 'full_text': 'Our old p...  1860.0     0   \n",
       "1  {'keyword': 'machine', 'full_text': 'The machi...  1944.0     0   \n",
       "2  {'keyword': 'machine', 'full_text': 'Time's ri...  1844.0     0   \n",
       "3  {'keyword': 'machine', 'full_text': 'He had bl...  1969.0     0   \n",
       "4  {'keyword': 'machine', 'full_text': 'The littl...  1900.0     0   \n",
       "\n",
       "                      id                                          daterange  \\\n",
       "0  machine_nn01-38476397  {'end': None, 'start': 1860, 'obsolete': False...   \n",
       "1  machine_nn01-38475046  {'end': None, 'start': 1896, 'obsolete': False...   \n",
       "2  machine_nn01-38474301  {'end': None, 'start': 1609, 'obsolete': False...   \n",
       "3  machine_nn01-38476316  {'end': None, 'start': 1749, 'obsolete': False...   \n",
       "4  machine_nn01-38474607  {'end': None, 'start': 1687, 'obsolete': False...   \n",
       "\n",
       "                                      provenance provenance_type  \\\n",
       "0  [[machine_nn01-38476397, seed, machine_nn01]]            seed   \n",
       "1  [[machine_nn01-38475046, seed, machine_nn01]]            seed   \n",
       "2  [[machine_nn01-38474301, seed, machine_nn01]]            seed   \n",
       "3  [[machine_nn01-38476316, seed, machine_nn01]]            seed   \n",
       "4  [[machine_nn01-38474607, seed, machine_nn01]]            seed   \n",
       "\n",
       "   relation_to_core_senses  relation_to_seed_senses  \\\n",
       "0  {machine_nn01-38476397}  {machine_nn01-38476397}   \n",
       "1  {machine_nn01-38475046}  {machine_nn01-38475046}   \n",
       "2  {machine_nn01-38474301}  {machine_nn01-38474301}   \n",
       "3  {machine_nn01-38476316}  {machine_nn01-38476316}   \n",
       "4  {machine_nn01-38474607}  {machine_nn01-38474607}   \n",
       "\n",
       "                                           full_text  \n",
       "0  Our old policy of ‘running with the Seward mac...  \n",
       "1  The machine before them opened out and trundle...  \n",
       "2  Time's ripe for the Ballet, Like bees they all...  \n",
       "3  He had black leather pants so tight that his m...  \n",
       "4  The little machine shook and rocked tumultuous...  "
      ],
      "text/html": "<div>\n<style scoped>\n    .dataframe tbody tr th:only-of-type {\n        vertical-align: middle;\n    }\n\n    .dataframe tbody tr th {\n        vertical-align: top;\n    }\n\n    .dataframe thead th {\n        text-align: right;\n    }\n</style>\n<table border=\"1\" class=\"dataframe\">\n  <thead>\n    <tr style=\"text-align: right;\">\n      <th></th>\n      <th>sense_id</th>\n      <th>lemma_definition</th>\n      <th>definition</th>\n      <th>word_id</th>\n      <th>lemma</th>\n      <th>quotation_id</th>\n      <th>source</th>\n      <th>text</th>\n      <th>year</th>\n      <th>label</th>\n      <th>id</th>\n      <th>daterange</th>\n      <th>provenance</th>\n      <th>provenance_type</th>\n      <th>relation_to_core_senses</th>\n      <th>relation_to_seed_senses</th>\n      <th>full_text</th>\n    </tr>\n  </thead>\n  <tbody>\n    <tr>\n      <th>0</th>\n      <td>machine_nn01-38476397</td>\n      <td>A complex device, consisting of a number of in...</td>\n      <td>Originally U.S. The controlling organization o...</td>\n      <td>machine_nn01</td>\n      <td>machine</td>\n      <td>machine_nn01-38476417</td>\n      <td>{'title': 'Let.', 'author': 'A. Burlingame', '...</td>\n      <td>{'keyword': 'machine', 'full_text': 'Our old p...</td>\n      <td>1860.0</td>\n      <td>0</td>\n      <td>machine_nn01-38476397</td>\n      <td>{'end': None, 'start': 1860, 'obsolete': False...</td>\n      <td>[[machine_nn01-38476397, seed, machine_nn01]]</td>\n      <td>seed</td>\n      <td>{machine_nn01-38476397}</td>\n      <td>{machine_nn01-38476397}</td>\n      <td>Our old policy of ‘running with the Seward mac...</td>\n    </tr>\n    <tr>\n      <th>1</th>\n      <td>machine_nn01-38475046</td>\n      <td>A complex device, consisting of a number of in...</td>\n      <td>An aircraft or airship. Cf. sense 6b.</td>\n      <td>machine_nn01</td>\n      <td>machine</td>\n      <td>machine_nn01-38475083</td>\n      <td>{'title': 'Pastoral', 'author': '‘N. Shute’', ...</td>\n      <td>{'keyword': 'machine', 'full_text': 'The machi...</td>\n      <td>1944.0</td>\n      <td>0</td>\n      <td>machine_nn01-38475046</td>\n      <td>{'end': None, 'start': 1896, 'obsolete': False...</td>\n      <td>[[machine_nn01-38475046, seed, machine_nn01]]</td>\n      <td>seed</td>\n      <td>{machine_nn01-38475046}</td>\n      <td>{machine_nn01-38475046}</td>\n      <td>The machine before them opened out and trundle...</td>\n    </tr>\n    <tr>\n      <th>2</th>\n      <td>machine_nn01-38474301</td>\n      <td>A complex device, consisting of a number of in...</td>\n      <td>Theatre. A (usually movable) contrivance for t...</td>\n      <td>machine_nn01</td>\n      <td>machine</td>\n      <td>machine_nn01-38474380</td>\n      <td>{'title': 'Vauxhall', 'author': 'T. Hood', 'ge...</td>\n      <td>{'keyword': 'machine', 'full_text': 'Time's ri...</td>\n      <td>1844.0</td>\n      <td>0</td>\n      <td>machine_nn01-38474301</td>\n      <td>{'end': None, 'start': 1609, 'obsolete': False...</td>\n      <td>[[machine_nn01-38474301, seed, machine_nn01]]</td>\n      <td>seed</td>\n      <td>{machine_nn01-38474301}</td>\n      <td>{machine_nn01-38474301}</td>\n      <td>Time's ripe for the Ballet, Like bees they all...</td>\n    </tr>\n    <tr>\n      <th>3</th>\n      <td>machine_nn01-38476316</td>\n      <td>A complex device, consisting of a number of in...</td>\n      <td>slang. The penis; the female genitals (rare). ...</td>\n      <td>machine_nn01</td>\n      <td>machine</td>\n      <td>machine_nn01-38476379</td>\n      <td>{'title': 'Pop from Beginning', 'author': 'N. ...</td>\n      <td>{'keyword': 'machine', 'full_text': 'He had bl...</td>\n      <td>1969.0</td>\n      <td>0</td>\n      <td>machine_nn01-38476316</td>\n      <td>{'end': None, 'start': 1749, 'obsolete': False...</td>\n      <td>[[machine_nn01-38476316, seed, machine_nn01]]</td>\n      <td>seed</td>\n      <td>{machine_nn01-38476316}</td>\n      <td>{machine_nn01-38476316}</td>\n      <td>He had black leather pants so tight that his m...</td>\n    </tr>\n    <tr>\n      <th>4</th>\n      <td>machine_nn01-38474607</td>\n      <td>A complex device, consisting of a number of in...</td>\n      <td>A (usually wheeled) vehicle or conveyance, esp...</td>\n      <td>machine_nn01</td>\n      <td>machine</td>\n      <td>machine_nn01-38474785</td>\n      <td>{'title': 'Lord Jim', 'author': 'J. Conrad', '...</td>\n      <td>{'keyword': 'machine', 'full_text': 'The littl...</td>\n      <td>1900.0</td>\n      <td>0</td>\n      <td>machine_nn01-38474607</td>\n      <td>{'end': None, 'start': 1687, 'obsolete': False...</td>\n      <td>[[machine_nn01-38474607, seed, machine_nn01]]</td>\n      <td>seed</td>\n      <td>{machine_nn01-38474607}</td>\n      <td>{machine_nn01-38474607}</td>\n      <td>The little machine shook and rocked tumultuous...</td>\n    </tr>\n  </tbody>\n</table>\n</div>"
     },
     "metadata": {},
     "execution_count": 6
    }
   ],
   "source": [
    "train.head()"
   ]
  },
  {
   "cell_type": "code",
   "execution_count": 7,
   "metadata": {},
   "outputs": [],
   "source": [
    "train_sentences = [(row.text.get('full_text',''),\n",
    "                    row.text.get('keyword',''),\n",
    "                    row.label)\n",
    "                        for i,row in train.iterrows()]\n",
    "                \n",
    "train_sentences = [Sentence(s + ' ' + t).add_label('machine_or_not',l) for s,t,l in train_sentences if s and t]\n"
   ]
  },
  {
   "cell_type": "code",
   "execution_count": 8,
   "metadata": {},
   "outputs": [],
   "source": [
    "test_sentences = [(row.text.get('full_text',''),\n",
    "                    row.text.get('keyword',''),\n",
    "                    row.label)\n",
    "                        for i,row in test.iterrows()]\n",
    "                \n",
    "test_sentences = [Sentence(s + ' ' + t).add_label('machine_or_not',l) for s,t,l in test_sentences if s and t]\n"
   ]
  },
  {
   "cell_type": "code",
   "execution_count": 9,
   "metadata": {},
   "outputs": [
    {
     "output_type": "execute_result",
     "data": {
      "text/plain": [
       "Sentence: \"One thousand perfect copies. . could only have been daily produced at one press by the labour of two men . The machine produces sixteen thousand copies. machine\"   [− Tokens: 28  − Sentence-Labels: {'machine_or_not': [0 (1.0)]}]"
      ]
     },
     "metadata": {},
     "execution_count": 9
    }
   ],
   "source": [
    "train_sentences[10]"
   ]
  },
  {
   "cell_type": "code",
   "execution_count": 10,
   "metadata": {},
   "outputs": [],
   "source": [
    "corpus = Corpus(train=train, test=test)"
   ]
  },
  {
   "cell_type": "code",
   "execution_count": 11,
   "metadata": {},
   "outputs": [
    {
     "output_type": "stream",
     "name": "stdout",
     "text": [
      "2021-01-08 14:07:54,380 loading file /home/kbeelen/.flair/models/tars-base.pt\n"
     ]
    },
    {
     "output_type": "error",
     "ename": "RuntimeError",
     "evalue": "version_ <= kMaxSupportedFileFormatVersion INTERNAL ASSERT FAILED at /opt/conda/conda-bld/pytorch_1579040055865/work/caffe2/serialize/inline_container.cc:132, please report a bug to PyTorch. Attempted to read a PyTorch file with version 3, but the maximum supported version for reading is 2. Your PyTorch installation may be too old. (init at /opt/conda/conda-bld/pytorch_1579040055865/work/caffe2/serialize/inline_container.cc:132)\nframe #0: c10::Error::Error(c10::SourceLocation, std::string const&) + 0x47 (0x7f08a12a3627 in /data/anaconda/envs/py37torch/lib/python3.7/site-packages/torch/lib/libc10.so)\nframe #1: caffe2::serialize::PyTorchStreamReader::init() + 0x1f5b (0x7f08a5837e2b in /data/anaconda/envs/py37torch/lib/python3.7/site-packages/torch/lib/libtorch.so)\nframe #2: caffe2::serialize::PyTorchStreamReader::PyTorchStreamReader(std::unique_ptr<caffe2::serialize::ReadAdapterInterface, std::default_delete<caffe2::serialize::ReadAdapterInterface> >) + 0x57 (0x7f08a5838f77 in /data/anaconda/envs/py37torch/lib/python3.7/site-packages/torch/lib/libtorch.so)\nframe #3: <unknown function> + 0x6b0792 (0x7f08d253e792 in /data/anaconda/envs/py37torch/lib/python3.7/site-packages/torch/lib/libtorch_python.so)\nframe #4: <unknown function> + 0x28ba06 (0x7f08d2119a06 in /data/anaconda/envs/py37torch/lib/python3.7/site-packages/torch/lib/libtorch_python.so)\nframe #5: _PyMethodDef_RawFastCallDict + 0x24d (0x55a8701f6f1d in /data/anaconda/envs/py37torch/bin/python -m ipykernel_launcher -f /data/home/kbeelen/.local/share/jupyter/runtime/kernel-0591b2de-a7eb-4883-b87f-26edfbdafda9.json)\nframe #6: _PyCFunction_FastCallDict + 0x21 (0x55a8701f70a1 in /data/anaconda/envs/py37torch/bin/python -m ipykernel_launcher -f /data/home/kbeelen/.local/share/jupyter/runtime/kernel-0591b2de-a7eb-4883-b87f-26edfbdafda9.json)\nframe #7: _PyObject_Call_Prepend + 0x63 (0x55a8701f4e33 in /data/anaconda/envs/py37torch/bin/python -m ipykernel_launcher -f /data/home/kbeelen/.local/share/jupyter/runtime/kernel-0591b2de-a7eb-4883-b87f-26edfbdafda9.json)\nframe #8: PyObject_Call + 0x6e (0x55a8701e7a3e in /data/anaconda/envs/py37torch/bin/python -m ipykernel_launcher -f /data/home/kbeelen/.local/share/jupyter/runtime/kernel-0591b2de-a7eb-4883-b87f-26edfbdafda9.json)\nframe #9: <unknown function> + 0x9d41b (0x55a87015f41b in /data/anaconda/envs/py37torch/bin/python -m ipykernel_launcher -f /data/home/kbeelen/.local/share/jupyter/runtime/kernel-0591b2de-a7eb-4883-b87f-26edfbdafda9.json)\nframe #10: _PyObject_FastCallKeywords + 0x128 (0x55a87022ce28 in /data/anaconda/envs/py37torch/bin/python -m ipykernel_launcher -f /data/home/kbeelen/.local/share/jupyter/runtime/kernel-0591b2de-a7eb-4883-b87f-26edfbdafda9.json)\nframe #11: _PyEval_EvalFrameDefault + 0x52e6 (0x55a8702924d6 in /data/anaconda/envs/py37torch/bin/python -m ipykernel_launcher -f /data/home/kbeelen/.local/share/jupyter/runtime/kernel-0591b2de-a7eb-4883-b87f-26edfbdafda9.json)\nframe #12: _PyEval_EvalCodeWithName + 0x5da (0x55a8701d549a in /data/anaconda/envs/py37torch/bin/python -m ipykernel_launcher -f /data/home/kbeelen/.local/share/jupyter/runtime/kernel-0591b2de-a7eb-4883-b87f-26edfbdafda9.json)\nframe #13: _PyFunction_FastCallDict + 0x1d5 (0x55a8701d62a5 in /data/anaconda/envs/py37torch/bin/python -m ipykernel_launcher -f /data/home/kbeelen/.local/share/jupyter/runtime/kernel-0591b2de-a7eb-4883-b87f-26edfbdafda9.json)\nframe #14: _PyObject_Call_Prepend + 0x63 (0x55a8701f4e33 in /data/anaconda/envs/py37torch/bin/python -m ipykernel_launcher -f /data/home/kbeelen/.local/share/jupyter/runtime/kernel-0591b2de-a7eb-4883-b87f-26edfbdafda9.json)\nframe #15: <unknown function> + 0x16a21a (0x55a87022c21a in /data/anaconda/envs/py37torch/bin/python -m ipykernel_launcher -f /data/home/kbeelen/.local/share/jupyter/runtime/kernel-0591b2de-a7eb-4883-b87f-26edfbdafda9.json)\nframe #16: _PyObject_FastCallKeywords + 0x128 (0x55a87022ce28 in /data/anaconda/envs/py37torch/bin/python -m ipykernel_launcher -f /data/home/kbeelen/.local/share/jupyter/runtime/kernel-0591b2de-a7eb-4883-b87f-26edfbdafda9.json)\nframe #17: _PyEval_EvalFrameDefault + 0x4a86 (0x55a870291c76 in /data/anaconda/envs/py37torch/bin/python -m ipykernel_launcher -f /data/home/kbeelen/.local/share/jupyter/runtime/kernel-0591b2de-a7eb-4883-b87f-26edfbdafda9.json)\nframe #18: _PyEval_EvalCodeWithName + 0x2f9 (0x55a8701d51b9 in /data/anaconda/envs/py37torch/bin/python -m ipykernel_launcher -f /data/home/kbeelen/.local/share/jupyter/runtime/kernel-0591b2de-a7eb-4883-b87f-26edfbdafda9.json)\nframe #19: _PyFunction_FastCallKeywords + 0x387 (0x55a870225437 in /data/anaconda/envs/py37torch/bin/python -m ipykernel_launcher -f /data/home/kbeelen/.local/share/jupyter/runtime/kernel-0591b2de-a7eb-4883-b87f-26edfbdafda9.json)\nframe #20: _PyEval_EvalFrameDefault + 0x14eb (0x55a87028e6db in /data/anaconda/envs/py37torch/bin/python -m ipykernel_launcher -f /data/home/kbeelen/.local/share/jupyter/runtime/kernel-0591b2de-a7eb-4883-b87f-26edfbdafda9.json)\nframe #21: _PyFunction_FastCallKeywords + 0xfb (0x55a8702251ab in /data/anaconda/envs/py37torch/bin/python -m ipykernel_launcher -f /data/home/kbeelen/.local/share/jupyter/runtime/kernel-0591b2de-a7eb-4883-b87f-26edfbdafda9.json)\nframe #22: _PyEval_EvalFrameDefault + 0x4b29 (0x55a870291d19 in /data/anaconda/envs/py37torch/bin/python -m ipykernel_launcher -f /data/home/kbeelen/.local/share/jupyter/runtime/kernel-0591b2de-a7eb-4883-b87f-26edfbdafda9.json)\nframe #23: _PyEval_EvalCodeWithName + 0x2f9 (0x55a8701d51b9 in /data/anaconda/envs/py37torch/bin/python -m ipykernel_launcher -f /data/home/kbeelen/.local/share/jupyter/runtime/kernel-0591b2de-a7eb-4883-b87f-26edfbdafda9.json)\nframe #24: PyEval_EvalCodeEx + 0x44 (0x55a8701d6094 in /data/anaconda/envs/py37torch/bin/python -m ipykernel_launcher -f /data/home/kbeelen/.local/share/jupyter/runtime/kernel-0591b2de-a7eb-4883-b87f-26edfbdafda9.json)\nframe #25: PyEval_EvalCode + 0x1c (0x55a8701d60bc in /data/anaconda/envs/py37torch/bin/python -m ipykernel_launcher -f /data/home/kbeelen/.local/share/jupyter/runtime/kernel-0591b2de-a7eb-4883-b87f-26edfbdafda9.json)\nframe #26: <unknown function> + 0x1daeb0 (0x55a87029ceb0 in /data/anaconda/envs/py37torch/bin/python -m ipykernel_launcher -f /data/home/kbeelen/.local/share/jupyter/runtime/kernel-0591b2de-a7eb-4883-b87f-26edfbdafda9.json)\nframe #27: _PyMethodDef_RawFastCallKeywords + 0xe9 (0x55a870225ab9 in /data/anaconda/envs/py37torch/bin/python -m ipykernel_launcher -f /data/home/kbeelen/.local/share/jupyter/runtime/kernel-0591b2de-a7eb-4883-b87f-26edfbdafda9.json)\nframe #28: _PyCFunction_FastCallKeywords + 0x21 (0x55a870225d51 in /data/anaconda/envs/py37torch/bin/python -m ipykernel_launcher -f /data/home/kbeelen/.local/share/jupyter/runtime/kernel-0591b2de-a7eb-4883-b87f-26edfbdafda9.json)\nframe #29: _PyEval_EvalFrameDefault + 0x4784 (0x55a870291974 in /data/anaconda/envs/py37torch/bin/python -m ipykernel_launcher -f /data/home/kbeelen/.local/share/jupyter/runtime/kernel-0591b2de-a7eb-4883-b87f-26edfbdafda9.json)\nframe #30: _PyGen_Send + 0x2a2 (0x55a87022de32 in /data/anaconda/envs/py37torch/bin/python -m ipykernel_launcher -f /data/home/kbeelen/.local/share/jupyter/runtime/kernel-0591b2de-a7eb-4883-b87f-26edfbdafda9.json)\nframe #31: _PyEval_EvalFrameDefault + 0x1a88 (0x55a87028ec78 in /data/anaconda/envs/py37torch/bin/python -m ipykernel_launcher -f /data/home/kbeelen/.local/share/jupyter/runtime/kernel-0591b2de-a7eb-4883-b87f-26edfbdafda9.json)\nframe #32: _PyGen_Send + 0x2a2 (0x55a87022de32 in /data/anaconda/envs/py37torch/bin/python -m ipykernel_launcher -f /data/home/kbeelen/.local/share/jupyter/runtime/kernel-0591b2de-a7eb-4883-b87f-26edfbdafda9.json)\nframe #33: _PyEval_EvalFrameDefault + 0x1a88 (0x55a87028ec78 in /data/anaconda/envs/py37torch/bin/python -m ipykernel_launcher -f /data/home/kbeelen/.local/share/jupyter/runtime/kernel-0591b2de-a7eb-4883-b87f-26edfbdafda9.json)\nframe #34: _PyGen_Send + 0x2a2 (0x55a87022de32 in /data/anaconda/envs/py37torch/bin/python -m ipykernel_launcher -f /data/home/kbeelen/.local/share/jupyter/runtime/kernel-0591b2de-a7eb-4883-b87f-26edfbdafda9.json)\nframe #35: _PyMethodDef_RawFastCallKeywords + 0x8d (0x55a870225a5d in /data/anaconda/envs/py37torch/bin/python -m ipykernel_launcher -f /data/home/kbeelen/.local/share/jupyter/runtime/kernel-0591b2de-a7eb-4883-b87f-26edfbdafda9.json)\nframe #36: _PyMethodDescr_FastCallKeywords + 0x4f (0x55a87022cc6f in /data/anaconda/envs/py37torch/bin/python -m ipykernel_launcher -f /data/home/kbeelen/.local/share/jupyter/runtime/kernel-0591b2de-a7eb-4883-b87f-26edfbdafda9.json)\nframe #37: _PyEval_EvalFrameDefault + 0x4c7b (0x55a870291e6b in /data/anaconda/envs/py37torch/bin/python -m ipykernel_launcher -f /data/home/kbeelen/.local/share/jupyter/runtime/kernel-0591b2de-a7eb-4883-b87f-26edfbdafda9.json)\nframe #38: _PyFunction_FastCallKeywords + 0xfb (0x55a8702251ab in /data/anaconda/envs/py37torch/bin/python -m ipykernel_launcher -f /data/home/kbeelen/.local/share/jupyter/runtime/kernel-0591b2de-a7eb-4883-b87f-26edfbdafda9.json)\nframe #39: _PyEval_EvalFrameDefault + 0x416 (0x55a87028d606 in /data/anaconda/envs/py37torch/bin/python -m ipykernel_launcher -f /data/home/kbeelen/.local/share/jupyter/runtime/kernel-0591b2de-a7eb-4883-b87f-26edfbdafda9.json)\nframe #40: _PyFunction_FastCallKeywords + 0xfb (0x55a8702251ab in /data/anaconda/envs/py37torch/bin/python -m ipykernel_launcher -f /data/home/kbeelen/.local/share/jupyter/runtime/kernel-0591b2de-a7eb-4883-b87f-26edfbdafda9.json)\nframe #41: _PyEval_EvalFrameDefault + 0x6a3 (0x55a87028d893 in /data/anaconda/envs/py37torch/bin/python -m ipykernel_launcher -f /data/home/kbeelen/.local/share/jupyter/runtime/kernel-0591b2de-a7eb-4883-b87f-26edfbdafda9.json)\nframe #42: _PyEval_EvalCodeWithName + 0x2f9 (0x55a8701d51b9 in /data/anaconda/envs/py37torch/bin/python -m ipykernel_launcher -f /data/home/kbeelen/.local/share/jupyter/runtime/kernel-0591b2de-a7eb-4883-b87f-26edfbdafda9.json)\nframe #43: _PyFunction_FastCallDict + 0x3ff (0x55a8701d64cf in /data/anaconda/envs/py37torch/bin/python -m ipykernel_launcher -f /data/home/kbeelen/.local/share/jupyter/runtime/kernel-0591b2de-a7eb-4883-b87f-26edfbdafda9.json)\nframe #44: _PyObject_Call_Prepend + 0x63 (0x55a8701f4e33 in /data/anaconda/envs/py37torch/bin/python -m ipykernel_launcher -f /data/home/kbeelen/.local/share/jupyter/runtime/kernel-0591b2de-a7eb-4883-b87f-26edfbdafda9.json)\nframe #45: PyObject_Call + 0x6e (0x55a8701e7a3e in /data/anaconda/envs/py37torch/bin/python -m ipykernel_launcher -f /data/home/kbeelen/.local/share/jupyter/runtime/kernel-0591b2de-a7eb-4883-b87f-26edfbdafda9.json)\nframe #46: _PyEval_EvalFrameDefault + 0x1f3a (0x55a87028f12a in /data/anaconda/envs/py37torch/bin/python -m ipykernel_launcher -f /data/home/kbeelen/.local/share/jupyter/runtime/kernel-0591b2de-a7eb-4883-b87f-26edfbdafda9.json)\nframe #47: _PyEval_EvalCodeWithName + 0x5da (0x55a8701d549a in /data/anaconda/envs/py37torch/bin/python -m ipykernel_launcher -f /data/home/kbeelen/.local/share/jupyter/runtime/kernel-0591b2de-a7eb-4883-b87f-26edfbdafda9.json)\nframe #48: _PyFunction_FastCallKeywords + 0x387 (0x55a870225437 in /data/anaconda/envs/py37torch/bin/python -m ipykernel_launcher -f /data/home/kbeelen/.local/share/jupyter/runtime/kernel-0591b2de-a7eb-4883-b87f-26edfbdafda9.json)\nframe #49: _PyEval_EvalFrameDefault + 0x14eb (0x55a87028e6db in /data/anaconda/envs/py37torch/bin/python -m ipykernel_launcher -f /data/home/kbeelen/.local/share/jupyter/runtime/kernel-0591b2de-a7eb-4883-b87f-26edfbdafda9.json)\nframe #50: <unknown function> + 0x16b8f9 (0x55a87022d8f9 in /data/anaconda/envs/py37torch/bin/python -m ipykernel_launcher -f /data/home/kbeelen/.local/share/jupyter/runtime/kernel-0591b2de-a7eb-4883-b87f-26edfbdafda9.json)\nframe #51: _PyMethodDef_RawFastCallKeywords + 0xe9 (0x55a870225ab9 in /data/anaconda/envs/py37torch/bin/python -m ipykernel_launcher -f /data/home/kbeelen/.local/share/jupyter/runtime/kernel-0591b2de-a7eb-4883-b87f-26edfbdafda9.json)\nframe #52: _PyCFunction_FastCallKeywords + 0x21 (0x55a870225d51 in /data/anaconda/envs/py37torch/bin/python -m ipykernel_launcher -f /data/home/kbeelen/.local/share/jupyter/runtime/kernel-0591b2de-a7eb-4883-b87f-26edfbdafda9.json)\nframe #53: _PyEval_EvalFrameDefault + 0x4784 (0x55a870291974 in /data/anaconda/envs/py37torch/bin/python -m ipykernel_launcher -f /data/home/kbeelen/.local/share/jupyter/runtime/kernel-0591b2de-a7eb-4883-b87f-26edfbdafda9.json)\nframe #54: _PyEval_EvalCodeWithName + 0x5da (0x55a8701d549a in /data/anaconda/envs/py37torch/bin/python -m ipykernel_launcher -f /data/home/kbeelen/.local/share/jupyter/runtime/kernel-0591b2de-a7eb-4883-b87f-26edfbdafda9.json)\nframe #55: _PyFunction_FastCallKeywords + 0x387 (0x55a870225437 in /data/anaconda/envs/py37torch/bin/python -m ipykernel_launcher -f /data/home/kbeelen/.local/share/jupyter/runtime/kernel-0591b2de-a7eb-4883-b87f-26edfbdafda9.json)\nframe #56: _PyEval_EvalFrameDefault + 0x6a3 (0x55a87028d893 in /data/anaconda/envs/py37torch/bin/python -m ipykernel_launcher -f /data/home/kbeelen/.local/share/jupyter/runtime/kernel-0591b2de-a7eb-4883-b87f-26edfbdafda9.json)\nframe #57: <unknown function> + 0x16b8f9 (0x55a87022d8f9 in /data/anaconda/envs/py37torch/bin/python -m ipykernel_launcher -f /data/home/kbeelen/.local/share/jupyter/runtime/kernel-0591b2de-a7eb-4883-b87f-26edfbdafda9.json)\nframe #58: _PyMethodDef_RawFastCallKeywords + 0xe9 (0x55a870225ab9 in /data/anaconda/envs/py37torch/bin/python -m ipykernel_launcher -f /data/home/kbeelen/.local/share/jupyter/runtime/kernel-0591b2de-a7eb-4883-b87f-26edfbdafda9.json)\nframe #59: _PyCFunction_FastCallKeywords + 0x21 (0x55a870225d51 in /data/anaconda/envs/py37torch/bin/python -m ipykernel_launcher -f /data/home/kbeelen/.local/share/jupyter/runtime/kernel-0591b2de-a7eb-4883-b87f-26edfbdafda9.json)\nframe #60: _PyEval_EvalFrameDefault + 0x4784 (0x55a870291974 in /data/anaconda/envs/py37torch/bin/python -m ipykernel_launcher -f /data/home/kbeelen/.local/share/jupyter/runtime/kernel-0591b2de-a7eb-4883-b87f-26edfbdafda9.json)\nframe #61: _PyEval_EvalCodeWithName + 0x5da (0x55a8701d549a in /data/anaconda/envs/py37torch/bin/python -m ipykernel_launcher -f /data/home/kbeelen/.local/share/jupyter/runtime/kernel-0591b2de-a7eb-4883-b87f-26edfbdafda9.json)\nframe #62: _PyFunction_FastCallKeywords + 0x387 (0x55a870225437 in /data/anaconda/envs/py37torch/bin/python -m ipykernel_launcher -f /data/home/kbeelen/.local/share/jupyter/runtime/kernel-0591b2de-a7eb-4883-b87f-26edfbdafda9.json)\nframe #63: _PyEval_EvalFrameDefault + 0x416 (0x55a87028d606 in /data/anaconda/envs/py37torch/bin/python -m ipykernel_launcher -f /data/home/kbeelen/.local/share/jupyter/runtime/kernel-0591b2de-a7eb-4883-b87f-26edfbdafda9.json)\n",
     "traceback": [
      "\u001b[0;31m---------------------------------------------------------------------------\u001b[0m",
      "\u001b[0;31mRuntimeError\u001b[0m                              Traceback (most recent call last)",
      "\u001b[0;32m<ipython-input-11-9500025c51b6>\u001b[0m in \u001b[0;36m<module>\u001b[0;34m\u001b[0m\n\u001b[1;32m      2\u001b[0m \u001b[0;34m\u001b[0m\u001b[0m\n\u001b[1;32m      3\u001b[0m \u001b[0;31m# 1. load base TARS\u001b[0m\u001b[0;34m\u001b[0m\u001b[0;34m\u001b[0m\u001b[0;34m\u001b[0m\u001b[0m\n\u001b[0;32m----> 4\u001b[0;31m \u001b[0mtars\u001b[0m \u001b[0;34m=\u001b[0m \u001b[0mTARSClassifier\u001b[0m\u001b[0;34m.\u001b[0m\u001b[0mload\u001b[0m\u001b[0;34m(\u001b[0m\u001b[0;34m'tars-base'\u001b[0m\u001b[0;34m)\u001b[0m\u001b[0;34m\u001b[0m\u001b[0;34m\u001b[0m\u001b[0m\n\u001b[0m\u001b[1;32m      5\u001b[0m \u001b[0;34m\u001b[0m\u001b[0m\n\u001b[1;32m      6\u001b[0m \u001b[0;31m# 2. make the model aware of the desired set of labels from the new corpus\u001b[0m\u001b[0;34m\u001b[0m\u001b[0;34m\u001b[0m\u001b[0;34m\u001b[0m\u001b[0m\n",
      "\u001b[0;32m/data/anaconda/envs/py37torch/lib/python3.7/site-packages/flair/nn.py\u001b[0m in \u001b[0;36mload\u001b[0;34m(cls, model)\u001b[0m\n\u001b[1;32m     86\u001b[0m             \u001b[0;31m# see https://github.com/zalandoresearch/flair/issues/351\u001b[0m\u001b[0;34m\u001b[0m\u001b[0;34m\u001b[0m\u001b[0;34m\u001b[0m\u001b[0m\n\u001b[1;32m     87\u001b[0m             \u001b[0mf\u001b[0m \u001b[0;34m=\u001b[0m \u001b[0mfile_utils\u001b[0m\u001b[0;34m.\u001b[0m\u001b[0mload_big_file\u001b[0m\u001b[0;34m(\u001b[0m\u001b[0mstr\u001b[0m\u001b[0;34m(\u001b[0m\u001b[0mmodel_file\u001b[0m\u001b[0;34m)\u001b[0m\u001b[0;34m)\u001b[0m\u001b[0;34m\u001b[0m\u001b[0;34m\u001b[0m\u001b[0m\n\u001b[0;32m---> 88\u001b[0;31m             \u001b[0mstate\u001b[0m \u001b[0;34m=\u001b[0m \u001b[0mtorch\u001b[0m\u001b[0;34m.\u001b[0m\u001b[0mload\u001b[0m\u001b[0;34m(\u001b[0m\u001b[0mf\u001b[0m\u001b[0;34m,\u001b[0m \u001b[0mmap_location\u001b[0m\u001b[0;34m=\u001b[0m\u001b[0;34m'cpu'\u001b[0m\u001b[0;34m)\u001b[0m\u001b[0;34m\u001b[0m\u001b[0;34m\u001b[0m\u001b[0m\n\u001b[0m\u001b[1;32m     89\u001b[0m \u001b[0;34m\u001b[0m\u001b[0m\n\u001b[1;32m     90\u001b[0m         \u001b[0mmodel\u001b[0m \u001b[0;34m=\u001b[0m \u001b[0mcls\u001b[0m\u001b[0;34m.\u001b[0m\u001b[0m_init_model_with_state_dict\u001b[0m\u001b[0;34m(\u001b[0m\u001b[0mstate\u001b[0m\u001b[0;34m)\u001b[0m\u001b[0;34m\u001b[0m\u001b[0;34m\u001b[0m\u001b[0m\n",
      "\u001b[0;32m/data/anaconda/envs/py37torch/lib/python3.7/site-packages/torch/serialization.py\u001b[0m in \u001b[0;36mload\u001b[0;34m(f, map_location, pickle_module, **pickle_load_args)\u001b[0m\n\u001b[1;32m    525\u001b[0m     \u001b[0;32mwith\u001b[0m \u001b[0m_open_file_like\u001b[0m\u001b[0;34m(\u001b[0m\u001b[0mf\u001b[0m\u001b[0;34m,\u001b[0m \u001b[0;34m'rb'\u001b[0m\u001b[0;34m)\u001b[0m \u001b[0;32mas\u001b[0m \u001b[0mopened_file\u001b[0m\u001b[0;34m:\u001b[0m\u001b[0;34m\u001b[0m\u001b[0;34m\u001b[0m\u001b[0m\n\u001b[1;32m    526\u001b[0m         \u001b[0;32mif\u001b[0m \u001b[0m_is_zipfile\u001b[0m\u001b[0;34m(\u001b[0m\u001b[0mopened_file\u001b[0m\u001b[0;34m)\u001b[0m\u001b[0;34m:\u001b[0m\u001b[0;34m\u001b[0m\u001b[0;34m\u001b[0m\u001b[0m\n\u001b[0;32m--> 527\u001b[0;31m             \u001b[0;32mwith\u001b[0m \u001b[0m_open_zipfile_reader\u001b[0m\u001b[0;34m(\u001b[0m\u001b[0mf\u001b[0m\u001b[0;34m)\u001b[0m \u001b[0;32mas\u001b[0m \u001b[0mopened_zipfile\u001b[0m\u001b[0;34m:\u001b[0m\u001b[0;34m\u001b[0m\u001b[0;34m\u001b[0m\u001b[0m\n\u001b[0m\u001b[1;32m    528\u001b[0m                 \u001b[0;32mreturn\u001b[0m \u001b[0m_load\u001b[0m\u001b[0;34m(\u001b[0m\u001b[0mopened_zipfile\u001b[0m\u001b[0;34m,\u001b[0m \u001b[0mmap_location\u001b[0m\u001b[0;34m,\u001b[0m \u001b[0mpickle_module\u001b[0m\u001b[0;34m,\u001b[0m \u001b[0;34m**\u001b[0m\u001b[0mpickle_load_args\u001b[0m\u001b[0;34m)\u001b[0m\u001b[0;34m\u001b[0m\u001b[0;34m\u001b[0m\u001b[0m\n\u001b[1;32m    529\u001b[0m         \u001b[0;32mreturn\u001b[0m \u001b[0m_legacy_load\u001b[0m\u001b[0;34m(\u001b[0m\u001b[0mopened_file\u001b[0m\u001b[0;34m,\u001b[0m \u001b[0mmap_location\u001b[0m\u001b[0;34m,\u001b[0m \u001b[0mpickle_module\u001b[0m\u001b[0;34m,\u001b[0m \u001b[0;34m**\u001b[0m\u001b[0mpickle_load_args\u001b[0m\u001b[0;34m)\u001b[0m\u001b[0;34m\u001b[0m\u001b[0;34m\u001b[0m\u001b[0m\n",
      "\u001b[0;32m/data/anaconda/envs/py37torch/lib/python3.7/site-packages/torch/serialization.py\u001b[0m in \u001b[0;36m__init__\u001b[0;34m(self, name_or_buffer)\u001b[0m\n\u001b[1;32m    222\u001b[0m \u001b[0;32mclass\u001b[0m \u001b[0m_open_zipfile_reader\u001b[0m\u001b[0;34m(\u001b[0m\u001b[0m_opener\u001b[0m\u001b[0;34m)\u001b[0m\u001b[0;34m:\u001b[0m\u001b[0;34m\u001b[0m\u001b[0;34m\u001b[0m\u001b[0m\n\u001b[1;32m    223\u001b[0m     \u001b[0;32mdef\u001b[0m \u001b[0m__init__\u001b[0m\u001b[0;34m(\u001b[0m\u001b[0mself\u001b[0m\u001b[0;34m,\u001b[0m \u001b[0mname_or_buffer\u001b[0m\u001b[0;34m)\u001b[0m\u001b[0;34m:\u001b[0m\u001b[0;34m\u001b[0m\u001b[0;34m\u001b[0m\u001b[0m\n\u001b[0;32m--> 224\u001b[0;31m         \u001b[0msuper\u001b[0m\u001b[0;34m(\u001b[0m\u001b[0m_open_zipfile_reader\u001b[0m\u001b[0;34m,\u001b[0m \u001b[0mself\u001b[0m\u001b[0;34m)\u001b[0m\u001b[0;34m.\u001b[0m\u001b[0m__init__\u001b[0m\u001b[0;34m(\u001b[0m\u001b[0mtorch\u001b[0m\u001b[0;34m.\u001b[0m\u001b[0m_C\u001b[0m\u001b[0;34m.\u001b[0m\u001b[0mPyTorchFileReader\u001b[0m\u001b[0;34m(\u001b[0m\u001b[0mname_or_buffer\u001b[0m\u001b[0;34m)\u001b[0m\u001b[0;34m)\u001b[0m\u001b[0;34m\u001b[0m\u001b[0;34m\u001b[0m\u001b[0m\n\u001b[0m\u001b[1;32m    225\u001b[0m \u001b[0;34m\u001b[0m\u001b[0m\n\u001b[1;32m    226\u001b[0m \u001b[0;34m\u001b[0m\u001b[0m\n",
      "\u001b[0;31mRuntimeError\u001b[0m: version_ <= kMaxSupportedFileFormatVersion INTERNAL ASSERT FAILED at /opt/conda/conda-bld/pytorch_1579040055865/work/caffe2/serialize/inline_container.cc:132, please report a bug to PyTorch. Attempted to read a PyTorch file with version 3, but the maximum supported version for reading is 2. Your PyTorch installation may be too old. (init at /opt/conda/conda-bld/pytorch_1579040055865/work/caffe2/serialize/inline_container.cc:132)\nframe #0: c10::Error::Error(c10::SourceLocation, std::string const&) + 0x47 (0x7f08a12a3627 in /data/anaconda/envs/py37torch/lib/python3.7/site-packages/torch/lib/libc10.so)\nframe #1: caffe2::serialize::PyTorchStreamReader::init() + 0x1f5b (0x7f08a5837e2b in /data/anaconda/envs/py37torch/lib/python3.7/site-packages/torch/lib/libtorch.so)\nframe #2: caffe2::serialize::PyTorchStreamReader::PyTorchStreamReader(std::unique_ptr<caffe2::serialize::ReadAdapterInterface, std::default_delete<caffe2::serialize::ReadAdapterInterface> >) + 0x57 (0x7f08a5838f77 in /data/anaconda/envs/py37torch/lib/python3.7/site-packages/torch/lib/libtorch.so)\nframe #3: <unknown function> + 0x6b0792 (0x7f08d253e792 in /data/anaconda/envs/py37torch/lib/python3.7/site-packages/torch/lib/libtorch_python.so)\nframe #4: <unknown function> + 0x28ba06 (0x7f08d2119a06 in /data/anaconda/envs/py37torch/lib/python3.7/site-packages/torch/lib/libtorch_python.so)\nframe #5: _PyMethodDef_RawFastCallDict + 0x24d (0x55a8701f6f1d in /data/anaconda/envs/py37torch/bin/python -m ipykernel_launcher -f /data/home/kbeelen/.local/share/jupyter/runtime/kernel-0591b2de-a7eb-4883-b87f-26edfbdafda9.json)\nframe #6: _PyCFunction_FastCallDict + 0x21 (0x55a8701f70a1 in /data/anaconda/envs/py37torch/bin/python -m ipykernel_launcher -f /data/home/kbeelen/.local/share/jupyter/runtime/kernel-0591b2de-a7eb-4883-b87f-26edfbdafda9.json)\nframe #7: _PyObject_Call_Prepend + 0x63 (0x55a8701f4e33 in /data/anaconda/envs/py37torch/bin/python -m ipykernel_launcher -f /data/home/kbeelen/.local/share/jupyter/runtime/kernel-0591b2de-a7eb-4883-b87f-26edfbdafda9.json)\nframe #8: PyObject_Call + 0x6e (0x55a8701e7a3e in /data/anaconda/envs/py37torch/bin/python -m ipykernel_launcher -f /data/home/kbeelen/.local/share/jupyter/runtime/kernel-0591b2de-a7eb-4883-b87f-26edfbdafda9.json)\nframe #9: <unknown function> + 0x9d41b (0x55a87015f41b in /data/anaconda/envs/py37torch/bin/python -m ipykernel_launcher -f /data/home/kbeelen/.local/share/jupyter/runtime/kernel-0591b2de-a7eb-4883-b87f-26edfbdafda9.json)\nframe #10: _PyObject_FastCallKeywords + 0x128 (0x55a87022ce28 in /data/anaconda/envs/py37torch/bin/python -m ipykernel_launcher -f /data/home/kbeelen/.local/share/jupyter/runtime/kernel-0591b2de-a7eb-4883-b87f-26edfbdafda9.json)\nframe #11: _PyEval_EvalFrameDefault + 0x52e6 (0x55a8702924d6 in /data/anaconda/envs/py37torch/bin/python -m ipykernel_launcher -f /data/home/kbeelen/.local/share/jupyter/runtime/kernel-0591b2de-a7eb-4883-b87f-26edfbdafda9.json)\nframe #12: _PyEval_EvalCodeWithName + 0x5da (0x55a8701d549a in /data/anaconda/envs/py37torch/bin/python -m ipykernel_launcher -f /data/home/kbeelen/.local/share/jupyter/runtime/kernel-0591b2de-a7eb-4883-b87f-26edfbdafda9.json)\nframe #13: _PyFunction_FastCallDict + 0x1d5 (0x55a8701d62a5 in /data/anaconda/envs/py37torch/bin/python -m ipykernel_launcher -f /data/home/kbeelen/.local/share/jupyter/runtime/kernel-0591b2de-a7eb-4883-b87f-26edfbdafda9.json)\nframe #14: _PyObject_Call_Prepend + 0x63 (0x55a8701f4e33 in /data/anaconda/envs/py37torch/bin/python -m ipykernel_launcher -f /data/home/kbeelen/.local/share/jupyter/runtime/kernel-0591b2de-a7eb-4883-b87f-26edfbdafda9.json)\nframe #15: <unknown function> + 0x16a21a (0x55a87022c21a in /data/anaconda/envs/py37torch/bin/python -m ipykernel_launcher -f /data/home/kbeelen/.local/share/jupyter/runtime/kernel-0591b2de-a7eb-4883-b87f-26edfbdafda9.json)\nframe #16: _PyObject_FastCallKeywords + 0x128 (0x55a87022ce28 in /data/anaconda/envs/py37torch/bin/python -m ipykernel_launcher -f /data/home/kbeelen/.local/share/jupyter/runtime/kernel-0591b2de-a7eb-4883-b87f-26edfbdafda9.json)\nframe #17: _PyEval_EvalFrameDefault + 0x4a86 (0x55a870291c76 in /data/anaconda/envs/py37torch/bin/python -m ipykernel_launcher -f /data/home/kbeelen/.local/share/jupyter/runtime/kernel-0591b2de-a7eb-4883-b87f-26edfbdafda9.json)\nframe #18: _PyEval_EvalCodeWithName + 0x2f9 (0x55a8701d51b9 in /data/anaconda/envs/py37torch/bin/python -m ipykernel_launcher -f /data/home/kbeelen/.local/share/jupyter/runtime/kernel-0591b2de-a7eb-4883-b87f-26edfbdafda9.json)\nframe #19: _PyFunction_FastCallKeywords + 0x387 (0x55a870225437 in /data/anaconda/envs/py37torch/bin/python -m ipykernel_launcher -f /data/home/kbeelen/.local/share/jupyter/runtime/kernel-0591b2de-a7eb-4883-b87f-26edfbdafda9.json)\nframe #20: _PyEval_EvalFrameDefault + 0x14eb (0x55a87028e6db in /data/anaconda/envs/py37torch/bin/python -m ipykernel_launcher -f /data/home/kbeelen/.local/share/jupyter/runtime/kernel-0591b2de-a7eb-4883-b87f-26edfbdafda9.json)\nframe #21: _PyFunction_FastCallKeywords + 0xfb (0x55a8702251ab in /data/anaconda/envs/py37torch/bin/python -m ipykernel_launcher -f /data/home/kbeelen/.local/share/jupyter/runtime/kernel-0591b2de-a7eb-4883-b87f-26edfbdafda9.json)\nframe #22: _PyEval_EvalFrameDefault + 0x4b29 (0x55a870291d19 in /data/anaconda/envs/py37torch/bin/python -m ipykernel_launcher -f /data/home/kbeelen/.local/share/jupyter/runtime/kernel-0591b2de-a7eb-4883-b87f-26edfbdafda9.json)\nframe #23: _PyEval_EvalCodeWithName + 0x2f9 (0x55a8701d51b9 in /data/anaconda/envs/py37torch/bin/python -m ipykernel_launcher -f /data/home/kbeelen/.local/share/jupyter/runtime/kernel-0591b2de-a7eb-4883-b87f-26edfbdafda9.json)\nframe #24: PyEval_EvalCodeEx + 0x44 (0x55a8701d6094 in /data/anaconda/envs/py37torch/bin/python -m ipykernel_launcher -f /data/home/kbeelen/.local/share/jupyter/runtime/kernel-0591b2de-a7eb-4883-b87f-26edfbdafda9.json)\nframe #25: PyEval_EvalCode + 0x1c (0x55a8701d60bc in /data/anaconda/envs/py37torch/bin/python -m ipykernel_launcher -f /data/home/kbeelen/.local/share/jupyter/runtime/kernel-0591b2de-a7eb-4883-b87f-26edfbdafda9.json)\nframe #26: <unknown function> + 0x1daeb0 (0x55a87029ceb0 in /data/anaconda/envs/py37torch/bin/python -m ipykernel_launcher -f /data/home/kbeelen/.local/share/jupyter/runtime/kernel-0591b2de-a7eb-4883-b87f-26edfbdafda9.json)\nframe #27: _PyMethodDef_RawFastCallKeywords + 0xe9 (0x55a870225ab9 in /data/anaconda/envs/py37torch/bin/python -m ipykernel_launcher -f /data/home/kbeelen/.local/share/jupyter/runtime/kernel-0591b2de-a7eb-4883-b87f-26edfbdafda9.json)\nframe #28: _PyCFunction_FastCallKeywords + 0x21 (0x55a870225d51 in /data/anaconda/envs/py37torch/bin/python -m ipykernel_launcher -f /data/home/kbeelen/.local/share/jupyter/runtime/kernel-0591b2de-a7eb-4883-b87f-26edfbdafda9.json)\nframe #29: _PyEval_EvalFrameDefault + 0x4784 (0x55a870291974 in /data/anaconda/envs/py37torch/bin/python -m ipykernel_launcher -f /data/home/kbeelen/.local/share/jupyter/runtime/kernel-0591b2de-a7eb-4883-b87f-26edfbdafda9.json)\nframe #30: _PyGen_Send + 0x2a2 (0x55a87022de32 in /data/anaconda/envs/py37torch/bin/python -m ipykernel_launcher -f /data/home/kbeelen/.local/share/jupyter/runtime/kernel-0591b2de-a7eb-4883-b87f-26edfbdafda9.json)\nframe #31: _PyEval_EvalFrameDefault + 0x1a88 (0x55a87028ec78 in /data/anaconda/envs/py37torch/bin/python -m ipykernel_launcher -f /data/home/kbeelen/.local/share/jupyter/runtime/kernel-0591b2de-a7eb-4883-b87f-26edfbdafda9.json)\nframe #32: _PyGen_Send + 0x2a2 (0x55a87022de32 in /data/anaconda/envs/py37torch/bin/python -m ipykernel_launcher -f /data/home/kbeelen/.local/share/jupyter/runtime/kernel-0591b2de-a7eb-4883-b87f-26edfbdafda9.json)\nframe #33: _PyEval_EvalFrameDefault + 0x1a88 (0x55a87028ec78 in /data/anaconda/envs/py37torch/bin/python -m ipykernel_launcher -f /data/home/kbeelen/.local/share/jupyter/runtime/kernel-0591b2de-a7eb-4883-b87f-26edfbdafda9.json)\nframe #34: _PyGen_Send + 0x2a2 (0x55a87022de32 in /data/anaconda/envs/py37torch/bin/python -m ipykernel_launcher -f /data/home/kbeelen/.local/share/jupyter/runtime/kernel-0591b2de-a7eb-4883-b87f-26edfbdafda9.json)\nframe #35: _PyMethodDef_RawFastCallKeywords + 0x8d (0x55a870225a5d in /data/anaconda/envs/py37torch/bin/python -m ipykernel_launcher -f /data/home/kbeelen/.local/share/jupyter/runtime/kernel-0591b2de-a7eb-4883-b87f-26edfbdafda9.json)\nframe #36: _PyMethodDescr_FastCallKeywords + 0x4f (0x55a87022cc6f in /data/anaconda/envs/py37torch/bin/python -m ipykernel_launcher -f /data/home/kbeelen/.local/share/jupyter/runtime/kernel-0591b2de-a7eb-4883-b87f-26edfbdafda9.json)\nframe #37: _PyEval_EvalFrameDefault + 0x4c7b (0x55a870291e6b in /data/anaconda/envs/py37torch/bin/python -m ipykernel_launcher -f /data/home/kbeelen/.local/share/jupyter/runtime/kernel-0591b2de-a7eb-4883-b87f-26edfbdafda9.json)\nframe #38: _PyFunction_FastCallKeywords + 0xfb (0x55a8702251ab in /data/anaconda/envs/py37torch/bin/python -m ipykernel_launcher -f /data/home/kbeelen/.local/share/jupyter/runtime/kernel-0591b2de-a7eb-4883-b87f-26edfbdafda9.json)\nframe #39: _PyEval_EvalFrameDefault + 0x416 (0x55a87028d606 in /data/anaconda/envs/py37torch/bin/python -m ipykernel_launcher -f /data/home/kbeelen/.local/share/jupyter/runtime/kernel-0591b2de-a7eb-4883-b87f-26edfbdafda9.json)\nframe #40: _PyFunction_FastCallKeywords + 0xfb (0x55a8702251ab in /data/anaconda/envs/py37torch/bin/python -m ipykernel_launcher -f /data/home/kbeelen/.local/share/jupyter/runtime/kernel-0591b2de-a7eb-4883-b87f-26edfbdafda9.json)\nframe #41: _PyEval_EvalFrameDefault + 0x6a3 (0x55a87028d893 in /data/anaconda/envs/py37torch/bin/python -m ipykernel_launcher -f /data/home/kbeelen/.local/share/jupyter/runtime/kernel-0591b2de-a7eb-4883-b87f-26edfbdafda9.json)\nframe #42: _PyEval_EvalCodeWithName + 0x2f9 (0x55a8701d51b9 in /data/anaconda/envs/py37torch/bin/python -m ipykernel_launcher -f /data/home/kbeelen/.local/share/jupyter/runtime/kernel-0591b2de-a7eb-4883-b87f-26edfbdafda9.json)\nframe #43: _PyFunction_FastCallDict + 0x3ff (0x55a8701d64cf in /data/anaconda/envs/py37torch/bin/python -m ipykernel_launcher -f /data/home/kbeelen/.local/share/jupyter/runtime/kernel-0591b2de-a7eb-4883-b87f-26edfbdafda9.json)\nframe #44: _PyObject_Call_Prepend + 0x63 (0x55a8701f4e33 in /data/anaconda/envs/py37torch/bin/python -m ipykernel_launcher -f /data/home/kbeelen/.local/share/jupyter/runtime/kernel-0591b2de-a7eb-4883-b87f-26edfbdafda9.json)\nframe #45: PyObject_Call + 0x6e (0x55a8701e7a3e in /data/anaconda/envs/py37torch/bin/python -m ipykernel_launcher -f /data/home/kbeelen/.local/share/jupyter/runtime/kernel-0591b2de-a7eb-4883-b87f-26edfbdafda9.json)\nframe #46: _PyEval_EvalFrameDefault + 0x1f3a (0x55a87028f12a in /data/anaconda/envs/py37torch/bin/python -m ipykernel_launcher -f /data/home/kbeelen/.local/share/jupyter/runtime/kernel-0591b2de-a7eb-4883-b87f-26edfbdafda9.json)\nframe #47: _PyEval_EvalCodeWithName + 0x5da (0x55a8701d549a in /data/anaconda/envs/py37torch/bin/python -m ipykernel_launcher -f /data/home/kbeelen/.local/share/jupyter/runtime/kernel-0591b2de-a7eb-4883-b87f-26edfbdafda9.json)\nframe #48: _PyFunction_FastCallKeywords + 0x387 (0x55a870225437 in /data/anaconda/envs/py37torch/bin/python -m ipykernel_launcher -f /data/home/kbeelen/.local/share/jupyter/runtime/kernel-0591b2de-a7eb-4883-b87f-26edfbdafda9.json)\nframe #49: _PyEval_EvalFrameDefault + 0x14eb (0x55a87028e6db in /data/anaconda/envs/py37torch/bin/python -m ipykernel_launcher -f /data/home/kbeelen/.local/share/jupyter/runtime/kernel-0591b2de-a7eb-4883-b87f-26edfbdafda9.json)\nframe #50: <unknown function> + 0x16b8f9 (0x55a87022d8f9 in /data/anaconda/envs/py37torch/bin/python -m ipykernel_launcher -f /data/home/kbeelen/.local/share/jupyter/runtime/kernel-0591b2de-a7eb-4883-b87f-26edfbdafda9.json)\nframe #51: _PyMethodDef_RawFastCallKeywords + 0xe9 (0x55a870225ab9 in /data/anaconda/envs/py37torch/bin/python -m ipykernel_launcher -f /data/home/kbeelen/.local/share/jupyter/runtime/kernel-0591b2de-a7eb-4883-b87f-26edfbdafda9.json)\nframe #52: _PyCFunction_FastCallKeywords + 0x21 (0x55a870225d51 in /data/anaconda/envs/py37torch/bin/python -m ipykernel_launcher -f /data/home/kbeelen/.local/share/jupyter/runtime/kernel-0591b2de-a7eb-4883-b87f-26edfbdafda9.json)\nframe #53: _PyEval_EvalFrameDefault + 0x4784 (0x55a870291974 in /data/anaconda/envs/py37torch/bin/python -m ipykernel_launcher -f /data/home/kbeelen/.local/share/jupyter/runtime/kernel-0591b2de-a7eb-4883-b87f-26edfbdafda9.json)\nframe #54: _PyEval_EvalCodeWithName + 0x5da (0x55a8701d549a in /data/anaconda/envs/py37torch/bin/python -m ipykernel_launcher -f /data/home/kbeelen/.local/share/jupyter/runtime/kernel-0591b2de-a7eb-4883-b87f-26edfbdafda9.json)\nframe #55: _PyFunction_FastCallKeywords + 0x387 (0x55a870225437 in /data/anaconda/envs/py37torch/bin/python -m ipykernel_launcher -f /data/home/kbeelen/.local/share/jupyter/runtime/kernel-0591b2de-a7eb-4883-b87f-26edfbdafda9.json)\nframe #56: _PyEval_EvalFrameDefault + 0x6a3 (0x55a87028d893 in /data/anaconda/envs/py37torch/bin/python -m ipykernel_launcher -f /data/home/kbeelen/.local/share/jupyter/runtime/kernel-0591b2de-a7eb-4883-b87f-26edfbdafda9.json)\nframe #57: <unknown function> + 0x16b8f9 (0x55a87022d8f9 in /data/anaconda/envs/py37torch/bin/python -m ipykernel_launcher -f /data/home/kbeelen/.local/share/jupyter/runtime/kernel-0591b2de-a7eb-4883-b87f-26edfbdafda9.json)\nframe #58: _PyMethodDef_RawFastCallKeywords + 0xe9 (0x55a870225ab9 in /data/anaconda/envs/py37torch/bin/python -m ipykernel_launcher -f /data/home/kbeelen/.local/share/jupyter/runtime/kernel-0591b2de-a7eb-4883-b87f-26edfbdafda9.json)\nframe #59: _PyCFunction_FastCallKeywords + 0x21 (0x55a870225d51 in /data/anaconda/envs/py37torch/bin/python -m ipykernel_launcher -f /data/home/kbeelen/.local/share/jupyter/runtime/kernel-0591b2de-a7eb-4883-b87f-26edfbdafda9.json)\nframe #60: _PyEval_EvalFrameDefault + 0x4784 (0x55a870291974 in /data/anaconda/envs/py37torch/bin/python -m ipykernel_launcher -f /data/home/kbeelen/.local/share/jupyter/runtime/kernel-0591b2de-a7eb-4883-b87f-26edfbdafda9.json)\nframe #61: _PyEval_EvalCodeWithName + 0x5da (0x55a8701d549a in /data/anaconda/envs/py37torch/bin/python -m ipykernel_launcher -f /data/home/kbeelen/.local/share/jupyter/runtime/kernel-0591b2de-a7eb-4883-b87f-26edfbdafda9.json)\nframe #62: _PyFunction_FastCallKeywords + 0x387 (0x55a870225437 in /data/anaconda/envs/py37torch/bin/python -m ipykernel_launcher -f /data/home/kbeelen/.local/share/jupyter/runtime/kernel-0591b2de-a7eb-4883-b87f-26edfbdafda9.json)\nframe #63: _PyEval_EvalFrameDefault + 0x416 (0x55a87028d606 in /data/anaconda/envs/py37torch/bin/python -m ipykernel_launcher -f /data/home/kbeelen/.local/share/jupyter/runtime/kernel-0591b2de-a7eb-4883-b87f-26edfbdafda9.json)\n"
     ]
    }
   ],
   "source": [
    "from flair.trainers import ModelTrainer\n",
    "\n",
    "# 1. load base TARS\n",
    "tars = TARSClassifier.load('tars-base')\n",
    "\n",
    "# 2. make the model aware of the desired set of labels from the new corpus\n",
    "tars.add_and_switch_to_new_task(\"machine_or_not\", label_dictionary=corpus.make_label_dictionary())\n",
    "\n",
    "# 3. initialize the text classifier trainer with your corpus\n",
    "trainer = ModelTrainer(tars, corpus)\n",
    "\n",
    "# 4. train model\n",
    "trainer.train(base_path='resources/taggers/machine_or_not', # path to store the model artifacts\n",
    "              learning_rate=0.02, # use very small learning rate\n",
    "              mini_batch_size=1, # small mini-batch size since corpus is tiny\n",
    "              max_epochs=10, # terminate after 10 epochs\n",
    "              train_with_dev=True,\n",
    "              )"
   ]
  },
  {
   "cell_type": "code",
   "execution_count": null,
   "metadata": {},
   "outputs": [],
   "source": []
  }
 ],
 "metadata": {
  "kernelspec": {
   "display_name": "Python 3",
   "language": "python",
   "name": "python3"
  }
 },
 "nbformat": 4,
 "nbformat_minor": 2
}