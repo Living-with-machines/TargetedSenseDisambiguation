{
 "metadata": {
  "language_info": {
   "codemirror_mode": {
    "name": "ipython",
    "version": 3
   },
   "file_extension": ".py",
   "mimetype": "text/x-python",
   "name": "python",
   "nbconvert_exporter": "python",
   "pygments_lexer": "ipython3",
   "version": "3.7.5-final"
  },
  "orig_nbformat": 2,
  "kernelspec": {
   "name": "python3",
   "display_name": "Python 3"
  }
 },
 "nbformat": 4,
 "nbformat_minor": 2,
 "cells": [
  {
   "cell_type": "code",
   "execution_count": 1,
   "metadata": {},
   "outputs": [
    {
     "output_type": "stream",
     "name": "stdout",
     "text": [
      "  19-machine-tagger\u001b[m\n  4-semantic-provenance\u001b[m\n  44-kNN-BERT-baseline\u001b[m\n* \u001b[32m70-binarize-labels\u001b[m\n  77-datapipeline\u001b[m\n  dev\u001b[m\n  master\u001b[m\n"
     ]
    }
   ],
   "source": [
    "!git branch"
   ]
  },
  {
   "cell_type": "code",
   "execution_count": 2,
   "metadata": {},
   "outputs": [],
   "source": [
    "%load_ext autoreload"
   ]
  },
  {
   "cell_type": "code",
   "execution_count": 3,
   "metadata": {},
   "outputs": [],
   "source": [
    "%autoreload 2"
   ]
  },
  {
   "cell_type": "code",
   "execution_count": 4,
   "metadata": {},
   "outputs": [],
   "source": [
    "from utils.classificaton_utils import binarize"
   ]
  },
  {
   "cell_type": "code",
   "execution_count": 5,
   "metadata": {},
   "outputs": [],
   "source": [
    "lemma_id = 'machine_nn01'\n",
    "senses = {'machine_nn01-38475835','machine_nn01-38475923'}\n",
    "relations = ['seed','synonym','descendant','sibling']"
   ]
  },
  {
   "cell_type": "code",
   "execution_count": 7,
   "metadata": {},
   "outputs": [
    {
     "output_type": "stream",
     "name": "stdout",
     "text": [
      "# senses before filtering by date = 8383\n",
      "# senses after filtering by date = 5918\n",
      "\n",
      "\n",
      "# of seed senses 22 \n",
      "# of synonyms 310 \n",
      "# of branch senses 4990\n",
      "\n",
      "\n",
      "# of seeds selected 1 \n",
      "# of synonyms selected 8 \n",
      "# of branches selected 6\n"
     ]
    }
   ],
   "source": [
    "df_quotations = binarize(lemma_id, \n",
    "                        senses, \n",
    "                        relations,\n",
    "                        strict_filter=True)"
   ]
  },
  {
   "cell_type": "code",
   "execution_count": 8,
   "metadata": {},
   "outputs": [
    {
     "output_type": "execute_result",
     "data": {
      "text/plain": [
       "0    310\n",
       "1     63\n",
       "Name: label, dtype: int64"
      ]
     },
     "metadata": {},
     "execution_count": 8
    }
   ],
   "source": [
    "df_quotations.label.value_counts()"
   ]
  },
  {
   "cell_type": "code",
   "execution_count": 9,
   "metadata": {},
   "outputs": [
    {
     "output_type": "execute_result",
     "data": {
      "text/plain": [
       "(373, 13)"
      ]
     },
     "metadata": {},
     "execution_count": 9
    }
   ],
   "source": [
    "df_quotations.shape"
   ]
  },
  {
   "cell_type": "code",
   "execution_count": 58,
   "metadata": {},
   "outputs": [
    {
     "output_type": "execute_result",
     "data": {
      "text/plain": [
       "                        id                                               text  \\\n",
       "25424  mover_nn01-35820697  {'keyword': None, 'full_text': 'Presertim..mac...   \n",
       "25426  mover_nn01-35820709  {'keyword': 'movers', 'full_text': 'In your Au...   \n",
       "25431  mover_nn01-35820717  {'keyword': 'first Mover', 'full_text': 'The M...   \n",
       "25437  mover_nn01-35820725  {'keyword': 'mover', 'full_text': 'The treasur...   \n",
       "25442  mover_nn01-35820747  {'keyword': 'first mover', 'full_text': 'When ...   \n",
       "\n",
       "       year  lemma                                             source  \\\n",
       "25424  1626  mover  {'title': 'Registrum Magni Sigilli Scotorum', ...   \n",
       "25426  1654  mover  {'title': 'Doctr. Saints Perseverance', 'autho...   \n",
       "25431  1711  mover  {'title': 'Ship-builders Assistant', 'author':...   \n",
       "25437  1788  mover  {'title': 'Writings', 'author': 'T. Jefferson'...   \n",
       "25442  1815  mover  {'title': 'Panorama Sci. & Art', 'author': 'J....   \n",
       "\n",
       "                                                 oed_url     word_id  \\\n",
       "25424  https://www.oed.com/view/Entry/123034#eid35820697  mover_nn01   \n",
       "25426  https://www.oed.com/view/Entry/123034#eid35820709  mover_nn01   \n",
       "25431  https://www.oed.com/view/Entry/123034#eid35820717  mover_nn01   \n",
       "25437  https://www.oed.com/view/Entry/123034#eid35820725  mover_nn01   \n",
       "25442  https://www.oed.com/view/Entry/123034#eid35820747  mover_nn01   \n",
       "\n",
       "                  sense_id datestring  first_in_word         oed_reference  \\\n",
       "25424  mover_nn01-35820685       1626          False  mover, n.1, sense 1c   \n",
       "25426  mover_nn01-35820685       1654          False  mover, n.1, sense 1c   \n",
       "25431  mover_nn01-35820685       1711          False  mover, n.1, sense 1c   \n",
       "25437  mover_nn01-35820685       1788          False  mover, n.1, sense 1c   \n",
       "25442  mover_nn01-35820685       1815          False  mover, n.1, sense 1c   \n",
       "\n",
       "       first_in_sense  label  \n",
       "25424            True      0  \n",
       "25426           False      0  \n",
       "25431           False      0  \n",
       "25437           False      1  \n",
       "25442           False      1  "
      ],
      "text/html": "<div>\n<style scoped>\n    .dataframe tbody tr th:only-of-type {\n        vertical-align: middle;\n    }\n\n    .dataframe tbody tr th {\n        vertical-align: top;\n    }\n\n    .dataframe thead th {\n        text-align: right;\n    }\n</style>\n<table border=\"1\" class=\"dataframe\">\n  <thead>\n    <tr style=\"text-align: right;\">\n      <th></th>\n      <th>id</th>\n      <th>text</th>\n      <th>year</th>\n      <th>lemma</th>\n      <th>source</th>\n      <th>oed_url</th>\n      <th>word_id</th>\n      <th>sense_id</th>\n      <th>datestring</th>\n      <th>first_in_word</th>\n      <th>oed_reference</th>\n      <th>first_in_sense</th>\n      <th>label</th>\n    </tr>\n  </thead>\n  <tbody>\n    <tr>\n      <th>25424</th>\n      <td>mover_nn01-35820697</td>\n      <td>{'keyword': None, 'full_text': 'Presertim..mac...</td>\n      <td>1626</td>\n      <td>mover</td>\n      <td>{'title': 'Registrum Magni Sigilli Scotorum', ...</td>\n      <td>https://www.oed.com/view/Entry/123034#eid35820697</td>\n      <td>mover_nn01</td>\n      <td>mover_nn01-35820685</td>\n      <td>1626</td>\n      <td>False</td>\n      <td>mover, n.1, sense 1c</td>\n      <td>True</td>\n      <td>0</td>\n    </tr>\n    <tr>\n      <th>25426</th>\n      <td>mover_nn01-35820709</td>\n      <td>{'keyword': 'movers', 'full_text': 'In your Au...</td>\n      <td>1654</td>\n      <td>mover</td>\n      <td>{'title': 'Doctr. Saints Perseverance', 'autho...</td>\n      <td>https://www.oed.com/view/Entry/123034#eid35820709</td>\n      <td>mover_nn01</td>\n      <td>mover_nn01-35820685</td>\n      <td>1654</td>\n      <td>False</td>\n      <td>mover, n.1, sense 1c</td>\n      <td>False</td>\n      <td>0</td>\n    </tr>\n    <tr>\n      <th>25431</th>\n      <td>mover_nn01-35820717</td>\n      <td>{'keyword': 'first Mover', 'full_text': 'The M...</td>\n      <td>1711</td>\n      <td>mover</td>\n      <td>{'title': 'Ship-builders Assistant', 'author':...</td>\n      <td>https://www.oed.com/view/Entry/123034#eid35820717</td>\n      <td>mover_nn01</td>\n      <td>mover_nn01-35820685</td>\n      <td>1711</td>\n      <td>False</td>\n      <td>mover, n.1, sense 1c</td>\n      <td>False</td>\n      <td>0</td>\n    </tr>\n    <tr>\n      <th>25437</th>\n      <td>mover_nn01-35820725</td>\n      <td>{'keyword': 'mover', 'full_text': 'The treasur...</td>\n      <td>1788</td>\n      <td>mover</td>\n      <td>{'title': 'Writings', 'author': 'T. Jefferson'...</td>\n      <td>https://www.oed.com/view/Entry/123034#eid35820725</td>\n      <td>mover_nn01</td>\n      <td>mover_nn01-35820685</td>\n      <td>1788</td>\n      <td>False</td>\n      <td>mover, n.1, sense 1c</td>\n      <td>False</td>\n      <td>1</td>\n    </tr>\n    <tr>\n      <th>25442</th>\n      <td>mover_nn01-35820747</td>\n      <td>{'keyword': 'first mover', 'full_text': 'When ...</td>\n      <td>1815</td>\n      <td>mover</td>\n      <td>{'title': 'Panorama Sci. &amp; Art', 'author': 'J....</td>\n      <td>https://www.oed.com/view/Entry/123034#eid35820747</td>\n      <td>mover_nn01</td>\n      <td>mover_nn01-35820685</td>\n      <td>1815</td>\n      <td>False</td>\n      <td>mover, n.1, sense 1c</td>\n      <td>False</td>\n      <td>1</td>\n    </tr>\n  </tbody>\n</table>\n</div>"
     },
     "metadata": {},
     "execution_count": 58
    }
   ],
   "source": [
    "df_quotations.head()"
   ]
  },
  {
   "cell_type": "code",
   "execution_count": null,
   "metadata": {},
   "outputs": [],
   "source": []
  }
 ]
}