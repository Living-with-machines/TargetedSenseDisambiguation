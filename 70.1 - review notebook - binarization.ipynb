{
 "metadata": {
  "orig_nbformat": 2,
  "kernelspec": {
   "name": "py37torch",
   "display_name": "py37torch"
  }
 },
 "nbformat": 4,
 "nbformat_minor": 2,
 "cells": [
  {
   "cell_type": "code",
   "execution_count": 1,
   "metadata": {},
   "outputs": [
    {
     "output_type": "stream",
     "name": "stdout",
     "text": [
      "  1-dataframe\u001b[m\n  2-exp-infrastructure\u001b[m\n  4-semantic-provenance\u001b[m\n  47-wsd-uns-baselines\u001b[m\n* \u001b[32m70-binarize-labels\u001b[m\n  77-datapipeline\u001b[m\n  dev\u001b[m\n  master\u001b[m\n  oed-experiments\u001b[m\n  sense-embs\u001b[m\n  test-branch\u001b[m\n  test-two\u001b[m\n"
     ]
    }
   ],
   "source": [
    "!git branch"
   ]
  },
  {
   "cell_type": "code",
   "execution_count": 2,
   "metadata": {},
   "outputs": [],
   "source": [
    "%load_ext autoreload"
   ]
  },
  {
   "cell_type": "code",
   "execution_count": 3,
   "metadata": {},
   "outputs": [],
   "source": [
    "%autoreload 2"
   ]
  },
  {
   "cell_type": "code",
   "execution_count": 4,
   "metadata": {},
   "outputs": [],
   "source": [
    "from utils.classificaton_utils import binarize"
   ]
  },
  {
   "cell_type": "code",
   "execution_count": 5,
   "metadata": {},
   "outputs": [],
   "source": [
    "lemma_id = 'machine_nn01'\n",
    "senses = {'machine_nn01-38475835','machine_nn01-38475923'}\n",
    "relations = ['seed','synonym','descendant','sibling']"
   ]
  },
  {
   "cell_type": "code",
   "execution_count": 6,
   "metadata": {},
   "outputs": [
    {
     "output_type": "stream",
     "name": "stdout",
     "text": [
      "# senses before filtering by date = 8383\n",
      "# senses after filtering by date = 5904\n",
      "\n",
      "\n",
      "# of seed senses 23 \n",
      "# of synonyms 312 \n",
      "# of branch senses 4968\n",
      "\n",
      "\n",
      "# of seeds selected 1 \n",
      "# of synonyms selected 8 \n",
      "# of branches selected 5\n"
     ]
    }
   ],
   "source": [
    "df_quotations = binarize(lemma_id, \n",
    "                        senses, \n",
    "                        relations,\n",
    "                        strict_filter=True,\n",
    "                        start=1700,\n",
    "                        end=1910)"
   ]
  },
  {
   "cell_type": "code",
   "execution_count": 7,
   "metadata": {},
   "outputs": [
    {
     "output_type": "execute_result",
     "data": {
      "text/plain": [
       "0    355\n",
       "1     65\n",
       "Name: label, dtype: int64"
      ]
     },
     "metadata": {},
     "execution_count": 7
    }
   ],
   "source": [
    "df_quotations.label.value_counts()"
   ]
  },
  {
   "cell_type": "code",
   "execution_count": 8,
   "metadata": {},
   "outputs": [
    {
     "output_type": "execute_result",
     "data": {
      "text/plain": [
       "(420, 13)"
      ]
     },
     "metadata": {},
     "execution_count": 8
    }
   ],
   "source": [
    "df_quotations.shape"
   ]
  },
  {
   "cell_type": "code",
   "execution_count": 10,
   "metadata": {},
   "outputs": [
    {
     "output_type": "execute_result",
     "data": {
      "text/plain": [
       "                        id                                               text  \\\n",
       "25430  mover_nn01-35820849  {'keyword': 'mover', 'full_text': 'Providence,...   \n",
       "25431  mover_nn01-35820717  {'keyword': 'first Mover', 'full_text': 'The M...   \n",
       "25432  mover_nn01-35820860  {'keyword': 'mover', 'full_text': 'They will w...   \n",
       "25433  mover_nn01-35821031  {'keyword': 'Movers', 'full_text': 'Nor is the...   \n",
       "25434  mover_nn01-35821108  {'keyword': 'Mover', 'full_text': 'Therefore w...   \n",
       "\n",
       "       year  lemma                                             source  \\\n",
       "25430  1704  mover  {'title': '15th Rep. Royal Comm. Hist. MSS', '...   \n",
       "25431  1711  mover  {'title': 'Ship-builders Assistant', 'author':...   \n",
       "25432  1711  mover  {'title': 'Jrnl. to Stella', 'author': 'J. Swi...   \n",
       "25433  1736  mover  {'title': 'Analogy of Relig.', 'author': 'Bp. ...   \n",
       "25434  1737  mover  {'title': 'Gentleman's Mag.', 'author': None, ...   \n",
       "\n",
       "                                                 oed_url     word_id  \\\n",
       "25430  https://www.oed.com/view/Entry/123034#eid35820849  mover_nn01   \n",
       "25431  https://www.oed.com/view/Entry/123034#eid35820717  mover_nn01   \n",
       "25432  https://www.oed.com/view/Entry/123034#eid35820860  mover_nn01   \n",
       "25433  https://www.oed.com/view/Entry/123034#eid35821031  mover_nn01   \n",
       "25434  https://www.oed.com/view/Entry/123034#eid35821108  mover_nn01   \n",
       "\n",
       "                  sense_id datestring  first_in_word         oed_reference  \\\n",
       "25430  mover_nn01-35820773       1704          False  mover, n.1, sense 2a   \n",
       "25431  mover_nn01-35820685       1711          False  mover, n.1, sense 1c   \n",
       "25432  mover_nn01-35820773       1711          False  mover, n.1, sense 2a   \n",
       "25433  mover_nn01-35821002       1736          False   mover, n.1, sense 3   \n",
       "25434  mover_nn01-35821082       1737          False   mover, n.1, sense 4   \n",
       "\n",
       "       first_in_sense  label  \n",
       "25430           False      0  \n",
       "25431           False      1  \n",
       "25432           False      0  \n",
       "25433           False      0  \n",
       "25434           False      0  "
      ],
      "text/html": "<div>\n<style scoped>\n    .dataframe tbody tr th:only-of-type {\n        vertical-align: middle;\n    }\n\n    .dataframe tbody tr th {\n        vertical-align: top;\n    }\n\n    .dataframe thead th {\n        text-align: right;\n    }\n</style>\n<table border=\"1\" class=\"dataframe\">\n  <thead>\n    <tr style=\"text-align: right;\">\n      <th></th>\n      <th>id</th>\n      <th>text</th>\n      <th>year</th>\n      <th>lemma</th>\n      <th>source</th>\n      <th>oed_url</th>\n      <th>word_id</th>\n      <th>sense_id</th>\n      <th>datestring</th>\n      <th>first_in_word</th>\n      <th>oed_reference</th>\n      <th>first_in_sense</th>\n      <th>label</th>\n    </tr>\n  </thead>\n  <tbody>\n    <tr>\n      <td>25430</td>\n      <td>mover_nn01-35820849</td>\n      <td>{'keyword': 'mover', 'full_text': 'Providence,...</td>\n      <td>1704</td>\n      <td>mover</td>\n      <td>{'title': '15th Rep. Royal Comm. Hist. MSS', '...</td>\n      <td>https://www.oed.com/view/Entry/123034#eid35820849</td>\n      <td>mover_nn01</td>\n      <td>mover_nn01-35820773</td>\n      <td>1704</td>\n      <td>False</td>\n      <td>mover, n.1, sense 2a</td>\n      <td>False</td>\n      <td>0</td>\n    </tr>\n    <tr>\n      <td>25431</td>\n      <td>mover_nn01-35820717</td>\n      <td>{'keyword': 'first Mover', 'full_text': 'The M...</td>\n      <td>1711</td>\n      <td>mover</td>\n      <td>{'title': 'Ship-builders Assistant', 'author':...</td>\n      <td>https://www.oed.com/view/Entry/123034#eid35820717</td>\n      <td>mover_nn01</td>\n      <td>mover_nn01-35820685</td>\n      <td>1711</td>\n      <td>False</td>\n      <td>mover, n.1, sense 1c</td>\n      <td>False</td>\n      <td>1</td>\n    </tr>\n    <tr>\n      <td>25432</td>\n      <td>mover_nn01-35820860</td>\n      <td>{'keyword': 'mover', 'full_text': 'They will w...</td>\n      <td>1711</td>\n      <td>mover</td>\n      <td>{'title': 'Jrnl. to Stella', 'author': 'J. Swi...</td>\n      <td>https://www.oed.com/view/Entry/123034#eid35820860</td>\n      <td>mover_nn01</td>\n      <td>mover_nn01-35820773</td>\n      <td>1711</td>\n      <td>False</td>\n      <td>mover, n.1, sense 2a</td>\n      <td>False</td>\n      <td>0</td>\n    </tr>\n    <tr>\n      <td>25433</td>\n      <td>mover_nn01-35821031</td>\n      <td>{'keyword': 'Movers', 'full_text': 'Nor is the...</td>\n      <td>1736</td>\n      <td>mover</td>\n      <td>{'title': 'Analogy of Relig.', 'author': 'Bp. ...</td>\n      <td>https://www.oed.com/view/Entry/123034#eid35821031</td>\n      <td>mover_nn01</td>\n      <td>mover_nn01-35821002</td>\n      <td>1736</td>\n      <td>False</td>\n      <td>mover, n.1, sense 3</td>\n      <td>False</td>\n      <td>0</td>\n    </tr>\n    <tr>\n      <td>25434</td>\n      <td>mover_nn01-35821108</td>\n      <td>{'keyword': 'Mover', 'full_text': 'Therefore w...</td>\n      <td>1737</td>\n      <td>mover</td>\n      <td>{'title': 'Gentleman's Mag.', 'author': None, ...</td>\n      <td>https://www.oed.com/view/Entry/123034#eid35821108</td>\n      <td>mover_nn01</td>\n      <td>mover_nn01-35821082</td>\n      <td>1737</td>\n      <td>False</td>\n      <td>mover, n.1, sense 4</td>\n      <td>False</td>\n      <td>0</td>\n    </tr>\n  </tbody>\n</table>\n</div>"
     },
     "metadata": {},
     "execution_count": 10
    }
   ],
   "source": [
    "df_quotations.head()"
   ]
  },
  {
   "cell_type": "code",
   "execution_count": null,
   "metadata": {},
   "outputs": [],
   "source": []
  }
 ]
}