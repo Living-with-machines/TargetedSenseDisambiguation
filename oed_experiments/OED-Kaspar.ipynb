{
 "cells": [
  {
   "cell_type": "markdown",
   "metadata": {},
   "source": [
    "## OED Data Selection\n",
    "\n",
    "Notebook that retrieves relevant data for OED API.\n",
    "\n",
    "For relevant documentation, look [here](https://languages.oup.com/research/oed-researcher-api/#see-documentation)"
   ]
  },
  {
   "cell_type": "code",
   "execution_count": 1,
   "metadata": {},
   "outputs": [
    {
     "name": "stderr",
     "output_type": "stream",
     "text": [
      "/Users/Giorgia/anaconda3/lib/python3.7/site-packages/requests/__init__.py:91: RequestsDependencyWarning: urllib3 (1.25.10) or chardet (3.0.4) doesn't match a supported version!\n",
      "  RequestsDependencyWarning)\n"
     ]
    }
   ],
   "source": [
    "import requests\n",
    "import pickle\n",
    "import pandas as pd\n",
    "from tqdm.notebook import tqdm"
   ]
  },
  {
   "cell_type": "code",
   "execution_count": 2,
   "metadata": {},
   "outputs": [
    {
     "ename": "FileNotFoundError",
     "evalue": "[Errno 2] No such file or directory: './dev/oed_keys.pkcl'",
     "output_type": "error",
     "traceback": [
      "\u001b[0;31m---------------------------------------------------------------------------\u001b[0m",
      "\u001b[0;31mFileNotFoundError\u001b[0m                         Traceback (most recent call last)",
      "\u001b[0;32m<ipython-input-2-dc06bbf192ff>\u001b[0m in \u001b[0;36m<module>\u001b[0;34m\u001b[0m\n\u001b[0;32m----> 1\u001b[0;31m \u001b[0mauth\u001b[0m \u001b[0;34m=\u001b[0m \u001b[0mpickle\u001b[0m\u001b[0;34m.\u001b[0m\u001b[0mload\u001b[0m\u001b[0;34m(\u001b[0m\u001b[0mopen\u001b[0m\u001b[0;34m(\u001b[0m\u001b[0;34m'./dev/oed_keys.pkcl'\u001b[0m\u001b[0;34m,\u001b[0m\u001b[0;34m\"rb\"\u001b[0m\u001b[0;34m)\u001b[0m\u001b[0;34m)\u001b[0m\u001b[0;34m\u001b[0m\u001b[0;34m\u001b[0m\u001b[0m\n\u001b[0m",
      "\u001b[0;31mFileNotFoundError\u001b[0m: [Errno 2] No such file or directory: './dev/oed_keys.pkcl'"
     ]
    }
   ],
   "source": [
    "auth = pickle.load(open('./dev/oed_keys.pkcl',\"rb\"))"
   ]
  },
  {
   "cell_type": "code",
   "execution_count": null,
   "metadata": {},
   "outputs": [],
   "source": [
    "def query_oed(\n",
    "          auth:dict,\n",
    "          endpoint:str,\n",
    "          query:str,\n",
    "          flags:str='',\n",
    "          level:str='',\n",
    "          verbose=True):\n",
    "    \n",
    "    \"\"\"\n",
    "    Get data from Oxford English Dictionary.\n",
    "    Function requires an endpoint _and_ query as arguments. \n",
    "    \n",
    "    Arguments:\n",
    "    \n",
    "        auth (dict): a dictionary with authentication inforamtion, needs details for 'app_id' and 'app_key'\n",
    "    \n",
    "        endpoint (str): select which endpoint to query, examples are word, sense, semanticclass etc\n",
    "        \n",
    "        query (str): query for the specific endpoint, most often a specific id, such as 'machine_nn01' or '120172'\n",
    "        \n",
    "        flags (str): options appended to query to include, for example, quotations instead of quotation ids\n",
    "                     example \"include_senses=false&include_quotations=false\"\n",
    "        \n",
    "        level (str): at which level to query the endpoint, \n",
    "                     e.g. get sense of the query word, get siblings for semantic class etc\n",
    "                     standard value is empty string\n",
    "        \n",
    "        verbose (bool): print the URL used for retrieving information from the API\n",
    "        \n",
    "    Returns:\n",
    "    \n",
    "        JSON of the response\n",
    "        \n",
    "    Example uses:\n",
    "    \n",
    "        query_oed(auth, 'word', 'machine_nn01')\n",
    "            -> Retrieves information for the word machine_nn01.\n",
    "        \n",
    "        query_oed(auth, 'word','machine_nn01',level='quotations')\n",
    "            -> Retrieves all quotations for machine_nn01.\n",
    "        \n",
    "        query_oed(auth, 'word', 'machine_nn01', flags=\"include_senses=true&include_quotations=true\")\n",
    "            -> Retrieves all senses and quotations  for the word machine_nn01.\n",
    "            \n",
    "        query_oed(auth, 'semanticclass', '163378')\n",
    "            -> Retrieves semantic class with id 163378.\n",
    "            \n",
    "        query_oed(auth, 'semanticclass', '163378', level='children')\n",
    "            -> Retrieves all children for the semanticlass with id 163378.\n",
    "            \n",
    "        query_oed(auth,'semanticclass', '163378', level='branchsenses',flags=\"current_in='1750-1950'\")\n",
    "            -> get all senses (siblings _and_ descendants) branching out from semantic class with id 163378\n",
    "               restrict query to all senses observed between 1750 and 1950.\n",
    "                \n",
    "    \"\"\"\n",
    "    \n",
    "    base_url = \"https://oed-researcher-api.oxfordlanguages.com/oed/api/v0.2\"\n",
    "    \n",
    "    url = f\"{base_url}/{endpoint}/{query}\" # build url\n",
    "    \n",
    "    if level: # if a level has been specified add this to the url\n",
    "        url = f\"{url}/{level}/\"\n",
    "    \n",
    "    if flags: #  add flag to url with a question mark\n",
    "        url = f\"{url}?{flags}\"\n",
    "        \n",
    "    response = requests.get(url, headers=auth) \n",
    "    \n",
    "    if verbose:\n",
    "        print(url)\n",
    "        \n",
    "    if response.status_code == 200: # check status code \n",
    "        return response.json() # return the data as json\n",
    "    \n",
    "    else:\n",
    "        raise Exception(f\"Error while accessing the API\\nResponse code={response.status_code}\")\n",
    "    \n"
   ]
  },
  {
   "cell_type": "markdown",
   "metadata": {},
   "source": [
    "# Retrieve and save all senses and quotations"
   ]
  },
  {
   "cell_type": "code",
   "execution_count": 3,
   "metadata": {},
   "outputs": [
    {
     "ename": "NameError",
     "evalue": "name 'query_oed' is not defined",
     "output_type": "error",
     "traceback": [
      "\u001b[0;31m---------------------------------------------------------------------------\u001b[0m",
      "\u001b[0;31mNameError\u001b[0m                                 Traceback (most recent call last)",
      "\u001b[0;32m<ipython-input-3-732207de2424>\u001b[0m in \u001b[0;36m<module>\u001b[0;34m\u001b[0m\n\u001b[0;32m----> 1\u001b[0;31m \u001b[0mmachine\u001b[0m \u001b[0;34m=\u001b[0m \u001b[0mquery_oed\u001b[0m\u001b[0;34m(\u001b[0m\u001b[0mauth\u001b[0m\u001b[0;34m,\u001b[0m \u001b[0;34m'word'\u001b[0m\u001b[0;34m,\u001b[0m\u001b[0;34m'machine_nn01'\u001b[0m\u001b[0;34m,\u001b[0m\u001b[0mflags\u001b[0m\u001b[0;34m=\u001b[0m\u001b[0;34m\"include_senses=true&include_quotations=true\"\u001b[0m\u001b[0;34m)\u001b[0m\u001b[0;34m\u001b[0m\u001b[0;34m\u001b[0m\u001b[0m\n\u001b[0m",
      "\u001b[0;31mNameError\u001b[0m: name 'query_oed' is not defined"
     ]
    }
   ],
   "source": [
    "machine = query_oed(auth, 'word','machine_nn01',flags=\"include_senses=true&include_quotations=true\")"
   ]
  },
  {
   "cell_type": "code",
   "execution_count": null,
   "metadata": {},
   "outputs": [],
   "source": [
    "# with open('./dev/machine_senses_quotations.pckl','wb') as out_pickle:\n",
    "#     pickle.dump(machine,out_pickle)"
   ]
  },
  {
   "cell_type": "code",
   "execution_count": null,
   "metadata": {},
   "outputs": [],
   "source": [
    "with open('./dev/machine_senses_quotations.pckl','rb') as in_pickle:\n",
    "    machine = pickle.load(in_pickle)"
   ]
  },
  {
   "cell_type": "markdown",
   "metadata": {},
   "source": [
    "## Retrieve and store all descendant and siblings for machine senses"
   ]
  },
  {
   "cell_type": "code",
   "execution_count": null,
   "metadata": {},
   "outputs": [],
   "source": [
    "get_semantic_class_idx = lambda data: [l[-1] for s in data['data']['senses']  for l in s['semantic_class_ids']]\n",
    "\n",
    "# probably better make a normal function for this\n",
    "get_branches = lambda sc_idx: { idx : query_oed(auth, 'semanticclass', idx, \n",
    "                                              level='branchsenses',\n",
    "                                              flags=\"current_in='1750-1950'\",\n",
    "                                              verbose=False\n",
    "                                               ) \n",
    "                                                   for idx in tqdm(sc_idx) \n",
    "                                      }\n",
    "\n",
    "\n",
    "\n"
   ]
  },
  {
   "cell_type": "code",
   "execution_count": null,
   "metadata": {},
   "outputs": [],
   "source": [
    "sem_class_idx = get_semantic_class_idx(machine)"
   ]
  },
  {
   "cell_type": "code",
   "execution_count": null,
   "metadata": {},
   "outputs": [],
   "source": [
    "branches = get_branches(sem_class_idx)"
   ]
  },
  {
   "cell_type": "code",
   "execution_count": null,
   "metadata": {},
   "outputs": [],
   "source": [
    "# with open('./dev/machine_sc_branches.pckl','wb') as out_pickle:\n",
    "#     pickle.dump(branches,out_pickle)"
   ]
  },
  {
   "cell_type": "code",
   "execution_count": null,
   "metadata": {},
   "outputs": [],
   "source": [
    "with open('./dev/machine_sc_branches.pckl','rb') as in_pickle:\n",
    "    branches = pickle.load(in_pickle)"
   ]
  },
  {
   "cell_type": "code",
   "execution_count": null,
   "metadata": {},
   "outputs": [],
   "source": [
    "branches['120172']['data']"
   ]
  },
  {
   "cell_type": "code",
   "execution_count": null,
   "metadata": {},
   "outputs": [],
   "source": []
  }
 ],
 "metadata": {
  "kernelspec": {
   "display_name": "Python 3",
   "language": "python",
   "name": "python3"
  },
  "language_info": {
   "codemirror_mode": {
    "name": "ipython",
    "version": 3
   },
   "file_extension": ".py",
   "mimetype": "text/x-python",
   "name": "python",
   "nbconvert_exporter": "python",
   "pygments_lexer": "ipython3",
   "version": "3.7.1"
  }
 },
 "nbformat": 4,
 "nbformat_minor": 2
}
