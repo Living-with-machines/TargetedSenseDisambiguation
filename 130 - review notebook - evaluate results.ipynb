{
 "metadata": {
  "language_info": {
   "codemirror_mode": {
    "name": "ipython",
    "version": 3
   },
   "file_extension": ".py",
   "mimetype": "text/x-python",
   "name": "python",
   "nbconvert_exporter": "python",
   "pygments_lexer": "ipython3",
   "version": "3.7.5-final"
  },
  "orig_nbformat": 2,
  "kernelspec": {
   "name": "python3",
   "display_name": "Python 3",
   "language": "python"
  }
 },
 "nbformat": 4,
 "nbformat_minor": 2,
 "cells": [
  {
   "cell_type": "code",
   "execution_count": 4,
   "metadata": {},
   "outputs": [
    {
     "output_type": "stream",
     "name": "stdout",
     "text": [
      "The autoreload extension is already loaded. To reload it, use:\n  %reload_ext autoreload\n"
     ]
    }
   ],
   "source": [
    "%load_ext autoreload\n",
    "%autoreload 2"
   ]
  },
  {
   "cell_type": "code",
   "execution_count": 5,
   "metadata": {},
   "outputs": [],
   "source": [
    "from utils.classificaton_utils import evaluate_results\n",
    "from pathlib import Path\n",
    "import pandas as pd\n"
   ]
  },
  {
   "cell_type": "code",
   "execution_count": 6,
   "metadata": {},
   "outputs": [],
   "source": [
    "results = evaluate_results(Path('results_2'))"
   ]
  },
  {
   "cell_type": "code",
   "execution_count": 14,
   "metadata": {},
   "outputs": [],
   "source": [
    "df = pd.DataFrame.from_dict(results, orient='index', columns=['precision','recall','fscore'])\n"
   ]
  },
  {
   "cell_type": "code",
   "execution_count": 15,
   "metadata": {},
   "outputs": [
    {
     "output_type": "execute_result",
     "data": {
      "text/plain": [
       "                         precision  recall  fscore\n",
       "random                       0.101   0.518   0.169\n",
       "def_tok_overlap_ranking      0.214   0.243   0.227\n",
       "sent_embedding               0.235   0.168   0.196\n",
       "w2v_lesk_ranking             0.296   0.264   0.279\n",
       "svm_wemb_baseline            0.403   0.057   0.099"
      ],
      "text/html": "<div>\n<style scoped>\n    .dataframe tbody tr th:only-of-type {\n        vertical-align: middle;\n    }\n\n    .dataframe tbody tr th {\n        vertical-align: top;\n    }\n\n    .dataframe thead th {\n        text-align: right;\n    }\n</style>\n<table border=\"1\" class=\"dataframe\">\n  <thead>\n    <tr style=\"text-align: right;\">\n      <th></th>\n      <th>precision</th>\n      <th>recall</th>\n      <th>fscore</th>\n    </tr>\n  </thead>\n  <tbody>\n    <tr>\n      <th>random</th>\n      <td>0.101</td>\n      <td>0.518</td>\n      <td>0.169</td>\n    </tr>\n    <tr>\n      <th>def_tok_overlap_ranking</th>\n      <td>0.214</td>\n      <td>0.243</td>\n      <td>0.227</td>\n    </tr>\n    <tr>\n      <th>sent_embedding</th>\n      <td>0.235</td>\n      <td>0.168</td>\n      <td>0.196</td>\n    </tr>\n    <tr>\n      <th>w2v_lesk_ranking</th>\n      <td>0.296</td>\n      <td>0.264</td>\n      <td>0.279</td>\n    </tr>\n    <tr>\n      <th>svm_wemb_baseline</th>\n      <td>0.403</td>\n      <td>0.057</td>\n      <td>0.099</td>\n    </tr>\n  </tbody>\n</table>\n</div>"
     },
     "metadata": {},
     "execution_count": 15
    }
   ],
   "source": [
    "df.head()"
   ]
  },
  {
   "cell_type": "code",
   "execution_count": null,
   "metadata": {},
   "outputs": [],
   "source": []
  }
 ]
}