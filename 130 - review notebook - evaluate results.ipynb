{
 "metadata": {
  "language_info": {
   "codemirror_mode": {
    "name": "ipython",
    "version": 3
   },
   "file_extension": ".py",
   "mimetype": "text/x-python",
   "name": "python",
   "nbconvert_exporter": "python",
   "pygments_lexer": "ipython3",
   "version": "3.7.5-final"
  },
  "orig_nbformat": 2,
  "kernelspec": {
   "name": "python3",
   "display_name": "Python 3",
   "language": "python"
  }
 },
 "nbformat": 4,
 "nbformat_minor": 2,
 "cells": [
  {
   "cell_type": "code",
   "execution_count": null,
   "metadata": {},
   "outputs": [],
   "source": [
    "%load_ext autoreload\n",
    "%autoreload 2"
   ]
  },
  {
   "cell_type": "code",
   "execution_count": 2,
   "metadata": {},
   "outputs": [],
   "source": [
    "from utils.classificaton_utils import evaluate_results\n",
    "from pathlib import Path\n",
    "import pandas as pd\n"
   ]
  },
  {
   "cell_type": "code",
   "execution_count": 11,
   "metadata": {},
   "outputs": [],
   "source": [
    "results_1850 = evaluate_results(Path('results_1850'))\n",
    "results_1900 = evaluate_results(Path('results_1900'))\n",
    "results_2000 = evaluate_results(Path('results_2000'))"
   ]
  },
  {
   "cell_type": "code",
   "execution_count": 12,
   "metadata": {},
   "outputs": [],
   "source": [
    "df_1850 = pd.DataFrame.from_dict(results_1850, orient='index', columns=['precision','recall','fscore'])\n",
    "df_1900 = pd.DataFrame.from_dict(results_1900, orient='index', columns=['precision','recall','fscore'])\n",
    "df_2000 = pd.DataFrame.from_dict(results_2000, orient='index', columns=['precision','recall','fscore'])\n"
   ]
  },
  {
   "cell_type": "code",
   "execution_count": 61,
   "metadata": {},
   "outputs": [
    {
     "output_type": "stream",
     "name": "stdout",
     "text": [
      "\\begin{tabular}{lrrr}\n\\toprule\n{} &  fscore &  fscore &  fscore \\\\\n\\midrule\nrandom                                             &   0.153 &   0.134 &   0.148 \\\\\ndef\\_tok\\_overlap\\_ranking                            &   0.227 &   0.224 &   0.236 \\\\\nsent\\_embedding                                     &   0.196 &   0.194 &   0.226 \\\\\nw2v\\_lesk\\_ranking                                   &   0.279 &   0.238 &   0.252 \\\\\nsvm\\_wemb\\_baseline                                  &   0.099 &   0.117 &   0.083 \\\\\nbert\\_binary\\_centroid\\_vector\\_bert\\_base\\_-1,-2,-3,... &   0.362 &   0.323 &   0.344 \\\\\nbert\\_centroid\\_sense\\_vector\\_bert\\_base\\_-1,-2,-3,-... &   0.567 &   0.553 &   0.542 \\\\\nbert\\_contrast\\_vector\\_bert\\_base\\_-1,-2,-3,-4\\_mean    &   0.286 &   0.245 &   0.280 \\\\\nbert\\_ts\\_binary\\_centroid\\_vector\\_bert\\_base\\_-1,-2,... &   0.202 &   0.169 &   0.184 \\\\\nbert\\_ts\\_centroid\\_sense\\_vector\\_bert\\_base\\_-1,-2,-... &   0.466 &   0.428 &   0.419 \\\\\nbert\\_svm\\_vector\\_bert\\_base\\_-1,-2,-3,-4\\_mean         &   0.436 &   0.438 &   0.480 \\\\\nbert\\_perceptron\\_vector\\_bert\\_base\\_-1,-2,-3,-4\\_mean  &   0.407 &   0.403 &   0.404 \\\\\nbert\\_ml\\_perceptron\\_vector\\_bert\\_base\\_-1,-2,-3,-4... &   0.477 &   0.483 &   0.492 \\\\\nbert\\_binary\\_centroid\\_vector\\_blert\\_base\\_-1,-2,-3... &   0.340 &   0.302 &   0.322 \\\\\nbert\\_centroid\\_sense\\_vector\\_blert\\_base\\_-1,-2,-3,... &   0.599 &   0.557 &   0.544 \\\\\nbert\\_contrast\\_vector\\_blert\\_base\\_-1,-2,-3,-4\\_mean   &   0.291 &   0.240 &   0.277 \\\\\nbert\\_ts\\_binary\\_centroid\\_vector\\_blert\\_base\\_-1,-2... &   0.199 &   0.169 &   0.183 \\\\\nbert\\_ts\\_centroid\\_sense\\_vector\\_blert\\_base\\_-1,-2,... &   0.472 &   0.458 &   0.428 \\\\\nbert\\_svm\\_vector\\_blert\\_base\\_-1,-2,-3,-4\\_mean        &   0.439 &   0.428 &   0.453 \\\\\nbert\\_perceptron\\_vector\\_blert\\_base\\_-1,-2,-3,-4\\_mean &   0.425 &   0.399 &   0.428 \\\\\nbert\\_ml\\_perceptron\\_vector\\_blert\\_base\\_-1,-2,-3,-... &   0.476 &   0.456 &   0.484 \\\\\nbert\\_binary\\_centroid\\_vector\\_bert\\_1850\\_-1,-2,-3,... &   0.330 &   0.314 &   0.328 \\\\\nbert\\_centroid\\_sense\\_vector\\_bert\\_1850\\_-1,-2,-3,-... &   0.570 &   0.563 &   0.534 \\\\\nbert\\_contrast\\_vector\\_bert\\_1850\\_-1,-2,-3,-4\\_mean    &   0.294 &   0.245 &   0.278 \\\\\nbert\\_ts\\_binary\\_centroid\\_vector\\_bert\\_1850\\_-1,-2,... &   0.198 &   0.168 &   0.179 \\\\\nbert\\_ts\\_centroid\\_sense\\_vector\\_bert\\_1850\\_-1,-2,-... &   0.445 &   0.444 &   0.420 \\\\\nbert\\_svm\\_vector\\_bert\\_1850\\_-1,-2,-3,-4\\_mean         &   0.444 &   0.451 &   0.467 \\\\\nbert\\_perceptron\\_vector\\_bert\\_1850\\_-1,-2,-3,-4\\_mean  &   0.423 &   0.368 &   0.422 \\\\\nbert\\_ml\\_perceptron\\_vector\\_bert\\_1850\\_-1,-2,-3,-4... &   0.463 &   0.475 &   0.475 \\\\\n\\bottomrule\n\\end{tabular}\n\n"
     ]
    }
   ],
   "source": [
    "df_fscores = pd.concat([df_1850['fscore'],df_1900['fscore'],df_2000['fscore']],axis=1)\n",
    "print(df_fscores.to_latex())"
   ]
  },
  {
   "cell_type": "code",
   "execution_count": 62,
   "metadata": {},
   "outputs": [],
   "source": [
    "rows_1850 = [r for r in df_fscores.index if '1850' in r]\n",
    "rows_1900 = [r for r in df_fscores.index if 'blert' in r]\n",
    "rows_2000 = [r for r in df_fscores.index if 'bert_base' in r]\n"
   ]
  },
  {
   "cell_type": "code",
   "execution_count": 63,
   "metadata": {},
   "outputs": [
    {
     "output_type": "execute_result",
     "data": {
      "text/plain": [
       "['bert_binary_centroid_vector_bert_1850_-1,-2,-3,-4_mean',\n",
       " 'bert_centroid_sense_vector_bert_1850_-1,-2,-3,-4_mean',\n",
       " 'bert_contrast_vector_bert_1850_-1,-2,-3,-4_mean',\n",
       " 'bert_ts_binary_centroid_vector_bert_1850_-1,-2,-3,-4_mean',\n",
       " 'bert_ts_centroid_sense_vector_bert_1850_-1,-2,-3,-4_mean',\n",
       " 'bert_svm_vector_bert_1850_-1,-2,-3,-4_mean',\n",
       " 'bert_perceptron_vector_bert_1850_-1,-2,-3,-4_mean',\n",
       " 'bert_ml_perceptron_vector_bert_1850_-1,-2,-3,-4_mean']"
      ]
     },
     "metadata": {},
     "execution_count": 63
    }
   ],
   "source": [
    "rows_1850"
   ]
  },
  {
   "cell_type": "code",
   "execution_count": 88,
   "metadata": {},
   "outputs": [],
   "source": [
    "diff_1850_2000 = df_1850.loc[df_1850.index.isin(rows_1850)].fscore.values - df_1850.loc[df_1850.index.isin(rows_2000)].fscore.values\n",
    "diff_1900_2000 = df_1900.loc[df_1900.index.isin(rows_1900)].fscore.values - df_1900.loc[df_1900.index.isin(rows_2000)].fscore.values\n",
    "#df_diff = pd.DataFrame.from_dict({\"1850\":diff_1850_2000,\"1900\":diff_1900_2000},orient='index')\n"
   ]
  },
  {
   "cell_type": "code",
   "execution_count": 78,
   "metadata": {},
   "outputs": [
    {
     "output_type": "execute_result",
     "data": {
      "text/plain": [
       "array([-0.014,  0.028,  0.014,  0.014,  0.026, -0.036,  0.019, -0.029])"
      ]
     },
     "metadata": {},
     "execution_count": 78
    }
   ],
   "source": [
    "diff_1850_2000"
   ]
  },
  {
   "cell_type": "code",
   "execution_count": 87,
   "metadata": {},
   "outputs": [
    {
     "output_type": "stream",
     "name": "stdout",
     "text": [
      "\\begin{tabular}{lrrr}\n\\toprule\n{} &      0 &      1 &    sum \\\\\n\\midrule\nbert\\_binary\\_centroid\\_vector\\_bert\\_base\\_-1,-2,-3,... & -0.032 & -0.021 & -0.053 \\\\\nbert\\_centroid\\_sense\\_vector\\_bert\\_base\\_-1,-2,-3,-... &  0.003 &  0.004 &  0.007 \\\\\nbert\\_contrast\\_vector\\_bert\\_base\\_-1,-2,-3,-4\\_mean    &  0.008 & -0.005 &  0.003 \\\\\nbert\\_ts\\_binary\\_centroid\\_vector\\_bert\\_base\\_-1,-2,... & -0.004 &  0.000 & -0.004 \\\\\nbert\\_ts\\_centroid\\_sense\\_vector\\_bert\\_base\\_-1,-2,-... & -0.021 &  0.030 &  0.009 \\\\\nbert\\_svm\\_vector\\_bert\\_base\\_-1,-2,-3,-4\\_mean         &  0.008 & -0.010 & -0.002 \\\\\nbert\\_perceptron\\_vector\\_bert\\_base\\_-1,-2,-3,-4\\_mean  &  0.016 & -0.004 &  0.012 \\\\\nbert\\_ml\\_perceptron\\_vector\\_bert\\_base\\_-1,-2,-3,-4... & -0.014 & -0.027 & -0.041 \\\\\n\\bottomrule\n\\end{tabular}\n\n"
     ]
    }
   ],
   "source": [
    "df_diff = pd.DataFrame([diff_1850_2000,diff_1900_2000],columns=rows_2000).T\n",
    "df_diff['sum'] = df_diff.sum(axis=1)\n",
    "print(df_diff.to_latex())"
   ]
  },
  {
   "cell_type": "code",
   "execution_count": 58,
   "metadata": {},
   "outputs": [
    {
     "output_type": "error",
     "ename": "ValueError",
     "evalue": "Length mismatch: Expected axis has 24 elements, new values have 8 elements",
     "traceback": [
      "\u001b[0;31m---------------------------------------------------------------------------\u001b[0m",
      "\u001b[0;31mValueError\u001b[0m                                Traceback (most recent call last)",
      "\u001b[0;32m<ipython-input-58-365b0e239a36>\u001b[0m in \u001b[0;36m<module>\u001b[0;34m\u001b[0m\n\u001b[0;32m----> 1\u001b[0;31m \u001b[0mdf_diff\u001b[0m\u001b[0;34m.\u001b[0m\u001b[0mindex\u001b[0m \u001b[0;34m=\u001b[0m \u001b[0mrows_2000\u001b[0m\u001b[0;34m\u001b[0m\u001b[0;34m\u001b[0m\u001b[0m\n\u001b[0m\u001b[1;32m      2\u001b[0m \u001b[0mdf_diff\u001b[0m\u001b[0;34m[\u001b[0m\u001b[0;34m'sum'\u001b[0m\u001b[0;34m]\u001b[0m \u001b[0;34m=\u001b[0m \u001b[0mdf_diff\u001b[0m\u001b[0;34m.\u001b[0m\u001b[0msum\u001b[0m\u001b[0;34m(\u001b[0m\u001b[0maxis\u001b[0m\u001b[0;34m=\u001b[0m\u001b[0;36m1\u001b[0m\u001b[0;34m)\u001b[0m\u001b[0;34m\u001b[0m\u001b[0;34m\u001b[0m\u001b[0m\n\u001b[1;32m      3\u001b[0m \u001b[0mprint\u001b[0m\u001b[0;34m(\u001b[0m\u001b[0mdf_diff\u001b[0m\u001b[0;34m.\u001b[0m\u001b[0mto_latex\u001b[0m\u001b[0;34m(\u001b[0m\u001b[0;34m)\u001b[0m\u001b[0;34m)\u001b[0m\u001b[0;34m\u001b[0m\u001b[0;34m\u001b[0m\u001b[0m\n",
      "\u001b[0;32m/data/anaconda/envs/py37torch/lib/python3.7/site-packages/pandas/core/generic.py\u001b[0m in \u001b[0;36m__setattr__\u001b[0;34m(self, name, value)\u001b[0m\n\u001b[1;32m   5285\u001b[0m         \u001b[0;32mtry\u001b[0m\u001b[0;34m:\u001b[0m\u001b[0;34m\u001b[0m\u001b[0;34m\u001b[0m\u001b[0m\n\u001b[1;32m   5286\u001b[0m             \u001b[0mobject\u001b[0m\u001b[0;34m.\u001b[0m\u001b[0m__getattribute__\u001b[0m\u001b[0;34m(\u001b[0m\u001b[0mself\u001b[0m\u001b[0;34m,\u001b[0m \u001b[0mname\u001b[0m\u001b[0;34m)\u001b[0m\u001b[0;34m\u001b[0m\u001b[0;34m\u001b[0m\u001b[0m\n\u001b[0;32m-> 5287\u001b[0;31m             \u001b[0;32mreturn\u001b[0m \u001b[0mobject\u001b[0m\u001b[0;34m.\u001b[0m\u001b[0m__setattr__\u001b[0m\u001b[0;34m(\u001b[0m\u001b[0mself\u001b[0m\u001b[0;34m,\u001b[0m \u001b[0mname\u001b[0m\u001b[0;34m,\u001b[0m \u001b[0mvalue\u001b[0m\u001b[0;34m)\u001b[0m\u001b[0;34m\u001b[0m\u001b[0;34m\u001b[0m\u001b[0m\n\u001b[0m\u001b[1;32m   5288\u001b[0m         \u001b[0;32mexcept\u001b[0m \u001b[0mAttributeError\u001b[0m\u001b[0;34m:\u001b[0m\u001b[0;34m\u001b[0m\u001b[0;34m\u001b[0m\u001b[0m\n\u001b[1;32m   5289\u001b[0m             \u001b[0;32mpass\u001b[0m\u001b[0;34m\u001b[0m\u001b[0;34m\u001b[0m\u001b[0m\n",
      "\u001b[0;32mpandas/_libs/properties.pyx\u001b[0m in \u001b[0;36mpandas._libs.properties.AxisProperty.__set__\u001b[0;34m()\u001b[0m\n",
      "\u001b[0;32m/data/anaconda/envs/py37torch/lib/python3.7/site-packages/pandas/core/generic.py\u001b[0m in \u001b[0;36m_set_axis\u001b[0;34m(self, axis, labels)\u001b[0m\n\u001b[1;32m    659\u001b[0m \u001b[0;34m\u001b[0m\u001b[0m\n\u001b[1;32m    660\u001b[0m     \u001b[0;32mdef\u001b[0m \u001b[0m_set_axis\u001b[0m\u001b[0;34m(\u001b[0m\u001b[0mself\u001b[0m\u001b[0;34m,\u001b[0m \u001b[0maxis\u001b[0m\u001b[0;34m,\u001b[0m \u001b[0mlabels\u001b[0m\u001b[0;34m)\u001b[0m \u001b[0;34m->\u001b[0m \u001b[0;32mNone\u001b[0m\u001b[0;34m:\u001b[0m\u001b[0;34m\u001b[0m\u001b[0;34m\u001b[0m\u001b[0m\n\u001b[0;32m--> 661\u001b[0;31m         \u001b[0mself\u001b[0m\u001b[0;34m.\u001b[0m\u001b[0m_data\u001b[0m\u001b[0;34m.\u001b[0m\u001b[0mset_axis\u001b[0m\u001b[0;34m(\u001b[0m\u001b[0maxis\u001b[0m\u001b[0;34m,\u001b[0m \u001b[0mlabels\u001b[0m\u001b[0;34m)\u001b[0m\u001b[0;34m\u001b[0m\u001b[0;34m\u001b[0m\u001b[0m\n\u001b[0m\u001b[1;32m    662\u001b[0m         \u001b[0mself\u001b[0m\u001b[0;34m.\u001b[0m\u001b[0m_clear_item_cache\u001b[0m\u001b[0;34m(\u001b[0m\u001b[0;34m)\u001b[0m\u001b[0;34m\u001b[0m\u001b[0;34m\u001b[0m\u001b[0m\n\u001b[1;32m    663\u001b[0m \u001b[0;34m\u001b[0m\u001b[0m\n",
      "\u001b[0;32m/data/anaconda/envs/py37torch/lib/python3.7/site-packages/pandas/core/internals/managers.py\u001b[0m in \u001b[0;36mset_axis\u001b[0;34m(self, axis, new_labels)\u001b[0m\n\u001b[1;32m    176\u001b[0m         \u001b[0;32mif\u001b[0m \u001b[0mnew_len\u001b[0m \u001b[0;34m!=\u001b[0m \u001b[0mold_len\u001b[0m\u001b[0;34m:\u001b[0m\u001b[0;34m\u001b[0m\u001b[0;34m\u001b[0m\u001b[0m\n\u001b[1;32m    177\u001b[0m             raise ValueError(\n\u001b[0;32m--> 178\u001b[0;31m                 \u001b[0;34mf\"Length mismatch: Expected axis has {old_len} elements, new \"\u001b[0m\u001b[0;34m\u001b[0m\u001b[0;34m\u001b[0m\u001b[0m\n\u001b[0m\u001b[1;32m    179\u001b[0m                 \u001b[0;34mf\"values have {new_len} elements\"\u001b[0m\u001b[0;34m\u001b[0m\u001b[0;34m\u001b[0m\u001b[0m\n\u001b[1;32m    180\u001b[0m             )\n",
      "\u001b[0;31mValueError\u001b[0m: Length mismatch: Expected axis has 24 elements, new values have 8 elements"
     ]
    }
   ],
   "source": [
    "    "
   ]
  },
  {
   "cell_type": "code",
   "execution_count": null,
   "metadata": {},
   "outputs": [],
   "source": [
    "df2.iloc[df2['fscore'].argmax()]"
   ]
  },
  {
   "cell_type": "code",
   "execution_count": null,
   "metadata": {},
   "outputs": [],
   "source": [
    "results_1850 = df2.loc[[i for i in df2.index if \"bert_1850\" in i],:]\n",
    "results_1900 = df2.loc[[i for i in df2.index if \"blert_base\" in i],:]\n",
    "results_cont= df2.loc[[i for i in df2.index if \"bert_base\" in i],:]"
   ]
  },
  {
   "cell_type": "code",
   "execution_count": 51,
   "metadata": {},
   "outputs": [
    {
     "output_type": "execute_result",
     "data": {
      "text/plain": [
       "0.04500000000000004"
      ]
     },
     "metadata": {},
     "execution_count": 51
    }
   ],
   "source": [
    "sum(results_1900['fscore'].values - results_cont['fscore'].values)\n"
   ]
  },
  {
   "cell_type": "code",
   "execution_count": 52,
   "metadata": {},
   "outputs": [
    {
     "output_type": "execute_result",
     "data": {
      "text/plain": [
       "-0.03799999999999992"
      ]
     },
     "metadata": {},
     "execution_count": 52
    }
   ],
   "source": [
    "sum(results_1850['fscore'].values - results_cont['fscore'].values)"
   ]
  },
  {
   "cell_type": "code",
   "execution_count": 53,
   "metadata": {},
   "outputs": [
    {
     "output_type": "execute_result",
     "data": {
      "text/plain": [
       "                         precision  recall  fscore\n",
       "random                       0.071   0.494   0.125\n",
       "def_tok_overlap_ranking      0.199   0.235   0.216\n",
       "sent_embedding               0.232   0.202   0.216\n",
       "w2v_lesk_ranking             0.245   0.248   0.246\n",
       "svm_wemb_baseline            0.396   0.059   0.103"
      ],
      "text/html": "<div>\n<style scoped>\n    .dataframe tbody tr th:only-of-type {\n        vertical-align: middle;\n    }\n\n    .dataframe tbody tr th {\n        vertical-align: top;\n    }\n\n    .dataframe thead th {\n        text-align: right;\n    }\n</style>\n<table border=\"1\" class=\"dataframe\">\n  <thead>\n    <tr style=\"text-align: right;\">\n      <th></th>\n      <th>precision</th>\n      <th>recall</th>\n      <th>fscore</th>\n    </tr>\n  </thead>\n  <tbody>\n    <tr>\n      <th>random</th>\n      <td>0.071</td>\n      <td>0.494</td>\n      <td>0.125</td>\n    </tr>\n    <tr>\n      <th>def_tok_overlap_ranking</th>\n      <td>0.199</td>\n      <td>0.235</td>\n      <td>0.216</td>\n    </tr>\n    <tr>\n      <th>sent_embedding</th>\n      <td>0.232</td>\n      <td>0.202</td>\n      <td>0.216</td>\n    </tr>\n    <tr>\n      <th>w2v_lesk_ranking</th>\n      <td>0.245</td>\n      <td>0.248</td>\n      <td>0.246</td>\n    </tr>\n    <tr>\n      <th>svm_wemb_baseline</th>\n      <td>0.396</td>\n      <td>0.059</td>\n      <td>0.103</td>\n    </tr>\n  </tbody>\n</table>\n</div>"
     },
     "metadata": {},
     "execution_count": 53
    }
   ],
   "source": [
    "df3.head()"
   ]
  },
  {
   "cell_type": "code",
   "execution_count": 21,
   "metadata": {},
   "outputs": [
    {
     "output_type": "execute_result",
     "data": {
      "text/plain": [
       "Index(['random', 'def_tok_overlap_ranking', 'sent_embedding',\n",
       "       'w2v_lesk_ranking', 'svm_wemb_baseline',\n",
       "       'bert_binary_centroid_vector_bert_base_-1,-2,-3,-4_mean',\n",
       "       'bert_centroid_sense_vector_bert_base_-1,-2,-3,-4_mean',\n",
       "       'bert_contrast_vector_bert_base_-1,-2,-3,-4_mean',\n",
       "       'bert_ts_binary_centroid_vector_bert_base_-1,-2,-3,-4_mean',\n",
       "       'bert_ts_centroid_sense_vector_bert_base_-1,-2,-3,-4_mean',\n",
       "       'bert_svm_vector_bert_base_-1,-2,-3,-4_mean',\n",
       "       'bert_perceptron_vector_bert_base_-1,-2,-3,-4_mean',\n",
       "       'bert_ml_perceptron_vector_bert_base_-1,-2,-3,-4_mean',\n",
       "       'bert_binary_centroid_vector_blert_base_-1,-2,-3,-4_mean',\n",
       "       'bert_centroid_sense_vector_blert_base_-1,-2,-3,-4_mean',\n",
       "       'bert_contrast_vector_blert_base_-1,-2,-3,-4_mean',\n",
       "       'bert_ts_binary_centroid_vector_blert_base_-1,-2,-3,-4_mean',\n",
       "       'bert_ts_centroid_sense_vector_blert_base_-1,-2,-3,-4_mean',\n",
       "       'bert_svm_vector_blert_base_-1,-2,-3,-4_mean',\n",
       "       'bert_perceptron_vector_blert_base_-1,-2,-3,-4_mean',\n",
       "       'bert_ml_perceptron_vector_blert_base_-1,-2,-3,-4_mean',\n",
       "       'bert_binary_centroid_vector_bert_1850_-1,-2,-3,-4_mean',\n",
       "       'bert_centroid_sense_vector_bert_1850_-1,-2,-3,-4_mean',\n",
       "       'bert_contrast_vector_bert_1850_-1,-2,-3,-4_mean',\n",
       "       'bert_ts_binary_centroid_vector_bert_1850_-1,-2,-3,-4_mean',\n",
       "       'bert_ts_centroid_sense_vector_bert_1850_-1,-2,-3,-4_mean',\n",
       "       'bert_svm_vector_bert_1850_-1,-2,-3,-4_mean',\n",
       "       'bert_perceptron_vector_bert_1850_-1,-2,-3,-4_mean',\n",
       "       'bert_ml_perceptron_vector_bert_1850_-1,-2,-3,-4_mean'],\n",
       "      dtype='object')"
      ]
     },
     "metadata": {},
     "execution_count": 21
    }
   ],
   "source": [
    "df3.index"
   ]
  },
  {
   "cell_type": "code",
   "execution_count": 54,
   "metadata": {},
   "outputs": [
    {
     "output_type": "execute_result",
     "data": {
      "text/plain": [
       "precision    0.592\n",
       "recall       0.470\n",
       "fscore       0.524\n",
       "Name: bert_centroid_sense_vector_bert_base_-1,-2,-3,-4_mean, dtype: float64"
      ]
     },
     "metadata": {},
     "execution_count": 54
    }
   ],
   "source": [
    "df3.iloc[df3['fscore'].argmax()]"
   ]
  },
  {
   "cell_type": "code",
   "execution_count": null,
   "metadata": {},
   "outputs": [],
   "source": []
  },
  {
   "cell_type": "code",
   "execution_count": 40,
   "metadata": {},
   "outputs": [
    {
     "output_type": "execute_result",
     "data": {
      "text/plain": [
       "precision    0.245\n",
       "recall       0.248\n",
       "fscore       0.246\n",
       "Name: w2v_lesk_ranking, dtype: float64"
      ]
     },
     "metadata": {},
     "execution_count": 40
    }
   ],
   "source": [
    "df3.loc[\"w2v_lesk_ranking\"]"
   ]
  },
  {
   "cell_type": "code",
   "execution_count": null,
   "metadata": {},
   "outputs": [],
   "source": []
  }
 ]
}