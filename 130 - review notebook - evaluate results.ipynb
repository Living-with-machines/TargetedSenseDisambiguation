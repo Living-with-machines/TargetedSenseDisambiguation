{
 "metadata": {
  "language_info": {
   "codemirror_mode": {
    "name": "ipython",
    "version": 3
   },
   "file_extension": ".py",
   "mimetype": "text/x-python",
   "name": "python",
   "nbconvert_exporter": "python",
   "pygments_lexer": "ipython3",
   "version": "3.7.5-final"
  },
  "orig_nbformat": 2,
  "kernelspec": {
   "name": "python3",
   "display_name": "Python 3",
   "language": "python"
  }
 },
 "nbformat": 4,
 "nbformat_minor": 2,
 "cells": [
  {
   "cell_type": "code",
   "execution_count": 44,
   "metadata": {},
   "outputs": [
    {
     "output_type": "stream",
     "name": "stdout",
     "text": [
      "The autoreload extension is already loaded. To reload it, use:\n  %reload_ext autoreload\n"
     ]
    }
   ],
   "source": [
    "%load_ext autoreload\n",
    "%autoreload 2"
   ]
  },
  {
   "cell_type": "code",
   "execution_count": 5,
   "metadata": {},
   "outputs": [],
   "source": [
    "from utils.classificaton_utils import evaluate_results\n",
    "from pathlib import Path\n",
    "import pandas as pd\n"
   ]
  },
  {
   "cell_type": "code",
   "execution_count": 45,
   "metadata": {},
   "outputs": [],
   "source": [
    "results_2 = evaluate_results(Path('results_2'))\n",
    "results_3 = evaluate_results(Path('results_3'))"
   ]
  },
  {
   "cell_type": "code",
   "execution_count": 46,
   "metadata": {},
   "outputs": [],
   "source": [
    "df2 = pd.DataFrame.from_dict(results_2, orient='index', columns=['precision','recall','fscore'])\n",
    "df3 = pd.DataFrame.from_dict(results_3, orient='index', columns=['precision','recall','fscore'])\n"
   ]
  },
  {
   "cell_type": "code",
   "execution_count": 47,
   "metadata": {},
   "outputs": [
    {
     "output_type": "execute_result",
     "data": {
      "text/plain": [
       "                         precision  recall  fscore\n",
       "random                       0.101   0.518   0.169\n",
       "def_tok_overlap_ranking      0.214   0.243   0.227\n",
       "sent_embedding               0.235   0.168   0.196\n",
       "w2v_lesk_ranking             0.296   0.264   0.279\n",
       "svm_wemb_baseline            0.403   0.057   0.099"
      ],
      "text/html": "<div>\n<style scoped>\n    .dataframe tbody tr th:only-of-type {\n        vertical-align: middle;\n    }\n\n    .dataframe tbody tr th {\n        vertical-align: top;\n    }\n\n    .dataframe thead th {\n        text-align: right;\n    }\n</style>\n<table border=\"1\" class=\"dataframe\">\n  <thead>\n    <tr style=\"text-align: right;\">\n      <th></th>\n      <th>precision</th>\n      <th>recall</th>\n      <th>fscore</th>\n    </tr>\n  </thead>\n  <tbody>\n    <tr>\n      <th>random</th>\n      <td>0.101</td>\n      <td>0.518</td>\n      <td>0.169</td>\n    </tr>\n    <tr>\n      <th>def_tok_overlap_ranking</th>\n      <td>0.214</td>\n      <td>0.243</td>\n      <td>0.227</td>\n    </tr>\n    <tr>\n      <th>sent_embedding</th>\n      <td>0.235</td>\n      <td>0.168</td>\n      <td>0.196</td>\n    </tr>\n    <tr>\n      <th>w2v_lesk_ranking</th>\n      <td>0.296</td>\n      <td>0.264</td>\n      <td>0.279</td>\n    </tr>\n    <tr>\n      <th>svm_wemb_baseline</th>\n      <td>0.403</td>\n      <td>0.057</td>\n      <td>0.099</td>\n    </tr>\n  </tbody>\n</table>\n</div>"
     },
     "metadata": {},
     "execution_count": 47
    }
   ],
   "source": [
    "df2.head()"
   ]
  },
  {
   "cell_type": "code",
   "execution_count": 48,
   "metadata": {},
   "outputs": [
    {
     "output_type": "execute_result",
     "data": {
      "text/plain": [
       "precision    0.779\n",
       "recall       0.486\n",
       "fscore       0.599\n",
       "Name: bert_centroid_sense_vector_blert_base_-1,-2,-3,-4_mean, dtype: float64"
      ]
     },
     "metadata": {},
     "execution_count": 48
    }
   ],
   "source": [
    "df2.iloc[df2['fscore'].argmax()]"
   ]
  },
  {
   "cell_type": "code",
   "execution_count": 49,
   "metadata": {},
   "outputs": [
    {
     "output_type": "execute_result",
     "data": {
      "text/plain": [
       "precision    0.779\n",
       "recall       0.486\n",
       "fscore       0.599\n",
       "Name: bert_centroid_sense_vector_blert_base_-1,-2,-3,-4_mean, dtype: float64"
      ]
     },
     "metadata": {},
     "execution_count": 49
    }
   ],
   "source": [
    "df2.iloc[df2['fscore'].argmax()]"
   ]
  },
  {
   "cell_type": "code",
   "execution_count": 50,
   "metadata": {},
   "outputs": [],
   "source": [
    "results_1850 = df2.loc[[i for i in df2.index if \"bert_1850\" in i],:]\n",
    "results_1900 = df2.loc[[i for i in df2.index if \"blert_base\" in i],:]\n",
    "results_cont= df2.loc[[i for i in df2.index if \"bert_base\" in i],:]"
   ]
  },
  {
   "cell_type": "code",
   "execution_count": 51,
   "metadata": {},
   "outputs": [
    {
     "output_type": "execute_result",
     "data": {
      "text/plain": [
       "0.04500000000000004"
      ]
     },
     "metadata": {},
     "execution_count": 51
    }
   ],
   "source": [
    "sum(results_1900['fscore'].values - results_cont['fscore'].values)\n"
   ]
  },
  {
   "cell_type": "code",
   "execution_count": 52,
   "metadata": {},
   "outputs": [
    {
     "output_type": "execute_result",
     "data": {
      "text/plain": [
       "-0.03799999999999992"
      ]
     },
     "metadata": {},
     "execution_count": 52
    }
   ],
   "source": [
    "sum(results_1850['fscore'].values - results_cont['fscore'].values)"
   ]
  },
  {
   "cell_type": "code",
   "execution_count": 53,
   "metadata": {},
   "outputs": [
    {
     "output_type": "execute_result",
     "data": {
      "text/plain": [
       "                         precision  recall  fscore\n",
       "random                       0.071   0.494   0.125\n",
       "def_tok_overlap_ranking      0.199   0.235   0.216\n",
       "sent_embedding               0.232   0.202   0.216\n",
       "w2v_lesk_ranking             0.245   0.248   0.246\n",
       "svm_wemb_baseline            0.396   0.059   0.103"
      ],
      "text/html": "<div>\n<style scoped>\n    .dataframe tbody tr th:only-of-type {\n        vertical-align: middle;\n    }\n\n    .dataframe tbody tr th {\n        vertical-align: top;\n    }\n\n    .dataframe thead th {\n        text-align: right;\n    }\n</style>\n<table border=\"1\" class=\"dataframe\">\n  <thead>\n    <tr style=\"text-align: right;\">\n      <th></th>\n      <th>precision</th>\n      <th>recall</th>\n      <th>fscore</th>\n    </tr>\n  </thead>\n  <tbody>\n    <tr>\n      <th>random</th>\n      <td>0.071</td>\n      <td>0.494</td>\n      <td>0.125</td>\n    </tr>\n    <tr>\n      <th>def_tok_overlap_ranking</th>\n      <td>0.199</td>\n      <td>0.235</td>\n      <td>0.216</td>\n    </tr>\n    <tr>\n      <th>sent_embedding</th>\n      <td>0.232</td>\n      <td>0.202</td>\n      <td>0.216</td>\n    </tr>\n    <tr>\n      <th>w2v_lesk_ranking</th>\n      <td>0.245</td>\n      <td>0.248</td>\n      <td>0.246</td>\n    </tr>\n    <tr>\n      <th>svm_wemb_baseline</th>\n      <td>0.396</td>\n      <td>0.059</td>\n      <td>0.103</td>\n    </tr>\n  </tbody>\n</table>\n</div>"
     },
     "metadata": {},
     "execution_count": 53
    }
   ],
   "source": [
    "df3.head()"
   ]
  },
  {
   "cell_type": "code",
   "execution_count": 21,
   "metadata": {},
   "outputs": [
    {
     "output_type": "execute_result",
     "data": {
      "text/plain": [
       "Index(['random', 'def_tok_overlap_ranking', 'sent_embedding',\n",
       "       'w2v_lesk_ranking', 'svm_wemb_baseline',\n",
       "       'bert_binary_centroid_vector_bert_base_-1,-2,-3,-4_mean',\n",
       "       'bert_centroid_sense_vector_bert_base_-1,-2,-3,-4_mean',\n",
       "       'bert_contrast_vector_bert_base_-1,-2,-3,-4_mean',\n",
       "       'bert_ts_binary_centroid_vector_bert_base_-1,-2,-3,-4_mean',\n",
       "       'bert_ts_centroid_sense_vector_bert_base_-1,-2,-3,-4_mean',\n",
       "       'bert_svm_vector_bert_base_-1,-2,-3,-4_mean',\n",
       "       'bert_perceptron_vector_bert_base_-1,-2,-3,-4_mean',\n",
       "       'bert_ml_perceptron_vector_bert_base_-1,-2,-3,-4_mean',\n",
       "       'bert_binary_centroid_vector_blert_base_-1,-2,-3,-4_mean',\n",
       "       'bert_centroid_sense_vector_blert_base_-1,-2,-3,-4_mean',\n",
       "       'bert_contrast_vector_blert_base_-1,-2,-3,-4_mean',\n",
       "       'bert_ts_binary_centroid_vector_blert_base_-1,-2,-3,-4_mean',\n",
       "       'bert_ts_centroid_sense_vector_blert_base_-1,-2,-3,-4_mean',\n",
       "       'bert_svm_vector_blert_base_-1,-2,-3,-4_mean',\n",
       "       'bert_perceptron_vector_blert_base_-1,-2,-3,-4_mean',\n",
       "       'bert_ml_perceptron_vector_blert_base_-1,-2,-3,-4_mean',\n",
       "       'bert_binary_centroid_vector_bert_1850_-1,-2,-3,-4_mean',\n",
       "       'bert_centroid_sense_vector_bert_1850_-1,-2,-3,-4_mean',\n",
       "       'bert_contrast_vector_bert_1850_-1,-2,-3,-4_mean',\n",
       "       'bert_ts_binary_centroid_vector_bert_1850_-1,-2,-3,-4_mean',\n",
       "       'bert_ts_centroid_sense_vector_bert_1850_-1,-2,-3,-4_mean',\n",
       "       'bert_svm_vector_bert_1850_-1,-2,-3,-4_mean',\n",
       "       'bert_perceptron_vector_bert_1850_-1,-2,-3,-4_mean',\n",
       "       'bert_ml_perceptron_vector_bert_1850_-1,-2,-3,-4_mean'],\n",
       "      dtype='object')"
      ]
     },
     "metadata": {},
     "execution_count": 21
    }
   ],
   "source": [
    "df3.index"
   ]
  },
  {
   "cell_type": "code",
   "execution_count": 54,
   "metadata": {},
   "outputs": [
    {
     "output_type": "execute_result",
     "data": {
      "text/plain": [
       "precision    0.592\n",
       "recall       0.470\n",
       "fscore       0.524\n",
       "Name: bert_centroid_sense_vector_bert_base_-1,-2,-3,-4_mean, dtype: float64"
      ]
     },
     "metadata": {},
     "execution_count": 54
    }
   ],
   "source": [
    "df3.iloc[df3['fscore'].argmax()]"
   ]
  },
  {
   "cell_type": "code",
   "execution_count": null,
   "metadata": {},
   "outputs": [],
   "source": []
  },
  {
   "cell_type": "code",
   "execution_count": 40,
   "metadata": {},
   "outputs": [
    {
     "output_type": "execute_result",
     "data": {
      "text/plain": [
       "precision    0.245\n",
       "recall       0.248\n",
       "fscore       0.246\n",
       "Name: w2v_lesk_ranking, dtype: float64"
      ]
     },
     "metadata": {},
     "execution_count": 40
    }
   ],
   "source": [
    "df3.loc[\"w2v_lesk_ranking\"]"
   ]
  },
  {
   "cell_type": "code",
   "execution_count": null,
   "metadata": {},
   "outputs": [],
   "source": []
  }
 ]
}