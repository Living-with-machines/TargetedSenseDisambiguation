{
 "cells": [
  {
   "cell_type": "code",
   "execution_count": 3,
   "metadata": {},
   "outputs": [],
   "source": [
    "%load_ext autoreload"
   ]
  },
  {
   "cell_type": "code",
   "execution_count": 4,
   "metadata": {},
   "outputs": [],
   "source": [
    "%autoreload 2"
   ]
  },
  {
   "cell_type": "code",
   "execution_count": 5,
   "metadata": {},
   "outputs": [],
   "source": [
    "from utils.dataset_download import *\n",
    "import pickle\n",
    "import json\n",
    "from pathlib import Path, PosixPath\n",
    "import pandas as pd"
   ]
  },
  {
   "cell_type": "code",
   "execution_count": 6,
   "metadata": {},
   "outputs": [],
   "source": [
    "# import API credentials\n",
    "with open('oed_experiments/oed_credentials.json') as f:\n",
    "    credentials = json.load(f)"
   ]
  },
  {
   "cell_type": "code",
   "execution_count": 7,
   "metadata": {},
   "outputs": [],
   "source": [
    "# define lemma\n",
    "lemma_id = \"machine_nn01\""
   ]
  },
  {
   "cell_type": "code",
   "execution_count": 8,
   "metadata": {},
   "outputs": [],
   "source": [
    "save_path = Path(\"./data\")\n",
    "save_path.mkdir(exist_ok=True)"
   ]
  },
  {
   "cell_type": "code",
   "execution_count": 9,
   "metadata": {},
   "outputs": [],
   "source": [
    "#query the API and get the json response\n",
    "sense_json = query_oed(credentials,'word',lemma_id,flags='include_senses=true&include_quotations=true')\n",
    "\n",
    "# convert the json in a dataframe\n",
    "senses_df = convert_json_to_dataframe(sense_json)"
   ]
  },
  {
   "cell_type": "code",
   "execution_count": 10,
   "metadata": {},
   "outputs": [],
   "source": [
    "# save the dataframe\n",
    "# as pickle\n",
    "senses_df.to_pickle(save_path / f\"senses_{lemma_id}.pickle\")\n",
    "# as csv\n",
    "senses_df.to_csv(save_path / f\"senses_{lemma_id}.tsv\",sep='\\t')"
   ]
  },
  {
   "cell_type": "code",
   "execution_count": 11,
   "metadata": {},
   "outputs": [],
   "source": [
    "# open pickle file to avoid calling the API again\n",
    "with open(save_path / f\"senses_{lemma_id}.pickle\",'rb') as in_pickle:\n",
    "    machine_senses_df = pickle.load(in_pickle)"
   ]
  },
  {
   "cell_type": "code",
   "execution_count": 12,
   "metadata": {},
   "outputs": [],
   "source": [
    "# get all senses that are siblings and descendants\n",
    "# of the semantic class of senses listed in previously obtained query \n",
    "responses = traverse_thesaurus(credentials,machine_senses_df)"
   ]
  },
  {
   "cell_type": "code",
   "execution_count": 13,
   "metadata": {},
   "outputs": [],
   "source": [
    "# traverse tree or load responses \n",
    "# responses = traverse_thesaurus(credentials,machine_senses_df)\n",
    "with open('./data/tree_traversal.pickle','rb') as in_pickle:\n",
    "    tt = pickle.load(in_pickle)"
   ]
  },
  {
   "cell_type": "code",
   "execution_count": 14,
   "metadata": {},
   "outputs": [
    {
     "data": {
      "application/vnd.jupyter.widget-view+json": {
       "model_id": "6fd841f4d7bf4f429008341694a1a63f",
       "version_major": 2,
       "version_minor": 0
      },
      "text/plain": [
       "HBox(children=(FloatProgress(value=0.0, max=1289.0), HTML(value='')))"
      ]
     },
     "metadata": {},
     "output_type": "display_data"
    },
    {
     "name": "stdout",
     "output_type": "stream",
     "text": [
      "\n"
     ]
    }
   ],
   "source": [
    "quotations = get_quotations_from_thesaurus(credentials,tt)"
   ]
  },
  {
   "cell_type": "code",
   "execution_count": 15,
   "metadata": {},
   "outputs": [],
   "source": [
    "df = merge_pickled(Path(\"./data/senses_machine_nn01.pickle\"),\n",
    "                   Path(\"./data/tree_traversal.pickle\"),\n",
    "                   Path(\"./data/tree_traversal_quotations.pickle\"))"
   ]
  },
  {
   "cell_type": "code",
   "execution_count": 17,
   "metadata": {},
   "outputs": [],
   "source": [
    "df.to_pickle(f\"./data/{lemma_id}_all.pickle\")"
   ]
  },
  {
   "cell_type": "code",
   "execution_count": 18,
   "metadata": {},
   "outputs": [
    {
     "data": {
      "text/plain": [
       "(7595, 16)"
      ]
     },
     "execution_count": 18,
     "metadata": {},
     "output_type": "execute_result"
    }
   ],
   "source": [
    "df.shape"
   ]
  },
  {
   "cell_type": "code",
   "execution_count": 19,
   "metadata": {},
   "outputs": [
    {
     "data": {
      "text/html": [
       "<div>\n",
       "<style scoped>\n",
       "    .dataframe tbody tr th:only-of-type {\n",
       "        vertical-align: middle;\n",
       "    }\n",
       "\n",
       "    .dataframe tbody tr th {\n",
       "        vertical-align: top;\n",
       "    }\n",
       "\n",
       "    .dataframe thead th {\n",
       "        text-align: right;\n",
       "    }\n",
       "</style>\n",
       "<table border=\"1\" class=\"dataframe\">\n",
       "  <thead>\n",
       "    <tr style=\"text-align: right;\">\n",
       "      <th></th>\n",
       "      <th>oed_reference</th>\n",
       "      <th>lemma</th>\n",
       "      <th>oed_url</th>\n",
       "      <th>word_id</th>\n",
       "      <th>id_quotation</th>\n",
       "      <th>source</th>\n",
       "      <th>part_of_speech</th>\n",
       "      <th>sense_id</th>\n",
       "      <th>definition</th>\n",
       "      <th>notes</th>\n",
       "      <th>first_use</th>\n",
       "      <th>root</th>\n",
       "      <th>main_current_sense</th>\n",
       "      <th>semantic_class_ids</th>\n",
       "      <th>transitivity</th>\n",
       "      <th>text</th>\n",
       "    </tr>\n",
       "  </thead>\n",
       "  <tbody>\n",
       "    <tr>\n",
       "      <td>0</td>\n",
       "      <td>machine, n., sense I.1a</td>\n",
       "      <td>machine</td>\n",
       "      <td>https://www.oed.com/view/Entry/111850#eid38473945</td>\n",
       "      <td>machine_nn01</td>\n",
       "      <td>machine_nn01-38473945</td>\n",
       "      <td>{'title': 'Early Mod. Eng. Lexicogr.', 'author...</td>\n",
       "      <td>NN</td>\n",
       "      <td>machine_nn01-38473945</td>\n",
       "      <td>A material or immaterial structure, esp. the f...</td>\n",
       "      <td>[]</td>\n",
       "      <td>J. Schäfer</td>\n",
       "      <td>True</td>\n",
       "      <td>False</td>\n",
       "      <td>[[1, 111290, 118635, 119024, 120162, 120172], ...</td>\n",
       "      <td>None</td>\n",
       "      <td>{'keyword': 'machyne', 'full_text': 'The hole ...</td>\n",
       "    </tr>\n",
       "    <tr>\n",
       "      <td>1</td>\n",
       "      <td>machine, n., sense I.1a</td>\n",
       "      <td>machine</td>\n",
       "      <td>https://www.oed.com/view/Entry/111850#eid38473945</td>\n",
       "      <td>machine_nn01</td>\n",
       "      <td>machine_nn01-38473945</td>\n",
       "      <td>{'title': 'Early Mod. Eng. Lexicogr.', 'author...</td>\n",
       "      <td>NN</td>\n",
       "      <td>machine_nn01-38473945</td>\n",
       "      <td>A material or immaterial structure, esp. the f...</td>\n",
       "      <td>[]</td>\n",
       "      <td>J. Schäfer</td>\n",
       "      <td>True</td>\n",
       "      <td>False</td>\n",
       "      <td>[[1, 111290, 118635, 119024, 120162, 120172], ...</td>\n",
       "      <td>None</td>\n",
       "      <td>{'keyword': 'Machine', 'full_text': 'Machine, ...</td>\n",
       "    </tr>\n",
       "    <tr>\n",
       "      <td>2</td>\n",
       "      <td>machine, n., sense I.1a</td>\n",
       "      <td>machine</td>\n",
       "      <td>https://www.oed.com/view/Entry/111850#eid38473945</td>\n",
       "      <td>machine_nn01</td>\n",
       "      <td>machine_nn01-38473945</td>\n",
       "      <td>{'title': 'Complaynt Scotl.', 'author': None, ...</td>\n",
       "      <td>NN</td>\n",
       "      <td>machine_nn01-38473945</td>\n",
       "      <td>A material or immaterial structure, esp. the f...</td>\n",
       "      <td>[]</td>\n",
       "      <td>J. Schäfer</td>\n",
       "      <td>True</td>\n",
       "      <td>False</td>\n",
       "      <td>[[1, 111290, 118635, 119024, 120162, 120172], ...</td>\n",
       "      <td>None</td>\n",
       "      <td>{'keyword': 'machine', 'full_text': 'The maist...</td>\n",
       "    </tr>\n",
       "    <tr>\n",
       "      <td>3</td>\n",
       "      <td>machine, n., sense I.1a</td>\n",
       "      <td>machine</td>\n",
       "      <td>https://www.oed.com/view/Entry/111850#eid38473945</td>\n",
       "      <td>machine_nn01</td>\n",
       "      <td>machine_nn01-38473945</td>\n",
       "      <td>{'title': 'Hymnes', 'author': 'A. Hume', 'gend...</td>\n",
       "      <td>NN</td>\n",
       "      <td>machine_nn01-38473945</td>\n",
       "      <td>A material or immaterial structure, esp. the f...</td>\n",
       "      <td>[]</td>\n",
       "      <td>J. Schäfer</td>\n",
       "      <td>True</td>\n",
       "      <td>False</td>\n",
       "      <td>[[1, 111290, 118635, 119024, 120162, 120172], ...</td>\n",
       "      <td>None</td>\n",
       "      <td>{'keyword': 'machin', 'full_text': 'Be his wis...</td>\n",
       "    </tr>\n",
       "    <tr>\n",
       "      <td>4</td>\n",
       "      <td>machine, n., sense I.1a</td>\n",
       "      <td>machine</td>\n",
       "      <td>https://www.oed.com/view/Entry/111850#eid38473945</td>\n",
       "      <td>machine_nn01</td>\n",
       "      <td>machine_nn01-38473945</td>\n",
       "      <td>{'title': 'Hist. Quinq-articularis', 'author':...</td>\n",
       "      <td>NN</td>\n",
       "      <td>machine_nn01-38473945</td>\n",
       "      <td>A material or immaterial structure, esp. the f...</td>\n",
       "      <td>[]</td>\n",
       "      <td>J. Schäfer</td>\n",
       "      <td>True</td>\n",
       "      <td>False</td>\n",
       "      <td>[[1, 111290, 118635, 119024, 120162, 120172], ...</td>\n",
       "      <td>None</td>\n",
       "      <td>{'keyword': 'Machine', 'full_text': 'They that...</td>\n",
       "    </tr>\n",
       "  </tbody>\n",
       "</table>\n",
       "</div>"
      ],
      "text/plain": [
       "             oed_reference    lemma  \\\n",
       "0  machine, n., sense I.1a  machine   \n",
       "1  machine, n., sense I.1a  machine   \n",
       "2  machine, n., sense I.1a  machine   \n",
       "3  machine, n., sense I.1a  machine   \n",
       "4  machine, n., sense I.1a  machine   \n",
       "\n",
       "                                             oed_url       word_id  \\\n",
       "0  https://www.oed.com/view/Entry/111850#eid38473945  machine_nn01   \n",
       "1  https://www.oed.com/view/Entry/111850#eid38473945  machine_nn01   \n",
       "2  https://www.oed.com/view/Entry/111850#eid38473945  machine_nn01   \n",
       "3  https://www.oed.com/view/Entry/111850#eid38473945  machine_nn01   \n",
       "4  https://www.oed.com/view/Entry/111850#eid38473945  machine_nn01   \n",
       "\n",
       "            id_quotation                                             source  \\\n",
       "0  machine_nn01-38473945  {'title': 'Early Mod. Eng. Lexicogr.', 'author...   \n",
       "1  machine_nn01-38473945  {'title': 'Early Mod. Eng. Lexicogr.', 'author...   \n",
       "2  machine_nn01-38473945  {'title': 'Complaynt Scotl.', 'author': None, ...   \n",
       "3  machine_nn01-38473945  {'title': 'Hymnes', 'author': 'A. Hume', 'gend...   \n",
       "4  machine_nn01-38473945  {'title': 'Hist. Quinq-articularis', 'author':...   \n",
       "\n",
       "  part_of_speech               sense_id  \\\n",
       "0             NN  machine_nn01-38473945   \n",
       "1             NN  machine_nn01-38473945   \n",
       "2             NN  machine_nn01-38473945   \n",
       "3             NN  machine_nn01-38473945   \n",
       "4             NN  machine_nn01-38473945   \n",
       "\n",
       "                                          definition notes   first_use  root  \\\n",
       "0  A material or immaterial structure, esp. the f...    []  J. Schäfer  True   \n",
       "1  A material or immaterial structure, esp. the f...    []  J. Schäfer  True   \n",
       "2  A material or immaterial structure, esp. the f...    []  J. Schäfer  True   \n",
       "3  A material or immaterial structure, esp. the f...    []  J. Schäfer  True   \n",
       "4  A material or immaterial structure, esp. the f...    []  J. Schäfer  True   \n",
       "\n",
       "  main_current_sense                                 semantic_class_ids  \\\n",
       "0              False  [[1, 111290, 118635, 119024, 120162, 120172], ...   \n",
       "1              False  [[1, 111290, 118635, 119024, 120162, 120172], ...   \n",
       "2              False  [[1, 111290, 118635, 119024, 120162, 120172], ...   \n",
       "3              False  [[1, 111290, 118635, 119024, 120162, 120172], ...   \n",
       "4              False  [[1, 111290, 118635, 119024, 120162, 120172], ...   \n",
       "\n",
       "  transitivity                                               text  \n",
       "0         None  {'keyword': 'machyne', 'full_text': 'The hole ...  \n",
       "1         None  {'keyword': 'Machine', 'full_text': 'Machine, ...  \n",
       "2         None  {'keyword': 'machine', 'full_text': 'The maist...  \n",
       "3         None  {'keyword': 'machin', 'full_text': 'Be his wis...  \n",
       "4         None  {'keyword': 'Machine', 'full_text': 'They that...  "
      ]
     },
     "execution_count": 19,
     "metadata": {},
     "output_type": "execute_result"
    }
   ],
   "source": [
    "df.head()"
   ]
  },
  {
   "cell_type": "markdown",
   "metadata": {},
   "source": [
    "## Fin."
   ]
  }
 ],
 "metadata": {
  "kernelspec": {
   "display_name": "Python 3",
   "language": "python",
   "name": "python3"
  },
  "language_info": {
   "codemirror_mode": {
    "name": "ipython",
    "version": 3
   },
   "file_extension": ".py",
   "mimetype": "text/x-python",
   "name": "python",
   "nbconvert_exporter": "python",
   "pygments_lexer": "ipython3",
   "version": "3.7.4"
  }
 },
 "nbformat": 4,
 "nbformat_minor": 2
}
