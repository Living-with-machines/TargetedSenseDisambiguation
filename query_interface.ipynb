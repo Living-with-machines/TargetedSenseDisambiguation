{
 "cells": [
  {
   "cell_type": "code",
   "execution_count": 1,
   "metadata": {},
   "outputs": [],
   "source": [
    "%load_ext autoreload"
   ]
  },
  {
   "cell_type": "code",
   "execution_count": 2,
   "metadata": {},
   "outputs": [],
   "source": [
    "#!pip3 install --upgrade flair"
   ]
  },
  {
   "cell_type": "code",
   "execution_count": 104,
   "metadata": {},
   "outputs": [
    {
     "name": "stdout",
     "output_type": "stream",
     "text": [
      "hello\n"
     ]
    }
   ],
   "source": [
    "print('hello')"
   ]
  },
  {
   "cell_type": "code",
   "execution_count": 3,
   "metadata": {},
   "outputs": [],
   "source": [
    "%autoreload 2"
   ]
  },
  {
   "cell_type": "code",
   "execution_count": 4,
   "metadata": {},
   "outputs": [],
   "source": [
    "from utils.dataset_download import *\n",
    "import pickle\n",
    "import json\n",
    "from pathlib import Path, PosixPath\n",
    "import pandas as pd"
   ]
  },
  {
   "cell_type": "code",
   "execution_count": 5,
   "metadata": {},
   "outputs": [],
   "source": [
    "# import API credentials\n",
    "with open('oed_experiments/oed_credentials.json') as f:\n",
    "    credentials = json.load(f)"
   ]
  },
  {
   "cell_type": "code",
   "execution_count": 6,
   "metadata": {},
   "outputs": [],
   "source": [
    "# define lemma\n",
    "lemma_id = \"machine_nn01\""
   ]
  },
  {
   "cell_type": "code",
   "execution_count": 7,
   "metadata": {},
   "outputs": [],
   "source": [
    "save_path = Path(\"./data\")\n",
    "save_path.mkdir(exist_ok=True)"
   ]
  },
  {
   "cell_type": "code",
   "execution_count": null,
   "metadata": {},
   "outputs": [],
   "source": [
    "#query the API and get the json response\n",
    "sense_json = query_oed(credentials,'word',lemma_id,flags='include_senses=true&include_quotations=true')\n",
    "\n",
    "# convert the json in a dataframe\n",
    "senses_df = convert_json_to_dataframe(sense_json)"
   ]
  },
  {
   "cell_type": "code",
   "execution_count": null,
   "metadata": {},
   "outputs": [],
   "source": [
    "# save the dataframe\n",
    "# as pickle\n",
    "senses_df.to_pickle(save_path / f\"senses_{lemma_id}.pickle\")\n",
    "# as csv\n",
    "senses_df.to_csv(save_path / f\"senses_{lemma_id}.tsv\",sep='\\t')"
   ]
  },
  {
   "cell_type": "code",
   "execution_count": null,
   "metadata": {},
   "outputs": [],
   "source": [
    "# open pickle file to avoid calling the API again\n",
    "with open(save_path / f\"senses_{lemma_id}.pickle\",'rb') as in_pickle:\n",
    "    machine_senses_df = pickle.load(in_pickle)"
   ]
  },
  {
   "cell_type": "code",
   "execution_count": null,
   "metadata": {},
   "outputs": [],
   "source": [
    "# get all senses that are siblings and descendants\n",
    "# of the semantic class of senses listed in previously obtained query \n",
    "responses = traverse_thesaurus(credentials,machine_senses_df)"
   ]
  },
  {
   "cell_type": "code",
   "execution_count": null,
   "metadata": {},
   "outputs": [],
   "source": [
    "# traverse tree or load responses \n",
    "# responses = traverse_thesaurus(credentials,machine_senses_df)\n",
    "with open('./data/tree_traversal.pickle','rb') as in_pickle:\n",
    "    responses = pickle.load(in_pickle)"
   ]
  },
  {
   "cell_type": "code",
   "execution_count": null,
   "metadata": {},
   "outputs": [],
   "source": [
    "# get all quoations for the senses in the responses variable\n",
    "quotations = get_quotations_from_thesaurus(credentials,responses)"
   ]
  },
  {
   "cell_type": "code",
   "execution_count": null,
   "metadata": {},
   "outputs": [],
   "source": [
    "# merge and save all information stored in the seperate pickle files\n",
    "df = merge_pickled(Path(\"./data/senses_machine_nn01.pickle\"),\n",
    "                   Path(\"./data/tree_traversal.pickle\"),\n",
    "                   Path(\"./data/tree_traversal_quotations.pickle\"))"
   ]
  },
  {
   "cell_type": "code",
   "execution_count": null,
   "metadata": {},
   "outputs": [],
   "source": [
    "df.to_pickle(f\"./data/{lemma_id}_all.pickle\")"
   ]
  },
  {
   "cell_type": "code",
   "execution_count": null,
   "metadata": {},
   "outputs": [],
   "source": [
    "df.head()"
   ]
  },
  {
   "cell_type": "markdown",
   "metadata": {},
   "source": [
    "## Fin."
   ]
  },
  {
   "cell_type": "code",
   "execution_count": 8,
   "metadata": {},
   "outputs": [
    {
     "name": "stdout",
     "output_type": "stream",
     "text": [
      "  1-dataframe\u001b[m\r\n",
      "  3-group-senses\u001b[m\r\n",
      "* \u001b[32m4-semantic-provenance\u001b[m\r\n",
      "  dev\u001b[m\r\n",
      "  oed-experiments\u001b[m\r\n"
     ]
    }
   ],
   "source": [
    "!git branch"
   ]
  },
  {
   "cell_type": "code",
   "execution_count": 9,
   "metadata": {},
   "outputs": [],
   "source": [
    "start,end = 1750,1950"
   ]
  },
  {
   "cell_type": "code",
   "execution_count": 10,
   "metadata": {},
   "outputs": [],
   "source": [
    "get_last_id = lambda nested_list :[l[-1] for l in nested_list]"
   ]
  },
  {
   "cell_type": "code",
   "execution_count": 11,
   "metadata": {},
   "outputs": [],
   "source": [
    "query_df = pd.read_pickle(f\"./data/senses_{lemma_id}.pickle\")"
   ]
  },
  {
   "cell_type": "code",
   "execution_count": 12,
   "metadata": {},
   "outputs": [],
   "source": [
    "query_sense_ids = query_df.id.unique()"
   ]
  },
  {
   "cell_type": "code",
   "execution_count": 13,
   "metadata": {},
   "outputs": [
    {
     "data": {
      "application/vnd.jupyter.widget-view+json": {
       "model_id": "c0f1fc1d11df4a6991762e49a7484802",
       "version_major": 2,
       "version_minor": 0
      },
      "text/plain": [
       "HBox(children=(FloatProgress(value=0.0, max=26.0), HTML(value='')))"
      ]
     },
     "metadata": {},
     "output_type": "display_data"
    },
    {
     "name": "stdout",
     "output_type": "stream",
     "text": [
      "\n"
     ]
    }
   ],
   "source": [
    "# get all semantic class ids for the sense in seed dataframe\n",
    "#query_semanticclass_ids = set([sc[-1] for scs in query_df.semantic_class_ids.to_list() for sc in scs])\n",
    "seeds = [(s,query_oed(credentials,'sense',s,\n",
    "                        flags=f\"current_in='{start}-{end}'&limit=1000\"))\n",
    "                            for s in tqdm(query_sense_ids)]\n"
   ]
  },
  {
   "cell_type": "code",
   "execution_count": 14,
   "metadata": {},
   "outputs": [
    {
     "data": {
      "text/html": [
       "<div>\n",
       "<style scoped>\n",
       "    .dataframe tbody tr th:only-of-type {\n",
       "        vertical-align: middle;\n",
       "    }\n",
       "\n",
       "    .dataframe tbody tr th {\n",
       "        vertical-align: top;\n",
       "    }\n",
       "\n",
       "    .dataframe thead th {\n",
       "        text-align: right;\n",
       "    }\n",
       "</style>\n",
       "<table border=\"1\" class=\"dataframe\">\n",
       "  <thead>\n",
       "    <tr style=\"text-align: right;\">\n",
       "      <th></th>\n",
       "      <th>id</th>\n",
       "      <th>meta</th>\n",
       "      <th>lemma</th>\n",
       "      <th>notes</th>\n",
       "      <th>oed_url</th>\n",
       "      <th>word_id</th>\n",
       "      <th>daterange</th>\n",
       "      <th>first_use</th>\n",
       "      <th>categories</th>\n",
       "      <th>definition</th>\n",
       "      <th>transitivity</th>\n",
       "      <th>oed_reference</th>\n",
       "      <th>quotation_ids</th>\n",
       "      <th>part_of_speech</th>\n",
       "      <th>main_current_sense</th>\n",
       "      <th>semantic_class_ids</th>\n",
       "      <th>provenance</th>\n",
       "      <th>provenance_type</th>\n",
       "    </tr>\n",
       "  </thead>\n",
       "  <tbody>\n",
       "    <tr>\n",
       "      <td>0</td>\n",
       "      <td>machine_nn01-38473945</td>\n",
       "      <td>{'created': 1904, 'revised': True, 'updated': ...</td>\n",
       "      <td>machine</td>\n",
       "      <td>[]</td>\n",
       "      <td>https://www.oed.com/view/Entry/111850#eid38473945</td>\n",
       "      <td>machine_nn01</td>\n",
       "      <td>{'end': None, 'start': 1545, 'obsolete': False...</td>\n",
       "      <td>J. Schäfer</td>\n",
       "      <td>{'topic': [], 'region': [], 'register': [['rar...</td>\n",
       "      <td>A material or immaterial structure, esp. the f...</td>\n",
       "      <td>None</td>\n",
       "      <td>machine, n., sense I.1a</td>\n",
       "      <td>[machine_nn01-38473950, machine_nn01-38473961,...</td>\n",
       "      <td>NN</td>\n",
       "      <td>False</td>\n",
       "      <td>[[1, 111290, 118635, 119024, 120162, 120172], ...</td>\n",
       "      <td>machine_nn01-38473945</td>\n",
       "      <td>seed</td>\n",
       "    </tr>\n",
       "    <tr>\n",
       "      <td>1</td>\n",
       "      <td>machine_nn01-38474233</td>\n",
       "      <td>{'created': 1904, 'revised': True, 'updated': ...</td>\n",
       "      <td>machine</td>\n",
       "      <td>[]</td>\n",
       "      <td>https://www.oed.com/view/Entry/111850#eid38474233</td>\n",
       "      <td>machine_nn01</td>\n",
       "      <td>{'end': None, 'start': 1583, 'obsolete': False...</td>\n",
       "      <td>Brian Melbancke</td>\n",
       "      <td>{'topic': [['Military', 'Weaponry']], 'region'...</td>\n",
       "      <td>A military engine or siege-tower. Cf. war mach...</td>\n",
       "      <td>None</td>\n",
       "      <td>machine, n., sense II.3</td>\n",
       "      <td>[machine_nn01-38474243, machine_nn01-38474252,...</td>\n",
       "      <td>NN</td>\n",
       "      <td>False</td>\n",
       "      <td>[[153072, 160439, 163207, 163208, 163377, 1633...</td>\n",
       "      <td>machine_nn01-38474233</td>\n",
       "      <td>seed</td>\n",
       "    </tr>\n",
       "    <tr>\n",
       "      <td>2</td>\n",
       "      <td>machine_nn01-38474097</td>\n",
       "      <td>{'created': 1904, 'revised': True, 'updated': ...</td>\n",
       "      <td>machine</td>\n",
       "      <td>[]</td>\n",
       "      <td>https://www.oed.com/view/Entry/111850#eid38474097</td>\n",
       "      <td>machine_nn01</td>\n",
       "      <td>{'end': 1707, 'start': 1595, 'obsolete': True,...</td>\n",
       "      <td>Elizabeth I</td>\n",
       "      <td>{'topic': [], 'region': [], 'register': []}</td>\n",
       "      <td>spec. A scheme or plot. Obsolete.</td>\n",
       "      <td>None</td>\n",
       "      <td>machine, n., sense I.1b</td>\n",
       "      <td>[machine_nn01-38474102, machine_nn01-38474122,...</td>\n",
       "      <td>NN</td>\n",
       "      <td>False</td>\n",
       "      <td>[[1, 84689, 87987, 87988, 87989, 88083, 88109,...</td>\n",
       "      <td>machine_nn01-38474097</td>\n",
       "      <td>seed</td>\n",
       "    </tr>\n",
       "    <tr>\n",
       "      <td>3</td>\n",
       "      <td>machine_nn01-38474140</td>\n",
       "      <td>{'created': 1904, 'revised': True, 'updated': ...</td>\n",
       "      <td>machine</td>\n",
       "      <td>[]</td>\n",
       "      <td>https://www.oed.com/view/Entry/111850#eid38474140</td>\n",
       "      <td>machine_nn01</td>\n",
       "      <td>{'end': None, 'start': 1604, 'obsolete': False...</td>\n",
       "      <td>William Shakespeare</td>\n",
       "      <td>{'topic': [['Sciences', 'Medicine', 'Anatomy']...</td>\n",
       "      <td>A living body, esp. the human body considered ...</td>\n",
       "      <td>None</td>\n",
       "      <td>machine, n., sense I.2</td>\n",
       "      <td>[machine_nn01-38474151, machine_nn01-38474160,...</td>\n",
       "      <td>NN</td>\n",
       "      <td>False</td>\n",
       "      <td>[[1, 8835, 25507, 29189]]</td>\n",
       "      <td>machine_nn01-38474140</td>\n",
       "      <td>seed</td>\n",
       "    </tr>\n",
       "    <tr>\n",
       "      <td>4</td>\n",
       "      <td>machine_nn01-38474301</td>\n",
       "      <td>{'created': 1904, 'revised': True, 'updated': ...</td>\n",
       "      <td>machine</td>\n",
       "      <td>[In early use predominantly a ‘flying’ car alo...</td>\n",
       "      <td>https://www.oed.com/view/Entry/111850#eid38474301</td>\n",
       "      <td>machine_nn01</td>\n",
       "      <td>{'end': None, 'start': 1609, 'obsolete': False...</td>\n",
       "      <td>Ben Jonson</td>\n",
       "      <td>{'topic': [['Arts', 'Performing Arts', 'Theatr...</td>\n",
       "      <td>Theatre. A (usually movable) contrivance for t...</td>\n",
       "      <td>None</td>\n",
       "      <td>machine, n., sense II.4a</td>\n",
       "      <td>[machine_nn01-38474320, machine_nn01-38474329,...</td>\n",
       "      <td>NN</td>\n",
       "      <td>False</td>\n",
       "      <td>[[153072, 222360, 224508, 232933, 232967, 2330...</td>\n",
       "      <td>machine_nn01-38474301</td>\n",
       "      <td>seed</td>\n",
       "    </tr>\n",
       "  </tbody>\n",
       "</table>\n",
       "</div>"
      ],
      "text/plain": [
       "                      id                                               meta  \\\n",
       "0  machine_nn01-38473945  {'created': 1904, 'revised': True, 'updated': ...   \n",
       "1  machine_nn01-38474233  {'created': 1904, 'revised': True, 'updated': ...   \n",
       "2  machine_nn01-38474097  {'created': 1904, 'revised': True, 'updated': ...   \n",
       "3  machine_nn01-38474140  {'created': 1904, 'revised': True, 'updated': ...   \n",
       "4  machine_nn01-38474301  {'created': 1904, 'revised': True, 'updated': ...   \n",
       "\n",
       "     lemma                                              notes  \\\n",
       "0  machine                                                 []   \n",
       "1  machine                                                 []   \n",
       "2  machine                                                 []   \n",
       "3  machine                                                 []   \n",
       "4  machine  [In early use predominantly a ‘flying’ car alo...   \n",
       "\n",
       "                                             oed_url       word_id  \\\n",
       "0  https://www.oed.com/view/Entry/111850#eid38473945  machine_nn01   \n",
       "1  https://www.oed.com/view/Entry/111850#eid38474233  machine_nn01   \n",
       "2  https://www.oed.com/view/Entry/111850#eid38474097  machine_nn01   \n",
       "3  https://www.oed.com/view/Entry/111850#eid38474140  machine_nn01   \n",
       "4  https://www.oed.com/view/Entry/111850#eid38474301  machine_nn01   \n",
       "\n",
       "                                           daterange            first_use  \\\n",
       "0  {'end': None, 'start': 1545, 'obsolete': False...           J. Schäfer   \n",
       "1  {'end': None, 'start': 1583, 'obsolete': False...      Brian Melbancke   \n",
       "2  {'end': 1707, 'start': 1595, 'obsolete': True,...          Elizabeth I   \n",
       "3  {'end': None, 'start': 1604, 'obsolete': False...  William Shakespeare   \n",
       "4  {'end': None, 'start': 1609, 'obsolete': False...           Ben Jonson   \n",
       "\n",
       "                                          categories  \\\n",
       "0  {'topic': [], 'region': [], 'register': [['rar...   \n",
       "1  {'topic': [['Military', 'Weaponry']], 'region'...   \n",
       "2        {'topic': [], 'region': [], 'register': []}   \n",
       "3  {'topic': [['Sciences', 'Medicine', 'Anatomy']...   \n",
       "4  {'topic': [['Arts', 'Performing Arts', 'Theatr...   \n",
       "\n",
       "                                          definition transitivity  \\\n",
       "0  A material or immaterial structure, esp. the f...         None   \n",
       "1  A military engine or siege-tower. Cf. war mach...         None   \n",
       "2                  spec. A scheme or plot. Obsolete.         None   \n",
       "3  A living body, esp. the human body considered ...         None   \n",
       "4  Theatre. A (usually movable) contrivance for t...         None   \n",
       "\n",
       "              oed_reference  \\\n",
       "0   machine, n., sense I.1a   \n",
       "1   machine, n., sense II.3   \n",
       "2   machine, n., sense I.1b   \n",
       "3    machine, n., sense I.2   \n",
       "4  machine, n., sense II.4a   \n",
       "\n",
       "                                       quotation_ids part_of_speech  \\\n",
       "0  [machine_nn01-38473950, machine_nn01-38473961,...             NN   \n",
       "1  [machine_nn01-38474243, machine_nn01-38474252,...             NN   \n",
       "2  [machine_nn01-38474102, machine_nn01-38474122,...             NN   \n",
       "3  [machine_nn01-38474151, machine_nn01-38474160,...             NN   \n",
       "4  [machine_nn01-38474320, machine_nn01-38474329,...             NN   \n",
       "\n",
       "   main_current_sense                                 semantic_class_ids  \\\n",
       "0               False  [[1, 111290, 118635, 119024, 120162, 120172], ...   \n",
       "1               False  [[153072, 160439, 163207, 163208, 163377, 1633...   \n",
       "2               False  [[1, 84689, 87987, 87988, 87989, 88083, 88109,...   \n",
       "3               False                          [[1, 8835, 25507, 29189]]   \n",
       "4               False  [[153072, 222360, 224508, 232933, 232967, 2330...   \n",
       "\n",
       "              provenance provenance_type  \n",
       "0  machine_nn01-38473945            seed  \n",
       "1  machine_nn01-38474233            seed  \n",
       "2  machine_nn01-38474097            seed  \n",
       "3  machine_nn01-38474140            seed  \n",
       "4  machine_nn01-38474301            seed  "
      ]
     },
     "execution_count": 14,
     "metadata": {},
     "output_type": "execute_result"
    }
   ],
   "source": [
    "seeds_df = pd.DataFrame([seed['data'] for s_id,seed in seeds])\n",
    "seeds_df['provenance'] = seeds_df.id\n",
    "seeds_df['provenance_type'] = 'seed'\n",
    "seeds_df.head()"
   ]
  },
  {
   "cell_type": "code",
   "execution_count": 15,
   "metadata": {},
   "outputs": [
    {
     "data": {
      "application/vnd.jupyter.widget-view+json": {
       "model_id": "38d7b0e3376b4546a7dd6e3f1cf8c973",
       "version_major": 2,
       "version_minor": 0
      },
      "text/plain": [
       "HBox(children=(FloatProgress(value=0.0, max=26.0), HTML(value='')))"
      ]
     },
     "metadata": {},
     "output_type": "display_data"
    },
    {
     "name": "stdout",
     "output_type": "stream",
     "text": [
      "\n"
     ]
    }
   ],
   "source": [
    "# get all synonyms for each sense\n",
    "synonyms = [(s,query_oed(credentials,'sense',s,\n",
    "                    level='synonyms',\n",
    "                    flags=f\"current_in='{start}-{end}'&limit=1000\"))\n",
    "                            for s in tqdm(query_sense_ids)]\n",
    "\n",
    "# transform list of synonyms to a dataframe\n",
    "synonyms_df = pd.DataFrame([s for s_id,syn in synonyms for s in syn['data']])\n"
   ]
  },
  {
   "cell_type": "code",
   "execution_count": 16,
   "metadata": {},
   "outputs": [],
   "source": [
    "synonyms_df['provenance'] = [s_id for s_id,syn in synonyms for s in syn['data']]\n",
    "synonyms_df['provenance_type'] = 'synonym'"
   ]
  },
  {
   "cell_type": "code",
   "execution_count": 17,
   "metadata": {},
   "outputs": [],
   "source": [
    "# seed + synonyms constitute the nucleas of our query\n",
    "# branch from there\n",
    "core_df = pd.concat([seeds_df,synonyms_df])\n"
   ]
  },
  {
   "cell_type": "code",
   "execution_count": 18,
   "metadata": {},
   "outputs": [
    {
     "data": {
      "text/plain": [
       "Index(['id', 'meta', 'lemma', 'notes', 'oed_url', 'word_id', 'daterange',\n",
       "       'first_use', 'categories', 'definition', 'transitivity',\n",
       "       'oed_reference', 'quotation_ids', 'part_of_speech',\n",
       "       'main_current_sense', 'semantic_class_ids', 'provenance',\n",
       "       'provenance_type', 'semantic_class_last_id'],\n",
       "      dtype='object')"
      ]
     },
     "execution_count": 18,
     "metadata": {},
     "output_type": "execute_result"
    }
   ],
   "source": [
    "core_df['semantic_class_last_id'] = core_df['semantic_class_ids'].apply(get_last_id)\n",
    "core_df.columns"
   ]
  },
  {
   "cell_type": "code",
   "execution_count": 19,
   "metadata": {},
   "outputs": [
    {
     "data": {
      "text/plain": [
       "(511, 19)"
      ]
     },
     "execution_count": 19,
     "metadata": {},
     "output_type": "execute_result"
    }
   ],
   "source": [
    "core_df.shape"
   ]
  },
  {
   "cell_type": "code",
   "execution_count": 20,
   "metadata": {},
   "outputs": [
    {
     "data": {
      "text/plain": [
       "2710"
      ]
     },
     "execution_count": 20,
     "metadata": {},
     "output_type": "execute_result"
    }
   ],
   "source": [
    "quotations_ids = set([q for l in core_df.quotation_ids.to_list() for q in l])\n",
    "len(quotations_ids)"
   ]
  },
  {
   "cell_type": "code",
   "execution_count": 28,
   "metadata": {},
   "outputs": [
    {
     "data": {
      "text/plain": [
       "187"
      ]
     },
     "execution_count": 28,
     "metadata": {},
     "output_type": "execute_result"
    }
   ],
   "source": [
    "semantic_class_ids = set([s for l in core_df.semantic_class_last_id.to_list() for s in l])\n",
    "len(semantic_class_ids)"
   ]
  },
  {
   "cell_type": "code",
   "execution_count": 25,
   "metadata": {},
   "outputs": [],
   "source": [
    "# get semantic class ids of all synonym senses\n",
    "# the last item of the list in the semantic_class_ids columnns\n",
    "#synonyms_semanticclass_ids = set([sc[-1] for scs in synonyms_df.semantic_class_ids.to_list() for sc in scs])"
   ]
  },
  {
   "cell_type": "code",
   "execution_count": 26,
   "metadata": {},
   "outputs": [
    {
     "ename": "NameError",
     "evalue": "name 'query_semanticclass_ids' is not defined",
     "output_type": "error",
     "traceback": [
      "\u001b[0;31m---------------------------------------------------------------------------\u001b[0m",
      "\u001b[0;31mNameError\u001b[0m                                 Traceback (most recent call last)",
      "\u001b[0;32m<ipython-input-26-bf2018f90195>\u001b[0m in \u001b[0;36m<module>\u001b[0;34m\u001b[0m\n\u001b[1;32m      1\u001b[0m \u001b[0;31m# merge semantic class ids of the query senses with synonym senses\u001b[0m\u001b[0;34m\u001b[0m\u001b[0;34m\u001b[0m\u001b[0;34m\u001b[0m\u001b[0m\n\u001b[0;32m----> 2\u001b[0;31m \u001b[0msemanticclass_ids\u001b[0m \u001b[0;34m=\u001b[0m \u001b[0msynonyms_semanticclass_ids\u001b[0m\u001b[0;34m.\u001b[0m\u001b[0munion\u001b[0m\u001b[0;34m(\u001b[0m\u001b[0mquery_semanticclass_ids\u001b[0m\u001b[0;34m)\u001b[0m\u001b[0;34m\u001b[0m\u001b[0;34m\u001b[0m\u001b[0m\n\u001b[0m",
      "\u001b[0;31mNameError\u001b[0m: name 'query_semanticclass_ids' is not defined"
     ]
    }
   ],
   "source": [
    "# merge semantic class ids of the query senses with synonym senses\n",
    "#semanticclass_ids = synonyms_semanticclass_ids.union(query_semanticclass_ids)"
   ]
  },
  {
   "cell_type": "code",
   "execution_count": 30,
   "metadata": {},
   "outputs": [
    {
     "data": {
      "text/plain": [
       "187"
      ]
     },
     "execution_count": 30,
     "metadata": {},
     "output_type": "execute_result"
    }
   ],
   "source": [
    "len(semantic_class_ids)"
   ]
  },
  {
   "cell_type": "code",
   "execution_count": 31,
   "metadata": {},
   "outputs": [
    {
     "data": {
      "application/vnd.jupyter.widget-view+json": {
       "model_id": "6763ffb6999145b5b89dcf55964c89b6",
       "version_major": 2,
       "version_minor": 0
      },
      "text/plain": [
       "HBox(children=(FloatProgress(value=0.0, max=187.0), HTML(value='')))"
      ]
     },
     "metadata": {},
     "output_type": "display_data"
    },
    {
     "name": "stdout",
     "output_type": "stream",
     "text": [
      "\n"
     ]
    }
   ],
   "source": [
    "# get all the descendants of senses\n",
    "branches = [(idx,query_oed(credentials,'semanticclass', idx, \n",
    "                        level='branchsenses',\n",
    "                        flags=f\"current_in='{start}-{end}'&limit=1000\"))\n",
    "                    for idx in tqdm(semantic_class_ids)]"
   ]
  },
  {
   "cell_type": "code",
   "execution_count": 32,
   "metadata": {},
   "outputs": [],
   "source": [
    "branches_df = pd.DataFrame([s for idx,branch in branches for s in branch['data']])\n",
    "branches_df['provenance'] = [idx for idx,branch in branches for s in branch['data']]"
   ]
  },
  {
   "cell_type": "code",
   "execution_count": 33,
   "metadata": {},
   "outputs": [],
   "source": [
    "branches_df['provenance_type'] = 'branch'\n",
    "branches_df['semantic_class_last_id'] = branches_df.semantic_class_ids.apply(get_last_id)"
   ]
  },
  {
   "cell_type": "code",
   "execution_count": 34,
   "metadata": {},
   "outputs": [
    {
     "data": {
      "text/plain": [
       "(6997, 19)"
      ]
     },
     "execution_count": 34,
     "metadata": {},
     "output_type": "execute_result"
    }
   ],
   "source": [
    "branches_df_red = branches_df.loc[~branches_df.id.isin(core_df.id)]\n",
    "branches_df_red.shape"
   ]
  },
  {
   "cell_type": "code",
   "execution_count": 35,
   "metadata": {},
   "outputs": [
    {
     "data": {
      "text/html": [
       "<div>\n",
       "<style scoped>\n",
       "    .dataframe tbody tr th:only-of-type {\n",
       "        vertical-align: middle;\n",
       "    }\n",
       "\n",
       "    .dataframe tbody tr th {\n",
       "        vertical-align: top;\n",
       "    }\n",
       "\n",
       "    .dataframe thead th {\n",
       "        text-align: right;\n",
       "    }\n",
       "</style>\n",
       "<table border=\"1\" class=\"dataframe\">\n",
       "  <thead>\n",
       "    <tr style=\"text-align: right;\">\n",
       "      <th></th>\n",
       "      <th>id</th>\n",
       "      <th>meta</th>\n",
       "      <th>lemma</th>\n",
       "      <th>notes</th>\n",
       "      <th>oed_url</th>\n",
       "      <th>word_id</th>\n",
       "      <th>daterange</th>\n",
       "      <th>first_use</th>\n",
       "      <th>categories</th>\n",
       "      <th>definition</th>\n",
       "      <th>transitivity</th>\n",
       "      <th>oed_reference</th>\n",
       "      <th>quotation_ids</th>\n",
       "      <th>part_of_speech</th>\n",
       "      <th>main_current_sense</th>\n",
       "      <th>semantic_class_ids</th>\n",
       "      <th>provenance</th>\n",
       "      <th>provenance_type</th>\n",
       "      <th>semantic_class_last_id</th>\n",
       "    </tr>\n",
       "  </thead>\n",
       "  <tbody>\n",
       "    <tr>\n",
       "      <td>0</td>\n",
       "      <td>beachwagon_nn01-25800061</td>\n",
       "      <td>{'created': 1887, 'revised': False, 'updated':...</td>\n",
       "      <td>beach-wagon</td>\n",
       "      <td>[]</td>\n",
       "      <td>https://www.oed.com/view/Entry/16443#eid25800061</td>\n",
       "      <td>beachwagon_nn01</td>\n",
       "      <td>{'end': None, 'start': 1869, 'obsolete': False...</td>\n",
       "      <td>Louisa May Alcott</td>\n",
       "      <td>{'topic': [['Transport', 'Motoring']], 'region...</td>\n",
       "      <td>a light open wagon, with two or more seats; a ...</td>\n",
       "      <td>None</td>\n",
       "      <td>‘beach-wagon’ in beach, n.</td>\n",
       "      <td>[beachwagon_nn01-25800544, beachwagon_nn01-258...</td>\n",
       "      <td>NN</td>\n",
       "      <td>True</td>\n",
       "      <td>[[153072, 198379, 200757, 201351, 201370, 2016...</td>\n",
       "      <td>202113</td>\n",
       "      <td>branch</td>\n",
       "      <td>[201845, 202113]</td>\n",
       "    </tr>\n",
       "    <tr>\n",
       "      <td>1</td>\n",
       "      <td>carryall_nn01-9996366</td>\n",
       "      <td>{'created': 1888, 'revised': False, 'updated':...</td>\n",
       "      <td>carry-all</td>\n",
       "      <td>[]</td>\n",
       "      <td>https://www.oed.com/view/Entry/28253#eid9996366</td>\n",
       "      <td>carryall_nn01</td>\n",
       "      <td>{'end': None, 'start': 1714, 'obsolete': False...</td>\n",
       "      <td>J. Stoddard</td>\n",
       "      <td>{'topic': [['Crafts and Trades', 'Carriage-bui...</td>\n",
       "      <td>A light carriage for one horse, usually four-w...</td>\n",
       "      <td>None</td>\n",
       "      <td>carry-all, n., sense 1</td>\n",
       "      <td>[carryall_nn01-9996369, carryall_nn01-30797203...</td>\n",
       "      <td>NN</td>\n",
       "      <td>True</td>\n",
       "      <td>[[153072, 198379, 200757, 201351, 201370, 2016...</td>\n",
       "      <td>202113</td>\n",
       "      <td>branch</td>\n",
       "      <td>[201820, 202113]</td>\n",
       "    </tr>\n",
       "    <tr>\n",
       "      <td>2</td>\n",
       "      <td>estatecar_nn01-5268167</td>\n",
       "      <td>{'created': 1972, 'revised': False, 'updated':...</td>\n",
       "      <td>estate car</td>\n",
       "      <td>[]</td>\n",
       "      <td>https://www.oed.com/view/Entry/64556#eid5268167</td>\n",
       "      <td>estatecar_nn01</td>\n",
       "      <td>{'end': None, 'start': 1950, 'obsolete': False...</td>\n",
       "      <td>Motor Industry</td>\n",
       "      <td>{'topic': [['Transport', 'Motoring']], 'region...</td>\n",
       "      <td>a light saloon motor car spec. constructed or ...</td>\n",
       "      <td>None</td>\n",
       "      <td>‘estate car’ in estate, n.</td>\n",
       "      <td>[estatecar_nn01-5268245, estatecar_nn01-526825...</td>\n",
       "      <td>NN</td>\n",
       "      <td>True</td>\n",
       "      <td>[[153072, 198379, 200757, 201351, 201370, 2018...</td>\n",
       "      <td>202113</td>\n",
       "      <td>branch</td>\n",
       "      <td>[202113]</td>\n",
       "    </tr>\n",
       "    <tr>\n",
       "      <td>3</td>\n",
       "      <td>estatewagon_nn01-5268185</td>\n",
       "      <td>{'created': 1972, 'revised': False, 'updated':...</td>\n",
       "      <td>estate wagon</td>\n",
       "      <td>[]</td>\n",
       "      <td>https://www.oed.com/view/Entry/64556#eid5268185</td>\n",
       "      <td>estatewagon_nn01</td>\n",
       "      <td>{'end': None, 'start': 1959, 'obsolete': False...</td>\n",
       "      <td>Marguerite Steen</td>\n",
       "      <td>{'topic': [['Transport', 'Motoring']], 'region...</td>\n",
       "      <td>= estate car n.</td>\n",
       "      <td>None</td>\n",
       "      <td>‘estate wagon’ in estate, n.</td>\n",
       "      <td>[estatewagon_nn01-5268356]</td>\n",
       "      <td>NN</td>\n",
       "      <td>True</td>\n",
       "      <td>[[153072, 198379, 200757, 201351, 201370, 2018...</td>\n",
       "      <td>202113</td>\n",
       "      <td>branch</td>\n",
       "      <td>[202113]</td>\n",
       "    </tr>\n",
       "    <tr>\n",
       "      <td>4</td>\n",
       "      <td>ranchwagon_nn01-27047344</td>\n",
       "      <td>{'created': 1903, 'revised': True, 'updated': ...</td>\n",
       "      <td>ranch wagon</td>\n",
       "      <td>[In quot. 1952 as the name for a specific mode...</td>\n",
       "      <td>https://www.oed.com/view/Entry/157944#eid27047344</td>\n",
       "      <td>ranchwagon_nn01</td>\n",
       "      <td>{'end': None, 'start': 1879, 'obsolete': False...</td>\n",
       "      <td>Daily Gaz. (Colorado Springs)</td>\n",
       "      <td>{'topic': [['Transport', 'Motoring']], 'region...</td>\n",
       "      <td>(a) a horse-drawn wagon used on a ranch; (b) a...</td>\n",
       "      <td>None</td>\n",
       "      <td>‘ranch wagon’ in ranch, n.2</td>\n",
       "      <td>[ranchwagon_nn01-121105010, ranchwagon_nn01-27...</td>\n",
       "      <td>NN</td>\n",
       "      <td>True</td>\n",
       "      <td>[[153072, 198379, 200757, 201351, 201370, 2018...</td>\n",
       "      <td>202113</td>\n",
       "      <td>branch</td>\n",
       "      <td>[202113]</td>\n",
       "    </tr>\n",
       "  </tbody>\n",
       "</table>\n",
       "</div>"
      ],
      "text/plain": [
       "                         id  \\\n",
       "0  beachwagon_nn01-25800061   \n",
       "1     carryall_nn01-9996366   \n",
       "2    estatecar_nn01-5268167   \n",
       "3  estatewagon_nn01-5268185   \n",
       "4  ranchwagon_nn01-27047344   \n",
       "\n",
       "                                                meta         lemma  \\\n",
       "0  {'created': 1887, 'revised': False, 'updated':...   beach-wagon   \n",
       "1  {'created': 1888, 'revised': False, 'updated':...     carry-all   \n",
       "2  {'created': 1972, 'revised': False, 'updated':...    estate car   \n",
       "3  {'created': 1972, 'revised': False, 'updated':...  estate wagon   \n",
       "4  {'created': 1903, 'revised': True, 'updated': ...   ranch wagon   \n",
       "\n",
       "                                               notes  \\\n",
       "0                                                 []   \n",
       "1                                                 []   \n",
       "2                                                 []   \n",
       "3                                                 []   \n",
       "4  [In quot. 1952 as the name for a specific mode...   \n",
       "\n",
       "                                             oed_url           word_id  \\\n",
       "0   https://www.oed.com/view/Entry/16443#eid25800061   beachwagon_nn01   \n",
       "1    https://www.oed.com/view/Entry/28253#eid9996366     carryall_nn01   \n",
       "2    https://www.oed.com/view/Entry/64556#eid5268167    estatecar_nn01   \n",
       "3    https://www.oed.com/view/Entry/64556#eid5268185  estatewagon_nn01   \n",
       "4  https://www.oed.com/view/Entry/157944#eid27047344   ranchwagon_nn01   \n",
       "\n",
       "                                           daterange  \\\n",
       "0  {'end': None, 'start': 1869, 'obsolete': False...   \n",
       "1  {'end': None, 'start': 1714, 'obsolete': False...   \n",
       "2  {'end': None, 'start': 1950, 'obsolete': False...   \n",
       "3  {'end': None, 'start': 1959, 'obsolete': False...   \n",
       "4  {'end': None, 'start': 1879, 'obsolete': False...   \n",
       "\n",
       "                       first_use  \\\n",
       "0              Louisa May Alcott   \n",
       "1                    J. Stoddard   \n",
       "2                 Motor Industry   \n",
       "3               Marguerite Steen   \n",
       "4  Daily Gaz. (Colorado Springs)   \n",
       "\n",
       "                                          categories  \\\n",
       "0  {'topic': [['Transport', 'Motoring']], 'region...   \n",
       "1  {'topic': [['Crafts and Trades', 'Carriage-bui...   \n",
       "2  {'topic': [['Transport', 'Motoring']], 'region...   \n",
       "3  {'topic': [['Transport', 'Motoring']], 'region...   \n",
       "4  {'topic': [['Transport', 'Motoring']], 'region...   \n",
       "\n",
       "                                          definition transitivity  \\\n",
       "0  a light open wagon, with two or more seats; a ...         None   \n",
       "1  A light carriage for one horse, usually four-w...         None   \n",
       "2  a light saloon motor car spec. constructed or ...         None   \n",
       "3                                    = estate car n.         None   \n",
       "4  (a) a horse-drawn wagon used on a ranch; (b) a...         None   \n",
       "\n",
       "                  oed_reference  \\\n",
       "0    ‘beach-wagon’ in beach, n.   \n",
       "1        carry-all, n., sense 1   \n",
       "2    ‘estate car’ in estate, n.   \n",
       "3  ‘estate wagon’ in estate, n.   \n",
       "4   ‘ranch wagon’ in ranch, n.2   \n",
       "\n",
       "                                       quotation_ids part_of_speech  \\\n",
       "0  [beachwagon_nn01-25800544, beachwagon_nn01-258...             NN   \n",
       "1  [carryall_nn01-9996369, carryall_nn01-30797203...             NN   \n",
       "2  [estatecar_nn01-5268245, estatecar_nn01-526825...             NN   \n",
       "3                         [estatewagon_nn01-5268356]             NN   \n",
       "4  [ranchwagon_nn01-121105010, ranchwagon_nn01-27...             NN   \n",
       "\n",
       "   main_current_sense                                 semantic_class_ids  \\\n",
       "0                True  [[153072, 198379, 200757, 201351, 201370, 2016...   \n",
       "1                True  [[153072, 198379, 200757, 201351, 201370, 2016...   \n",
       "2                True  [[153072, 198379, 200757, 201351, 201370, 2018...   \n",
       "3                True  [[153072, 198379, 200757, 201351, 201370, 2018...   \n",
       "4                True  [[153072, 198379, 200757, 201351, 201370, 2018...   \n",
       "\n",
       "  provenance provenance_type semantic_class_last_id  \n",
       "0     202113          branch       [201845, 202113]  \n",
       "1     202113          branch       [201820, 202113]  \n",
       "2     202113          branch               [202113]  \n",
       "3     202113          branch               [202113]  \n",
       "4     202113          branch               [202113]  "
      ]
     },
     "execution_count": 35,
     "metadata": {},
     "output_type": "execute_result"
    }
   ],
   "source": [
    "branches_df_red.head()"
   ]
  },
  {
   "cell_type": "code",
   "execution_count": 36,
   "metadata": {},
   "outputs": [],
   "source": [
    "extended_df = pd.concat([core_df,branches_df_red])"
   ]
  },
  {
   "cell_type": "code",
   "execution_count": 37,
   "metadata": {},
   "outputs": [
    {
     "data": {
      "text/html": [
       "<div>\n",
       "<style scoped>\n",
       "    .dataframe tbody tr th:only-of-type {\n",
       "        vertical-align: middle;\n",
       "    }\n",
       "\n",
       "    .dataframe tbody tr th {\n",
       "        vertical-align: top;\n",
       "    }\n",
       "\n",
       "    .dataframe thead th {\n",
       "        text-align: right;\n",
       "    }\n",
       "</style>\n",
       "<table border=\"1\" class=\"dataframe\">\n",
       "  <thead>\n",
       "    <tr style=\"text-align: right;\">\n",
       "      <th></th>\n",
       "      <th>id</th>\n",
       "      <th>meta</th>\n",
       "      <th>lemma</th>\n",
       "      <th>notes</th>\n",
       "      <th>oed_url</th>\n",
       "      <th>word_id</th>\n",
       "      <th>daterange</th>\n",
       "      <th>first_use</th>\n",
       "      <th>categories</th>\n",
       "      <th>definition</th>\n",
       "      <th>transitivity</th>\n",
       "      <th>oed_reference</th>\n",
       "      <th>quotation_ids</th>\n",
       "      <th>part_of_speech</th>\n",
       "      <th>main_current_sense</th>\n",
       "      <th>semantic_class_ids</th>\n",
       "      <th>provenance</th>\n",
       "      <th>provenance_type</th>\n",
       "      <th>semantic_class_last_id</th>\n",
       "    </tr>\n",
       "  </thead>\n",
       "  <tbody>\n",
       "    <tr>\n",
       "      <td>0</td>\n",
       "      <td>machine_nn01-38473945</td>\n",
       "      <td>{'created': 1904, 'revised': True, 'updated': ...</td>\n",
       "      <td>machine</td>\n",
       "      <td>[]</td>\n",
       "      <td>https://www.oed.com/view/Entry/111850#eid38473945</td>\n",
       "      <td>machine_nn01</td>\n",
       "      <td>{'end': None, 'start': 1545, 'obsolete': False...</td>\n",
       "      <td>J. Schäfer</td>\n",
       "      <td>{'topic': [], 'region': [], 'register': [['rar...</td>\n",
       "      <td>A material or immaterial structure, esp. the f...</td>\n",
       "      <td>None</td>\n",
       "      <td>machine, n., sense I.1a</td>\n",
       "      <td>[machine_nn01-38473950, machine_nn01-38473961,...</td>\n",
       "      <td>NN</td>\n",
       "      <td>False</td>\n",
       "      <td>[[1, 111290, 118635, 119024, 120162, 120172], ...</td>\n",
       "      <td>machine_nn01-38473945</td>\n",
       "      <td>seed</td>\n",
       "      <td>[120172, 120173]</td>\n",
       "    </tr>\n",
       "    <tr>\n",
       "      <td>1</td>\n",
       "      <td>machine_nn01-38474233</td>\n",
       "      <td>{'created': 1904, 'revised': True, 'updated': ...</td>\n",
       "      <td>machine</td>\n",
       "      <td>[]</td>\n",
       "      <td>https://www.oed.com/view/Entry/111850#eid38474233</td>\n",
       "      <td>machine_nn01</td>\n",
       "      <td>{'end': None, 'start': 1583, 'obsolete': False...</td>\n",
       "      <td>Brian Melbancke</td>\n",
       "      <td>{'topic': [['Military', 'Weaponry']], 'region'...</td>\n",
       "      <td>A military engine or siege-tower. Cf. war mach...</td>\n",
       "      <td>None</td>\n",
       "      <td>machine, n., sense II.3</td>\n",
       "      <td>[machine_nn01-38474243, machine_nn01-38474252,...</td>\n",
       "      <td>NN</td>\n",
       "      <td>False</td>\n",
       "      <td>[[153072, 160439, 163207, 163208, 163377, 1633...</td>\n",
       "      <td>machine_nn01-38474233</td>\n",
       "      <td>seed</td>\n",
       "      <td>[163378]</td>\n",
       "    </tr>\n",
       "    <tr>\n",
       "      <td>2</td>\n",
       "      <td>machine_nn01-38474097</td>\n",
       "      <td>{'created': 1904, 'revised': True, 'updated': ...</td>\n",
       "      <td>machine</td>\n",
       "      <td>[]</td>\n",
       "      <td>https://www.oed.com/view/Entry/111850#eid38474097</td>\n",
       "      <td>machine_nn01</td>\n",
       "      <td>{'end': 1707, 'start': 1595, 'obsolete': True,...</td>\n",
       "      <td>Elizabeth I</td>\n",
       "      <td>{'topic': [], 'region': [], 'register': []}</td>\n",
       "      <td>spec. A scheme or plot. Obsolete.</td>\n",
       "      <td>None</td>\n",
       "      <td>machine, n., sense I.1b</td>\n",
       "      <td>[machine_nn01-38474102, machine_nn01-38474122,...</td>\n",
       "      <td>NN</td>\n",
       "      <td>False</td>\n",
       "      <td>[[1, 84689, 87987, 87988, 87989, 88083, 88109,...</td>\n",
       "      <td>machine_nn01-38474097</td>\n",
       "      <td>seed</td>\n",
       "      <td>[88126]</td>\n",
       "    </tr>\n",
       "    <tr>\n",
       "      <td>3</td>\n",
       "      <td>machine_nn01-38474140</td>\n",
       "      <td>{'created': 1904, 'revised': True, 'updated': ...</td>\n",
       "      <td>machine</td>\n",
       "      <td>[]</td>\n",
       "      <td>https://www.oed.com/view/Entry/111850#eid38474140</td>\n",
       "      <td>machine_nn01</td>\n",
       "      <td>{'end': None, 'start': 1604, 'obsolete': False...</td>\n",
       "      <td>William Shakespeare</td>\n",
       "      <td>{'topic': [['Sciences', 'Medicine', 'Anatomy']...</td>\n",
       "      <td>A living body, esp. the human body considered ...</td>\n",
       "      <td>None</td>\n",
       "      <td>machine, n., sense I.2</td>\n",
       "      <td>[machine_nn01-38474151, machine_nn01-38474160,...</td>\n",
       "      <td>NN</td>\n",
       "      <td>False</td>\n",
       "      <td>[[1, 8835, 25507, 29189]]</td>\n",
       "      <td>machine_nn01-38474140</td>\n",
       "      <td>seed</td>\n",
       "      <td>[29189]</td>\n",
       "    </tr>\n",
       "    <tr>\n",
       "      <td>4</td>\n",
       "      <td>machine_nn01-38474301</td>\n",
       "      <td>{'created': 1904, 'revised': True, 'updated': ...</td>\n",
       "      <td>machine</td>\n",
       "      <td>[In early use predominantly a ‘flying’ car alo...</td>\n",
       "      <td>https://www.oed.com/view/Entry/111850#eid38474301</td>\n",
       "      <td>machine_nn01</td>\n",
       "      <td>{'end': None, 'start': 1609, 'obsolete': False...</td>\n",
       "      <td>Ben Jonson</td>\n",
       "      <td>{'topic': [['Arts', 'Performing Arts', 'Theatr...</td>\n",
       "      <td>Theatre. A (usually movable) contrivance for t...</td>\n",
       "      <td>None</td>\n",
       "      <td>machine, n., sense II.4a</td>\n",
       "      <td>[machine_nn01-38474320, machine_nn01-38474329,...</td>\n",
       "      <td>NN</td>\n",
       "      <td>False</td>\n",
       "      <td>[[153072, 222360, 224508, 232933, 232967, 2330...</td>\n",
       "      <td>machine_nn01-38474301</td>\n",
       "      <td>seed</td>\n",
       "      <td>[233139]</td>\n",
       "    </tr>\n",
       "  </tbody>\n",
       "</table>\n",
       "</div>"
      ],
      "text/plain": [
       "                      id                                               meta  \\\n",
       "0  machine_nn01-38473945  {'created': 1904, 'revised': True, 'updated': ...   \n",
       "1  machine_nn01-38474233  {'created': 1904, 'revised': True, 'updated': ...   \n",
       "2  machine_nn01-38474097  {'created': 1904, 'revised': True, 'updated': ...   \n",
       "3  machine_nn01-38474140  {'created': 1904, 'revised': True, 'updated': ...   \n",
       "4  machine_nn01-38474301  {'created': 1904, 'revised': True, 'updated': ...   \n",
       "\n",
       "     lemma                                              notes  \\\n",
       "0  machine                                                 []   \n",
       "1  machine                                                 []   \n",
       "2  machine                                                 []   \n",
       "3  machine                                                 []   \n",
       "4  machine  [In early use predominantly a ‘flying’ car alo...   \n",
       "\n",
       "                                             oed_url       word_id  \\\n",
       "0  https://www.oed.com/view/Entry/111850#eid38473945  machine_nn01   \n",
       "1  https://www.oed.com/view/Entry/111850#eid38474233  machine_nn01   \n",
       "2  https://www.oed.com/view/Entry/111850#eid38474097  machine_nn01   \n",
       "3  https://www.oed.com/view/Entry/111850#eid38474140  machine_nn01   \n",
       "4  https://www.oed.com/view/Entry/111850#eid38474301  machine_nn01   \n",
       "\n",
       "                                           daterange            first_use  \\\n",
       "0  {'end': None, 'start': 1545, 'obsolete': False...           J. Schäfer   \n",
       "1  {'end': None, 'start': 1583, 'obsolete': False...      Brian Melbancke   \n",
       "2  {'end': 1707, 'start': 1595, 'obsolete': True,...          Elizabeth I   \n",
       "3  {'end': None, 'start': 1604, 'obsolete': False...  William Shakespeare   \n",
       "4  {'end': None, 'start': 1609, 'obsolete': False...           Ben Jonson   \n",
       "\n",
       "                                          categories  \\\n",
       "0  {'topic': [], 'region': [], 'register': [['rar...   \n",
       "1  {'topic': [['Military', 'Weaponry']], 'region'...   \n",
       "2        {'topic': [], 'region': [], 'register': []}   \n",
       "3  {'topic': [['Sciences', 'Medicine', 'Anatomy']...   \n",
       "4  {'topic': [['Arts', 'Performing Arts', 'Theatr...   \n",
       "\n",
       "                                          definition transitivity  \\\n",
       "0  A material or immaterial structure, esp. the f...         None   \n",
       "1  A military engine or siege-tower. Cf. war mach...         None   \n",
       "2                  spec. A scheme or plot. Obsolete.         None   \n",
       "3  A living body, esp. the human body considered ...         None   \n",
       "4  Theatre. A (usually movable) contrivance for t...         None   \n",
       "\n",
       "              oed_reference  \\\n",
       "0   machine, n., sense I.1a   \n",
       "1   machine, n., sense II.3   \n",
       "2   machine, n., sense I.1b   \n",
       "3    machine, n., sense I.2   \n",
       "4  machine, n., sense II.4a   \n",
       "\n",
       "                                       quotation_ids part_of_speech  \\\n",
       "0  [machine_nn01-38473950, machine_nn01-38473961,...             NN   \n",
       "1  [machine_nn01-38474243, machine_nn01-38474252,...             NN   \n",
       "2  [machine_nn01-38474102, machine_nn01-38474122,...             NN   \n",
       "3  [machine_nn01-38474151, machine_nn01-38474160,...             NN   \n",
       "4  [machine_nn01-38474320, machine_nn01-38474329,...             NN   \n",
       "\n",
       "   main_current_sense                                 semantic_class_ids  \\\n",
       "0               False  [[1, 111290, 118635, 119024, 120162, 120172], ...   \n",
       "1               False  [[153072, 160439, 163207, 163208, 163377, 1633...   \n",
       "2               False  [[1, 84689, 87987, 87988, 87989, 88083, 88109,...   \n",
       "3               False                          [[1, 8835, 25507, 29189]]   \n",
       "4               False  [[153072, 222360, 224508, 232933, 232967, 2330...   \n",
       "\n",
       "              provenance provenance_type semantic_class_last_id  \n",
       "0  machine_nn01-38473945            seed       [120172, 120173]  \n",
       "1  machine_nn01-38474233            seed               [163378]  \n",
       "2  machine_nn01-38474097            seed                [88126]  \n",
       "3  machine_nn01-38474140            seed                [29189]  \n",
       "4  machine_nn01-38474301            seed               [233139]  "
      ]
     },
     "execution_count": 37,
     "metadata": {},
     "output_type": "execute_result"
    }
   ],
   "source": [
    "extended_df.head()"
   ]
  },
  {
   "cell_type": "code",
   "execution_count": 38,
   "metadata": {},
   "outputs": [],
   "source": [
    "extended_df.to_pickle('./data/extended_df.pickle')"
   ]
  },
  {
   "cell_type": "code",
   "execution_count": 39,
   "metadata": {},
   "outputs": [],
   "source": [
    "extended_df = pd.read_pickle('./data/extended_df.pickle')"
   ]
  },
  {
   "cell_type": "code",
   "execution_count": 40,
   "metadata": {},
   "outputs": [
    {
     "data": {
      "text/plain": [
       "6925"
      ]
     },
     "execution_count": 40,
     "metadata": {},
     "output_type": "execute_result"
    }
   ],
   "source": [
    "len(set(extended_df.id))"
   ]
  },
  {
   "cell_type": "code",
   "execution_count": 41,
   "metadata": {},
   "outputs": [],
   "source": [
    "# sense_idx2quotations = {\n",
    "#                 sense_idx : query_oed(credentials,'sense',sense_idx,level='quotations')\n",
    "#                         for sense_idx in tqdm(set(extended_df.id))\n",
    "#                                 }\n",
    "\n",
    "# pickle.dump(sense_idx2quotations,open('./data/quotations.pickle','wb'))"
   ]
  },
  {
   "cell_type": "code",
   "execution_count": null,
   "metadata": {},
   "outputs": [],
   "source": []
  },
  {
   "cell_type": "code",
   "execution_count": 42,
   "metadata": {},
   "outputs": [],
   "source": [
    "sense_idx2quotations = pickle.load(open('./data/quotations.pickle','rb'))"
   ]
  },
  {
   "cell_type": "code",
   "execution_count": 43,
   "metadata": {},
   "outputs": [
    {
     "data": {
      "text/plain": [
       "[{'id': 'behaviour_nn01-24139069',\n",
       "  'text': {'keyword': 'behaviour',\n",
       "   'full_text': 'All local habitude or behaviour must be between two things or more, in a place so or so.',\n",
       "   'keyword_offset': 22},\n",
       "  'year': 1674,\n",
       "  'lemma': 'behaviour',\n",
       "  'source': {'title': 'Treat. Bulk & Selvedge',\n",
       "   'author': 'N. Fairfax',\n",
       "   'gender': 'male'},\n",
       "  'oed_url': 'https://www.oed.com/view/Entry/17197#eid24139069',\n",
       "  'word_id': 'behaviour_nn01',\n",
       "  'sense_id': 'behaviour_nn01-24139065',\n",
       "  'datestring': '1674',\n",
       "  'first_in_word': False,\n",
       "  'oed_reference': 'behaviour, n., sense 5',\n",
       "  'first_in_sense': True},\n",
       " {'id': 'behaviour_nn01-24139077',\n",
       "  'text': {'keyword': 'behaviour',\n",
       "   'full_text': 'In Chemistry the behaviour of different substances towards each other, in respect to combination and affinity.',\n",
       "   'keyword_offset': 17},\n",
       "  'year': 1866,\n",
       "  'lemma': 'behaviour',\n",
       "  'source': {'title': 'Reign of Law',\n",
       "   'author': 'Duke of Argyll',\n",
       "   'gender': 'male'},\n",
       "  'oed_url': 'https://www.oed.com/view/Entry/17197#eid24139077',\n",
       "  'word_id': 'behaviour_nn01',\n",
       "  'sense_id': 'behaviour_nn01-24139065',\n",
       "  'datestring': '1866',\n",
       "  'first_in_word': False,\n",
       "  'oed_reference': 'behaviour, n., sense 5',\n",
       "  'first_in_sense': False},\n",
       " {'id': 'behaviour_nn01-24139085',\n",
       "  'text': {'keyword': 'behaviour',\n",
       "   'full_text': 'To watch..the behaviour of the water which drains off a flat coast of mud.',\n",
       "   'keyword_offset': 14},\n",
       "  'year': 1878,\n",
       "  'lemma': 'behaviour',\n",
       "  'source': {'title': 'Physiogr.', 'author': 'T. H. Huxley', 'gender': 'male'},\n",
       "  'oed_url': 'https://www.oed.com/view/Entry/17197#eid24139085',\n",
       "  'word_id': 'behaviour_nn01',\n",
       "  'sense_id': 'behaviour_nn01-24139065',\n",
       "  'datestring': '1878',\n",
       "  'first_in_word': False,\n",
       "  'oed_reference': 'behaviour, n., sense 5',\n",
       "  'first_in_sense': False},\n",
       " {'id': 'behaviour_nn01-24139093',\n",
       "  'text': {'keyword': 'behaviour',\n",
       "   'full_text': 'The behaviour of the vessel during her maiden voyage across the Atlantic.',\n",
       "   'keyword_offset': 4},\n",
       "  'year': 1882,\n",
       "  'lemma': 'behaviour',\n",
       "  'source': {'title': 'Daily Tel.', 'author': None, 'gender': None},\n",
       "  'oed_url': 'https://www.oed.com/view/Entry/17197#eid24139093',\n",
       "  'word_id': 'behaviour_nn01',\n",
       "  'sense_id': 'behaviour_nn01-24139065',\n",
       "  'datestring': '1882',\n",
       "  'first_in_word': False,\n",
       "  'oed_reference': 'behaviour, n., sense 5',\n",
       "  'first_in_sense': False}]"
      ]
     },
     "execution_count": 43,
     "metadata": {},
     "output_type": "execute_result"
    }
   ],
   "source": [
    "list(sense_idx2quotations.values())[0]['data']"
   ]
  },
  {
   "cell_type": "code",
   "execution_count": 44,
   "metadata": {},
   "outputs": [
    {
     "data": {
      "text/html": [
       "<div>\n",
       "<style scoped>\n",
       "    .dataframe tbody tr th:only-of-type {\n",
       "        vertical-align: middle;\n",
       "    }\n",
       "\n",
       "    .dataframe tbody tr th {\n",
       "        vertical-align: top;\n",
       "    }\n",
       "\n",
       "    .dataframe thead th {\n",
       "        text-align: right;\n",
       "    }\n",
       "</style>\n",
       "<table border=\"1\" class=\"dataframe\">\n",
       "  <thead>\n",
       "    <tr style=\"text-align: right;\">\n",
       "      <th></th>\n",
       "      <th>id</th>\n",
       "      <th>text</th>\n",
       "      <th>year</th>\n",
       "      <th>lemma</th>\n",
       "      <th>source</th>\n",
       "      <th>oed_url</th>\n",
       "      <th>word_id</th>\n",
       "      <th>sense_id</th>\n",
       "      <th>datestring</th>\n",
       "      <th>first_in_word</th>\n",
       "      <th>oed_reference</th>\n",
       "      <th>first_in_sense</th>\n",
       "    </tr>\n",
       "  </thead>\n",
       "  <tbody>\n",
       "    <tr>\n",
       "      <td>0</td>\n",
       "      <td>behaviour_nn01-24139069</td>\n",
       "      <td>{'keyword': 'behaviour', 'full_text': 'All loc...</td>\n",
       "      <td>1674</td>\n",
       "      <td>behaviour</td>\n",
       "      <td>{'title': 'Treat. Bulk &amp; Selvedge', 'author': ...</td>\n",
       "      <td>https://www.oed.com/view/Entry/17197#eid24139069</td>\n",
       "      <td>behaviour_nn01</td>\n",
       "      <td>behaviour_nn01-24139065</td>\n",
       "      <td>1674</td>\n",
       "      <td>False</td>\n",
       "      <td>behaviour, n., sense 5</td>\n",
       "      <td>True</td>\n",
       "    </tr>\n",
       "    <tr>\n",
       "      <td>1</td>\n",
       "      <td>behaviour_nn01-24139077</td>\n",
       "      <td>{'keyword': 'behaviour', 'full_text': 'In Chem...</td>\n",
       "      <td>1866</td>\n",
       "      <td>behaviour</td>\n",
       "      <td>{'title': 'Reign of Law', 'author': 'Duke of A...</td>\n",
       "      <td>https://www.oed.com/view/Entry/17197#eid24139077</td>\n",
       "      <td>behaviour_nn01</td>\n",
       "      <td>behaviour_nn01-24139065</td>\n",
       "      <td>1866</td>\n",
       "      <td>False</td>\n",
       "      <td>behaviour, n., sense 5</td>\n",
       "      <td>False</td>\n",
       "    </tr>\n",
       "    <tr>\n",
       "      <td>2</td>\n",
       "      <td>behaviour_nn01-24139085</td>\n",
       "      <td>{'keyword': 'behaviour', 'full_text': 'To watc...</td>\n",
       "      <td>1878</td>\n",
       "      <td>behaviour</td>\n",
       "      <td>{'title': 'Physiogr.', 'author': 'T. H. Huxley...</td>\n",
       "      <td>https://www.oed.com/view/Entry/17197#eid24139085</td>\n",
       "      <td>behaviour_nn01</td>\n",
       "      <td>behaviour_nn01-24139065</td>\n",
       "      <td>1878</td>\n",
       "      <td>False</td>\n",
       "      <td>behaviour, n., sense 5</td>\n",
       "      <td>False</td>\n",
       "    </tr>\n",
       "    <tr>\n",
       "      <td>3</td>\n",
       "      <td>behaviour_nn01-24139093</td>\n",
       "      <td>{'keyword': 'behaviour', 'full_text': 'The beh...</td>\n",
       "      <td>1882</td>\n",
       "      <td>behaviour</td>\n",
       "      <td>{'title': 'Daily Tel.', 'author': None, 'gende...</td>\n",
       "      <td>https://www.oed.com/view/Entry/17197#eid24139093</td>\n",
       "      <td>behaviour_nn01</td>\n",
       "      <td>behaviour_nn01-24139065</td>\n",
       "      <td>1882</td>\n",
       "      <td>False</td>\n",
       "      <td>behaviour, n., sense 5</td>\n",
       "      <td>False</td>\n",
       "    </tr>\n",
       "    <tr>\n",
       "      <td>0</td>\n",
       "      <td>proceeding_nn01-28488935</td>\n",
       "      <td>{'keyword': 'procedyng', 'full_text': 'Iche of...</td>\n",
       "      <td>1425</td>\n",
       "      <td>proceeding</td>\n",
       "      <td>{'title': 'Rolls of Parl.', 'author': None, 'g...</td>\n",
       "      <td>https://www.oed.com/view/Entry/151779#eid28488935</td>\n",
       "      <td>proceeding_nn01</td>\n",
       "      <td>proceeding_nn01-28488926</td>\n",
       "      <td>1425</td>\n",
       "      <td>False</td>\n",
       "      <td>proceeding, n., sense 2a</td>\n",
       "      <td>True</td>\n",
       "    </tr>\n",
       "  </tbody>\n",
       "</table>\n",
       "</div>"
      ],
      "text/plain": [
       "                         id  \\\n",
       "0   behaviour_nn01-24139069   \n",
       "1   behaviour_nn01-24139077   \n",
       "2   behaviour_nn01-24139085   \n",
       "3   behaviour_nn01-24139093   \n",
       "0  proceeding_nn01-28488935   \n",
       "\n",
       "                                                text  year       lemma  \\\n",
       "0  {'keyword': 'behaviour', 'full_text': 'All loc...  1674   behaviour   \n",
       "1  {'keyword': 'behaviour', 'full_text': 'In Chem...  1866   behaviour   \n",
       "2  {'keyword': 'behaviour', 'full_text': 'To watc...  1878   behaviour   \n",
       "3  {'keyword': 'behaviour', 'full_text': 'The beh...  1882   behaviour   \n",
       "0  {'keyword': 'procedyng', 'full_text': 'Iche of...  1425  proceeding   \n",
       "\n",
       "                                              source  \\\n",
       "0  {'title': 'Treat. Bulk & Selvedge', 'author': ...   \n",
       "1  {'title': 'Reign of Law', 'author': 'Duke of A...   \n",
       "2  {'title': 'Physiogr.', 'author': 'T. H. Huxley...   \n",
       "3  {'title': 'Daily Tel.', 'author': None, 'gende...   \n",
       "0  {'title': 'Rolls of Parl.', 'author': None, 'g...   \n",
       "\n",
       "                                             oed_url          word_id  \\\n",
       "0   https://www.oed.com/view/Entry/17197#eid24139069   behaviour_nn01   \n",
       "1   https://www.oed.com/view/Entry/17197#eid24139077   behaviour_nn01   \n",
       "2   https://www.oed.com/view/Entry/17197#eid24139085   behaviour_nn01   \n",
       "3   https://www.oed.com/view/Entry/17197#eid24139093   behaviour_nn01   \n",
       "0  https://www.oed.com/view/Entry/151779#eid28488935  proceeding_nn01   \n",
       "\n",
       "                   sense_id datestring  first_in_word  \\\n",
       "0   behaviour_nn01-24139065       1674          False   \n",
       "1   behaviour_nn01-24139065       1866          False   \n",
       "2   behaviour_nn01-24139065       1878          False   \n",
       "3   behaviour_nn01-24139065       1882          False   \n",
       "0  proceeding_nn01-28488926       1425          False   \n",
       "\n",
       "              oed_reference  first_in_sense  \n",
       "0    behaviour, n., sense 5            True  \n",
       "1    behaviour, n., sense 5           False  \n",
       "2    behaviour, n., sense 5           False  \n",
       "3    behaviour, n., sense 5           False  \n",
       "0  proceeding, n., sense 2a            True  "
      ]
     },
     "execution_count": 44,
     "metadata": {},
     "output_type": "execute_result"
    }
   ],
   "source": [
    "df_quot = pd.concat([pd.DataFrame(q['data']) for q in sense_idx2quotations.values()])\n",
    "df_quot.head()"
   ]
  },
  {
   "cell_type": "code",
   "execution_count": 45,
   "metadata": {},
   "outputs": [
    {
     "data": {
      "text/plain": [
       "(35246, 12)"
      ]
     },
     "execution_count": 45,
     "metadata": {},
     "output_type": "execute_result"
    }
   ],
   "source": [
    "df_quot.shape"
   ]
  },
  {
   "cell_type": "code",
   "execution_count": 46,
   "metadata": {},
   "outputs": [
    {
     "data": {
      "text/html": [
       "<div>\n",
       "<style scoped>\n",
       "    .dataframe tbody tr th:only-of-type {\n",
       "        vertical-align: middle;\n",
       "    }\n",
       "\n",
       "    .dataframe tbody tr th {\n",
       "        vertical-align: top;\n",
       "    }\n",
       "\n",
       "    .dataframe thead th {\n",
       "        text-align: right;\n",
       "    }\n",
       "</style>\n",
       "<table border=\"1\" class=\"dataframe\">\n",
       "  <thead>\n",
       "    <tr style=\"text-align: right;\">\n",
       "      <th></th>\n",
       "      <th>id</th>\n",
       "      <th>meta</th>\n",
       "      <th>lemma</th>\n",
       "      <th>notes</th>\n",
       "      <th>oed_url</th>\n",
       "      <th>word_id</th>\n",
       "      <th>daterange</th>\n",
       "      <th>first_use</th>\n",
       "      <th>categories</th>\n",
       "      <th>definition</th>\n",
       "      <th>...</th>\n",
       "      <th>main_current_sense</th>\n",
       "      <th>semantic_class_ids</th>\n",
       "      <th>provenance</th>\n",
       "      <th>provenance_type</th>\n",
       "      <th>semantic_class_last_id</th>\n",
       "      <th>id_quotation</th>\n",
       "      <th>sense_id</th>\n",
       "      <th>text</th>\n",
       "      <th>year</th>\n",
       "      <th>source</th>\n",
       "    </tr>\n",
       "  </thead>\n",
       "  <tbody>\n",
       "    <tr>\n",
       "      <td>0</td>\n",
       "      <td>machine_nn01-38473945</td>\n",
       "      <td>{'created': 1904, 'revised': True, 'updated': ...</td>\n",
       "      <td>machine</td>\n",
       "      <td>[]</td>\n",
       "      <td>https://www.oed.com/view/Entry/111850#eid38473945</td>\n",
       "      <td>machine_nn01</td>\n",
       "      <td>{'end': None, 'start': 1545, 'obsolete': False...</td>\n",
       "      <td>J. Schäfer</td>\n",
       "      <td>{'topic': [], 'region': [], 'register': [['rar...</td>\n",
       "      <td>A material or immaterial structure, esp. the f...</td>\n",
       "      <td>...</td>\n",
       "      <td>False</td>\n",
       "      <td>[[1, 111290, 118635, 119024, 120162, 120172], ...</td>\n",
       "      <td>machine_nn01-38473945</td>\n",
       "      <td>seed</td>\n",
       "      <td>[120172, 120173]</td>\n",
       "      <td>machine_nn01-38473950</td>\n",
       "      <td>machine_nn01-38473945</td>\n",
       "      <td>{'keyword': 'machyne', 'full_text': 'The hole ...</td>\n",
       "      <td>1545</td>\n",
       "      <td>{'title': 'Early Mod. Eng. Lexicogr.', 'author...</td>\n",
       "    </tr>\n",
       "    <tr>\n",
       "      <td>1</td>\n",
       "      <td>machine_nn01-38473945</td>\n",
       "      <td>{'created': 1904, 'revised': True, 'updated': ...</td>\n",
       "      <td>machine</td>\n",
       "      <td>[]</td>\n",
       "      <td>https://www.oed.com/view/Entry/111850#eid38473945</td>\n",
       "      <td>machine_nn01</td>\n",
       "      <td>{'end': None, 'start': 1545, 'obsolete': False...</td>\n",
       "      <td>J. Schäfer</td>\n",
       "      <td>{'topic': [], 'region': [], 'register': [['rar...</td>\n",
       "      <td>A material or immaterial structure, esp. the f...</td>\n",
       "      <td>...</td>\n",
       "      <td>False</td>\n",
       "      <td>[[1, 111290, 118635, 119024, 120162, 120172], ...</td>\n",
       "      <td>machine_nn01-38473945</td>\n",
       "      <td>seed</td>\n",
       "      <td>[120172, 120173]</td>\n",
       "      <td>machine_nn01-38473961</td>\n",
       "      <td>machine_nn01-38473945</td>\n",
       "      <td>{'keyword': 'Machine', 'full_text': 'Machine, ...</td>\n",
       "      <td>1545</td>\n",
       "      <td>{'title': 'Early Mod. Eng. Lexicogr.', 'author...</td>\n",
       "    </tr>\n",
       "    <tr>\n",
       "      <td>2</td>\n",
       "      <td>machine_nn01-38473945</td>\n",
       "      <td>{'created': 1904, 'revised': True, 'updated': ...</td>\n",
       "      <td>machine</td>\n",
       "      <td>[]</td>\n",
       "      <td>https://www.oed.com/view/Entry/111850#eid38473945</td>\n",
       "      <td>machine_nn01</td>\n",
       "      <td>{'end': None, 'start': 1545, 'obsolete': False...</td>\n",
       "      <td>J. Schäfer</td>\n",
       "      <td>{'topic': [], 'region': [], 'register': [['rar...</td>\n",
       "      <td>A material or immaterial structure, esp. the f...</td>\n",
       "      <td>...</td>\n",
       "      <td>False</td>\n",
       "      <td>[[1, 111290, 118635, 119024, 120162, 120172], ...</td>\n",
       "      <td>machine_nn01-38473945</td>\n",
       "      <td>seed</td>\n",
       "      <td>[120172, 120173]</td>\n",
       "      <td>machine_nn01-38473973</td>\n",
       "      <td>machine_nn01-38473945</td>\n",
       "      <td>{'keyword': 'machine', 'full_text': 'The maist...</td>\n",
       "      <td>1550</td>\n",
       "      <td>{'title': 'Complaynt Scotl.', 'author': None, ...</td>\n",
       "    </tr>\n",
       "    <tr>\n",
       "      <td>3</td>\n",
       "      <td>machine_nn01-38473945</td>\n",
       "      <td>{'created': 1904, 'revised': True, 'updated': ...</td>\n",
       "      <td>machine</td>\n",
       "      <td>[]</td>\n",
       "      <td>https://www.oed.com/view/Entry/111850#eid38473945</td>\n",
       "      <td>machine_nn01</td>\n",
       "      <td>{'end': None, 'start': 1545, 'obsolete': False...</td>\n",
       "      <td>J. Schäfer</td>\n",
       "      <td>{'topic': [], 'region': [], 'register': [['rar...</td>\n",
       "      <td>A material or immaterial structure, esp. the f...</td>\n",
       "      <td>...</td>\n",
       "      <td>False</td>\n",
       "      <td>[[1, 111290, 118635, 119024, 120162, 120172], ...</td>\n",
       "      <td>machine_nn01-38473945</td>\n",
       "      <td>seed</td>\n",
       "      <td>[120172, 120173]</td>\n",
       "      <td>machine_nn01-38473981</td>\n",
       "      <td>machine_nn01-38473945</td>\n",
       "      <td>{'keyword': 'machin', 'full_text': 'Be his wis...</td>\n",
       "      <td>1599</td>\n",
       "      <td>{'title': 'Hymnes', 'author': 'A. Hume', 'gend...</td>\n",
       "    </tr>\n",
       "    <tr>\n",
       "      <td>4</td>\n",
       "      <td>machine_nn01-38473945</td>\n",
       "      <td>{'created': 1904, 'revised': True, 'updated': ...</td>\n",
       "      <td>machine</td>\n",
       "      <td>[]</td>\n",
       "      <td>https://www.oed.com/view/Entry/111850#eid38473945</td>\n",
       "      <td>machine_nn01</td>\n",
       "      <td>{'end': None, 'start': 1545, 'obsolete': False...</td>\n",
       "      <td>J. Schäfer</td>\n",
       "      <td>{'topic': [], 'region': [], 'register': [['rar...</td>\n",
       "      <td>A material or immaterial structure, esp. the f...</td>\n",
       "      <td>...</td>\n",
       "      <td>False</td>\n",
       "      <td>[[1, 111290, 118635, 119024, 120162, 120172], ...</td>\n",
       "      <td>machine_nn01-38473945</td>\n",
       "      <td>seed</td>\n",
       "      <td>[120172, 120173]</td>\n",
       "      <td>machine_nn01-38473999</td>\n",
       "      <td>machine_nn01-38473945</td>\n",
       "      <td>{'keyword': 'Machine', 'full_text': 'They that...</td>\n",
       "      <td>1673</td>\n",
       "      <td>{'title': 'Hist. Quinq-articularis', 'author':...</td>\n",
       "    </tr>\n",
       "  </tbody>\n",
       "</table>\n",
       "<p>5 rows × 24 columns</p>\n",
       "</div>"
      ],
      "text/plain": [
       "                      id                                               meta  \\\n",
       "0  machine_nn01-38473945  {'created': 1904, 'revised': True, 'updated': ...   \n",
       "1  machine_nn01-38473945  {'created': 1904, 'revised': True, 'updated': ...   \n",
       "2  machine_nn01-38473945  {'created': 1904, 'revised': True, 'updated': ...   \n",
       "3  machine_nn01-38473945  {'created': 1904, 'revised': True, 'updated': ...   \n",
       "4  machine_nn01-38473945  {'created': 1904, 'revised': True, 'updated': ...   \n",
       "\n",
       "     lemma notes                                            oed_url  \\\n",
       "0  machine    []  https://www.oed.com/view/Entry/111850#eid38473945   \n",
       "1  machine    []  https://www.oed.com/view/Entry/111850#eid38473945   \n",
       "2  machine    []  https://www.oed.com/view/Entry/111850#eid38473945   \n",
       "3  machine    []  https://www.oed.com/view/Entry/111850#eid38473945   \n",
       "4  machine    []  https://www.oed.com/view/Entry/111850#eid38473945   \n",
       "\n",
       "        word_id                                          daterange  \\\n",
       "0  machine_nn01  {'end': None, 'start': 1545, 'obsolete': False...   \n",
       "1  machine_nn01  {'end': None, 'start': 1545, 'obsolete': False...   \n",
       "2  machine_nn01  {'end': None, 'start': 1545, 'obsolete': False...   \n",
       "3  machine_nn01  {'end': None, 'start': 1545, 'obsolete': False...   \n",
       "4  machine_nn01  {'end': None, 'start': 1545, 'obsolete': False...   \n",
       "\n",
       "    first_use                                         categories  \\\n",
       "0  J. Schäfer  {'topic': [], 'region': [], 'register': [['rar...   \n",
       "1  J. Schäfer  {'topic': [], 'region': [], 'register': [['rar...   \n",
       "2  J. Schäfer  {'topic': [], 'region': [], 'register': [['rar...   \n",
       "3  J. Schäfer  {'topic': [], 'region': [], 'register': [['rar...   \n",
       "4  J. Schäfer  {'topic': [], 'region': [], 'register': [['rar...   \n",
       "\n",
       "                                          definition  ... main_current_sense  \\\n",
       "0  A material or immaterial structure, esp. the f...  ...              False   \n",
       "1  A material or immaterial structure, esp. the f...  ...              False   \n",
       "2  A material or immaterial structure, esp. the f...  ...              False   \n",
       "3  A material or immaterial structure, esp. the f...  ...              False   \n",
       "4  A material or immaterial structure, esp. the f...  ...              False   \n",
       "\n",
       "                                  semantic_class_ids             provenance  \\\n",
       "0  [[1, 111290, 118635, 119024, 120162, 120172], ...  machine_nn01-38473945   \n",
       "1  [[1, 111290, 118635, 119024, 120162, 120172], ...  machine_nn01-38473945   \n",
       "2  [[1, 111290, 118635, 119024, 120162, 120172], ...  machine_nn01-38473945   \n",
       "3  [[1, 111290, 118635, 119024, 120162, 120172], ...  machine_nn01-38473945   \n",
       "4  [[1, 111290, 118635, 119024, 120162, 120172], ...  machine_nn01-38473945   \n",
       "\n",
       "  provenance_type  semantic_class_last_id           id_quotation  \\\n",
       "0            seed        [120172, 120173]  machine_nn01-38473950   \n",
       "1            seed        [120172, 120173]  machine_nn01-38473961   \n",
       "2            seed        [120172, 120173]  machine_nn01-38473973   \n",
       "3            seed        [120172, 120173]  machine_nn01-38473981   \n",
       "4            seed        [120172, 120173]  machine_nn01-38473999   \n",
       "\n",
       "                sense_id                                               text  \\\n",
       "0  machine_nn01-38473945  {'keyword': 'machyne', 'full_text': 'The hole ...   \n",
       "1  machine_nn01-38473945  {'keyword': 'Machine', 'full_text': 'Machine, ...   \n",
       "2  machine_nn01-38473945  {'keyword': 'machine', 'full_text': 'The maist...   \n",
       "3  machine_nn01-38473945  {'keyword': 'machin', 'full_text': 'Be his wis...   \n",
       "4  machine_nn01-38473945  {'keyword': 'Machine', 'full_text': 'They that...   \n",
       "\n",
       "   year                                             source  \n",
       "0  1545  {'title': 'Early Mod. Eng. Lexicogr.', 'author...  \n",
       "1  1545  {'title': 'Early Mod. Eng. Lexicogr.', 'author...  \n",
       "2  1550  {'title': 'Complaynt Scotl.', 'author': None, ...  \n",
       "3  1599  {'title': 'Hymnes', 'author': 'A. Hume', 'gend...  \n",
       "4  1673  {'title': 'Hist. Quinq-articularis', 'author':...  \n",
       "\n",
       "[5 rows x 24 columns]"
      ]
     },
     "execution_count": 46,
     "metadata": {},
     "output_type": "execute_result"
    }
   ],
   "source": [
    "merged = extended_df.merge(df_quot[['id','sense_id',\"text\",\"year\",\"source\"]],left_on='id',right_on='sense_id',suffixes=['',\"_quotation\"])\n",
    "merged.head()"
   ]
  },
  {
   "cell_type": "code",
   "execution_count": 47,
   "metadata": {},
   "outputs": [],
   "source": [
    "exclude_senses = {\"machine_nn01-38474097\", \"machine_nn01-38474140\", \"machine_nn01-38474301\",\n",
    "                  \"machine_nn01-38474405\", \"machine_nn01-38475994\", \"machine_nn01-38476096\",\n",
    "                  \"machine_nn01-38476316\", \"machine_nn01-38474974\", \"machine_nn01-38476397\",\n",
    "                 \"machine_nn01-38475013\", \"machine_nn01-38475772\", \"machine_nn01-38476566\",\n",
    "                   \"machine_nn01-38476245\", \"machine_nn01-38475835\",\"machine_nn01-38473945\"}\n",
    "\n",
    "include_senses = {'machine_nn01-38474233','machine_nn01-38474548','machine_nn01-38475164','machine_nn01-38475286',\n",
    "          \"machine_nn01-38474607\",\"machine_nn01-38475923\",\"machine_nn01-38474877\",\"machine_nn01-38475046\",\n",
    "          \"machine_nn01-38475099\"\n",
    "         }"
   ]
  },
  {
   "cell_type": "code",
   "execution_count": 48,
   "metadata": {},
   "outputs": [
    {
     "name": "stdout",
     "output_type": "stream",
     "text": [
      "{'201575', '214198', '214572', '202100', '208136', '212078', '202575', '206654', '88147', '202421', '163378', '202530', '75661'}\n",
      "(38749, 24)\n",
      "(4109, 24)\n"
     ]
    }
   ],
   "source": [
    "def select_senses(df,list_senses):\n",
    "    sc_ids = set([s for l in df.loc[df.id.isin(list_senses)].semantic_class_last_id.to_list() for s in l])\n",
    "    print(sc_ids)\n",
    "    print(df.shape)\n",
    "    overlap = lambda x,l: bool(set(x).intersection(l))\n",
    "    \n",
    "    df = df.loc[(df.id.isin(list_senses))  | (df.provenance.isin(list_senses)) | (df.provenance.isin(sc_ids))]\n",
    "    print(df.shape)\n",
    "    return df\n",
    "\n",
    "df = select_senses(merged,include_senses)"
   ]
  },
  {
   "cell_type": "code",
   "execution_count": 49,
   "metadata": {},
   "outputs": [
    {
     "data": {
      "text/plain": [
       "759"
      ]
     },
     "execution_count": 49,
     "metadata": {},
     "output_type": "execute_result"
    }
   ],
   "source": [
    "len(df.lemma.unique())"
   ]
  },
  {
   "cell_type": "code",
   "execution_count": 50,
   "metadata": {},
   "outputs": [
    {
     "data": {
      "text/plain": [
       "machine           180\n",
       "fleet              34\n",
       "boat               34\n",
       "set                32\n",
       "vessel             28\n",
       "                 ... \n",
       "nacelle             1\n",
       "mail diligence      1\n",
       "post-equipage       1\n",
       "boatage             1\n",
       "battle-ram          1\n",
       "Name: lemma, Length: 759, dtype: int64"
      ]
     },
     "execution_count": 50,
     "metadata": {},
     "output_type": "execute_result"
    }
   ],
   "source": [
    "df.lemma.value_counts()"
   ]
  },
  {
   "cell_type": "code",
   "execution_count": 51,
   "metadata": {},
   "outputs": [],
   "source": [
    "# def filter_by_senses(df,list_senses):\n",
    "#     sc_ids = set([s for l in df.loc[df.id.isin(list_senses)].semantic_class_last_id.to_list() for s in l])\n",
    "#     print(sc_ids)\n",
    "#     overlap = lambda x,l: bool(set(x).intersection(l))\n",
    "#     # remove those for which id appears in list_senses\n",
    "#     df = df.loc[~df.id.isin(list_senses)]\n",
    "#     print(df.shape)\n",
    "#     # remove synonyms for which the provenance list an id for list_senses\n",
    "#     df = df.loc[~df.provenance.isin(list_senses)]\n",
    "#     df = df.loc[~df.provenance.isin(sc_ids)]\n",
    "\n",
    "#     print(df.shape)\n",
    "#     return df\n",
    "\n",
    "# df = filter_by_senses(extended_df,exclude_senses)"
   ]
  },
  {
   "cell_type": "code",
   "execution_count": 52,
   "metadata": {},
   "outputs": [
    {
     "data": {
      "text/plain": [
       "(1113, 24)"
      ]
     },
     "execution_count": 52,
     "metadata": {},
     "output_type": "execute_result"
    }
   ],
   "source": [
    "df_sub = df[df.provenance_type.isin(['seed','synonym'])]\n",
    "df_sub.shape"
   ]
  },
  {
   "cell_type": "code",
   "execution_count": 53,
   "metadata": {},
   "outputs": [],
   "source": [
    "import numpy as np"
   ]
  },
  {
   "cell_type": "code",
   "execution_count": 91,
   "metadata": {},
   "outputs": [],
   "source": [
    "def process_quotations(text_col):\n",
    "    \n",
    "    punct = [',','.',' ','?','!']\n",
    "    sentence = text_col[\"full_text\"]\n",
    "    \n",
    "    \n",
    "    \n",
    "    sentence = np.array([i for i in sentence])\n",
    "    offset = text_col[\"keyword_offset\"]\n",
    "    target = text_col[\"keyword\"]\n",
    "    \n",
    "    if not target:\n",
    "        return None\n",
    "    \n",
    "    labels = np.array([0]*len(sentence))\n",
    "    end = offset + len(target)\n",
    "    labels[offset:end] = 1\n",
    "    \n",
    "    for ch in punct:\n",
    "        labels[np.where(sentence==ch)] = 2\n",
    "    \n",
    "    rows = []\n",
    "    word,labs = [],[]\n",
    "    \n",
    "    for i in range(len(sentence)):\n",
    "        if labels[i] < 2:\n",
    "            word.append(sentence[i])\n",
    "            labs.append(labels[i])\n",
    "        \n",
    "        if labels[i] == 2 and word:\n",
    "            rows.append((''.join(word),{0:\"notmachine\",1:\"machine\"}[list(set(labs))[0]]))\n",
    "            word,labs = [],[]\n",
    "    return rows\n",
    "    \n"
   ]
  },
  {
   "cell_type": "code",
   "execution_count": 92,
   "metadata": {},
   "outputs": [
    {
     "name": "stderr",
     "output_type": "stream",
     "text": [
      "/usr/local/lib/python3.7/site-packages/ipykernel_launcher.py:1: SettingWithCopyWarning: \n",
      "A value is trying to be set on a copy of a slice from a DataFrame.\n",
      "Try using .loc[row_indexer,col_indexer] = value instead\n",
      "\n",
      "See the caveats in the documentation: http://pandas.pydata.org/pandas-docs/stable/user_guide/indexing.html#returning-a-view-versus-a-copy\n",
      "  \"\"\"Entry point for launching an IPython kernel.\n"
     ]
    }
   ],
   "source": [
    "df_sub[\"tagged\"] = df_sub.text.apply(process_quotations)"
   ]
  },
  {
   "cell_type": "code",
   "execution_count": 93,
   "metadata": {},
   "outputs": [
    {
     "name": "stderr",
     "output_type": "stream",
     "text": [
      "/usr/local/lib/python3.7/site-packages/ipykernel_launcher.py:1: SettingWithCopyWarning: \n",
      "A value is trying to be set on a copy of a slice from a DataFrame.\n",
      "Try using .loc[row_indexer,col_indexer] = value instead\n",
      "\n",
      "See the caveats in the documentation: http://pandas.pydata.org/pandas-docs/stable/user_guide/indexing.html#returning-a-view-versus-a-copy\n",
      "  \"\"\"Entry point for launching an IPython kernel.\n"
     ]
    }
   ],
   "source": [
    "df_sub['partition'] = [np.random.choice(['train','dev','test'], p=[0.6, 0.2, 0.2]) for _ in range(df_sub.shape[0])]"
   ]
  },
  {
   "cell_type": "code",
   "execution_count": 94,
   "metadata": {},
   "outputs": [],
   "source": [
    "df_train = df_sub.loc[df_sub.partition==\"train\"]\n",
    "\n",
    "df_test = df_sub.loc[df_sub.partition==\"test\"]\n",
    "\n",
    "df_dev = df_sub.loc[df_sub.partition==\"dev\"]"
   ]
  },
  {
   "cell_type": "code",
   "execution_count": 99,
   "metadata": {},
   "outputs": [],
   "source": [
    "def df2string(df):\n",
    "    return \"\\n\\n\".join(['\\n'.join(['\\t'.join(e) for e in l]) for l in df.tagged.to_list() if l])\n",
    "\n",
    "train,test,dev = df2string(df_train),df2string(df_test),df2string(df_dev)"
   ]
  },
  {
   "cell_type": "code",
   "execution_count": 100,
   "metadata": {},
   "outputs": [],
   "source": [
    "with open('./data/train.csv','w') as out_doc:\n",
    "    out_doc.write(train)\n",
    "with open('./data/test.csv','w') as out_doc:\n",
    "    out_doc.write(test)\n",
    "with open('./data/dev.csv','w') as out_doc:\n",
    "    out_doc.write(dev)"
   ]
  },
  {
   "cell_type": "code",
   "execution_count": 101,
   "metadata": {},
   "outputs": [
    {
     "name": "stdout",
     "output_type": "stream",
     "text": [
      "2020-10-01 22:50:41,512 Reading data from data\n",
      "2020-10-01 22:50:41,513 Train: data/train.csv\n",
      "2020-10-01 22:50:41,514 Dev: data/dev.csv\n",
      "2020-10-01 22:50:41,515 Test: data/test.csv\n"
     ]
    }
   ],
   "source": [
    "from flair.data import Corpus\n",
    "from flair.datasets import ColumnCorpus\n",
    "\n",
    "columns = {0: 'text', 1: 'label'}\n",
    "\n",
    "\n",
    "path = Path(\"./data\")\n",
    "corpus: Corpus = ColumnCorpus(path, columns,\n",
    "                              train_file=f'train.csv',\n",
    "                              test_file=f'test.csv',\n",
    "                              dev_file= f'dev.csv',skip_first_line=False)"
   ]
  },
  {
   "cell_type": "code",
   "execution_count": 102,
   "metadata": {},
   "outputs": [
    {
     "name": "stdout",
     "output_type": "stream",
     "text": [
      "Dictionary with 6 tags: <unk>, O, notmachine, machine, <START>, <STOP>\n"
     ]
    }
   ],
   "source": [
    "# 3. make the tag dictionary from the corpus\n",
    "tag_dictionary = corpus.make_tag_dictionary(tag_type='label')\n",
    "print(tag_dictionary)\n"
   ]
  },
  {
   "cell_type": "code",
   "execution_count": 103,
   "metadata": {},
   "outputs": [
    {
     "name": "stderr",
     "output_type": "stream",
     "text": [
      "I1001 22:51:01.743118 4495916480 utils.py:422] loading Word2VecKeyedVectors object from /Users/kbeelen/.flair/embeddings/glove.gensim\n",
      "I1001 22:51:03.038181 4495916480 utils.py:461] loading vectors from /Users/kbeelen/.flair/embeddings/glove.gensim.vectors.npy with mmap=None\n",
      "I1001 22:51:03.200335 4495916480 utils.py:494] setting ignored attribute vectors_norm to None\n",
      "I1001 22:51:03.201395 4495916480 utils.py:428] loaded /Users/kbeelen/.flair/embeddings/glove.gensim\n"
     ]
    },
    {
     "name": "stdout",
     "output_type": "stream",
     "text": [
      "2020-10-01 22:51:03,756 ----------------------------------------------------------------------------------------------------\n",
      "2020-10-01 22:51:03,757 Model: \"SequenceTagger(\n",
      "  (embeddings): StackedEmbeddings(\n",
      "    (list_embedding_0): WordEmbeddings('glove')\n",
      "    (list_embedding_1): FlairEmbeddings(\n",
      "      (lm): LanguageModel(\n",
      "        (drop): Dropout(p=0.05, inplace=False)\n",
      "        (encoder): Embedding(300, 100)\n",
      "        (rnn): LSTM(100, 2048)\n",
      "        (decoder): Linear(in_features=2048, out_features=300, bias=True)\n",
      "      )\n",
      "    )\n",
      "    (list_embedding_2): FlairEmbeddings(\n",
      "      (lm): LanguageModel(\n",
      "        (drop): Dropout(p=0.05, inplace=False)\n",
      "        (encoder): Embedding(300, 100)\n",
      "        (rnn): LSTM(100, 2048)\n",
      "        (decoder): Linear(in_features=2048, out_features=300, bias=True)\n",
      "      )\n",
      "    )\n",
      "  )\n",
      "  (word_dropout): WordDropout(p=0.05)\n",
      "  (locked_dropout): LockedDropout(p=0.5)\n",
      "  (embedding2nn): Linear(in_features=4196, out_features=4196, bias=True)\n",
      "  (rnn): LSTM(4196, 256, batch_first=True, bidirectional=True)\n",
      "  (linear): Linear(in_features=512, out_features=6, bias=True)\n",
      "  (beta): 1.0\n",
      "  (weights): None\n",
      "  (weight_tensor) None\n",
      ")\"\n",
      "2020-10-01 22:51:03,758 ----------------------------------------------------------------------------------------------------\n",
      "2020-10-01 22:51:03,759 Corpus: \"Corpus: 668 train + 201 dev + 218 test sentences\"\n",
      "2020-10-01 22:51:03,759 ----------------------------------------------------------------------------------------------------\n",
      "2020-10-01 22:51:03,760 Parameters:\n",
      "2020-10-01 22:51:03,760  - learning_rate: \"0.1\"\n",
      "2020-10-01 22:51:03,761  - mini_batch_size: \"32\"\n",
      "2020-10-01 22:51:03,762  - patience: \"3\"\n",
      "2020-10-01 22:51:03,762  - anneal_factor: \"0.5\"\n",
      "2020-10-01 22:51:03,763  - max_epochs: \"150\"\n",
      "2020-10-01 22:51:03,764  - shuffle: \"True\"\n",
      "2020-10-01 22:51:03,764  - train_with_dev: \"False\"\n",
      "2020-10-01 22:51:03,765  - batch_growth_annealing: \"False\"\n",
      "2020-10-01 22:51:03,766 ----------------------------------------------------------------------------------------------------\n",
      "2020-10-01 22:51:03,766 Model training base path: \"resources/taggers/example-pos\"\n",
      "2020-10-01 22:51:03,767 ----------------------------------------------------------------------------------------------------\n",
      "2020-10-01 22:51:03,768 Device: cpu\n",
      "2020-10-01 22:51:03,768 ----------------------------------------------------------------------------------------------------\n",
      "2020-10-01 22:51:03,769 Embeddings storage mode: cpu\n",
      "2020-10-01 22:51:03,771 ----------------------------------------------------------------------------------------------------\n",
      "2020-10-01 22:51:09,918 epoch 1 - iter 2/21 - loss 28.12882042 - samples/sec: 10.41 - lr: 0.100000\n",
      "2020-10-01 22:51:17,412 epoch 1 - iter 4/21 - loss 18.04096889 - samples/sec: 8.54 - lr: 0.100000\n",
      "2020-10-01 22:51:27,552 epoch 1 - iter 6/21 - loss 13.59666459 - samples/sec: 6.31 - lr: 0.100000\n",
      "2020-10-01 22:51:36,632 epoch 1 - iter 8/21 - loss 11.36766118 - samples/sec: 7.05 - lr: 0.100000\n",
      "2020-10-01 22:51:46,952 epoch 1 - iter 10/21 - loss 10.01266298 - samples/sec: 6.20 - lr: 0.100000\n",
      "2020-10-01 22:51:54,166 epoch 1 - iter 12/21 - loss 9.03079319 - samples/sec: 8.87 - lr: 0.100000\n",
      "2020-10-01 22:52:01,828 epoch 1 - iter 14/21 - loss 8.29589239 - samples/sec: 8.35 - lr: 0.100000\n",
      "2020-10-01 22:52:10,610 epoch 1 - iter 16/21 - loss 7.72665009 - samples/sec: 7.29 - lr: 0.100000\n",
      "2020-10-01 22:52:20,057 epoch 1 - iter 18/21 - loss 7.31231545 - samples/sec: 6.78 - lr: 0.100000\n",
      "2020-10-01 22:52:29,596 epoch 1 - iter 20/21 - loss 6.93337913 - samples/sec: 6.71 - lr: 0.100000\n",
      "2020-10-01 22:52:34,578 ----------------------------------------------------------------------------------------------------\n",
      "2020-10-01 22:52:34,579 EPOCH 1 done: loss 6.7517 - lr 0.1000000\n",
      "2020-10-01 22:52:58,860 DEV : loss 2.6299357414245605 - score 0.9369\n",
      "2020-10-01 22:52:58,874 BAD EPOCHS (no improvement): 0\n",
      "saving best model\n",
      "2020-10-01 22:53:02,921 ----------------------------------------------------------------------------------------------------\n",
      "2020-10-01 22:53:04,160 epoch 2 - iter 2/21 - loss 2.86670840 - samples/sec: 51.73 - lr: 0.100000\n",
      "2020-10-01 22:53:05,604 epoch 2 - iter 4/21 - loss 3.07379836 - samples/sec: 44.35 - lr: 0.100000\n",
      "2020-10-01 22:53:07,474 epoch 2 - iter 6/21 - loss 2.89112465 - samples/sec: 34.24 - lr: 0.100000\n",
      "2020-10-01 22:53:09,158 epoch 2 - iter 8/21 - loss 2.91029903 - samples/sec: 38.02 - lr: 0.100000\n",
      "2020-10-01 22:53:10,415 epoch 2 - iter 10/21 - loss 2.98103437 - samples/sec: 50.95 - lr: 0.100000\n",
      "2020-10-01 22:53:11,688 epoch 2 - iter 12/21 - loss 3.08208766 - samples/sec: 50.32 - lr: 0.100000\n",
      "2020-10-01 22:53:12,924 epoch 2 - iter 14/21 - loss 3.04863686 - samples/sec: 51.84 - lr: 0.100000\n",
      "2020-10-01 22:53:14,301 epoch 2 - iter 16/21 - loss 3.11704667 - samples/sec: 46.50 - lr: 0.100000\n",
      "2020-10-01 22:53:15,628 epoch 2 - iter 18/21 - loss 3.08231188 - samples/sec: 48.27 - lr: 0.100000\n",
      "2020-10-01 22:53:17,107 epoch 2 - iter 20/21 - loss 3.05157616 - samples/sec: 43.32 - lr: 0.100000\n",
      "2020-10-01 22:53:17,838 ----------------------------------------------------------------------------------------------------\n",
      "2020-10-01 22:53:17,839 EPOCH 2 done: loss 3.0335 - lr 0.1000000\n",
      "2020-10-01 22:53:19,402 DEV : loss 2.370863199234009 - score 0.9389\n",
      "2020-10-01 22:53:19,416 BAD EPOCHS (no improvement): 0\n",
      "saving best model\n",
      "2020-10-01 22:53:22,640 ----------------------------------------------------------------------------------------------------\n",
      "2020-10-01 22:53:23,800 epoch 3 - iter 2/21 - loss 3.02912307 - samples/sec: 55.31 - lr: 0.100000\n",
      "2020-10-01 22:53:25,040 epoch 3 - iter 4/21 - loss 2.86399430 - samples/sec: 51.64 - lr: 0.100000\n",
      "2020-10-01 22:53:26,551 epoch 3 - iter 6/21 - loss 2.71074271 - samples/sec: 42.37 - lr: 0.100000\n",
      "2020-10-01 22:53:27,935 epoch 3 - iter 8/21 - loss 2.64486068 - samples/sec: 46.29 - lr: 0.100000\n",
      "2020-10-01 22:53:29,632 epoch 3 - iter 10/21 - loss 2.61790638 - samples/sec: 37.73 - lr: 0.100000\n",
      "2020-10-01 22:53:31,144 epoch 3 - iter 12/21 - loss 2.53938782 - samples/sec: 42.38 - lr: 0.100000\n",
      "2020-10-01 22:53:33,172 epoch 3 - iter 14/21 - loss 2.66950645 - samples/sec: 31.57 - lr: 0.100000\n",
      "2020-10-01 22:53:34,944 epoch 3 - iter 16/21 - loss 2.77569723 - samples/sec: 36.15 - lr: 0.100000\n",
      "2020-10-01 22:53:36,319 epoch 3 - iter 18/21 - loss 2.76043436 - samples/sec: 46.57 - lr: 0.100000\n",
      "2020-10-01 22:53:37,547 epoch 3 - iter 20/21 - loss 2.74740608 - samples/sec: 52.16 - lr: 0.100000\n",
      "2020-10-01 22:53:38,080 ----------------------------------------------------------------------------------------------------\n",
      "2020-10-01 22:53:38,081 EPOCH 3 done: loss 2.7343 - lr 0.1000000\n",
      "2020-10-01 22:53:39,491 DEV : loss 2.890554189682007 - score 0.9355\n",
      "2020-10-01 22:53:39,506 BAD EPOCHS (no improvement): 1\n",
      "2020-10-01 22:53:39,515 ----------------------------------------------------------------------------------------------------\n",
      "2020-10-01 22:53:41,086 epoch 4 - iter 2/21 - loss 3.17391622 - samples/sec: 40.79 - lr: 0.100000\n",
      "2020-10-01 22:53:42,899 epoch 4 - iter 4/21 - loss 2.97423726 - samples/sec: 35.32 - lr: 0.100000\n",
      "2020-10-01 22:53:44,194 epoch 4 - iter 6/21 - loss 2.79668399 - samples/sec: 49.46 - lr: 0.100000\n",
      "2020-10-01 22:53:45,329 epoch 4 - iter 8/21 - loss 2.67131481 - samples/sec: 56.42 - lr: 0.100000\n",
      "2020-10-01 22:53:46,759 epoch 4 - iter 10/21 - loss 2.67776499 - samples/sec: 44.80 - lr: 0.100000\n",
      "2020-10-01 22:53:48,420 epoch 4 - iter 12/21 - loss 2.61518955 - samples/sec: 38.55 - lr: 0.100000\n",
      "2020-10-01 22:53:49,808 epoch 4 - iter 14/21 - loss 2.60268479 - samples/sec: 46.14 - lr: 0.100000\n",
      "2020-10-01 22:53:51,346 epoch 4 - iter 16/21 - loss 2.56400010 - samples/sec: 41.65 - lr: 0.100000\n",
      "2020-10-01 22:53:52,551 epoch 4 - iter 18/21 - loss 2.51935168 - samples/sec: 53.19 - lr: 0.100000\n",
      "2020-10-01 22:53:53,737 epoch 4 - iter 20/21 - loss 2.48090327 - samples/sec: 54.00 - lr: 0.100000\n",
      "2020-10-01 22:53:54,361 ----------------------------------------------------------------------------------------------------\n",
      "2020-10-01 22:53:54,362 EPOCH 4 done: loss 2.4917 - lr 0.1000000\n",
      "2020-10-01 22:53:55,898 DEV : loss 2.7716479301452637 - score 0.9386\n",
      "2020-10-01 22:53:55,911 BAD EPOCHS (no improvement): 2\n",
      "2020-10-01 22:53:55,913 ----------------------------------------------------------------------------------------------------\n"
     ]
    },
    {
     "name": "stdout",
     "output_type": "stream",
     "text": [
      "2020-10-01 22:53:57,573 epoch 5 - iter 2/21 - loss 2.46185231 - samples/sec: 38.59 - lr: 0.100000\n",
      "2020-10-01 22:53:59,230 epoch 5 - iter 4/21 - loss 2.47754264 - samples/sec: 38.65 - lr: 0.100000\n",
      "2020-10-01 22:54:00,470 epoch 5 - iter 6/21 - loss 2.43438727 - samples/sec: 51.64 - lr: 0.100000\n",
      "2020-10-01 22:54:01,706 epoch 5 - iter 8/21 - loss 2.51417036 - samples/sec: 51.83 - lr: 0.100000\n",
      "2020-10-01 22:54:03,043 epoch 5 - iter 10/21 - loss 2.49188563 - samples/sec: 47.91 - lr: 0.100000\n",
      "2020-10-01 22:54:04,695 epoch 5 - iter 12/21 - loss 2.52899115 - samples/sec: 38.77 - lr: 0.100000\n",
      "2020-10-01 22:54:05,878 epoch 5 - iter 14/21 - loss 2.55748762 - samples/sec: 54.15 - lr: 0.100000\n",
      "2020-10-01 22:54:07,167 epoch 5 - iter 16/21 - loss 2.55844019 - samples/sec: 49.71 - lr: 0.100000\n",
      "2020-10-01 22:54:08,565 epoch 5 - iter 18/21 - loss 2.56209676 - samples/sec: 45.81 - lr: 0.100000\n",
      "2020-10-01 22:54:09,725 epoch 5 - iter 20/21 - loss 2.50262889 - samples/sec: 55.20 - lr: 0.100000\n",
      "2020-10-01 22:54:10,332 ----------------------------------------------------------------------------------------------------\n",
      "2020-10-01 22:54:10,333 EPOCH 5 done: loss 2.4839 - lr 0.1000000\n",
      "2020-10-01 22:54:11,681 DEV : loss 2.063163995742798 - score 0.9456\n",
      "2020-10-01 22:54:11,692 BAD EPOCHS (no improvement): 0\n",
      "saving best model\n",
      "2020-10-01 22:54:14,785 ----------------------------------------------------------------------------------------------------\n",
      "2020-10-01 22:54:15,896 epoch 6 - iter 2/21 - loss 2.28656983 - samples/sec: 57.72 - lr: 0.100000\n",
      "2020-10-01 22:54:17,101 epoch 6 - iter 4/21 - loss 2.14795101 - samples/sec: 53.13 - lr: 0.100000\n",
      "2020-10-01 22:54:18,849 epoch 6 - iter 6/21 - loss 2.10177571 - samples/sec: 36.64 - lr: 0.100000\n",
      "2020-10-01 22:54:20,213 epoch 6 - iter 8/21 - loss 2.14392893 - samples/sec: 46.95 - lr: 0.100000\n",
      "2020-10-01 22:54:21,502 epoch 6 - iter 10/21 - loss 2.10324141 - samples/sec: 49.67 - lr: 0.100000\n",
      "2020-10-01 22:54:22,968 epoch 6 - iter 12/21 - loss 2.17822771 - samples/sec: 43.71 - lr: 0.100000\n",
      "2020-10-01 22:54:24,276 epoch 6 - iter 14/21 - loss 2.16620260 - samples/sec: 48.96 - lr: 0.100000\n",
      "2020-10-01 22:54:25,457 epoch 6 - iter 16/21 - loss 2.19822734 - samples/sec: 54.23 - lr: 0.100000\n",
      "2020-10-01 22:54:26,823 epoch 6 - iter 18/21 - loss 2.20309360 - samples/sec: 46.88 - lr: 0.100000\n",
      "2020-10-01 22:54:28,129 epoch 6 - iter 20/21 - loss 2.19332938 - samples/sec: 49.07 - lr: 0.100000\n",
      "2020-10-01 22:54:29,118 ----------------------------------------------------------------------------------------------------\n",
      "2020-10-01 22:54:29,119 EPOCH 6 done: loss 2.2141 - lr 0.1000000\n",
      "2020-10-01 22:54:30,581 DEV : loss 2.0206449031829834 - score 0.9463\n",
      "2020-10-01 22:54:30,592 BAD EPOCHS (no improvement): 0\n",
      "saving best model\n",
      "2020-10-01 22:54:33,488 ----------------------------------------------------------------------------------------------------\n",
      "2020-10-01 22:54:34,559 epoch 7 - iter 2/21 - loss 1.96015149 - samples/sec: 59.95 - lr: 0.100000\n",
      "2020-10-01 22:54:35,883 epoch 7 - iter 4/21 - loss 2.10344240 - samples/sec: 48.37 - lr: 0.100000\n",
      "2020-10-01 22:54:36,977 epoch 7 - iter 6/21 - loss 2.16188401 - samples/sec: 58.57 - lr: 0.100000\n",
      "2020-10-01 22:54:38,624 epoch 7 - iter 8/21 - loss 2.17297213 - samples/sec: 38.87 - lr: 0.100000\n",
      "2020-10-01 22:54:39,986 epoch 7 - iter 10/21 - loss 2.11969666 - samples/sec: 47.04 - lr: 0.100000\n",
      "2020-10-01 22:54:41,368 epoch 7 - iter 12/21 - loss 2.09467362 - samples/sec: 46.34 - lr: 0.100000\n",
      "2020-10-01 22:54:43,053 epoch 7 - iter 14/21 - loss 2.11845952 - samples/sec: 38.00 - lr: 0.100000\n",
      "2020-10-01 22:54:44,331 epoch 7 - iter 16/21 - loss 2.14209472 - samples/sec: 50.11 - lr: 0.100000\n",
      "2020-10-01 22:54:45,551 epoch 7 - iter 18/21 - loss 2.17149634 - samples/sec: 52.53 - lr: 0.100000\n",
      "2020-10-01 22:54:46,952 epoch 7 - iter 20/21 - loss 2.15855209 - samples/sec: 45.70 - lr: 0.100000\n",
      "2020-10-01 22:54:47,601 ----------------------------------------------------------------------------------------------------\n",
      "2020-10-01 22:54:47,602 EPOCH 7 done: loss 2.1625 - lr 0.1000000\n",
      "2020-10-01 22:54:48,998 DEV : loss 2.0271503925323486 - score 0.947\n",
      "2020-10-01 22:54:49,011 BAD EPOCHS (no improvement): 0\n",
      "saving best model\n",
      "2020-10-01 22:54:51,858 ----------------------------------------------------------------------------------------------------\n",
      "2020-10-01 22:54:53,021 epoch 8 - iter 2/21 - loss 2.12669677 - samples/sec: 55.27 - lr: 0.100000\n",
      "2020-10-01 22:54:54,275 epoch 8 - iter 4/21 - loss 2.25389805 - samples/sec: 51.06 - lr: 0.100000\n",
      "2020-10-01 22:54:55,795 epoch 8 - iter 6/21 - loss 2.26836969 - samples/sec: 42.13 - lr: 0.100000\n",
      "2020-10-01 22:54:56,983 epoch 8 - iter 8/21 - loss 2.24404253 - samples/sec: 53.93 - lr: 0.100000\n",
      "2020-10-01 22:54:58,302 epoch 8 - iter 10/21 - loss 2.24628371 - samples/sec: 48.56 - lr: 0.100000\n",
      "2020-10-01 22:54:59,610 epoch 8 - iter 12/21 - loss 2.19568500 - samples/sec: 48.99 - lr: 0.100000\n",
      "2020-10-01 22:55:00,923 epoch 8 - iter 14/21 - loss 2.14264921 - samples/sec: 48.75 - lr: 0.100000\n",
      "2020-10-01 22:55:02,190 epoch 8 - iter 16/21 - loss 2.12668014 - samples/sec: 50.58 - lr: 0.100000\n",
      "2020-10-01 22:55:03,816 epoch 8 - iter 18/21 - loss 2.14804314 - samples/sec: 39.37 - lr: 0.100000\n",
      "2020-10-01 22:55:05,060 epoch 8 - iter 20/21 - loss 2.19159424 - samples/sec: 51.50 - lr: 0.100000\n",
      "2020-10-01 22:55:05,798 ----------------------------------------------------------------------------------------------------\n",
      "2020-10-01 22:55:05,799 EPOCH 8 done: loss 2.1966 - lr 0.1000000\n",
      "2020-10-01 22:55:07,250 DEV : loss 1.9765294790267944 - score 0.9504\n",
      "2020-10-01 22:55:07,260 BAD EPOCHS (no improvement): 0\n",
      "saving best model\n",
      "2020-10-01 22:55:10,250 ----------------------------------------------------------------------------------------------------\n",
      "2020-10-01 22:55:11,515 epoch 9 - iter 2/21 - loss 2.18833393 - samples/sec: 50.71 - lr: 0.100000\n",
      "2020-10-01 22:55:12,662 epoch 9 - iter 4/21 - loss 2.17798185 - samples/sec: 55.83 - lr: 0.100000\n",
      "2020-10-01 22:55:13,910 epoch 9 - iter 6/21 - loss 2.17347169 - samples/sec: 51.33 - lr: 0.100000\n",
      "2020-10-01 22:55:15,158 epoch 9 - iter 8/21 - loss 2.19167483 - samples/sec: 51.32 - lr: 0.100000\n",
      "2020-10-01 22:55:16,415 epoch 9 - iter 10/21 - loss 2.11726174 - samples/sec: 50.97 - lr: 0.100000\n",
      "2020-10-01 22:55:17,793 epoch 9 - iter 12/21 - loss 2.10849059 - samples/sec: 46.48 - lr: 0.100000\n",
      "2020-10-01 22:55:19,469 epoch 9 - iter 14/21 - loss 2.14161949 - samples/sec: 38.22 - lr: 0.100000\n",
      "2020-10-01 22:55:20,997 epoch 9 - iter 16/21 - loss 2.12435785 - samples/sec: 41.89 - lr: 0.100000\n",
      "2020-10-01 22:55:22,121 epoch 9 - iter 18/21 - loss 2.07831424 - samples/sec: 57.00 - lr: 0.100000\n",
      "2020-10-01 22:55:23,512 epoch 9 - iter 20/21 - loss 2.07041337 - samples/sec: 46.04 - lr: 0.100000\n",
      "2020-10-01 22:55:24,073 ----------------------------------------------------------------------------------------------------\n",
      "2020-10-01 22:55:24,074 EPOCH 9 done: loss 2.0628 - lr 0.1000000\n",
      "2020-10-01 22:55:25,360 DEV : loss 1.9289461374282837 - score 0.9507\n",
      "2020-10-01 22:55:25,374 BAD EPOCHS (no improvement): 0\n",
      "saving best model\n",
      "2020-10-01 22:55:28,182 ----------------------------------------------------------------------------------------------------\n",
      "2020-10-01 22:55:29,684 epoch 10 - iter 2/21 - loss 2.04446030 - samples/sec: 42.66 - lr: 0.100000\n",
      "2020-10-01 22:55:30,895 epoch 10 - iter 4/21 - loss 2.29985315 - samples/sec: 52.86 - lr: 0.100000\n",
      "2020-10-01 22:55:32,071 epoch 10 - iter 6/21 - loss 2.31416853 - samples/sec: 54.48 - lr: 0.100000\n",
      "2020-10-01 22:55:33,463 epoch 10 - iter 8/21 - loss 2.24190357 - samples/sec: 46.02 - lr: 0.100000\n",
      "2020-10-01 22:55:35,140 epoch 10 - iter 10/21 - loss 2.18860726 - samples/sec: 38.17 - lr: 0.100000\n",
      "2020-10-01 22:55:36,437 epoch 10 - iter 12/21 - loss 2.11897469 - samples/sec: 49.40 - lr: 0.100000\n",
      "2020-10-01 22:55:37,590 epoch 10 - iter 14/21 - loss 2.04686128 - samples/sec: 55.57 - lr: 0.100000\n",
      "2020-10-01 22:55:38,802 epoch 10 - iter 16/21 - loss 2.02057143 - samples/sec: 52.86 - lr: 0.100000\n",
      "2020-10-01 22:55:40,546 epoch 10 - iter 18/21 - loss 2.00717702 - samples/sec: 36.72 - lr: 0.100000\n",
      "2020-10-01 22:55:41,924 epoch 10 - iter 20/21 - loss 2.05874459 - samples/sec: 46.47 - lr: 0.100000\n"
     ]
    },
    {
     "name": "stdout",
     "output_type": "stream",
     "text": [
      "2020-10-01 22:55:42,502 ----------------------------------------------------------------------------------------------------\n",
      "2020-10-01 22:55:42,503 EPOCH 10 done: loss 2.0668 - lr 0.1000000\n",
      "2020-10-01 22:55:43,935 DEV : loss 2.112274169921875 - score 0.945\n",
      "2020-10-01 22:55:43,949 BAD EPOCHS (no improvement): 1\n",
      "2020-10-01 22:55:43,951 ----------------------------------------------------------------------------------------------------\n",
      "2020-10-01 22:55:45,726 epoch 11 - iter 2/21 - loss 2.26883578 - samples/sec: 36.08 - lr: 0.100000\n",
      "2020-10-01 22:55:46,952 epoch 11 - iter 4/21 - loss 2.17234075 - samples/sec: 52.25 - lr: 0.100000\n",
      "2020-10-01 22:55:48,284 epoch 11 - iter 6/21 - loss 2.06990910 - samples/sec: 48.12 - lr: 0.100000\n",
      "2020-10-01 22:55:49,657 epoch 11 - iter 8/21 - loss 2.01598373 - samples/sec: 46.64 - lr: 0.100000\n",
      "2020-10-01 22:55:50,921 epoch 11 - iter 10/21 - loss 2.00928240 - samples/sec: 50.66 - lr: 0.100000\n",
      "2020-10-01 22:55:52,187 epoch 11 - iter 12/21 - loss 1.96444810 - samples/sec: 50.60 - lr: 0.100000\n",
      "2020-10-01 22:55:53,708 epoch 11 - iter 14/21 - loss 1.95849775 - samples/sec: 42.12 - lr: 0.100000\n",
      "2020-10-01 22:55:54,994 epoch 11 - iter 16/21 - loss 1.91484442 - samples/sec: 49.83 - lr: 0.100000\n",
      "2020-10-01 22:55:57,583 epoch 11 - iter 18/21 - loss 1.90899640 - samples/sec: 24.73 - lr: 0.100000\n",
      "2020-10-01 22:55:59,680 epoch 11 - iter 20/21 - loss 1.90988239 - samples/sec: 30.53 - lr: 0.100000\n",
      "2020-10-01 22:56:00,448 ----------------------------------------------------------------------------------------------------\n",
      "2020-10-01 22:56:00,448 EPOCH 11 done: loss 1.9141 - lr 0.1000000\n",
      "2020-10-01 22:56:02,008 DEV : loss 1.9838744401931763 - score 0.9463\n",
      "2020-10-01 22:56:02,028 BAD EPOCHS (no improvement): 2\n",
      "2020-10-01 22:56:02,029 ----------------------------------------------------------------------------------------------------\n",
      "2020-10-01 22:56:03,545 epoch 12 - iter 2/21 - loss 2.20242655 - samples/sec: 42.28 - lr: 0.100000\n",
      "2020-10-01 22:56:05,012 epoch 12 - iter 4/21 - loss 2.10305762 - samples/sec: 43.65 - lr: 0.100000\n",
      "2020-10-01 22:56:06,682 epoch 12 - iter 6/21 - loss 2.04416505 - samples/sec: 38.36 - lr: 0.100000\n",
      "2020-10-01 22:56:08,482 epoch 12 - iter 8/21 - loss 1.99150111 - samples/sec: 35.57 - lr: 0.100000\n",
      "2020-10-01 22:56:10,191 epoch 12 - iter 10/21 - loss 1.99765681 - samples/sec: 37.48 - lr: 0.100000\n",
      "2020-10-01 22:56:11,627 epoch 12 - iter 12/21 - loss 1.90894827 - samples/sec: 44.59 - lr: 0.100000\n",
      "2020-10-01 22:56:12,977 epoch 12 - iter 14/21 - loss 1.90153895 - samples/sec: 47.45 - lr: 0.100000\n",
      "2020-10-01 22:56:14,473 epoch 12 - iter 16/21 - loss 1.87294810 - samples/sec: 42.81 - lr: 0.100000\n",
      "2020-10-01 22:56:16,065 epoch 12 - iter 18/21 - loss 1.84088345 - samples/sec: 40.25 - lr: 0.100000\n",
      "2020-10-01 22:56:18,057 epoch 12 - iter 20/21 - loss 1.83177385 - samples/sec: 32.14 - lr: 0.100000\n",
      "2020-10-01 22:56:18,676 ----------------------------------------------------------------------------------------------------\n",
      "2020-10-01 22:56:18,677 EPOCH 12 done: loss 1.8648 - lr 0.1000000\n",
      "2020-10-01 22:56:20,381 DEV : loss 2.049699306488037 - score 0.944\n",
      "2020-10-01 22:56:20,396 BAD EPOCHS (no improvement): 3\n",
      "2020-10-01 22:56:20,397 ----------------------------------------------------------------------------------------------------\n",
      "2020-10-01 22:56:21,964 epoch 13 - iter 2/21 - loss 1.49476498 - samples/sec: 40.89 - lr: 0.100000\n",
      "2020-10-01 22:56:23,406 epoch 13 - iter 4/21 - loss 1.54957494 - samples/sec: 44.43 - lr: 0.100000\n",
      "2020-10-01 22:56:24,925 epoch 13 - iter 6/21 - loss 1.58473084 - samples/sec: 42.17 - lr: 0.100000\n",
      "2020-10-01 22:56:26,589 epoch 13 - iter 8/21 - loss 1.63129888 - samples/sec: 38.48 - lr: 0.100000\n",
      "2020-10-01 22:56:28,031 epoch 13 - iter 10/21 - loss 1.69223936 - samples/sec: 44.43 - lr: 0.100000\n",
      "2020-10-01 22:56:29,715 epoch 13 - iter 12/21 - loss 1.73857790 - samples/sec: 38.03 - lr: 0.100000\n",
      "2020-10-01 22:56:31,588 epoch 13 - iter 14/21 - loss 1.73583420 - samples/sec: 34.20 - lr: 0.100000\n",
      "2020-10-01 22:56:33,198 epoch 13 - iter 16/21 - loss 1.76525739 - samples/sec: 39.77 - lr: 0.100000\n",
      "2020-10-01 22:56:34,898 epoch 13 - iter 18/21 - loss 1.76757662 - samples/sec: 37.68 - lr: 0.100000\n",
      "2020-10-01 22:56:37,057 epoch 13 - iter 20/21 - loss 1.80484254 - samples/sec: 29.67 - lr: 0.100000\n",
      "2020-10-01 22:56:37,679 ----------------------------------------------------------------------------------------------------\n",
      "2020-10-01 22:56:37,680 EPOCH 13 done: loss 1.8014 - lr 0.1000000\n",
      "2020-10-01 22:56:39,957 DEV : loss 2.1111295223236084 - score 0.9443\n",
      "Epoch    13: reducing learning rate of group 0 to 5.0000e-02.\n",
      "2020-10-01 22:56:39,974 BAD EPOCHS (no improvement): 4\n",
      "2020-10-01 22:56:39,976 ----------------------------------------------------------------------------------------------------\n",
      "2020-10-01 22:56:41,795 epoch 14 - iter 2/21 - loss 1.71549898 - samples/sec: 35.24 - lr: 0.050000\n",
      "2020-10-01 22:56:43,388 epoch 14 - iter 4/21 - loss 1.61389247 - samples/sec: 40.22 - lr: 0.050000\n",
      "2020-10-01 22:56:45,666 epoch 14 - iter 6/21 - loss 1.67072630 - samples/sec: 28.11 - lr: 0.050000\n",
      "2020-10-01 22:56:47,416 epoch 14 - iter 8/21 - loss 1.63868138 - samples/sec: 36.60 - lr: 0.050000\n",
      "2020-10-01 22:56:48,736 epoch 14 - iter 10/21 - loss 1.62655222 - samples/sec: 48.51 - lr: 0.050000\n",
      "2020-10-01 22:56:50,084 epoch 14 - iter 12/21 - loss 1.58269608 - samples/sec: 47.53 - lr: 0.050000\n",
      "2020-10-01 22:56:51,341 epoch 14 - iter 14/21 - loss 1.54617161 - samples/sec: 50.96 - lr: 0.050000\n",
      "2020-10-01 22:56:52,554 epoch 14 - iter 16/21 - loss 1.55511356 - samples/sec: 52.78 - lr: 0.050000\n",
      "2020-10-01 22:56:53,910 epoch 14 - iter 18/21 - loss 1.58038550 - samples/sec: 47.25 - lr: 0.050000\n",
      "2020-10-01 22:56:55,093 epoch 14 - iter 20/21 - loss 1.59243296 - samples/sec: 54.12 - lr: 0.050000\n",
      "2020-10-01 22:56:56,035 ----------------------------------------------------------------------------------------------------\n",
      "2020-10-01 22:56:56,036 EPOCH 14 done: loss 1.5993 - lr 0.0500000\n",
      "2020-10-01 22:56:57,431 DEV : loss 1.7752426862716675 - score 0.9541\n",
      "2020-10-01 22:56:57,444 BAD EPOCHS (no improvement): 0\n",
      "saving best model\n",
      "2020-10-01 22:57:00,743 ----------------------------------------------------------------------------------------------------\n",
      "2020-10-01 22:57:02,294 epoch 15 - iter 2/21 - loss 1.59539545 - samples/sec: 41.33 - lr: 0.050000\n",
      "2020-10-01 22:57:03,676 epoch 15 - iter 4/21 - loss 1.69002566 - samples/sec: 46.35 - lr: 0.050000\n",
      "2020-10-01 22:57:04,995 epoch 15 - iter 6/21 - loss 1.49365017 - samples/sec: 48.55 - lr: 0.050000\n",
      "2020-10-01 22:57:06,353 epoch 15 - iter 8/21 - loss 1.51672860 - samples/sec: 47.18 - lr: 0.050000\n",
      "2020-10-01 22:57:07,754 epoch 15 - iter 10/21 - loss 1.53477711 - samples/sec: 45.78 - lr: 0.050000\n",
      "2020-10-01 22:57:09,295 epoch 15 - iter 12/21 - loss 1.55069045 - samples/sec: 41.54 - lr: 0.050000\n",
      "2020-10-01 22:57:10,650 epoch 15 - iter 14/21 - loss 1.55342271 - samples/sec: 47.27 - lr: 0.050000\n",
      "2020-10-01 22:57:12,156 epoch 15 - iter 16/21 - loss 1.57916379 - samples/sec: 42.54 - lr: 0.050000\n",
      "2020-10-01 22:57:13,924 epoch 15 - iter 18/21 - loss 1.59503794 - samples/sec: 36.22 - lr: 0.050000\n",
      "2020-10-01 22:57:15,269 epoch 15 - iter 20/21 - loss 1.60673105 - samples/sec: 47.63 - lr: 0.050000\n",
      "2020-10-01 22:57:15,917 ----------------------------------------------------------------------------------------------------\n",
      "2020-10-01 22:57:15,918 EPOCH 15 done: loss 1.6094 - lr 0.0500000\n",
      "2020-10-01 22:57:17,488 DEV : loss 1.7800581455230713 - score 0.9534\n",
      "2020-10-01 22:57:17,500 BAD EPOCHS (no improvement): 1\n",
      "2020-10-01 22:57:17,502 ----------------------------------------------------------------------------------------------------\n",
      "2020-10-01 22:57:19,268 epoch 16 - iter 2/21 - loss 1.56218463 - samples/sec: 36.28 - lr: 0.050000\n",
      "2020-10-01 22:57:20,558 epoch 16 - iter 4/21 - loss 1.54944810 - samples/sec: 49.65 - lr: 0.050000\n",
      "2020-10-01 22:57:21,876 epoch 16 - iter 6/21 - loss 1.53969838 - samples/sec: 48.62 - lr: 0.050000\n",
      "2020-10-01 22:57:23,443 epoch 16 - iter 8/21 - loss 1.56582531 - samples/sec: 40.86 - lr: 0.050000\n",
      "2020-10-01 22:57:24,913 epoch 16 - iter 10/21 - loss 1.56846958 - samples/sec: 43.57 - lr: 0.050000\n",
      "2020-10-01 22:57:26,099 epoch 16 - iter 12/21 - loss 1.53191159 - samples/sec: 54.04 - lr: 0.050000\n"
     ]
    },
    {
     "name": "stdout",
     "output_type": "stream",
     "text": [
      "2020-10-01 22:57:27,150 epoch 16 - iter 14/21 - loss 1.52225122 - samples/sec: 60.96 - lr: 0.050000\n",
      "2020-10-01 22:57:28,512 epoch 16 - iter 16/21 - loss 1.54157100 - samples/sec: 47.01 - lr: 0.050000\n",
      "2020-10-01 22:57:29,790 epoch 16 - iter 18/21 - loss 1.53144450 - samples/sec: 50.14 - lr: 0.050000\n",
      "2020-10-01 22:57:31,143 epoch 16 - iter 20/21 - loss 1.52337828 - samples/sec: 47.33 - lr: 0.050000\n",
      "2020-10-01 22:57:32,043 ----------------------------------------------------------------------------------------------------\n",
      "2020-10-01 22:57:32,044 EPOCH 16 done: loss 1.5351 - lr 0.0500000\n",
      "2020-10-01 22:57:33,378 DEV : loss 1.7759202718734741 - score 0.9521\n",
      "2020-10-01 22:57:33,391 BAD EPOCHS (no improvement): 2\n",
      "2020-10-01 22:57:33,394 ----------------------------------------------------------------------------------------------------\n",
      "2020-10-01 22:57:34,887 epoch 17 - iter 2/21 - loss 1.57025582 - samples/sec: 42.95 - lr: 0.050000\n",
      "2020-10-01 22:57:36,153 epoch 17 - iter 4/21 - loss 1.56183293 - samples/sec: 50.58 - lr: 0.050000\n",
      "2020-10-01 22:57:37,666 epoch 17 - iter 6/21 - loss 1.57875284 - samples/sec: 42.35 - lr: 0.050000\n",
      "2020-10-01 22:57:39,461 epoch 17 - iter 8/21 - loss 1.55500191 - samples/sec: 35.68 - lr: 0.050000\n",
      "2020-10-01 22:57:40,081 ----------------------------------------------------------------------------------------------------\n",
      "2020-10-01 22:57:40,082 Exiting from training early.\n",
      "2020-10-01 22:57:40,084 Saving model ...\n",
      "2020-10-01 22:57:43,346 Done.\n",
      "2020-10-01 22:57:43,347 ----------------------------------------------------------------------------------------------------\n",
      "2020-10-01 22:57:43,348 Testing using best model ...\n",
      "2020-10-01 22:57:43,350 loading file resources/taggers/example-pos/best-model.pt\n",
      "2020-10-01 22:58:19,396 \t0.9569\n",
      "2020-10-01 22:58:19,397 \n",
      "Results:\n",
      "- F-score (micro) 0.9569\n",
      "- F-score (macro) 0.7752\n",
      "- Accuracy 0.9569\n",
      "\n",
      "By class:\n",
      "              precision    recall  f1-score   support\n",
      "\n",
      "  notmachine     0.9644    0.9906    0.9773      3305\n",
      "     machine     0.7669    0.4574    0.5730       223\n",
      "\n",
      "    accuracy                         0.9569      3528\n",
      "   macro avg     0.8656    0.7240    0.7752      3528\n",
      "weighted avg     0.9519    0.9569    0.9518      3528\n",
      "\n",
      "2020-10-01 22:58:19,398 ----------------------------------------------------------------------------------------------------\n"
     ]
    },
    {
     "data": {
      "text/plain": [
       "{'test_score': 0.9569,\n",
       " 'dev_score_history': [0.9369,\n",
       "  0.9389,\n",
       "  0.9355,\n",
       "  0.9386,\n",
       "  0.9456,\n",
       "  0.9463,\n",
       "  0.947,\n",
       "  0.9504,\n",
       "  0.9507,\n",
       "  0.945,\n",
       "  0.9463,\n",
       "  0.944,\n",
       "  0.9443,\n",
       "  0.9541,\n",
       "  0.9534,\n",
       "  0.9521],\n",
       " 'train_loss_history': [6.751686970392863,\n",
       "  3.0335018634796143,\n",
       "  2.7342559610094344,\n",
       "  2.4917304004941667,\n",
       "  2.4838735659917197,\n",
       "  2.214115239325024,\n",
       "  2.1624793154852733,\n",
       "  2.19656803494408,\n",
       "  2.062829772631327,\n",
       "  2.066799657685416,\n",
       "  1.9141425632295155,\n",
       "  1.8648326510474795,\n",
       "  1.8013603857585363,\n",
       "  1.5993040459496635,\n",
       "  1.6094313263893127,\n",
       "  1.5350978601546514],\n",
       " 'dev_loss_history': [2.6299357414245605,\n",
       "  2.370863199234009,\n",
       "  2.890554189682007,\n",
       "  2.7716479301452637,\n",
       "  2.063163995742798,\n",
       "  2.0206449031829834,\n",
       "  2.0271503925323486,\n",
       "  1.9765294790267944,\n",
       "  1.9289461374282837,\n",
       "  2.112274169921875,\n",
       "  1.9838744401931763,\n",
       "  2.049699306488037,\n",
       "  2.1111295223236084,\n",
       "  1.7752426862716675,\n",
       "  1.7800581455230713,\n",
       "  1.7759202718734741]}"
      ]
     },
     "execution_count": 103,
     "metadata": {},
     "output_type": "execute_result"
    }
   ],
   "source": [
    "from flair.data import Corpus\n",
    "from flair.datasets import UD_ENGLISH\n",
    "from flair.embeddings import WordEmbeddings,FlairEmbeddings,StackedEmbeddings,TransformerWordEmbeddings\n",
    "\n",
    "\n",
    "\n",
    "\n",
    "# 4. initialize embeddings\n",
    "embedding_types = [\n",
    "\n",
    "    WordEmbeddings('glove'),\n",
    "\n",
    "    # comment in this line to use character embeddings\n",
    "    # CharacterEmbeddings(),\n",
    "\n",
    "    # comment in these lines to use flair embeddings\n",
    "    FlairEmbeddings('news-forward'),\n",
    "    FlairEmbeddings('news-backward'),\n",
    "]\n",
    "\n",
    "embeddings: StackedEmbeddings = StackedEmbeddings(embeddings=embedding_types)\n",
    "\n",
    "#embeddings = TransformerWordEmbeddings('bert-base-cased',fine_tune=True, allow_long_sentences=True)\n",
    "    \n",
    "# 5. initialize sequence tagger\n",
    "from flair.models import SequenceTagger\n",
    "\n",
    "tagger: SequenceTagger = SequenceTagger(hidden_size=256,\n",
    "                                        embeddings=embeddings,\n",
    "                                        tag_dictionary=tag_dictionary,\n",
    "                                        tag_type='label',\n",
    "                                        use_crf=True)\n",
    "\n",
    "# 6. initialize trainer\n",
    "from flair.trainers import ModelTrainer\n",
    "\n",
    "trainer: ModelTrainer = ModelTrainer(tagger, corpus)\n",
    "\n",
    "# 7. start training\n",
    "trainer.train('resources/taggers/example-pos',\n",
    "              learning_rate=0.1,\n",
    "              mini_batch_size=32,\n",
    "              max_epochs=150)"
   ]
  },
  {
   "cell_type": "code",
   "execution_count": null,
   "metadata": {},
   "outputs": [],
   "source": []
  }
 ],
 "metadata": {
  "kernelspec": {
   "display_name": "Python 3",
   "language": "python",
   "name": "python3"
  },
  "language_info": {
   "codemirror_mode": {
    "name": "ipython",
    "version": 3
   },
   "file_extension": ".py",
   "mimetype": "text/x-python",
   "name": "python",
   "nbconvert_exporter": "python",
   "pygments_lexer": "ipython3",
   "version": "3.7.4"
  }
 },
 "nbformat": 4,
 "nbformat_minor": 2
}
