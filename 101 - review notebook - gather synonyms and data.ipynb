{
 "metadata": {
  "language_info": {
   "codemirror_mode": {
    "name": "ipython",
    "version": 3
   },
   "file_extension": ".py",
   "mimetype": "text/x-python",
   "name": "python",
   "nbconvert_exporter": "python",
   "pygments_lexer": "ipython3",
   "version": "3.7.5-final"
  },
  "orig_nbformat": 2,
  "kernelspec": {
   "name": "python3",
   "display_name": "Python 3",
   "language": "python"
  }
 },
 "nbformat": 4,
 "nbformat_minor": 2,
 "cells": [
  {
   "cell_type": "code",
   "execution_count": 1,
   "metadata": {},
   "outputs": [],
   "source": [
    "%load_ext autoreload\n",
    "%autoreload 2"
   ]
  },
  {
   "cell_type": "code",
   "execution_count": 2,
   "metadata": {},
   "outputs": [],
   "source": [
    "from utils.dataset_download import extend_from_lemma,harvest_data_from_extended_senses, filter_senses, obtain_quotations_for_senses\n",
    "from utils.classificaton_utils import binarize\n",
    "import pickle\n",
    "import json\n",
    "from pathlib import Path, PosixPath\n",
    "import pandas as pd"
   ]
  },
  {
   "source": [
    "# import API credentials\n",
    "with open('oed_experiments/oed_credentials.json') as f:\n",
    "    auth = json.load(f)"
   ],
   "cell_type": "code",
   "metadata": {},
   "execution_count": 3,
   "outputs": []
  },
  {
   "source": [
    "# Extended senses"
   ],
   "cell_type": "markdown",
   "metadata": {}
  },
  {
   "cell_type": "code",
   "execution_count": 5,
   "metadata": {},
   "outputs": [],
   "source": [
    "lemma,pos = 'machine','NN'"
   ]
  },
  {
   "cell_type": "code",
   "execution_count": 6,
   "metadata": {},
   "outputs": [
    {
     "output_type": "stream",
     "name": "stdout",
     "text": [
      "[LOG] Dowloading senses for machine_NN from OED API.\n",
      "[LOG] Found following word ids for machine_NN {'machine_nn01'}\n",
      "[LOG] Obtained 26 senses for machine_nn01\n",
      "[LOG] Obtained 26 seed senses for machine_NN\n",
      "[LOG] Get all 26 senses for the lemma machine_NN\n",
      "[LOG] Get all synonyms of the 26 senses listed in machine_NN\n",
      "[LOG] Created dateframe with 517 senses\n",
      "[LOG] Saved dataframe to \"./data/extended_senses_machine_NN.pickle\"\n",
      "(517, 19)\n"
     ]
    }
   ],
   "source": [
    "extended_df = extend_from_lemma(auth,lemma,pos)\n",
    "print(extended_df.shape)"
   ]
  },
  {
   "cell_type": "code",
   "execution_count": 65,
   "metadata": {},
   "outputs": [
    {
     "output_type": "execute_result",
     "data": {
      "text/plain": [
       "                                          categories  \\\n",
       "0   {'topic': [], 'usage': [['rare']], 'region': []}   \n",
       "1  {'topic': [['Military', 'Weaponry']], 'usage':...   \n",
       "2           {'topic': [], 'usage': [], 'region': []}   \n",
       "3  {'topic': [['Sciences', 'Medicine', 'Anatomy']...   \n",
       "4  {'topic': [['Arts', 'Performing Arts', 'Theatr...   \n",
       "\n",
       "                                           daterange  \\\n",
       "0  {'end': None, 'start': 1545, 'obsolete': False...   \n",
       "1  {'end': None, 'start': 1583, 'obsolete': False...   \n",
       "2  {'end': 1707, 'start': 1595, 'obsolete': True,...   \n",
       "3  {'end': None, 'start': 1604, 'obsolete': False...   \n",
       "4  {'end': None, 'start': 1609, 'obsolete': False...   \n",
       "\n",
       "                                          definition            first_use  \\\n",
       "0  A material or immaterial structure, esp. the f...           J. Schäfer   \n",
       "1  A military engine or siege-tower. Cf. war mach...      Brian Melbancke   \n",
       "2                  spec. A scheme or plot. Obsolete.          Elizabeth I   \n",
       "3  A living body, esp. the human body considered ...  William Shakespeare   \n",
       "4  Theatre. A (usually movable) contrivance for t...           Ben Jonson   \n",
       "\n",
       "                      id    lemma  main_current_sense  \\\n",
       "0  machine_nn01-38473945  machine               False   \n",
       "1  machine_nn01-38474233  machine               False   \n",
       "2  machine_nn01-38474097  machine               False   \n",
       "3  machine_nn01-38474140  machine               False   \n",
       "4  machine_nn01-38474301  machine               False   \n",
       "\n",
       "                                                meta  \\\n",
       "0  {'created': 1904, 'revised': True, 'updated': ...   \n",
       "1  {'created': 1904, 'revised': True, 'updated': ...   \n",
       "2  {'created': 1904, 'revised': True, 'updated': ...   \n",
       "3  {'created': 1904, 'revised': True, 'updated': ...   \n",
       "4  {'created': 1904, 'revised': True, 'updated': ...   \n",
       "\n",
       "                                               notes  \\\n",
       "0                                                 []   \n",
       "1                                                 []   \n",
       "2                                                 []   \n",
       "3                                                 []   \n",
       "4  [In early use predominantly a ‘flying’ car alo...   \n",
       "\n",
       "              oed_reference  \\\n",
       "0   machine, n., sense I.1a   \n",
       "1   machine, n., sense II.3   \n",
       "2   machine, n., sense I.1b   \n",
       "3    machine, n., sense I.2   \n",
       "4  machine, n., sense II.4a   \n",
       "\n",
       "                                             oed_url part_of_speech  \\\n",
       "0  https://www.oed.com/view/Entry/111850#eid38473945             NN   \n",
       "1  https://www.oed.com/view/Entry/111850#eid38474233             NN   \n",
       "2  https://www.oed.com/view/Entry/111850#eid38474097             NN   \n",
       "3  https://www.oed.com/view/Entry/111850#eid38474140             NN   \n",
       "4  https://www.oed.com/view/Entry/111850#eid38474301             NN   \n",
       "\n",
       "                                      provenance provenance_type  \\\n",
       "0  [[machine_nn01-38473945, seed, machine_nn01]]            seed   \n",
       "1  [[machine_nn01-38474233, seed, machine_nn01]]            seed   \n",
       "2  [[machine_nn01-38474097, seed, machine_nn01]]            seed   \n",
       "3  [[machine_nn01-38474140, seed, machine_nn01]]            seed   \n",
       "4  [[machine_nn01-38474301, seed, machine_nn01]]            seed   \n",
       "\n",
       "                                       quotation_ids  \\\n",
       "0  [machine_nn01-38473950, machine_nn01-38473961,...   \n",
       "1  [machine_nn01-38474243, machine_nn01-38474252,...   \n",
       "2  [machine_nn01-38474102, machine_nn01-38474122,...   \n",
       "3  [machine_nn01-38474151, machine_nn01-38474160,...   \n",
       "4  [machine_nn01-38474320, machine_nn01-38474329,...   \n",
       "\n",
       "                                  semantic_class_ids transitivity  \\\n",
       "0  [[1, 111290, 118635, 119024, 120162, 120172], ...         None   \n",
       "1  [[153072, 160439, 163207, 163208, 163377, 1633...         None   \n",
       "2  [[1, 84689, 87987, 87988, 87989, 88083, 88109,...         None   \n",
       "3                          [[1, 8835, 25507, 29189]]         None   \n",
       "4  [[153072, 222360, 224508, 232933, 232967, 2330...         None   \n",
       "\n",
       "        word_id semantic_class_last_id  \n",
       "0  machine_nn01       [120172, 120173]  \n",
       "1  machine_nn01               [163378]  \n",
       "2  machine_nn01                [88126]  \n",
       "3  machine_nn01                [29189]  \n",
       "4  machine_nn01               [233139]  "
      ],
      "text/html": "<div>\n<style scoped>\n    .dataframe tbody tr th:only-of-type {\n        vertical-align: middle;\n    }\n\n    .dataframe tbody tr th {\n        vertical-align: top;\n    }\n\n    .dataframe thead th {\n        text-align: right;\n    }\n</style>\n<table border=\"1\" class=\"dataframe\">\n  <thead>\n    <tr style=\"text-align: right;\">\n      <th></th>\n      <th>categories</th>\n      <th>daterange</th>\n      <th>definition</th>\n      <th>first_use</th>\n      <th>id</th>\n      <th>lemma</th>\n      <th>main_current_sense</th>\n      <th>meta</th>\n      <th>notes</th>\n      <th>oed_reference</th>\n      <th>oed_url</th>\n      <th>part_of_speech</th>\n      <th>provenance</th>\n      <th>provenance_type</th>\n      <th>quotation_ids</th>\n      <th>semantic_class_ids</th>\n      <th>transitivity</th>\n      <th>word_id</th>\n      <th>semantic_class_last_id</th>\n    </tr>\n  </thead>\n  <tbody>\n    <tr>\n      <th>0</th>\n      <td>{'topic': [], 'usage': [['rare']], 'region': []}</td>\n      <td>{'end': None, 'start': 1545, 'obsolete': False...</td>\n      <td>A material or immaterial structure, esp. the f...</td>\n      <td>J. Schäfer</td>\n      <td>machine_nn01-38473945</td>\n      <td>machine</td>\n      <td>False</td>\n      <td>{'created': 1904, 'revised': True, 'updated': ...</td>\n      <td>[]</td>\n      <td>machine, n., sense I.1a</td>\n      <td>https://www.oed.com/view/Entry/111850#eid38473945</td>\n      <td>NN</td>\n      <td>[[machine_nn01-38473945, seed, machine_nn01]]</td>\n      <td>seed</td>\n      <td>[machine_nn01-38473950, machine_nn01-38473961,...</td>\n      <td>[[1, 111290, 118635, 119024, 120162, 120172], ...</td>\n      <td>None</td>\n      <td>machine_nn01</td>\n      <td>[120172, 120173]</td>\n    </tr>\n    <tr>\n      <th>1</th>\n      <td>{'topic': [['Military', 'Weaponry']], 'usage':...</td>\n      <td>{'end': None, 'start': 1583, 'obsolete': False...</td>\n      <td>A military engine or siege-tower. Cf. war mach...</td>\n      <td>Brian Melbancke</td>\n      <td>machine_nn01-38474233</td>\n      <td>machine</td>\n      <td>False</td>\n      <td>{'created': 1904, 'revised': True, 'updated': ...</td>\n      <td>[]</td>\n      <td>machine, n., sense II.3</td>\n      <td>https://www.oed.com/view/Entry/111850#eid38474233</td>\n      <td>NN</td>\n      <td>[[machine_nn01-38474233, seed, machine_nn01]]</td>\n      <td>seed</td>\n      <td>[machine_nn01-38474243, machine_nn01-38474252,...</td>\n      <td>[[153072, 160439, 163207, 163208, 163377, 1633...</td>\n      <td>None</td>\n      <td>machine_nn01</td>\n      <td>[163378]</td>\n    </tr>\n    <tr>\n      <th>2</th>\n      <td>{'topic': [], 'usage': [], 'region': []}</td>\n      <td>{'end': 1707, 'start': 1595, 'obsolete': True,...</td>\n      <td>spec. A scheme or plot. Obsolete.</td>\n      <td>Elizabeth I</td>\n      <td>machine_nn01-38474097</td>\n      <td>machine</td>\n      <td>False</td>\n      <td>{'created': 1904, 'revised': True, 'updated': ...</td>\n      <td>[]</td>\n      <td>machine, n., sense I.1b</td>\n      <td>https://www.oed.com/view/Entry/111850#eid38474097</td>\n      <td>NN</td>\n      <td>[[machine_nn01-38474097, seed, machine_nn01]]</td>\n      <td>seed</td>\n      <td>[machine_nn01-38474102, machine_nn01-38474122,...</td>\n      <td>[[1, 84689, 87987, 87988, 87989, 88083, 88109,...</td>\n      <td>None</td>\n      <td>machine_nn01</td>\n      <td>[88126]</td>\n    </tr>\n    <tr>\n      <th>3</th>\n      <td>{'topic': [['Sciences', 'Medicine', 'Anatomy']...</td>\n      <td>{'end': None, 'start': 1604, 'obsolete': False...</td>\n      <td>A living body, esp. the human body considered ...</td>\n      <td>William Shakespeare</td>\n      <td>machine_nn01-38474140</td>\n      <td>machine</td>\n      <td>False</td>\n      <td>{'created': 1904, 'revised': True, 'updated': ...</td>\n      <td>[]</td>\n      <td>machine, n., sense I.2</td>\n      <td>https://www.oed.com/view/Entry/111850#eid38474140</td>\n      <td>NN</td>\n      <td>[[machine_nn01-38474140, seed, machine_nn01]]</td>\n      <td>seed</td>\n      <td>[machine_nn01-38474151, machine_nn01-38474160,...</td>\n      <td>[[1, 8835, 25507, 29189]]</td>\n      <td>None</td>\n      <td>machine_nn01</td>\n      <td>[29189]</td>\n    </tr>\n    <tr>\n      <th>4</th>\n      <td>{'topic': [['Arts', 'Performing Arts', 'Theatr...</td>\n      <td>{'end': None, 'start': 1609, 'obsolete': False...</td>\n      <td>Theatre. A (usually movable) contrivance for t...</td>\n      <td>Ben Jonson</td>\n      <td>machine_nn01-38474301</td>\n      <td>machine</td>\n      <td>False</td>\n      <td>{'created': 1904, 'revised': True, 'updated': ...</td>\n      <td>[In early use predominantly a ‘flying’ car alo...</td>\n      <td>machine, n., sense II.4a</td>\n      <td>https://www.oed.com/view/Entry/111850#eid38474301</td>\n      <td>NN</td>\n      <td>[[machine_nn01-38474301, seed, machine_nn01]]</td>\n      <td>seed</td>\n      <td>[machine_nn01-38474320, machine_nn01-38474329,...</td>\n      <td>[[153072, 222360, 224508, 232933, 232967, 2330...</td>\n      <td>None</td>\n      <td>machine_nn01</td>\n      <td>[233139]</td>\n    </tr>\n  </tbody>\n</table>\n</div>"
     },
     "metadata": {},
     "execution_count": 65
    }
   ],
   "source": [
    "extended_df.head()"
   ]
  },
  {
   "cell_type": "code",
   "execution_count": 7,
   "metadata": {},
   "outputs": [
    {
     "output_type": "execute_result",
     "data": {
      "text/plain": [
       "True"
      ]
     },
     "metadata": {},
     "execution_count": 7
    }
   ],
   "source": [
    "extended_df.shape[0] == 517"
   ]
  },
  {
   "cell_type": "code",
   "execution_count": 29,
   "metadata": {},
   "outputs": [
    {
     "output_type": "stream",
     "name": "stdout",
     "text": [
      "Loading senses for nation_NN from pickle.\n",
      "[LOG] Obtained 20 seed senses for nation_NN\n",
      "[LOG] Get all 20 senses for the lemma nation_NN\n",
      "[LOG] Get all synonyms of the 20 senses listed in nation_NN\n",
      "[LOG] Created dateframe with 266 senses\n",
      "[LOG] Saved dataframe to \"./data/extended_senses_nation_NN.pickle\"\n",
      "(266, 19)\n"
     ]
    }
   ],
   "source": [
    "lemma,pos = 'nation','NN'\n",
    "extended_df = extend_from_lemma(auth,lemma,pos)\n",
    "print(extended_df.shape)"
   ]
  },
  {
   "cell_type": "code",
   "execution_count": 10,
   "metadata": {},
   "outputs": [
    {
     "output_type": "execute_result",
     "data": {
      "text/plain": [
       "True"
      ]
     },
     "metadata": {},
     "execution_count": 10
    }
   ],
   "source": [
    "extended_df.shape[0] == 266"
   ]
  },
  {
   "source": [
    "# Harvest quotations and definitions"
   ],
   "cell_type": "markdown",
   "metadata": {}
  },
  {
   "cell_type": "code",
   "execution_count": 30,
   "metadata": {},
   "outputs": [],
   "source": [
    "lemma,pos = 'machine','NN'"
   ]
  },
  {
   "cell_type": "code",
   "execution_count": 31,
   "metadata": {},
   "outputs": [
    {
     "output_type": "stream",
     "name": "stdout",
     "text": [
      "[LOG] Loading data from pickled file\n",
      "[LOG] Shape of senses dataframe = (5136, 16)\n",
      "[LOG] Shape of quotations dataframe = (30811, 9)\n",
      "[LOG] Saving pickle file to \"./data/sfrel_quotations_machine_NN.pickle\"\n",
      "[LOG] Shape of final dataframe = (30752, 8)\n"
     ]
    }
   ],
   "source": [
    "final_df = harvest_data_from_extended_senses(auth, \n",
    "                            f\"{lemma}_{pos}\")"
   ]
  },
  {
   "cell_type": "code",
   "execution_count": 32,
   "metadata": {},
   "outputs": [
    {
     "output_type": "execute_result",
     "data": {
      "text/plain": [
       "              sense_id                                         definition  \\\n",
       "0  cautel_nn01-9882545           Cunning, craftiness, wiliness, trickery.   \n",
       "1  cautel_nn01-9882545           Cunning, craftiness, wiliness, trickery.   \n",
       "2  cautel_nn01-9882545           Cunning, craftiness, wiliness, trickery.   \n",
       "3  cautel_nn01-9882545           Cunning, craftiness, wiliness, trickery.   \n",
       "4  cautel_nn01-9882477  A crafty device, artifice, stratagem; a trick,...   \n",
       "\n",
       "       word_id   lemma         quotation_id  \\\n",
       "0  cautel_nn01  cautel  cautel_nn01-9882548   \n",
       "1  cautel_nn01  cautel  cautel_nn01-9882557   \n",
       "2  cautel_nn01  cautel  cautel_nn01-9882564   \n",
       "3  cautel_nn01  cautel  cautel_nn01-9882571   \n",
       "4  cautel_nn01  cautel  cautel_nn01-9882480   \n",
       "\n",
       "                                              source  \\\n",
       "0  {'title': 'Troy-bk.', 'author': 'J. Barbour', ...   \n",
       "1  {'title': 'P. Pl. Crede', 'author': None, 'gen...   \n",
       "2  {'title': 'Act 2 & 3 Edw. VI', 'author': None,...   \n",
       "3  {'title': None, 'author': 'C. Hatton', 'gender...   \n",
       "4  {'title': 'Serm.', 'author': 'J. Wyclif', 'gen...   \n",
       "\n",
       "                                                text    year  \n",
       "0  {'keyword': 'cawteile', 'full_text': 'A, what ...  1375.0  \n",
       "1  {'keyword': 'cautel', 'full_text': 'But knewen...  1394.0  \n",
       "2  {'keyword': 'Cautele', 'full_text': 'Thieves, ...  1548.0  \n",
       "3  {'keyword': 'cawtell', 'full_text': 'Be free f...  1580.0  \n",
       "4  {'keyword': 'cautelis', 'full_text': 'Make kno...  1379.0  "
      ],
      "text/html": "<div>\n<style scoped>\n    .dataframe tbody tr th:only-of-type {\n        vertical-align: middle;\n    }\n\n    .dataframe tbody tr th {\n        vertical-align: top;\n    }\n\n    .dataframe thead th {\n        text-align: right;\n    }\n</style>\n<table border=\"1\" class=\"dataframe\">\n  <thead>\n    <tr style=\"text-align: right;\">\n      <th></th>\n      <th>sense_id</th>\n      <th>definition</th>\n      <th>word_id</th>\n      <th>lemma</th>\n      <th>quotation_id</th>\n      <th>source</th>\n      <th>text</th>\n      <th>year</th>\n    </tr>\n  </thead>\n  <tbody>\n    <tr>\n      <th>0</th>\n      <td>cautel_nn01-9882545</td>\n      <td>Cunning, craftiness, wiliness, trickery.</td>\n      <td>cautel_nn01</td>\n      <td>cautel</td>\n      <td>cautel_nn01-9882548</td>\n      <td>{'title': 'Troy-bk.', 'author': 'J. Barbour', ...</td>\n      <td>{'keyword': 'cawteile', 'full_text': 'A, what ...</td>\n      <td>1375.0</td>\n    </tr>\n    <tr>\n      <th>1</th>\n      <td>cautel_nn01-9882545</td>\n      <td>Cunning, craftiness, wiliness, trickery.</td>\n      <td>cautel_nn01</td>\n      <td>cautel</td>\n      <td>cautel_nn01-9882557</td>\n      <td>{'title': 'P. Pl. Crede', 'author': None, 'gen...</td>\n      <td>{'keyword': 'cautel', 'full_text': 'But knewen...</td>\n      <td>1394.0</td>\n    </tr>\n    <tr>\n      <th>2</th>\n      <td>cautel_nn01-9882545</td>\n      <td>Cunning, craftiness, wiliness, trickery.</td>\n      <td>cautel_nn01</td>\n      <td>cautel</td>\n      <td>cautel_nn01-9882564</td>\n      <td>{'title': 'Act 2 &amp; 3 Edw. VI', 'author': None,...</td>\n      <td>{'keyword': 'Cautele', 'full_text': 'Thieves, ...</td>\n      <td>1548.0</td>\n    </tr>\n    <tr>\n      <th>3</th>\n      <td>cautel_nn01-9882545</td>\n      <td>Cunning, craftiness, wiliness, trickery.</td>\n      <td>cautel_nn01</td>\n      <td>cautel</td>\n      <td>cautel_nn01-9882571</td>\n      <td>{'title': None, 'author': 'C. Hatton', 'gender...</td>\n      <td>{'keyword': 'cawtell', 'full_text': 'Be free f...</td>\n      <td>1580.0</td>\n    </tr>\n    <tr>\n      <th>4</th>\n      <td>cautel_nn01-9882477</td>\n      <td>A crafty device, artifice, stratagem; a trick,...</td>\n      <td>cautel_nn01</td>\n      <td>cautel</td>\n      <td>cautel_nn01-9882480</td>\n      <td>{'title': 'Serm.', 'author': 'J. Wyclif', 'gen...</td>\n      <td>{'keyword': 'cautelis', 'full_text': 'Make kno...</td>\n      <td>1379.0</td>\n    </tr>\n  </tbody>\n</table>\n</div>"
     },
     "metadata": {},
     "execution_count": 32
    }
   ],
   "source": [
    "final_df.head()"
   ]
  },
  {
   "source": [
    "# Filter Senses"
   ],
   "cell_type": "markdown",
   "metadata": {}
  },
  {
   "cell_type": "code",
   "execution_count": 4,
   "metadata": {},
   "outputs": [],
   "source": [
    "lemma,pos = 'machine','NN'\n",
    "df = pd.read_pickle(f'./data/extended_senses_{lemma}_{pos}.pickle')\n"
   ]
  },
  {
   "cell_type": "code",
   "execution_count": 5,
   "metadata": {},
   "outputs": [
    {
     "output_type": "execute_result",
     "data": {
      "text/plain": [
       "                                          categories  \\\n",
       "0   {'topic': [], 'usage': [['rare']], 'region': []}   \n",
       "1  {'topic': [['Military', 'Weaponry']], 'usage':...   \n",
       "2           {'topic': [], 'usage': [], 'region': []}   \n",
       "\n",
       "                                           daterange  \\\n",
       "0  {'end': None, 'start': 1545, 'obsolete': False...   \n",
       "1  {'end': None, 'start': 1583, 'obsolete': False...   \n",
       "2  {'end': 1707, 'start': 1595, 'obsolete': True,...   \n",
       "\n",
       "                                          definition        first_use  \\\n",
       "0  A material or immaterial structure, esp. the f...       J. Schäfer   \n",
       "1  A military engine or siege-tower. Cf. war mach...  Brian Melbancke   \n",
       "2                  spec. A scheme or plot. Obsolete.      Elizabeth I   \n",
       "\n",
       "                      id    lemma  main_current_sense  \\\n",
       "0  machine_nn01-38473945  machine               False   \n",
       "1  machine_nn01-38474233  machine               False   \n",
       "2  machine_nn01-38474097  machine               False   \n",
       "\n",
       "                                                meta notes  \\\n",
       "0  {'created': 1904, 'revised': True, 'updated': ...    []   \n",
       "1  {'created': 1904, 'revised': True, 'updated': ...    []   \n",
       "2  {'created': 1904, 'revised': True, 'updated': ...    []   \n",
       "\n",
       "             oed_reference                                            oed_url  \\\n",
       "0  machine, n., sense I.1a  https://www.oed.com/view/Entry/111850#eid38473945   \n",
       "1  machine, n., sense II.3  https://www.oed.com/view/Entry/111850#eid38474233   \n",
       "2  machine, n., sense I.1b  https://www.oed.com/view/Entry/111850#eid38474097   \n",
       "\n",
       "  part_of_speech                                     provenance  \\\n",
       "0             NN  [[machine_nn01-38473945, seed, machine_nn01]]   \n",
       "1             NN  [[machine_nn01-38474233, seed, machine_nn01]]   \n",
       "2             NN  [[machine_nn01-38474097, seed, machine_nn01]]   \n",
       "\n",
       "  provenance_type                                      quotation_ids  \\\n",
       "0            seed  [machine_nn01-38473950, machine_nn01-38473961,...   \n",
       "1            seed  [machine_nn01-38474243, machine_nn01-38474252,...   \n",
       "2            seed  [machine_nn01-38474102, machine_nn01-38474122,...   \n",
       "\n",
       "                                  semantic_class_ids transitivity  \\\n",
       "0  [[1, 111290, 118635, 119024, 120162, 120172], ...         None   \n",
       "1  [[153072, 160439, 163207, 163208, 163377, 1633...         None   \n",
       "2  [[1, 84689, 87987, 87988, 87989, 88083, 88109,...         None   \n",
       "\n",
       "        word_id semantic_class_last_id  \n",
       "0  machine_nn01       [120172, 120173]  \n",
       "1  machine_nn01               [163378]  \n",
       "2  machine_nn01                [88126]  "
      ],
      "text/html": "<div>\n<style scoped>\n    .dataframe tbody tr th:only-of-type {\n        vertical-align: middle;\n    }\n\n    .dataframe tbody tr th {\n        vertical-align: top;\n    }\n\n    .dataframe thead th {\n        text-align: right;\n    }\n</style>\n<table border=\"1\" class=\"dataframe\">\n  <thead>\n    <tr style=\"text-align: right;\">\n      <th></th>\n      <th>categories</th>\n      <th>daterange</th>\n      <th>definition</th>\n      <th>first_use</th>\n      <th>id</th>\n      <th>lemma</th>\n      <th>main_current_sense</th>\n      <th>meta</th>\n      <th>notes</th>\n      <th>oed_reference</th>\n      <th>oed_url</th>\n      <th>part_of_speech</th>\n      <th>provenance</th>\n      <th>provenance_type</th>\n      <th>quotation_ids</th>\n      <th>semantic_class_ids</th>\n      <th>transitivity</th>\n      <th>word_id</th>\n      <th>semantic_class_last_id</th>\n    </tr>\n  </thead>\n  <tbody>\n    <tr>\n      <th>0</th>\n      <td>{'topic': [], 'usage': [['rare']], 'region': []}</td>\n      <td>{'end': None, 'start': 1545, 'obsolete': False...</td>\n      <td>A material or immaterial structure, esp. the f...</td>\n      <td>J. Schäfer</td>\n      <td>machine_nn01-38473945</td>\n      <td>machine</td>\n      <td>False</td>\n      <td>{'created': 1904, 'revised': True, 'updated': ...</td>\n      <td>[]</td>\n      <td>machine, n., sense I.1a</td>\n      <td>https://www.oed.com/view/Entry/111850#eid38473945</td>\n      <td>NN</td>\n      <td>[[machine_nn01-38473945, seed, machine_nn01]]</td>\n      <td>seed</td>\n      <td>[machine_nn01-38473950, machine_nn01-38473961,...</td>\n      <td>[[1, 111290, 118635, 119024, 120162, 120172], ...</td>\n      <td>None</td>\n      <td>machine_nn01</td>\n      <td>[120172, 120173]</td>\n    </tr>\n    <tr>\n      <th>1</th>\n      <td>{'topic': [['Military', 'Weaponry']], 'usage':...</td>\n      <td>{'end': None, 'start': 1583, 'obsolete': False...</td>\n      <td>A military engine or siege-tower. Cf. war mach...</td>\n      <td>Brian Melbancke</td>\n      <td>machine_nn01-38474233</td>\n      <td>machine</td>\n      <td>False</td>\n      <td>{'created': 1904, 'revised': True, 'updated': ...</td>\n      <td>[]</td>\n      <td>machine, n., sense II.3</td>\n      <td>https://www.oed.com/view/Entry/111850#eid38474233</td>\n      <td>NN</td>\n      <td>[[machine_nn01-38474233, seed, machine_nn01]]</td>\n      <td>seed</td>\n      <td>[machine_nn01-38474243, machine_nn01-38474252,...</td>\n      <td>[[153072, 160439, 163207, 163208, 163377, 1633...</td>\n      <td>None</td>\n      <td>machine_nn01</td>\n      <td>[163378]</td>\n    </tr>\n    <tr>\n      <th>2</th>\n      <td>{'topic': [], 'usage': [], 'region': []}</td>\n      <td>{'end': 1707, 'start': 1595, 'obsolete': True,...</td>\n      <td>spec. A scheme or plot. Obsolete.</td>\n      <td>Elizabeth I</td>\n      <td>machine_nn01-38474097</td>\n      <td>machine</td>\n      <td>False</td>\n      <td>{'created': 1904, 'revised': True, 'updated': ...</td>\n      <td>[]</td>\n      <td>machine, n., sense I.1b</td>\n      <td>https://www.oed.com/view/Entry/111850#eid38474097</td>\n      <td>NN</td>\n      <td>[[machine_nn01-38474097, seed, machine_nn01]]</td>\n      <td>seed</td>\n      <td>[machine_nn01-38474102, machine_nn01-38474122,...</td>\n      <td>[[1, 84689, 87987, 87988, 87989, 88083, 88109,...</td>\n      <td>None</td>\n      <td>machine_nn01</td>\n      <td>[88126]</td>\n    </tr>\n  </tbody>\n</table>\n</div>"
     },
     "metadata": {},
     "execution_count": 5
    }
   ],
   "source": [
    "df[df.provenance_type=='seed'].head(3)"
   ]
  },
  {
   "cell_type": "code",
   "execution_count": 6,
   "metadata": {},
   "outputs": [
    {
     "output_type": "stream",
     "name": "stdout",
     "text": [
      "# senses before filtering by date = 517\n# senses after filtering by date = 418\n\n\n# of seed senses 25 \n# of synonyms 370 \n# of branch senses 0\n\n\n# of seeds selected 2 \n# of synonyms selected 10 \n# of branches selected 0\n{'energizer_nn01-1246574970', 'primummobile_nn01-28369573', 'turingmachine_nn01-17499756', 'primemover_nn01-28348676', 'mechanicaladvantage_nn01-37502752', 'machine_nn01-38475835', 'mover_nn01-35820685', 'machinepower_nn01-38476982', 'power_nn01-28687898', 'biocomputer_nn01-11753081', 'generator_nn01-135539783', 'machine_nn01-38475923'}\n"
     ]
    }
   ],
   "source": [
    "senses = filter_senses(df,\n",
    "                       {'machine_nn01-38475835','machine_nn01-38475923'},\n",
    "                       relations = ['seed','synonym'], # 'all', # 'descendant','sibling', 'descendant','sibling'\n",
    "                       expand_seeds=True,\n",
    "                       expand_synonyms=True,\n",
    "                       start=1750, \n",
    "                       end=2000\n",
    "                      )\n",
    "print(senses)"
   ]
  },
  {
   "source": [
    "# Filter quotations"
   ],
   "cell_type": "markdown",
   "metadata": {}
  },
  {
   "cell_type": "code",
   "execution_count": 62,
   "metadata": {},
   "outputs": [],
   "source": [
    "lemma,pos = 'machine','NN'\n",
    "df_source = pd.read_pickle(f'./data/extended_senses_{lemma}_{pos}.pickle')\n",
    "df_quotations = pd.read_pickle(f'./data/sfrel_quotations_{lemma}_{pos}.pickle')"
   ]
  },
  {
   "cell_type": "code",
   "execution_count": 63,
   "metadata": {},
   "outputs": [
    {
     "output_type": "execute_result",
     "data": {
      "text/plain": [
       "              sense_id                                definition      word_id  \\\n",
       "0  cautel_nn01-9882545  Cunning, craftiness, wiliness, trickery.  cautel_nn01   \n",
       "1  cautel_nn01-9882545  Cunning, craftiness, wiliness, trickery.  cautel_nn01   \n",
       "2  cautel_nn01-9882545  Cunning, craftiness, wiliness, trickery.  cautel_nn01   \n",
       "\n",
       "    lemma         quotation_id  \\\n",
       "0  cautel  cautel_nn01-9882548   \n",
       "1  cautel  cautel_nn01-9882557   \n",
       "2  cautel  cautel_nn01-9882564   \n",
       "\n",
       "                                              source  \\\n",
       "0  {'title': 'Troy-bk.', 'author': 'J. Barbour', ...   \n",
       "1  {'title': 'P. Pl. Crede', 'author': None, 'gen...   \n",
       "2  {'title': 'Act 2 & 3 Edw. VI', 'author': None,...   \n",
       "\n",
       "                                                text    year  \n",
       "0  {'keyword': 'cawteile', 'full_text': 'A, what ...  1375.0  \n",
       "1  {'keyword': 'cautel', 'full_text': 'But knewen...  1394.0  \n",
       "2  {'keyword': 'Cautele', 'full_text': 'Thieves, ...  1548.0  "
      ],
      "text/html": "<div>\n<style scoped>\n    .dataframe tbody tr th:only-of-type {\n        vertical-align: middle;\n    }\n\n    .dataframe tbody tr th {\n        vertical-align: top;\n    }\n\n    .dataframe thead th {\n        text-align: right;\n    }\n</style>\n<table border=\"1\" class=\"dataframe\">\n  <thead>\n    <tr style=\"text-align: right;\">\n      <th></th>\n      <th>sense_id</th>\n      <th>definition</th>\n      <th>word_id</th>\n      <th>lemma</th>\n      <th>quotation_id</th>\n      <th>source</th>\n      <th>text</th>\n      <th>year</th>\n    </tr>\n  </thead>\n  <tbody>\n    <tr>\n      <th>0</th>\n      <td>cautel_nn01-9882545</td>\n      <td>Cunning, craftiness, wiliness, trickery.</td>\n      <td>cautel_nn01</td>\n      <td>cautel</td>\n      <td>cautel_nn01-9882548</td>\n      <td>{'title': 'Troy-bk.', 'author': 'J. Barbour', ...</td>\n      <td>{'keyword': 'cawteile', 'full_text': 'A, what ...</td>\n      <td>1375.0</td>\n    </tr>\n    <tr>\n      <th>1</th>\n      <td>cautel_nn01-9882545</td>\n      <td>Cunning, craftiness, wiliness, trickery.</td>\n      <td>cautel_nn01</td>\n      <td>cautel</td>\n      <td>cautel_nn01-9882557</td>\n      <td>{'title': 'P. Pl. Crede', 'author': None, 'gen...</td>\n      <td>{'keyword': 'cautel', 'full_text': 'But knewen...</td>\n      <td>1394.0</td>\n    </tr>\n    <tr>\n      <th>2</th>\n      <td>cautel_nn01-9882545</td>\n      <td>Cunning, craftiness, wiliness, trickery.</td>\n      <td>cautel_nn01</td>\n      <td>cautel</td>\n      <td>cautel_nn01-9882564</td>\n      <td>{'title': 'Act 2 &amp; 3 Edw. VI', 'author': None,...</td>\n      <td>{'keyword': 'Cautele', 'full_text': 'Thieves, ...</td>\n      <td>1548.0</td>\n    </tr>\n  </tbody>\n</table>\n</div>"
     },
     "metadata": {},
     "execution_count": 63
    }
   ],
   "source": [
    "df_quotations.head(3)"
   ]
  },
  {
   "cell_type": "code",
   "execution_count": 42,
   "metadata": {},
   "outputs": [
    {
     "output_type": "stream",
     "name": "stdout",
     "text": [
      "# senses before filtering by date = 517\n# senses after filtering by date = 418\n\n\n# of seed senses 25 \n# of synonyms 370 \n# of branch senses 0\n\n\n# of seeds selected 2 \n# of synonyms selected 10 \n# of branches selected 0\n"
     ]
    }
   ],
   "source": [
    "senses = filter_senses(df,\n",
    "                       {'machine_nn01-38475835','machine_nn01-38475923'},\n",
    "                       relations = ['seed','synonym'], # 'all', # 'descendant','sibling', 'descendant','sibling'\n",
    "                       expand_seeds=True,\n",
    "                       expand_synonyms=True,\n",
    "                       start=1750, \n",
    "                       end=2000\n",
    "                      )"
   ]
  },
  {
   "cell_type": "code",
   "execution_count": 43,
   "metadata": {},
   "outputs": [
    {
     "output_type": "execute_result",
     "data": {
      "text/plain": [
       "{'biocomputer_nn01-11753081',\n",
       " 'energizer_nn01-1246574970',\n",
       " 'generator_nn01-135539783',\n",
       " 'machine_nn01-38475835',\n",
       " 'machine_nn01-38475923',\n",
       " 'machinepower_nn01-38476982',\n",
       " 'mechanicaladvantage_nn01-37502752',\n",
       " 'mover_nn01-35820685',\n",
       " 'power_nn01-28687898',\n",
       " 'primemover_nn01-28348676',\n",
       " 'primummobile_nn01-28369573',\n",
       " 'turingmachine_nn01-17499756'}"
      ]
     },
     "metadata": {},
     "execution_count": 43
    }
   ],
   "source": [
    "senses"
   ]
  },
  {
   "cell_type": "code",
   "execution_count": 44,
   "metadata": {},
   "outputs": [
    {
     "output_type": "execute_result",
     "data": {
      "text/plain": [
       "(57, 11)"
      ]
     },
     "metadata": {},
     "execution_count": 44
    }
   ],
   "source": [
    "quotations = obtain_quotations_for_senses(df_quotations,\n",
    "                                df_source,                  \n",
    "                                senses,\n",
    "                                start=1760,end=2000)\n",
    "quotations.shape"
   ]
  },
  {
   "cell_type": "code",
   "execution_count": 45,
   "metadata": {},
   "outputs": [
    {
     "output_type": "execute_result",
     "data": {
      "text/plain": [
       "         keyword                                          full_text  \\\n",
       "3089   generator  Mr. Perkins constructs a generator consisting ...   \n",
       "3090  Generators  Generators are constructed either to work with...   \n",
       "3091   Generator  Patent Photogen, or Light Generator, to be use...   \n",
       "\n",
       "      keyword_offset                          title      author gender  \\\n",
       "3089            25.0                Manchester Iris        None   None   \n",
       "3090             0.0         Knapp's Chem. Technol.  E. Ronalds   male   \n",
       "3091            26.0  Catal. 10th Exhib. Inventions        None   None   \n",
       "\n",
       "        year                  sense_id         word_id  \\\n",
       "3089  1823.0  generator_nn01-135539783  generator_nn01   \n",
       "3090  1854.0  generator_nn01-135539783  generator_nn01   \n",
       "3091  1858.0  generator_nn01-135539783  generator_nn01   \n",
       "\n",
       "                  quotation_id  \\\n",
       "3089  generator_nn01-135539794   \n",
       "3090    generator_nn01-3060746   \n",
       "3091  generator_nn01-135539809   \n",
       "\n",
       "                                             definition  \n",
       "3089  An apparatus or device used for generating som...  \n",
       "3090  An apparatus or device used for generating som...  \n",
       "3091  An apparatus or device used for generating som...  "
      ],
      "text/html": "<div>\n<style scoped>\n    .dataframe tbody tr th:only-of-type {\n        vertical-align: middle;\n    }\n\n    .dataframe tbody tr th {\n        vertical-align: top;\n    }\n\n    .dataframe thead th {\n        text-align: right;\n    }\n</style>\n<table border=\"1\" class=\"dataframe\">\n  <thead>\n    <tr style=\"text-align: right;\">\n      <th></th>\n      <th>keyword</th>\n      <th>full_text</th>\n      <th>keyword_offset</th>\n      <th>title</th>\n      <th>author</th>\n      <th>gender</th>\n      <th>year</th>\n      <th>sense_id</th>\n      <th>word_id</th>\n      <th>quotation_id</th>\n      <th>definition</th>\n    </tr>\n  </thead>\n  <tbody>\n    <tr>\n      <th>3089</th>\n      <td>generator</td>\n      <td>Mr. Perkins constructs a generator consisting ...</td>\n      <td>25.0</td>\n      <td>Manchester Iris</td>\n      <td>None</td>\n      <td>None</td>\n      <td>1823.0</td>\n      <td>generator_nn01-135539783</td>\n      <td>generator_nn01</td>\n      <td>generator_nn01-135539794</td>\n      <td>An apparatus or device used for generating som...</td>\n    </tr>\n    <tr>\n      <th>3090</th>\n      <td>Generators</td>\n      <td>Generators are constructed either to work with...</td>\n      <td>0.0</td>\n      <td>Knapp's Chem. Technol.</td>\n      <td>E. Ronalds</td>\n      <td>male</td>\n      <td>1854.0</td>\n      <td>generator_nn01-135539783</td>\n      <td>generator_nn01</td>\n      <td>generator_nn01-3060746</td>\n      <td>An apparatus or device used for generating som...</td>\n    </tr>\n    <tr>\n      <th>3091</th>\n      <td>Generator</td>\n      <td>Patent Photogen, or Light Generator, to be use...</td>\n      <td>26.0</td>\n      <td>Catal. 10th Exhib. Inventions</td>\n      <td>None</td>\n      <td>None</td>\n      <td>1858.0</td>\n      <td>generator_nn01-135539783</td>\n      <td>generator_nn01</td>\n      <td>generator_nn01-135539809</td>\n      <td>An apparatus or device used for generating som...</td>\n    </tr>\n  </tbody>\n</table>\n</div>"
     },
     "metadata": {},
     "execution_count": 45
    }
   ],
   "source": [
    "quotations.head(3)"
   ]
  },
  {
   "cell_type": "code",
   "execution_count": 46,
   "metadata": {},
   "outputs": [
    {
     "output_type": "execute_result",
     "data": {
      "text/plain": [
       "array(['generator_nn01-135539783', 'machinepower_nn01-38476982',\n",
       "       'machine_nn01-38475923', 'machine_nn01-38475835',\n",
       "       'turingmachine_nn01-17499756', 'mechanicaladvantage_nn01-37502752',\n",
       "       'power_nn01-28687898', 'mover_nn01-35820685',\n",
       "       'energizer_nn01-1246574970', 'biocomputer_nn01-11753081',\n",
       "       'primummobile_nn01-28369573', 'primemover_nn01-28348676'],\n",
       "      dtype=object)"
      ]
     },
     "metadata": {},
     "execution_count": 46
    }
   ],
   "source": [
    "quotations.sense_id.unique()"
   ]
  },
  {
   "source": [
    "# Binarize labels"
   ],
   "cell_type": "markdown",
   "metadata": {}
  },
  {
   "cell_type": "code",
   "execution_count": 60,
   "metadata": {},
   "outputs": [
    {
     "output_type": "stream",
     "name": "stdout",
     "text": [
      "Index(['sense_id', 'definition', 'word_id', 'lemma', 'quotation_id', 'source',\n       'text', 'year'],\n      dtype='object')\n# senses before filtering by date = 517\n# senses after filtering by date = 368\n\n\n# of seed senses 23 \n# of synonyms 324 \n# of branch senses 0\n\n\n# of seeds selected 1 \n# of synonyms selected 8 \n# of branches selected 0\n"
     ]
    }
   ],
   "source": [
    "lemma, pos = 'machine','NN'\n",
    "senses = {'machine_nn01-38475835','machine_nn01-38475923'}\n",
    "relations = ['seed','synonym'] # 'descendant','sibling'\n",
    "\n",
    "labelled_quotations = binarize(f'{lemma}_{pos}', \n",
    "                        senses, \n",
    "                        relations,\n",
    "                        strict_filter=True,\n",
    "                        start=1700,\n",
    "                        end=1920)"
   ]
  },
  {
   "cell_type": "code",
   "execution_count": 64,
   "metadata": {},
   "outputs": [
    {
     "output_type": "execute_result",
     "data": {
      "text/plain": [
       "Index(['sense_id', 'definition', 'word_id', 'lemma', 'quotation_id', 'source',\n",
       "       'text', 'year', 'label', 'id', 'daterange', 'provenance',\n",
       "       'provenance_type', 'relation_to_core_senses',\n",
       "       'relation_to_seed_senses'],\n",
       "      dtype='object')"
      ]
     },
     "metadata": {},
     "execution_count": 64
    }
   ],
   "source": [
    "labelled_quotations.columns"
   ]
  },
  {
   "cell_type": "code",
   "execution_count": 65,
   "metadata": {},
   "outputs": [
    {
     "output_type": "execute_result",
     "data": {
      "text/plain": [
       "0    407\n",
       "1     37\n",
       "Name: label, dtype: int64"
      ]
     },
     "metadata": {},
     "execution_count": 65
    }
   ],
   "source": [
    "labelled_quotations.label.value_counts()"
   ]
  },
  {
   "cell_type": "code",
   "execution_count": 66,
   "metadata": {},
   "outputs": [
    {
     "output_type": "execute_result",
     "data": {
      "text/plain": [
       "array(['generator_nn01-135539783', 'machinepower_nn01-38476982',\n",
       "       'machine_nn01-38475923', 'mechanicaladvantage_nn01-37502752',\n",
       "       'power_nn01-28687898', 'mover_nn01-35820685',\n",
       "       'energizer_nn01-1246574970', 'primummobile_nn01-28369573',\n",
       "       'primemover_nn01-28348676'], dtype=object)"
      ]
     },
     "metadata": {},
     "execution_count": 66
    }
   ],
   "source": [
    "labelled_quotations[labelled_quotations.label=='1'].sense_id.unique()"
   ]
  },
  {
   "cell_type": "code",
   "execution_count": 56,
   "metadata": {},
   "outputs": [
    {
     "output_type": "execute_result",
     "data": {
      "text/plain": [
       "array(['generator_nn01-3060690', 'generator_nn01-3060819',\n",
       "       'generator_nn01-3060789', 'generator_nn01-3060786',\n",
       "       'generator_nn01-3060725', 'generator_nn01-3060852',\n",
       "       'generator_nn01-135539755', 'machine_nn01-38473945',\n",
       "       'machine_nn01-38474233', 'machine_nn01-38474097',\n",
       "       'machine_nn01-38474140', 'machine_nn01-38474301',\n",
       "       'machine_nn01-38474548', 'machine_nn01-38475164',\n",
       "       'machine_nn01-38475286', 'machine_nn01-38474405',\n",
       "       'machine_nn01-38475994', 'machine_nn01-38476096',\n",
       "       'machine_nn01-38474607', 'machine_nn01-38476316',\n",
       "       'machine_nn01-38474820', 'machine_nn01-38475494',\n",
       "       'machine_nn01-38474877', 'machine_nn01-38474974',\n",
       "       'machine_nn01-38476397', 'machine_nn01-38475013',\n",
       "       'machine_nn01-38475772', 'machine_nn01-38475046',\n",
       "       'machine_nn01-38475099', 'power_nn01-28684730',\n",
       "       'power_nn01-28686005', 'power_nn01-28684973',\n",
       "       'power_nn01-28685458', 'power_nn01-28685148',\n",
       "       'power_nn01-28686226', 'power_nn01-28684355',\n",
       "       'power_nn01-28686314', 'power_nn01-28685727',\n",
       "       'power_nn01-110297806', 'power_nn01-28686646',\n",
       "       'power_nn01-28687020', 'power_nn01-28685893',\n",
       "       'power_nn01-28684538', 'power_nn01-28687170',\n",
       "       'power_nn01-28686446', 'power_nn01-28686885',\n",
       "       'power_nn01-28687471', 'power_nn01-28687446',\n",
       "       'power_nn01-28687561', 'power_nn01-28686566',\n",
       "       'power_nn01-28688384', 'power_nn01-52944158',\n",
       "       'power_nn01-28684910', 'power_nn01-28688482',\n",
       "       'power_nn01-28685253', 'power_nn01-28688218',\n",
       "       'power_nn01-224965906', 'power_nn01-28685989',\n",
       "       'power_nn01-28687732', 'power_nn01-52944172',\n",
       "       'power_nn01-28687774', 'mover_nn01-35820459',\n",
       "       'mover_nn01-35820773', 'mover_nn01-35820598',\n",
       "       'mover_nn01-35821002', 'mover_nn01-35821082',\n",
       "       'mover_nn01-35821153', 'mover_nn01-35820949',\n",
       "       'mover_nn01-35821230', 'energizer_nn01-1223713530',\n",
       "       'energizer_nn01-5621953', 'energizer_nn01-5622006',\n",
       "       'primummobile_nn01-28369412', 'primemover_nn01-28348561',\n",
       "       'primemover_nn01-28348845'], dtype=object)"
      ]
     },
     "metadata": {},
     "execution_count": 56
    }
   ],
   "source": [
    "labelled_quotations[labelled_quotations.label=='0'].sense_id.unique()"
   ]
  },
  {
   "cell_type": "code",
   "execution_count": 57,
   "metadata": {},
   "outputs": [
    {
     "output_type": "execute_result",
     "data": {
      "text/plain": [
       "set()"
      ]
     },
     "metadata": {},
     "execution_count": 57
    }
   ],
   "source": [
    "# this should be empty\n",
    "set(labelled_quotations[labelled_quotations.label=='0'].sense_id.unique()\n",
    "        ).intersection(labelled_quotations[labelled_quotations.label=='1'].sense_id.unique())"
   ]
  },
  {
   "cell_type": "code",
   "execution_count": 58,
   "metadata": {},
   "outputs": [
    {
     "output_type": "execute_result",
     "data": {
      "text/plain": [
       "True"
      ]
     },
     "metadata": {},
     "execution_count": 58
    }
   ],
   "source": [
    "# should return True\n",
    "set(labelled_quotations[labelled_quotations.label=='0'].word_id.unique()\n",
    "        ).union(labelled_quotations[labelled_quotations.label=='1'].word_id.unique()) == set(labelled_quotations.word_id.unique())"
   ]
  },
  {
   "cell_type": "code",
   "execution_count": null,
   "metadata": {},
   "outputs": [],
   "source": []
  }
 ]
}